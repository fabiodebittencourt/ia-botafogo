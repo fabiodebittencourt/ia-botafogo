{
 "cells": [
  {
   "cell_type": "markdown",
   "id": "184c39e7",
   "metadata": {},
   "source": [
    "### Bibliotecas"
   ]
  },
  {
   "cell_type": "code",
   "execution_count": 12,
   "id": "95fb1707",
   "metadata": {},
   "outputs": [],
   "source": [
    "import pandas as pd\n",
    "from datetime import datetime, date\n",
    "from matplotlib import pyplot as plt\n",
    "from scipy import stats\n",
    "from patsy import dmatrices\n",
    "from catboost import CatBoostRegressor, CatBoostClassifier\n",
    "from sklearn.model_selection import train_test_split, GridSearchCV\n",
    "from sklearn.metrics import mean_squared_error, mean_absolute_error, confusion_matrix, classification_report\n",
    "from sklearn.preprocessing import MinMaxScaler\n",
    "from math import sqrt\n",
    "import seaborn as sns\n",
    "import numpy as np\n",
    "import warnings\n",
    "warnings.filterwarnings(\"ignore\")"
   ]
  },
  {
   "cell_type": "markdown",
   "id": "1422de3a",
   "metadata": {},
   "source": [
    "### Importação dos Dados e Criação de Variáveis"
   ]
  },
  {
   "cell_type": "code",
   "execution_count": 14,
   "id": "e1d96fc8",
   "metadata": {},
   "outputs": [],
   "source": [
    "dataset_dados = pd.read_excel('botafogo_previsao_estadio.xlsx')"
   ]
  },
  {
   "cell_type": "code",
   "execution_count": 15,
   "id": "ac4572b5",
   "metadata": {},
   "outputs": [],
   "source": [
    "dataset_dados = dataset_dados.sort_values(by='data').reset_index(drop=True)"
   ]
  },
  {
   "cell_type": "markdown",
   "id": "385bef93",
   "metadata": {},
   "source": [
    "##### Datas"
   ]
  },
  {
   "cell_type": "code",
   "execution_count": 17,
   "id": "7424eef5",
   "metadata": {},
   "outputs": [],
   "source": [
    "dataset_dados['data'] = pd.to_datetime(dataset_dados['data'])"
   ]
  },
  {
   "cell_type": "code",
   "execution_count": 18,
   "id": "fdfda733",
   "metadata": {},
   "outputs": [],
   "source": [
    "dataset_dados['horario'] = dataset_dados['horario'].fillna('99:99:99')"
   ]
  },
  {
   "cell_type": "code",
   "execution_count": 19,
   "id": "d0c26f58",
   "metadata": {},
   "outputs": [],
   "source": [
    "dataset_dados = dataset_dados.assign(dia_semana=dataset_dados['data'].dt.weekday, hora=dataset_dados['horario'].astype('str').str.slice(stop=2).astype('int').replace({99:np.nan}),\n",
    "                     minuto=dataset_dados['horario'].astype('str').str.slice(start=3, stop=5).astype('int').replace({99:np.nan}))\n",
    "dataset_dados['horario'] = dataset_dados['horario'].replace({'99:99:99':np.nan})"
   ]
  },
  {
   "cell_type": "code",
   "execution_count": 20,
   "id": "331482a4",
   "metadata": {},
   "outputs": [],
   "source": [
    "dataset_dados['mes'] = dataset_dados['data'].dt.month"
   ]
  },
  {
   "cell_type": "code",
   "execution_count": 21,
   "id": "5d228461",
   "metadata": {},
   "outputs": [],
   "source": [
    "dataset_dados['dia_mes'] = dataset_dados['data'].dt.day"
   ]
  },
  {
   "cell_type": "markdown",
   "id": "b1b7651c",
   "metadata": {},
   "source": [
    "##### Resultados de Jogos"
   ]
  },
  {
   "cell_type": "code",
   "execution_count": 23,
   "id": "7b83df4b",
   "metadata": {},
   "outputs": [],
   "source": [
    "dataset_dados['resultado_temporario'] = dataset_dados['gols_mandante'] - dataset_dados['gols_visitantes']"
   ]
  },
  {
   "cell_type": "code",
   "execution_count": 24,
   "id": "5b9391d1",
   "metadata": {},
   "outputs": [],
   "source": [
    "dataset_dados = dataset_dados.assign(resultado_partida=dataset_dados['resultado_temporario'].map(lambda x: 0 if x == 0 else 1 if x > 0 else -1))"
   ]
  },
  {
   "cell_type": "code",
   "execution_count": 25,
   "id": "a9eb95b3",
   "metadata": {},
   "outputs": [],
   "source": [
    "dataset_dados.loc[dataset_dados[\n",
    "    (dataset_dados['time_mandante'] != 'Botafogo') &\n",
    "    (dataset_dados['resultado_partida'] == 1)\n",
    "].index, 'resultado_partida'] = -1"
   ]
  },
  {
   "cell_type": "code",
   "execution_count": 26,
   "id": "7edaedd7",
   "metadata": {},
   "outputs": [],
   "source": [
    "dataset_dados.loc[dataset_dados[\n",
    "    (dataset_dados['time_mandante'] != 'Botafogo') &\n",
    "    (dataset_dados['resultado_partida'] == -1)\n",
    "].index, 'resultado_partida'] = 1"
   ]
  },
  {
   "cell_type": "markdown",
   "id": "2a4a35a4",
   "metadata": {},
   "source": [
    "Resultados Consecutivos\n",
    "\n",
    "    Olhando para os últimos 5 jogos como vem sendo o \"momento\" do time:\n",
    "        Vitória: 1 ponto\n",
    "        Empate: 0 ponto\n",
    "        Derrota: -1 ponto\n",
    "        \n",
    "    Valor Máximo: 5 pontos\n",
    "    Valor Mínimo: -5 pontos"
   ]
  },
  {
   "cell_type": "code",
   "execution_count": 28,
   "id": "49da0de5",
   "metadata": {},
   "outputs": [],
   "source": [
    "#RESULTADOS CONSECUTIVOS\n",
    "\n",
    "dataset_consec = dataset_dados['resultado_partida'].shift(5, fill_value=0)\n",
    "\n",
    "for i in range(len(dataset_dados)):\n",
    "    valor = dataset_consec[i:5+i].sum()\n",
    "    dataset_dados.loc[i, 'resultados_consecutivos'] = valor\n",
    "    \n",
    "#RESULTADO ÚLTIMO JOGO\n",
    "\n",
    "dataset_ultimo = dataset_dados['resultado_partida'].shift(1, fill_value=0)\n",
    "\n",
    "for i in range(len(dataset_dados)):\n",
    "    valor = dataset_ultimo[i:5+i].sum()\n",
    "    dataset_dados.loc[i, 'resultados_ultimo_jogo'] = valor\n",
    "\n",
    "del dataset_consec, dataset_ultimo"
   ]
  },
  {
   "cell_type": "markdown",
   "id": "12190c65",
   "metadata": {},
   "source": [
    "##### Gols, Colocação e Time Adversário"
   ]
  },
  {
   "cell_type": "code",
   "execution_count": 30,
   "id": "2b202ebb",
   "metadata": {},
   "outputs": [],
   "source": [
    "dataset_dados.loc[:,['gols_botafogo','colocacao_botafogo','colocacao_adversario','time_adversario']] = dataset_dados.apply(lambda d: d[['gols_mandante','colocacao_mandante','colocacao_visitante','time_visitante']].rename(index={'gols_mandante':'gols_botafogo','colocacao_mandante':'colocacao_botafogo','colocacao_visitante':'colocacao_adversario','time_visitante':'time_adversario'})\n",
    "                            if d['time_mandante'] == 'Botafogo' \n",
    "                            else d[['gols_visitantes','colocacao_visitante','colocacao_mandante','time_mandante']].rename(index={'gols_visitantes':'gols_botafogo','colocacao_visitante':'colocacao_botafogo','colocacao_mandante':'colocacao_adversario','time_mandante':'time_adversario'}), axis=1)"
   ]
  },
  {
   "cell_type": "code",
   "execution_count": 31,
   "id": "f0c1b9b1",
   "metadata": {},
   "outputs": [],
   "source": [
    "dataset_gols = dataset_dados['gols_botafogo'].shift(5, fill_value=0)\n",
    "for i in range(len(dataset_dados)):\n",
    "    valor = dataset_gols[i+0:5+i].sum()\n",
    "    dataset_dados.loc[i, 'gols_botafogo_ultimos_jogos'] = valor\n",
    "del dataset_gols"
   ]
  },
  {
   "cell_type": "markdown",
   "id": "fee56d99",
   "metadata": {},
   "source": [
    "##### Percentual de Ocupacao"
   ]
  },
  {
   "cell_type": "code",
   "execution_count": 33,
   "id": "c490eb6c",
   "metadata": {},
   "outputs": [],
   "source": [
    "dataset_dados['percentual_ocupacao'] = round((dataset_dados['publico'] / dataset_dados['publico_max']) * 100, 2)"
   ]
  },
  {
   "cell_type": "markdown",
   "id": "032343da",
   "metadata": {},
   "source": [
    "##### Jogos de Mando Vendido ou Compartilhado"
   ]
  },
  {
   "cell_type": "code",
   "execution_count": 35,
   "id": "2c55fad1",
   "metadata": {},
   "outputs": [],
   "source": [
    "dados_mando_vendido = dataset_dados[(dataset_dados['resultado_financeiro'] != dataset_dados['custo_botafogo'])]\n",
    "index = dados_mando_vendido[~dados_mando_vendido['custo_botafogo'].isnull()].index"
   ]
  },
  {
   "cell_type": "code",
   "execution_count": 36,
   "id": "7ae377bd",
   "metadata": {},
   "outputs": [],
   "source": [
    "dataset_dados['mando_vendido_compartilhado'] = False\n",
    "dataset_dados.loc[index, 'mando_vendido_compartilhado'] = True"
   ]
  },
  {
   "cell_type": "markdown",
   "id": "43e02cf6",
   "metadata": {},
   "source": [
    "##### Prejuízo ou Lucro"
   ]
  },
  {
   "cell_type": "code",
   "execution_count": 38,
   "id": "825e8f6f",
   "metadata": {},
   "outputs": [],
   "source": [
    "index = dataset_dados[dataset_dados['custo_botafogo'] <= 0].index\n",
    "dataset_dados.loc[index, 'prejuizo_lucro'] = False\n",
    "index = dataset_dados[dataset_dados['custo_botafogo'] > 0].index\n",
    "dataset_dados.loc[index, 'prejuizo_lucro'] = True"
   ]
  },
  {
   "cell_type": "markdown",
   "id": "dc0a180b",
   "metadata": {},
   "source": [
    "Competições Internacionais não possuem o borderô publicado a partir de certa data, portanto vamos considerar uma regra:\n",
    "\n",
    "    Nunca houve prejuízo em jogos com 900000 reais de arrecadação"
   ]
  },
  {
   "cell_type": "code",
   "execution_count": 40,
   "id": "05d2b208",
   "metadata": {},
   "outputs": [],
   "source": [
    "index = dataset_dados[(dataset_dados['custo_botafogo'].isnull()) &\n",
    "              (dataset_dados['arrecadacao'] < 900000)\n",
    "             ].index\n",
    "dataset_dados.loc[index, 'prejuizo_lucro'] = False\n",
    "index = dataset_dados[(dataset_dados['custo_botafogo'].isnull()) &\n",
    "              (dataset_dados['arrecadacao'] >= 900000)\n",
    "             ].index\n",
    "dataset_dados.loc[index, 'prejuizo_lucro'] = True"
   ]
  },
  {
   "cell_type": "markdown",
   "id": "8ae6ae4c",
   "metadata": {},
   "source": [
    "### Dados Usáveis para o Modelo e Tratamentos"
   ]
  },
  {
   "cell_type": "code",
   "execution_count": 42,
   "id": "cee07f5c",
   "metadata": {},
   "outputs": [],
   "source": [
    "dataset_dados = dataset_dados[dataset_dados['time_mandante'] == 'Botafogo']\n",
    "dataset_dados = dataset_dados.reset_index(drop=True)"
   ]
  },
  {
   "cell_type": "markdown",
   "id": "20476ede",
   "metadata": {},
   "source": [
    "##### Distância dos Dias entre o Último Jogo em Casa"
   ]
  },
  {
   "cell_type": "code",
   "execution_count": 44,
   "id": "bda1492e",
   "metadata": {},
   "outputs": [],
   "source": [
    "dataset_dados['data_ultimo_jogo'] = dataset_dados['data'].shift(1)"
   ]
  },
  {
   "cell_type": "code",
   "execution_count": 45,
   "id": "cabe5e6e",
   "metadata": {},
   "outputs": [],
   "source": [
    "dataset_dados.loc[0,'data_ultimo_jogo'] = pd.to_datetime('2022-03-07')"
   ]
  },
  {
   "cell_type": "code",
   "execution_count": 46,
   "id": "4024039e",
   "metadata": {},
   "outputs": [],
   "source": [
    "dataset_dados.loc[:, 'dias_ultimo_jogo_casa'] = (dataset_dados['data'] - dataset_dados['data_ultimo_jogo']).dt.days"
   ]
  },
  {
   "cell_type": "markdown",
   "id": "456dd701",
   "metadata": {},
   "source": [
    "##### Tratamentos"
   ]
  },
  {
   "cell_type": "code",
   "execution_count": 48,
   "id": "f284f239",
   "metadata": {},
   "outputs": [
    {
     "data": {
      "text/plain": [
       "126"
      ]
     },
     "execution_count": 48,
     "metadata": {},
     "output_type": "execute_result"
    }
   ],
   "source": [
    "len(dataset_dados)"
   ]
  },
  {
   "cell_type": "code",
   "execution_count": 49,
   "id": "02d8b9b3",
   "metadata": {},
   "outputs": [
    {
     "data": {
      "text/plain": [
       "Index(['ano_campeonato', 'campeonato', 'fase', 'estádio', 'data', 'horario',\n",
       "       'temperatura', 'jogos_no_mes', 'rodada', 'tipo_partida', 'publico',\n",
       "       'publico_max', 'arrecadacao', 'despesas', 'impostos',\n",
       "       'resultado_financeiro', 'custo_botafogo', 'anunciou_poupar',\n",
       "       'time_mandante', 'time_visitante', 'estado_adversario', 'classico',\n",
       "       'eliminatorio', 'tecnico_botafogo', 'desfalques', 'colocacao_mandante',\n",
       "       'colocacao_visitante', 'gols_mandante', 'gols_visitantes', 'dia_semana',\n",
       "       'hora', 'minuto', 'mes', 'dia_mes', 'resultado_temporario',\n",
       "       'resultado_partida', 'resultados_consecutivos',\n",
       "       'resultados_ultimo_jogo', 'gols_botafogo', 'colocacao_botafogo',\n",
       "       'colocacao_adversario', 'time_adversario',\n",
       "       'gols_botafogo_ultimos_jogos', 'percentual_ocupacao',\n",
       "       'mando_vendido_compartilhado', 'prejuizo_lucro', 'data_ultimo_jogo',\n",
       "       'dias_ultimo_jogo_casa'],\n",
       "      dtype='object')"
      ]
     },
     "execution_count": 49,
     "metadata": {},
     "output_type": "execute_result"
    }
   ],
   "source": [
    "dataset_dados.columns"
   ]
  },
  {
   "cell_type": "code",
   "execution_count": 50,
   "id": "80e2cc30",
   "metadata": {},
   "outputs": [],
   "source": [
    "dataset_dados = dataset_dados.drop(columns=['resultado_temporario', 'gols_visitantes', 'gols_mandante',\n",
    "                                           'colocacao_visitante', 'colocacao_mandante', 'time_visitante', 'time_mandante',\n",
    "                                           'custo_botafogo', 'resultado_financeiro', 'impostos', 'despesas', 'arrecadacao',\n",
    "                                            'publico_max', 'publico', 'gols_botafogo', 'horario', 'data_ultimo_jogo'])"
   ]
  },
  {
   "cell_type": "code",
   "execution_count": 51,
   "id": "4f807983",
   "metadata": {},
   "outputs": [
    {
     "data": {
      "text/plain": [
       "Index(['ano_campeonato', 'campeonato', 'fase', 'estádio', 'data',\n",
       "       'temperatura', 'jogos_no_mes', 'rodada', 'tipo_partida',\n",
       "       'anunciou_poupar', 'estado_adversario', 'classico', 'eliminatorio',\n",
       "       'tecnico_botafogo', 'desfalques', 'dia_semana', 'hora', 'minuto', 'mes',\n",
       "       'dia_mes', 'resultado_partida', 'resultados_consecutivos',\n",
       "       'resultados_ultimo_jogo', 'colocacao_botafogo', 'colocacao_adversario',\n",
       "       'time_adversario', 'gols_botafogo_ultimos_jogos', 'percentual_ocupacao',\n",
       "       'mando_vendido_compartilhado', 'prejuizo_lucro',\n",
       "       'dias_ultimo_jogo_casa'],\n",
       "      dtype='object')"
      ]
     },
     "execution_count": 51,
     "metadata": {},
     "output_type": "execute_result"
    }
   ],
   "source": [
    "dataset_dados.columns"
   ]
  },
  {
   "cell_type": "code",
   "execution_count": 52,
   "id": "2112c8c9",
   "metadata": {},
   "outputs": [],
   "source": [
    "dataset_dados.loc[dataset_dados[dataset_dados['anunciou_poupar'] == 'SIM'].index, 'anunciou_poupar'] = True\n",
    "dataset_dados.loc[dataset_dados[dataset_dados['anunciou_poupar'].isnull()].index, 'anunciou_poupar'] = False\n",
    "dataset_dados.loc[dataset_dados[dataset_dados['classico'] == 'SIM'].index, 'classico'] = True\n",
    "dataset_dados.loc[dataset_dados[dataset_dados['classico'].isnull()].index, 'classico'] = False\n",
    "dataset_dados.loc[dataset_dados[dataset_dados['eliminatorio'] == 'SIM'].index, 'eliminatorio'] = True\n",
    "dataset_dados.loc[dataset_dados[dataset_dados['eliminatorio'].isnull()].index, 'eliminatorio'] = False"
   ]
  },
  {
   "cell_type": "code",
   "execution_count": 53,
   "id": "79012837",
   "metadata": {},
   "outputs": [
    {
     "data": {
      "text/plain": [
       "31"
      ]
     },
     "execution_count": 53,
     "metadata": {},
     "output_type": "execute_result"
    }
   ],
   "source": [
    "len(dataset_dados.columns)"
   ]
  },
  {
   "cell_type": "code",
   "execution_count": 54,
   "id": "5dc08e2b",
   "metadata": {},
   "outputs": [],
   "source": [
    "dataset_dados = pd.get_dummies(dataset_dados, columns=['campeonato', 'estádio', 'tipo_partida', 'estado_adversario',\n",
    "                                                       'tecnico_botafogo', 'time_adversario', 'fase'])"
   ]
  },
  {
   "cell_type": "code",
   "execution_count": 55,
   "id": "03e8c2e8",
   "metadata": {},
   "outputs": [],
   "source": [
    "dataset_dados = dataset_dados.astype({'anunciou_poupar': bool,\n",
    "                                      'classico': bool,\n",
    "                                      'eliminatorio': bool,\n",
    "                                       'prejuizo_lucro': bool\n",
    "                                     })"
   ]
  },
  {
   "cell_type": "code",
   "execution_count": 56,
   "id": "71d65c77",
   "metadata": {},
   "outputs": [],
   "source": [
    "dataset_previsao = dataset_dados[dataset_dados['data'] >= pd.to_datetime(date.today())]\n",
    "dataset_dados = dataset_dados[dataset_dados['data'] < pd.to_datetime(date.today())]\n",
    "dataset_dados = dataset_dados.drop(columns=['data'])\n",
    "dataset_previsao = dataset_previsao.drop(columns=['data'])\n",
    "dataset_dados = dataset_dados.reset_index(drop=True)"
   ]
  },
  {
   "cell_type": "code",
   "execution_count": 57,
   "id": "01dcc05e",
   "metadata": {},
   "outputs": [
    {
     "data": {
      "text/plain": [
       "105"
      ]
     },
     "execution_count": 57,
     "metadata": {},
     "output_type": "execute_result"
    }
   ],
   "source": [
    "len(dataset_dados)"
   ]
  },
  {
   "cell_type": "markdown",
   "id": "dc1a1f66-e21c-42a1-a9d6-944bddb5b021",
   "metadata": {},
   "source": [
    "##### Normalizações com Substituição por IQR e Box-Cox"
   ]
  },
  {
   "cell_type": "code",
   "execution_count": 59,
   "id": "e80f5625-b298-43b8-b524-1108aa4bc49c",
   "metadata": {},
   "outputs": [],
   "source": [
    "listaColunas = ['ano_campeonato', 'temperatura', 'jogos_no_mes', 'rodada', 'desfalques', 'dia_semana', 'hora', 'mes', 'dia_mes', 'colocacao_botafogo',\n",
    "                'colocacao_adversario', 'gols_botafogo_ultimos_jogos', 'dias_ultimo_jogo_casa']"
   ]
  },
  {
   "cell_type": "code",
   "execution_count": 60,
   "id": "ff0fc1b6-8f2d-4633-b57b-b736463a39cd",
   "metadata": {},
   "outputs": [],
   "source": [
    "for i in listaColunas:\n",
    "    \n",
    "    if stats.shapiro(dataset_dados[i])[1] < 0.05:\n",
    "    \n",
    "        quartilUm = np.percentile(dataset_dados[i], 25)\n",
    "        quartilTres = np.percentile(dataset_dados[i], 75)\n",
    "        iqr = (quartilTres - quartilUm) * 1.5\n",
    "        lim_superior = quartilTres + iqr\n",
    "        lim_inferior = quartilUm - iqr\n",
    "        \n",
    "        dataset_dados.loc[dataset_dados[dataset_dados[i] > lim_superior].index, i] = lim_superior\n",
    "        dataset_dados.loc[dataset_dados[dataset_dados[i] < lim_inferior].index, i] = lim_inferior\n",
    "    \n",
    "        if stats.shapiro(dataset_dados[i])[1] < 0.05:\n",
    "\n",
    "            dataset_dados.loc[dataset_dados[dataset_dados[i] <= 0].index, i] = 0.0000001\n",
    "            dataset_dados[i] = stats.boxcox(dataset_dados[i])[0]"
   ]
  },
  {
   "cell_type": "markdown",
   "id": "efa78434-73fd-4b1f-a78d-eeb3af05073d",
   "metadata": {},
   "source": [
    "##### Min Max Scaler"
   ]
  },
  {
   "cell_type": "code",
   "execution_count": 62,
   "id": "0f1a27f9-4735-413b-a43d-0f166e64fdbd",
   "metadata": {},
   "outputs": [],
   "source": [
    "for i in listaColunas:\n",
    "    scaler = MinMaxScaler()\n",
    "    dataset_dados[i] = scaler.fit_transform(dataset_dados[[i]])"
   ]
  },
  {
   "cell_type": "code",
   "execution_count": 63,
   "id": "2fe93104",
   "metadata": {},
   "outputs": [],
   "source": [
    "dataset_dados.to_csv('dados_modelo_final.csv', index=False)"
   ]
  },
  {
   "cell_type": "markdown",
   "id": "577d7ee2",
   "metadata": {},
   "source": [
    "### Datasets Modelos"
   ]
  },
  {
   "cell_type": "markdown",
   "id": "1cf2d2d8",
   "metadata": {},
   "source": [
    "Haverão Três Modelos, cada um olhando para uma variável alvo específica, as variáveis alvo serão:\n",
    "\n",
    "    - percentual_ocupacao: Olhando para tentarmos prever a quantidade de pessoas que irão aos jogos\n",
    "    - prejuizo_lucro: Olhando para tentarmos prever se o jogo foi rentável (olhando apenas para o contexto do jogo)\n",
    "    - resultado_partida: Olhando para tentarmos prever o resultado do jogo (Derrota, Vitória ou Empate\n",
    "    \n",
    "Sendo assim cada modelo terá seu dataset específico, pois as variáveis alvo não são passíveis de serem utilizadas nos modelos que não sejam os seus por não serem valores disponíveis para a previsão antes do evento acontecer, chamaremos essas varíaveis de indisponíveis."
   ]
  },
  {
   "cell_type": "code",
   "execution_count": 66,
   "id": "3538d6c8",
   "metadata": {},
   "outputs": [],
   "source": [
    "dados_modelo_percentual_ocupacao = dataset_dados.drop(columns=['prejuizo_lucro', 'resultado_partida']).copy()\n",
    "dados_modelo_prejuizo_lucro = dataset_dados.drop(columns=['percentual_ocupacao', 'resultado_partida']).copy()\n",
    "dados_modelo_resultado_partida = dataset_dados.drop(columns=['percentual_ocupacao', 'prejuizo_lucro']).copy()"
   ]
  },
  {
   "cell_type": "markdown",
   "id": "42d941aa",
   "metadata": {},
   "source": [
    "### Análise Exploratória"
   ]
  },
  {
   "cell_type": "markdown",
   "id": "02286003",
   "metadata": {},
   "source": [
    "##### Funções Úteis"
   ]
  },
  {
   "cell_type": "code",
   "execution_count": 69,
   "id": "1e17726b",
   "metadata": {},
   "outputs": [],
   "source": [
    "def concentracao_valores (dados, coluna):\n",
    "    if len(dados[coluna].unique()) > 3:        \n",
    "        print(dados[coluna].describe())\n",
    "    else:        \n",
    "        print(dados[coluna].value_counts())"
   ]
  },
  {
   "cell_type": "code",
   "execution_count": 70,
   "id": "1506868a",
   "metadata": {},
   "outputs": [],
   "source": [
    "def correlacao_modelos (dados, coluna):\n",
    "    print('Menores Valores')\n",
    "    print('----------------------')\n",
    "    print(dados.corr()[coluna].sort_values().head(7))\n",
    "    print('======================')\n",
    "    print('Maiores Valores')\n",
    "    print('----------------------')\n",
    "    print(dados.corr()[coluna].sort_values(ascending=False).head(7))"
   ]
  },
  {
   "cell_type": "code",
   "execution_count": 71,
   "id": "1e5c8dbb",
   "metadata": {},
   "outputs": [],
   "source": [
    "def visualizacoes (dados, coluna, label):\n",
    "    if len(dados[coluna].unique()) > 3: \n",
    "        fig, ax = plt.subplots()\n",
    "        ax.hist(dados[coluna])\n",
    "        ax.set_xlabel(label)\n",
    "        ax.set_title('Análise Visual - Histograma - '+label)\n",
    "        plt.show()"
   ]
  },
  {
   "cell_type": "code",
   "execution_count": 72,
   "id": "8f8f4bf2",
   "metadata": {},
   "outputs": [],
   "source": [
    "def taxas_erro (valores_reais, valores_previstos):\n",
    "    #RMSE\n",
    "    rmse = sqrt(mean_squared_error(valores_reais, valores_previstos))\n",
    "    print('Erro médio quadrático: ', rmse)\n",
    "    #MAE\n",
    "    mae = mean_absolute_error(valores_reais, valores_previstos)\n",
    "    print('Erro médio absoluto: ', mae)"
   ]
  },
  {
   "cell_type": "markdown",
   "id": "3d490fdc",
   "metadata": {},
   "source": [
    "Esse artigo me ajudou com a tunagem dos hiperparâmetros:\n",
    "\n",
    "    - https://www.analyticsvidhya.com/blog/2016/03/complete-guide-parameter-tuning-xgboost-with-codes-python/"
   ]
  },
  {
   "cell_type": "code",
   "execution_count": 115,
   "id": "7e1ca1b3",
   "metadata": {},
   "outputs": [],
   "source": [
    "def tunning_hiperpametros(modelo, X_train, y_train):\n",
    "    \n",
    "    # Função auxiliar para executar GridSearchCV\n",
    "    def grid_search(param_grid, estimator, X_train, y_train):\n",
    "        gsearch = GridSearchCV(estimator=estimator, param_grid=param_grid, \n",
    "                               scoring='roc_auc', n_jobs=-1, cv=10)\n",
    "        gsearch.fit(X_train, y_train)\n",
    "        return gsearch.best_params_\n",
    "\n",
    "    # Definir o modelo base com parâmetros fixos\n",
    "    modelo_base = modelo(learning_rate=0.01, n_estimators=200, random_state=1, cat_features=[])\n",
    "\n",
    "    # Testando variáveis: depth e min_child_samples (usados no CatBoost)\n",
    "    print('Testando Variáveis: depth, min_data_in_leaf')\n",
    "    param_test = {\n",
    "        'depth': [3, 5, 7, 9],\n",
    "        'min_data_in_leaf': [1, 5, 10]\n",
    "    }\n",
    "    best_params_depth = grid_search(param_test, modelo_base, X_train, y_train)\n",
    "    print('Melhores valores para depth e min_data_in_leaf: ', best_params_depth)\n",
    "\n",
    "    # Testando variáveis: learning_rate e iterations (CatBoost usa essas variáveis)\n",
    "    print('Testando Variáveis: learning_rate, iterations')\n",
    "    param_test = {\n",
    "        'learning_rate': [0.01, 0.05, 0.1],\n",
    "        'iterations': [100, 200, 300]\n",
    "    }\n",
    "    modelo_base.depth = best_params_depth['depth']\n",
    "    modelo_base.min_data_in_leaf = best_params_depth['min_data_in_leaf']\n",
    "    best_params_lr_iter = grid_search(param_test, modelo_base, X_train, y_train)\n",
    "    print('Melhores valores para learning_rate e iterations: ', best_params_lr_iter)\n",
    "\n",
    "    # Testando variáveis: subsample e colsample_bylevel\n",
    "    print('Testando Variáveis: subsample, colsample_bylevel')\n",
    "    param_test = {\n",
    "        'subsample': [i/10.0 for i in range(6,10)],\n",
    "        'colsample_bylevel': [i/10.0 for i in range(6,10)]\n",
    "    }\n",
    "    modelo_base.learning_rate = best_params_lr_iter['learning_rate']\n",
    "    modelo_base.iterations = best_params_lr_iter['iterations']\n",
    "    best_params_subsample = grid_search(param_test, modelo_base, X_train, y_train)\n",
    "    print('Melhores valores para subsample e colsample_bylevel: ', best_params_subsample)\n",
    "\n",
    "    print('-----------------------------')"
   ]
  },
  {
   "cell_type": "markdown",
   "id": "558fa4e1",
   "metadata": {},
   "source": [
    "##### Modelo 1"
   ]
  },
  {
   "cell_type": "code",
   "execution_count": 76,
   "id": "44b9cf7b",
   "metadata": {},
   "outputs": [
    {
     "name": "stdout",
     "output_type": "stream",
     "text": [
      "count    105.000000\n",
      "mean      46.898190\n",
      "std       25.259118\n",
      "min        5.190000\n",
      "25%       26.060000\n",
      "50%       45.990000\n",
      "75%       69.390000\n",
      "max       91.780000\n",
      "Name: percentual_ocupacao, dtype: float64\n"
     ]
    }
   ],
   "source": [
    "concentracao_valores(dados_modelo_percentual_ocupacao, 'percentual_ocupacao')"
   ]
  },
  {
   "cell_type": "code",
   "execution_count": 77,
   "id": "65bbe288",
   "metadata": {},
   "outputs": [
    {
     "name": "stdout",
     "output_type": "stream",
     "text": [
      "Menores Valores\n",
      "----------------------\n",
      "campeonato_carioca               -0.596498\n",
      "estado_adversario_RJ             -0.412199\n",
      "anunciou_poupar                  -0.389254\n",
      "temperatura                      -0.347796\n",
      "time_adversario_Portuguesa-RJ    -0.303482\n",
      "mando_vendido_compartilhado      -0.289359\n",
      "tecnico_botafogo_Carlos Leiria   -0.267592\n",
      "Name: percentual_ocupacao, dtype: float64\n",
      "======================\n",
      "Maiores Valores\n",
      "----------------------\n",
      "percentual_ocupacao             1.000000\n",
      "mes                             0.581935\n",
      "campeonato_serie a              0.368488\n",
      "rodada                          0.309028\n",
      "tecnico_botafogo_Artur Jorge    0.290402\n",
      "campeonato_libertadores         0.275354\n",
      "tecnico_botafogo_Bruno Lage     0.269328\n",
      "Name: percentual_ocupacao, dtype: float64\n"
     ]
    }
   ],
   "source": [
    "correlacao_modelos(dados_modelo_percentual_ocupacao, 'percentual_ocupacao')"
   ]
  },
  {
   "cell_type": "code",
   "execution_count": 78,
   "id": "be48f7f7",
   "metadata": {},
   "outputs": [
    {
     "data": {
      "text/plain": [
       "ano_campeonato                     NaN\n",
       "temperatura                  -0.347796\n",
       "jogos_no_mes                 -0.127372\n",
       "rodada                        0.309028\n",
       "anunciou_poupar              -0.389254\n",
       "                                ...   \n",
       "fase_segunda fase            -0.084537\n",
       "fase_semi-final               0.043635\n",
       "fase_semi-final - taça rio   -0.204975\n",
       "fase_terceira fase           -0.024131\n",
       "fase_unico                   -0.125323\n",
       "Name: percentual_ocupacao, Length: 138, dtype: float64"
      ]
     },
     "execution_count": 78,
     "metadata": {},
     "output_type": "execute_result"
    }
   ],
   "source": [
    "dados_modelo_percentual_ocupacao.corr()['percentual_ocupacao']"
   ]
  },
  {
   "cell_type": "code",
   "execution_count": 79,
   "id": "e694f28b",
   "metadata": {},
   "outputs": [
    {
     "data": {
      "image/png": "[encoded data removed]",
      "text/plain": [
       "<Figure size 640x480 with 1 Axes>"
      ]
     },
     "metadata": {},
     "output_type": "display_data"
    }
   ],
   "source": [
    "visualizacoes(dados_modelo_percentual_ocupacao, 'percentual_ocupacao', 'Ocupação %')"
   ]
  },
  {
   "cell_type": "markdown",
   "id": "0622eaca",
   "metadata": {},
   "source": [
    "##### Modelo 2 "
   ]
  },
  {
   "cell_type": "code",
   "execution_count": 81,
   "id": "3bebf450",
   "metadata": {},
   "outputs": [
    {
     "name": "stdout",
     "output_type": "stream",
     "text": [
      "prejuizo_lucro\n",
      "True     58\n",
      "False    47\n",
      "Name: count, dtype: int64\n"
     ]
    }
   ],
   "source": [
    "concentracao_valores(dados_modelo_prejuizo_lucro, 'prejuizo_lucro')"
   ]
  },
  {
   "cell_type": "code",
   "execution_count": 82,
   "id": "734d27f5",
   "metadata": {},
   "outputs": [
    {
     "name": "stdout",
     "output_type": "stream",
     "text": [
      "Menores Valores\n",
      "----------------------\n",
      "campeonato_carioca              -0.403100\n",
      "anunciou_poupar                 -0.363907\n",
      "temperatura                     -0.341797\n",
      "eliminatorio                    -0.289547\n",
      "tipo_partida_volta              -0.254930\n",
      "estado_adversario_RJ            -0.236182\n",
      "time_adversario_Portuguesa-RJ   -0.221072\n",
      "Name: prejuizo_lucro, dtype: float64\n",
      "======================\n",
      "Maiores Valores\n",
      "----------------------\n",
      "prejuizo_lucro                  1.000000\n",
      "mes                             0.439681\n",
      "rodada                          0.427245\n",
      "campeonato_serie a              0.383712\n",
      "tipo_partida_liga               0.310484\n",
      "tecnico_botafogo_Artur Jorge    0.250183\n",
      "colocacao_adversario            0.242190\n",
      "Name: prejuizo_lucro, dtype: float64\n"
     ]
    }
   ],
   "source": [
    "correlacao_modelos(dados_modelo_prejuizo_lucro, 'prejuizo_lucro')"
   ]
  },
  {
   "cell_type": "markdown",
   "id": "dcdca81a",
   "metadata": {},
   "source": [
    "##### Modelo 3"
   ]
  },
  {
   "cell_type": "code",
   "execution_count": 84,
   "id": "a0d247bb",
   "metadata": {},
   "outputs": [
    {
     "name": "stdout",
     "output_type": "stream",
     "text": [
      "resultado_partida\n",
      " 1    56\n",
      "-1    27\n",
      " 0    22\n",
      "Name: count, dtype: int64\n"
     ]
    }
   ],
   "source": [
    "concentracao_valores(dados_modelo_resultado_partida, 'resultado_partida')"
   ]
  },
  {
   "cell_type": "code",
   "execution_count": 85,
   "id": "1b18045c",
   "metadata": {},
   "outputs": [
    {
     "name": "stdout",
     "output_type": "stream",
     "text": [
      "Menores Valores\n",
      "----------------------\n",
      "tecnico_botafogo_Lúcio Flávio   -0.323211\n",
      "time_adversario_Flamengo        -0.231833\n",
      "fase_final                      -0.210428\n",
      "estado_adversario_MT            -0.191337\n",
      "time_adversario_Cuiabá-MT       -0.191337\n",
      "dias_ultimo_jogo_casa           -0.173001\n",
      "classico                        -0.157067\n",
      "Name: resultado_partida, dtype: float64\n",
      "======================\n",
      "Maiores Valores\n",
      "----------------------\n",
      "resultado_partida               1.000000\n",
      "resultados_ultimo_jogo          0.533972\n",
      "gols_botafogo_ultimos_jogos     0.242146\n",
      "minuto                          0.214512\n",
      "tecnico_botafogo_Artur Jorge    0.204148\n",
      "jogos_no_mes                    0.191769\n",
      "dia_mes                         0.185826\n",
      "Name: resultado_partida, dtype: float64\n"
     ]
    }
   ],
   "source": [
    "correlacao_modelos(dados_modelo_resultado_partida, 'resultado_partida')"
   ]
  },
  {
   "cell_type": "markdown",
   "id": "43861abd",
   "metadata": {},
   "source": [
    "### Modelagem"
   ]
  },
  {
   "cell_type": "markdown",
   "id": "833d1c89",
   "metadata": {},
   "source": [
    "##### Modelo 1"
   ]
  },
  {
   "cell_type": "code",
   "execution_count": 88,
   "id": "311aac7e",
   "metadata": {},
   "outputs": [],
   "source": [
    "X = dados_modelo_percentual_ocupacao.drop(columns=['percentual_ocupacao']).copy()\n",
    "y = dados_modelo_percentual_ocupacao[['percentual_ocupacao']]"
   ]
  },
  {
   "cell_type": "code",
   "execution_count": 89,
   "id": "3db440b1",
   "metadata": {},
   "outputs": [],
   "source": [
    "X_train, X_test, y_train, y_test = train_test_split( X, y, test_size=0.2, random_state=42)\n",
    "eval_set = [(X_test, y_test)]\n",
    "cat_features = X_test.select_dtypes(exclude=[np.number])"
   ]
  },
  {
   "cell_type": "code",
   "execution_count": 117,
   "id": "6bcc7598",
   "metadata": {
    "scrolled": true
   },
   "outputs": [
    {
     "name": "stdout",
     "output_type": "stream",
     "text": [
      "Testando Variáveis: depth, min_data_in_leaf\n",
      "Testando Variáveis: learning_rate, iterations\n",
      "Testando Variáveis: subsample, colsample_bylevel\n",
      "-----------------------------\n"
     ]
    }
   ],
   "source": [
    "parametros = tunning_hiperpametros(CatBoostRegressor, X_train, y_train)"
   ]
  },
  {
   "cell_type": "code",
   "execution_count": 118,
   "id": "32b78ac0",
   "metadata": {},
   "outputs": [
    {
     "data": {
      "text/plain": [
       "<catboost.core.CatBoostRegressor at 0x1b56cdd5ac0>"
      ]
     },
     "execution_count": 118,
     "metadata": {},
     "output_type": "execute_result"
    }
   ],
   "source": [
    "model = CatBoostRegressor(learning_rate=parametros[3], depth=parametros[0], min_data_in_leaf=parametros[1], iterations=parametros[2], random_state=1,  \n",
    "                     subsample = parametros[4], colsample_bylevel=parametros[5], verbose=False)\n",
    "\n",
    "model.fit(X_train, y_train, eval_set=eval_set, use_best_model=True, early_stopping_rounds=10)"
   ]
  },
  {
   "cell_type": "code",
   "execution_count": 109,
   "id": "9cbee034",
   "metadata": {},
   "outputs": [
    {
     "data": {
      "text/plain": [
       "array([0.00000000e+00, 4.19231469e+00, 2.70388892e-01, 2.59752321e+00,\n",
       "       1.96924514e+00, 1.11400834e+00, 3.51727098e-02, 1.05764148e+00,\n",
       "       1.08131607e-01, 7.27322050e-01, 2.03759752e-01, 2.35408591e+01,\n",
       "       2.59878881e+00, 2.47125735e-02, 7.64171025e-01, 9.08852841e+00,\n",
       "       3.85832610e-03, 8.86097228e-01, 8.91761243e-02, 1.16219830e-01,\n",
       "       1.85584707e-02, 3.62329248e+01, 2.27153124e-02, 2.46958427e+00,\n",
       "       0.00000000e+00, 0.00000000e+00, 2.11542653e+00, 0.00000000e+00,\n",
       "       0.00000000e+00, 0.00000000e+00, 1.06543354e-01, 4.40086800e-02,\n",
       "       1.98701442e-02, 0.00000000e+00, 1.97496925e-01, 7.70896551e-02,\n",
       "       2.33730393e-04, 2.87687428e-01, 1.80942085e-02, 3.63313792e-01,\n",
       "       6.54113980e-02, 5.82584322e-02, 0.00000000e+00, 0.00000000e+00,\n",
       "       0.00000000e+00, 0.00000000e+00, 0.00000000e+00, 0.00000000e+00,\n",
       "       0.00000000e+00, 0.00000000e+00, 4.28872052e-02, 1.06285400e-01,\n",
       "       1.56886998e-02, 0.00000000e+00, 0.00000000e+00, 0.00000000e+00,\n",
       "       0.00000000e+00, 2.81126243e+00, 0.00000000e+00, 0.00000000e+00,\n",
       "       5.53195118e-02, 7.67572660e-03, 0.00000000e+00, 1.67692402e-01,\n",
       "       1.13056140e-01, 0.00000000e+00, 0.00000000e+00, 0.00000000e+00,\n",
       "       3.67757965e+00, 7.41346100e-03, 0.00000000e+00, 1.14898786e-01,\n",
       "       0.00000000e+00, 0.00000000e+00, 0.00000000e+00, 1.71671430e-02,\n",
       "       0.00000000e+00, 0.00000000e+00, 0.00000000e+00, 0.00000000e+00,\n",
       "       0.00000000e+00, 1.99364526e-02, 0.00000000e+00, 0.00000000e+00,\n",
       "       1.21807125e-02, 3.28659277e-02, 0.00000000e+00, 0.00000000e+00,\n",
       "       0.00000000e+00, 0.00000000e+00, 0.00000000e+00, 1.70221228e-02,\n",
       "       0.00000000e+00, 0.00000000e+00, 8.32586221e-03, 0.00000000e+00,\n",
       "       0.00000000e+00, 0.00000000e+00, 3.15112578e-03, 4.50590646e-03,\n",
       "       0.00000000e+00, 6.97761836e-03, 1.57777584e-02, 0.00000000e+00,\n",
       "       0.00000000e+00, 0.00000000e+00, 0.00000000e+00, 0.00000000e+00,\n",
       "       1.33133313e-01, 4.47789876e-02, 0.00000000e+00, 0.00000000e+00,\n",
       "       0.00000000e+00, 0.00000000e+00, 0.00000000e+00, 0.00000000e+00,\n",
       "       2.44379551e-03, 0.00000000e+00, 0.00000000e+00, 0.00000000e+00,\n",
       "       0.00000000e+00, 0.00000000e+00, 5.12046210e-02, 1.79133948e-03,\n",
       "       0.00000000e+00, 0.00000000e+00, 1.01037309e-02, 5.62185363e-01,\n",
       "       2.84926064e-03, 3.47465620e-01, 1.81411227e-02, 0.00000000e+00,\n",
       "       0.00000000e+00, 7.32565362e-03, 4.85901021e-02, 1.92208727e-02,\n",
       "       7.95975037e-03])"
      ]
     },
     "execution_count": 109,
     "metadata": {},
     "output_type": "execute_result"
    }
   ],
   "source": [
    "model.feature_importances_"
   ]
  },
  {
   "cell_type": "code",
   "execution_count": 111,
   "id": "5839f548",
   "metadata": {},
   "outputs": [
    {
     "data": {
      "text/plain": [
       "Text(0.5, 1.0, 'Feature Importance')"
      ]
     },
     "execution_count": 111,
     "metadata": {},
     "output_type": "execute_result"
    },
    {
     "data": {
      "image/png": "[encoded data removed]",
      "text/plain": [
       "<Figure size 1200x600 with 1 Axes>"
      ]
     },
     "metadata": {},
     "output_type": "display_data"
    }
   ],
   "source": [
    "feature_importance = model.feature_importances_\n",
    "sorted_idx = np.argsort(feature_importance)\n",
    "fig = plt.figure(figsize=(12, 6))\n",
    "plt.barh(range(20), feature_importance[sorted_idx][-20:], align='center')\n",
    "plt.yticks(range(20), np.array(X_test.columns)[sorted_idx][-20:])\n",
    "plt.title('Feature Importance')"
   ]
  },
  {
   "cell_type": "code",
   "execution_count": 113,
   "id": "3359ac7b",
   "metadata": {},
   "outputs": [
    {
     "data": {
      "text/plain": [
       "0.3517773602732416"
      ]
     },
     "execution_count": 113,
     "metadata": {},
     "output_type": "execute_result"
    }
   ],
   "source": [
    "score = model.score(X_train, y_train)  \n",
    "score"
   ]
  },
  {
   "cell_type": "code",
   "execution_count": 85,
   "id": "00939a09",
   "metadata": {},
   "outputs": [
    {
     "data": {
      "text/plain": [
       "17"
      ]
     },
     "execution_count": 85,
     "metadata": {},
     "output_type": "execute_result"
    }
   ],
   "source": [
    "y_pred = model.predict(X_test)\n",
    "predictions = [round(value, 2) for value in y_pred]\n",
    "len(predictions)"
   ]
  },
  {
   "cell_type": "code",
   "execution_count": 86,
   "id": "cc6af5f6",
   "metadata": {},
   "outputs": [
    {
     "data": {
      "text/plain": [
       "Text(0.5, 1.0, 'Previsão Ocupação')"
      ]
     },
     "execution_count": 86,
     "metadata": {},
     "output_type": "execute_result"
    },
    {
     "data": {
      "image/png": "[encoded data removed]",
      "text/plain": [
       "<Figure size 1000x400 with 1 Axes>"
      ]
     },
     "metadata": {},
     "output_type": "display_data"
    }
   ],
   "source": [
    "y_test = y_test.reset_index(drop=True)\n",
    "fig, ax = plt.subplots(figsize=(10, 4))\n",
    "ax.plot(y_test, label='Ocupação')\n",
    "ax.plot(predictions, label='Previsão')\n",
    "ax.legend()\n",
    "ax.set_title(\"Previsão Ocupação\")"
   ]
  },
  {
   "cell_type": "code",
   "execution_count": 87,
   "id": "fe55d0b9",
   "metadata": {},
   "outputs": [
    {
     "name": "stdout",
     "output_type": "stream",
     "text": [
      "Erro médio quadrático:  17.58023020661695\n",
      "Erro médio absoluto:  15.410588235294119\n"
     ]
    }
   ],
   "source": [
    "taxas_erro(y_test, predictions)"
   ]
  },
  {
   "cell_type": "markdown",
   "id": "500d5f3e",
   "metadata": {},
   "source": [
    "##### Previsões"
   ]
  },
  {
   "cell_type": "code",
   "execution_count": 89,
   "id": "4aa40b0e",
   "metadata": {},
   "outputs": [],
   "source": [
    "dataset_previsao_modelo = dataset_previsao.drop(columns=['percentual_ocupacao', 'prejuizo_lucro', 'resultado_partida']\n",
    "                                               ).copy().reset_index(drop=True).loc[:0]"
   ]
  },
  {
   "cell_type": "code",
   "execution_count": 90,
   "id": "ec34f325",
   "metadata": {},
   "outputs": [
    {
     "data": {
      "text/plain": [
       "array([49.86806522])"
      ]
     },
     "execution_count": 90,
     "metadata": {},
     "output_type": "execute_result"
    }
   ],
   "source": [
    "model.predict(dataset_previsao_modelo)"
   ]
  },
  {
   "cell_type": "markdown",
   "id": "1f025200",
   "metadata": {},
   "source": [
    "##### Modelo 2"
   ]
  },
  {
   "cell_type": "code",
   "execution_count": 92,
   "id": "25a68082",
   "metadata": {},
   "outputs": [],
   "source": [
    "dados_modelo_prejuizo_lucro = dados_modelo_prejuizo_lucro[~dados_modelo_prejuizo_lucro['prejuizo_lucro'].isna() == True].reset_index(drop=True)"
   ]
  },
  {
   "cell_type": "code",
   "execution_count": 93,
   "id": "d7adb01c",
   "metadata": {},
   "outputs": [],
   "source": [
    "X = dados_modelo_prejuizo_lucro.drop(columns=['prejuizo_lucro']).copy()\n",
    "y = dados_modelo_prejuizo_lucro[['prejuizo_lucro']]"
   ]
  },
  {
   "cell_type": "code",
   "execution_count": 94,
   "id": "b03289a6",
   "metadata": {},
   "outputs": [],
   "source": [
    "X_train, X_test, y_train, y_test = train_test_split(X, y, test_size=0.2, random_state=42)\n",
    "eval_set = [(X_test, y_test)]"
   ]
  },
  {
   "cell_type": "code",
   "execution_count": 95,
   "id": "1a98ff9b",
   "metadata": {
    "scrolled": true
   },
   "outputs": [
    {
     "name": "stdout",
     "output_type": "stream",
     "text": [
      "Testando Variáveis: max_depth\n",
      "0:\tlearn: 0.6892858\ttotal: 7.05ms\tremaining: 1.4s\n",
      "1:\tlearn: 0.6848308\ttotal: 13.8ms\tremaining: 1.36s\n",
      "2:\tlearn: 0.6798789\ttotal: 19.7ms\tremaining: 1.29s\n",
      "3:\tlearn: 0.6765227\ttotal: 26.2ms\tremaining: 1.28s\n",
      "4:\tlearn: 0.6706100\ttotal: 31.7ms\tremaining: 1.24s\n",
      "5:\tlearn: 0.6652691\ttotal: 39.2ms\tremaining: 1.27s\n",
      "6:\tlearn: 0.6603465\ttotal: 44.8ms\tremaining: 1.23s\n",
      "7:\tlearn: 0.6554262\ttotal: 50.6ms\tremaining: 1.21s\n",
      "8:\tlearn: 0.6511265\ttotal: 57.9ms\tremaining: 1.23s\n",
      "9:\tlearn: 0.6462608\ttotal: 63.8ms\tremaining: 1.21s\n",
      "10:\tlearn: 0.6422322\ttotal: 71.6ms\tremaining: 1.23s\n",
      "11:\tlearn: 0.6372090\ttotal: 77.5ms\tremaining: 1.21s\n",
      "12:\tlearn: 0.6330277\ttotal: 82.7ms\tremaining: 1.19s\n",
      "13:\tlearn: 0.6284562\ttotal: 89.5ms\tremaining: 1.19s\n",
      "14:\tlearn: 0.6235262\ttotal: 95.8ms\tremaining: 1.18s\n",
      "15:\tlearn: 0.6196411\ttotal: 102ms\tremaining: 1.17s\n",
      "16:\tlearn: 0.6145105\ttotal: 108ms\tremaining: 1.17s\n",
      "17:\tlearn: 0.6089478\ttotal: 112ms\tremaining: 1.14s\n",
      "18:\tlearn: 0.6034180\ttotal: 119ms\tremaining: 1.14s\n",
      "19:\tlearn: 0.5998035\ttotal: 125ms\tremaining: 1.13s\n",
      "20:\tlearn: 0.5950083\ttotal: 132ms\tremaining: 1.12s\n",
      "21:\tlearn: 0.5906339\ttotal: 138ms\tremaining: 1.11s\n",
      "22:\tlearn: 0.5866220\ttotal: 144ms\tremaining: 1.11s\n",
      "23:\tlearn: 0.5818793\ttotal: 150ms\tremaining: 1.1s\n",
      "24:\tlearn: 0.5785205\ttotal: 156ms\tremaining: 1.09s\n",
      "25:\tlearn: 0.5740418\ttotal: 163ms\tremaining: 1.09s\n",
      "26:\tlearn: 0.5674964\ttotal: 169ms\tremaining: 1.08s\n",
      "27:\tlearn: 0.5635917\ttotal: 175ms\tremaining: 1.08s\n",
      "28:\tlearn: 0.5604352\ttotal: 181ms\tremaining: 1.07s\n",
      "29:\tlearn: 0.5564916\ttotal: 187ms\tremaining: 1.06s\n",
      "30:\tlearn: 0.5509368\ttotal: 194ms\tremaining: 1.06s\n",
      "31:\tlearn: 0.5465462\ttotal: 200ms\tremaining: 1.05s\n",
      "32:\tlearn: 0.5427503\ttotal: 207ms\tremaining: 1.05s\n",
      "33:\tlearn: 0.5398412\ttotal: 214ms\tremaining: 1.04s\n",
      "34:\tlearn: 0.5362461\ttotal: 219ms\tremaining: 1.03s\n",
      "35:\tlearn: 0.5328689\ttotal: 226ms\tremaining: 1.03s\n",
      "36:\tlearn: 0.5294589\ttotal: 231ms\tremaining: 1.02s\n",
      "37:\tlearn: 0.5249222\ttotal: 236ms\tremaining: 1.01s\n",
      "38:\tlearn: 0.5215131\ttotal: 244ms\tremaining: 1.01s\n",
      "39:\tlearn: 0.5182569\ttotal: 249ms\tremaining: 996ms\n",
      "40:\tlearn: 0.5151944\ttotal: 255ms\tremaining: 991ms\n",
      "41:\tlearn: 0.5115140\ttotal: 262ms\tremaining: 985ms\n",
      "42:\tlearn: 0.5078882\ttotal: 267ms\tremaining: 975ms\n",
      "43:\tlearn: 0.5046435\ttotal: 274ms\tremaining: 973ms\n",
      "44:\tlearn: 0.5009618\ttotal: 280ms\tremaining: 965ms\n",
      "45:\tlearn: 0.4974495\ttotal: 287ms\tremaining: 962ms\n",
      "46:\tlearn: 0.4935445\ttotal: 293ms\tremaining: 954ms\n",
      "47:\tlearn: 0.4918285\ttotal: 299ms\tremaining: 946ms\n",
      "48:\tlearn: 0.4890286\ttotal: 305ms\tremaining: 941ms\n",
      "49:\tlearn: 0.4862119\ttotal: 312ms\tremaining: 935ms\n",
      "50:\tlearn: 0.4832134\ttotal: 317ms\tremaining: 926ms\n",
      "51:\tlearn: 0.4809000\ttotal: 324ms\tremaining: 921ms\n",
      "52:\tlearn: 0.4786972\ttotal: 330ms\tremaining: 915ms\n",
      "53:\tlearn: 0.4763411\ttotal: 334ms\tremaining: 903ms\n",
      "54:\tlearn: 0.4730724\ttotal: 339ms\tremaining: 894ms\n",
      "55:\tlearn: 0.4701875\ttotal: 345ms\tremaining: 886ms\n",
      "56:\tlearn: 0.4665845\ttotal: 350ms\tremaining: 879ms\n",
      "57:\tlearn: 0.4638101\ttotal: 356ms\tremaining: 872ms\n",
      "58:\tlearn: 0.4605878\ttotal: 362ms\tremaining: 866ms\n",
      "59:\tlearn: 0.4577473\ttotal: 368ms\tremaining: 859ms\n",
      "60:\tlearn: 0.4547538\ttotal: 374ms\tremaining: 852ms\n",
      "61:\tlearn: 0.4520298\ttotal: 379ms\tremaining: 844ms\n",
      "62:\tlearn: 0.4497181\ttotal: 385ms\tremaining: 837ms\n",
      "63:\tlearn: 0.4469041\ttotal: 391ms\tremaining: 830ms\n",
      "64:\tlearn: 0.4442938\ttotal: 396ms\tremaining: 823ms\n",
      "65:\tlearn: 0.4427907\ttotal: 401ms\tremaining: 814ms\n",
      "66:\tlearn: 0.4395582\ttotal: 407ms\tremaining: 809ms\n",
      "67:\tlearn: 0.4367664\ttotal: 412ms\tremaining: 800ms\n",
      "68:\tlearn: 0.4335716\ttotal: 417ms\tremaining: 792ms\n",
      "69:\tlearn: 0.4301493\ttotal: 423ms\tremaining: 785ms\n",
      "70:\tlearn: 0.4271010\ttotal: 428ms\tremaining: 778ms\n",
      "71:\tlearn: 0.4237467\ttotal: 434ms\tremaining: 772ms\n",
      "72:\tlearn: 0.4209398\ttotal: 439ms\tremaining: 764ms\n",
      "73:\tlearn: 0.4187661\ttotal: 445ms\tremaining: 757ms\n",
      "74:\tlearn: 0.4159302\ttotal: 450ms\tremaining: 750ms\n",
      "75:\tlearn: 0.4137755\ttotal: 456ms\tremaining: 744ms\n",
      "76:\tlearn: 0.4111933\ttotal: 462ms\tremaining: 738ms\n",
      "77:\tlearn: 0.4094908\ttotal: 468ms\tremaining: 732ms\n",
      "78:\tlearn: 0.4063133\ttotal: 474ms\tremaining: 726ms\n",
      "79:\tlearn: 0.4038281\ttotal: 479ms\tremaining: 719ms\n",
      "80:\tlearn: 0.4020212\ttotal: 485ms\tremaining: 712ms\n",
      "81:\tlearn: 0.3996888\ttotal: 491ms\tremaining: 707ms\n",
      "82:\tlearn: 0.3969089\ttotal: 496ms\tremaining: 700ms\n",
      "83:\tlearn: 0.3948435\ttotal: 502ms\tremaining: 693ms\n",
      "84:\tlearn: 0.3931847\ttotal: 508ms\tremaining: 687ms\n",
      "85:\tlearn: 0.3913542\ttotal: 513ms\tremaining: 680ms\n",
      "86:\tlearn: 0.3891193\ttotal: 519ms\tremaining: 674ms\n",
      "87:\tlearn: 0.3862324\ttotal: 524ms\tremaining: 667ms\n",
      "88:\tlearn: 0.3839942\ttotal: 530ms\tremaining: 661ms\n",
      "89:\tlearn: 0.3825073\ttotal: 535ms\tremaining: 654ms\n",
      "90:\tlearn: 0.3800520\ttotal: 541ms\tremaining: 648ms\n",
      "91:\tlearn: 0.3783342\ttotal: 546ms\tremaining: 641ms\n",
      "92:\tlearn: 0.3755160\ttotal: 551ms\tremaining: 634ms\n",
      "93:\tlearn: 0.3736108\ttotal: 557ms\tremaining: 628ms\n",
      "94:\tlearn: 0.3718748\ttotal: 563ms\tremaining: 622ms\n",
      "95:\tlearn: 0.3696941\ttotal: 568ms\tremaining: 616ms\n",
      "96:\tlearn: 0.3677110\ttotal: 573ms\tremaining: 609ms\n",
      "97:\tlearn: 0.3658938\ttotal: 579ms\tremaining: 603ms\n",
      "98:\tlearn: 0.3639509\ttotal: 585ms\tremaining: 597ms\n",
      "99:\tlearn: 0.3626263\ttotal: 591ms\tremaining: 591ms\n",
      "100:\tlearn: 0.3606923\ttotal: 597ms\tremaining: 586ms\n",
      "101:\tlearn: 0.3592310\ttotal: 603ms\tremaining: 579ms\n",
      "102:\tlearn: 0.3576579\ttotal: 608ms\tremaining: 572ms\n",
      "103:\tlearn: 0.3557766\ttotal: 613ms\tremaining: 566ms\n",
      "104:\tlearn: 0.3538291\ttotal: 619ms\tremaining: 560ms\n",
      "105:\tlearn: 0.3513721\ttotal: 624ms\tremaining: 553ms\n",
      "106:\tlearn: 0.3498798\ttotal: 630ms\tremaining: 547ms\n",
      "107:\tlearn: 0.3478076\ttotal: 635ms\tremaining: 541ms\n",
      "108:\tlearn: 0.3450891\ttotal: 640ms\tremaining: 535ms\n",
      "109:\tlearn: 0.3425171\ttotal: 647ms\tremaining: 529ms\n",
      "110:\tlearn: 0.3405756\ttotal: 652ms\tremaining: 523ms\n",
      "111:\tlearn: 0.3386254\ttotal: 657ms\tremaining: 517ms\n",
      "112:\tlearn: 0.3376321\ttotal: 662ms\tremaining: 509ms\n",
      "113:\tlearn: 0.3353993\ttotal: 667ms\tremaining: 503ms\n",
      "114:\tlearn: 0.3339699\ttotal: 673ms\tremaining: 497ms\n",
      "115:\tlearn: 0.3316309\ttotal: 679ms\tremaining: 491ms\n",
      "116:\tlearn: 0.3299638\ttotal: 684ms\tremaining: 485ms\n",
      "117:\tlearn: 0.3285740\ttotal: 690ms\tremaining: 479ms\n",
      "118:\tlearn: 0.3272635\ttotal: 695ms\tremaining: 473ms\n",
      "119:\tlearn: 0.3252008\ttotal: 701ms\tremaining: 467ms\n",
      "120:\tlearn: 0.3238968\ttotal: 707ms\tremaining: 461ms\n",
      "121:\tlearn: 0.3224366\ttotal: 712ms\tremaining: 455ms\n",
      "122:\tlearn: 0.3209279\ttotal: 718ms\tremaining: 449ms\n",
      "123:\tlearn: 0.3188548\ttotal: 723ms\tremaining: 443ms\n",
      "124:\tlearn: 0.3167497\ttotal: 729ms\tremaining: 437ms\n",
      "125:\tlearn: 0.3149857\ttotal: 734ms\tremaining: 431ms\n",
      "126:\tlearn: 0.3136842\ttotal: 740ms\tremaining: 425ms\n",
      "127:\tlearn: 0.3121189\ttotal: 746ms\tremaining: 419ms\n",
      "128:\tlearn: 0.3106826\ttotal: 752ms\tremaining: 414ms\n",
      "129:\tlearn: 0.3091107\ttotal: 758ms\tremaining: 408ms\n",
      "130:\tlearn: 0.3078044\ttotal: 764ms\tremaining: 402ms\n",
      "131:\tlearn: 0.3062316\ttotal: 768ms\tremaining: 396ms\n",
      "132:\tlearn: 0.3041757\ttotal: 774ms\tremaining: 390ms\n",
      "133:\tlearn: 0.3023648\ttotal: 779ms\tremaining: 384ms\n",
      "134:\tlearn: 0.3011743\ttotal: 785ms\tremaining: 378ms\n",
      "135:\tlearn: 0.2997688\ttotal: 790ms\tremaining: 372ms\n",
      "136:\tlearn: 0.2982858\ttotal: 797ms\tremaining: 367ms\n",
      "137:\tlearn: 0.2964733\ttotal: 803ms\tremaining: 361ms\n",
      "138:\tlearn: 0.2949238\ttotal: 808ms\tremaining: 355ms\n",
      "139:\tlearn: 0.2930835\ttotal: 813ms\tremaining: 349ms\n",
      "140:\tlearn: 0.2920484\ttotal: 821ms\tremaining: 343ms\n",
      "141:\tlearn: 0.2902167\ttotal: 826ms\tremaining: 337ms\n",
      "142:\tlearn: 0.2894933\ttotal: 831ms\tremaining: 331ms\n",
      "143:\tlearn: 0.2880440\ttotal: 836ms\tremaining: 325ms\n",
      "144:\tlearn: 0.2860699\ttotal: 843ms\tremaining: 320ms\n",
      "145:\tlearn: 0.2845464\ttotal: 849ms\tremaining: 314ms\n",
      "146:\tlearn: 0.2827512\ttotal: 854ms\tremaining: 308ms\n",
      "147:\tlearn: 0.2811482\ttotal: 861ms\tremaining: 302ms\n",
      "148:\tlearn: 0.2801377\ttotal: 867ms\tremaining: 297ms\n",
      "149:\tlearn: 0.2792049\ttotal: 872ms\tremaining: 291ms\n",
      "150:\tlearn: 0.2780795\ttotal: 877ms\tremaining: 285ms\n",
      "151:\tlearn: 0.2770161\ttotal: 884ms\tremaining: 279ms\n",
      "152:\tlearn: 0.2759831\ttotal: 889ms\tremaining: 273ms\n",
      "153:\tlearn: 0.2745084\ttotal: 894ms\tremaining: 267ms\n",
      "154:\tlearn: 0.2729457\ttotal: 900ms\tremaining: 261ms\n",
      "155:\tlearn: 0.2720327\ttotal: 906ms\tremaining: 255ms\n",
      "156:\tlearn: 0.2710469\ttotal: 912ms\tremaining: 250ms\n",
      "157:\tlearn: 0.2691649\ttotal: 917ms\tremaining: 244ms\n",
      "158:\tlearn: 0.2680397\ttotal: 923ms\tremaining: 238ms\n",
      "159:\tlearn: 0.2665989\ttotal: 928ms\tremaining: 232ms\n",
      "160:\tlearn: 0.2648334\ttotal: 935ms\tremaining: 226ms\n",
      "161:\tlearn: 0.2630664\ttotal: 940ms\tremaining: 221ms\n",
      "162:\tlearn: 0.2619688\ttotal: 946ms\tremaining: 215ms\n",
      "163:\tlearn: 0.2604494\ttotal: 952ms\tremaining: 209ms\n",
      "164:\tlearn: 0.2595237\ttotal: 958ms\tremaining: 203ms\n",
      "165:\tlearn: 0.2586693\ttotal: 964ms\tremaining: 197ms\n",
      "166:\tlearn: 0.2568766\ttotal: 970ms\tremaining: 192ms\n",
      "167:\tlearn: 0.2554643\ttotal: 976ms\tremaining: 186ms\n",
      "168:\tlearn: 0.2542576\ttotal: 982ms\tremaining: 180ms\n",
      "169:\tlearn: 0.2530215\ttotal: 988ms\tremaining: 174ms\n",
      "170:\tlearn: 0.2517863\ttotal: 995ms\tremaining: 169ms\n",
      "171:\tlearn: 0.2506809\ttotal: 1s\tremaining: 163ms\n",
      "172:\tlearn: 0.2497201\ttotal: 1.01s\tremaining: 157ms\n",
      "173:\tlearn: 0.2488505\ttotal: 1.01s\tremaining: 151ms\n",
      "174:\tlearn: 0.2467566\ttotal: 1.02s\tremaining: 145ms\n",
      "175:\tlearn: 0.2460528\ttotal: 1.02s\tremaining: 140ms\n",
      "176:\tlearn: 0.2451182\ttotal: 1.07s\tremaining: 139ms\n",
      "177:\tlearn: 0.2442264\ttotal: 1.09s\tremaining: 135ms\n",
      "178:\tlearn: 0.2430265\ttotal: 1.1s\tremaining: 129ms\n",
      "179:\tlearn: 0.2417470\ttotal: 1.11s\tremaining: 123ms\n",
      "180:\tlearn: 0.2400754\ttotal: 1.11s\tremaining: 117ms\n",
      "181:\tlearn: 0.2389240\ttotal: 1.12s\tremaining: 111ms\n",
      "182:\tlearn: 0.2379660\ttotal: 1.13s\tremaining: 105ms\n",
      "183:\tlearn: 0.2370700\ttotal: 1.14s\tremaining: 99.2ms\n",
      "184:\tlearn: 0.2362650\ttotal: 1.15s\tremaining: 92.9ms\n",
      "185:\tlearn: 0.2350835\ttotal: 1.15s\tremaining: 86.7ms\n",
      "186:\tlearn: 0.2333244\ttotal: 1.16s\tremaining: 80.5ms\n",
      "187:\tlearn: 0.2326773\ttotal: 1.16s\tremaining: 74.2ms\n",
      "188:\tlearn: 0.2316162\ttotal: 1.17s\tremaining: 68.1ms\n",
      "189:\tlearn: 0.2305887\ttotal: 1.18s\tremaining: 61.9ms\n",
      "190:\tlearn: 0.2292754\ttotal: 1.18s\tremaining: 55.6ms\n",
      "191:\tlearn: 0.2281461\ttotal: 1.19s\tremaining: 49.4ms\n",
      "192:\tlearn: 0.2270538\ttotal: 1.19s\tremaining: 43.2ms\n",
      "193:\tlearn: 0.2259685\ttotal: 1.2s\tremaining: 37ms\n",
      "194:\tlearn: 0.2246619\ttotal: 1.2s\tremaining: 30.9ms\n",
      "195:\tlearn: 0.2236457\ttotal: 1.21s\tremaining: 24.7ms\n",
      "196:\tlearn: 0.2220334\ttotal: 1.22s\tremaining: 18.5ms\n",
      "197:\tlearn: 0.2211295\ttotal: 1.22s\tremaining: 12.3ms\n",
      "198:\tlearn: 0.2198778\ttotal: 1.23s\tremaining: 6.17ms\n",
      "199:\tlearn: 0.2189906\ttotal: 1.23s\tremaining: 0us\n",
      "Melhores valores:  {'max_depth': 7}\n",
      "-----------------------------\n",
      "Testando Variáveis: subsample\n",
      "0:\tlearn: 0.6883511\ttotal: 7.5ms\tremaining: 1.49s\n",
      "1:\tlearn: 0.6840707\ttotal: 15ms\tremaining: 1.49s\n",
      "2:\tlearn: 0.6790771\ttotal: 21.2ms\tremaining: 1.39s\n",
      "3:\tlearn: 0.6744865\ttotal: 27.3ms\tremaining: 1.34s\n",
      "4:\tlearn: 0.6699734\ttotal: 33.5ms\tremaining: 1.3s\n",
      "5:\tlearn: 0.6660638\ttotal: 39.4ms\tremaining: 1.27s\n",
      "6:\tlearn: 0.6611273\ttotal: 45.3ms\tremaining: 1.25s\n",
      "7:\tlearn: 0.6567353\ttotal: 51.4ms\tremaining: 1.23s\n",
      "8:\tlearn: 0.6531295\ttotal: 59.4ms\tremaining: 1.26s\n",
      "9:\tlearn: 0.6479645\ttotal: 66.4ms\tremaining: 1.26s\n",
      "10:\tlearn: 0.6426462\ttotal: 73.7ms\tremaining: 1.27s\n",
      "11:\tlearn: 0.6404924\ttotal: 81.3ms\tremaining: 1.27s\n",
      "12:\tlearn: 0.6360013\ttotal: 88ms\tremaining: 1.26s\n",
      "13:\tlearn: 0.6332130\ttotal: 94.5ms\tremaining: 1.25s\n",
      "14:\tlearn: 0.6300485\ttotal: 101ms\tremaining: 1.25s\n",
      "15:\tlearn: 0.6271864\ttotal: 107ms\tremaining: 1.23s\n",
      "16:\tlearn: 0.6214275\ttotal: 113ms\tremaining: 1.21s\n",
      "17:\tlearn: 0.6180771\ttotal: 119ms\tremaining: 1.2s\n",
      "18:\tlearn: 0.6133902\ttotal: 126ms\tremaining: 1.2s\n",
      "19:\tlearn: 0.6093875\ttotal: 132ms\tremaining: 1.19s\n",
      "20:\tlearn: 0.6055766\ttotal: 138ms\tremaining: 1.18s\n",
      "21:\tlearn: 0.6003565\ttotal: 144ms\tremaining: 1.17s\n",
      "22:\tlearn: 0.5969164\ttotal: 150ms\tremaining: 1.16s\n",
      "23:\tlearn: 0.5927118\ttotal: 156ms\tremaining: 1.14s\n",
      "24:\tlearn: 0.5898821\ttotal: 160ms\tremaining: 1.12s\n",
      "25:\tlearn: 0.5862675\ttotal: 167ms\tremaining: 1.12s\n",
      "26:\tlearn: 0.5836058\ttotal: 173ms\tremaining: 1.1s\n",
      "27:\tlearn: 0.5803564\ttotal: 179ms\tremaining: 1.1s\n",
      "28:\tlearn: 0.5774876\ttotal: 184ms\tremaining: 1.09s\n",
      "29:\tlearn: 0.5746648\ttotal: 190ms\tremaining: 1.08s\n",
      "30:\tlearn: 0.5692207\ttotal: 197ms\tremaining: 1.07s\n",
      "31:\tlearn: 0.5658893\ttotal: 202ms\tremaining: 1.06s\n",
      "32:\tlearn: 0.5627727\ttotal: 208ms\tremaining: 1.05s\n",
      "33:\tlearn: 0.5604366\ttotal: 213ms\tremaining: 1.04s\n",
      "34:\tlearn: 0.5562248\ttotal: 218ms\tremaining: 1.03s\n",
      "35:\tlearn: 0.5535072\ttotal: 224ms\tremaining: 1.02s\n",
      "36:\tlearn: 0.5497899\ttotal: 229ms\tremaining: 1.01s\n",
      "37:\tlearn: 0.5472212\ttotal: 235ms\tremaining: 1s\n",
      "38:\tlearn: 0.5437855\ttotal: 242ms\tremaining: 999ms\n",
      "39:\tlearn: 0.5396261\ttotal: 248ms\tremaining: 990ms\n",
      "40:\tlearn: 0.5351935\ttotal: 254ms\tremaining: 983ms\n",
      "41:\tlearn: 0.5314730\ttotal: 260ms\tremaining: 977ms\n",
      "42:\tlearn: 0.5282901\ttotal: 266ms\tremaining: 973ms\n",
      "43:\tlearn: 0.5255640\ttotal: 271ms\tremaining: 960ms\n",
      "44:\tlearn: 0.5213123\ttotal: 277ms\tremaining: 955ms\n",
      "45:\tlearn: 0.5184850\ttotal: 283ms\tremaining: 949ms\n",
      "46:\tlearn: 0.5154404\ttotal: 289ms\tremaining: 942ms\n",
      "47:\tlearn: 0.5131996\ttotal: 294ms\tremaining: 932ms\n",
      "48:\tlearn: 0.5097429\ttotal: 300ms\tremaining: 925ms\n",
      "49:\tlearn: 0.5060134\ttotal: 307ms\tremaining: 920ms\n",
      "50:\tlearn: 0.5033338\ttotal: 313ms\tremaining: 913ms\n",
      "51:\tlearn: 0.5000045\ttotal: 319ms\tremaining: 908ms\n",
      "52:\tlearn: 0.4971875\ttotal: 325ms\tremaining: 901ms\n",
      "53:\tlearn: 0.4943693\ttotal: 331ms\tremaining: 895ms\n",
      "54:\tlearn: 0.4915095\ttotal: 337ms\tremaining: 889ms\n",
      "55:\tlearn: 0.4892134\ttotal: 343ms\tremaining: 881ms\n",
      "56:\tlearn: 0.4853257\ttotal: 349ms\tremaining: 876ms\n",
      "57:\tlearn: 0.4825560\ttotal: 355ms\tremaining: 869ms\n",
      "58:\tlearn: 0.4807189\ttotal: 361ms\tremaining: 862ms\n",
      "59:\tlearn: 0.4775697\ttotal: 366ms\tremaining: 855ms\n",
      "60:\tlearn: 0.4740586\ttotal: 373ms\tremaining: 849ms\n",
      "61:\tlearn: 0.4707599\ttotal: 379ms\tremaining: 843ms\n",
      "62:\tlearn: 0.4682312\ttotal: 385ms\tremaining: 837ms\n",
      "63:\tlearn: 0.4653039\ttotal: 392ms\tremaining: 834ms\n",
      "64:\tlearn: 0.4629638\ttotal: 399ms\tremaining: 828ms\n",
      "65:\tlearn: 0.4605692\ttotal: 404ms\tremaining: 820ms\n",
      "66:\tlearn: 0.4564245\ttotal: 409ms\tremaining: 812ms\n",
      "67:\tlearn: 0.4525510\ttotal: 415ms\tremaining: 806ms\n",
      "68:\tlearn: 0.4489893\ttotal: 420ms\tremaining: 798ms\n",
      "69:\tlearn: 0.4459240\ttotal: 425ms\tremaining: 789ms\n",
      "70:\tlearn: 0.4438766\ttotal: 432ms\tremaining: 784ms\n",
      "71:\tlearn: 0.4417321\ttotal: 438ms\tremaining: 778ms\n",
      "72:\tlearn: 0.4393555\ttotal: 444ms\tremaining: 772ms\n",
      "73:\tlearn: 0.4362770\ttotal: 450ms\tremaining: 766ms\n",
      "74:\tlearn: 0.4334138\ttotal: 456ms\tremaining: 760ms\n",
      "75:\tlearn: 0.4304479\ttotal: 463ms\tremaining: 756ms\n",
      "76:\tlearn: 0.4288339\ttotal: 469ms\tremaining: 749ms\n",
      "77:\tlearn: 0.4247674\ttotal: 475ms\tremaining: 743ms\n",
      "78:\tlearn: 0.4222833\ttotal: 481ms\tremaining: 737ms\n",
      "79:\tlearn: 0.4200921\ttotal: 486ms\tremaining: 729ms\n",
      "80:\tlearn: 0.4180804\ttotal: 492ms\tremaining: 723ms\n",
      "81:\tlearn: 0.4149388\ttotal: 498ms\tremaining: 717ms\n",
      "82:\tlearn: 0.4118862\ttotal: 504ms\tremaining: 711ms\n",
      "83:\tlearn: 0.4100935\ttotal: 510ms\tremaining: 705ms\n",
      "84:\tlearn: 0.4081186\ttotal: 516ms\tremaining: 698ms\n",
      "85:\tlearn: 0.4062548\ttotal: 522ms\tremaining: 692ms\n",
      "86:\tlearn: 0.4041405\ttotal: 529ms\tremaining: 686ms\n",
      "87:\tlearn: 0.4019623\ttotal: 535ms\tremaining: 680ms\n",
      "88:\tlearn: 0.3988047\ttotal: 540ms\tremaining: 673ms\n",
      "89:\tlearn: 0.3966580\ttotal: 546ms\tremaining: 667ms\n",
      "90:\tlearn: 0.3950318\ttotal: 552ms\tremaining: 662ms\n",
      "91:\tlearn: 0.3924972\ttotal: 559ms\tremaining: 656ms\n",
      "92:\tlearn: 0.3904321\ttotal: 565ms\tremaining: 650ms\n",
      "93:\tlearn: 0.3874300\ttotal: 572ms\tremaining: 645ms\n",
      "94:\tlearn: 0.3854600\ttotal: 578ms\tremaining: 639ms\n",
      "95:\tlearn: 0.3828727\ttotal: 584ms\tremaining: 633ms\n",
      "96:\tlearn: 0.3803824\ttotal: 591ms\tremaining: 627ms\n",
      "97:\tlearn: 0.3784790\ttotal: 597ms\tremaining: 621ms\n",
      "98:\tlearn: 0.3764494\ttotal: 604ms\tremaining: 616ms\n",
      "99:\tlearn: 0.3741082\ttotal: 609ms\tremaining: 609ms\n",
      "100:\tlearn: 0.3721871\ttotal: 615ms\tremaining: 603ms\n",
      "101:\tlearn: 0.3709558\ttotal: 620ms\tremaining: 596ms\n",
      "102:\tlearn: 0.3680982\ttotal: 625ms\tremaining: 589ms\n",
      "103:\tlearn: 0.3657574\ttotal: 630ms\tremaining: 582ms\n",
      "104:\tlearn: 0.3641897\ttotal: 636ms\tremaining: 576ms\n",
      "105:\tlearn: 0.3615951\ttotal: 641ms\tremaining: 568ms\n",
      "106:\tlearn: 0.3597072\ttotal: 647ms\tremaining: 562ms\n",
      "107:\tlearn: 0.3582631\ttotal: 653ms\tremaining: 556ms\n",
      "108:\tlearn: 0.3557255\ttotal: 658ms\tremaining: 550ms\n",
      "109:\tlearn: 0.3528588\ttotal: 665ms\tremaining: 544ms\n",
      "110:\tlearn: 0.3517351\ttotal: 671ms\tremaining: 538ms\n",
      "111:\tlearn: 0.3494216\ttotal: 676ms\tremaining: 531ms\n",
      "112:\tlearn: 0.3478023\ttotal: 682ms\tremaining: 525ms\n",
      "113:\tlearn: 0.3457269\ttotal: 688ms\tremaining: 519ms\n",
      "114:\tlearn: 0.3444277\ttotal: 693ms\tremaining: 512ms\n",
      "115:\tlearn: 0.3427403\ttotal: 699ms\tremaining: 506ms\n",
      "116:\tlearn: 0.3411942\ttotal: 705ms\tremaining: 500ms\n",
      "117:\tlearn: 0.3388974\ttotal: 711ms\tremaining: 494ms\n",
      "118:\tlearn: 0.3376231\ttotal: 716ms\tremaining: 488ms\n",
      "119:\tlearn: 0.3362292\ttotal: 722ms\tremaining: 482ms\n",
      "120:\tlearn: 0.3347939\ttotal: 728ms\tremaining: 475ms\n",
      "121:\tlearn: 0.3332997\ttotal: 735ms\tremaining: 470ms\n",
      "122:\tlearn: 0.3322907\ttotal: 741ms\tremaining: 464ms\n",
      "123:\tlearn: 0.3305260\ttotal: 747ms\tremaining: 458ms\n",
      "124:\tlearn: 0.3286716\ttotal: 754ms\tremaining: 452ms\n",
      "125:\tlearn: 0.3270619\ttotal: 760ms\tremaining: 446ms\n",
      "126:\tlearn: 0.3247175\ttotal: 766ms\tremaining: 440ms\n",
      "127:\tlearn: 0.3232674\ttotal: 772ms\tremaining: 434ms\n",
      "128:\tlearn: 0.3217041\ttotal: 778ms\tremaining: 428ms\n",
      "129:\tlearn: 0.3204218\ttotal: 784ms\tremaining: 422ms\n",
      "130:\tlearn: 0.3192090\ttotal: 790ms\tremaining: 416ms\n",
      "131:\tlearn: 0.3179254\ttotal: 797ms\tremaining: 411ms\n",
      "132:\tlearn: 0.3161898\ttotal: 804ms\tremaining: 405ms\n",
      "133:\tlearn: 0.3146512\ttotal: 809ms\tremaining: 398ms\n",
      "134:\tlearn: 0.3133850\ttotal: 814ms\tremaining: 392ms\n",
      "135:\tlearn: 0.3115208\ttotal: 819ms\tremaining: 386ms\n",
      "136:\tlearn: 0.3096442\ttotal: 825ms\tremaining: 379ms\n",
      "137:\tlearn: 0.3081631\ttotal: 830ms\tremaining: 373ms\n",
      "138:\tlearn: 0.3070757\ttotal: 835ms\tremaining: 366ms\n",
      "139:\tlearn: 0.3050131\ttotal: 840ms\tremaining: 360ms\n",
      "140:\tlearn: 0.3031170\ttotal: 846ms\tremaining: 354ms\n",
      "141:\tlearn: 0.3022150\ttotal: 852ms\tremaining: 348ms\n",
      "142:\tlearn: 0.3004034\ttotal: 857ms\tremaining: 342ms\n",
      "143:\tlearn: 0.2987467\ttotal: 862ms\tremaining: 335ms\n",
      "144:\tlearn: 0.2969562\ttotal: 869ms\tremaining: 329ms\n",
      "145:\tlearn: 0.2961850\ttotal: 874ms\tremaining: 323ms\n",
      "146:\tlearn: 0.2952491\ttotal: 880ms\tremaining: 317ms\n",
      "147:\tlearn: 0.2934653\ttotal: 886ms\tremaining: 311ms\n",
      "148:\tlearn: 0.2924029\ttotal: 892ms\tremaining: 305ms\n",
      "149:\tlearn: 0.2905754\ttotal: 898ms\tremaining: 299ms\n",
      "150:\tlearn: 0.2897861\ttotal: 903ms\tremaining: 293ms\n",
      "151:\tlearn: 0.2887959\ttotal: 909ms\tremaining: 287ms\n",
      "152:\tlearn: 0.2871412\ttotal: 915ms\tremaining: 281ms\n",
      "153:\tlearn: 0.2856289\ttotal: 921ms\tremaining: 275ms\n",
      "154:\tlearn: 0.2839320\ttotal: 926ms\tremaining: 269ms\n",
      "155:\tlearn: 0.2827061\ttotal: 932ms\tremaining: 263ms\n",
      "156:\tlearn: 0.2806555\ttotal: 937ms\tremaining: 257ms\n",
      "157:\tlearn: 0.2797939\ttotal: 942ms\tremaining: 251ms\n",
      "158:\tlearn: 0.2787044\ttotal: 948ms\tremaining: 244ms\n",
      "159:\tlearn: 0.2762824\ttotal: 954ms\tremaining: 238ms\n",
      "160:\tlearn: 0.2748228\ttotal: 960ms\tremaining: 232ms\n",
      "161:\tlearn: 0.2741670\ttotal: 966ms\tremaining: 227ms\n",
      "162:\tlearn: 0.2724020\ttotal: 972ms\tremaining: 221ms\n",
      "163:\tlearn: 0.2708377\ttotal: 978ms\tremaining: 215ms\n",
      "164:\tlearn: 0.2696115\ttotal: 984ms\tremaining: 209ms\n",
      "165:\tlearn: 0.2685265\ttotal: 990ms\tremaining: 203ms\n",
      "166:\tlearn: 0.2671021\ttotal: 995ms\tremaining: 197ms\n",
      "167:\tlearn: 0.2656803\ttotal: 1s\tremaining: 191ms\n",
      "168:\tlearn: 0.2650981\ttotal: 1.01s\tremaining: 185ms\n",
      "169:\tlearn: 0.2634584\ttotal: 1.01s\tremaining: 179ms\n",
      "170:\tlearn: 0.2624612\ttotal: 1.02s\tremaining: 173ms\n",
      "171:\tlearn: 0.2615123\ttotal: 1.03s\tremaining: 167ms\n",
      "172:\tlearn: 0.2601893\ttotal: 1.03s\tremaining: 161ms\n",
      "173:\tlearn: 0.2586004\ttotal: 1.04s\tremaining: 155ms\n",
      "174:\tlearn: 0.2576460\ttotal: 1.04s\tremaining: 149ms\n",
      "175:\tlearn: 0.2564749\ttotal: 1.05s\tremaining: 143ms\n",
      "176:\tlearn: 0.2551356\ttotal: 1.06s\tremaining: 137ms\n",
      "177:\tlearn: 0.2538142\ttotal: 1.06s\tremaining: 131ms\n",
      "178:\tlearn: 0.2525445\ttotal: 1.07s\tremaining: 125ms\n",
      "179:\tlearn: 0.2519651\ttotal: 1.07s\tremaining: 119ms\n",
      "180:\tlearn: 0.2500234\ttotal: 1.08s\tremaining: 114ms\n",
      "181:\tlearn: 0.2488838\ttotal: 1.09s\tremaining: 108ms\n",
      "182:\tlearn: 0.2478122\ttotal: 1.09s\tremaining: 102ms\n",
      "183:\tlearn: 0.2467790\ttotal: 1.1s\tremaining: 95.5ms\n",
      "184:\tlearn: 0.2460938\ttotal: 1.1s\tremaining: 89.6ms\n",
      "185:\tlearn: 0.2450158\ttotal: 1.11s\tremaining: 83.6ms\n",
      "186:\tlearn: 0.2440180\ttotal: 1.12s\tremaining: 77.7ms\n",
      "187:\tlearn: 0.2428960\ttotal: 1.12s\tremaining: 71.7ms\n",
      "188:\tlearn: 0.2415277\ttotal: 1.13s\tremaining: 65.7ms\n",
      "189:\tlearn: 0.2402401\ttotal: 1.14s\tremaining: 59.8ms\n",
      "190:\tlearn: 0.2392215\ttotal: 1.14s\tremaining: 53.8ms\n",
      "191:\tlearn: 0.2373878\ttotal: 1.15s\tremaining: 47.9ms\n",
      "192:\tlearn: 0.2359890\ttotal: 1.15s\tremaining: 41.9ms\n",
      "193:\tlearn: 0.2347939\ttotal: 1.16s\tremaining: 35.9ms\n",
      "194:\tlearn: 0.2341381\ttotal: 1.17s\tremaining: 29.9ms\n",
      "195:\tlearn: 0.2332358\ttotal: 1.17s\tremaining: 24ms\n",
      "196:\tlearn: 0.2320827\ttotal: 1.18s\tremaining: 18ms\n",
      "197:\tlearn: 0.2309483\ttotal: 1.19s\tremaining: 12ms\n",
      "198:\tlearn: 0.2297648\ttotal: 1.19s\tremaining: 6ms\n",
      "199:\tlearn: 0.2286741\ttotal: 1.2s\tremaining: 0us\n",
      "Melhores valores:  {'subsample': 0.9}\n"
     ]
    }
   ],
   "source": [
    "tunning_hiperpametros(CatBoostClassifier, X_train, y_train)"
   ]
  },
  {
   "cell_type": "code",
   "execution_count": 96,
   "id": "d1d957d5",
   "metadata": {
    "scrolled": true
   },
   "outputs": [
    {
     "name": "stdout",
     "output_type": "stream",
     "text": [
      "0:\tlearn: 0.6882087\ttest: 0.6928161\tbest: 0.6928161 (0)\ttotal: 10ms\tremaining: 1m 40s\n",
      "1:\tlearn: 0.6819531\ttest: 0.6925598\tbest: 0.6925598 (1)\ttotal: 18.6ms\tremaining: 1m 32s\n",
      "2:\tlearn: 0.6787446\ttest: 0.6918193\tbest: 0.6918193 (2)\ttotal: 27.7ms\tremaining: 1m 32s\n",
      "3:\tlearn: 0.6736022\ttest: 0.6912400\tbest: 0.6912400 (3)\ttotal: 36.3ms\tremaining: 1m 30s\n",
      "4:\tlearn: 0.6686702\ttest: 0.6901372\tbest: 0.6901372 (4)\ttotal: 45.7ms\tremaining: 1m 31s\n",
      "5:\tlearn: 0.6633272\ttest: 0.6886040\tbest: 0.6886040 (5)\ttotal: 54.9ms\tremaining: 1m 31s\n",
      "6:\tlearn: 0.6576886\ttest: 0.6854018\tbest: 0.6854018 (6)\ttotal: 63.5ms\tremaining: 1m 30s\n",
      "7:\tlearn: 0.6519630\ttest: 0.6840252\tbest: 0.6840252 (7)\ttotal: 72.1ms\tremaining: 1m 30s\n",
      "8:\tlearn: 0.6467801\ttest: 0.6836423\tbest: 0.6836423 (8)\ttotal: 79ms\tremaining: 1m 27s\n",
      "9:\tlearn: 0.6427822\ttest: 0.6821998\tbest: 0.6821998 (9)\ttotal: 88.1ms\tremaining: 1m 27s\n",
      "10:\tlearn: 0.6370830\ttest: 0.6808193\tbest: 0.6808193 (10)\ttotal: 96.9ms\tremaining: 1m 28s\n",
      "11:\tlearn: 0.6325597\ttest: 0.6796888\tbest: 0.6796888 (11)\ttotal: 106ms\tremaining: 1m 28s\n",
      "12:\tlearn: 0.6280146\ttest: 0.6797789\tbest: 0.6796888 (11)\ttotal: 114ms\tremaining: 1m 27s\n",
      "13:\tlearn: 0.6235362\ttest: 0.6791325\tbest: 0.6791325 (13)\ttotal: 125ms\tremaining: 1m 28s\n",
      "14:\tlearn: 0.6189004\ttest: 0.6799159\tbest: 0.6791325 (13)\ttotal: 134ms\tremaining: 1m 29s\n",
      "15:\tlearn: 0.6133953\ttest: 0.6786279\tbest: 0.6786279 (15)\ttotal: 146ms\tremaining: 1m 31s\n",
      "16:\tlearn: 0.6084292\ttest: 0.6774889\tbest: 0.6774889 (16)\ttotal: 157ms\tremaining: 1m 32s\n",
      "17:\tlearn: 0.6047138\ttest: 0.6769267\tbest: 0.6769267 (17)\ttotal: 167ms\tremaining: 1m 32s\n",
      "18:\tlearn: 0.5997715\ttest: 0.6780141\tbest: 0.6769267 (17)\ttotal: 175ms\tremaining: 1m 32s\n",
      "19:\tlearn: 0.5957077\ttest: 0.6759063\tbest: 0.6759063 (19)\ttotal: 185ms\tremaining: 1m 32s\n",
      "20:\tlearn: 0.5914667\ttest: 0.6776630\tbest: 0.6759063 (19)\ttotal: 193ms\tremaining: 1m 31s\n",
      "21:\tlearn: 0.5861485\ttest: 0.6780643\tbest: 0.6759063 (19)\ttotal: 204ms\tremaining: 1m 32s\n",
      "22:\tlearn: 0.5814739\ttest: 0.6773485\tbest: 0.6759063 (19)\ttotal: 211ms\tremaining: 1m 31s\n",
      "23:\tlearn: 0.5802479\ttest: 0.6768313\tbest: 0.6759063 (19)\ttotal: 215ms\tremaining: 1m 29s\n",
      "24:\tlearn: 0.5758302\ttest: 0.6779297\tbest: 0.6759063 (19)\ttotal: 225ms\tremaining: 1m 29s\n",
      "25:\tlearn: 0.5723086\ttest: 0.6755708\tbest: 0.6755708 (25)\ttotal: 235ms\tremaining: 1m 30s\n",
      "26:\tlearn: 0.5676100\ttest: 0.6736936\tbest: 0.6736936 (26)\ttotal: 244ms\tremaining: 1m 30s\n",
      "27:\tlearn: 0.5641446\ttest: 0.6715003\tbest: 0.6715003 (27)\ttotal: 253ms\tremaining: 1m 30s\n",
      "28:\tlearn: 0.5602930\ttest: 0.6721834\tbest: 0.6715003 (27)\ttotal: 262ms\tremaining: 1m 30s\n",
      "29:\tlearn: 0.5561754\ttest: 0.6714941\tbest: 0.6714941 (29)\ttotal: 272ms\tremaining: 1m 30s\n",
      "30:\tlearn: 0.5524000\ttest: 0.6697991\tbest: 0.6697991 (30)\ttotal: 278ms\tremaining: 1m 29s\n",
      "31:\tlearn: 0.5462317\ttest: 0.6699535\tbest: 0.6697991 (30)\ttotal: 287ms\tremaining: 1m 29s\n",
      "32:\tlearn: 0.5423494\ttest: 0.6670786\tbest: 0.6670786 (32)\ttotal: 297ms\tremaining: 1m 29s\n",
      "33:\tlearn: 0.5380163\ttest: 0.6656452\tbest: 0.6656452 (33)\ttotal: 308ms\tremaining: 1m 30s\n",
      "34:\tlearn: 0.5352050\ttest: 0.6655237\tbest: 0.6655237 (34)\ttotal: 316ms\tremaining: 1m 30s\n",
      "35:\tlearn: 0.5308703\ttest: 0.6648713\tbest: 0.6648713 (35)\ttotal: 363ms\tremaining: 1m 40s\n",
      "36:\tlearn: 0.5266858\ttest: 0.6645140\tbest: 0.6645140 (36)\ttotal: 383ms\tremaining: 1m 42s\n",
      "37:\tlearn: 0.5237602\ttest: 0.6644354\tbest: 0.6644354 (37)\ttotal: 391ms\tremaining: 1m 42s\n",
      "38:\tlearn: 0.5190575\ttest: 0.6645267\tbest: 0.6644354 (37)\ttotal: 420ms\tremaining: 1m 47s\n",
      "39:\tlearn: 0.5154716\ttest: 0.6629954\tbest: 0.6629954 (39)\ttotal: 428ms\tremaining: 1m 46s\n",
      "40:\tlearn: 0.5121552\ttest: 0.6627506\tbest: 0.6627506 (40)\ttotal: 438ms\tremaining: 1m 46s\n",
      "41:\tlearn: 0.5076566\ttest: 0.6623611\tbest: 0.6623611 (41)\ttotal: 453ms\tremaining: 1m 47s\n",
      "42:\tlearn: 0.5035935\ttest: 0.6614159\tbest: 0.6614159 (42)\ttotal: 461ms\tremaining: 1m 46s\n",
      "43:\tlearn: 0.5005447\ttest: 0.6608062\tbest: 0.6608062 (43)\ttotal: 470ms\tremaining: 1m 46s\n",
      "44:\tlearn: 0.4966616\ttest: 0.6585007\tbest: 0.6585007 (44)\ttotal: 478ms\tremaining: 1m 45s\n",
      "45:\tlearn: 0.4945217\ttest: 0.6576773\tbest: 0.6576773 (45)\ttotal: 487ms\tremaining: 1m 45s\n",
      "46:\tlearn: 0.4919884\ttest: 0.6573511\tbest: 0.6573511 (46)\ttotal: 495ms\tremaining: 1m 44s\n",
      "47:\tlearn: 0.4880446\ttest: 0.6564858\tbest: 0.6564858 (47)\ttotal: 504ms\tremaining: 1m 44s\n",
      "48:\tlearn: 0.4844356\ttest: 0.6572659\tbest: 0.6564858 (47)\ttotal: 513ms\tremaining: 1m 44s\n",
      "49:\tlearn: 0.4811558\ttest: 0.6560800\tbest: 0.6560800 (49)\ttotal: 526ms\tremaining: 1m 44s\n",
      "50:\tlearn: 0.4775225\ttest: 0.6569063\tbest: 0.6560800 (49)\ttotal: 535ms\tremaining: 1m 44s\n",
      "51:\tlearn: 0.4742152\ttest: 0.6572391\tbest: 0.6560800 (49)\ttotal: 544ms\tremaining: 1m 44s\n",
      "52:\tlearn: 0.4708828\ttest: 0.6570019\tbest: 0.6560800 (49)\ttotal: 554ms\tremaining: 1m 43s\n",
      "53:\tlearn: 0.4682271\ttest: 0.6561814\tbest: 0.6560800 (49)\ttotal: 563ms\tremaining: 1m 43s\n",
      "54:\tlearn: 0.4646462\ttest: 0.6566284\tbest: 0.6560800 (49)\ttotal: 573ms\tremaining: 1m 43s\n",
      "55:\tlearn: 0.4614700\ttest: 0.6568278\tbest: 0.6560800 (49)\ttotal: 583ms\tremaining: 1m 43s\n",
      "56:\tlearn: 0.4579275\ttest: 0.6567556\tbest: 0.6560800 (49)\ttotal: 591ms\tremaining: 1m 43s\n",
      "57:\tlearn: 0.4549875\ttest: 0.6556180\tbest: 0.6556180 (57)\ttotal: 600ms\tremaining: 1m 42s\n",
      "58:\tlearn: 0.4512479\ttest: 0.6540531\tbest: 0.6540531 (58)\ttotal: 609ms\tremaining: 1m 42s\n",
      "59:\tlearn: 0.4472988\ttest: 0.6533555\tbest: 0.6533555 (59)\ttotal: 618ms\tremaining: 1m 42s\n",
      "60:\tlearn: 0.4447074\ttest: 0.6532474\tbest: 0.6532474 (60)\ttotal: 629ms\tremaining: 1m 42s\n",
      "61:\tlearn: 0.4424809\ttest: 0.6538229\tbest: 0.6532474 (60)\ttotal: 636ms\tremaining: 1m 41s\n",
      "62:\tlearn: 0.4406919\ttest: 0.6529695\tbest: 0.6529695 (62)\ttotal: 646ms\tremaining: 1m 41s\n",
      "63:\tlearn: 0.4367523\ttest: 0.6523566\tbest: 0.6523566 (63)\ttotal: 654ms\tremaining: 1m 41s\n",
      "64:\tlearn: 0.4333310\ttest: 0.6515757\tbest: 0.6515757 (64)\ttotal: 665ms\tremaining: 1m 41s\n",
      "65:\tlearn: 0.4310956\ttest: 0.6514621\tbest: 0.6514621 (65)\ttotal: 676ms\tremaining: 1m 41s\n",
      "66:\tlearn: 0.4278787\ttest: 0.6520809\tbest: 0.6514621 (65)\ttotal: 685ms\tremaining: 1m 41s\n",
      "67:\tlearn: 0.4253153\ttest: 0.6502722\tbest: 0.6502722 (67)\ttotal: 695ms\tremaining: 1m 41s\n",
      "68:\tlearn: 0.4221627\ttest: 0.6507390\tbest: 0.6502722 (67)\ttotal: 703ms\tremaining: 1m 41s\n",
      "69:\tlearn: 0.4194270\ttest: 0.6500497\tbest: 0.6500497 (69)\ttotal: 714ms\tremaining: 1m 41s\n",
      "70:\tlearn: 0.4169869\ttest: 0.6518788\tbest: 0.6500497 (69)\ttotal: 719ms\tremaining: 1m 40s\n",
      "71:\tlearn: 0.4138007\ttest: 0.6516246\tbest: 0.6500497 (69)\ttotal: 726ms\tremaining: 1m 40s\n",
      "72:\tlearn: 0.4109653\ttest: 0.6499065\tbest: 0.6499065 (72)\ttotal: 734ms\tremaining: 1m 39s\n",
      "73:\tlearn: 0.4085410\ttest: 0.6491677\tbest: 0.6491677 (73)\ttotal: 742ms\tremaining: 1m 39s\n",
      "74:\tlearn: 0.4061044\ttest: 0.6474893\tbest: 0.6474893 (74)\ttotal: 750ms\tremaining: 1m 39s\n",
      "75:\tlearn: 0.4039301\ttest: 0.6470858\tbest: 0.6470858 (75)\ttotal: 759ms\tremaining: 1m 39s\n",
      "76:\tlearn: 0.4021478\ttest: 0.6467759\tbest: 0.6467759 (76)\ttotal: 764ms\tremaining: 1m 38s\n",
      "77:\tlearn: 0.3999439\ttest: 0.6461928\tbest: 0.6461928 (77)\ttotal: 772ms\tremaining: 1m 38s\n",
      "78:\tlearn: 0.3972822\ttest: 0.6453913\tbest: 0.6453913 (78)\ttotal: 780ms\tremaining: 1m 37s\n",
      "79:\tlearn: 0.3952088\ttest: 0.6435565\tbest: 0.6435565 (79)\ttotal: 786ms\tremaining: 1m 37s\n",
      "80:\tlearn: 0.3925541\ttest: 0.6435200\tbest: 0.6435200 (80)\ttotal: 794ms\tremaining: 1m 37s\n",
      "81:\tlearn: 0.3900322\ttest: 0.6418655\tbest: 0.6418655 (81)\ttotal: 802ms\tremaining: 1m 37s\n",
      "82:\tlearn: 0.3872260\ttest: 0.6425111\tbest: 0.6418655 (81)\ttotal: 811ms\tremaining: 1m 36s\n",
      "83:\tlearn: 0.3843703\ttest: 0.6417823\tbest: 0.6417823 (83)\ttotal: 820ms\tremaining: 1m 36s\n",
      "84:\tlearn: 0.3823116\ttest: 0.6405866\tbest: 0.6405866 (84)\ttotal: 830ms\tremaining: 1m 36s\n",
      "85:\tlearn: 0.3797202\ttest: 0.6401691\tbest: 0.6401691 (85)\ttotal: 837ms\tremaining: 1m 36s\n",
      "86:\tlearn: 0.3779357\ttest: 0.6406439\tbest: 0.6401691 (85)\ttotal: 842ms\tremaining: 1m 35s\n",
      "87:\tlearn: 0.3757924\ttest: 0.6390350\tbest: 0.6390350 (87)\ttotal: 851ms\tremaining: 1m 35s\n",
      "88:\tlearn: 0.3735008\ttest: 0.6390400\tbest: 0.6390350 (87)\ttotal: 860ms\tremaining: 1m 35s\n",
      "89:\tlearn: 0.3714690\ttest: 0.6389559\tbest: 0.6389559 (89)\ttotal: 868ms\tremaining: 1m 35s\n",
      "90:\tlearn: 0.3695531\ttest: 0.6389869\tbest: 0.6389559 (89)\ttotal: 877ms\tremaining: 1m 35s\n",
      "91:\tlearn: 0.3674731\ttest: 0.6381673\tbest: 0.6381673 (91)\ttotal: 886ms\tremaining: 1m 35s\n",
      "92:\tlearn: 0.3649452\ttest: 0.6377167\tbest: 0.6377167 (92)\ttotal: 894ms\tremaining: 1m 35s\n",
      "93:\tlearn: 0.3627215\ttest: 0.6378139\tbest: 0.6377167 (92)\ttotal: 903ms\tremaining: 1m 35s\n",
      "94:\tlearn: 0.3603413\ttest: 0.6388321\tbest: 0.6377167 (92)\ttotal: 913ms\tremaining: 1m 35s\n",
      "95:\tlearn: 0.3583682\ttest: 0.6387730\tbest: 0.6377167 (92)\ttotal: 921ms\tremaining: 1m 35s\n",
      "96:\tlearn: 0.3564668\ttest: 0.6379724\tbest: 0.6377167 (92)\ttotal: 932ms\tremaining: 1m 35s\n",
      "97:\tlearn: 0.3542076\ttest: 0.6384791\tbest: 0.6377167 (92)\ttotal: 941ms\tremaining: 1m 35s\n",
      "98:\tlearn: 0.3526804\ttest: 0.6383051\tbest: 0.6377167 (92)\ttotal: 950ms\tremaining: 1m 34s\n",
      "99:\tlearn: 0.3510537\ttest: 0.6368337\tbest: 0.6368337 (99)\ttotal: 959ms\tremaining: 1m 34s\n",
      "100:\tlearn: 0.3483631\ttest: 0.6360489\tbest: 0.6360489 (100)\ttotal: 967ms\tremaining: 1m 34s\n",
      "101:\tlearn: 0.3458642\ttest: 0.6349141\tbest: 0.6349141 (101)\ttotal: 976ms\tremaining: 1m 34s\n",
      "102:\tlearn: 0.3443200\ttest: 0.6346672\tbest: 0.6346672 (102)\ttotal: 985ms\tremaining: 1m 34s\n",
      "103:\tlearn: 0.3416955\ttest: 0.6365508\tbest: 0.6346672 (102)\ttotal: 995ms\tremaining: 1m 34s\n",
      "104:\tlearn: 0.3397242\ttest: 0.6364113\tbest: 0.6346672 (102)\ttotal: 1s\tremaining: 1m 34s\n",
      "105:\tlearn: 0.3378897\ttest: 0.6361450\tbest: 0.6346672 (102)\ttotal: 1.01s\tremaining: 1m 34s\n",
      "106:\tlearn: 0.3360525\ttest: 0.6357028\tbest: 0.6346672 (102)\ttotal: 1.02s\tremaining: 1m 34s\n",
      "107:\tlearn: 0.3344013\ttest: 0.6362765\tbest: 0.6346672 (102)\ttotal: 1.03s\tremaining: 1m 34s\n",
      "108:\tlearn: 0.3319360\ttest: 0.6366466\tbest: 0.6346672 (102)\ttotal: 1.04s\tremaining: 1m 34s\n",
      "109:\tlearn: 0.3300188\ttest: 0.6365398\tbest: 0.6346672 (102)\ttotal: 1.05s\tremaining: 1m 34s\n",
      "110:\tlearn: 0.3284764\ttest: 0.6358571\tbest: 0.6346672 (102)\ttotal: 1.06s\tremaining: 1m 34s\n",
      "111:\tlearn: 0.3260862\ttest: 0.6353204\tbest: 0.6346672 (102)\ttotal: 1.07s\tremaining: 1m 34s\n",
      "112:\tlearn: 0.3243223\ttest: 0.6353894\tbest: 0.6346672 (102)\ttotal: 1.08s\tremaining: 1m 34s\n",
      "Stopped by overfitting detector  (10 iterations wait)\n",
      "\n",
      "bestTest = 0.6346672074\n",
      "bestIteration = 102\n",
      "\n",
      "Shrink model to first 103 iterations.\n"
     ]
    },
    {
     "data": {
      "text/plain": [
       "<catboost.core.CatBoostClassifier at 0x2bb42eefd40>"
      ]
     },
     "execution_count": 96,
     "metadata": {},
     "output_type": "execute_result"
    }
   ],
   "source": [
    "model = CatBoostClassifier(learning_rate=0.01, max_depth=9, n_estimators=10000, random_state=1,  \n",
    "                     subsample = 0.8)\n",
    "\n",
    "model.fit(X_train, y_train, eval_set=eval_set, verbose = 1, early_stopping_rounds=10)"
   ]
  },
  {
   "cell_type": "code",
   "execution_count": 97,
   "id": "b4c3f196",
   "metadata": {},
   "outputs": [
    {
     "data": {
      "text/plain": [
       "array([2.00258760e+00, 1.01270687e+01, 1.44334667e+00, 5.19608493e+00,\n",
       "       2.73176395e+00, 2.76632460e+00, 3.50764612e+00, 2.95168130e+00,\n",
       "       4.56235088e+00, 7.15754959e+00, 4.23007315e+00, 6.13236493e+00,\n",
       "       2.48147631e+00, 2.27269960e+00, 4.00397553e+00, 7.89323744e+00,\n",
       "       4.02739653e+00, 2.64276217e+00, 1.72996121e-01, 6.86727609e+00,\n",
       "       2.14673935e+00, 7.11717774e-06, 1.24957656e-01, 6.60249435e-01,\n",
       "       7.53369249e-01, 4.29800079e-02, 6.44193515e-03, 2.48192370e-01,\n",
       "       0.00000000e+00, 1.86848651e-01, 2.50372506e-02, 0.00000000e+00,\n",
       "       4.46132783e-03, 0.00000000e+00, 4.66485739e+00, 1.31629664e+00,\n",
       "       4.04671370e-02, 2.10332005e-05, 6.07695887e-03, 0.00000000e+00,\n",
       "       0.00000000e+00, 7.90836658e-02, 1.32449170e-02, 0.00000000e+00,\n",
       "       1.86437493e-01, 0.00000000e+00, 7.64605665e-03, 3.24884704e-02,\n",
       "       2.40915921e-02, 6.06145829e-02, 1.19651542e-01, 4.46338050e-02,\n",
       "       0.00000000e+00, 2.89428448e-01, 3.20345394e-01, 6.47682570e-02,\n",
       "       2.57790045e-02, 8.52953386e-02, 2.08313691e-01, 0.00000000e+00,\n",
       "       3.42750888e-01, 9.67350570e-03, 5.93071858e-02, 7.72796833e-02,\n",
       "       0.00000000e+00, 0.00000000e+00, 2.00827130e-03, 1.75805906e-01,\n",
       "       1.22070566e-01, 0.00000000e+00, 4.65223288e-02, 0.00000000e+00,\n",
       "       3.39713336e-02, 7.20139202e-02, 6.72320453e-02, 0.00000000e+00,\n",
       "       3.71393235e-04, 2.20523505e-02, 0.00000000e+00, 8.57258784e-03,\n",
       "       1.68839884e-03, 8.88903747e-02, 7.36305180e-03, 0.00000000e+00,\n",
       "       7.42177087e-04, 0.00000000e+00, 0.00000000e+00, 3.65928306e-03,\n",
       "       0.00000000e+00, 1.83885108e-02, 2.76536280e-02, 1.28514460e-03,\n",
       "       0.00000000e+00, 1.80885833e-01, 2.22337083e-02, 3.37310249e-02,\n",
       "       3.17443048e-02, 1.02083525e-02, 0.00000000e+00, 7.51613029e-02,\n",
       "       2.75033258e-02, 1.99384833e-06, 7.41294512e-02, 5.82464378e-03,\n",
       "       0.00000000e+00, 2.10704530e+00, 1.45418981e-03, 9.57312041e-01,\n",
       "       8.18904594e-02, 3.90545138e-02, 7.05070893e-02, 0.00000000e+00,\n",
       "       4.07913216e-02, 9.17305936e-02])"
      ]
     },
     "execution_count": 97,
     "metadata": {},
     "output_type": "execute_result"
    }
   ],
   "source": [
    "model.feature_importances_"
   ]
  },
  {
   "cell_type": "code",
   "execution_count": 98,
   "id": "6d578b60",
   "metadata": {},
   "outputs": [
    {
     "data": {
      "text/plain": [
       "Text(0.5, 1.0, 'Feature Importance')"
      ]
     },
     "execution_count": 98,
     "metadata": {},
     "output_type": "execute_result"
    },
    {
     "data": {
      "image/png": "[encoded data removed]",
      "text/plain": [
       "<Figure size 1200x600 with 1 Axes>"
      ]
     },
     "metadata": {},
     "output_type": "display_data"
    }
   ],
   "source": [
    "feature_importance = model.feature_importances_\n",
    "sorted_idx = np.argsort(feature_importance)\n",
    "fig = plt.figure(figsize=(12, 6))\n",
    "plt.barh(range(20), feature_importance[sorted_idx][-20:], align='center')\n",
    "plt.yticks(range(20), np.array(X_test.columns)[sorted_idx][-20:])\n",
    "plt.title('Feature Importance')"
   ]
  },
  {
   "cell_type": "code",
   "execution_count": 99,
   "id": "8ceecda6",
   "metadata": {},
   "outputs": [
    {
     "data": {
      "text/plain": [
       "1.0"
      ]
     },
     "execution_count": 99,
     "metadata": {},
     "output_type": "execute_result"
    }
   ],
   "source": [
    "score = model.score(X_train, y_train)  \n",
    "score"
   ]
  },
  {
   "cell_type": "code",
   "execution_count": 100,
   "id": "3c8a1c17",
   "metadata": {},
   "outputs": [
    {
     "data": {
      "text/plain": [
       "17"
      ]
     },
     "execution_count": 100,
     "metadata": {},
     "output_type": "execute_result"
    }
   ],
   "source": [
    "y_pred = model.predict(X_test)\n",
    "predictions = [int(value) for value in y_pred]\n",
    "len(predictions)"
   ]
  },
  {
   "cell_type": "code",
   "execution_count": 101,
   "id": "f1cd4ff6",
   "metadata": {},
   "outputs": [
    {
     "data": {
      "image/png": "[encoded data removed]",
      "text/plain": [
       "<Figure size 640x480 with 2 Axes>"
      ]
     },
     "metadata": {},
     "output_type": "display_data"
    }
   ],
   "source": [
    "sns.heatmap(confusion_matrix(y_test, predictions), \n",
    "            annot=True,\n",
    "            fmt='g')\n",
    "plt.ylabel('Acontecido',fontsize=13)\n",
    "plt.xlabel('Previsão',fontsize=13)\n",
    "plt.show()"
   ]
  },
  {
   "cell_type": "code",
   "execution_count": 102,
   "id": "be93a879",
   "metadata": {},
   "outputs": [
    {
     "name": "stdout",
     "output_type": "stream",
     "text": [
      "              precision    recall  f1-score   support\n",
      "\n",
      "       False       0.80      0.50      0.62         8\n",
      "        True       0.67      0.89      0.76         9\n",
      "\n",
      "    accuracy                           0.71        17\n",
      "   macro avg       0.73      0.69      0.69        17\n",
      "weighted avg       0.73      0.71      0.69        17\n",
      "\n"
     ]
    }
   ],
   "source": [
    "print(classification_report(y_test, predictions))"
   ]
  },
  {
   "cell_type": "markdown",
   "id": "1e5083d5",
   "metadata": {},
   "source": [
    "##### Previsões"
   ]
  },
  {
   "cell_type": "code",
   "execution_count": 104,
   "id": "67d52a32",
   "metadata": {},
   "outputs": [
    {
     "data": {
      "text/plain": [
       "array([ True])"
      ]
     },
     "execution_count": 104,
     "metadata": {},
     "output_type": "execute_result"
    }
   ],
   "source": [
    "model.predict(dataset_previsao_modelo)"
   ]
  },
  {
   "cell_type": "markdown",
   "id": "2178b4f3",
   "metadata": {},
   "source": [
    "##### Modelo 3"
   ]
  },
  {
   "cell_type": "code",
   "execution_count": 106,
   "id": "d70df1cb",
   "metadata": {},
   "outputs": [],
   "source": [
    "X = dados_modelo_resultado_partida.drop(columns=['resultado_partida']).copy()\n",
    "y = dados_modelo_resultado_partida[['resultado_partida']]"
   ]
  },
  {
   "cell_type": "code",
   "execution_count": 107,
   "id": "1f93c4ae",
   "metadata": {},
   "outputs": [],
   "source": [
    "y.loc[y[y['resultado_partida'] == -1].index, 'resultado_partida'] = 2"
   ]
  },
  {
   "cell_type": "code",
   "execution_count": 108,
   "id": "028a931c",
   "metadata": {},
   "outputs": [],
   "source": [
    "y['resultado_partida'] = y['resultado_partida'].astype(int)"
   ]
  },
  {
   "cell_type": "code",
   "execution_count": 109,
   "id": "b9c3ab31",
   "metadata": {},
   "outputs": [],
   "source": [
    "X_train, X_test, y_train, y_test = train_test_split(X, y, test_size=0.2, random_state=42)\n",
    "eval_set = [(X_test, y_test)]"
   ]
  },
  {
   "cell_type": "code",
   "execution_count": 110,
   "id": "08db6641",
   "metadata": {
    "scrolled": true
   },
   "outputs": [
    {
     "name": "stdout",
     "output_type": "stream",
     "text": [
      "Testando Variáveis: max_depth\n",
      "0:\tlearn: 1.0941794\ttotal: 1.94ms\tremaining: 387ms\n",
      "1:\tlearn: 1.0905037\ttotal: 4.12ms\tremaining: 408ms\n",
      "2:\tlearn: 1.0865228\ttotal: 5.73ms\tremaining: 376ms\n",
      "3:\tlearn: 1.0842784\ttotal: 7.48ms\tremaining: 366ms\n",
      "4:\tlearn: 1.0818359\ttotal: 9.81ms\tremaining: 383ms\n",
      "5:\tlearn: 1.0796539\ttotal: 11.8ms\tremaining: 381ms\n",
      "6:\tlearn: 1.0774528\ttotal: 14ms\tremaining: 386ms\n",
      "7:\tlearn: 1.0757873\ttotal: 16ms\tremaining: 384ms\n",
      "8:\tlearn: 1.0735968\ttotal: 17.9ms\tremaining: 381ms\n",
      "9:\tlearn: 1.0712447\ttotal: 19.7ms\tremaining: 375ms\n",
      "10:\tlearn: 1.0682557\ttotal: 21.4ms\tremaining: 367ms\n",
      "11:\tlearn: 1.0660435\ttotal: 24.1ms\tremaining: 377ms\n",
      "12:\tlearn: 1.0637182\ttotal: 26ms\tremaining: 374ms\n",
      "13:\tlearn: 1.0617571\ttotal: 27.9ms\tremaining: 370ms\n",
      "14:\tlearn: 1.0596376\ttotal: 29.8ms\tremaining: 367ms\n",
      "15:\tlearn: 1.0575274\ttotal: 32.2ms\tremaining: 371ms\n",
      "16:\tlearn: 1.0552755\ttotal: 34ms\tremaining: 366ms\n",
      "17:\tlearn: 1.0531290\ttotal: 35.7ms\tremaining: 361ms\n",
      "18:\tlearn: 1.0515259\ttotal: 38ms\tremaining: 362ms\n",
      "19:\tlearn: 1.0498110\ttotal: 39.7ms\tremaining: 357ms\n",
      "20:\tlearn: 1.0470405\ttotal: 41.6ms\tremaining: 354ms\n",
      "21:\tlearn: 1.0452060\ttotal: 43.5ms\tremaining: 352ms\n",
      "22:\tlearn: 1.0431907\ttotal: 45.4ms\tremaining: 349ms\n",
      "23:\tlearn: 1.0415647\ttotal: 47.1ms\tremaining: 345ms\n",
      "24:\tlearn: 1.0403571\ttotal: 48.8ms\tremaining: 342ms\n",
      "25:\tlearn: 1.0368868\ttotal: 50.7ms\tremaining: 340ms\n",
      "26:\tlearn: 1.0347672\ttotal: 52.5ms\tremaining: 337ms\n",
      "27:\tlearn: 1.0331132\ttotal: 54.3ms\tremaining: 334ms\n",
      "28:\tlearn: 1.0306471\ttotal: 56ms\tremaining: 330ms\n",
      "29:\tlearn: 1.0278265\ttotal: 57.8ms\tremaining: 328ms\n",
      "30:\tlearn: 1.0263799\ttotal: 59.6ms\tremaining: 325ms\n",
      "31:\tlearn: 1.0246220\ttotal: 61.3ms\tremaining: 322ms\n",
      "32:\tlearn: 1.0218061\ttotal: 63.2ms\tremaining: 320ms\n",
      "33:\tlearn: 1.0198534\ttotal: 66.3ms\tremaining: 324ms\n",
      "34:\tlearn: 1.0176938\ttotal: 68.4ms\tremaining: 322ms\n",
      "35:\tlearn: 1.0159302\ttotal: 70.2ms\tremaining: 320ms\n",
      "36:\tlearn: 1.0146659\ttotal: 72.2ms\tremaining: 318ms\n",
      "37:\tlearn: 1.0125642\ttotal: 73.9ms\tremaining: 315ms\n",
      "38:\tlearn: 1.0110619\ttotal: 75.8ms\tremaining: 313ms\n",
      "39:\tlearn: 1.0094505\ttotal: 77.6ms\tremaining: 311ms\n",
      "40:\tlearn: 1.0073955\ttotal: 79.6ms\tremaining: 309ms\n",
      "41:\tlearn: 1.0055388\ttotal: 81.4ms\tremaining: 306ms\n",
      "42:\tlearn: 1.0035429\ttotal: 83.4ms\tremaining: 304ms\n",
      "43:\tlearn: 1.0019266\ttotal: 85.5ms\tremaining: 303ms\n",
      "44:\tlearn: 0.9993692\ttotal: 87.6ms\tremaining: 302ms\n",
      "45:\tlearn: 0.9966256\ttotal: 89.4ms\tremaining: 299ms\n",
      "46:\tlearn: 0.9949505\ttotal: 91.3ms\tremaining: 297ms\n",
      "47:\tlearn: 0.9932798\ttotal: 93.5ms\tremaining: 296ms\n",
      "48:\tlearn: 0.9909201\ttotal: 95ms\tremaining: 293ms\n",
      "49:\tlearn: 0.9891190\ttotal: 96.8ms\tremaining: 290ms\n",
      "50:\tlearn: 0.9871813\ttotal: 98.8ms\tremaining: 289ms\n",
      "51:\tlearn: 0.9850954\ttotal: 101ms\tremaining: 286ms\n",
      "52:\tlearn: 0.9828246\ttotal: 103ms\tremaining: 284ms\n",
      "53:\tlearn: 0.9819756\ttotal: 104ms\tremaining: 282ms\n",
      "54:\tlearn: 0.9805951\ttotal: 106ms\tremaining: 280ms\n",
      "55:\tlearn: 0.9790511\ttotal: 108ms\tremaining: 278ms\n",
      "56:\tlearn: 0.9775231\ttotal: 110ms\tremaining: 276ms\n",
      "57:\tlearn: 0.9766092\ttotal: 112ms\tremaining: 274ms\n",
      "58:\tlearn: 0.9757574\ttotal: 114ms\tremaining: 273ms\n",
      "59:\tlearn: 0.9744115\ttotal: 116ms\tremaining: 270ms\n",
      "60:\tlearn: 0.9731689\ttotal: 117ms\tremaining: 268ms\n",
      "61:\tlearn: 0.9712627\ttotal: 119ms\tremaining: 266ms\n",
      "62:\tlearn: 0.9696358\ttotal: 121ms\tremaining: 263ms\n",
      "63:\tlearn: 0.9689749\ttotal: 123ms\tremaining: 262ms\n",
      "64:\tlearn: 0.9667241\ttotal: 125ms\tremaining: 260ms\n",
      "65:\tlearn: 0.9651297\ttotal: 127ms\tremaining: 258ms\n",
      "66:\tlearn: 0.9633453\ttotal: 129ms\tremaining: 256ms\n",
      "67:\tlearn: 0.9619738\ttotal: 131ms\tremaining: 254ms\n",
      "68:\tlearn: 0.9602065\ttotal: 133ms\tremaining: 252ms\n",
      "69:\tlearn: 0.9583127\ttotal: 135ms\tremaining: 250ms\n",
      "70:\tlearn: 0.9561049\ttotal: 137ms\tremaining: 248ms\n",
      "71:\tlearn: 0.9548637\ttotal: 139ms\tremaining: 246ms\n",
      "72:\tlearn: 0.9541088\ttotal: 140ms\tremaining: 244ms\n",
      "73:\tlearn: 0.9530002\ttotal: 142ms\tremaining: 242ms\n",
      "74:\tlearn: 0.9521438\ttotal: 144ms\tremaining: 240ms\n",
      "75:\tlearn: 0.9506361\ttotal: 146ms\tremaining: 238ms\n",
      "76:\tlearn: 0.9498027\ttotal: 147ms\tremaining: 235ms\n",
      "77:\tlearn: 0.9486230\ttotal: 149ms\tremaining: 233ms\n",
      "78:\tlearn: 0.9473493\ttotal: 151ms\tremaining: 232ms\n",
      "79:\tlearn: 0.9464650\ttotal: 153ms\tremaining: 229ms\n",
      "80:\tlearn: 0.9453235\ttotal: 155ms\tremaining: 228ms\n",
      "81:\tlearn: 0.9441174\ttotal: 157ms\tremaining: 226ms\n",
      "82:\tlearn: 0.9428087\ttotal: 158ms\tremaining: 223ms\n",
      "83:\tlearn: 0.9412795\ttotal: 160ms\tremaining: 221ms\n",
      "84:\tlearn: 0.9398152\ttotal: 162ms\tremaining: 219ms\n",
      "85:\tlearn: 0.9387616\ttotal: 164ms\tremaining: 217ms\n",
      "86:\tlearn: 0.9379085\ttotal: 166ms\tremaining: 216ms\n",
      "87:\tlearn: 0.9357872\ttotal: 168ms\tremaining: 214ms\n",
      "88:\tlearn: 0.9338257\ttotal: 170ms\tremaining: 212ms\n",
      "89:\tlearn: 0.9314149\ttotal: 172ms\tremaining: 210ms\n",
      "90:\tlearn: 0.9303705\ttotal: 173ms\tremaining: 208ms\n",
      "91:\tlearn: 0.9277416\ttotal: 175ms\tremaining: 206ms\n",
      "92:\tlearn: 0.9267594\ttotal: 177ms\tremaining: 204ms\n",
      "93:\tlearn: 0.9255541\ttotal: 179ms\tremaining: 202ms\n",
      "94:\tlearn: 0.9249447\ttotal: 181ms\tremaining: 200ms\n",
      "95:\tlearn: 0.9235079\ttotal: 183ms\tremaining: 199ms\n",
      "96:\tlearn: 0.9220022\ttotal: 185ms\tremaining: 197ms\n",
      "97:\tlearn: 0.9209024\ttotal: 187ms\tremaining: 195ms\n",
      "98:\tlearn: 0.9199408\ttotal: 189ms\tremaining: 193ms\n",
      "99:\tlearn: 0.9182353\ttotal: 191ms\tremaining: 191ms\n",
      "100:\tlearn: 0.9172108\ttotal: 194ms\tremaining: 190ms\n",
      "101:\tlearn: 0.9160413\ttotal: 196ms\tremaining: 188ms\n",
      "102:\tlearn: 0.9146778\ttotal: 197ms\tremaining: 186ms\n",
      "103:\tlearn: 0.9137476\ttotal: 199ms\tremaining: 184ms\n",
      "104:\tlearn: 0.9130705\ttotal: 201ms\tremaining: 182ms\n",
      "105:\tlearn: 0.9123178\ttotal: 202ms\tremaining: 180ms\n",
      "106:\tlearn: 0.9114435\ttotal: 204ms\tremaining: 177ms\n",
      "107:\tlearn: 0.9107511\ttotal: 206ms\tremaining: 175ms\n",
      "108:\tlearn: 0.9103077\ttotal: 208ms\tremaining: 174ms\n",
      "109:\tlearn: 0.9091255\ttotal: 210ms\tremaining: 172ms\n",
      "110:\tlearn: 0.9075174\ttotal: 211ms\tremaining: 169ms\n",
      "111:\tlearn: 0.9061192\ttotal: 213ms\tremaining: 167ms\n",
      "112:\tlearn: 0.9050475\ttotal: 215ms\tremaining: 165ms\n",
      "113:\tlearn: 0.9042965\ttotal: 217ms\tremaining: 163ms\n",
      "114:\tlearn: 0.9029838\ttotal: 218ms\tremaining: 161ms\n",
      "115:\tlearn: 0.9016529\ttotal: 220ms\tremaining: 159ms\n",
      "116:\tlearn: 0.9005837\ttotal: 222ms\tremaining: 157ms\n",
      "117:\tlearn: 0.8994816\ttotal: 224ms\tremaining: 156ms\n",
      "118:\tlearn: 0.8987204\ttotal: 226ms\tremaining: 154ms\n",
      "119:\tlearn: 0.8977346\ttotal: 227ms\tremaining: 151ms\n",
      "120:\tlearn: 0.8971439\ttotal: 229ms\tremaining: 149ms\n",
      "121:\tlearn: 0.8965584\ttotal: 231ms\tremaining: 148ms\n",
      "122:\tlearn: 0.8951644\ttotal: 233ms\tremaining: 146ms\n",
      "123:\tlearn: 0.8937471\ttotal: 234ms\tremaining: 144ms\n",
      "124:\tlearn: 0.8930908\ttotal: 236ms\tremaining: 142ms\n",
      "125:\tlearn: 0.8915550\ttotal: 238ms\tremaining: 140ms\n",
      "126:\tlearn: 0.8903331\ttotal: 240ms\tremaining: 138ms\n",
      "127:\tlearn: 0.8892562\ttotal: 241ms\tremaining: 136ms\n",
      "128:\tlearn: 0.8879228\ttotal: 243ms\tremaining: 134ms\n",
      "129:\tlearn: 0.8868030\ttotal: 245ms\tremaining: 132ms\n",
      "130:\tlearn: 0.8859046\ttotal: 246ms\tremaining: 130ms\n",
      "131:\tlearn: 0.8846327\ttotal: 248ms\tremaining: 128ms\n",
      "132:\tlearn: 0.8838128\ttotal: 250ms\tremaining: 126ms\n",
      "133:\tlearn: 0.8827200\ttotal: 252ms\tremaining: 124ms\n",
      "134:\tlearn: 0.8817477\ttotal: 253ms\tremaining: 122ms\n",
      "135:\tlearn: 0.8811536\ttotal: 255ms\tremaining: 120ms\n",
      "136:\tlearn: 0.8799913\ttotal: 258ms\tremaining: 118ms\n",
      "137:\tlearn: 0.8791098\ttotal: 259ms\tremaining: 116ms\n",
      "138:\tlearn: 0.8776343\ttotal: 262ms\tremaining: 115ms\n",
      "139:\tlearn: 0.8769043\ttotal: 264ms\tremaining: 113ms\n",
      "140:\tlearn: 0.8758034\ttotal: 267ms\tremaining: 112ms\n",
      "141:\tlearn: 0.8748787\ttotal: 269ms\tremaining: 110ms\n",
      "142:\tlearn: 0.8735901\ttotal: 271ms\tremaining: 108ms\n",
      "143:\tlearn: 0.8713252\ttotal: 272ms\tremaining: 106ms\n",
      "144:\tlearn: 0.8703380\ttotal: 274ms\tremaining: 104ms\n",
      "145:\tlearn: 0.8694506\ttotal: 275ms\tremaining: 102ms\n",
      "146:\tlearn: 0.8689665\ttotal: 278ms\tremaining: 100ms\n",
      "147:\tlearn: 0.8680419\ttotal: 280ms\tremaining: 98.3ms\n",
      "148:\tlearn: 0.8669568\ttotal: 282ms\tremaining: 96.4ms\n",
      "149:\tlearn: 0.8655648\ttotal: 283ms\tremaining: 94.4ms\n",
      "150:\tlearn: 0.8645943\ttotal: 285ms\tremaining: 92.5ms\n",
      "151:\tlearn: 0.8636318\ttotal: 287ms\tremaining: 90.5ms\n",
      "152:\tlearn: 0.8622547\ttotal: 289ms\tremaining: 88.7ms\n",
      "153:\tlearn: 0.8619033\ttotal: 290ms\tremaining: 86.7ms\n",
      "154:\tlearn: 0.8612422\ttotal: 292ms\tremaining: 84.9ms\n",
      "155:\tlearn: 0.8592937\ttotal: 294ms\tremaining: 83ms\n",
      "156:\tlearn: 0.8581876\ttotal: 296ms\tremaining: 81.1ms\n",
      "157:\tlearn: 0.8576378\ttotal: 298ms\tremaining: 79.2ms\n",
      "158:\tlearn: 0.8572889\ttotal: 300ms\tremaining: 77.2ms\n",
      "159:\tlearn: 0.8562706\ttotal: 301ms\tremaining: 75.3ms\n",
      "160:\tlearn: 0.8547955\ttotal: 303ms\tremaining: 73.4ms\n",
      "161:\tlearn: 0.8536715\ttotal: 305ms\tremaining: 71.5ms\n",
      "162:\tlearn: 0.8520322\ttotal: 307ms\tremaining: 69.7ms\n",
      "163:\tlearn: 0.8505509\ttotal: 309ms\tremaining: 67.8ms\n",
      "164:\tlearn: 0.8492750\ttotal: 310ms\tremaining: 65.8ms\n",
      "165:\tlearn: 0.8485331\ttotal: 312ms\tremaining: 64ms\n",
      "166:\tlearn: 0.8476701\ttotal: 314ms\tremaining: 62ms\n",
      "167:\tlearn: 0.8472978\ttotal: 316ms\tremaining: 60.1ms\n",
      "168:\tlearn: 0.8456598\ttotal: 317ms\tremaining: 58.2ms\n",
      "169:\tlearn: 0.8449250\ttotal: 319ms\tremaining: 56.3ms\n",
      "170:\tlearn: 0.8437554\ttotal: 321ms\tremaining: 54.5ms\n",
      "171:\tlearn: 0.8428472\ttotal: 323ms\tremaining: 52.6ms\n",
      "172:\tlearn: 0.8416655\ttotal: 325ms\tremaining: 50.7ms\n",
      "173:\tlearn: 0.8410801\ttotal: 326ms\tremaining: 48.8ms\n",
      "174:\tlearn: 0.8406459\ttotal: 328ms\tremaining: 46.9ms\n",
      "175:\tlearn: 0.8401183\ttotal: 330ms\tremaining: 45ms\n",
      "176:\tlearn: 0.8395288\ttotal: 332ms\tremaining: 43.1ms\n",
      "177:\tlearn: 0.8387018\ttotal: 333ms\tremaining: 41.2ms\n",
      "178:\tlearn: 0.8378420\ttotal: 335ms\tremaining: 39.3ms\n",
      "179:\tlearn: 0.8369454\ttotal: 337ms\tremaining: 37.5ms\n",
      "180:\tlearn: 0.8362373\ttotal: 339ms\tremaining: 35.6ms\n",
      "181:\tlearn: 0.8352998\ttotal: 340ms\tremaining: 33.7ms\n",
      "182:\tlearn: 0.8348771\ttotal: 342ms\tremaining: 31.8ms\n",
      "183:\tlearn: 0.8336301\ttotal: 344ms\tremaining: 29.9ms\n",
      "184:\tlearn: 0.8326540\ttotal: 346ms\tremaining: 28ms\n",
      "185:\tlearn: 0.8320329\ttotal: 347ms\tremaining: 26.1ms\n",
      "186:\tlearn: 0.8314102\ttotal: 349ms\tremaining: 24.3ms\n",
      "187:\tlearn: 0.8304929\ttotal: 352ms\tremaining: 22.5ms\n",
      "188:\tlearn: 0.8290261\ttotal: 355ms\tremaining: 20.6ms\n",
      "189:\tlearn: 0.8283153\ttotal: 356ms\tremaining: 18.8ms\n",
      "190:\tlearn: 0.8273977\ttotal: 358ms\tremaining: 16.9ms\n",
      "191:\tlearn: 0.8266911\ttotal: 360ms\tremaining: 15ms\n",
      "192:\tlearn: 0.8256841\ttotal: 362ms\tremaining: 13.1ms\n",
      "193:\tlearn: 0.8246625\ttotal: 364ms\tremaining: 11.3ms\n",
      "194:\tlearn: 0.8237358\ttotal: 367ms\tremaining: 9.41ms\n",
      "195:\tlearn: 0.8230789\ttotal: 369ms\tremaining: 7.53ms\n",
      "196:\tlearn: 0.8225653\ttotal: 371ms\tremaining: 5.65ms\n",
      "197:\tlearn: 0.8220786\ttotal: 373ms\tremaining: 3.76ms\n",
      "198:\tlearn: 0.8215877\ttotal: 374ms\tremaining: 1.88ms\n",
      "199:\tlearn: 0.8212514\ttotal: 376ms\tremaining: 0us\n",
      "Melhores valores:  {'max_depth': 3}\n",
      "-----------------------------\n",
      "Testando Variáveis: subsample\n",
      "Não usar subsample\n"
     ]
    }
   ],
   "source": [
    "tunning_hiperpametros(CatBoostClassifier, X_train, y_train)"
   ]
  },
  {
   "cell_type": "code",
   "execution_count": 111,
   "id": "2802c68e",
   "metadata": {
    "scrolled": true
   },
   "outputs": [
    {
     "name": "stdout",
     "output_type": "stream",
     "text": [
      "0:\tlearn: 1.0956060\ttest: 1.0969713\tbest: 1.0969713 (0)\ttotal: 14.1ms\tremaining: 2m 21s\n",
      "1:\tlearn: 1.0933984\ttest: 1.0959088\tbest: 1.0959088 (1)\ttotal: 19.7ms\tremaining: 1m 38s\n",
      "2:\tlearn: 1.0909542\ttest: 1.0950566\tbest: 1.0950566 (2)\ttotal: 35.1ms\tremaining: 1m 56s\n",
      "3:\tlearn: 1.0881008\ttest: 1.0934145\tbest: 1.0934145 (3)\ttotal: 50ms\tremaining: 2m 5s\n",
      "4:\tlearn: 1.0850463\ttest: 1.0912478\tbest: 1.0912478 (4)\ttotal: 61ms\tremaining: 2m 1s\n",
      "5:\tlearn: 1.0819650\ttest: 1.0908479\tbest: 1.0908479 (5)\ttotal: 75.1ms\tremaining: 2m 5s\n",
      "6:\tlearn: 1.0794326\ttest: 1.0894390\tbest: 1.0894390 (6)\ttotal: 94.1ms\tremaining: 2m 14s\n",
      "7:\tlearn: 1.0773719\ttest: 1.0882317\tbest: 1.0882317 (7)\ttotal: 109ms\tremaining: 2m 16s\n",
      "8:\tlearn: 1.0753602\ttest: 1.0877473\tbest: 1.0877473 (8)\ttotal: 124ms\tremaining: 2m 17s\n",
      "9:\tlearn: 1.0731565\ttest: 1.0871372\tbest: 1.0871372 (9)\ttotal: 137ms\tremaining: 2m 16s\n",
      "10:\tlearn: 1.0714039\ttest: 1.0859488\tbest: 1.0859488 (10)\ttotal: 149ms\tremaining: 2m 15s\n",
      "11:\tlearn: 1.0690305\ttest: 1.0844191\tbest: 1.0844191 (11)\ttotal: 154ms\tremaining: 2m 8s\n",
      "12:\tlearn: 1.0670192\ttest: 1.0839854\tbest: 1.0839854 (12)\ttotal: 166ms\tremaining: 2m 7s\n",
      "13:\tlearn: 1.0633947\ttest: 1.0833086\tbest: 1.0833086 (13)\ttotal: 172ms\tremaining: 2m 2s\n",
      "14:\tlearn: 1.0616712\ttest: 1.0825376\tbest: 1.0825376 (14)\ttotal: 175ms\tremaining: 1m 56s\n",
      "15:\tlearn: 1.0595710\ttest: 1.0816104\tbest: 1.0816104 (15)\ttotal: 187ms\tremaining: 1m 56s\n",
      "16:\tlearn: 1.0568154\ttest: 1.0809649\tbest: 1.0809649 (16)\ttotal: 195ms\tremaining: 1m 54s\n",
      "17:\tlearn: 1.0543664\ttest: 1.0802402\tbest: 1.0802402 (17)\ttotal: 206ms\tremaining: 1m 54s\n",
      "18:\tlearn: 1.0513955\ttest: 1.0797019\tbest: 1.0797019 (18)\ttotal: 219ms\tremaining: 1m 55s\n",
      "19:\tlearn: 1.0490005\ttest: 1.0777577\tbest: 1.0777577 (19)\ttotal: 232ms\tremaining: 1m 55s\n",
      "20:\tlearn: 1.0463806\ttest: 1.0761645\tbest: 1.0761645 (20)\ttotal: 244ms\tremaining: 1m 56s\n",
      "21:\tlearn: 1.0443657\ttest: 1.0758822\tbest: 1.0758822 (21)\ttotal: 257ms\tremaining: 1m 56s\n",
      "22:\tlearn: 1.0417288\ttest: 1.0727970\tbest: 1.0727970 (22)\ttotal: 260ms\tremaining: 1m 52s\n",
      "23:\tlearn: 1.0394292\ttest: 1.0723891\tbest: 1.0723891 (23)\ttotal: 273ms\tremaining: 1m 53s\n",
      "24:\tlearn: 1.0363923\ttest: 1.0717176\tbest: 1.0717176 (24)\ttotal: 277ms\tremaining: 1m 50s\n",
      "25:\tlearn: 1.0343465\ttest: 1.0710747\tbest: 1.0710747 (25)\ttotal: 290ms\tremaining: 1m 51s\n",
      "26:\tlearn: 1.0313530\ttest: 1.0691530\tbest: 1.0691530 (26)\ttotal: 298ms\tremaining: 1m 49s\n",
      "27:\tlearn: 1.0292022\ttest: 1.0690342\tbest: 1.0690342 (27)\ttotal: 310ms\tremaining: 1m 50s\n",
      "28:\tlearn: 1.0269944\ttest: 1.0682735\tbest: 1.0682735 (28)\ttotal: 323ms\tremaining: 1m 51s\n",
      "29:\tlearn: 1.0227793\ttest: 1.0641762\tbest: 1.0641762 (29)\ttotal: 328ms\tremaining: 1m 49s\n",
      "30:\tlearn: 1.0205740\ttest: 1.0632409\tbest: 1.0632409 (30)\ttotal: 340ms\tremaining: 1m 49s\n",
      "31:\tlearn: 1.0179588\ttest: 1.0614437\tbest: 1.0614437 (31)\ttotal: 344ms\tremaining: 1m 47s\n",
      "32:\tlearn: 1.0155780\ttest: 1.0603112\tbest: 1.0603112 (32)\ttotal: 357ms\tremaining: 1m 47s\n",
      "33:\tlearn: 1.0130502\ttest: 1.0607110\tbest: 1.0603112 (32)\ttotal: 362ms\tremaining: 1m 46s\n",
      "34:\tlearn: 1.0109714\ttest: 1.0591704\tbest: 1.0591704 (34)\ttotal: 364ms\tremaining: 1m 43s\n",
      "35:\tlearn: 1.0089127\ttest: 1.0590972\tbest: 1.0590972 (35)\ttotal: 375ms\tremaining: 1m 43s\n",
      "36:\tlearn: 1.0066025\ttest: 1.0572394\tbest: 1.0572394 (36)\ttotal: 387ms\tremaining: 1m 44s\n",
      "37:\tlearn: 1.0045583\ttest: 1.0561311\tbest: 1.0561311 (37)\ttotal: 401ms\tremaining: 1m 45s\n",
      "38:\tlearn: 1.0023347\ttest: 1.0558318\tbest: 1.0558318 (38)\ttotal: 414ms\tremaining: 1m 45s\n",
      "39:\tlearn: 1.0004783\ttest: 1.0547745\tbest: 1.0547745 (39)\ttotal: 427ms\tremaining: 1m 46s\n",
      "40:\tlearn: 0.9976918\ttest: 1.0534832\tbest: 1.0534832 (40)\ttotal: 439ms\tremaining: 1m 46s\n",
      "41:\tlearn: 0.9954938\ttest: 1.0533397\tbest: 1.0533397 (41)\ttotal: 451ms\tremaining: 1m 46s\n",
      "42:\tlearn: 0.9932980\ttest: 1.0524780\tbest: 1.0524780 (42)\ttotal: 462ms\tremaining: 1m 46s\n",
      "43:\tlearn: 0.9908757\ttest: 1.0517099\tbest: 1.0517099 (43)\ttotal: 475ms\tremaining: 1m 47s\n",
      "44:\tlearn: 0.9894439\ttest: 1.0513705\tbest: 1.0513705 (44)\ttotal: 488ms\tremaining: 1m 48s\n",
      "45:\tlearn: 0.9876820\ttest: 1.0506923\tbest: 1.0506923 (45)\ttotal: 501ms\tremaining: 1m 48s\n",
      "46:\tlearn: 0.9854128\ttest: 1.0507815\tbest: 1.0506923 (45)\ttotal: 516ms\tremaining: 1m 49s\n",
      "47:\tlearn: 0.9830601\ttest: 1.0504054\tbest: 1.0504054 (47)\ttotal: 524ms\tremaining: 1m 48s\n",
      "48:\tlearn: 0.9807467\ttest: 1.0492887\tbest: 1.0492887 (48)\ttotal: 537ms\tremaining: 1m 49s\n",
      "49:\tlearn: 0.9792196\ttest: 1.0489051\tbest: 1.0489051 (49)\ttotal: 551ms\tremaining: 1m 49s\n",
      "50:\tlearn: 0.9772914\ttest: 1.0473503\tbest: 1.0473503 (50)\ttotal: 563ms\tremaining: 1m 49s\n",
      "51:\tlearn: 0.9753362\ttest: 1.0465185\tbest: 1.0465185 (51)\ttotal: 571ms\tremaining: 1m 49s\n",
      "52:\tlearn: 0.9735749\ttest: 1.0460724\tbest: 1.0460724 (52)\ttotal: 583ms\tremaining: 1m 49s\n",
      "53:\tlearn: 0.9718144\ttest: 1.0453644\tbest: 1.0453644 (53)\ttotal: 596ms\tremaining: 1m 49s\n",
      "54:\tlearn: 0.9696457\ttest: 1.0437824\tbest: 1.0437824 (54)\ttotal: 609ms\tremaining: 1m 50s\n",
      "55:\tlearn: 0.9679981\ttest: 1.0432532\tbest: 1.0432532 (55)\ttotal: 623ms\tremaining: 1m 50s\n",
      "56:\tlearn: 0.9660061\ttest: 1.0425193\tbest: 1.0425193 (56)\ttotal: 634ms\tremaining: 1m 50s\n",
      "57:\tlearn: 0.9640748\ttest: 1.0417472\tbest: 1.0417472 (57)\ttotal: 642ms\tremaining: 1m 50s\n",
      "58:\tlearn: 0.9617068\ttest: 1.0411099\tbest: 1.0411099 (58)\ttotal: 654ms\tremaining: 1m 50s\n",
      "59:\tlearn: 0.9597725\ttest: 1.0401180\tbest: 1.0401180 (59)\ttotal: 658ms\tremaining: 1m 48s\n",
      "60:\tlearn: 0.9578541\ttest: 1.0395012\tbest: 1.0395012 (60)\ttotal: 660ms\tremaining: 1m 47s\n",
      "61:\tlearn: 0.9557937\ttest: 1.0390360\tbest: 1.0390360 (61)\ttotal: 674ms\tremaining: 1m 48s\n",
      "62:\tlearn: 0.9536536\ttest: 1.0376138\tbest: 1.0376138 (62)\ttotal: 687ms\tremaining: 1m 48s\n",
      "63:\tlearn: 0.9515371\ttest: 1.0375478\tbest: 1.0375478 (63)\ttotal: 699ms\tremaining: 1m 48s\n",
      "64:\tlearn: 0.9497634\ttest: 1.0358881\tbest: 1.0358881 (64)\ttotal: 713ms\tremaining: 1m 49s\n",
      "65:\tlearn: 0.9476782\ttest: 1.0354129\tbest: 1.0354129 (65)\ttotal: 726ms\tremaining: 1m 49s\n",
      "66:\tlearn: 0.9459562\ttest: 1.0347580\tbest: 1.0347580 (66)\ttotal: 739ms\tremaining: 1m 49s\n",
      "67:\tlearn: 0.9442291\ttest: 1.0337214\tbest: 1.0337214 (67)\ttotal: 751ms\tremaining: 1m 49s\n",
      "68:\tlearn: 0.9426487\ttest: 1.0336982\tbest: 1.0336982 (68)\ttotal: 764ms\tremaining: 1m 49s\n",
      "69:\tlearn: 0.9403082\ttest: 1.0326061\tbest: 1.0326061 (69)\ttotal: 776ms\tremaining: 1m 50s\n",
      "70:\tlearn: 0.9383952\ttest: 1.0327324\tbest: 1.0326061 (69)\ttotal: 791ms\tremaining: 1m 50s\n",
      "71:\tlearn: 0.9364846\ttest: 1.0325487\tbest: 1.0325487 (71)\ttotal: 804ms\tremaining: 1m 50s\n",
      "72:\tlearn: 0.9345768\ttest: 1.0320784\tbest: 1.0320784 (72)\ttotal: 816ms\tremaining: 1m 50s\n",
      "73:\tlearn: 0.9321499\ttest: 1.0307546\tbest: 1.0307546 (73)\ttotal: 824ms\tremaining: 1m 50s\n",
      "74:\tlearn: 0.9304937\ttest: 1.0299373\tbest: 1.0299373 (74)\ttotal: 839ms\tremaining: 1m 51s\n",
      "75:\tlearn: 0.9288452\ttest: 1.0297378\tbest: 1.0297378 (75)\ttotal: 852ms\tremaining: 1m 51s\n",
      "76:\tlearn: 0.9270485\ttest: 1.0290957\tbest: 1.0290957 (76)\ttotal: 864ms\tremaining: 1m 51s\n",
      "77:\tlearn: 0.9247389\ttest: 1.0268769\tbest: 1.0268769 (77)\ttotal: 869ms\tremaining: 1m 50s\n",
      "78:\tlearn: 0.9228557\ttest: 1.0251477\tbest: 1.0251477 (78)\ttotal: 872ms\tremaining: 1m 49s\n",
      "79:\tlearn: 0.9208037\ttest: 1.0246454\tbest: 1.0246454 (79)\ttotal: 877ms\tremaining: 1m 48s\n",
      "80:\tlearn: 0.9187660\ttest: 1.0233228\tbest: 1.0233228 (80)\ttotal: 884ms\tremaining: 1m 48s\n",
      "81:\tlearn: 0.9169142\ttest: 1.0228710\tbest: 1.0228710 (81)\ttotal: 896ms\tremaining: 1m 48s\n",
      "82:\tlearn: 0.9151675\ttest: 1.0219940\tbest: 1.0219940 (82)\ttotal: 910ms\tremaining: 1m 48s\n",
      "83:\tlearn: 0.9134666\ttest: 1.0217796\tbest: 1.0217796 (83)\ttotal: 922ms\tremaining: 1m 48s\n",
      "84:\tlearn: 0.9115955\ttest: 1.0219371\tbest: 1.0217796 (83)\ttotal: 934ms\tremaining: 1m 49s\n",
      "85:\tlearn: 0.9095066\ttest: 1.0218134\tbest: 1.0217796 (83)\ttotal: 948ms\tremaining: 1m 49s\n",
      "86:\tlearn: 0.9076536\ttest: 1.0205992\tbest: 1.0205992 (86)\ttotal: 956ms\tremaining: 1m 48s\n",
      "87:\tlearn: 0.9053853\ttest: 1.0199070\tbest: 1.0199070 (87)\ttotal: 965ms\tremaining: 1m 48s\n",
      "88:\tlearn: 0.9040602\ttest: 1.0201378\tbest: 1.0199070 (87)\ttotal: 978ms\tremaining: 1m 48s\n",
      "89:\tlearn: 0.9011046\ttest: 1.0194506\tbest: 1.0194506 (89)\ttotal: 992ms\tremaining: 1m 49s\n",
      "90:\tlearn: 0.8990273\ttest: 1.0195918\tbest: 1.0194506 (89)\ttotal: 1s\tremaining: 1m 48s\n",
      "91:\tlearn: 0.8969812\ttest: 1.0185040\tbest: 1.0185040 (91)\ttotal: 1.01s\tremaining: 1m 49s\n",
      "92:\tlearn: 0.8951756\ttest: 1.0175758\tbest: 1.0175758 (92)\ttotal: 1.03s\tremaining: 1m 49s\n",
      "93:\tlearn: 0.8935040\ttest: 1.0175023\tbest: 1.0175023 (93)\ttotal: 1.04s\tremaining: 1m 50s\n",
      "94:\tlearn: 0.8916177\ttest: 1.0165113\tbest: 1.0165113 (94)\ttotal: 1.05s\tremaining: 1m 50s\n",
      "95:\tlearn: 0.8893950\ttest: 1.0147961\tbest: 1.0147961 (95)\ttotal: 1.06s\tremaining: 1m 49s\n",
      "96:\tlearn: 0.8875546\ttest: 1.0144636\tbest: 1.0144636 (96)\ttotal: 1.07s\tremaining: 1m 49s\n",
      "97:\tlearn: 0.8854126\ttest: 1.0143345\tbest: 1.0143345 (97)\ttotal: 1.08s\tremaining: 1m 48s\n",
      "98:\tlearn: 0.8836100\ttest: 1.0139034\tbest: 1.0139034 (98)\ttotal: 1.09s\tremaining: 1m 48s\n",
      "99:\tlearn: 0.8818954\ttest: 1.0136209\tbest: 1.0136209 (99)\ttotal: 1.1s\tremaining: 1m 48s\n",
      "100:\tlearn: 0.8800659\ttest: 1.0132019\tbest: 1.0132019 (100)\ttotal: 1.11s\tremaining: 1m 49s\n",
      "101:\tlearn: 0.8784484\ttest: 1.0124434\tbest: 1.0124434 (101)\ttotal: 1.13s\tremaining: 1m 49s\n",
      "102:\tlearn: 0.8766919\ttest: 1.0114496\tbest: 1.0114496 (102)\ttotal: 1.14s\tremaining: 1m 49s\n",
      "103:\tlearn: 0.8748422\ttest: 1.0109068\tbest: 1.0109068 (103)\ttotal: 1.15s\tremaining: 1m 49s\n",
      "104:\tlearn: 0.8729891\ttest: 1.0107613\tbest: 1.0107613 (104)\ttotal: 1.17s\tremaining: 1m 49s\n",
      "105:\tlearn: 0.8713538\ttest: 1.0101799\tbest: 1.0101799 (105)\ttotal: 1.18s\tremaining: 1m 49s\n",
      "106:\tlearn: 0.8695856\ttest: 1.0105844\tbest: 1.0101799 (105)\ttotal: 1.18s\tremaining: 1m 49s\n",
      "107:\tlearn: 0.8682914\ttest: 1.0100611\tbest: 1.0100611 (107)\ttotal: 1.19s\tremaining: 1m 49s\n",
      "108:\tlearn: 0.8669135\ttest: 1.0095479\tbest: 1.0095479 (108)\ttotal: 1.21s\tremaining: 1m 49s\n",
      "109:\tlearn: 0.8654315\ttest: 1.0094768\tbest: 1.0094768 (109)\ttotal: 1.22s\tremaining: 1m 49s\n",
      "110:\tlearn: 0.8640236\ttest: 1.0086363\tbest: 1.0086363 (110)\ttotal: 1.23s\tremaining: 1m 49s\n",
      "111:\tlearn: 0.8623839\ttest: 1.0080061\tbest: 1.0080061 (111)\ttotal: 1.25s\tremaining: 1m 49s\n",
      "112:\tlearn: 0.8604695\ttest: 1.0074598\tbest: 1.0074598 (112)\ttotal: 1.26s\tremaining: 1m 50s\n",
      "113:\tlearn: 0.8580529\ttest: 1.0066181\tbest: 1.0066181 (113)\ttotal: 1.27s\tremaining: 1m 50s\n",
      "114:\tlearn: 0.8566751\ttest: 1.0061543\tbest: 1.0061543 (114)\ttotal: 1.27s\tremaining: 1m 49s\n",
      "115:\tlearn: 0.8550692\ttest: 1.0052721\tbest: 1.0052721 (115)\ttotal: 1.28s\tremaining: 1m 49s\n",
      "116:\tlearn: 0.8530665\ttest: 1.0052713\tbest: 1.0052713 (116)\ttotal: 1.29s\tremaining: 1m 49s\n",
      "117:\tlearn: 0.8515138\ttest: 1.0050910\tbest: 1.0050910 (117)\ttotal: 1.3s\tremaining: 1m 48s\n",
      "118:\tlearn: 0.8502257\ttest: 1.0048536\tbest: 1.0048536 (118)\ttotal: 1.31s\tremaining: 1m 48s\n",
      "119:\tlearn: 0.8485161\ttest: 1.0041109\tbest: 1.0041109 (119)\ttotal: 1.32s\tremaining: 1m 48s\n",
      "120:\tlearn: 0.8460940\ttest: 1.0021133\tbest: 1.0021133 (120)\ttotal: 1.33s\tremaining: 1m 49s\n",
      "121:\tlearn: 0.8446717\ttest: 1.0015346\tbest: 1.0015346 (121)\ttotal: 1.35s\tremaining: 1m 49s\n",
      "122:\tlearn: 0.8428371\ttest: 0.9999571\tbest: 0.9999571 (122)\ttotal: 1.36s\tremaining: 1m 49s\n",
      "123:\tlearn: 0.8410439\ttest: 0.9993376\tbest: 0.9993376 (123)\ttotal: 1.37s\tremaining: 1m 49s\n",
      "124:\tlearn: 0.8396047\ttest: 0.9991111\tbest: 0.9991111 (124)\ttotal: 1.38s\tremaining: 1m 49s\n",
      "125:\tlearn: 0.8381171\ttest: 0.9991113\tbest: 0.9991111 (124)\ttotal: 1.39s\tremaining: 1m 49s\n",
      "126:\tlearn: 0.8361707\ttest: 0.9984429\tbest: 0.9984429 (126)\ttotal: 1.41s\tremaining: 1m 49s\n",
      "127:\tlearn: 0.8343305\ttest: 0.9975490\tbest: 0.9975490 (127)\ttotal: 1.42s\tremaining: 1m 49s\n",
      "128:\tlearn: 0.8325786\ttest: 0.9958996\tbest: 0.9958996 (128)\ttotal: 1.43s\tremaining: 1m 49s\n",
      "129:\tlearn: 0.8305704\ttest: 0.9950141\tbest: 0.9950141 (129)\ttotal: 1.44s\tremaining: 1m 49s\n",
      "130:\tlearn: 0.8291554\ttest: 0.9939421\tbest: 0.9939421 (130)\ttotal: 1.45s\tremaining: 1m 49s\n",
      "131:\tlearn: 0.8279652\ttest: 0.9939433\tbest: 0.9939421 (130)\ttotal: 1.47s\tremaining: 1m 49s\n",
      "132:\tlearn: 0.8266987\ttest: 0.9935861\tbest: 0.9935861 (132)\ttotal: 1.48s\tremaining: 1m 49s\n",
      "133:\tlearn: 0.8249979\ttest: 0.9928149\tbest: 0.9928149 (133)\ttotal: 1.49s\tremaining: 1m 49s\n",
      "134:\tlearn: 0.8235450\ttest: 0.9923979\tbest: 0.9923979 (134)\ttotal: 1.5s\tremaining: 1m 50s\n",
      "135:\tlearn: 0.8219784\ttest: 0.9921086\tbest: 0.9921086 (135)\ttotal: 1.52s\tremaining: 1m 50s\n",
      "136:\tlearn: 0.8198737\ttest: 0.9914115\tbest: 0.9914115 (136)\ttotal: 1.52s\tremaining: 1m 49s\n",
      "137:\tlearn: 0.8184873\ttest: 0.9912264\tbest: 0.9912264 (137)\ttotal: 1.54s\tremaining: 1m 50s\n",
      "138:\tlearn: 0.8170439\ttest: 0.9907250\tbest: 0.9907250 (138)\ttotal: 1.55s\tremaining: 1m 50s\n",
      "139:\tlearn: 0.8146844\ttest: 0.9891535\tbest: 0.9891535 (139)\ttotal: 1.56s\tremaining: 1m 50s\n",
      "140:\tlearn: 0.8130869\ttest: 0.9883765\tbest: 0.9883765 (140)\ttotal: 1.57s\tremaining: 1m 50s\n",
      "141:\tlearn: 0.8110130\ttest: 0.9872981\tbest: 0.9872981 (141)\ttotal: 1.59s\tremaining: 1m 50s\n",
      "142:\tlearn: 0.8092213\ttest: 0.9872360\tbest: 0.9872360 (142)\ttotal: 1.59s\tremaining: 1m 49s\n",
      "143:\tlearn: 0.8076051\ttest: 0.9871147\tbest: 0.9871147 (143)\ttotal: 1.6s\tremaining: 1m 49s\n",
      "144:\tlearn: 0.8057442\ttest: 0.9859622\tbest: 0.9859622 (144)\ttotal: 1.62s\tremaining: 1m 49s\n",
      "145:\tlearn: 0.8031827\ttest: 0.9854670\tbest: 0.9854670 (145)\ttotal: 1.63s\tremaining: 1m 49s\n",
      "146:\tlearn: 0.8017110\ttest: 0.9856297\tbest: 0.9854670 (145)\ttotal: 1.64s\tremaining: 1m 50s\n",
      "147:\tlearn: 0.8004573\ttest: 0.9856120\tbest: 0.9854670 (145)\ttotal: 1.66s\tremaining: 1m 50s\n",
      "148:\tlearn: 0.7989540\ttest: 0.9841965\tbest: 0.9841965 (148)\ttotal: 1.67s\tremaining: 1m 50s\n",
      "149:\tlearn: 0.7979704\ttest: 0.9836285\tbest: 0.9836285 (149)\ttotal: 1.69s\tremaining: 1m 50s\n",
      "150:\tlearn: 0.7966013\ttest: 0.9828379\tbest: 0.9828379 (150)\ttotal: 1.69s\tremaining: 1m 50s\n",
      "151:\tlearn: 0.7947840\ttest: 0.9819269\tbest: 0.9819269 (151)\ttotal: 1.71s\tremaining: 1m 50s\n",
      "152:\tlearn: 0.7934324\ttest: 0.9822858\tbest: 0.9819269 (151)\ttotal: 1.73s\tremaining: 1m 51s\n",
      "153:\tlearn: 0.7918731\ttest: 0.9817712\tbest: 0.9817712 (153)\ttotal: 1.74s\tremaining: 1m 51s\n",
      "154:\tlearn: 0.7907574\ttest: 0.9820078\tbest: 0.9817712 (153)\ttotal: 1.75s\tremaining: 1m 50s\n",
      "155:\tlearn: 0.7895945\ttest: 0.9818782\tbest: 0.9817712 (153)\ttotal: 1.76s\tremaining: 1m 51s\n",
      "156:\tlearn: 0.7880511\ttest: 0.9811796\tbest: 0.9811796 (156)\ttotal: 1.78s\tremaining: 1m 51s\n",
      "157:\tlearn: 0.7865427\ttest: 0.9804285\tbest: 0.9804285 (157)\ttotal: 1.8s\tremaining: 1m 52s\n",
      "158:\tlearn: 0.7853423\ttest: 0.9799746\tbest: 0.9799746 (158)\ttotal: 1.81s\tremaining: 1m 52s\n",
      "159:\tlearn: 0.7837027\ttest: 0.9803681\tbest: 0.9799746 (158)\ttotal: 1.83s\tremaining: 1m 52s\n",
      "160:\tlearn: 0.7826949\ttest: 0.9799409\tbest: 0.9799409 (160)\ttotal: 1.83s\tremaining: 1m 52s\n",
      "161:\tlearn: 0.7813577\ttest: 0.9790748\tbest: 0.9790748 (161)\ttotal: 1.85s\tremaining: 1m 52s\n",
      "162:\tlearn: 0.7800711\ttest: 0.9782052\tbest: 0.9782052 (162)\ttotal: 1.86s\tremaining: 1m 52s\n",
      "163:\tlearn: 0.7785760\ttest: 0.9783170\tbest: 0.9782052 (162)\ttotal: 1.88s\tremaining: 1m 52s\n",
      "164:\tlearn: 0.7770627\ttest: 0.9777642\tbest: 0.9777642 (164)\ttotal: 1.89s\tremaining: 1m 52s\n",
      "165:\tlearn: 0.7757597\ttest: 0.9777310\tbest: 0.9777310 (165)\ttotal: 1.91s\tremaining: 1m 52s\n",
      "166:\tlearn: 0.7744317\ttest: 0.9774817\tbest: 0.9774817 (166)\ttotal: 1.91s\tremaining: 1m 52s\n",
      "167:\tlearn: 0.7731548\ttest: 0.9775410\tbest: 0.9774817 (166)\ttotal: 1.93s\tremaining: 1m 52s\n",
      "168:\tlearn: 0.7721845\ttest: 0.9776565\tbest: 0.9774817 (166)\ttotal: 1.93s\tremaining: 1m 52s\n",
      "169:\tlearn: 0.7714973\ttest: 0.9773461\tbest: 0.9773461 (169)\ttotal: 1.94s\tremaining: 1m 52s\n",
      "170:\tlearn: 0.7703658\ttest: 0.9771119\tbest: 0.9771119 (170)\ttotal: 1.95s\tremaining: 1m 52s\n",
      "171:\tlearn: 0.7691115\ttest: 0.9770970\tbest: 0.9770970 (171)\ttotal: 1.97s\tremaining: 1m 52s\n",
      "172:\tlearn: 0.7678041\ttest: 0.9760931\tbest: 0.9760931 (172)\ttotal: 1.98s\tremaining: 1m 52s\n",
      "173:\tlearn: 0.7665009\ttest: 0.9761764\tbest: 0.9760931 (172)\ttotal: 1.99s\tremaining: 1m 52s\n",
      "174:\tlearn: 0.7650359\ttest: 0.9761456\tbest: 0.9760931 (172)\ttotal: 2s\tremaining: 1m 52s\n",
      "175:\tlearn: 0.7633328\ttest: 0.9752816\tbest: 0.9752816 (175)\ttotal: 2.02s\tremaining: 1m 52s\n",
      "176:\tlearn: 0.7621993\ttest: 0.9751578\tbest: 0.9751578 (176)\ttotal: 2.04s\tremaining: 1m 53s\n",
      "177:\tlearn: 0.7607051\ttest: 0.9742295\tbest: 0.9742295 (177)\ttotal: 2.05s\tremaining: 1m 53s\n",
      "178:\tlearn: 0.7592544\ttest: 0.9740438\tbest: 0.9740438 (178)\ttotal: 2.07s\tremaining: 1m 53s\n",
      "179:\tlearn: 0.7580971\ttest: 0.9731730\tbest: 0.9731730 (179)\ttotal: 2.08s\tremaining: 1m 53s\n",
      "180:\tlearn: 0.7569330\ttest: 0.9728606\tbest: 0.9728606 (180)\ttotal: 2.1s\tremaining: 1m 53s\n",
      "181:\tlearn: 0.7554704\ttest: 0.9721186\tbest: 0.9721186 (181)\ttotal: 2.11s\tremaining: 1m 53s\n",
      "182:\tlearn: 0.7543570\ttest: 0.9717895\tbest: 0.9717895 (182)\ttotal: 2.12s\tremaining: 1m 53s\n",
      "183:\tlearn: 0.7531174\ttest: 0.9711976\tbest: 0.9711976 (183)\ttotal: 2.14s\tremaining: 1m 53s\n",
      "184:\tlearn: 0.7520170\ttest: 0.9709443\tbest: 0.9709443 (184)\ttotal: 2.15s\tremaining: 1m 54s\n",
      "185:\tlearn: 0.7506385\ttest: 0.9704981\tbest: 0.9704981 (185)\ttotal: 2.16s\tremaining: 1m 54s\n",
      "186:\tlearn: 0.7494455\ttest: 0.9683183\tbest: 0.9683183 (186)\ttotal: 2.17s\tremaining: 1m 53s\n",
      "187:\tlearn: 0.7476997\ttest: 0.9678190\tbest: 0.9678190 (187)\ttotal: 2.17s\tremaining: 1m 53s\n",
      "188:\tlearn: 0.7459815\ttest: 0.9666461\tbest: 0.9666461 (188)\ttotal: 2.18s\tremaining: 1m 53s\n",
      "189:\tlearn: 0.7449971\ttest: 0.9663851\tbest: 0.9663851 (189)\ttotal: 2.19s\tremaining: 1m 53s\n",
      "190:\tlearn: 0.7435080\ttest: 0.9659037\tbest: 0.9659037 (190)\ttotal: 2.2s\tremaining: 1m 53s\n",
      "191:\tlearn: 0.7422405\ttest: 0.9661193\tbest: 0.9659037 (190)\ttotal: 2.21s\tremaining: 1m 53s\n",
      "192:\tlearn: 0.7411998\ttest: 0.9660701\tbest: 0.9659037 (190)\ttotal: 2.23s\tremaining: 1m 53s\n",
      "193:\tlearn: 0.7394082\ttest: 0.9654383\tbest: 0.9654383 (193)\ttotal: 2.24s\tremaining: 1m 53s\n",
      "194:\tlearn: 0.7384533\ttest: 0.9649973\tbest: 0.9649973 (194)\ttotal: 2.25s\tremaining: 1m 53s\n",
      "195:\tlearn: 0.7370525\ttest: 0.9643932\tbest: 0.9643932 (195)\ttotal: 2.27s\tremaining: 1m 53s\n",
      "196:\tlearn: 0.7360613\ttest: 0.9636789\tbest: 0.9636789 (196)\ttotal: 2.28s\tremaining: 1m 53s\n",
      "197:\tlearn: 0.7347450\ttest: 0.9634565\tbest: 0.9634565 (197)\ttotal: 2.28s\tremaining: 1m 53s\n",
      "198:\tlearn: 0.7335912\ttest: 0.9632632\tbest: 0.9632632 (198)\ttotal: 2.29s\tremaining: 1m 53s\n",
      "199:\tlearn: 0.7322775\ttest: 0.9637570\tbest: 0.9632632 (198)\ttotal: 2.3s\tremaining: 1m 52s\n",
      "200:\tlearn: 0.7310408\ttest: 0.9633872\tbest: 0.9632632 (198)\ttotal: 2.31s\tremaining: 1m 52s\n",
      "201:\tlearn: 0.7295727\ttest: 0.9630932\tbest: 0.9630932 (201)\ttotal: 2.33s\tremaining: 1m 52s\n",
      "202:\tlearn: 0.7281734\ttest: 0.9623395\tbest: 0.9623395 (202)\ttotal: 2.34s\tremaining: 1m 52s\n",
      "203:\tlearn: 0.7269069\ttest: 0.9621673\tbest: 0.9621673 (203)\ttotal: 2.35s\tremaining: 1m 52s\n",
      "204:\tlearn: 0.7255781\ttest: 0.9617667\tbest: 0.9617667 (204)\ttotal: 2.36s\tremaining: 1m 52s\n",
      "205:\tlearn: 0.7239615\ttest: 0.9617257\tbest: 0.9617257 (205)\ttotal: 2.37s\tremaining: 1m 52s\n",
      "206:\tlearn: 0.7229249\ttest: 0.9614366\tbest: 0.9614366 (206)\ttotal: 2.38s\tremaining: 1m 52s\n",
      "207:\tlearn: 0.7217106\ttest: 0.9615792\tbest: 0.9614366 (206)\ttotal: 2.4s\tremaining: 1m 52s\n",
      "208:\tlearn: 0.7206502\ttest: 0.9608950\tbest: 0.9608950 (208)\ttotal: 2.41s\tremaining: 1m 52s\n",
      "209:\tlearn: 0.7191749\ttest: 0.9602957\tbest: 0.9602957 (209)\ttotal: 2.42s\tremaining: 1m 52s\n",
      "210:\tlearn: 0.7173738\ttest: 0.9600403\tbest: 0.9600403 (210)\ttotal: 2.43s\tremaining: 1m 52s\n",
      "211:\tlearn: 0.7157529\ttest: 0.9595447\tbest: 0.9595447 (211)\ttotal: 2.44s\tremaining: 1m 52s\n",
      "212:\tlearn: 0.7145893\ttest: 0.9589777\tbest: 0.9589777 (212)\ttotal: 2.45s\tremaining: 1m 52s\n",
      "213:\tlearn: 0.7132542\ttest: 0.9587317\tbest: 0.9587317 (213)\ttotal: 2.46s\tremaining: 1m 52s\n",
      "214:\tlearn: 0.7119431\ttest: 0.9586708\tbest: 0.9586708 (214)\ttotal: 2.47s\tremaining: 1m 52s\n",
      "215:\tlearn: 0.7104635\ttest: 0.9585298\tbest: 0.9585298 (215)\ttotal: 2.48s\tremaining: 1m 52s\n",
      "216:\tlearn: 0.7095076\ttest: 0.9582097\tbest: 0.9582097 (216)\ttotal: 2.49s\tremaining: 1m 52s\n",
      "217:\tlearn: 0.7084503\ttest: 0.9580320\tbest: 0.9580320 (217)\ttotal: 2.5s\tremaining: 1m 52s\n",
      "218:\tlearn: 0.7074401\ttest: 0.9578418\tbest: 0.9578418 (218)\ttotal: 2.51s\tremaining: 1m 52s\n",
      "219:\tlearn: 0.7061731\ttest: 0.9572054\tbest: 0.9572054 (219)\ttotal: 2.52s\tremaining: 1m 52s\n",
      "220:\tlearn: 0.7048655\ttest: 0.9572820\tbest: 0.9572054 (219)\ttotal: 2.53s\tremaining: 1m 52s\n",
      "221:\tlearn: 0.7037326\ttest: 0.9574671\tbest: 0.9572054 (219)\ttotal: 2.54s\tremaining: 1m 52s\n",
      "222:\tlearn: 0.7025217\ttest: 0.9571320\tbest: 0.9571320 (222)\ttotal: 2.56s\tremaining: 1m 52s\n",
      "223:\tlearn: 0.7014971\ttest: 0.9570894\tbest: 0.9570894 (223)\ttotal: 2.57s\tremaining: 1m 52s\n",
      "224:\tlearn: 0.7001578\ttest: 0.9567659\tbest: 0.9567659 (224)\ttotal: 2.58s\tremaining: 1m 52s\n",
      "225:\tlearn: 0.6987830\ttest: 0.9567132\tbest: 0.9567132 (225)\ttotal: 2.59s\tremaining: 1m 52s\n",
      "226:\tlearn: 0.6977146\ttest: 0.9557670\tbest: 0.9557670 (226)\ttotal: 2.6s\tremaining: 1m 52s\n",
      "227:\tlearn: 0.6960880\ttest: 0.9556442\tbest: 0.9556442 (227)\ttotal: 2.61s\tremaining: 1m 51s\n",
      "228:\tlearn: 0.6948168\ttest: 0.9556649\tbest: 0.9556442 (227)\ttotal: 2.62s\tremaining: 1m 51s\n",
      "229:\tlearn: 0.6937264\ttest: 0.9558300\tbest: 0.9556442 (227)\ttotal: 2.64s\tremaining: 1m 52s\n",
      "230:\tlearn: 0.6926776\ttest: 0.9556613\tbest: 0.9556442 (227)\ttotal: 2.65s\tremaining: 1m 52s\n",
      "231:\tlearn: 0.6916274\ttest: 0.9554394\tbest: 0.9554394 (231)\ttotal: 2.66s\tremaining: 1m 52s\n",
      "232:\tlearn: 0.6902926\ttest: 0.9552449\tbest: 0.9552449 (232)\ttotal: 2.67s\tremaining: 1m 51s\n",
      "233:\tlearn: 0.6888118\ttest: 0.9547078\tbest: 0.9547078 (233)\ttotal: 2.68s\tremaining: 1m 51s\n",
      "234:\tlearn: 0.6874355\ttest: 0.9543589\tbest: 0.9543589 (234)\ttotal: 2.69s\tremaining: 1m 52s\n",
      "235:\tlearn: 0.6864602\ttest: 0.9535840\tbest: 0.9535840 (235)\ttotal: 2.71s\tremaining: 1m 52s\n",
      "236:\tlearn: 0.6852508\ttest: 0.9528744\tbest: 0.9528744 (236)\ttotal: 2.72s\tremaining: 1m 52s\n",
      "237:\tlearn: 0.6843318\ttest: 0.9526691\tbest: 0.9526691 (237)\ttotal: 2.73s\tremaining: 1m 52s\n",
      "238:\tlearn: 0.6829335\ttest: 0.9519475\tbest: 0.9519475 (238)\ttotal: 2.74s\tremaining: 1m 52s\n",
      "239:\tlearn: 0.6817863\ttest: 0.9515714\tbest: 0.9515714 (239)\ttotal: 2.76s\tremaining: 1m 52s\n",
      "240:\tlearn: 0.6808618\ttest: 0.9511137\tbest: 0.9511137 (240)\ttotal: 2.77s\tremaining: 1m 52s\n",
      "241:\tlearn: 0.6796271\ttest: 0.9508885\tbest: 0.9508885 (241)\ttotal: 2.79s\tremaining: 1m 52s\n",
      "242:\tlearn: 0.6780395\ttest: 0.9497837\tbest: 0.9497837 (242)\ttotal: 2.8s\tremaining: 1m 52s\n",
      "243:\tlearn: 0.6766312\ttest: 0.9494497\tbest: 0.9494497 (243)\ttotal: 2.81s\tremaining: 1m 52s\n",
      "244:\tlearn: 0.6755714\ttest: 0.9495002\tbest: 0.9494497 (243)\ttotal: 2.82s\tremaining: 1m 52s\n",
      "245:\tlearn: 0.6742852\ttest: 0.9484130\tbest: 0.9484130 (245)\ttotal: 2.83s\tremaining: 1m 52s\n",
      "246:\tlearn: 0.6730111\ttest: 0.9478959\tbest: 0.9478959 (246)\ttotal: 2.85s\tremaining: 1m 52s\n",
      "247:\tlearn: 0.6720343\ttest: 0.9472942\tbest: 0.9472942 (247)\ttotal: 2.86s\tremaining: 1m 52s\n",
      "248:\tlearn: 0.6707138\ttest: 0.9469310\tbest: 0.9469310 (248)\ttotal: 2.87s\tremaining: 1m 52s\n",
      "249:\tlearn: 0.6695004\ttest: 0.9468836\tbest: 0.9468836 (249)\ttotal: 2.88s\tremaining: 1m 52s\n",
      "250:\tlearn: 0.6682916\ttest: 0.9470246\tbest: 0.9468836 (249)\ttotal: 2.88s\tremaining: 1m 51s\n",
      "251:\tlearn: 0.6673154\ttest: 0.9466651\tbest: 0.9466651 (251)\ttotal: 2.89s\tremaining: 1m 51s\n",
      "252:\tlearn: 0.6661811\ttest: 0.9459423\tbest: 0.9459423 (252)\ttotal: 2.9s\tremaining: 1m 51s\n",
      "253:\tlearn: 0.6650862\ttest: 0.9458841\tbest: 0.9458841 (253)\ttotal: 2.92s\tremaining: 1m 51s\n",
      "254:\tlearn: 0.6638140\ttest: 0.9457240\tbest: 0.9457240 (254)\ttotal: 2.93s\tremaining: 1m 51s\n",
      "255:\tlearn: 0.6629376\ttest: 0.9456871\tbest: 0.9456871 (255)\ttotal: 2.94s\tremaining: 1m 51s\n",
      "256:\tlearn: 0.6621552\ttest: 0.9456939\tbest: 0.9456871 (255)\ttotal: 2.95s\tremaining: 1m 51s\n",
      "257:\tlearn: 0.6608792\ttest: 0.9455862\tbest: 0.9455862 (257)\ttotal: 2.97s\tremaining: 1m 52s\n",
      "258:\tlearn: 0.6602903\ttest: 0.9456497\tbest: 0.9455862 (257)\ttotal: 2.97s\tremaining: 1m 51s\n",
      "259:\tlearn: 0.6592293\ttest: 0.9456995\tbest: 0.9455862 (257)\ttotal: 2.98s\tremaining: 1m 51s\n",
      "260:\tlearn: 0.6581443\ttest: 0.9453065\tbest: 0.9453065 (260)\ttotal: 2.99s\tremaining: 1m 51s\n",
      "261:\tlearn: 0.6573704\ttest: 0.9458465\tbest: 0.9453065 (260)\ttotal: 3s\tremaining: 1m 51s\n",
      "262:\tlearn: 0.6563610\ttest: 0.9458325\tbest: 0.9453065 (260)\ttotal: 3.01s\tremaining: 1m 51s\n",
      "263:\tlearn: 0.6551085\ttest: 0.9455636\tbest: 0.9453065 (260)\ttotal: 3.02s\tremaining: 1m 51s\n",
      "264:\tlearn: 0.6533001\ttest: 0.9461647\tbest: 0.9453065 (260)\ttotal: 3.03s\tremaining: 1m 51s\n",
      "265:\tlearn: 0.6528108\ttest: 0.9462071\tbest: 0.9453065 (260)\ttotal: 3.04s\tremaining: 1m 51s\n",
      "266:\tlearn: 0.6520120\ttest: 0.9455054\tbest: 0.9453065 (260)\ttotal: 3.06s\tremaining: 1m 51s\n",
      "267:\tlearn: 0.6511814\ttest: 0.9451417\tbest: 0.9451417 (267)\ttotal: 3.06s\tremaining: 1m 51s\n",
      "268:\tlearn: 0.6500287\ttest: 0.9446963\tbest: 0.9446963 (268)\ttotal: 3.07s\tremaining: 1m 51s\n",
      "269:\tlearn: 0.6490388\ttest: 0.9439490\tbest: 0.9439490 (269)\ttotal: 3.08s\tremaining: 1m 50s\n",
      "270:\tlearn: 0.6480066\ttest: 0.9438812\tbest: 0.9438812 (270)\ttotal: 3.09s\tremaining: 1m 50s\n",
      "271:\tlearn: 0.6469131\ttest: 0.9439045\tbest: 0.9438812 (270)\ttotal: 3.1s\tremaining: 1m 50s\n",
      "272:\tlearn: 0.6460273\ttest: 0.9433244\tbest: 0.9433244 (272)\ttotal: 3.11s\tremaining: 1m 50s\n",
      "273:\tlearn: 0.6450550\ttest: 0.9436578\tbest: 0.9433244 (272)\ttotal: 3.13s\tremaining: 1m 50s\n",
      "274:\tlearn: 0.6438884\ttest: 0.9434035\tbest: 0.9433244 (272)\ttotal: 3.14s\tremaining: 1m 50s\n",
      "275:\tlearn: 0.6427318\ttest: 0.9431975\tbest: 0.9431975 (275)\ttotal: 3.15s\tremaining: 1m 51s\n",
      "276:\tlearn: 0.6418384\ttest: 0.9432989\tbest: 0.9431975 (275)\ttotal: 3.16s\tremaining: 1m 51s\n",
      "277:\tlearn: 0.6407731\ttest: 0.9425733\tbest: 0.9425733 (277)\ttotal: 3.18s\tremaining: 1m 51s\n",
      "278:\tlearn: 0.6397316\ttest: 0.9420577\tbest: 0.9420577 (278)\ttotal: 3.19s\tremaining: 1m 51s\n",
      "279:\tlearn: 0.6388934\ttest: 0.9413930\tbest: 0.9413930 (279)\ttotal: 3.2s\tremaining: 1m 51s\n",
      "280:\tlearn: 0.6378637\ttest: 0.9400506\tbest: 0.9400506 (280)\ttotal: 3.21s\tremaining: 1m 50s\n",
      "281:\tlearn: 0.6370414\ttest: 0.9402285\tbest: 0.9400506 (280)\ttotal: 3.22s\tremaining: 1m 50s\n",
      "282:\tlearn: 0.6355414\ttest: 0.9396553\tbest: 0.9396553 (282)\ttotal: 3.23s\tremaining: 1m 50s\n",
      "283:\tlearn: 0.6345248\ttest: 0.9395072\tbest: 0.9395072 (283)\ttotal: 3.24s\tremaining: 1m 50s\n",
      "284:\tlearn: 0.6333125\ttest: 0.9392084\tbest: 0.9392084 (284)\ttotal: 3.26s\tremaining: 1m 51s\n",
      "285:\tlearn: 0.6323977\ttest: 0.9393287\tbest: 0.9392084 (284)\ttotal: 3.27s\tremaining: 1m 51s\n",
      "286:\tlearn: 0.6313407\ttest: 0.9392032\tbest: 0.9392032 (286)\ttotal: 3.28s\tremaining: 1m 51s\n",
      "287:\tlearn: 0.6304681\ttest: 0.9392136\tbest: 0.9392032 (286)\ttotal: 3.29s\tremaining: 1m 51s\n",
      "288:\tlearn: 0.6293990\ttest: 0.9391228\tbest: 0.9391228 (288)\ttotal: 3.31s\tremaining: 1m 51s\n",
      "289:\tlearn: 0.6284032\ttest: 0.9391977\tbest: 0.9391228 (288)\ttotal: 3.32s\tremaining: 1m 51s\n",
      "290:\tlearn: 0.6275514\ttest: 0.9386361\tbest: 0.9386361 (290)\ttotal: 3.33s\tremaining: 1m 51s\n",
      "291:\tlearn: 0.6267490\ttest: 0.9381727\tbest: 0.9381727 (291)\ttotal: 3.34s\tremaining: 1m 51s\n",
      "292:\tlearn: 0.6258051\ttest: 0.9377779\tbest: 0.9377779 (292)\ttotal: 3.35s\tremaining: 1m 51s\n",
      "293:\tlearn: 0.6248147\ttest: 0.9380966\tbest: 0.9377779 (292)\ttotal: 3.36s\tremaining: 1m 51s\n",
      "294:\tlearn: 0.6239358\ttest: 0.9378257\tbest: 0.9377779 (292)\ttotal: 3.37s\tremaining: 1m 50s\n",
      "295:\tlearn: 0.6228309\ttest: 0.9374545\tbest: 0.9374545 (295)\ttotal: 3.38s\tremaining: 1m 50s\n",
      "296:\tlearn: 0.6220478\ttest: 0.9372326\tbest: 0.9372326 (296)\ttotal: 3.39s\tremaining: 1m 50s\n",
      "297:\tlearn: 0.6209812\ttest: 0.9366966\tbest: 0.9366966 (297)\ttotal: 3.4s\tremaining: 1m 50s\n",
      "298:\tlearn: 0.6201674\ttest: 0.9363374\tbest: 0.9363374 (298)\ttotal: 3.41s\tremaining: 1m 50s\n",
      "299:\tlearn: 0.6191030\ttest: 0.9355168\tbest: 0.9355168 (299)\ttotal: 3.43s\tremaining: 1m 50s\n",
      "300:\tlearn: 0.6178325\ttest: 0.9355724\tbest: 0.9355168 (299)\ttotal: 3.44s\tremaining: 1m 50s\n",
      "301:\tlearn: 0.6171983\ttest: 0.9353151\tbest: 0.9353151 (301)\ttotal: 3.44s\tremaining: 1m 50s\n",
      "302:\tlearn: 0.6158297\ttest: 0.9355706\tbest: 0.9353151 (301)\ttotal: 3.45s\tremaining: 1m 50s\n",
      "303:\tlearn: 0.6148482\ttest: 0.9350821\tbest: 0.9350821 (303)\ttotal: 3.46s\tremaining: 1m 50s\n",
      "304:\tlearn: 0.6137127\ttest: 0.9350012\tbest: 0.9350012 (304)\ttotal: 3.47s\tremaining: 1m 50s\n",
      "305:\tlearn: 0.6126216\ttest: 0.9347574\tbest: 0.9347574 (305)\ttotal: 3.48s\tremaining: 1m 50s\n",
      "306:\tlearn: 0.6115355\ttest: 0.9347148\tbest: 0.9347148 (306)\ttotal: 3.49s\tremaining: 1m 50s\n",
      "307:\tlearn: 0.6106203\ttest: 0.9351107\tbest: 0.9347148 (306)\ttotal: 3.5s\tremaining: 1m 50s\n",
      "308:\tlearn: 0.6096252\ttest: 0.9353057\tbest: 0.9347148 (306)\ttotal: 3.51s\tremaining: 1m 50s\n",
      "309:\tlearn: 0.6088622\ttest: 0.9352978\tbest: 0.9347148 (306)\ttotal: 3.52s\tremaining: 1m 50s\n",
      "310:\tlearn: 0.6077935\ttest: 0.9350746\tbest: 0.9347148 (306)\ttotal: 3.54s\tremaining: 1m 50s\n",
      "311:\tlearn: 0.6070411\ttest: 0.9348082\tbest: 0.9347148 (306)\ttotal: 3.55s\tremaining: 1m 50s\n",
      "312:\tlearn: 0.6064462\ttest: 0.9343489\tbest: 0.9343489 (312)\ttotal: 3.55s\tremaining: 1m 49s\n",
      "313:\tlearn: 0.6056313\ttest: 0.9337608\tbest: 0.9337608 (313)\ttotal: 3.57s\tremaining: 1m 50s\n",
      "314:\tlearn: 0.6046192\ttest: 0.9337324\tbest: 0.9337324 (314)\ttotal: 3.58s\tremaining: 1m 50s\n",
      "315:\tlearn: 0.6036513\ttest: 0.9337205\tbest: 0.9337205 (315)\ttotal: 3.59s\tremaining: 1m 50s\n",
      "316:\tlearn: 0.6027644\ttest: 0.9332418\tbest: 0.9332418 (316)\ttotal: 3.6s\tremaining: 1m 49s\n",
      "317:\tlearn: 0.6017124\ttest: 0.9326448\tbest: 0.9326448 (317)\ttotal: 3.62s\tremaining: 1m 50s\n",
      "318:\tlearn: 0.6007274\ttest: 0.9326326\tbest: 0.9326326 (318)\ttotal: 3.62s\tremaining: 1m 49s\n",
      "319:\tlearn: 0.5999037\ttest: 0.9325687\tbest: 0.9325687 (319)\ttotal: 3.63s\tremaining: 1m 49s\n",
      "320:\tlearn: 0.5987143\ttest: 0.9331588\tbest: 0.9325687 (319)\ttotal: 3.64s\tremaining: 1m 49s\n",
      "321:\tlearn: 0.5978031\ttest: 0.9327291\tbest: 0.9325687 (319)\ttotal: 3.65s\tremaining: 1m 49s\n",
      "322:\tlearn: 0.5969716\ttest: 0.9326873\tbest: 0.9325687 (319)\ttotal: 3.66s\tremaining: 1m 49s\n",
      "323:\tlearn: 0.5957897\ttest: 0.9323209\tbest: 0.9323209 (323)\ttotal: 3.67s\tremaining: 1m 49s\n",
      "324:\tlearn: 0.5949276\ttest: 0.9320514\tbest: 0.9320514 (324)\ttotal: 3.68s\tremaining: 1m 49s\n",
      "325:\tlearn: 0.5939245\ttest: 0.9319991\tbest: 0.9319991 (325)\ttotal: 3.69s\tremaining: 1m 49s\n",
      "326:\tlearn: 0.5928948\ttest: 0.9317884\tbest: 0.9317884 (326)\ttotal: 3.7s\tremaining: 1m 49s\n",
      "327:\tlearn: 0.5920537\ttest: 0.9318994\tbest: 0.9317884 (326)\ttotal: 3.71s\tremaining: 1m 49s\n",
      "328:\tlearn: 0.5911913\ttest: 0.9317638\tbest: 0.9317638 (328)\ttotal: 3.73s\tremaining: 1m 49s\n",
      "329:\tlearn: 0.5899900\ttest: 0.9319567\tbest: 0.9317638 (328)\ttotal: 3.73s\tremaining: 1m 49s\n",
      "330:\tlearn: 0.5887897\ttest: 0.9318045\tbest: 0.9317638 (328)\ttotal: 3.74s\tremaining: 1m 49s\n",
      "331:\tlearn: 0.5880191\ttest: 0.9317704\tbest: 0.9317638 (328)\ttotal: 3.76s\tremaining: 1m 49s\n",
      "332:\tlearn: 0.5871181\ttest: 0.9318169\tbest: 0.9317638 (328)\ttotal: 3.77s\tremaining: 1m 49s\n",
      "333:\tlearn: 0.5861509\ttest: 0.9315832\tbest: 0.9315832 (333)\ttotal: 3.78s\tremaining: 1m 49s\n",
      "334:\tlearn: 0.5851083\ttest: 0.9319563\tbest: 0.9315832 (333)\ttotal: 3.79s\tremaining: 1m 49s\n",
      "335:\tlearn: 0.5841344\ttest: 0.9318470\tbest: 0.9315832 (333)\ttotal: 3.8s\tremaining: 1m 49s\n",
      "336:\tlearn: 0.5833063\ttest: 0.9316132\tbest: 0.9315832 (333)\ttotal: 3.81s\tremaining: 1m 49s\n",
      "337:\tlearn: 0.5824415\ttest: 0.9314061\tbest: 0.9314061 (337)\ttotal: 3.83s\tremaining: 1m 49s\n",
      "338:\tlearn: 0.5815899\ttest: 0.9314303\tbest: 0.9314061 (337)\ttotal: 3.84s\tremaining: 1m 49s\n",
      "339:\tlearn: 0.5805940\ttest: 0.9315396\tbest: 0.9314061 (337)\ttotal: 3.86s\tremaining: 1m 49s\n",
      "340:\tlearn: 0.5795552\ttest: 0.9314277\tbest: 0.9314061 (337)\ttotal: 3.87s\tremaining: 1m 49s\n",
      "341:\tlearn: 0.5784528\ttest: 0.9307993\tbest: 0.9307993 (341)\ttotal: 3.88s\tremaining: 1m 49s\n",
      "342:\tlearn: 0.5774653\ttest: 0.9307006\tbest: 0.9307006 (342)\ttotal: 3.89s\tremaining: 1m 49s\n",
      "343:\tlearn: 0.5764635\ttest: 0.9297502\tbest: 0.9297502 (343)\ttotal: 3.91s\tremaining: 1m 49s\n",
      "344:\tlearn: 0.5755414\ttest: 0.9297131\tbest: 0.9297131 (344)\ttotal: 3.92s\tremaining: 1m 49s\n",
      "345:\tlearn: 0.5746490\ttest: 0.9298887\tbest: 0.9297131 (344)\ttotal: 3.93s\tremaining: 1m 49s\n",
      "346:\tlearn: 0.5736766\ttest: 0.9289735\tbest: 0.9289735 (346)\ttotal: 3.94s\tremaining: 1m 49s\n",
      "347:\tlearn: 0.5726661\ttest: 0.9285838\tbest: 0.9285838 (347)\ttotal: 3.95s\tremaining: 1m 49s\n",
      "348:\tlearn: 0.5720136\ttest: 0.9282608\tbest: 0.9282608 (348)\ttotal: 3.96s\tremaining: 1m 49s\n",
      "349:\tlearn: 0.5711673\ttest: 0.9284039\tbest: 0.9282608 (348)\ttotal: 3.98s\tremaining: 1m 49s\n",
      "350:\tlearn: 0.5704642\ttest: 0.9283621\tbest: 0.9282608 (348)\ttotal: 3.99s\tremaining: 1m 49s\n",
      "351:\tlearn: 0.5695738\ttest: 0.9277402\tbest: 0.9277402 (351)\ttotal: 3.99s\tremaining: 1m 49s\n",
      "352:\tlearn: 0.5688319\ttest: 0.9270165\tbest: 0.9270165 (352)\ttotal: 4s\tremaining: 1m 49s\n",
      "353:\tlearn: 0.5678147\ttest: 0.9269366\tbest: 0.9269366 (353)\ttotal: 4.01s\tremaining: 1m 49s\n",
      "354:\tlearn: 0.5667037\ttest: 0.9269699\tbest: 0.9269366 (353)\ttotal: 4.03s\tremaining: 1m 49s\n",
      "355:\tlearn: 0.5657229\ttest: 0.9268052\tbest: 0.9268052 (355)\ttotal: 4.04s\tremaining: 1m 49s\n",
      "356:\tlearn: 0.5651496\ttest: 0.9264842\tbest: 0.9264842 (356)\ttotal: 4.05s\tremaining: 1m 49s\n",
      "357:\tlearn: 0.5641707\ttest: 0.9270411\tbest: 0.9264842 (356)\ttotal: 4.06s\tremaining: 1m 49s\n",
      "358:\tlearn: 0.5633610\ttest: 0.9266912\tbest: 0.9264842 (356)\ttotal: 4.07s\tremaining: 1m 49s\n",
      "359:\tlearn: 0.5624200\ttest: 0.9263597\tbest: 0.9263597 (359)\ttotal: 4.08s\tremaining: 1m 49s\n",
      "360:\tlearn: 0.5615995\ttest: 0.9261650\tbest: 0.9261650 (360)\ttotal: 4.09s\tremaining: 1m 49s\n",
      "361:\tlearn: 0.5611015\ttest: 0.9259621\tbest: 0.9259621 (361)\ttotal: 4.1s\tremaining: 1m 49s\n",
      "362:\tlearn: 0.5604168\ttest: 0.9260605\tbest: 0.9259621 (361)\ttotal: 4.11s\tremaining: 1m 49s\n",
      "363:\tlearn: 0.5597859\ttest: 0.9256136\tbest: 0.9256136 (363)\ttotal: 4.12s\tremaining: 1m 49s\n",
      "364:\tlearn: 0.5588722\ttest: 0.9249597\tbest: 0.9249597 (364)\ttotal: 4.13s\tremaining: 1m 49s\n",
      "365:\tlearn: 0.5582749\ttest: 0.9247160\tbest: 0.9247160 (365)\ttotal: 4.14s\tremaining: 1m 48s\n",
      "366:\tlearn: 0.5573481\ttest: 0.9244580\tbest: 0.9244580 (366)\ttotal: 4.15s\tremaining: 1m 48s\n",
      "367:\tlearn: 0.5566865\ttest: 0.9246277\tbest: 0.9244580 (366)\ttotal: 4.16s\tremaining: 1m 48s\n",
      "368:\tlearn: 0.5553594\ttest: 0.9248318\tbest: 0.9244580 (366)\ttotal: 4.17s\tremaining: 1m 48s\n",
      "369:\tlearn: 0.5541782\ttest: 0.9244975\tbest: 0.9244580 (366)\ttotal: 4.18s\tremaining: 1m 48s\n",
      "370:\tlearn: 0.5533049\ttest: 0.9244886\tbest: 0.9244580 (366)\ttotal: 4.19s\tremaining: 1m 48s\n",
      "371:\tlearn: 0.5522771\ttest: 0.9247631\tbest: 0.9244580 (366)\ttotal: 4.2s\tremaining: 1m 48s\n",
      "372:\tlearn: 0.5515101\ttest: 0.9248343\tbest: 0.9244580 (366)\ttotal: 4.21s\tremaining: 1m 48s\n",
      "373:\tlearn: 0.5507589\ttest: 0.9239230\tbest: 0.9239230 (373)\ttotal: 4.22s\tremaining: 1m 48s\n",
      "374:\tlearn: 0.5497093\ttest: 0.9238494\tbest: 0.9238494 (374)\ttotal: 4.23s\tremaining: 1m 48s\n",
      "375:\tlearn: 0.5489185\ttest: 0.9236540\tbest: 0.9236540 (375)\ttotal: 4.24s\tremaining: 1m 48s\n",
      "376:\tlearn: 0.5482392\ttest: 0.9236437\tbest: 0.9236437 (376)\ttotal: 4.25s\tremaining: 1m 48s\n",
      "377:\tlearn: 0.5474400\ttest: 0.9237355\tbest: 0.9236437 (376)\ttotal: 4.26s\tremaining: 1m 48s\n",
      "378:\tlearn: 0.5466283\ttest: 0.9238938\tbest: 0.9236437 (376)\ttotal: 4.27s\tremaining: 1m 48s\n",
      "379:\tlearn: 0.5461763\ttest: 0.9240346\tbest: 0.9236437 (376)\ttotal: 4.28s\tremaining: 1m 48s\n",
      "380:\tlearn: 0.5455321\ttest: 0.9236465\tbest: 0.9236437 (376)\ttotal: 4.3s\tremaining: 1m 48s\n",
      "381:\tlearn: 0.5446063\ttest: 0.9230629\tbest: 0.9230629 (381)\ttotal: 4.31s\tremaining: 1m 48s\n",
      "382:\tlearn: 0.5438431\ttest: 0.9229052\tbest: 0.9229052 (382)\ttotal: 4.32s\tremaining: 1m 48s\n",
      "383:\tlearn: 0.5430078\ttest: 0.9224052\tbest: 0.9224052 (383)\ttotal: 4.32s\tremaining: 1m 48s\n",
      "384:\tlearn: 0.5424381\ttest: 0.9220905\tbest: 0.9220905 (384)\ttotal: 4.33s\tremaining: 1m 48s\n",
      "385:\tlearn: 0.5416020\ttest: 0.9213761\tbest: 0.9213761 (385)\ttotal: 4.34s\tremaining: 1m 48s\n",
      "386:\tlearn: 0.5407213\ttest: 0.9213696\tbest: 0.9213696 (386)\ttotal: 4.35s\tremaining: 1m 48s\n",
      "387:\tlearn: 0.5398832\ttest: 0.9205000\tbest: 0.9205000 (387)\ttotal: 4.36s\tremaining: 1m 48s\n",
      "388:\tlearn: 0.5388266\ttest: 0.9209416\tbest: 0.9205000 (387)\ttotal: 4.38s\tremaining: 1m 48s\n",
      "389:\tlearn: 0.5379297\ttest: 0.9212115\tbest: 0.9205000 (387)\ttotal: 4.39s\tremaining: 1m 48s\n",
      "390:\tlearn: 0.5371517\ttest: 0.9206393\tbest: 0.9205000 (387)\ttotal: 4.4s\tremaining: 1m 48s\n",
      "391:\tlearn: 0.5362474\ttest: 0.9208796\tbest: 0.9205000 (387)\ttotal: 4.41s\tremaining: 1m 48s\n",
      "392:\tlearn: 0.5354590\ttest: 0.9212400\tbest: 0.9205000 (387)\ttotal: 4.43s\tremaining: 1m 48s\n",
      "393:\tlearn: 0.5344924\ttest: 0.9213964\tbest: 0.9205000 (387)\ttotal: 4.44s\tremaining: 1m 48s\n",
      "394:\tlearn: 0.5337785\ttest: 0.9215229\tbest: 0.9205000 (387)\ttotal: 4.45s\tremaining: 1m 48s\n",
      "395:\tlearn: 0.5329312\ttest: 0.9212670\tbest: 0.9205000 (387)\ttotal: 4.46s\tremaining: 1m 48s\n",
      "396:\tlearn: 0.5322334\ttest: 0.9212171\tbest: 0.9205000 (387)\ttotal: 4.47s\tremaining: 1m 48s\n",
      "397:\tlearn: 0.5314357\ttest: 0.9209269\tbest: 0.9205000 (387)\ttotal: 4.49s\tremaining: 1m 48s\n",
      "Stopped by overfitting detector  (10 iterations wait)\n",
      "\n",
      "bestTest = 0.9204999604\n",
      "bestIteration = 387\n",
      "\n",
      "Shrink model to first 388 iterations.\n"
     ]
    },
    {
     "data": {
      "text/plain": [
       "<catboost.core.CatBoostClassifier at 0x2bb42ebb770>"
      ]
     },
     "execution_count": 111,
     "metadata": {},
     "output_type": "execute_result"
    }
   ],
   "source": [
    "model = CatBoostClassifier(learning_rate=0.01, max_depth=9, n_estimators=10000, random_state=1)\n",
    "\n",
    "model.fit(X_train, y_train, eval_set=eval_set, verbose = 1, early_stopping_rounds=10)"
   ]
  },
  {
   "cell_type": "code",
   "execution_count": 112,
   "id": "73c58522",
   "metadata": {},
   "outputs": [
    {
     "data": {
      "text/plain": [
       "array([3.93849915e+00, 4.23269606e+00, 4.33744056e+00, 4.46448098e+00,\n",
       "       6.55110975e-02, 2.79374315e+00, 9.08980442e-01, 6.90378819e+00,\n",
       "       5.59696440e+00, 3.24725625e+00, 2.16043805e+00, 4.66725560e+00,\n",
       "       7.72576035e+00, 3.54298356e+00, 1.01425399e+01, 3.40158148e+00,\n",
       "       3.11324907e+00, 6.68298940e+00, 2.43863866e-01, 7.61775560e+00,\n",
       "       4.23564049e-01, 2.03222184e-01, 2.51769294e-01, 5.08560036e-01,\n",
       "       1.65613540e+00, 1.02541771e-04, 2.91676062e-03, 1.58501938e-01,\n",
       "       8.67426445e-04, 3.91670608e-01, 8.89274245e-02, 0.00000000e+00,\n",
       "       9.34930389e-02, 0.00000000e+00, 7.88683419e-01, 2.33843157e-01,\n",
       "       3.19399045e-01, 1.05092453e-02, 4.57541347e-03, 0.00000000e+00,\n",
       "       2.58393391e-02, 1.06509632e-01, 3.60297076e-02, 2.66016376e-02,\n",
       "       6.76943660e-02, 1.51364399e-01, 1.02223867e-01, 4.27493214e-03,\n",
       "       1.80692327e-02, 1.23194757e-01, 5.20982135e-01, 8.35214902e-02,\n",
       "       1.06248645e-02, 3.20281493e-01, 6.17311618e-01, 3.05675726e-01,\n",
       "       5.57326713e-02, 1.84916146e-01, 2.08248087e+00, 5.87838290e-02,\n",
       "       9.28226477e-01, 8.86121585e-02, 1.52198864e-01, 1.70147740e-03,\n",
       "       1.85594525e-03, 3.73792667e-03, 0.00000000e+00, 6.98754667e-02,\n",
       "       4.49734700e-02, 1.25342854e-02, 1.84388700e-02, 0.00000000e+00,\n",
       "       3.71731992e-02, 2.51456682e-03, 1.06318511e-02, 0.00000000e+00,\n",
       "       8.28911048e-03, 1.37414066e-01, 2.46658136e-02, 2.43503138e-02,\n",
       "       8.58152157e-02, 4.00169590e-01, 6.87479133e-02, 0.00000000e+00,\n",
       "       7.27850055e-02, 0.00000000e+00, 4.32724693e-03, 5.52600008e-04,\n",
       "       6.36567057e-02, 3.80057109e-02, 3.28993818e-02, 1.59761327e-02,\n",
       "       1.42452105e-01, 2.75095872e-01, 1.02727109e-02, 9.81606532e-02,\n",
       "       8.28412838e-02, 3.75038563e-02, 1.01104973e-02, 4.74553280e-02,\n",
       "       5.17671958e-02, 4.35092962e-03, 1.45161251e-01, 6.76420790e-03,\n",
       "       0.00000000e+00, 1.76688849e-01, 9.94281470e-03, 4.58457476e-01,\n",
       "       1.08553613e-01, 1.93843778e-02, 8.92168592e-02, 0.00000000e+00,\n",
       "       1.71252111e-02, 3.19346254e-02])"
      ]
     },
     "execution_count": 112,
     "metadata": {},
     "output_type": "execute_result"
    }
   ],
   "source": [
    "model.feature_importances_"
   ]
  },
  {
   "cell_type": "code",
   "execution_count": 113,
   "id": "1f3e4a1a",
   "metadata": {},
   "outputs": [
    {
     "data": {
      "text/plain": [
       "Text(0.5, 1.0, 'Feature Importance')"
      ]
     },
     "execution_count": 113,
     "metadata": {},
     "output_type": "execute_result"
    },
    {
     "data": {
      "image/png": "[encoded data removed]",
      "text/plain": [
       "<Figure size 1200x600 with 1 Axes>"
      ]
     },
     "metadata": {},
     "output_type": "display_data"
    }
   ],
   "source": [
    "feature_importance = model.feature_importances_\n",
    "sorted_idx = np.argsort(feature_importance)\n",
    "fig = plt.figure(figsize=(12, 6))\n",
    "plt.barh(range(20), feature_importance[sorted_idx][-20:], align='center')\n",
    "plt.yticks(range(20), np.array(X_test.columns)[sorted_idx][-20:])\n",
    "plt.title('Feature Importance')"
   ]
  },
  {
   "cell_type": "code",
   "execution_count": 114,
   "id": "990f25b0",
   "metadata": {},
   "outputs": [
    {
     "data": {
      "text/plain": [
       "0.9701492537313433"
      ]
     },
     "execution_count": 114,
     "metadata": {},
     "output_type": "execute_result"
    }
   ],
   "source": [
    "score = model.score(X_train, y_train)  \n",
    "score"
   ]
  },
  {
   "cell_type": "code",
   "execution_count": 115,
   "id": "52edb703",
   "metadata": {},
   "outputs": [
    {
     "data": {
      "text/plain": [
       "17"
      ]
     },
     "execution_count": 115,
     "metadata": {},
     "output_type": "execute_result"
    }
   ],
   "source": [
    "y_pred = model.predict(X_test)\n",
    "predictions = [int(value) for value in y_pred]\n",
    "len(predictions)"
   ]
  },
  {
   "cell_type": "code",
   "execution_count": 116,
   "id": "dccdf407",
   "metadata": {},
   "outputs": [
    {
     "data": {
      "image/png": "[encoded data removed]",
      "text/plain": [
       "<Figure size 640x480 with 2 Axes>"
      ]
     },
     "metadata": {},
     "output_type": "display_data"
    }
   ],
   "source": [
    "sns.heatmap(confusion_matrix(y_test, predictions), \n",
    "            annot=True,\n",
    "            fmt='g')\n",
    "plt.ylabel('Acontecido',fontsize=13)\n",
    "plt.xlabel('Previsão',fontsize=13)\n",
    "plt.show()"
   ]
  },
  {
   "cell_type": "code",
   "execution_count": 117,
   "id": "18842aa8",
   "metadata": {},
   "outputs": [
    {
     "name": "stdout",
     "output_type": "stream",
     "text": [
      "              precision    recall  f1-score   support\n",
      "\n",
      "           0       0.00      0.00      0.00         1\n",
      "           1       0.53      1.00      0.70         8\n",
      "           2       0.00      0.00      0.00         8\n",
      "\n",
      "    accuracy                           0.47        17\n",
      "   macro avg       0.18      0.33      0.23        17\n",
      "weighted avg       0.25      0.47      0.33        17\n",
      "\n"
     ]
    }
   ],
   "source": [
    "print(classification_report(y_test, predictions))"
   ]
  },
  {
   "cell_type": "markdown",
   "id": "00978204",
   "metadata": {},
   "source": [
    "##### Previsões"
   ]
  },
  {
   "cell_type": "code",
   "execution_count": 119,
   "id": "3bf42e47",
   "metadata": {},
   "outputs": [
    {
     "data": {
      "text/plain": [
       "array([[2]], dtype=int64)"
      ]
     },
     "execution_count": 119,
     "metadata": {},
     "output_type": "execute_result"
    }
   ],
   "source": [
    "model.predict(dataset_previsao_modelo)"
   ]
  }
 ],
 "metadata": {
  "kernelspec": {
   "display_name": "Python [conda env:base] *",
   "language": "python",
   "name": "conda-base-py"
  },
  "language_info": {
   "codemirror_mode": {
    "name": "ipython",
    "version": 3
   },
   "file_extension": ".py",
   "mimetype": "text/x-python",
   "name": "python",
   "nbconvert_exporter": "python",
   "pygments_lexer": "ipython3",
   "version": "3.12.7"
  }
 },
 "nbformat": 4,
 "nbformat_minor": 5
}
