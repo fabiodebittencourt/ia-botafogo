{
 "cells": [
  {
   "cell_type": "markdown",
   "id": "184c39e7",
   "metadata": {},
   "source": [
    "### Bibliotecas"
   ]
  },
  {
   "cell_type": "code",
   "execution_count": 2,
   "id": "95fb1707",
   "metadata": {},
   "outputs": [],
   "source": [
    "import pandas as pd\n",
    "from datetime import datetime, date\n",
    "from matplotlib import pyplot as plt\n",
    "from scipy import stats\n",
    "from patsy import dmatrices\n",
    "from catboost import CatBoostRegressor, CatBoostClassifier\n",
    "from sklearn.model_selection import train_test_split, GridSearchCV\n",
    "from sklearn.metrics import mean_squared_error, mean_absolute_error, confusion_matrix, classification_report\n",
    "from sklearn.preprocessing import MinMaxScaler\n",
    "from math import sqrt\n",
    "import seaborn as sns\n",
    "import numpy as np\n",
    "import warnings\n",
    "warnings.filterwarnings(\"ignore\")"
   ]
  },
  {
   "cell_type": "markdown",
   "id": "1422de3a",
   "metadata": {},
   "source": [
    "### Importação dos Dados e Criação de Variáveis"
   ]
  },
  {
   "cell_type": "code",
   "execution_count": 4,
   "id": "e1d96fc8",
   "metadata": {},
   "outputs": [],
   "source": [
    "dataset_dados = pd.read_excel('botafogo_previsao_estadio.xlsx')"
   ]
  },
  {
   "cell_type": "code",
   "execution_count": 5,
   "id": "ac4572b5",
   "metadata": {},
   "outputs": [],
   "source": [
    "dataset_dados = dataset_dados.sort_values(by='data').reset_index(drop=True)"
   ]
  },
  {
   "cell_type": "markdown",
   "id": "385bef93",
   "metadata": {},
   "source": [
    "##### Datas"
   ]
  },
  {
   "cell_type": "code",
   "execution_count": 7,
   "id": "7424eef5",
   "metadata": {},
   "outputs": [],
   "source": [
    "dataset_dados['data'] = pd.to_datetime(dataset_dados['data'])"
   ]
  },
  {
   "cell_type": "code",
   "execution_count": 8,
   "id": "fdfda733",
   "metadata": {},
   "outputs": [],
   "source": [
    "dataset_dados['horario'] = dataset_dados['horario'].fillna('99:99:99')"
   ]
  },
  {
   "cell_type": "code",
   "execution_count": 9,
   "id": "d0c26f58",
   "metadata": {},
   "outputs": [],
   "source": [
    "dataset_dados = dataset_dados.assign(dia_semana=dataset_dados['data'].dt.weekday, hora=dataset_dados['horario'].astype('str').str.slice(stop=2).astype('int').replace({99:np.nan}),\n",
    "                     minuto=dataset_dados['horario'].astype('str').str.slice(start=3, stop=5).astype('int').replace({99:np.nan}))\n",
    "dataset_dados['horario'] = dataset_dados['horario'].replace({'99:99:99':np.nan})"
   ]
  },
  {
   "cell_type": "code",
   "execution_count": 10,
   "id": "331482a4",
   "metadata": {},
   "outputs": [],
   "source": [
    "dataset_dados['mes'] = dataset_dados['data'].dt.month"
   ]
  },
  {
   "cell_type": "code",
   "execution_count": 11,
   "id": "5d228461",
   "metadata": {},
   "outputs": [],
   "source": [
    "dataset_dados['dia_mes'] = dataset_dados['data'].dt.day"
   ]
  },
  {
   "cell_type": "markdown",
   "id": "b1b7651c",
   "metadata": {},
   "source": [
    "##### Resultados de Jogos"
   ]
  },
  {
   "cell_type": "code",
   "execution_count": 13,
   "id": "7b83df4b",
   "metadata": {},
   "outputs": [],
   "source": [
    "dataset_dados['resultado_temporario'] = dataset_dados['gols_mandante'] - dataset_dados['gols_visitantes']"
   ]
  },
  {
   "cell_type": "code",
   "execution_count": 14,
   "id": "5b9391d1",
   "metadata": {},
   "outputs": [],
   "source": [
    "dataset_dados = dataset_dados.assign(resultado_partida=dataset_dados['resultado_temporario'].map(lambda x: 0 if x == 0 else 1 if x > 0 else -1))"
   ]
  },
  {
   "cell_type": "code",
   "execution_count": 15,
   "id": "a9eb95b3",
   "metadata": {},
   "outputs": [],
   "source": [
    "dataset_dados.loc[dataset_dados[\n",
    "    (dataset_dados['time_mandante'] != 'Botafogo') &\n",
    "    (dataset_dados['resultado_partida'] == 1)\n",
    "].index, 'resultado_partida'] = -1"
   ]
  },
  {
   "cell_type": "code",
   "execution_count": 16,
   "id": "7edaedd7",
   "metadata": {},
   "outputs": [],
   "source": [
    "dataset_dados.loc[dataset_dados[\n",
    "    (dataset_dados['time_mandante'] != 'Botafogo') &\n",
    "    (dataset_dados['resultado_partida'] == -1)\n",
    "].index, 'resultado_partida'] = 1"
   ]
  },
  {
   "cell_type": "markdown",
   "id": "2a4a35a4",
   "metadata": {},
   "source": [
    "Resultados Consecutivos\n",
    "\n",
    "    Olhando para os últimos 5 jogos como vem sendo o \"momento\" do time:\n",
    "        Vitória: 1 ponto\n",
    "        Empate: 0 ponto\n",
    "        Derrota: -1 ponto\n",
    "        \n",
    "    Valor Máximo: 5 pontos\n",
    "    Valor Mínimo: -5 pontos"
   ]
  },
  {
   "cell_type": "code",
   "execution_count": 18,
   "id": "49da0de5",
   "metadata": {},
   "outputs": [],
   "source": [
    "#RESULTADOS CONSECUTIVOS\n",
    "\n",
    "dataset_consec = dataset_dados['resultado_partida'].shift(5, fill_value=0)\n",
    "\n",
    "for i in range(len(dataset_dados)):\n",
    "    valor = dataset_consec[i:5+i].sum()\n",
    "    dataset_dados.loc[i, 'resultados_consecutivos'] = valor\n",
    "    \n",
    "#RESULTADO ÚLTIMO JOGO\n",
    "\n",
    "dataset_ultimo = dataset_dados['resultado_partida'].shift(1, fill_value=0)\n",
    "\n",
    "for i in range(len(dataset_dados)):\n",
    "    valor = dataset_ultimo[i:5+i].sum()\n",
    "    dataset_dados.loc[i, 'resultados_ultimo_jogo'] = valor\n",
    "\n",
    "del dataset_consec, dataset_ultimo"
   ]
  },
  {
   "cell_type": "markdown",
   "id": "12190c65",
   "metadata": {},
   "source": [
    "##### Gols, Colocação e Time Adversário"
   ]
  },
  {
   "cell_type": "code",
   "execution_count": 20,
   "id": "2b202ebb",
   "metadata": {},
   "outputs": [],
   "source": [
    "dataset_dados.loc[:,['gols_botafogo','colocacao_botafogo','colocacao_adversario','time_adversario']] = dataset_dados.apply(lambda d: d[['gols_mandante','colocacao_mandante','colocacao_visitante','time_visitante']].rename(index={'gols_mandante':'gols_botafogo','colocacao_mandante':'colocacao_botafogo','colocacao_visitante':'colocacao_adversario','time_visitante':'time_adversario'})\n",
    "                            if d['time_mandante'] == 'Botafogo' \n",
    "                            else d[['gols_visitantes','colocacao_visitante','colocacao_mandante','time_mandante']].rename(index={'gols_visitantes':'gols_botafogo','colocacao_visitante':'colocacao_botafogo','colocacao_mandante':'colocacao_adversario','time_mandante':'time_adversario'}), axis=1)"
   ]
  },
  {
   "cell_type": "code",
   "execution_count": 21,
   "id": "f0c1b9b1",
   "metadata": {},
   "outputs": [],
   "source": [
    "dataset_gols = dataset_dados['gols_botafogo'].shift(5, fill_value=0)\n",
    "for i in range(len(dataset_dados)):\n",
    "    valor = dataset_gols[i+0:5+i].sum()\n",
    "    dataset_dados.loc[i, 'gols_botafogo_ultimos_jogos'] = valor\n",
    "del dataset_gols"
   ]
  },
  {
   "cell_type": "markdown",
   "id": "fee56d99",
   "metadata": {},
   "source": [
    "##### Percentual de Ocupacao"
   ]
  },
  {
   "cell_type": "code",
   "execution_count": 23,
   "id": "c490eb6c",
   "metadata": {},
   "outputs": [],
   "source": [
    "dataset_dados['percentual_ocupacao'] = round((dataset_dados['publico'] / dataset_dados['publico_max']) * 100, 2)"
   ]
  },
  {
   "cell_type": "markdown",
   "id": "032343da",
   "metadata": {},
   "source": [
    "##### Jogos de Mando Vendido ou Compartilhado"
   ]
  },
  {
   "cell_type": "code",
   "execution_count": 25,
   "id": "2c55fad1",
   "metadata": {},
   "outputs": [],
   "source": [
    "dados_mando_vendido = dataset_dados[(dataset_dados['resultado_financeiro'] != dataset_dados['custo_botafogo'])]\n",
    "index = dados_mando_vendido[~dados_mando_vendido['custo_botafogo'].isnull()].index"
   ]
  },
  {
   "cell_type": "code",
   "execution_count": 26,
   "id": "7ae377bd",
   "metadata": {},
   "outputs": [],
   "source": [
    "dataset_dados['mando_vendido_compartilhado'] = False\n",
    "dataset_dados.loc[index, 'mando_vendido_compartilhado'] = True"
   ]
  },
  {
   "cell_type": "markdown",
   "id": "43e02cf6",
   "metadata": {},
   "source": [
    "##### Prejuízo ou Lucro"
   ]
  },
  {
   "cell_type": "code",
   "execution_count": 28,
   "id": "825e8f6f",
   "metadata": {},
   "outputs": [],
   "source": [
    "index = dataset_dados[dataset_dados['custo_botafogo'] <= 0].index\n",
    "dataset_dados.loc[index, 'prejuizo_lucro'] = False\n",
    "index = dataset_dados[dataset_dados['custo_botafogo'] > 0].index\n",
    "dataset_dados.loc[index, 'prejuizo_lucro'] = True"
   ]
  },
  {
   "cell_type": "markdown",
   "id": "dc0a180b",
   "metadata": {},
   "source": [
    "Competições Internacionais não possuem o borderô publicado a partir de certa data, portanto vamos considerar uma regra:\n",
    "\n",
    "    Nunca houve prejuízo em jogos com 900000 reais de arrecadação"
   ]
  },
  {
   "cell_type": "code",
   "execution_count": 30,
   "id": "05d2b208",
   "metadata": {},
   "outputs": [],
   "source": [
    "index = dataset_dados[(dataset_dados['custo_botafogo'].isnull()) &\n",
    "              (dataset_dados['arrecadacao'] < 900000)\n",
    "             ].index\n",
    "dataset_dados.loc[index, 'prejuizo_lucro'] = False\n",
    "index = dataset_dados[(dataset_dados['custo_botafogo'].isnull()) &\n",
    "              (dataset_dados['arrecadacao'] >= 900000)\n",
    "             ].index\n",
    "dataset_dados.loc[index, 'prejuizo_lucro'] = True"
   ]
  },
  {
   "cell_type": "markdown",
   "id": "8ae6ae4c",
   "metadata": {},
   "source": [
    "### Dados Usáveis para o Modelo e Tratamentos"
   ]
  },
  {
   "cell_type": "code",
   "execution_count": 32,
   "id": "cee07f5c",
   "metadata": {},
   "outputs": [],
   "source": [
    "dataset_dados = dataset_dados[dataset_dados['time_mandante'] == 'Botafogo']\n",
    "dataset_dados = dataset_dados.reset_index(drop=True)"
   ]
  },
  {
   "cell_type": "markdown",
   "id": "20476ede",
   "metadata": {},
   "source": [
    "##### Distância dos Dias entre o Último Jogo em Casa"
   ]
  },
  {
   "cell_type": "code",
   "execution_count": 34,
   "id": "bda1492e",
   "metadata": {},
   "outputs": [],
   "source": [
    "dataset_dados['data_ultimo_jogo'] = dataset_dados['data'].shift(1)"
   ]
  },
  {
   "cell_type": "code",
   "execution_count": 35,
   "id": "cabe5e6e",
   "metadata": {},
   "outputs": [],
   "source": [
    "dataset_dados.loc[0,'data_ultimo_jogo'] = pd.to_datetime('2022-03-07')"
   ]
  },
  {
   "cell_type": "code",
   "execution_count": 36,
   "id": "4024039e",
   "metadata": {},
   "outputs": [],
   "source": [
    "dataset_dados.loc[:, 'dias_ultimo_jogo_casa'] = (dataset_dados['data'] - dataset_dados['data_ultimo_jogo']).dt.days"
   ]
  },
  {
   "cell_type": "markdown",
   "id": "456dd701",
   "metadata": {},
   "source": [
    "##### Tratamentos"
   ]
  },
  {
   "cell_type": "code",
   "execution_count": 38,
   "id": "f284f239",
   "metadata": {},
   "outputs": [
    {
     "data": {
      "text/plain": [
       "93"
      ]
     },
     "execution_count": 38,
     "metadata": {},
     "output_type": "execute_result"
    }
   ],
   "source": [
    "len(dataset_dados)"
   ]
  },
  {
   "cell_type": "code",
   "execution_count": 39,
   "id": "02d8b9b3",
   "metadata": {},
   "outputs": [
    {
     "data": {
      "text/plain": [
       "Index(['ano_campeonato', 'campeonato', 'fase', 'estádio', 'data', 'horario',\n",
       "       'temperatura', 'jogos_no_mes', 'rodada', 'tipo_partida', 'publico',\n",
       "       'publico_max', 'arrecadacao', 'despesas', 'impostos',\n",
       "       'resultado_financeiro', 'custo_botafogo', 'anunciou_poupar',\n",
       "       'time_mandante', 'time_visitante', 'estado_adversario', 'classico',\n",
       "       'eliminatorio', 'tecnico_botafogo', 'desfalques', 'colocacao_mandante',\n",
       "       'colocacao_visitante', 'gols_mandante', 'gols_visitantes', 'dia_semana',\n",
       "       'hora', 'minuto', 'mes', 'dia_mes', 'resultado_temporario',\n",
       "       'resultado_partida', 'resultados_consecutivos',\n",
       "       'resultados_ultimo_jogo', 'gols_botafogo', 'colocacao_botafogo',\n",
       "       'colocacao_adversario', 'time_adversario',\n",
       "       'gols_botafogo_ultimos_jogos', 'percentual_ocupacao',\n",
       "       'mando_vendido_compartilhado', 'prejuizo_lucro', 'data_ultimo_jogo',\n",
       "       'dias_ultimo_jogo_casa'],\n",
       "      dtype='object')"
      ]
     },
     "execution_count": 39,
     "metadata": {},
     "output_type": "execute_result"
    }
   ],
   "source": [
    "dataset_dados.columns"
   ]
  },
  {
   "cell_type": "code",
   "execution_count": 40,
   "id": "80e2cc30",
   "metadata": {},
   "outputs": [],
   "source": [
    "dataset_dados = dataset_dados.drop(columns=['resultado_temporario', 'gols_visitantes', 'gols_mandante',\n",
    "                                           'colocacao_visitante', 'colocacao_mandante', 'time_visitante', 'time_mandante',\n",
    "                                           'custo_botafogo', 'resultado_financeiro', 'impostos', 'despesas', 'arrecadacao',\n",
    "                                            'publico_max', 'publico', 'gols_botafogo', 'horario', 'data_ultimo_jogo'])"
   ]
  },
  {
   "cell_type": "code",
   "execution_count": 41,
   "id": "4f807983",
   "metadata": {},
   "outputs": [
    {
     "data": {
      "text/plain": [
       "Index(['ano_campeonato', 'campeonato', 'fase', 'estádio', 'data',\n",
       "       'temperatura', 'jogos_no_mes', 'rodada', 'tipo_partida',\n",
       "       'anunciou_poupar', 'estado_adversario', 'classico', 'eliminatorio',\n",
       "       'tecnico_botafogo', 'desfalques', 'dia_semana', 'hora', 'minuto', 'mes',\n",
       "       'dia_mes', 'resultado_partida', 'resultados_consecutivos',\n",
       "       'resultados_ultimo_jogo', 'colocacao_botafogo', 'colocacao_adversario',\n",
       "       'time_adversario', 'gols_botafogo_ultimos_jogos', 'percentual_ocupacao',\n",
       "       'mando_vendido_compartilhado', 'prejuizo_lucro',\n",
       "       'dias_ultimo_jogo_casa'],\n",
       "      dtype='object')"
      ]
     },
     "execution_count": 41,
     "metadata": {},
     "output_type": "execute_result"
    }
   ],
   "source": [
    "dataset_dados.columns"
   ]
  },
  {
   "cell_type": "code",
   "execution_count": 42,
   "id": "2112c8c9",
   "metadata": {},
   "outputs": [],
   "source": [
    "dataset_dados.loc[dataset_dados[dataset_dados['anunciou_poupar'] == 'SIM'].index, 'anunciou_poupar'] = True\n",
    "dataset_dados.loc[dataset_dados[dataset_dados['anunciou_poupar'].isnull()].index, 'anunciou_poupar'] = False\n",
    "dataset_dados.loc[dataset_dados[dataset_dados['classico'] == 'SIM'].index, 'classico'] = True\n",
    "dataset_dados.loc[dataset_dados[dataset_dados['classico'].isnull()].index, 'classico'] = False\n",
    "dataset_dados.loc[dataset_dados[dataset_dados['eliminatorio'] == 'SIM'].index, 'eliminatorio'] = True\n",
    "dataset_dados.loc[dataset_dados[dataset_dados['eliminatorio'].isnull()].index, 'eliminatorio'] = False"
   ]
  },
  {
   "cell_type": "code",
   "execution_count": 43,
   "id": "79012837",
   "metadata": {},
   "outputs": [
    {
     "data": {
      "text/plain": [
       "31"
      ]
     },
     "execution_count": 43,
     "metadata": {},
     "output_type": "execute_result"
    }
   ],
   "source": [
    "len(dataset_dados.columns)"
   ]
  },
  {
   "cell_type": "code",
   "execution_count": 44,
   "id": "5dc08e2b",
   "metadata": {},
   "outputs": [],
   "source": [
    "dataset_dados = pd.get_dummies(dataset_dados, columns=['campeonato', 'estádio', 'tipo_partida', 'estado_adversario',\n",
    "                                                       'tecnico_botafogo', 'time_adversario', 'fase'])"
   ]
  },
  {
   "cell_type": "code",
   "execution_count": 45,
   "id": "03e8c2e8",
   "metadata": {},
   "outputs": [],
   "source": [
    "dataset_dados = dataset_dados.astype({'anunciou_poupar': bool,\n",
    "                                      'classico': bool,\n",
    "                                      'eliminatorio': bool,\n",
    "                                       'prejuizo_lucro': bool\n",
    "                                     })"
   ]
  },
  {
   "cell_type": "code",
   "execution_count": 46,
   "id": "71d65c77",
   "metadata": {},
   "outputs": [],
   "source": [
    "dataset_previsao = dataset_dados[dataset_dados['data'] >= pd.to_datetime(date.today())]\n",
    "dataset_dados = dataset_dados[dataset_dados['data'] < pd.to_datetime(date.today())]\n",
    "dataset_dados = dataset_dados.drop(columns=['data'])\n",
    "dataset_previsao = dataset_previsao.drop(columns=['data'])\n",
    "dataset_dados = dataset_dados.reset_index(drop=True)"
   ]
  },
  {
   "cell_type": "code",
   "execution_count": 47,
   "id": "01dcc05e",
   "metadata": {},
   "outputs": [
    {
     "data": {
      "text/plain": [
       "84"
      ]
     },
     "execution_count": 47,
     "metadata": {},
     "output_type": "execute_result"
    }
   ],
   "source": [
    "len(dataset_dados)"
   ]
  },
  {
   "cell_type": "markdown",
   "id": "dc1a1f66-e21c-42a1-a9d6-944bddb5b021",
   "metadata": {},
   "source": [
    "##### Normalizações com Substituição por IQR e Box-Cox"
   ]
  },
  {
   "cell_type": "code",
   "execution_count": 49,
   "id": "e80f5625-b298-43b8-b524-1108aa4bc49c",
   "metadata": {},
   "outputs": [],
   "source": [
    "listaColunas = ['ano_campeonato', 'temperatura', 'jogos_no_mes', 'rodada', 'desfalques', 'dia_semana', 'hora', 'mes', 'dia_mes', 'colocacao_botafogo',\n",
    "                'colocacao_adversario', 'gols_botafogo_ultimos_jogos', 'dias_ultimo_jogo_casa']"
   ]
  },
  {
   "cell_type": "code",
   "execution_count": 50,
   "id": "ff0fc1b6-8f2d-4633-b57b-b736463a39cd",
   "metadata": {},
   "outputs": [],
   "source": [
    "for i in listaColunas:\n",
    "    \n",
    "    if stats.shapiro(dataset_dados[i])[1] < 0.05:\n",
    "    \n",
    "        quartilUm = np.percentile(dataset_dados[i], 25)\n",
    "        quartilTres = np.percentile(dataset_dados[i], 75)\n",
    "        iqr = (quartilTres - quartilUm) * 1.5\n",
    "        lim_superior = quartilTres + iqr\n",
    "        lim_inferior = quartilUm - iqr\n",
    "        \n",
    "        dataset_dados.loc[dataset_dados[dataset_dados[i] > lim_superior].index, i] = lim_superior\n",
    "        dataset_dados.loc[dataset_dados[dataset_dados[i] < lim_inferior].index, i] = lim_inferior\n",
    "    \n",
    "        if stats.shapiro(dataset_dados[i])[1] < 0.05:\n",
    "\n",
    "            dataset_dados.loc[dataset_dados[dataset_dados[i] <= 0].index, i] = 0.0000001\n",
    "            dataset_dados[i] = stats.boxcox(dataset_dados[i])[0]"
   ]
  },
  {
   "cell_type": "markdown",
   "id": "efa78434-73fd-4b1f-a78d-eeb3af05073d",
   "metadata": {},
   "source": [
    "##### Min Max Scaler"
   ]
  },
  {
   "cell_type": "code",
   "execution_count": 52,
   "id": "0f1a27f9-4735-413b-a43d-0f166e64fdbd",
   "metadata": {},
   "outputs": [],
   "source": [
    "for i in listaColunas:\n",
    "    scaler = MinMaxScaler()\n",
    "    dataset_dados[i] = scaler.fit_transform(dataset_dados[[i]])"
   ]
  },
  {
   "cell_type": "code",
   "execution_count": 53,
   "id": "2fe93104",
   "metadata": {},
   "outputs": [],
   "source": [
    "dataset_dados.to_csv('dados_modelo_final.csv', index=False)"
   ]
  },
  {
   "cell_type": "markdown",
   "id": "577d7ee2",
   "metadata": {},
   "source": [
    "### Datasets Modelos"
   ]
  },
  {
   "cell_type": "markdown",
   "id": "1cf2d2d8",
   "metadata": {},
   "source": [
    "Haverão Três Modelos, cada um olhando para uma variável alvo específica, as variáveis alvo serão:\n",
    "\n",
    "    - percentual_ocupacao: Olhando para tentarmos prever a quantidade de pessoas que irão aos jogos\n",
    "    - prejuizo_lucro: Olhando para tentarmos prever se o jogo foi rentável (olhando apenas para o contexto do jogo)\n",
    "    - resultado_partida: Olhando para tentarmos prever o resultado do jogo (Derrota, Vitória ou Empate\n",
    "    \n",
    "Sendo assim cada modelo terá seu dataset específico, pois as variáveis alvo não são passíveis de serem utilizadas nos modelos que não sejam os seus por não serem valores disponíveis para a previsão antes do evento acontecer, chamaremos essas varíaveis de indisponíveis."
   ]
  },
  {
   "cell_type": "code",
   "execution_count": 56,
   "id": "3538d6c8",
   "metadata": {},
   "outputs": [],
   "source": [
    "dados_modelo_percentual_ocupacao = dataset_dados.drop(columns=['prejuizo_lucro', 'resultado_partida']).copy()\n",
    "dados_modelo_prejuizo_lucro = dataset_dados.drop(columns=['percentual_ocupacao', 'resultado_partida']).copy()\n",
    "dados_modelo_resultado_partida = dataset_dados.drop(columns=['percentual_ocupacao', 'prejuizo_lucro']).copy()"
   ]
  },
  {
   "cell_type": "markdown",
   "id": "42d941aa",
   "metadata": {},
   "source": [
    "### Análise Exploratória"
   ]
  },
  {
   "cell_type": "markdown",
   "id": "02286003",
   "metadata": {},
   "source": [
    "##### Funções Úteis"
   ]
  },
  {
   "cell_type": "code",
   "execution_count": 59,
   "id": "1e17726b",
   "metadata": {},
   "outputs": [],
   "source": [
    "def concentracao_valores (dados, coluna):\n",
    "    if len(dados[coluna].unique()) > 3:        \n",
    "        print(dados[coluna].describe())\n",
    "    else:        \n",
    "        print(dados[coluna].value_counts())"
   ]
  },
  {
   "cell_type": "code",
   "execution_count": 60,
   "id": "1506868a",
   "metadata": {},
   "outputs": [],
   "source": [
    "def correlacao_modelos (dados, coluna):\n",
    "    print('Menores Valores')\n",
    "    print('----------------------')\n",
    "    print(dados.corr()[coluna].sort_values().head(7))\n",
    "    print('======================')\n",
    "    print('Maiores Valores')\n",
    "    print('----------------------')\n",
    "    print(dados.corr()[coluna].sort_values(ascending=False).head(7))"
   ]
  },
  {
   "cell_type": "code",
   "execution_count": 61,
   "id": "1e5c8dbb",
   "metadata": {},
   "outputs": [],
   "source": [
    "def visualizacoes (dados, coluna, label):\n",
    "    if len(dados[coluna].unique()) > 3: \n",
    "        fig, ax = plt.subplots()\n",
    "        ax.hist(dados[coluna])\n",
    "        ax.set_xlabel(label)\n",
    "        ax.set_title('Análise Visual - Histograma - '+label)\n",
    "        plt.show()"
   ]
  },
  {
   "cell_type": "code",
   "execution_count": 62,
   "id": "8f8f4bf2",
   "metadata": {},
   "outputs": [],
   "source": [
    "def taxas_erro (valores_reais, valores_previstos):\n",
    "    #RMSE\n",
    "    rmse = sqrt(mean_squared_error(valores_reais, valores_previstos))\n",
    "    print('Erro médio quadrático: ', rmse)\n",
    "    #MAE\n",
    "    mae = mean_absolute_error(valores_reais, valores_previstos)\n",
    "    print('Erro médio absoluto: ', mae)"
   ]
  },
  {
   "cell_type": "markdown",
   "id": "3d490fdc",
   "metadata": {},
   "source": [
    "Esse artigo me ajudou com a tunagem dos hiperparâmetros:\n",
    "\n",
    "    - https://www.analyticsvidhya.com/blog/2016/03/complete-guide-parameter-tuning-xgboost-with-codes-python/"
   ]
  },
  {
   "cell_type": "code",
   "execution_count": 64,
   "id": "7e1ca1b3",
   "metadata": {},
   "outputs": [],
   "source": [
    "def tunning_hiperpametros (modelo, X_train, y_train):\n",
    "    \n",
    "    print('Testando Variáveis: max_depth')\n",
    "\n",
    "    try: \n",
    "    \n",
    "        param_test = {\n",
    "         'max_depth':range(3,10,2)\n",
    "        }\n",
    "        \n",
    "        gsearch = GridSearchCV(estimator = modelo(\n",
    "                        learning_rate=0.01, max_depth=5, n_estimators=200, random_state=1), \n",
    "                        param_grid = param_test, scoring='roc_auc', n_jobs=-1, cv=10)      \n",
    "        gsearch.fit(X_train, y_train)\n",
    "            \n",
    "        max_depth = gsearch.best_params_['max_depth']\n",
    "        \n",
    "        print('Melhores valores: ', gsearch.best_params_)\n",
    "\n",
    "    except:\n",
    "\n",
    "        param_test = {\n",
    "         'max_depth':range(3,10,2)\n",
    "        }\n",
    "        \n",
    "        gsearch = GridSearchCV(estimator = modelo(\n",
    "                        learning_rate=0.01, max_depth=5, n_estimators=200, random_state=1, subsample = 0.8), \n",
    "                        param_grid = param_test, scoring='roc_auc', n_jobs=-1, cv=10)      \n",
    "        gsearch.fit(X_train, y_train)\n",
    "            \n",
    "        max_depth = gsearch.best_params_['max_depth']\n",
    "        \n",
    "        print('Melhores valores: ', gsearch.best_params_)\n",
    "    \n",
    "    print('-----------------------------')  \n",
    "    \n",
    "    print('Testando Variáveis: subsample')\n",
    "\n",
    "    try: \n",
    "        param_test = {\n",
    "         'subsample':[i/10.0 for i in range(6,10)]\n",
    "        }\n",
    "        \n",
    "        gsearch = GridSearchCV(estimator = modelo(\n",
    "                        learning_rate=0.01, max_depth=max_depth, n_estimators=200, random_state=1,\n",
    "                        subsample = 0.8), \n",
    "                        param_grid = param_test, scoring='roc_auc', n_jobs=-1, cv=10)      \n",
    "        gsearch.fit(X_train, y_train)\n",
    "        \n",
    "        print('Melhores valores: ', gsearch.best_params_)\n",
    "        \n",
    "    except:\n",
    "\n",
    "        print('Não usar subsample')"
   ]
  },
  {
   "cell_type": "markdown",
   "id": "558fa4e1",
   "metadata": {},
   "source": [
    "##### Modelo 1"
   ]
  },
  {
   "cell_type": "code",
   "execution_count": 66,
   "id": "44b9cf7b",
   "metadata": {},
   "outputs": [
    {
     "name": "stdout",
     "output_type": "stream",
     "text": [
      "count    84.000000\n",
      "mean     45.863690\n",
      "std      23.417999\n",
      "min       8.140000\n",
      "25%      28.237500\n",
      "50%      42.865000\n",
      "75%      63.942500\n",
      "max      91.780000\n",
      "Name: percentual_ocupacao, dtype: float64\n"
     ]
    }
   ],
   "source": [
    "concentracao_valores(dados_modelo_percentual_ocupacao, 'percentual_ocupacao')"
   ]
  },
  {
   "cell_type": "code",
   "execution_count": 67,
   "id": "65bbe288",
   "metadata": {},
   "outputs": [
    {
     "name": "stdout",
     "output_type": "stream",
     "text": [
      "Menores Valores\n",
      "----------------------\n",
      "campeonato_carioca              -0.547026\n",
      "estado_adversario_RJ            -0.378938\n",
      "temperatura                     -0.346926\n",
      "time_adversario_Portuguesa-RJ   -0.307082\n",
      "anunciou_poupar                 -0.288306\n",
      "mando_vendido_compartilhado     -0.288186\n",
      "estádio_Raulino de Oliveira     -0.250271\n",
      "Name: percentual_ocupacao, dtype: float64\n",
      "======================\n",
      "Maiores Valores\n",
      "----------------------\n",
      "percentual_ocupacao                1.000000\n",
      "mes                                0.469250\n",
      "campeonato_serie a                 0.351781\n",
      "tecnico_botafogo_Bruno Lage        0.343006\n",
      "rodada                             0.283972\n",
      "tecnico_botafogo_Cláudio Caçapa    0.234355\n",
      "estádio_Nilton Santos              0.231691\n",
      "Name: percentual_ocupacao, dtype: float64\n"
     ]
    }
   ],
   "source": [
    "correlacao_modelos(dados_modelo_percentual_ocupacao, 'percentual_ocupacao')"
   ]
  },
  {
   "cell_type": "code",
   "execution_count": 68,
   "id": "be48f7f7",
   "metadata": {},
   "outputs": [
    {
     "data": {
      "text/plain": [
       "ano_campeonato               -0.024575\n",
       "temperatura                  -0.346926\n",
       "jogos_no_mes                 -0.084011\n",
       "rodada                        0.283972\n",
       "anunciou_poupar              -0.288306\n",
       "                                ...   \n",
       "fase_quartas-de-final         0.037469\n",
       "fase_segunda fase            -0.093893\n",
       "fase_semi-final              -0.131622\n",
       "fase_semi-final - taça rio   -0.241147\n",
       "fase_terceira fase           -0.019343\n",
       "Name: percentual_ocupacao, Length: 115, dtype: float64"
      ]
     },
     "execution_count": 68,
     "metadata": {},
     "output_type": "execute_result"
    }
   ],
   "source": [
    "dados_modelo_percentual_ocupacao.corr()['percentual_ocupacao']"
   ]
  },
  {
   "cell_type": "code",
   "execution_count": 69,
   "id": "e694f28b",
   "metadata": {},
   "outputs": [
    {
     "data": {
      "image/png": "[encoded data removed]",
      "text/plain": [
       "<Figure size 640x480 with 1 Axes>"
      ]
     },
     "metadata": {},
     "output_type": "display_data"
    }
   ],
   "source": [
    "visualizacoes(dados_modelo_percentual_ocupacao, 'percentual_ocupacao', 'Ocupação %')"
   ]
  },
  {
   "cell_type": "markdown",
   "id": "0622eaca",
   "metadata": {},
   "source": [
    "##### Modelo 2 "
   ]
  },
  {
   "cell_type": "code",
   "execution_count": 71,
   "id": "3bebf450",
   "metadata": {},
   "outputs": [
    {
     "name": "stdout",
     "output_type": "stream",
     "text": [
      "prejuizo_lucro\n",
      "True     46\n",
      "False    38\n",
      "Name: count, dtype: int64\n"
     ]
    }
   ],
   "source": [
    "concentracao_valores(dados_modelo_prejuizo_lucro, 'prejuizo_lucro')"
   ]
  },
  {
   "cell_type": "code",
   "execution_count": 72,
   "id": "734d27f5",
   "metadata": {},
   "outputs": [
    {
     "name": "stdout",
     "output_type": "stream",
     "text": [
      "Menores Valores\n",
      "----------------------\n",
      "temperatura                     -0.400751\n",
      "campeonato_carioca              -0.375615\n",
      "anunciou_poupar                 -0.350962\n",
      "eliminatorio                    -0.341418\n",
      "tipo_partida_volta              -0.330599\n",
      "time_adversario_Portuguesa-RJ   -0.211741\n",
      "estádio_Luso Brasileiro         -0.211741\n",
      "Name: prejuizo_lucro, dtype: float64\n",
      "======================\n",
      "Maiores Valores\n",
      "----------------------\n",
      "prejuizo_lucro         1.000000\n",
      "tipo_partida_liga      0.341418\n",
      "rodada                 0.336500\n",
      "mes                    0.329091\n",
      "campeonato_serie a     0.324516\n",
      "fase_fase de grupos    0.252082\n",
      "classico               0.237518\n",
      "Name: prejuizo_lucro, dtype: float64\n"
     ]
    }
   ],
   "source": [
    "correlacao_modelos(dados_modelo_prejuizo_lucro, 'prejuizo_lucro')"
   ]
  },
  {
   "cell_type": "markdown",
   "id": "dcdca81a",
   "metadata": {},
   "source": [
    "##### Modelo 3"
   ]
  },
  {
   "cell_type": "code",
   "execution_count": 74,
   "id": "a0d247bb",
   "metadata": {},
   "outputs": [
    {
     "name": "stdout",
     "output_type": "stream",
     "text": [
      "resultado_partida\n",
      " 1    45\n",
      "-1    22\n",
      " 0    17\n",
      "Name: count, dtype: int64\n"
     ]
    }
   ],
   "source": [
    "concentracao_valores(dados_modelo_resultado_partida, 'resultado_partida')"
   ]
  },
  {
   "cell_type": "code",
   "execution_count": 75,
   "id": "1b18045c",
   "metadata": {},
   "outputs": [
    {
     "name": "stdout",
     "output_type": "stream",
     "text": [
      "Menores Valores\n",
      "----------------------\n",
      "tecnico_botafogo_Lúcio Flávio   -0.361217\n",
      "time_adversario_Flamengo        -0.288376\n",
      "rodada                          -0.253215\n",
      "classico                        -0.247411\n",
      "time_adversario_Cuiabá-MT       -0.234018\n",
      "estado_adversario_MT            -0.234018\n",
      "mes                             -0.212380\n",
      "Name: resultado_partida, dtype: float64\n",
      "======================\n",
      "Maiores Valores\n",
      "----------------------\n",
      "resultado_partida              1.000000\n",
      "resultados_ultimo_jogo         0.585191\n",
      "ano_campeonato                 0.312189\n",
      "gols_botafogo_ultimos_jogos    0.278859\n",
      "minuto                         0.256856\n",
      "jogos_no_mes                   0.247548\n",
      "eliminatorio                   0.207214\n",
      "Name: resultado_partida, dtype: float64\n"
     ]
    }
   ],
   "source": [
    "correlacao_modelos(dados_modelo_resultado_partida, 'resultado_partida')"
   ]
  },
  {
   "cell_type": "markdown",
   "id": "43861abd",
   "metadata": {},
   "source": [
    "### Modelagem"
   ]
  },
  {
   "cell_type": "markdown",
   "id": "833d1c89",
   "metadata": {},
   "source": [
    "##### Modelo 1"
   ]
  },
  {
   "cell_type": "code",
   "execution_count": 78,
   "id": "311aac7e",
   "metadata": {},
   "outputs": [],
   "source": [
    "X = dados_modelo_percentual_ocupacao.drop(columns=['percentual_ocupacao']).copy()\n",
    "y = dados_modelo_percentual_ocupacao[['percentual_ocupacao']]"
   ]
  },
  {
   "cell_type": "code",
   "execution_count": 79,
   "id": "3db440b1",
   "metadata": {},
   "outputs": [],
   "source": [
    "X_train, X_test, y_train, y_test = train_test_split( X, y, test_size=0.2, random_state=42)\n",
    "eval_set = [(X_test, y_test)]\n",
    "cat_features = X_test.select_dtypes(exclude=[np.number])"
   ]
  },
  {
   "cell_type": "code",
   "execution_count": 80,
   "id": "6bcc7598",
   "metadata": {
    "scrolled": true
   },
   "outputs": [
    {
     "name": "stdout",
     "output_type": "stream",
     "text": [
      "Testando Variáveis: max_depth\n",
      "0:\tlearn: 23.5003835\ttotal: 151ms\tremaining: 30s\n",
      "1:\tlearn: 23.4542175\ttotal: 156ms\tremaining: 15.4s\n",
      "2:\tlearn: 23.4029466\ttotal: 159ms\tremaining: 10.4s\n",
      "3:\tlearn: 23.3519790\ttotal: 162ms\tremaining: 7.95s\n",
      "4:\tlearn: 23.2988481\ttotal: 165ms\tremaining: 6.45s\n",
      "5:\tlearn: 23.2258818\ttotal: 168ms\tremaining: 5.44s\n",
      "6:\tlearn: 23.1978147\ttotal: 171ms\tremaining: 4.72s\n",
      "7:\tlearn: 23.1424544\ttotal: 175ms\tremaining: 4.2s\n",
      "8:\tlearn: 23.0855136\ttotal: 178ms\tremaining: 3.78s\n",
      "9:\tlearn: 23.0248297\ttotal: 181ms\tremaining: 3.44s\n",
      "10:\tlearn: 22.9791349\ttotal: 184ms\tremaining: 3.16s\n",
      "11:\tlearn: 22.9319242\ttotal: 187ms\tremaining: 2.93s\n",
      "12:\tlearn: 22.8915337\ttotal: 191ms\tremaining: 2.74s\n",
      "13:\tlearn: 22.8485833\ttotal: 193ms\tremaining: 2.57s\n",
      "14:\tlearn: 22.7877219\ttotal: 196ms\tremaining: 2.42s\n",
      "15:\tlearn: 22.7272473\ttotal: 200ms\tremaining: 2.29s\n",
      "16:\tlearn: 22.6627107\ttotal: 203ms\tremaining: 2.18s\n",
      "17:\tlearn: 22.6066082\ttotal: 206ms\tremaining: 2.08s\n",
      "18:\tlearn: 22.5581843\ttotal: 209ms\tremaining: 1.99s\n",
      "19:\tlearn: 22.5120391\ttotal: 212ms\tremaining: 1.91s\n",
      "20:\tlearn: 22.4687746\ttotal: 215ms\tremaining: 1.84s\n",
      "21:\tlearn: 22.4245799\ttotal: 219ms\tremaining: 1.77s\n",
      "22:\tlearn: 22.3796488\ttotal: 222ms\tremaining: 1.71s\n",
      "23:\tlearn: 22.3521608\ttotal: 225ms\tremaining: 1.65s\n",
      "24:\tlearn: 22.3048653\ttotal: 228ms\tremaining: 1.6s\n",
      "25:\tlearn: 22.2747649\ttotal: 232ms\tremaining: 1.55s\n",
      "26:\tlearn: 22.2231164\ttotal: 235ms\tremaining: 1.5s\n",
      "27:\tlearn: 22.1539851\ttotal: 238ms\tremaining: 1.46s\n",
      "28:\tlearn: 22.0878283\ttotal: 241ms\tremaining: 1.42s\n",
      "29:\tlearn: 22.0618286\ttotal: 244ms\tremaining: 1.38s\n",
      "30:\tlearn: 22.0139826\ttotal: 247ms\tremaining: 1.35s\n",
      "31:\tlearn: 21.9718293\ttotal: 250ms\tremaining: 1.31s\n",
      "32:\tlearn: 21.9233560\ttotal: 254ms\tremaining: 1.28s\n",
      "33:\tlearn: 21.9144538\ttotal: 257ms\tremaining: 1.25s\n",
      "34:\tlearn: 21.8709975\ttotal: 261ms\tremaining: 1.23s\n",
      "35:\tlearn: 21.8493887\ttotal: 265ms\tremaining: 1.21s\n",
      "36:\tlearn: 21.7921808\ttotal: 268ms\tremaining: 1.18s\n",
      "37:\tlearn: 21.7323139\ttotal: 271ms\tremaining: 1.15s\n",
      "38:\tlearn: 21.6918489\ttotal: 274ms\tremaining: 1.13s\n",
      "39:\tlearn: 21.6388886\ttotal: 277ms\tremaining: 1.11s\n",
      "40:\tlearn: 21.5846702\ttotal: 280ms\tremaining: 1.08s\n",
      "41:\tlearn: 21.5465616\ttotal: 283ms\tremaining: 1.06s\n",
      "42:\tlearn: 21.5104756\ttotal: 285ms\tremaining: 1.04s\n",
      "43:\tlearn: 21.4413818\ttotal: 287ms\tremaining: 1.02s\n",
      "44:\tlearn: 21.3875218\ttotal: 289ms\tremaining: 995ms\n",
      "45:\tlearn: 21.3717862\ttotal: 291ms\tremaining: 974ms\n",
      "46:\tlearn: 21.3389711\ttotal: 292ms\tremaining: 952ms\n",
      "47:\tlearn: 21.3041479\ttotal: 294ms\tremaining: 931ms\n",
      "48:\tlearn: 21.2678143\ttotal: 295ms\tremaining: 910ms\n",
      "49:\tlearn: 21.2089567\ttotal: 297ms\tremaining: 891ms\n",
      "50:\tlearn: 21.1687169\ttotal: 298ms\tremaining: 872ms\n",
      "51:\tlearn: 21.1263386\ttotal: 300ms\tremaining: 854ms\n",
      "52:\tlearn: 21.0897534\ttotal: 302ms\tremaining: 837ms\n",
      "53:\tlearn: 21.0620013\ttotal: 303ms\tremaining: 820ms\n",
      "54:\tlearn: 21.0374982\ttotal: 305ms\tremaining: 803ms\n",
      "55:\tlearn: 21.0316035\ttotal: 306ms\tremaining: 787ms\n",
      "56:\tlearn: 21.0079885\ttotal: 308ms\tremaining: 772ms\n",
      "57:\tlearn: 20.9516441\ttotal: 309ms\tremaining: 757ms\n",
      "58:\tlearn: 20.9313541\ttotal: 311ms\tremaining: 742ms\n",
      "59:\tlearn: 20.9076600\ttotal: 312ms\tremaining: 728ms\n",
      "60:\tlearn: 20.8647784\ttotal: 314ms\tremaining: 715ms\n",
      "61:\tlearn: 20.8305577\ttotal: 315ms\tremaining: 702ms\n",
      "62:\tlearn: 20.8008790\ttotal: 319ms\tremaining: 693ms\n",
      "63:\tlearn: 20.7629354\ttotal: 321ms\tremaining: 681ms\n",
      "64:\tlearn: 20.7249416\ttotal: 322ms\tremaining: 670ms\n",
      "65:\tlearn: 20.6731744\ttotal: 324ms\tremaining: 659ms\n",
      "66:\tlearn: 20.6283246\ttotal: 326ms\tremaining: 648ms\n",
      "67:\tlearn: 20.5724166\ttotal: 330ms\tremaining: 640ms\n",
      "68:\tlearn: 20.5153400\ttotal: 331ms\tremaining: 629ms\n",
      "69:\tlearn: 20.4880657\ttotal: 333ms\tremaining: 618ms\n",
      "70:\tlearn: 20.4523421\ttotal: 334ms\tremaining: 607ms\n",
      "71:\tlearn: 20.4129980\ttotal: 336ms\tremaining: 597ms\n",
      "72:\tlearn: 20.4018499\ttotal: 337ms\tremaining: 586ms\n",
      "73:\tlearn: 20.3606556\ttotal: 338ms\tremaining: 576ms\n",
      "74:\tlearn: 20.3268773\ttotal: 340ms\tremaining: 566ms\n",
      "75:\tlearn: 20.2884175\ttotal: 341ms\tremaining: 557ms\n",
      "76:\tlearn: 20.2463440\ttotal: 343ms\tremaining: 548ms\n",
      "77:\tlearn: 20.2207494\ttotal: 345ms\tremaining: 539ms\n",
      "78:\tlearn: 20.1740023\ttotal: 346ms\tremaining: 530ms\n",
      "79:\tlearn: 20.1325824\ttotal: 347ms\tremaining: 521ms\n",
      "80:\tlearn: 20.0850505\ttotal: 349ms\tremaining: 512ms\n",
      "81:\tlearn: 20.0726601\ttotal: 350ms\tremaining: 504ms\n",
      "82:\tlearn: 20.0254735\ttotal: 352ms\tremaining: 496ms\n",
      "83:\tlearn: 19.9880556\ttotal: 353ms\tremaining: 488ms\n",
      "84:\tlearn: 19.9568554\ttotal: 355ms\tremaining: 480ms\n",
      "85:\tlearn: 19.9380150\ttotal: 358ms\tremaining: 475ms\n",
      "86:\tlearn: 19.9052266\ttotal: 360ms\tremaining: 467ms\n",
      "87:\tlearn: 19.8635294\ttotal: 362ms\tremaining: 461ms\n",
      "88:\tlearn: 19.8403259\ttotal: 364ms\tremaining: 453ms\n",
      "89:\tlearn: 19.8156911\ttotal: 365ms\tremaining: 446ms\n",
      "90:\tlearn: 19.7889906\ttotal: 366ms\tremaining: 439ms\n",
      "91:\tlearn: 19.7646059\ttotal: 368ms\tremaining: 432ms\n",
      "92:\tlearn: 19.7296063\ttotal: 369ms\tremaining: 425ms\n",
      "93:\tlearn: 19.7014919\ttotal: 372ms\tremaining: 420ms\n",
      "94:\tlearn: 19.6661754\ttotal: 374ms\tremaining: 413ms\n",
      "95:\tlearn: 19.6390371\ttotal: 375ms\tremaining: 407ms\n",
      "96:\tlearn: 19.6169166\ttotal: 377ms\tremaining: 400ms\n",
      "97:\tlearn: 19.5976127\ttotal: 378ms\tremaining: 394ms\n",
      "98:\tlearn: 19.5820104\ttotal: 380ms\tremaining: 387ms\n",
      "99:\tlearn: 19.5626163\ttotal: 382ms\tremaining: 382ms\n",
      "100:\tlearn: 19.5398810\ttotal: 383ms\tremaining: 376ms\n",
      "101:\tlearn: 19.5165585\ttotal: 385ms\tremaining: 370ms\n",
      "102:\tlearn: 19.4706250\ttotal: 387ms\tremaining: 364ms\n",
      "103:\tlearn: 19.4461113\ttotal: 388ms\tremaining: 358ms\n",
      "104:\tlearn: 19.4229037\ttotal: 390ms\tremaining: 353ms\n",
      "105:\tlearn: 19.3959166\ttotal: 391ms\tremaining: 347ms\n",
      "106:\tlearn: 19.3844345\ttotal: 393ms\tremaining: 342ms\n",
      "107:\tlearn: 19.3588761\ttotal: 395ms\tremaining: 336ms\n",
      "108:\tlearn: 19.3200261\ttotal: 397ms\tremaining: 331ms\n",
      "109:\tlearn: 19.2983650\ttotal: 398ms\tremaining: 326ms\n",
      "110:\tlearn: 19.2705836\ttotal: 400ms\tremaining: 321ms\n",
      "111:\tlearn: 19.2392494\ttotal: 402ms\tremaining: 316ms\n",
      "112:\tlearn: 19.2084621\ttotal: 404ms\tremaining: 311ms\n",
      "113:\tlearn: 19.1809081\ttotal: 405ms\tremaining: 306ms\n",
      "114:\tlearn: 19.1594031\ttotal: 407ms\tremaining: 301ms\n",
      "115:\tlearn: 19.1201179\ttotal: 408ms\tremaining: 296ms\n",
      "116:\tlearn: 19.0986615\ttotal: 410ms\tremaining: 291ms\n",
      "117:\tlearn: 19.0522893\ttotal: 412ms\tremaining: 286ms\n",
      "118:\tlearn: 19.0206319\ttotal: 414ms\tremaining: 281ms\n",
      "119:\tlearn: 19.0015454\ttotal: 415ms\tremaining: 277ms\n",
      "120:\tlearn: 18.9816170\ttotal: 417ms\tremaining: 272ms\n",
      "121:\tlearn: 18.9676430\ttotal: 418ms\tremaining: 267ms\n",
      "122:\tlearn: 18.9478201\ttotal: 420ms\tremaining: 263ms\n",
      "123:\tlearn: 18.8971665\ttotal: 422ms\tremaining: 258ms\n",
      "124:\tlearn: 18.8879948\ttotal: 423ms\tremaining: 254ms\n",
      "125:\tlearn: 18.8665736\ttotal: 425ms\tremaining: 250ms\n",
      "126:\tlearn: 18.8492148\ttotal: 426ms\tremaining: 245ms\n",
      "127:\tlearn: 18.8305523\ttotal: 429ms\tremaining: 241ms\n",
      "128:\tlearn: 18.8043658\ttotal: 430ms\tremaining: 237ms\n",
      "129:\tlearn: 18.7827772\ttotal: 432ms\tremaining: 232ms\n",
      "130:\tlearn: 18.7660691\ttotal: 433ms\tremaining: 228ms\n",
      "131:\tlearn: 18.7503851\ttotal: 435ms\tremaining: 224ms\n",
      "132:\tlearn: 18.7215965\ttotal: 437ms\tremaining: 220ms\n",
      "133:\tlearn: 18.6861887\ttotal: 438ms\tremaining: 216ms\n",
      "134:\tlearn: 18.6636042\ttotal: 440ms\tremaining: 212ms\n",
      "135:\tlearn: 18.6226743\ttotal: 442ms\tremaining: 208ms\n",
      "136:\tlearn: 18.6025003\ttotal: 444ms\tremaining: 204ms\n",
      "137:\tlearn: 18.5892381\ttotal: 445ms\tremaining: 200ms\n",
      "138:\tlearn: 18.5532915\ttotal: 447ms\tremaining: 196ms\n",
      "139:\tlearn: 18.5284043\ttotal: 449ms\tremaining: 192ms\n",
      "140:\tlearn: 18.4837932\ttotal: 450ms\tremaining: 188ms\n",
      "141:\tlearn: 18.4447540\ttotal: 452ms\tremaining: 185ms\n",
      "142:\tlearn: 18.4083419\ttotal: 453ms\tremaining: 181ms\n",
      "143:\tlearn: 18.3742639\ttotal: 455ms\tremaining: 177ms\n",
      "144:\tlearn: 18.3425079\ttotal: 457ms\tremaining: 173ms\n",
      "145:\tlearn: 18.3157707\ttotal: 459ms\tremaining: 170ms\n",
      "146:\tlearn: 18.2847660\ttotal: 461ms\tremaining: 166ms\n",
      "147:\tlearn: 18.2569495\ttotal: 463ms\tremaining: 163ms\n",
      "148:\tlearn: 18.2322319\ttotal: 464ms\tremaining: 159ms\n",
      "149:\tlearn: 18.2067885\ttotal: 466ms\tremaining: 155ms\n",
      "150:\tlearn: 18.1813815\ttotal: 467ms\tremaining: 152ms\n",
      "151:\tlearn: 18.1757724\ttotal: 469ms\tremaining: 148ms\n",
      "152:\tlearn: 18.1344587\ttotal: 471ms\tremaining: 145ms\n",
      "153:\tlearn: 18.1085814\ttotal: 473ms\tremaining: 141ms\n",
      "154:\tlearn: 18.0880531\ttotal: 474ms\tremaining: 138ms\n",
      "155:\tlearn: 18.0456118\ttotal: 476ms\tremaining: 134ms\n",
      "156:\tlearn: 18.0264282\ttotal: 478ms\tremaining: 131ms\n",
      "157:\tlearn: 18.0054795\ttotal: 480ms\tremaining: 127ms\n",
      "158:\tlearn: 17.9821238\ttotal: 481ms\tremaining: 124ms\n",
      "159:\tlearn: 17.9562713\ttotal: 483ms\tremaining: 121ms\n",
      "160:\tlearn: 17.9426335\ttotal: 485ms\tremaining: 117ms\n",
      "161:\tlearn: 17.9306230\ttotal: 486ms\tremaining: 114ms\n",
      "162:\tlearn: 17.9082096\ttotal: 488ms\tremaining: 111ms\n",
      "163:\tlearn: 17.8846583\ttotal: 490ms\tremaining: 108ms\n",
      "164:\tlearn: 17.8693385\ttotal: 493ms\tremaining: 105ms\n",
      "165:\tlearn: 17.8469031\ttotal: 495ms\tremaining: 101ms\n",
      "166:\tlearn: 17.8294863\ttotal: 497ms\tremaining: 98.2ms\n",
      "167:\tlearn: 17.7844987\ttotal: 499ms\tremaining: 95.1ms\n",
      "168:\tlearn: 17.7609674\ttotal: 501ms\tremaining: 91.9ms\n",
      "169:\tlearn: 17.7341733\ttotal: 502ms\tremaining: 88.6ms\n",
      "170:\tlearn: 17.7093353\ttotal: 504ms\tremaining: 85.4ms\n",
      "171:\tlearn: 17.6784461\ttotal: 505ms\tremaining: 82.2ms\n",
      "172:\tlearn: 17.6601226\ttotal: 507ms\tremaining: 79.1ms\n",
      "173:\tlearn: 17.6475947\ttotal: 508ms\tremaining: 75.9ms\n",
      "174:\tlearn: 17.6177986\ttotal: 509ms\tremaining: 72.8ms\n",
      "175:\tlearn: 17.5825470\ttotal: 511ms\tremaining: 69.7ms\n",
      "176:\tlearn: 17.5624420\ttotal: 513ms\tremaining: 66.6ms\n",
      "177:\tlearn: 17.5562641\ttotal: 514ms\tremaining: 63.6ms\n",
      "178:\tlearn: 17.5434139\ttotal: 516ms\tremaining: 60.5ms\n",
      "179:\tlearn: 17.5242357\ttotal: 517ms\tremaining: 57.5ms\n",
      "180:\tlearn: 17.4985431\ttotal: 519ms\tremaining: 54.5ms\n",
      "181:\tlearn: 17.4784543\ttotal: 521ms\tremaining: 51.5ms\n",
      "182:\tlearn: 17.4545997\ttotal: 522ms\tremaining: 48.5ms\n",
      "183:\tlearn: 17.4461083\ttotal: 524ms\tremaining: 45.5ms\n",
      "184:\tlearn: 17.4234236\ttotal: 525ms\tremaining: 42.6ms\n",
      "185:\tlearn: 17.3798646\ttotal: 527ms\tremaining: 39.7ms\n",
      "186:\tlearn: 17.3700939\ttotal: 529ms\tremaining: 36.8ms\n",
      "187:\tlearn: 17.3493322\ttotal: 530ms\tremaining: 33.9ms\n",
      "188:\tlearn: 17.3400141\ttotal: 532ms\tremaining: 31ms\n",
      "189:\tlearn: 17.3123635\ttotal: 534ms\tremaining: 28.1ms\n",
      "190:\tlearn: 17.2782439\ttotal: 535ms\tremaining: 25.2ms\n",
      "191:\tlearn: 17.2631142\ttotal: 537ms\tremaining: 22.4ms\n",
      "192:\tlearn: 17.2388442\ttotal: 539ms\tremaining: 19.5ms\n",
      "193:\tlearn: 17.2271820\ttotal: 541ms\tremaining: 16.7ms\n",
      "194:\tlearn: 17.2075150\ttotal: 543ms\tremaining: 13.9ms\n",
      "195:\tlearn: 17.1651751\ttotal: 544ms\tremaining: 11.1ms\n",
      "196:\tlearn: 17.1268446\ttotal: 546ms\tremaining: 8.31ms\n",
      "197:\tlearn: 17.1049033\ttotal: 547ms\tremaining: 5.53ms\n",
      "198:\tlearn: 17.0939841\ttotal: 549ms\tremaining: 2.76ms\n",
      "199:\tlearn: 17.0610796\ttotal: 550ms\tremaining: 0us\n",
      "Melhores valores:  {'max_depth': 3}\n",
      "-----------------------------\n",
      "Testando Variáveis: subsample\n",
      "0:\tlearn: 23.5094462\ttotal: 5.6ms\tremaining: 1.11s\n",
      "1:\tlearn: 23.4592984\ttotal: 10.2ms\tremaining: 1.01s\n",
      "2:\tlearn: 23.4069048\ttotal: 13.5ms\tremaining: 885ms\n",
      "3:\tlearn: 23.3447588\ttotal: 17.8ms\tremaining: 874ms\n",
      "4:\tlearn: 23.2639320\ttotal: 20.9ms\tremaining: 817ms\n",
      "5:\tlearn: 23.2090727\ttotal: 24ms\tremaining: 776ms\n",
      "6:\tlearn: 23.1854735\ttotal: 27.2ms\tremaining: 751ms\n",
      "7:\tlearn: 23.1481890\ttotal: 31.8ms\tremaining: 763ms\n",
      "8:\tlearn: 23.0957971\ttotal: 33.9ms\tremaining: 720ms\n",
      "9:\tlearn: 23.0414651\ttotal: 35.9ms\tremaining: 682ms\n",
      "10:\tlearn: 23.0040891\ttotal: 37.5ms\tremaining: 645ms\n",
      "11:\tlearn: 22.9380828\ttotal: 39.1ms\tremaining: 612ms\n",
      "12:\tlearn: 22.8895017\ttotal: 40.9ms\tremaining: 588ms\n",
      "13:\tlearn: 22.8376353\ttotal: 42.4ms\tremaining: 564ms\n",
      "14:\tlearn: 22.7863733\ttotal: 44.2ms\tremaining: 546ms\n",
      "15:\tlearn: 22.7543730\ttotal: 46ms\tremaining: 529ms\n",
      "16:\tlearn: 22.7090503\ttotal: 47.5ms\tremaining: 512ms\n",
      "17:\tlearn: 22.6538624\ttotal: 49.1ms\tremaining: 497ms\n",
      "18:\tlearn: 22.6128102\ttotal: 50.6ms\tremaining: 482ms\n",
      "19:\tlearn: 22.5974672\ttotal: 52.1ms\tremaining: 469ms\n",
      "20:\tlearn: 22.5490761\ttotal: 53.7ms\tremaining: 458ms\n",
      "21:\tlearn: 22.5101762\ttotal: 55.8ms\tremaining: 452ms\n",
      "22:\tlearn: 22.4491154\ttotal: 57.6ms\tremaining: 443ms\n",
      "23:\tlearn: 22.3967227\ttotal: 59.3ms\tremaining: 435ms\n",
      "24:\tlearn: 22.3355360\ttotal: 60.9ms\tremaining: 426ms\n",
      "25:\tlearn: 22.3201499\ttotal: 62.4ms\tremaining: 417ms\n",
      "26:\tlearn: 22.2800773\ttotal: 63.9ms\tremaining: 409ms\n",
      "27:\tlearn: 22.2140634\ttotal: 65.5ms\tremaining: 402ms\n",
      "28:\tlearn: 22.1563226\ttotal: 67.1ms\tremaining: 396ms\n",
      "29:\tlearn: 22.1197189\ttotal: 68.7ms\tremaining: 389ms\n",
      "30:\tlearn: 22.0711222\ttotal: 70.2ms\tremaining: 383ms\n",
      "31:\tlearn: 22.0288701\ttotal: 72ms\tremaining: 378ms\n",
      "32:\tlearn: 21.9812332\ttotal: 74ms\tremaining: 375ms\n",
      "33:\tlearn: 21.9579317\ttotal: 75.6ms\tremaining: 369ms\n",
      "34:\tlearn: 21.9172660\ttotal: 77.1ms\tremaining: 363ms\n",
      "35:\tlearn: 21.8575886\ttotal: 78.6ms\tremaining: 358ms\n",
      "36:\tlearn: 21.8243361\ttotal: 80.2ms\tremaining: 353ms\n",
      "37:\tlearn: 21.7764104\ttotal: 82.1ms\tremaining: 350ms\n",
      "38:\tlearn: 21.7226259\ttotal: 83.7ms\tremaining: 345ms\n",
      "39:\tlearn: 21.6618545\ttotal: 85.3ms\tremaining: 341ms\n",
      "40:\tlearn: 21.6072342\ttotal: 86.9ms\tremaining: 337ms\n",
      "41:\tlearn: 21.5620016\ttotal: 88.5ms\tremaining: 333ms\n",
      "42:\tlearn: 21.5315998\ttotal: 89.9ms\tremaining: 328ms\n",
      "43:\tlearn: 21.4611352\ttotal: 91.4ms\tremaining: 324ms\n",
      "44:\tlearn: 21.4150734\ttotal: 92.9ms\tremaining: 320ms\n",
      "45:\tlearn: 21.3578505\ttotal: 94.5ms\tremaining: 317ms\n",
      "46:\tlearn: 21.3138904\ttotal: 96.1ms\tremaining: 313ms\n",
      "47:\tlearn: 21.2661169\ttotal: 97.6ms\tremaining: 309ms\n",
      "48:\tlearn: 21.2082570\ttotal: 99.2ms\tremaining: 306ms\n",
      "49:\tlearn: 21.1851510\ttotal: 101ms\tremaining: 303ms\n",
      "50:\tlearn: 21.1491190\ttotal: 103ms\tremaining: 300ms\n",
      "51:\tlearn: 21.1038851\ttotal: 104ms\tremaining: 296ms\n",
      "52:\tlearn: 21.0655936\ttotal: 106ms\tremaining: 293ms\n",
      "53:\tlearn: 21.0454950\ttotal: 107ms\tremaining: 289ms\n",
      "54:\tlearn: 20.9985775\ttotal: 109ms\tremaining: 286ms\n",
      "55:\tlearn: 20.9629913\ttotal: 110ms\tremaining: 283ms\n",
      "56:\tlearn: 20.9187988\ttotal: 111ms\tremaining: 280ms\n",
      "57:\tlearn: 20.8887677\ttotal: 113ms\tremaining: 276ms\n",
      "58:\tlearn: 20.8398611\ttotal: 115ms\tremaining: 274ms\n",
      "59:\tlearn: 20.8228374\ttotal: 116ms\tremaining: 271ms\n",
      "60:\tlearn: 20.7948383\ttotal: 118ms\tremaining: 268ms\n",
      "61:\tlearn: 20.7559121\ttotal: 119ms\tremaining: 266ms\n",
      "62:\tlearn: 20.7155603\ttotal: 121ms\tremaining: 263ms\n",
      "63:\tlearn: 20.6853040\ttotal: 122ms\tremaining: 260ms\n",
      "64:\tlearn: 20.6745490\ttotal: 124ms\tremaining: 257ms\n",
      "65:\tlearn: 20.6432640\ttotal: 125ms\tremaining: 254ms\n",
      "66:\tlearn: 20.5835092\ttotal: 127ms\tremaining: 251ms\n",
      "67:\tlearn: 20.5504884\ttotal: 128ms\tremaining: 249ms\n",
      "68:\tlearn: 20.5393373\ttotal: 130ms\tremaining: 247ms\n",
      "69:\tlearn: 20.4947109\ttotal: 131ms\tremaining: 244ms\n",
      "70:\tlearn: 20.4453486\ttotal: 133ms\tremaining: 242ms\n",
      "71:\tlearn: 20.4194566\ttotal: 135ms\tremaining: 240ms\n",
      "72:\tlearn: 20.3953834\ttotal: 136ms\tremaining: 237ms\n",
      "73:\tlearn: 20.3535550\ttotal: 138ms\tremaining: 235ms\n",
      "74:\tlearn: 20.3236753\ttotal: 139ms\tremaining: 232ms\n",
      "75:\tlearn: 20.3042025\ttotal: 141ms\tremaining: 230ms\n",
      "76:\tlearn: 20.2816917\ttotal: 142ms\tremaining: 227ms\n",
      "77:\tlearn: 20.2514862\ttotal: 144ms\tremaining: 225ms\n",
      "78:\tlearn: 20.2217978\ttotal: 145ms\tremaining: 223ms\n",
      "79:\tlearn: 20.1815971\ttotal: 147ms\tremaining: 221ms\n",
      "80:\tlearn: 20.1374339\ttotal: 149ms\tremaining: 218ms\n",
      "81:\tlearn: 20.0966892\ttotal: 150ms\tremaining: 216ms\n",
      "82:\tlearn: 20.0645205\ttotal: 151ms\tremaining: 213ms\n",
      "83:\tlearn: 20.0446275\ttotal: 153ms\tremaining: 211ms\n",
      "84:\tlearn: 20.0136677\ttotal: 154ms\tremaining: 209ms\n",
      "85:\tlearn: 19.9842283\ttotal: 156ms\tremaining: 206ms\n",
      "86:\tlearn: 19.9406840\ttotal: 157ms\tremaining: 204ms\n",
      "87:\tlearn: 19.8964456\ttotal: 159ms\tremaining: 202ms\n",
      "88:\tlearn: 19.8735405\ttotal: 160ms\tremaining: 200ms\n",
      "89:\tlearn: 19.8386561\ttotal: 162ms\tremaining: 198ms\n",
      "90:\tlearn: 19.7859346\ttotal: 164ms\tremaining: 196ms\n",
      "91:\tlearn: 19.7550847\ttotal: 165ms\tremaining: 194ms\n",
      "92:\tlearn: 19.7306847\ttotal: 167ms\tremaining: 192ms\n",
      "93:\tlearn: 19.6742708\ttotal: 168ms\tremaining: 190ms\n",
      "94:\tlearn: 19.6474663\ttotal: 170ms\tremaining: 187ms\n",
      "95:\tlearn: 19.6217275\ttotal: 171ms\tremaining: 185ms\n",
      "96:\tlearn: 19.5959135\ttotal: 173ms\tremaining: 183ms\n",
      "97:\tlearn: 19.5650196\ttotal: 175ms\tremaining: 182ms\n",
      "98:\tlearn: 19.5388246\ttotal: 177ms\tremaining: 180ms\n",
      "99:\tlearn: 19.5132795\ttotal: 179ms\tremaining: 179ms\n",
      "100:\tlearn: 19.4703496\ttotal: 181ms\tremaining: 177ms\n",
      "101:\tlearn: 19.4432826\ttotal: 182ms\tremaining: 175ms\n",
      "102:\tlearn: 19.4145351\ttotal: 184ms\tremaining: 173ms\n",
      "103:\tlearn: 19.3830446\ttotal: 185ms\tremaining: 171ms\n",
      "104:\tlearn: 19.3520161\ttotal: 187ms\tremaining: 169ms\n",
      "105:\tlearn: 19.3044453\ttotal: 188ms\tremaining: 167ms\n",
      "106:\tlearn: 19.2901620\ttotal: 190ms\tremaining: 165ms\n",
      "107:\tlearn: 19.2538606\ttotal: 191ms\tremaining: 163ms\n",
      "108:\tlearn: 19.2261349\ttotal: 193ms\tremaining: 161ms\n",
      "109:\tlearn: 19.1837333\ttotal: 194ms\tremaining: 159ms\n",
      "110:\tlearn: 19.1613460\ttotal: 196ms\tremaining: 157ms\n",
      "111:\tlearn: 19.1118798\ttotal: 197ms\tremaining: 155ms\n",
      "112:\tlearn: 19.0819006\ttotal: 199ms\tremaining: 153ms\n",
      "113:\tlearn: 19.0564142\ttotal: 200ms\tremaining: 151ms\n",
      "114:\tlearn: 19.0379432\ttotal: 202ms\tremaining: 149ms\n",
      "115:\tlearn: 19.0269446\ttotal: 203ms\tremaining: 147ms\n",
      "116:\tlearn: 18.9966821\ttotal: 205ms\tremaining: 146ms\n",
      "117:\tlearn: 18.9792901\ttotal: 207ms\tremaining: 144ms\n",
      "118:\tlearn: 18.9560702\ttotal: 208ms\tremaining: 142ms\n",
      "119:\tlearn: 18.9342081\ttotal: 209ms\tremaining: 140ms\n",
      "120:\tlearn: 18.9102447\ttotal: 211ms\tremaining: 138ms\n",
      "121:\tlearn: 18.8759374\ttotal: 213ms\tremaining: 136ms\n",
      "122:\tlearn: 18.8541346\ttotal: 214ms\tremaining: 134ms\n",
      "123:\tlearn: 18.8295271\ttotal: 216ms\tremaining: 132ms\n",
      "124:\tlearn: 18.8096011\ttotal: 217ms\tremaining: 130ms\n",
      "125:\tlearn: 18.7703055\ttotal: 219ms\tremaining: 129ms\n",
      "126:\tlearn: 18.7440923\ttotal: 221ms\tremaining: 127ms\n",
      "127:\tlearn: 18.7291001\ttotal: 223ms\tremaining: 125ms\n",
      "128:\tlearn: 18.6988380\ttotal: 224ms\tremaining: 123ms\n",
      "129:\tlearn: 18.6620456\ttotal: 226ms\tremaining: 122ms\n",
      "130:\tlearn: 18.6390403\ttotal: 228ms\tremaining: 120ms\n",
      "131:\tlearn: 18.6178922\ttotal: 229ms\tremaining: 118ms\n",
      "132:\tlearn: 18.6001282\ttotal: 231ms\tremaining: 116ms\n",
      "133:\tlearn: 18.5696829\ttotal: 232ms\tremaining: 114ms\n",
      "134:\tlearn: 18.5375062\ttotal: 234ms\tremaining: 113ms\n",
      "135:\tlearn: 18.5033437\ttotal: 236ms\tremaining: 111ms\n",
      "136:\tlearn: 18.4777407\ttotal: 237ms\tremaining: 109ms\n",
      "137:\tlearn: 18.4550049\ttotal: 239ms\tremaining: 107ms\n",
      "138:\tlearn: 18.4315016\ttotal: 241ms\tremaining: 106ms\n",
      "139:\tlearn: 18.4093743\ttotal: 243ms\tremaining: 104ms\n",
      "140:\tlearn: 18.3802651\ttotal: 244ms\tremaining: 102ms\n",
      "141:\tlearn: 18.3605256\ttotal: 246ms\tremaining: 100ms\n",
      "142:\tlearn: 18.3440210\ttotal: 247ms\tremaining: 98.6ms\n",
      "143:\tlearn: 18.3246526\ttotal: 249ms\tremaining: 97ms\n",
      "144:\tlearn: 18.2892929\ttotal: 251ms\tremaining: 95.2ms\n",
      "145:\tlearn: 18.2651561\ttotal: 252ms\tremaining: 93.4ms\n",
      "146:\tlearn: 18.2484839\ttotal: 254ms\tremaining: 91.6ms\n",
      "147:\tlearn: 18.2192848\ttotal: 256ms\tremaining: 89.9ms\n",
      "148:\tlearn: 18.2027392\ttotal: 258ms\tremaining: 88.2ms\n",
      "149:\tlearn: 18.1712480\ttotal: 259ms\tremaining: 86.4ms\n",
      "150:\tlearn: 18.1476904\ttotal: 261ms\tremaining: 84.6ms\n",
      "151:\tlearn: 18.1263119\ttotal: 262ms\tremaining: 82.9ms\n",
      "152:\tlearn: 18.0926137\ttotal: 264ms\tremaining: 81.2ms\n",
      "153:\tlearn: 18.0716332\ttotal: 266ms\tremaining: 79.4ms\n",
      "154:\tlearn: 18.0360967\ttotal: 267ms\tremaining: 77.7ms\n",
      "155:\tlearn: 18.0275573\ttotal: 269ms\tremaining: 75.9ms\n",
      "156:\tlearn: 18.0089639\ttotal: 271ms\tremaining: 74.3ms\n",
      "157:\tlearn: 17.9871015\ttotal: 273ms\tremaining: 72.6ms\n",
      "158:\tlearn: 17.9632741\ttotal: 275ms\tremaining: 70.8ms\n",
      "159:\tlearn: 17.9164173\ttotal: 276ms\tremaining: 69.1ms\n",
      "160:\tlearn: 17.8875911\ttotal: 278ms\tremaining: 67.4ms\n",
      "161:\tlearn: 17.8473677\ttotal: 280ms\tremaining: 65.6ms\n",
      "162:\tlearn: 17.8264086\ttotal: 281ms\tremaining: 63.9ms\n",
      "163:\tlearn: 17.7945407\ttotal: 283ms\tremaining: 62.1ms\n",
      "164:\tlearn: 17.7691642\ttotal: 285ms\tremaining: 60.4ms\n",
      "165:\tlearn: 17.7405126\ttotal: 286ms\tremaining: 58.7ms\n",
      "166:\tlearn: 17.7125562\ttotal: 288ms\tremaining: 56.9ms\n",
      "167:\tlearn: 17.6962337\ttotal: 290ms\tremaining: 55.2ms\n",
      "168:\tlearn: 17.6797673\ttotal: 291ms\tremaining: 53.5ms\n",
      "169:\tlearn: 17.6584454\ttotal: 293ms\tremaining: 51.7ms\n",
      "170:\tlearn: 17.6308955\ttotal: 295ms\tremaining: 50ms\n",
      "171:\tlearn: 17.5965394\ttotal: 297ms\tremaining: 48.3ms\n",
      "172:\tlearn: 17.5681695\ttotal: 298ms\tremaining: 46.5ms\n",
      "173:\tlearn: 17.5312010\ttotal: 300ms\tremaining: 44.8ms\n",
      "174:\tlearn: 17.5093727\ttotal: 301ms\tremaining: 43.1ms\n",
      "175:\tlearn: 17.4777980\ttotal: 303ms\tremaining: 41.4ms\n",
      "176:\tlearn: 17.4689720\ttotal: 305ms\tremaining: 39.7ms\n",
      "177:\tlearn: 17.4528979\ttotal: 307ms\tremaining: 37.9ms\n",
      "178:\tlearn: 17.4328936\ttotal: 308ms\tremaining: 36.2ms\n",
      "179:\tlearn: 17.4136910\ttotal: 310ms\tremaining: 34.5ms\n",
      "180:\tlearn: 17.3889075\ttotal: 312ms\tremaining: 32.7ms\n",
      "181:\tlearn: 17.3683692\ttotal: 314ms\tremaining: 31ms\n",
      "182:\tlearn: 17.3557194\ttotal: 315ms\tremaining: 29.3ms\n",
      "183:\tlearn: 17.3429954\ttotal: 317ms\tremaining: 27.6ms\n",
      "184:\tlearn: 17.3207227\ttotal: 319ms\tremaining: 25.8ms\n",
      "185:\tlearn: 17.2972777\ttotal: 320ms\tremaining: 24.1ms\n",
      "186:\tlearn: 17.2768575\ttotal: 322ms\tremaining: 22.4ms\n",
      "187:\tlearn: 17.2575630\ttotal: 323ms\tremaining: 20.6ms\n",
      "188:\tlearn: 17.2255195\ttotal: 325ms\tremaining: 18.9ms\n",
      "189:\tlearn: 17.2063711\ttotal: 327ms\tremaining: 17.2ms\n",
      "190:\tlearn: 17.1947311\ttotal: 328ms\tremaining: 15.5ms\n",
      "191:\tlearn: 17.1767922\ttotal: 330ms\tremaining: 13.8ms\n",
      "192:\tlearn: 17.1599420\ttotal: 332ms\tremaining: 12ms\n",
      "193:\tlearn: 17.1505470\ttotal: 333ms\tremaining: 10.3ms\n",
      "194:\tlearn: 17.1339220\ttotal: 335ms\tremaining: 8.59ms\n",
      "195:\tlearn: 17.1117467\ttotal: 337ms\tremaining: 6.87ms\n",
      "196:\tlearn: 17.0812723\ttotal: 338ms\tremaining: 5.15ms\n",
      "197:\tlearn: 17.0696630\ttotal: 340ms\tremaining: 3.43ms\n",
      "198:\tlearn: 17.0520027\ttotal: 342ms\tremaining: 1.72ms\n",
      "199:\tlearn: 17.0454983\ttotal: 343ms\tremaining: 0us\n",
      "Melhores valores:  {'subsample': 0.6}\n"
     ]
    }
   ],
   "source": [
    "tunning_hiperpametros(CatBoostRegressor, X_train, y_train)"
   ]
  },
  {
   "cell_type": "code",
   "execution_count": 81,
   "id": "32b78ac0",
   "metadata": {},
   "outputs": [
    {
     "name": "stdout",
     "output_type": "stream",
     "text": [
      "0:\tlearn: 23.5094462\ttest: 22.1330586\tbest: 22.1330586 (0)\ttotal: 4.45ms\tremaining: 44.5s\n",
      "1:\tlearn: 23.4592984\ttest: 22.0950073\tbest: 22.0950073 (1)\ttotal: 9.56ms\tremaining: 47.8s\n",
      "2:\tlearn: 23.4069048\ttest: 22.0481416\tbest: 22.0481416 (2)\ttotal: 13.4ms\tremaining: 44.6s\n",
      "3:\tlearn: 23.3447588\ttest: 21.9966652\tbest: 21.9966652 (3)\ttotal: 18.7ms\tremaining: 46.6s\n",
      "4:\tlearn: 23.2639320\ttest: 21.9014060\tbest: 21.9014060 (4)\ttotal: 22.9ms\tremaining: 45.7s\n",
      "5:\tlearn: 23.2090727\ttest: 21.8461951\tbest: 21.8461951 (5)\ttotal: 26.8ms\tremaining: 44.7s\n",
      "6:\tlearn: 23.1854735\ttest: 21.8594273\tbest: 21.8461951 (5)\ttotal: 33.4ms\tremaining: 47.7s\n",
      "7:\tlearn: 23.1481890\ttest: 21.8112941\tbest: 21.8112941 (7)\ttotal: 36.6ms\tremaining: 45.7s\n",
      "8:\tlearn: 23.0957971\ttest: 21.7574071\tbest: 21.7574071 (8)\ttotal: 40.1ms\tremaining: 44.5s\n",
      "9:\tlearn: 23.0414651\ttest: 21.7091042\tbest: 21.7091042 (9)\ttotal: 44.1ms\tremaining: 44.1s\n",
      "10:\tlearn: 23.0040891\ttest: 21.6660414\tbest: 21.6660414 (10)\ttotal: 48.1ms\tremaining: 43.7s\n",
      "11:\tlearn: 22.9380828\ttest: 21.6166399\tbest: 21.6166399 (11)\ttotal: 53.1ms\tremaining: 44.2s\n",
      "12:\tlearn: 22.8895017\ttest: 21.5967101\tbest: 21.5967101 (12)\ttotal: 56.4ms\tremaining: 43.3s\n",
      "13:\tlearn: 22.8376353\ttest: 21.5807843\tbest: 21.5807843 (13)\ttotal: 59.4ms\tremaining: 42.3s\n",
      "14:\tlearn: 22.7863733\ttest: 21.5297397\tbest: 21.5297397 (14)\ttotal: 61.5ms\tremaining: 40.9s\n",
      "15:\tlearn: 22.7543730\ttest: 21.4954652\tbest: 21.4954652 (15)\ttotal: 63.5ms\tremaining: 39.6s\n",
      "16:\tlearn: 22.7090503\ttest: 21.4436591\tbest: 21.4436591 (16)\ttotal: 65.3ms\tremaining: 38.4s\n",
      "17:\tlearn: 22.6538624\ttest: 21.3996658\tbest: 21.3996658 (17)\ttotal: 67.1ms\tremaining: 37.2s\n",
      "18:\tlearn: 22.6128102\ttest: 21.3563066\tbest: 21.3563066 (18)\ttotal: 68.8ms\tremaining: 36.1s\n",
      "19:\tlearn: 22.5974672\ttest: 21.3725549\tbest: 21.3563066 (18)\ttotal: 71.8ms\tremaining: 35.8s\n",
      "20:\tlearn: 22.5490761\ttest: 21.3433061\tbest: 21.3433061 (20)\ttotal: 73.9ms\tremaining: 35.1s\n",
      "21:\tlearn: 22.5101762\ttest: 21.3113949\tbest: 21.3113949 (21)\ttotal: 75.3ms\tremaining: 34.2s\n",
      "22:\tlearn: 22.4491154\ttest: 21.2999574\tbest: 21.2999574 (22)\ttotal: 76.9ms\tremaining: 33.4s\n",
      "23:\tlearn: 22.3967227\ttest: 21.2748612\tbest: 21.2748612 (23)\ttotal: 78.4ms\tremaining: 32.6s\n",
      "24:\tlearn: 22.3355360\ttest: 21.2518058\tbest: 21.2518058 (24)\ttotal: 79.9ms\tremaining: 31.9s\n",
      "25:\tlearn: 22.3201499\ttest: 21.2506577\tbest: 21.2506577 (25)\ttotal: 81.4ms\tremaining: 31.2s\n",
      "26:\tlearn: 22.2800773\ttest: 21.2258759\tbest: 21.2258759 (26)\ttotal: 82.8ms\tremaining: 30.6s\n",
      "27:\tlearn: 22.2140634\ttest: 21.1543842\tbest: 21.1543842 (27)\ttotal: 122ms\tremaining: 43.6s\n",
      "28:\tlearn: 22.1563226\ttest: 21.1364196\tbest: 21.1364196 (28)\ttotal: 124ms\tremaining: 42.7s\n",
      "29:\tlearn: 22.1197189\ttest: 21.1059271\tbest: 21.1059271 (29)\ttotal: 126ms\tremaining: 41.9s\n",
      "30:\tlearn: 22.0711222\ttest: 21.0596030\tbest: 21.0596030 (30)\ttotal: 128ms\tremaining: 41.2s\n",
      "31:\tlearn: 22.0288701\ttest: 21.0715390\tbest: 21.0596030 (30)\ttotal: 130ms\tremaining: 40.5s\n",
      "32:\tlearn: 21.9812332\ttest: 21.0213598\tbest: 21.0213598 (32)\ttotal: 133ms\tremaining: 40.3s\n",
      "33:\tlearn: 21.9579317\ttest: 21.0153761\tbest: 21.0153761 (33)\ttotal: 135ms\tremaining: 39.7s\n",
      "34:\tlearn: 21.9172660\ttest: 20.9666880\tbest: 20.9666880 (34)\ttotal: 137ms\tremaining: 39.1s\n",
      "35:\tlearn: 21.8575886\ttest: 20.9078422\tbest: 20.9078422 (35)\ttotal: 139ms\tremaining: 38.4s\n",
      "36:\tlearn: 21.8243361\ttest: 20.8758027\tbest: 20.8758027 (36)\ttotal: 141ms\tremaining: 37.9s\n",
      "37:\tlearn: 21.7764104\ttest: 20.8350182\tbest: 20.8350182 (37)\ttotal: 143ms\tremaining: 37.4s\n",
      "38:\tlearn: 21.7226259\ttest: 20.7967971\tbest: 20.7967971 (38)\ttotal: 145ms\tremaining: 36.9s\n",
      "39:\tlearn: 21.6618545\ttest: 20.7428093\tbest: 20.7428093 (39)\ttotal: 154ms\tremaining: 38.4s\n",
      "40:\tlearn: 21.6072342\ttest: 20.6930558\tbest: 20.6930558 (40)\ttotal: 156ms\tremaining: 38s\n",
      "41:\tlearn: 21.5620016\ttest: 20.6402557\tbest: 20.6402557 (41)\ttotal: 159ms\tremaining: 37.6s\n",
      "42:\tlearn: 21.5315998\ttest: 20.6156491\tbest: 20.6156491 (42)\ttotal: 161ms\tremaining: 37.4s\n",
      "43:\tlearn: 21.4611352\ttest: 20.5989945\tbest: 20.5989945 (43)\ttotal: 163ms\tremaining: 36.9s\n",
      "44:\tlearn: 21.4150734\ttest: 20.5487802\tbest: 20.5487802 (44)\ttotal: 165ms\tremaining: 36.4s\n",
      "45:\tlearn: 21.3578505\ttest: 20.5502258\tbest: 20.5487802 (44)\ttotal: 166ms\tremaining: 36s\n",
      "46:\tlearn: 21.3138904\ttest: 20.5133902\tbest: 20.5133902 (46)\ttotal: 168ms\tremaining: 35.5s\n",
      "47:\tlearn: 21.2661169\ttest: 20.4815013\tbest: 20.4815013 (47)\ttotal: 169ms\tremaining: 35s\n",
      "48:\tlearn: 21.2082570\ttest: 20.4660341\tbest: 20.4660341 (48)\ttotal: 172ms\tremaining: 34.8s\n",
      "49:\tlearn: 21.1851510\ttest: 20.4918318\tbest: 20.4660341 (48)\ttotal: 173ms\tremaining: 34.4s\n",
      "50:\tlearn: 21.1491190\ttest: 20.4853434\tbest: 20.4660341 (48)\ttotal: 175ms\tremaining: 34s\n",
      "51:\tlearn: 21.1038851\ttest: 20.4583014\tbest: 20.4583014 (51)\ttotal: 176ms\tremaining: 33.7s\n",
      "52:\tlearn: 21.0655936\ttest: 20.4256475\tbest: 20.4256475 (52)\ttotal: 178ms\tremaining: 33.4s\n",
      "53:\tlearn: 21.0454950\ttest: 20.4188704\tbest: 20.4188704 (53)\ttotal: 180ms\tremaining: 33.2s\n",
      "54:\tlearn: 20.9985775\ttest: 20.3760988\tbest: 20.3760988 (54)\ttotal: 184ms\tremaining: 33.2s\n",
      "55:\tlearn: 20.9629913\ttest: 20.3481173\tbest: 20.3481173 (55)\ttotal: 186ms\tremaining: 33s\n",
      "56:\tlearn: 20.9187988\ttest: 20.3066599\tbest: 20.3066599 (56)\ttotal: 188ms\tremaining: 32.8s\n",
      "57:\tlearn: 20.8887677\ttest: 20.2758412\tbest: 20.2758412 (57)\ttotal: 190ms\tremaining: 32.5s\n",
      "58:\tlearn: 20.8398611\ttest: 20.2203995\tbest: 20.2203995 (58)\ttotal: 191ms\tremaining: 32.2s\n",
      "59:\tlearn: 20.8228374\ttest: 20.2117619\tbest: 20.2117619 (59)\ttotal: 192ms\tremaining: 31.9s\n",
      "60:\tlearn: 20.7948383\ttest: 20.2190649\tbest: 20.2117619 (59)\ttotal: 194ms\tremaining: 31.6s\n",
      "61:\tlearn: 20.7559121\ttest: 20.1805136\tbest: 20.1805136 (61)\ttotal: 196ms\tremaining: 31.3s\n",
      "62:\tlearn: 20.7155603\ttest: 20.1724650\tbest: 20.1724650 (62)\ttotal: 198ms\tremaining: 31.2s\n",
      "63:\tlearn: 20.6853040\ttest: 20.1626110\tbest: 20.1626110 (63)\ttotal: 199ms\tremaining: 30.9s\n",
      "64:\tlearn: 20.6745490\ttest: 20.1625888\tbest: 20.1625888 (64)\ttotal: 201ms\tremaining: 30.7s\n",
      "65:\tlearn: 20.6432640\ttest: 20.1487160\tbest: 20.1487160 (65)\ttotal: 202ms\tremaining: 30.4s\n",
      "66:\tlearn: 20.5835092\ttest: 20.1192376\tbest: 20.1192376 (66)\ttotal: 204ms\tremaining: 30.2s\n",
      "67:\tlearn: 20.5504884\ttest: 20.0850759\tbest: 20.0850759 (67)\ttotal: 205ms\tremaining: 29.9s\n",
      "68:\tlearn: 20.5393373\ttest: 20.0879781\tbest: 20.0850759 (67)\ttotal: 206ms\tremaining: 29.7s\n",
      "69:\tlearn: 20.4947109\ttest: 20.0408692\tbest: 20.0408692 (69)\ttotal: 208ms\tremaining: 29.5s\n",
      "70:\tlearn: 20.4453486\ttest: 19.9893484\tbest: 19.9893484 (70)\ttotal: 209ms\tremaining: 29.3s\n",
      "71:\tlearn: 20.4194566\ttest: 19.9722834\tbest: 19.9722834 (71)\ttotal: 212ms\tremaining: 29.2s\n",
      "72:\tlearn: 20.3953834\ttest: 19.9593792\tbest: 19.9593792 (72)\ttotal: 214ms\tremaining: 29s\n",
      "73:\tlearn: 20.3535550\ttest: 19.9119636\tbest: 19.9119636 (73)\ttotal: 215ms\tremaining: 28.9s\n",
      "74:\tlearn: 20.3236753\ttest: 19.8841746\tbest: 19.8841746 (74)\ttotal: 217ms\tremaining: 28.7s\n",
      "75:\tlearn: 20.3042025\ttest: 19.8698888\tbest: 19.8698888 (75)\ttotal: 218ms\tremaining: 28.5s\n",
      "76:\tlearn: 20.2816917\ttest: 19.8524410\tbest: 19.8524410 (76)\ttotal: 220ms\tremaining: 28.4s\n",
      "77:\tlearn: 20.2514862\ttest: 19.8348089\tbest: 19.8348089 (77)\ttotal: 222ms\tremaining: 28.2s\n",
      "78:\tlearn: 20.2217978\ttest: 19.8032321\tbest: 19.8032321 (78)\ttotal: 225ms\tremaining: 28.2s\n",
      "79:\tlearn: 20.1815971\ttest: 19.7517808\tbest: 19.7517808 (79)\ttotal: 227ms\tremaining: 28.1s\n",
      "80:\tlearn: 20.1374339\ttest: 19.7581715\tbest: 19.7517808 (79)\ttotal: 228ms\tremaining: 27.9s\n",
      "81:\tlearn: 20.0966892\ttest: 19.7269503\tbest: 19.7269503 (81)\ttotal: 230ms\tremaining: 27.8s\n",
      "82:\tlearn: 20.0645205\ttest: 19.7192027\tbest: 19.7192027 (82)\ttotal: 231ms\tremaining: 27.6s\n",
      "83:\tlearn: 20.0446275\ttest: 19.6953905\tbest: 19.6953905 (83)\ttotal: 232ms\tremaining: 27.4s\n",
      "84:\tlearn: 20.0136677\ttest: 19.6794509\tbest: 19.6794509 (84)\ttotal: 234ms\tremaining: 27.3s\n",
      "85:\tlearn: 19.9842283\ttest: 19.6849392\tbest: 19.6794509 (84)\ttotal: 235ms\tremaining: 27.1s\n",
      "86:\tlearn: 19.9406840\ttest: 19.6701409\tbest: 19.6701409 (86)\ttotal: 237ms\tremaining: 27s\n",
      "87:\tlearn: 19.8964456\ttest: 19.6713016\tbest: 19.6701409 (86)\ttotal: 238ms\tremaining: 26.9s\n",
      "88:\tlearn: 19.8735405\ttest: 19.6580062\tbest: 19.6580062 (88)\ttotal: 240ms\tremaining: 26.7s\n",
      "89:\tlearn: 19.8386561\ttest: 19.6304271\tbest: 19.6304271 (89)\ttotal: 241ms\tremaining: 26.6s\n",
      "90:\tlearn: 19.7859346\ttest: 19.6240571\tbest: 19.6240571 (90)\ttotal: 243ms\tremaining: 26.4s\n",
      "91:\tlearn: 19.7550847\ttest: 19.6120105\tbest: 19.6120105 (91)\ttotal: 244ms\tremaining: 26.3s\n",
      "92:\tlearn: 19.7306847\ttest: 19.6233812\tbest: 19.6120105 (91)\ttotal: 245ms\tremaining: 26.1s\n",
      "93:\tlearn: 19.6742708\ttest: 19.6034256\tbest: 19.6034256 (93)\ttotal: 247ms\tremaining: 26s\n",
      "94:\tlearn: 19.6474663\ttest: 19.5732847\tbest: 19.5732847 (94)\ttotal: 248ms\tremaining: 25.9s\n",
      "95:\tlearn: 19.6217275\ttest: 19.5686217\tbest: 19.5686217 (95)\ttotal: 249ms\tremaining: 25.7s\n",
      "96:\tlearn: 19.5959135\ttest: 19.5267834\tbest: 19.5267834 (96)\ttotal: 251ms\tremaining: 25.6s\n",
      "97:\tlearn: 19.5650196\ttest: 19.5132695\tbest: 19.5132695 (97)\ttotal: 253ms\tremaining: 25.5s\n",
      "98:\tlearn: 19.5388246\ttest: 19.4958622\tbest: 19.4958622 (98)\ttotal: 254ms\tremaining: 25.4s\n",
      "99:\tlearn: 19.5132795\ttest: 19.4702714\tbest: 19.4702714 (99)\ttotal: 255ms\tremaining: 25.3s\n",
      "100:\tlearn: 19.4703496\ttest: 19.4228443\tbest: 19.4228443 (100)\ttotal: 257ms\tremaining: 25.2s\n",
      "101:\tlearn: 19.4432826\ttest: 19.4020380\tbest: 19.4020380 (101)\ttotal: 258ms\tremaining: 25.1s\n",
      "102:\tlearn: 19.4145351\ttest: 19.3976483\tbest: 19.3976483 (102)\ttotal: 260ms\tremaining: 24.9s\n",
      "103:\tlearn: 19.3830446\ttest: 19.4081564\tbest: 19.3976483 (102)\ttotal: 261ms\tremaining: 24.8s\n",
      "104:\tlearn: 19.3520161\ttest: 19.4166138\tbest: 19.3976483 (102)\ttotal: 262ms\tremaining: 24.7s\n",
      "105:\tlearn: 19.3044453\ttest: 19.4104732\tbest: 19.3976483 (102)\ttotal: 264ms\tremaining: 24.6s\n",
      "106:\tlearn: 19.2901620\ttest: 19.4161566\tbest: 19.3976483 (102)\ttotal: 266ms\tremaining: 24.6s\n",
      "107:\tlearn: 19.2538606\ttest: 19.4327072\tbest: 19.3976483 (102)\ttotal: 267ms\tremaining: 24.5s\n",
      "108:\tlearn: 19.2261349\ttest: 19.4132815\tbest: 19.3976483 (102)\ttotal: 269ms\tremaining: 24.4s\n",
      "109:\tlearn: 19.1837333\ttest: 19.4219407\tbest: 19.3976483 (102)\ttotal: 270ms\tremaining: 24.3s\n",
      "110:\tlearn: 19.1613460\ttest: 19.4043022\tbest: 19.3976483 (102)\ttotal: 272ms\tremaining: 24.2s\n",
      "111:\tlearn: 19.1118798\ttest: 19.3617117\tbest: 19.3617117 (111)\ttotal: 273ms\tremaining: 24.1s\n",
      "112:\tlearn: 19.0819006\ttest: 19.3434542\tbest: 19.3434542 (112)\ttotal: 275ms\tremaining: 24.1s\n",
      "113:\tlearn: 19.0564142\ttest: 19.3155028\tbest: 19.3155028 (113)\ttotal: 277ms\tremaining: 24s\n",
      "114:\tlearn: 19.0379432\ttest: 19.2930633\tbest: 19.2930633 (114)\ttotal: 278ms\tremaining: 23.9s\n",
      "115:\tlearn: 19.0269446\ttest: 19.2837512\tbest: 19.2837512 (115)\ttotal: 280ms\tremaining: 23.9s\n",
      "116:\tlearn: 18.9966821\ttest: 19.2840461\tbest: 19.2837512 (115)\ttotal: 282ms\tremaining: 23.8s\n",
      "117:\tlearn: 18.9792901\ttest: 19.2794470\tbest: 19.2794470 (117)\ttotal: 283ms\tremaining: 23.7s\n",
      "118:\tlearn: 18.9560702\ttest: 19.2639481\tbest: 19.2639481 (118)\ttotal: 285ms\tremaining: 23.7s\n",
      "119:\tlearn: 18.9342081\ttest: 19.2307562\tbest: 19.2307562 (119)\ttotal: 286ms\tremaining: 23.6s\n",
      "120:\tlearn: 18.9102447\ttest: 19.2302874\tbest: 19.2302874 (120)\ttotal: 288ms\tremaining: 23.5s\n",
      "121:\tlearn: 18.8759374\ttest: 19.2111416\tbest: 19.2111416 (121)\ttotal: 290ms\tremaining: 23.4s\n",
      "122:\tlearn: 18.8541346\ttest: 19.1801690\tbest: 19.1801690 (122)\ttotal: 291ms\tremaining: 23.4s\n",
      "123:\tlearn: 18.8295271\ttest: 19.1624700\tbest: 19.1624700 (123)\ttotal: 293ms\tremaining: 23.4s\n",
      "124:\tlearn: 18.8096011\ttest: 19.1550856\tbest: 19.1550856 (124)\ttotal: 295ms\tremaining: 23.3s\n",
      "125:\tlearn: 18.7703055\ttest: 19.1418831\tbest: 19.1418831 (125)\ttotal: 296ms\tremaining: 23.2s\n",
      "126:\tlearn: 18.7440923\ttest: 19.1418158\tbest: 19.1418158 (126)\ttotal: 298ms\tremaining: 23.2s\n",
      "127:\tlearn: 18.7291001\ttest: 19.1218172\tbest: 19.1218172 (127)\ttotal: 299ms\tremaining: 23.1s\n",
      "128:\tlearn: 18.6988380\ttest: 19.0925075\tbest: 19.0925075 (128)\ttotal: 301ms\tremaining: 23s\n",
      "129:\tlearn: 18.6620456\ttest: 19.0480707\tbest: 19.0480707 (129)\ttotal: 303ms\tremaining: 23s\n",
      "130:\tlearn: 18.6390403\ttest: 19.0556049\tbest: 19.0480707 (129)\ttotal: 304ms\tremaining: 22.9s\n",
      "131:\tlearn: 18.6178922\ttest: 19.0492758\tbest: 19.0480707 (129)\ttotal: 306ms\tremaining: 22.9s\n",
      "132:\tlearn: 18.6001282\ttest: 19.0444359\tbest: 19.0444359 (132)\ttotal: 308ms\tremaining: 22.8s\n",
      "133:\tlearn: 18.5696829\ttest: 19.0323446\tbest: 19.0323446 (133)\ttotal: 309ms\tremaining: 22.8s\n",
      "134:\tlearn: 18.5375062\ttest: 19.0092981\tbest: 19.0092981 (134)\ttotal: 311ms\tremaining: 22.7s\n",
      "135:\tlearn: 18.5033437\ttest: 18.9872305\tbest: 18.9872305 (135)\ttotal: 313ms\tremaining: 22.7s\n",
      "136:\tlearn: 18.4777407\ttest: 18.9777833\tbest: 18.9777833 (136)\ttotal: 314ms\tremaining: 22.6s\n",
      "137:\tlearn: 18.4550049\ttest: 18.9694819\tbest: 18.9694819 (137)\ttotal: 316ms\tremaining: 22.6s\n",
      "138:\tlearn: 18.4315016\ttest: 18.9670210\tbest: 18.9670210 (138)\ttotal: 318ms\tremaining: 22.5s\n",
      "139:\tlearn: 18.4093743\ttest: 18.9590434\tbest: 18.9590434 (139)\ttotal: 319ms\tremaining: 22.5s\n",
      "140:\tlearn: 18.3802651\ttest: 18.9624614\tbest: 18.9590434 (139)\ttotal: 321ms\tremaining: 22.5s\n",
      "141:\tlearn: 18.3605256\ttest: 18.9428215\tbest: 18.9428215 (141)\ttotal: 323ms\tremaining: 22.4s\n",
      "142:\tlearn: 18.3440210\ttest: 18.9278318\tbest: 18.9278318 (142)\ttotal: 325ms\tremaining: 22.4s\n",
      "143:\tlearn: 18.3246526\ttest: 18.9155501\tbest: 18.9155501 (143)\ttotal: 326ms\tremaining: 22.3s\n",
      "144:\tlearn: 18.2892929\ttest: 18.9084874\tbest: 18.9084874 (144)\ttotal: 328ms\tremaining: 22.3s\n",
      "145:\tlearn: 18.2651561\ttest: 18.8847425\tbest: 18.8847425 (145)\ttotal: 329ms\tremaining: 22.2s\n",
      "146:\tlearn: 18.2484839\ttest: 18.8716725\tbest: 18.8716725 (146)\ttotal: 331ms\tremaining: 22.2s\n",
      "147:\tlearn: 18.2192848\ttest: 18.8515236\tbest: 18.8515236 (147)\ttotal: 333ms\tremaining: 22.2s\n",
      "148:\tlearn: 18.2027392\ttest: 18.8369793\tbest: 18.8369793 (148)\ttotal: 335ms\tremaining: 22.1s\n",
      "149:\tlearn: 18.1712480\ttest: 18.8188299\tbest: 18.8188299 (149)\ttotal: 337ms\tremaining: 22.1s\n",
      "150:\tlearn: 18.1476904\ttest: 18.8051802\tbest: 18.8051802 (150)\ttotal: 338ms\tremaining: 22.1s\n",
      "151:\tlearn: 18.1263119\ttest: 18.7938819\tbest: 18.7938819 (151)\ttotal: 340ms\tremaining: 22s\n",
      "152:\tlearn: 18.0926137\ttest: 18.7536628\tbest: 18.7536628 (152)\ttotal: 341ms\tremaining: 22s\n",
      "153:\tlearn: 18.0716332\ttest: 18.7311353\tbest: 18.7311353 (153)\ttotal: 343ms\tremaining: 21.9s\n",
      "154:\tlearn: 18.0360967\ttest: 18.7317976\tbest: 18.7311353 (153)\ttotal: 345ms\tremaining: 21.9s\n",
      "155:\tlearn: 18.0275573\ttest: 18.7287537\tbest: 18.7287537 (155)\ttotal: 347ms\tremaining: 21.9s\n",
      "156:\tlearn: 18.0089639\ttest: 18.7032784\tbest: 18.7032784 (156)\ttotal: 349ms\tremaining: 21.9s\n",
      "157:\tlearn: 17.9871015\ttest: 18.6932456\tbest: 18.6932456 (157)\ttotal: 351ms\tremaining: 21.9s\n",
      "158:\tlearn: 17.9632741\ttest: 18.7006955\tbest: 18.6932456 (157)\ttotal: 352ms\tremaining: 21.8s\n",
      "159:\tlearn: 17.9164173\ttest: 18.6412814\tbest: 18.6412814 (159)\ttotal: 354ms\tremaining: 21.8s\n",
      "160:\tlearn: 17.8875911\ttest: 18.6199869\tbest: 18.6199869 (160)\ttotal: 355ms\tremaining: 21.7s\n",
      "161:\tlearn: 17.8473677\ttest: 18.5893337\tbest: 18.5893337 (161)\ttotal: 357ms\tremaining: 21.7s\n",
      "162:\tlearn: 17.8264086\ttest: 18.5792951\tbest: 18.5792951 (162)\ttotal: 358ms\tremaining: 21.6s\n",
      "163:\tlearn: 17.7945407\ttest: 18.5708326\tbest: 18.5708326 (163)\ttotal: 360ms\tremaining: 21.6s\n",
      "164:\tlearn: 17.7691642\ttest: 18.5566289\tbest: 18.5566289 (164)\ttotal: 361ms\tremaining: 21.5s\n",
      "165:\tlearn: 17.7405126\ttest: 18.5610730\tbest: 18.5566289 (164)\ttotal: 363ms\tremaining: 21.5s\n",
      "166:\tlearn: 17.7125562\ttest: 18.5195313\tbest: 18.5195313 (166)\ttotal: 364ms\tremaining: 21.4s\n",
      "167:\tlearn: 17.6962337\ttest: 18.4972828\tbest: 18.4972828 (167)\ttotal: 366ms\tremaining: 21.4s\n",
      "168:\tlearn: 17.6797673\ttest: 18.4841750\tbest: 18.4841750 (168)\ttotal: 367ms\tremaining: 21.3s\n",
      "169:\tlearn: 17.6584454\ttest: 18.4825318\tbest: 18.4825318 (169)\ttotal: 368ms\tremaining: 21.3s\n",
      "170:\tlearn: 17.6308955\ttest: 18.4708189\tbest: 18.4708189 (170)\ttotal: 370ms\tremaining: 21.2s\n",
      "171:\tlearn: 17.5965394\ttest: 18.4610687\tbest: 18.4610687 (171)\ttotal: 371ms\tremaining: 21.2s\n",
      "172:\tlearn: 17.5681695\ttest: 18.4576591\tbest: 18.4576591 (172)\ttotal: 373ms\tremaining: 21.2s\n",
      "173:\tlearn: 17.5312010\ttest: 18.4358587\tbest: 18.4358587 (173)\ttotal: 374ms\tremaining: 21.1s\n",
      "174:\tlearn: 17.5093727\ttest: 18.4472755\tbest: 18.4358587 (173)\ttotal: 376ms\tremaining: 21.1s\n",
      "175:\tlearn: 17.4777980\ttest: 18.4128924\tbest: 18.4128924 (175)\ttotal: 377ms\tremaining: 21.1s\n",
      "176:\tlearn: 17.4689720\ttest: 18.4232723\tbest: 18.4128924 (175)\ttotal: 379ms\tremaining: 21s\n",
      "177:\tlearn: 17.4528979\ttest: 18.4089068\tbest: 18.4089068 (177)\ttotal: 380ms\tremaining: 21s\n",
      "178:\tlearn: 17.4328936\ttest: 18.4033911\tbest: 18.4033911 (178)\ttotal: 382ms\tremaining: 20.9s\n",
      "179:\tlearn: 17.4136910\ttest: 18.3715485\tbest: 18.3715485 (179)\ttotal: 383ms\tremaining: 20.9s\n",
      "180:\tlearn: 17.3889075\ttest: 18.3700035\tbest: 18.3700035 (180)\ttotal: 384ms\tremaining: 20.8s\n",
      "181:\tlearn: 17.3683692\ttest: 18.3605127\tbest: 18.3605127 (181)\ttotal: 386ms\tremaining: 20.8s\n",
      "182:\tlearn: 17.3557194\ttest: 18.3595498\tbest: 18.3595498 (182)\ttotal: 388ms\tremaining: 20.8s\n",
      "183:\tlearn: 17.3429954\ttest: 18.3469629\tbest: 18.3469629 (183)\ttotal: 390ms\tremaining: 20.8s\n",
      "184:\tlearn: 17.3207227\ttest: 18.3183463\tbest: 18.3183463 (184)\ttotal: 392ms\tremaining: 20.8s\n",
      "185:\tlearn: 17.2972777\ttest: 18.3075089\tbest: 18.3075089 (185)\ttotal: 393ms\tremaining: 20.7s\n",
      "186:\tlearn: 17.2768575\ttest: 18.2874743\tbest: 18.2874743 (186)\ttotal: 394ms\tremaining: 20.7s\n",
      "187:\tlearn: 17.2575630\ttest: 18.2881134\tbest: 18.2874743 (186)\ttotal: 396ms\tremaining: 20.6s\n",
      "188:\tlearn: 17.2255195\ttest: 18.2523088\tbest: 18.2523088 (188)\ttotal: 397ms\tremaining: 20.6s\n",
      "189:\tlearn: 17.2063711\ttest: 18.2295252\tbest: 18.2295252 (189)\ttotal: 398ms\tremaining: 20.6s\n",
      "190:\tlearn: 17.1947311\ttest: 18.2179141\tbest: 18.2179141 (190)\ttotal: 400ms\tremaining: 20.5s\n",
      "191:\tlearn: 17.1767922\ttest: 18.2061212\tbest: 18.2061212 (191)\ttotal: 401ms\tremaining: 20.5s\n",
      "192:\tlearn: 17.1599420\ttest: 18.2102330\tbest: 18.2061212 (191)\ttotal: 404ms\tremaining: 20.5s\n",
      "193:\tlearn: 17.1505470\ttest: 18.2069679\tbest: 18.2061212 (191)\ttotal: 405ms\tremaining: 20.5s\n",
      "194:\tlearn: 17.1339220\ttest: 18.1929463\tbest: 18.1929463 (194)\ttotal: 407ms\tremaining: 20.5s\n",
      "195:\tlearn: 17.1117467\ttest: 18.2026363\tbest: 18.1929463 (194)\ttotal: 409ms\tremaining: 20.4s\n",
      "196:\tlearn: 17.0812723\ttest: 18.1922240\tbest: 18.1922240 (196)\ttotal: 410ms\tremaining: 20.4s\n",
      "197:\tlearn: 17.0696630\ttest: 18.1848722\tbest: 18.1848722 (197)\ttotal: 411ms\tremaining: 20.4s\n",
      "198:\tlearn: 17.0520027\ttest: 18.1936106\tbest: 18.1848722 (197)\ttotal: 413ms\tremaining: 20.3s\n",
      "199:\tlearn: 17.0454983\ttest: 18.1849993\tbest: 18.1848722 (197)\ttotal: 414ms\tremaining: 20.3s\n",
      "200:\tlearn: 17.0257545\ttest: 18.1816772\tbest: 18.1816772 (200)\ttotal: 415ms\tremaining: 20.3s\n",
      "201:\tlearn: 17.0055633\ttest: 18.1684332\tbest: 18.1684332 (201)\ttotal: 418ms\tremaining: 20.3s\n",
      "202:\tlearn: 16.9960477\ttest: 18.1675330\tbest: 18.1675330 (202)\ttotal: 420ms\tremaining: 20.3s\n",
      "203:\tlearn: 16.9552853\ttest: 18.1746692\tbest: 18.1675330 (202)\ttotal: 421ms\tremaining: 20.2s\n",
      "204:\tlearn: 16.9240565\ttest: 18.1542523\tbest: 18.1542523 (204)\ttotal: 423ms\tremaining: 20.2s\n",
      "205:\tlearn: 16.9082897\ttest: 18.1289847\tbest: 18.1289847 (205)\ttotal: 425ms\tremaining: 20.2s\n",
      "206:\tlearn: 16.8920323\ttest: 18.1234467\tbest: 18.1234467 (206)\ttotal: 426ms\tremaining: 20.2s\n",
      "207:\tlearn: 16.8617725\ttest: 18.0957831\tbest: 18.0957831 (207)\ttotal: 428ms\tremaining: 20.1s\n",
      "208:\tlearn: 16.8443425\ttest: 18.0834164\tbest: 18.0834164 (208)\ttotal: 429ms\tremaining: 20.1s\n",
      "209:\tlearn: 16.8299989\ttest: 18.0750208\tbest: 18.0750208 (209)\ttotal: 431ms\tremaining: 20.1s\n",
      "210:\tlearn: 16.8032427\ttest: 18.0458063\tbest: 18.0458063 (210)\ttotal: 433ms\tremaining: 20.1s\n",
      "211:\tlearn: 16.7966033\ttest: 18.0452283\tbest: 18.0452283 (211)\ttotal: 434ms\tremaining: 20s\n",
      "212:\tlearn: 16.7799393\ttest: 18.0246717\tbest: 18.0246717 (212)\ttotal: 436ms\tremaining: 20s\n",
      "213:\tlearn: 16.7648545\ttest: 18.0122733\tbest: 18.0122733 (213)\ttotal: 437ms\tremaining: 20s\n",
      "214:\tlearn: 16.7341554\ttest: 17.9863783\tbest: 17.9863783 (214)\ttotal: 439ms\tremaining: 20s\n",
      "215:\tlearn: 16.7050224\ttest: 17.9957669\tbest: 17.9863783 (214)\ttotal: 440ms\tremaining: 19.9s\n",
      "216:\tlearn: 16.6805183\ttest: 18.0036388\tbest: 17.9863783 (214)\ttotal: 442ms\tremaining: 19.9s\n",
      "217:\tlearn: 16.6685285\ttest: 18.0071474\tbest: 17.9863783 (214)\ttotal: 443ms\tremaining: 19.9s\n",
      "218:\tlearn: 16.6351906\ttest: 18.0043169\tbest: 17.9863783 (214)\ttotal: 445ms\tremaining: 19.9s\n",
      "219:\tlearn: 16.6201052\ttest: 18.0000842\tbest: 17.9863783 (214)\ttotal: 447ms\tremaining: 19.9s\n",
      "220:\tlearn: 16.6044384\ttest: 18.0205307\tbest: 17.9863783 (214)\ttotal: 449ms\tremaining: 19.9s\n",
      "221:\tlearn: 16.5928197\ttest: 18.0089963\tbest: 17.9863783 (214)\ttotal: 450ms\tremaining: 19.8s\n",
      "222:\tlearn: 16.5823721\ttest: 18.0127925\tbest: 17.9863783 (214)\ttotal: 452ms\tremaining: 19.8s\n",
      "223:\tlearn: 16.5549450\ttest: 17.9846632\tbest: 17.9846632 (223)\ttotal: 453ms\tremaining: 19.8s\n",
      "224:\tlearn: 16.5329996\ttest: 17.9755178\tbest: 17.9755178 (224)\ttotal: 455ms\tremaining: 19.8s\n",
      "225:\tlearn: 16.5195149\ttest: 17.9625430\tbest: 17.9625430 (225)\ttotal: 457ms\tremaining: 19.7s\n",
      "226:\tlearn: 16.5005813\ttest: 17.9450112\tbest: 17.9450112 (226)\ttotal: 459ms\tremaining: 19.7s\n",
      "227:\tlearn: 16.4827339\ttest: 17.9462207\tbest: 17.9450112 (226)\ttotal: 460ms\tremaining: 19.7s\n",
      "228:\tlearn: 16.4718459\ttest: 17.9363176\tbest: 17.9363176 (228)\ttotal: 462ms\tremaining: 19.7s\n",
      "229:\tlearn: 16.4671753\ttest: 17.9335891\tbest: 17.9335891 (229)\ttotal: 463ms\tremaining: 19.7s\n",
      "230:\tlearn: 16.4477643\ttest: 17.9433145\tbest: 17.9335891 (229)\ttotal: 465ms\tremaining: 19.7s\n",
      "231:\tlearn: 16.4200639\ttest: 17.9131023\tbest: 17.9131023 (231)\ttotal: 467ms\tremaining: 19.6s\n",
      "232:\tlearn: 16.3908607\ttest: 17.9014138\tbest: 17.9014138 (232)\ttotal: 468ms\tremaining: 19.6s\n",
      "233:\tlearn: 16.3640721\ttest: 17.8846872\tbest: 17.8846872 (233)\ttotal: 470ms\tremaining: 19.6s\n",
      "234:\tlearn: 16.3519419\ttest: 17.8922401\tbest: 17.8846872 (233)\ttotal: 471ms\tremaining: 19.6s\n",
      "235:\tlearn: 16.3256726\ttest: 17.8579966\tbest: 17.8579966 (235)\ttotal: 473ms\tremaining: 19.6s\n",
      "236:\tlearn: 16.3182644\ttest: 17.8471831\tbest: 17.8471831 (236)\ttotal: 475ms\tremaining: 19.5s\n",
      "237:\tlearn: 16.2747068\ttest: 17.8454324\tbest: 17.8454324 (237)\ttotal: 476ms\tremaining: 19.5s\n",
      "238:\tlearn: 16.2551386\ttest: 17.8308938\tbest: 17.8308938 (238)\ttotal: 478ms\tremaining: 19.5s\n",
      "239:\tlearn: 16.2382336\ttest: 17.8235678\tbest: 17.8235678 (239)\ttotal: 479ms\tremaining: 19.5s\n",
      "240:\tlearn: 16.2223334\ttest: 17.8117324\tbest: 17.8117324 (240)\ttotal: 481ms\tremaining: 19.5s\n",
      "241:\tlearn: 16.1983530\ttest: 17.8023969\tbest: 17.8023969 (241)\ttotal: 482ms\tremaining: 19.5s\n",
      "242:\tlearn: 16.1834819\ttest: 17.8056707\tbest: 17.8023969 (241)\ttotal: 484ms\tremaining: 19.4s\n",
      "243:\tlearn: 16.1663873\ttest: 17.8014780\tbest: 17.8014780 (243)\ttotal: 486ms\tremaining: 19.4s\n",
      "244:\tlearn: 16.1510960\ttest: 17.7982208\tbest: 17.7982208 (244)\ttotal: 488ms\tremaining: 19.4s\n",
      "245:\tlearn: 16.1354183\ttest: 17.7769534\tbest: 17.7769534 (245)\ttotal: 489ms\tremaining: 19.4s\n",
      "246:\tlearn: 16.1215850\ttest: 17.7930434\tbest: 17.7769534 (245)\ttotal: 491ms\tremaining: 19.4s\n",
      "247:\tlearn: 16.1104599\ttest: 17.7866828\tbest: 17.7769534 (245)\ttotal: 492ms\tremaining: 19.4s\n",
      "248:\tlearn: 16.0928685\ttest: 17.7914417\tbest: 17.7769534 (245)\ttotal: 494ms\tremaining: 19.3s\n",
      "249:\tlearn: 16.0723213\ttest: 17.7722865\tbest: 17.7722865 (249)\ttotal: 496ms\tremaining: 19.3s\n",
      "250:\tlearn: 16.0591677\ttest: 17.7559509\tbest: 17.7559509 (250)\ttotal: 497ms\tremaining: 19.3s\n",
      "251:\tlearn: 16.0290229\ttest: 17.7281660\tbest: 17.7281660 (251)\ttotal: 499ms\tremaining: 19.3s\n",
      "252:\tlearn: 15.9995855\ttest: 17.7208831\tbest: 17.7208831 (252)\ttotal: 501ms\tremaining: 19.3s\n",
      "253:\tlearn: 15.9756510\ttest: 17.7232348\tbest: 17.7208831 (252)\ttotal: 502ms\tremaining: 19.3s\n",
      "254:\tlearn: 15.9590779\ttest: 17.7076467\tbest: 17.7076467 (254)\ttotal: 504ms\tremaining: 19.2s\n",
      "255:\tlearn: 15.9440275\ttest: 17.7146119\tbest: 17.7076467 (254)\ttotal: 505ms\tremaining: 19.2s\n",
      "256:\tlearn: 15.9214055\ttest: 17.7300869\tbest: 17.7076467 (254)\ttotal: 507ms\tremaining: 19.2s\n",
      "257:\tlearn: 15.9029597\ttest: 17.7139618\tbest: 17.7076467 (254)\ttotal: 509ms\tremaining: 19.2s\n",
      "258:\tlearn: 15.8911226\ttest: 17.7177016\tbest: 17.7076467 (254)\ttotal: 510ms\tremaining: 19.2s\n",
      "259:\tlearn: 15.8666390\ttest: 17.6858177\tbest: 17.6858177 (259)\ttotal: 512ms\tremaining: 19.2s\n",
      "260:\tlearn: 15.8538826\ttest: 17.6744319\tbest: 17.6744319 (260)\ttotal: 514ms\tremaining: 19.2s\n",
      "261:\tlearn: 15.8323197\ttest: 17.6673235\tbest: 17.6673235 (261)\ttotal: 517ms\tremaining: 19.2s\n",
      "262:\tlearn: 15.8050385\ttest: 17.6425146\tbest: 17.6425146 (262)\ttotal: 519ms\tremaining: 19.2s\n",
      "263:\tlearn: 15.7913451\ttest: 17.6262673\tbest: 17.6262673 (263)\ttotal: 520ms\tremaining: 19.2s\n",
      "264:\tlearn: 15.7692931\ttest: 17.6062280\tbest: 17.6062280 (264)\ttotal: 522ms\tremaining: 19.2s\n",
      "265:\tlearn: 15.7473314\ttest: 17.5930157\tbest: 17.5930157 (265)\ttotal: 524ms\tremaining: 19.2s\n",
      "266:\tlearn: 15.7223218\ttest: 17.5793276\tbest: 17.5793276 (266)\ttotal: 525ms\tremaining: 19.2s\n",
      "267:\tlearn: 15.7039289\ttest: 17.5963603\tbest: 17.5793276 (266)\ttotal: 528ms\tremaining: 19.2s\n",
      "268:\tlearn: 15.6787566\ttest: 17.5972824\tbest: 17.5793276 (266)\ttotal: 529ms\tremaining: 19.2s\n",
      "269:\tlearn: 15.6600773\ttest: 17.6140583\tbest: 17.5793276 (266)\ttotal: 531ms\tremaining: 19.1s\n",
      "270:\tlearn: 15.6465562\ttest: 17.6104283\tbest: 17.5793276 (266)\ttotal: 533ms\tremaining: 19.1s\n",
      "271:\tlearn: 15.6252698\ttest: 17.6379248\tbest: 17.5793276 (266)\ttotal: 534ms\tremaining: 19.1s\n",
      "272:\tlearn: 15.6022525\ttest: 17.6225307\tbest: 17.5793276 (266)\ttotal: 536ms\tremaining: 19.1s\n",
      "273:\tlearn: 15.5790761\ttest: 17.5929651\tbest: 17.5793276 (266)\ttotal: 537ms\tremaining: 19.1s\n",
      "274:\tlearn: 15.5716408\ttest: 17.5951289\tbest: 17.5793276 (266)\ttotal: 539ms\tremaining: 19.1s\n",
      "275:\tlearn: 15.5497405\ttest: 17.5884322\tbest: 17.5793276 (266)\ttotal: 540ms\tremaining: 19s\n",
      "276:\tlearn: 15.5385907\ttest: 17.5841274\tbest: 17.5793276 (266)\ttotal: 542ms\tremaining: 19s\n",
      "Stopped by overfitting detector  (10 iterations wait)\n",
      "\n",
      "bestTest = 17.57932762\n",
      "bestIteration = 266\n",
      "\n",
      "Shrink model to first 267 iterations.\n"
     ]
    },
    {
     "data": {
      "text/plain": [
       "<catboost.core.CatBoostRegressor at 0x2bb427a56a0>"
      ]
     },
     "execution_count": 81,
     "metadata": {},
     "output_type": "execute_result"
    }
   ],
   "source": [
    "model = CatBoostRegressor(learning_rate=0.01, max_depth=3, n_estimators=10000, random_state=1,  \n",
    "                     subsample = 0.6)\n",
    "\n",
    "model.fit(X_train, y_train, eval_set=eval_set, use_best_model=True, early_stopping_rounds=10)"
   ]
  },
  {
   "cell_type": "code",
   "execution_count": 82,
   "id": "9cbee034",
   "metadata": {},
   "outputs": [
    {
     "data": {
      "text/plain": [
       "array([1.39564654e+00, 5.30309438e+00, 1.11245875e+00, 4.50713305e+00,\n",
       "       1.94975702e-01, 1.01084967e+00, 1.34535673e+00, 1.28814795e+00,\n",
       "       2.26458714e+00, 4.27018840e+00, 8.12791463e-01, 1.52948427e+01,\n",
       "       1.45146428e+00, 8.42410546e-01, 9.13617101e-01, 1.40649303e+01,\n",
       "       1.52999901e+00, 2.87737855e+00, 3.18238311e-01, 5.74748059e+00,\n",
       "       1.84408596e+01, 1.94468221e-01, 9.93175530e-01, 1.72770500e+00,\n",
       "       1.29970732e-05, 0.00000000e+00, 0.00000000e+00, 1.63871191e-01,\n",
       "       0.00000000e+00, 7.00708178e-01, 8.16618184e-02, 0.00000000e+00,\n",
       "       6.14840862e-02, 0.00000000e+00, 1.53152015e+00, 8.03848273e-01,\n",
       "       2.56118404e-02, 0.00000000e+00, 2.24955980e-04, 0.00000000e+00,\n",
       "       0.00000000e+00, 0.00000000e+00, 7.16345148e-07, 0.00000000e+00,\n",
       "       1.62501087e-03, 1.66124561e-01, 0.00000000e+00, 3.22156493e-03,\n",
       "       1.47970323e-02, 1.49792629e-02, 1.62308762e+00, 7.01578328e-04,\n",
       "       8.58958583e-03, 3.00176317e-01, 0.00000000e+00, 2.02726518e+00,\n",
       "       9.74156535e-02, 8.13097007e-02, 2.38685668e+00, 4.99284045e-03,\n",
       "       2.61456514e-02, 1.57541006e-02, 0.00000000e+00, 1.01736542e-01,\n",
       "       8.19734347e-03, 0.00000000e+00, 4.81767303e-03, 1.80672983e-02,\n",
       "       0.00000000e+00, 0.00000000e+00, 4.08595076e-04, 0.00000000e+00,\n",
       "       3.32048846e-03, 0.00000000e+00, 0.00000000e+00, 0.00000000e+00,\n",
       "       0.00000000e+00, 0.00000000e+00, 0.00000000e+00, 2.23072324e-05,\n",
       "       4.28976966e-06, 2.86918086e-02, 6.77882690e-02, 0.00000000e+00,\n",
       "       3.64257300e-02, 0.00000000e+00, 0.00000000e+00, 0.00000000e+00,\n",
       "       2.08897647e-02, 1.85779814e-02, 0.00000000e+00, 0.00000000e+00,\n",
       "       0.00000000e+00, 2.80922199e-03, 5.76651540e-02, 0.00000000e+00,\n",
       "       3.70682086e-01, 0.00000000e+00, 5.89598865e-03, 2.29612796e-02,\n",
       "       3.45731810e-02, 4.05120895e-04, 5.46822803e-02, 2.16287235e-02,\n",
       "       0.00000000e+00, 3.90817328e-02, 7.83409794e-02, 7.62902311e-01,\n",
       "       1.33253779e-01, 1.87945749e-03, 1.87710036e-02, 0.00000000e+00,\n",
       "       4.17334991e-02, 0.00000000e+00])"
      ]
     },
     "execution_count": 82,
     "metadata": {},
     "output_type": "execute_result"
    }
   ],
   "source": [
    "model.feature_importances_"
   ]
  },
  {
   "cell_type": "code",
   "execution_count": 83,
   "id": "5839f548",
   "metadata": {},
   "outputs": [
    {
     "data": {
      "text/plain": [
       "Text(0.5, 1.0, 'Feature Importance')"
      ]
     },
     "execution_count": 83,
     "metadata": {},
     "output_type": "execute_result"
    },
    {
     "data": {
      "image/png": "[encoded data removed]",
      "text/plain": [
       "<Figure size 1200x600 with 1 Axes>"
      ]
     },
     "metadata": {},
     "output_type": "display_data"
    }
   ],
   "source": [
    "feature_importance = model.feature_importances_\n",
    "sorted_idx = np.argsort(feature_importance)\n",
    "fig = plt.figure(figsize=(12, 6))\n",
    "plt.barh(range(20), feature_importance[sorted_idx][-20:], align='center')\n",
    "plt.yticks(range(20), np.array(X_test.columns)[sorted_idx][-20:])\n",
    "plt.title('Feature Importance')"
   ]
  },
  {
   "cell_type": "code",
   "execution_count": 84,
   "id": "3359ac7b",
   "metadata": {},
   "outputs": [
    {
     "data": {
      "text/plain": [
       "0.5546594820447919"
      ]
     },
     "execution_count": 84,
     "metadata": {},
     "output_type": "execute_result"
    }
   ],
   "source": [
    "score = model.score(X_train, y_train)  \n",
    "score"
   ]
  },
  {
   "cell_type": "code",
   "execution_count": 85,
   "id": "00939a09",
   "metadata": {},
   "outputs": [
    {
     "data": {
      "text/plain": [
       "17"
      ]
     },
     "execution_count": 85,
     "metadata": {},
     "output_type": "execute_result"
    }
   ],
   "source": [
    "y_pred = model.predict(X_test)\n",
    "predictions = [round(value, 2) for value in y_pred]\n",
    "len(predictions)"
   ]
  },
  {
   "cell_type": "code",
   "execution_count": 86,
   "id": "cc6af5f6",
   "metadata": {},
   "outputs": [
    {
     "data": {
      "text/plain": [
       "Text(0.5, 1.0, 'Previsão Ocupação')"
      ]
     },
     "execution_count": 86,
     "metadata": {},
     "output_type": "execute_result"
    },
    {
     "data": {
      "image/png": "[encoded data removed]",
      "text/plain": [
       "<Figure size 1000x400 with 1 Axes>"
      ]
     },
     "metadata": {},
     "output_type": "display_data"
    }
   ],
   "source": [
    "y_test = y_test.reset_index(drop=True)\n",
    "fig, ax = plt.subplots(figsize=(10, 4))\n",
    "ax.plot(y_test, label='Ocupação')\n",
    "ax.plot(predictions, label='Previsão')\n",
    "ax.legend()\n",
    "ax.set_title(\"Previsão Ocupação\")"
   ]
  },
  {
   "cell_type": "code",
   "execution_count": 87,
   "id": "fe55d0b9",
   "metadata": {},
   "outputs": [
    {
     "name": "stdout",
     "output_type": "stream",
     "text": [
      "Erro médio quadrático:  17.58023020661695\n",
      "Erro médio absoluto:  15.410588235294119\n"
     ]
    }
   ],
   "source": [
    "taxas_erro(y_test, predictions)"
   ]
  },
  {
   "cell_type": "markdown",
   "id": "500d5f3e",
   "metadata": {},
   "source": [
    "##### Previsões"
   ]
  },
  {
   "cell_type": "code",
   "execution_count": 89,
   "id": "4aa40b0e",
   "metadata": {},
   "outputs": [],
   "source": [
    "dataset_previsao_modelo = dataset_previsao.drop(columns=['percentual_ocupacao', 'prejuizo_lucro', 'resultado_partida']\n",
    "                                               ).copy().reset_index(drop=True).loc[:0]"
   ]
  },
  {
   "cell_type": "code",
   "execution_count": 90,
   "id": "ec34f325",
   "metadata": {},
   "outputs": [
    {
     "data": {
      "text/plain": [
       "array([49.86806522])"
      ]
     },
     "execution_count": 90,
     "metadata": {},
     "output_type": "execute_result"
    }
   ],
   "source": [
    "model.predict(dataset_previsao_modelo)"
   ]
  },
  {
   "cell_type": "markdown",
   "id": "1f025200",
   "metadata": {},
   "source": [
    "##### Modelo 2"
   ]
  },
  {
   "cell_type": "code",
   "execution_count": 92,
   "id": "25a68082",
   "metadata": {},
   "outputs": [],
   "source": [
    "dados_modelo_prejuizo_lucro = dados_modelo_prejuizo_lucro[~dados_modelo_prejuizo_lucro['prejuizo_lucro'].isna() == True].reset_index(drop=True)"
   ]
  },
  {
   "cell_type": "code",
   "execution_count": 93,
   "id": "d7adb01c",
   "metadata": {},
   "outputs": [],
   "source": [
    "X = dados_modelo_prejuizo_lucro.drop(columns=['prejuizo_lucro']).copy()\n",
    "y = dados_modelo_prejuizo_lucro[['prejuizo_lucro']]"
   ]
  },
  {
   "cell_type": "code",
   "execution_count": 94,
   "id": "b03289a6",
   "metadata": {},
   "outputs": [],
   "source": [
    "X_train, X_test, y_train, y_test = train_test_split(X, y, test_size=0.2, random_state=42)\n",
    "eval_set = [(X_test, y_test)]"
   ]
  },
  {
   "cell_type": "code",
   "execution_count": 95,
   "id": "1a98ff9b",
   "metadata": {},
   "outputs": [
    {
     "name": "stdout",
     "output_type": "stream",
     "text": [
      "Testando Variáveis: max_depth\n",
      "0:\tlearn: 0.6892858\ttotal: 7.05ms\tremaining: 1.4s\n",
      "1:\tlearn: 0.6848308\ttotal: 13.8ms\tremaining: 1.36s\n",
      "2:\tlearn: 0.6798789\ttotal: 19.7ms\tremaining: 1.29s\n",
      "3:\tlearn: 0.6765227\ttotal: 26.2ms\tremaining: 1.28s\n",
      "4:\tlearn: 0.6706100\ttotal: 31.7ms\tremaining: 1.24s\n",
      "5:\tlearn: 0.6652691\ttotal: 39.2ms\tremaining: 1.27s\n",
      "6:\tlearn: 0.6603465\ttotal: 44.8ms\tremaining: 1.23s\n",
      "7:\tlearn: 0.6554262\ttotal: 50.6ms\tremaining: 1.21s\n",
      "8:\tlearn: 0.6511265\ttotal: 57.9ms\tremaining: 1.23s\n",
      "9:\tlearn: 0.6462608\ttotal: 63.8ms\tremaining: 1.21s\n",
      "10:\tlearn: 0.6422322\ttotal: 71.6ms\tremaining: 1.23s\n",
      "11:\tlearn: 0.6372090\ttotal: 77.5ms\tremaining: 1.21s\n",
      "12:\tlearn: 0.6330277\ttotal: 82.7ms\tremaining: 1.19s\n",
      "13:\tlearn: 0.6284562\ttotal: 89.5ms\tremaining: 1.19s\n",
      "14:\tlearn: 0.6235262\ttotal: 95.8ms\tremaining: 1.18s\n",
      "15:\tlearn: 0.6196411\ttotal: 102ms\tremaining: 1.17s\n",
      "16:\tlearn: 0.6145105\ttotal: 108ms\tremaining: 1.17s\n",
      "17:\tlearn: 0.6089478\ttotal: 112ms\tremaining: 1.14s\n",
      "18:\tlearn: 0.6034180\ttotal: 119ms\tremaining: 1.14s\n",
      "19:\tlearn: 0.5998035\ttotal: 125ms\tremaining: 1.13s\n",
      "20:\tlearn: 0.5950083\ttotal: 132ms\tremaining: 1.12s\n",
      "21:\tlearn: 0.5906339\ttotal: 138ms\tremaining: 1.11s\n",
      "22:\tlearn: 0.5866220\ttotal: 144ms\tremaining: 1.11s\n",
      "23:\tlearn: 0.5818793\ttotal: 150ms\tremaining: 1.1s\n",
      "24:\tlearn: 0.5785205\ttotal: 156ms\tremaining: 1.09s\n",
      "25:\tlearn: 0.5740418\ttotal: 163ms\tremaining: 1.09s\n",
      "26:\tlearn: 0.5674964\ttotal: 169ms\tremaining: 1.08s\n",
      "27:\tlearn: 0.5635917\ttotal: 175ms\tremaining: 1.08s\n",
      "28:\tlearn: 0.5604352\ttotal: 181ms\tremaining: 1.07s\n",
      "29:\tlearn: 0.5564916\ttotal: 187ms\tremaining: 1.06s\n",
      "30:\tlearn: 0.5509368\ttotal: 194ms\tremaining: 1.06s\n",
      "31:\tlearn: 0.5465462\ttotal: 200ms\tremaining: 1.05s\n",
      "32:\tlearn: 0.5427503\ttotal: 207ms\tremaining: 1.05s\n",
      "33:\tlearn: 0.5398412\ttotal: 214ms\tremaining: 1.04s\n",
      "34:\tlearn: 0.5362461\ttotal: 219ms\tremaining: 1.03s\n",
      "35:\tlearn: 0.5328689\ttotal: 226ms\tremaining: 1.03s\n",
      "36:\tlearn: 0.5294589\ttotal: 231ms\tremaining: 1.02s\n",
      "37:\tlearn: 0.5249222\ttotal: 236ms\tremaining: 1.01s\n",
      "38:\tlearn: 0.5215131\ttotal: 244ms\tremaining: 1.01s\n",
      "39:\tlearn: 0.5182569\ttotal: 249ms\tremaining: 996ms\n",
      "40:\tlearn: 0.5151944\ttotal: 255ms\tremaining: 991ms\n",
      "41:\tlearn: 0.5115140\ttotal: 262ms\tremaining: 985ms\n",
      "42:\tlearn: 0.5078882\ttotal: 267ms\tremaining: 975ms\n",
      "43:\tlearn: 0.5046435\ttotal: 274ms\tremaining: 973ms\n",
      "44:\tlearn: 0.5009618\ttotal: 280ms\tremaining: 965ms\n",
      "45:\tlearn: 0.4974495\ttotal: 287ms\tremaining: 962ms\n",
      "46:\tlearn: 0.4935445\ttotal: 293ms\tremaining: 954ms\n",
      "47:\tlearn: 0.4918285\ttotal: 299ms\tremaining: 946ms\n",
      "48:\tlearn: 0.4890286\ttotal: 305ms\tremaining: 941ms\n",
      "49:\tlearn: 0.4862119\ttotal: 312ms\tremaining: 935ms\n",
      "50:\tlearn: 0.4832134\ttotal: 317ms\tremaining: 926ms\n",
      "51:\tlearn: 0.4809000\ttotal: 324ms\tremaining: 921ms\n",
      "52:\tlearn: 0.4786972\ttotal: 330ms\tremaining: 915ms\n",
      "53:\tlearn: 0.4763411\ttotal: 334ms\tremaining: 903ms\n",
      "54:\tlearn: 0.4730724\ttotal: 339ms\tremaining: 894ms\n",
      "55:\tlearn: 0.4701875\ttotal: 345ms\tremaining: 886ms\n",
      "56:\tlearn: 0.4665845\ttotal: 350ms\tremaining: 879ms\n",
      "57:\tlearn: 0.4638101\ttotal: 356ms\tremaining: 872ms\n",
      "58:\tlearn: 0.4605878\ttotal: 362ms\tremaining: 866ms\n",
      "59:\tlearn: 0.4577473\ttotal: 368ms\tremaining: 859ms\n",
      "60:\tlearn: 0.4547538\ttotal: 374ms\tremaining: 852ms\n",
      "61:\tlearn: 0.4520298\ttotal: 379ms\tremaining: 844ms\n",
      "62:\tlearn: 0.4497181\ttotal: 385ms\tremaining: 837ms\n",
      "63:\tlearn: 0.4469041\ttotal: 391ms\tremaining: 830ms\n",
      "64:\tlearn: 0.4442938\ttotal: 396ms\tremaining: 823ms\n",
      "65:\tlearn: 0.4427907\ttotal: 401ms\tremaining: 814ms\n",
      "66:\tlearn: 0.4395582\ttotal: 407ms\tremaining: 809ms\n",
      "67:\tlearn: 0.4367664\ttotal: 412ms\tremaining: 800ms\n",
      "68:\tlearn: 0.4335716\ttotal: 417ms\tremaining: 792ms\n",
      "69:\tlearn: 0.4301493\ttotal: 423ms\tremaining: 785ms\n",
      "70:\tlearn: 0.4271010\ttotal: 428ms\tremaining: 778ms\n",
      "71:\tlearn: 0.4237467\ttotal: 434ms\tremaining: 772ms\n",
      "72:\tlearn: 0.4209398\ttotal: 439ms\tremaining: 764ms\n",
      "73:\tlearn: 0.4187661\ttotal: 445ms\tremaining: 757ms\n",
      "74:\tlearn: 0.4159302\ttotal: 450ms\tremaining: 750ms\n",
      "75:\tlearn: 0.4137755\ttotal: 456ms\tremaining: 744ms\n",
      "76:\tlearn: 0.4111933\ttotal: 462ms\tremaining: 738ms\n",
      "77:\tlearn: 0.4094908\ttotal: 468ms\tremaining: 732ms\n",
      "78:\tlearn: 0.4063133\ttotal: 474ms\tremaining: 726ms\n",
      "79:\tlearn: 0.4038281\ttotal: 479ms\tremaining: 719ms\n",
      "80:\tlearn: 0.4020212\ttotal: 485ms\tremaining: 712ms\n",
      "81:\tlearn: 0.3996888\ttotal: 491ms\tremaining: 707ms\n",
      "82:\tlearn: 0.3969089\ttotal: 496ms\tremaining: 700ms\n",
      "83:\tlearn: 0.3948435\ttotal: 502ms\tremaining: 693ms\n",
      "84:\tlearn: 0.3931847\ttotal: 508ms\tremaining: 687ms\n",
      "85:\tlearn: 0.3913542\ttotal: 513ms\tremaining: 680ms\n",
      "86:\tlearn: 0.3891193\ttotal: 519ms\tremaining: 674ms\n",
      "87:\tlearn: 0.3862324\ttotal: 524ms\tremaining: 667ms\n",
      "88:\tlearn: 0.3839942\ttotal: 530ms\tremaining: 661ms\n",
      "89:\tlearn: 0.3825073\ttotal: 535ms\tremaining: 654ms\n",
      "90:\tlearn: 0.3800520\ttotal: 541ms\tremaining: 648ms\n",
      "91:\tlearn: 0.3783342\ttotal: 546ms\tremaining: 641ms\n",
      "92:\tlearn: 0.3755160\ttotal: 551ms\tremaining: 634ms\n",
      "93:\tlearn: 0.3736108\ttotal: 557ms\tremaining: 628ms\n",
      "94:\tlearn: 0.3718748\ttotal: 563ms\tremaining: 622ms\n",
      "95:\tlearn: 0.3696941\ttotal: 568ms\tremaining: 616ms\n",
      "96:\tlearn: 0.3677110\ttotal: 573ms\tremaining: 609ms\n",
      "97:\tlearn: 0.3658938\ttotal: 579ms\tremaining: 603ms\n",
      "98:\tlearn: 0.3639509\ttotal: 585ms\tremaining: 597ms\n",
      "99:\tlearn: 0.3626263\ttotal: 591ms\tremaining: 591ms\n",
      "100:\tlearn: 0.3606923\ttotal: 597ms\tremaining: 586ms\n",
      "101:\tlearn: 0.3592310\ttotal: 603ms\tremaining: 579ms\n",
      "102:\tlearn: 0.3576579\ttotal: 608ms\tremaining: 572ms\n",
      "103:\tlearn: 0.3557766\ttotal: 613ms\tremaining: 566ms\n",
      "104:\tlearn: 0.3538291\ttotal: 619ms\tremaining: 560ms\n",
      "105:\tlearn: 0.3513721\ttotal: 624ms\tremaining: 553ms\n",
      "106:\tlearn: 0.3498798\ttotal: 630ms\tremaining: 547ms\n",
      "107:\tlearn: 0.3478076\ttotal: 635ms\tremaining: 541ms\n",
      "108:\tlearn: 0.3450891\ttotal: 640ms\tremaining: 535ms\n",
      "109:\tlearn: 0.3425171\ttotal: 647ms\tremaining: 529ms\n",
      "110:\tlearn: 0.3405756\ttotal: 652ms\tremaining: 523ms\n",
      "111:\tlearn: 0.3386254\ttotal: 657ms\tremaining: 517ms\n",
      "112:\tlearn: 0.3376321\ttotal: 662ms\tremaining: 509ms\n",
      "113:\tlearn: 0.3353993\ttotal: 667ms\tremaining: 503ms\n",
      "114:\tlearn: 0.3339699\ttotal: 673ms\tremaining: 497ms\n",
      "115:\tlearn: 0.3316309\ttotal: 679ms\tremaining: 491ms\n",
      "116:\tlearn: 0.3299638\ttotal: 684ms\tremaining: 485ms\n",
      "117:\tlearn: 0.3285740\ttotal: 690ms\tremaining: 479ms\n",
      "118:\tlearn: 0.3272635\ttotal: 695ms\tremaining: 473ms\n",
      "119:\tlearn: 0.3252008\ttotal: 701ms\tremaining: 467ms\n",
      "120:\tlearn: 0.3238968\ttotal: 707ms\tremaining: 461ms\n",
      "121:\tlearn: 0.3224366\ttotal: 712ms\tremaining: 455ms\n",
      "122:\tlearn: 0.3209279\ttotal: 718ms\tremaining: 449ms\n",
      "123:\tlearn: 0.3188548\ttotal: 723ms\tremaining: 443ms\n",
      "124:\tlearn: 0.3167497\ttotal: 729ms\tremaining: 437ms\n",
      "125:\tlearn: 0.3149857\ttotal: 734ms\tremaining: 431ms\n",
      "126:\tlearn: 0.3136842\ttotal: 740ms\tremaining: 425ms\n",
      "127:\tlearn: 0.3121189\ttotal: 746ms\tremaining: 419ms\n",
      "128:\tlearn: 0.3106826\ttotal: 752ms\tremaining: 414ms\n",
      "129:\tlearn: 0.3091107\ttotal: 758ms\tremaining: 408ms\n",
      "130:\tlearn: 0.3078044\ttotal: 764ms\tremaining: 402ms\n",
      "131:\tlearn: 0.3062316\ttotal: 768ms\tremaining: 396ms\n",
      "132:\tlearn: 0.3041757\ttotal: 774ms\tremaining: 390ms\n",
      "133:\tlearn: 0.3023648\ttotal: 779ms\tremaining: 384ms\n",
      "134:\tlearn: 0.3011743\ttotal: 785ms\tremaining: 378ms\n",
      "135:\tlearn: 0.2997688\ttotal: 790ms\tremaining: 372ms\n",
      "136:\tlearn: 0.2982858\ttotal: 797ms\tremaining: 367ms\n",
      "137:\tlearn: 0.2964733\ttotal: 803ms\tremaining: 361ms\n",
      "138:\tlearn: 0.2949238\ttotal: 808ms\tremaining: 355ms\n",
      "139:\tlearn: 0.2930835\ttotal: 813ms\tremaining: 349ms\n",
      "140:\tlearn: 0.2920484\ttotal: 821ms\tremaining: 343ms\n",
      "141:\tlearn: 0.2902167\ttotal: 826ms\tremaining: 337ms\n",
      "142:\tlearn: 0.2894933\ttotal: 831ms\tremaining: 331ms\n",
      "143:\tlearn: 0.2880440\ttotal: 836ms\tremaining: 325ms\n",
      "144:\tlearn: 0.2860699\ttotal: 843ms\tremaining: 320ms\n",
      "145:\tlearn: 0.2845464\ttotal: 849ms\tremaining: 314ms\n",
      "146:\tlearn: 0.2827512\ttotal: 854ms\tremaining: 308ms\n",
      "147:\tlearn: 0.2811482\ttotal: 861ms\tremaining: 302ms\n",
      "148:\tlearn: 0.2801377\ttotal: 867ms\tremaining: 297ms\n",
      "149:\tlearn: 0.2792049\ttotal: 872ms\tremaining: 291ms\n",
      "150:\tlearn: 0.2780795\ttotal: 877ms\tremaining: 285ms\n",
      "151:\tlearn: 0.2770161\ttotal: 884ms\tremaining: 279ms\n",
      "152:\tlearn: 0.2759831\ttotal: 889ms\tremaining: 273ms\n",
      "153:\tlearn: 0.2745084\ttotal: 894ms\tremaining: 267ms\n",
      "154:\tlearn: 0.2729457\ttotal: 900ms\tremaining: 261ms\n",
      "155:\tlearn: 0.2720327\ttotal: 906ms\tremaining: 255ms\n",
      "156:\tlearn: 0.2710469\ttotal: 912ms\tremaining: 250ms\n",
      "157:\tlearn: 0.2691649\ttotal: 917ms\tremaining: 244ms\n",
      "158:\tlearn: 0.2680397\ttotal: 923ms\tremaining: 238ms\n",
      "159:\tlearn: 0.2665989\ttotal: 928ms\tremaining: 232ms\n",
      "160:\tlearn: 0.2648334\ttotal: 935ms\tremaining: 226ms\n",
      "161:\tlearn: 0.2630664\ttotal: 940ms\tremaining: 221ms\n",
      "162:\tlearn: 0.2619688\ttotal: 946ms\tremaining: 215ms\n",
      "163:\tlearn: 0.2604494\ttotal: 952ms\tremaining: 209ms\n",
      "164:\tlearn: 0.2595237\ttotal: 958ms\tremaining: 203ms\n",
      "165:\tlearn: 0.2586693\ttotal: 964ms\tremaining: 197ms\n",
      "166:\tlearn: 0.2568766\ttotal: 970ms\tremaining: 192ms\n",
      "167:\tlearn: 0.2554643\ttotal: 976ms\tremaining: 186ms\n",
      "168:\tlearn: 0.2542576\ttotal: 982ms\tremaining: 180ms\n",
      "169:\tlearn: 0.2530215\ttotal: 988ms\tremaining: 174ms\n",
      "170:\tlearn: 0.2517863\ttotal: 995ms\tremaining: 169ms\n",
      "171:\tlearn: 0.2506809\ttotal: 1s\tremaining: 163ms\n",
      "172:\tlearn: 0.2497201\ttotal: 1.01s\tremaining: 157ms\n",
      "173:\tlearn: 0.2488505\ttotal: 1.01s\tremaining: 151ms\n",
      "174:\tlearn: 0.2467566\ttotal: 1.02s\tremaining: 145ms\n",
      "175:\tlearn: 0.2460528\ttotal: 1.02s\tremaining: 140ms\n",
      "176:\tlearn: 0.2451182\ttotal: 1.07s\tremaining: 139ms\n",
      "177:\tlearn: 0.2442264\ttotal: 1.09s\tremaining: 135ms\n",
      "178:\tlearn: 0.2430265\ttotal: 1.1s\tremaining: 129ms\n",
      "179:\tlearn: 0.2417470\ttotal: 1.11s\tremaining: 123ms\n",
      "180:\tlearn: 0.2400754\ttotal: 1.11s\tremaining: 117ms\n",
      "181:\tlearn: 0.2389240\ttotal: 1.12s\tremaining: 111ms\n",
      "182:\tlearn: 0.2379660\ttotal: 1.13s\tremaining: 105ms\n",
      "183:\tlearn: 0.2370700\ttotal: 1.14s\tremaining: 99.2ms\n",
      "184:\tlearn: 0.2362650\ttotal: 1.15s\tremaining: 92.9ms\n",
      "185:\tlearn: 0.2350835\ttotal: 1.15s\tremaining: 86.7ms\n",
      "186:\tlearn: 0.2333244\ttotal: 1.16s\tremaining: 80.5ms\n",
      "187:\tlearn: 0.2326773\ttotal: 1.16s\tremaining: 74.2ms\n",
      "188:\tlearn: 0.2316162\ttotal: 1.17s\tremaining: 68.1ms\n",
      "189:\tlearn: 0.2305887\ttotal: 1.18s\tremaining: 61.9ms\n",
      "190:\tlearn: 0.2292754\ttotal: 1.18s\tremaining: 55.6ms\n",
      "191:\tlearn: 0.2281461\ttotal: 1.19s\tremaining: 49.4ms\n",
      "192:\tlearn: 0.2270538\ttotal: 1.19s\tremaining: 43.2ms\n",
      "193:\tlearn: 0.2259685\ttotal: 1.2s\tremaining: 37ms\n",
      "194:\tlearn: 0.2246619\ttotal: 1.2s\tremaining: 30.9ms\n",
      "195:\tlearn: 0.2236457\ttotal: 1.21s\tremaining: 24.7ms\n",
      "196:\tlearn: 0.2220334\ttotal: 1.22s\tremaining: 18.5ms\n",
      "197:\tlearn: 0.2211295\ttotal: 1.22s\tremaining: 12.3ms\n",
      "198:\tlearn: 0.2198778\ttotal: 1.23s\tremaining: 6.17ms\n",
      "199:\tlearn: 0.2189906\ttotal: 1.23s\tremaining: 0us\n",
      "Melhores valores:  {'max_depth': 7}\n",
      "-----------------------------\n",
      "Testando Variáveis: subsample\n",
      "0:\tlearn: 0.6883511\ttotal: 7.5ms\tremaining: 1.49s\n",
      "1:\tlearn: 0.6840707\ttotal: 15ms\tremaining: 1.49s\n",
      "2:\tlearn: 0.6790771\ttotal: 21.2ms\tremaining: 1.39s\n",
      "3:\tlearn: 0.6744865\ttotal: 27.3ms\tremaining: 1.34s\n",
      "4:\tlearn: 0.6699734\ttotal: 33.5ms\tremaining: 1.3s\n",
      "5:\tlearn: 0.6660638\ttotal: 39.4ms\tremaining: 1.27s\n",
      "6:\tlearn: 0.6611273\ttotal: 45.3ms\tremaining: 1.25s\n",
      "7:\tlearn: 0.6567353\ttotal: 51.4ms\tremaining: 1.23s\n",
      "8:\tlearn: 0.6531295\ttotal: 59.4ms\tremaining: 1.26s\n",
      "9:\tlearn: 0.6479645\ttotal: 66.4ms\tremaining: 1.26s\n",
      "10:\tlearn: 0.6426462\ttotal: 73.7ms\tremaining: 1.27s\n",
      "11:\tlearn: 0.6404924\ttotal: 81.3ms\tremaining: 1.27s\n",
      "12:\tlearn: 0.6360013\ttotal: 88ms\tremaining: 1.26s\n",
      "13:\tlearn: 0.6332130\ttotal: 94.5ms\tremaining: 1.25s\n",
      "14:\tlearn: 0.6300485\ttotal: 101ms\tremaining: 1.25s\n",
      "15:\tlearn: 0.6271864\ttotal: 107ms\tremaining: 1.23s\n",
      "16:\tlearn: 0.6214275\ttotal: 113ms\tremaining: 1.21s\n",
      "17:\tlearn: 0.6180771\ttotal: 119ms\tremaining: 1.2s\n",
      "18:\tlearn: 0.6133902\ttotal: 126ms\tremaining: 1.2s\n",
      "19:\tlearn: 0.6093875\ttotal: 132ms\tremaining: 1.19s\n",
      "20:\tlearn: 0.6055766\ttotal: 138ms\tremaining: 1.18s\n",
      "21:\tlearn: 0.6003565\ttotal: 144ms\tremaining: 1.17s\n",
      "22:\tlearn: 0.5969164\ttotal: 150ms\tremaining: 1.16s\n",
      "23:\tlearn: 0.5927118\ttotal: 156ms\tremaining: 1.14s\n",
      "24:\tlearn: 0.5898821\ttotal: 160ms\tremaining: 1.12s\n",
      "25:\tlearn: 0.5862675\ttotal: 167ms\tremaining: 1.12s\n",
      "26:\tlearn: 0.5836058\ttotal: 173ms\tremaining: 1.1s\n",
      "27:\tlearn: 0.5803564\ttotal: 179ms\tremaining: 1.1s\n",
      "28:\tlearn: 0.5774876\ttotal: 184ms\tremaining: 1.09s\n",
      "29:\tlearn: 0.5746648\ttotal: 190ms\tremaining: 1.08s\n",
      "30:\tlearn: 0.5692207\ttotal: 197ms\tremaining: 1.07s\n",
      "31:\tlearn: 0.5658893\ttotal: 202ms\tremaining: 1.06s\n",
      "32:\tlearn: 0.5627727\ttotal: 208ms\tremaining: 1.05s\n",
      "33:\tlearn: 0.5604366\ttotal: 213ms\tremaining: 1.04s\n",
      "34:\tlearn: 0.5562248\ttotal: 218ms\tremaining: 1.03s\n",
      "35:\tlearn: 0.5535072\ttotal: 224ms\tremaining: 1.02s\n",
      "36:\tlearn: 0.5497899\ttotal: 229ms\tremaining: 1.01s\n",
      "37:\tlearn: 0.5472212\ttotal: 235ms\tremaining: 1s\n",
      "38:\tlearn: 0.5437855\ttotal: 242ms\tremaining: 999ms\n",
      "39:\tlearn: 0.5396261\ttotal: 248ms\tremaining: 990ms\n",
      "40:\tlearn: 0.5351935\ttotal: 254ms\tremaining: 983ms\n",
      "41:\tlearn: 0.5314730\ttotal: 260ms\tremaining: 977ms\n",
      "42:\tlearn: 0.5282901\ttotal: 266ms\tremaining: 973ms\n",
      "43:\tlearn: 0.5255640\ttotal: 271ms\tremaining: 960ms\n",
      "44:\tlearn: 0.5213123\ttotal: 277ms\tremaining: 955ms\n",
      "45:\tlearn: 0.5184850\ttotal: 283ms\tremaining: 949ms\n",
      "46:\tlearn: 0.5154404\ttotal: 289ms\tremaining: 942ms\n",
      "47:\tlearn: 0.5131996\ttotal: 294ms\tremaining: 932ms\n",
      "48:\tlearn: 0.5097429\ttotal: 300ms\tremaining: 925ms\n",
      "49:\tlearn: 0.5060134\ttotal: 307ms\tremaining: 920ms\n",
      "50:\tlearn: 0.5033338\ttotal: 313ms\tremaining: 913ms\n",
      "51:\tlearn: 0.5000045\ttotal: 319ms\tremaining: 908ms\n",
      "52:\tlearn: 0.4971875\ttotal: 325ms\tremaining: 901ms\n",
      "53:\tlearn: 0.4943693\ttotal: 331ms\tremaining: 895ms\n",
      "54:\tlearn: 0.4915095\ttotal: 337ms\tremaining: 889ms\n",
      "55:\tlearn: 0.4892134\ttotal: 343ms\tremaining: 881ms\n",
      "56:\tlearn: 0.4853257\ttotal: 349ms\tremaining: 876ms\n",
      "57:\tlearn: 0.4825560\ttotal: 355ms\tremaining: 869ms\n",
      "58:\tlearn: 0.4807189\ttotal: 361ms\tremaining: 862ms\n",
      "59:\tlearn: 0.4775697\ttotal: 366ms\tremaining: 855ms\n",
      "60:\tlearn: 0.4740586\ttotal: 373ms\tremaining: 849ms\n",
      "61:\tlearn: 0.4707599\ttotal: 379ms\tremaining: 843ms\n",
      "62:\tlearn: 0.4682312\ttotal: 385ms\tremaining: 837ms\n",
      "63:\tlearn: 0.4653039\ttotal: 392ms\tremaining: 834ms\n",
      "64:\tlearn: 0.4629638\ttotal: 399ms\tremaining: 828ms\n",
      "65:\tlearn: 0.4605692\ttotal: 404ms\tremaining: 820ms\n",
      "66:\tlearn: 0.4564245\ttotal: 409ms\tremaining: 812ms\n",
      "67:\tlearn: 0.4525510\ttotal: 415ms\tremaining: 806ms\n",
      "68:\tlearn: 0.4489893\ttotal: 420ms\tremaining: 798ms\n",
      "69:\tlearn: 0.4459240\ttotal: 425ms\tremaining: 789ms\n",
      "70:\tlearn: 0.4438766\ttotal: 432ms\tremaining: 784ms\n",
      "71:\tlearn: 0.4417321\ttotal: 438ms\tremaining: 778ms\n",
      "72:\tlearn: 0.4393555\ttotal: 444ms\tremaining: 772ms\n",
      "73:\tlearn: 0.4362770\ttotal: 450ms\tremaining: 766ms\n",
      "74:\tlearn: 0.4334138\ttotal: 456ms\tremaining: 760ms\n",
      "75:\tlearn: 0.4304479\ttotal: 463ms\tremaining: 756ms\n",
      "76:\tlearn: 0.4288339\ttotal: 469ms\tremaining: 749ms\n",
      "77:\tlearn: 0.4247674\ttotal: 475ms\tremaining: 743ms\n",
      "78:\tlearn: 0.4222833\ttotal: 481ms\tremaining: 737ms\n",
      "79:\tlearn: 0.4200921\ttotal: 486ms\tremaining: 729ms\n",
      "80:\tlearn: 0.4180804\ttotal: 492ms\tremaining: 723ms\n",
      "81:\tlearn: 0.4149388\ttotal: 498ms\tremaining: 717ms\n",
      "82:\tlearn: 0.4118862\ttotal: 504ms\tremaining: 711ms\n",
      "83:\tlearn: 0.4100935\ttotal: 510ms\tremaining: 705ms\n",
      "84:\tlearn: 0.4081186\ttotal: 516ms\tremaining: 698ms\n",
      "85:\tlearn: 0.4062548\ttotal: 522ms\tremaining: 692ms\n",
      "86:\tlearn: 0.4041405\ttotal: 529ms\tremaining: 686ms\n",
      "87:\tlearn: 0.4019623\ttotal: 535ms\tremaining: 680ms\n",
      "88:\tlearn: 0.3988047\ttotal: 540ms\tremaining: 673ms\n",
      "89:\tlearn: 0.3966580\ttotal: 546ms\tremaining: 667ms\n",
      "90:\tlearn: 0.3950318\ttotal: 552ms\tremaining: 662ms\n",
      "91:\tlearn: 0.3924972\ttotal: 559ms\tremaining: 656ms\n",
      "92:\tlearn: 0.3904321\ttotal: 565ms\tremaining: 650ms\n",
      "93:\tlearn: 0.3874300\ttotal: 572ms\tremaining: 645ms\n",
      "94:\tlearn: 0.3854600\ttotal: 578ms\tremaining: 639ms\n",
      "95:\tlearn: 0.3828727\ttotal: 584ms\tremaining: 633ms\n",
      "96:\tlearn: 0.3803824\ttotal: 591ms\tremaining: 627ms\n",
      "97:\tlearn: 0.3784790\ttotal: 597ms\tremaining: 621ms\n",
      "98:\tlearn: 0.3764494\ttotal: 604ms\tremaining: 616ms\n",
      "99:\tlearn: 0.3741082\ttotal: 609ms\tremaining: 609ms\n",
      "100:\tlearn: 0.3721871\ttotal: 615ms\tremaining: 603ms\n",
      "101:\tlearn: 0.3709558\ttotal: 620ms\tremaining: 596ms\n",
      "102:\tlearn: 0.3680982\ttotal: 625ms\tremaining: 589ms\n",
      "103:\tlearn: 0.3657574\ttotal: 630ms\tremaining: 582ms\n",
      "104:\tlearn: 0.3641897\ttotal: 636ms\tremaining: 576ms\n",
      "105:\tlearn: 0.3615951\ttotal: 641ms\tremaining: 568ms\n",
      "106:\tlearn: 0.3597072\ttotal: 647ms\tremaining: 562ms\n",
      "107:\tlearn: 0.3582631\ttotal: 653ms\tremaining: 556ms\n",
      "108:\tlearn: 0.3557255\ttotal: 658ms\tremaining: 550ms\n",
      "109:\tlearn: 0.3528588\ttotal: 665ms\tremaining: 544ms\n",
      "110:\tlearn: 0.3517351\ttotal: 671ms\tremaining: 538ms\n",
      "111:\tlearn: 0.3494216\ttotal: 676ms\tremaining: 531ms\n",
      "112:\tlearn: 0.3478023\ttotal: 682ms\tremaining: 525ms\n",
      "113:\tlearn: 0.3457269\ttotal: 688ms\tremaining: 519ms\n",
      "114:\tlearn: 0.3444277\ttotal: 693ms\tremaining: 512ms\n",
      "115:\tlearn: 0.3427403\ttotal: 699ms\tremaining: 506ms\n",
      "116:\tlearn: 0.3411942\ttotal: 705ms\tremaining: 500ms\n",
      "117:\tlearn: 0.3388974\ttotal: 711ms\tremaining: 494ms\n",
      "118:\tlearn: 0.3376231\ttotal: 716ms\tremaining: 488ms\n",
      "119:\tlearn: 0.3362292\ttotal: 722ms\tremaining: 482ms\n",
      "120:\tlearn: 0.3347939\ttotal: 728ms\tremaining: 475ms\n",
      "121:\tlearn: 0.3332997\ttotal: 735ms\tremaining: 470ms\n",
      "122:\tlearn: 0.3322907\ttotal: 741ms\tremaining: 464ms\n",
      "123:\tlearn: 0.3305260\ttotal: 747ms\tremaining: 458ms\n",
      "124:\tlearn: 0.3286716\ttotal: 754ms\tremaining: 452ms\n",
      "125:\tlearn: 0.3270619\ttotal: 760ms\tremaining: 446ms\n",
      "126:\tlearn: 0.3247175\ttotal: 766ms\tremaining: 440ms\n",
      "127:\tlearn: 0.3232674\ttotal: 772ms\tremaining: 434ms\n",
      "128:\tlearn: 0.3217041\ttotal: 778ms\tremaining: 428ms\n",
      "129:\tlearn: 0.3204218\ttotal: 784ms\tremaining: 422ms\n",
      "130:\tlearn: 0.3192090\ttotal: 790ms\tremaining: 416ms\n",
      "131:\tlearn: 0.3179254\ttotal: 797ms\tremaining: 411ms\n",
      "132:\tlearn: 0.3161898\ttotal: 804ms\tremaining: 405ms\n",
      "133:\tlearn: 0.3146512\ttotal: 809ms\tremaining: 398ms\n",
      "134:\tlearn: 0.3133850\ttotal: 814ms\tremaining: 392ms\n",
      "135:\tlearn: 0.3115208\ttotal: 819ms\tremaining: 386ms\n",
      "136:\tlearn: 0.3096442\ttotal: 825ms\tremaining: 379ms\n",
      "137:\tlearn: 0.3081631\ttotal: 830ms\tremaining: 373ms\n",
      "138:\tlearn: 0.3070757\ttotal: 835ms\tremaining: 366ms\n",
      "139:\tlearn: 0.3050131\ttotal: 840ms\tremaining: 360ms\n",
      "140:\tlearn: 0.3031170\ttotal: 846ms\tremaining: 354ms\n",
      "141:\tlearn: 0.3022150\ttotal: 852ms\tremaining: 348ms\n",
      "142:\tlearn: 0.3004034\ttotal: 857ms\tremaining: 342ms\n",
      "143:\tlearn: 0.2987467\ttotal: 862ms\tremaining: 335ms\n",
      "144:\tlearn: 0.2969562\ttotal: 869ms\tremaining: 329ms\n",
      "145:\tlearn: 0.2961850\ttotal: 874ms\tremaining: 323ms\n",
      "146:\tlearn: 0.2952491\ttotal: 880ms\tremaining: 317ms\n",
      "147:\tlearn: 0.2934653\ttotal: 886ms\tremaining: 311ms\n",
      "148:\tlearn: 0.2924029\ttotal: 892ms\tremaining: 305ms\n",
      "149:\tlearn: 0.2905754\ttotal: 898ms\tremaining: 299ms\n",
      "150:\tlearn: 0.2897861\ttotal: 903ms\tremaining: 293ms\n",
      "151:\tlearn: 0.2887959\ttotal: 909ms\tremaining: 287ms\n",
      "152:\tlearn: 0.2871412\ttotal: 915ms\tremaining: 281ms\n",
      "153:\tlearn: 0.2856289\ttotal: 921ms\tremaining: 275ms\n",
      "154:\tlearn: 0.2839320\ttotal: 926ms\tremaining: 269ms\n",
      "155:\tlearn: 0.2827061\ttotal: 932ms\tremaining: 263ms\n",
      "156:\tlearn: 0.2806555\ttotal: 937ms\tremaining: 257ms\n",
      "157:\tlearn: 0.2797939\ttotal: 942ms\tremaining: 251ms\n",
      "158:\tlearn: 0.2787044\ttotal: 948ms\tremaining: 244ms\n",
      "159:\tlearn: 0.2762824\ttotal: 954ms\tremaining: 238ms\n",
      "160:\tlearn: 0.2748228\ttotal: 960ms\tremaining: 232ms\n",
      "161:\tlearn: 0.2741670\ttotal: 966ms\tremaining: 227ms\n",
      "162:\tlearn: 0.2724020\ttotal: 972ms\tremaining: 221ms\n",
      "163:\tlearn: 0.2708377\ttotal: 978ms\tremaining: 215ms\n",
      "164:\tlearn: 0.2696115\ttotal: 984ms\tremaining: 209ms\n",
      "165:\tlearn: 0.2685265\ttotal: 990ms\tremaining: 203ms\n",
      "166:\tlearn: 0.2671021\ttotal: 995ms\tremaining: 197ms\n",
      "167:\tlearn: 0.2656803\ttotal: 1s\tremaining: 191ms\n",
      "168:\tlearn: 0.2650981\ttotal: 1.01s\tremaining: 185ms\n",
      "169:\tlearn: 0.2634584\ttotal: 1.01s\tremaining: 179ms\n",
      "170:\tlearn: 0.2624612\ttotal: 1.02s\tremaining: 173ms\n",
      "171:\tlearn: 0.2615123\ttotal: 1.03s\tremaining: 167ms\n",
      "172:\tlearn: 0.2601893\ttotal: 1.03s\tremaining: 161ms\n",
      "173:\tlearn: 0.2586004\ttotal: 1.04s\tremaining: 155ms\n",
      "174:\tlearn: 0.2576460\ttotal: 1.04s\tremaining: 149ms\n",
      "175:\tlearn: 0.2564749\ttotal: 1.05s\tremaining: 143ms\n",
      "176:\tlearn: 0.2551356\ttotal: 1.06s\tremaining: 137ms\n",
      "177:\tlearn: 0.2538142\ttotal: 1.06s\tremaining: 131ms\n",
      "178:\tlearn: 0.2525445\ttotal: 1.07s\tremaining: 125ms\n",
      "179:\tlearn: 0.2519651\ttotal: 1.07s\tremaining: 119ms\n",
      "180:\tlearn: 0.2500234\ttotal: 1.08s\tremaining: 114ms\n",
      "181:\tlearn: 0.2488838\ttotal: 1.09s\tremaining: 108ms\n",
      "182:\tlearn: 0.2478122\ttotal: 1.09s\tremaining: 102ms\n",
      "183:\tlearn: 0.2467790\ttotal: 1.1s\tremaining: 95.5ms\n",
      "184:\tlearn: 0.2460938\ttotal: 1.1s\tremaining: 89.6ms\n",
      "185:\tlearn: 0.2450158\ttotal: 1.11s\tremaining: 83.6ms\n",
      "186:\tlearn: 0.2440180\ttotal: 1.12s\tremaining: 77.7ms\n",
      "187:\tlearn: 0.2428960\ttotal: 1.12s\tremaining: 71.7ms\n",
      "188:\tlearn: 0.2415277\ttotal: 1.13s\tremaining: 65.7ms\n",
      "189:\tlearn: 0.2402401\ttotal: 1.14s\tremaining: 59.8ms\n",
      "190:\tlearn: 0.2392215\ttotal: 1.14s\tremaining: 53.8ms\n",
      "191:\tlearn: 0.2373878\ttotal: 1.15s\tremaining: 47.9ms\n",
      "192:\tlearn: 0.2359890\ttotal: 1.15s\tremaining: 41.9ms\n",
      "193:\tlearn: 0.2347939\ttotal: 1.16s\tremaining: 35.9ms\n",
      "194:\tlearn: 0.2341381\ttotal: 1.17s\tremaining: 29.9ms\n",
      "195:\tlearn: 0.2332358\ttotal: 1.17s\tremaining: 24ms\n",
      "196:\tlearn: 0.2320827\ttotal: 1.18s\tremaining: 18ms\n",
      "197:\tlearn: 0.2309483\ttotal: 1.19s\tremaining: 12ms\n",
      "198:\tlearn: 0.2297648\ttotal: 1.19s\tremaining: 6ms\n",
      "199:\tlearn: 0.2286741\ttotal: 1.2s\tremaining: 0us\n",
      "Melhores valores:  {'subsample': 0.9}\n"
     ]
    }
   ],
   "source": [
    "tunning_hiperpametros(CatBoostClassifier, X_train, y_train)"
   ]
  },
  {
   "cell_type": "code",
   "execution_count": 96,
   "id": "d1d957d5",
   "metadata": {
    "scrolled": true
   },
   "outputs": [
    {
     "name": "stdout",
     "output_type": "stream",
     "text": [
      "0:\tlearn: 0.6882087\ttest: 0.6928161\tbest: 0.6928161 (0)\ttotal: 10ms\tremaining: 1m 40s\n",
      "1:\tlearn: 0.6819531\ttest: 0.6925598\tbest: 0.6925598 (1)\ttotal: 18.6ms\tremaining: 1m 32s\n",
      "2:\tlearn: 0.6787446\ttest: 0.6918193\tbest: 0.6918193 (2)\ttotal: 27.7ms\tremaining: 1m 32s\n",
      "3:\tlearn: 0.6736022\ttest: 0.6912400\tbest: 0.6912400 (3)\ttotal: 36.3ms\tremaining: 1m 30s\n",
      "4:\tlearn: 0.6686702\ttest: 0.6901372\tbest: 0.6901372 (4)\ttotal: 45.7ms\tremaining: 1m 31s\n",
      "5:\tlearn: 0.6633272\ttest: 0.6886040\tbest: 0.6886040 (5)\ttotal: 54.9ms\tremaining: 1m 31s\n",
      "6:\tlearn: 0.6576886\ttest: 0.6854018\tbest: 0.6854018 (6)\ttotal: 63.5ms\tremaining: 1m 30s\n",
      "7:\tlearn: 0.6519630\ttest: 0.6840252\tbest: 0.6840252 (7)\ttotal: 72.1ms\tremaining: 1m 30s\n",
      "8:\tlearn: 0.6467801\ttest: 0.6836423\tbest: 0.6836423 (8)\ttotal: 79ms\tremaining: 1m 27s\n",
      "9:\tlearn: 0.6427822\ttest: 0.6821998\tbest: 0.6821998 (9)\ttotal: 88.1ms\tremaining: 1m 27s\n",
      "10:\tlearn: 0.6370830\ttest: 0.6808193\tbest: 0.6808193 (10)\ttotal: 96.9ms\tremaining: 1m 28s\n",
      "11:\tlearn: 0.6325597\ttest: 0.6796888\tbest: 0.6796888 (11)\ttotal: 106ms\tremaining: 1m 28s\n",
      "12:\tlearn: 0.6280146\ttest: 0.6797789\tbest: 0.6796888 (11)\ttotal: 114ms\tremaining: 1m 27s\n",
      "13:\tlearn: 0.6235362\ttest: 0.6791325\tbest: 0.6791325 (13)\ttotal: 125ms\tremaining: 1m 28s\n",
      "14:\tlearn: 0.6189004\ttest: 0.6799159\tbest: 0.6791325 (13)\ttotal: 134ms\tremaining: 1m 29s\n",
      "15:\tlearn: 0.6133953\ttest: 0.6786279\tbest: 0.6786279 (15)\ttotal: 146ms\tremaining: 1m 31s\n",
      "16:\tlearn: 0.6084292\ttest: 0.6774889\tbest: 0.6774889 (16)\ttotal: 157ms\tremaining: 1m 32s\n",
      "17:\tlearn: 0.6047138\ttest: 0.6769267\tbest: 0.6769267 (17)\ttotal: 167ms\tremaining: 1m 32s\n",
      "18:\tlearn: 0.5997715\ttest: 0.6780141\tbest: 0.6769267 (17)\ttotal: 175ms\tremaining: 1m 32s\n",
      "19:\tlearn: 0.5957077\ttest: 0.6759063\tbest: 0.6759063 (19)\ttotal: 185ms\tremaining: 1m 32s\n",
      "20:\tlearn: 0.5914667\ttest: 0.6776630\tbest: 0.6759063 (19)\ttotal: 193ms\tremaining: 1m 31s\n",
      "21:\tlearn: 0.5861485\ttest: 0.6780643\tbest: 0.6759063 (19)\ttotal: 204ms\tremaining: 1m 32s\n",
      "22:\tlearn: 0.5814739\ttest: 0.6773485\tbest: 0.6759063 (19)\ttotal: 211ms\tremaining: 1m 31s\n",
      "23:\tlearn: 0.5802479\ttest: 0.6768313\tbest: 0.6759063 (19)\ttotal: 215ms\tremaining: 1m 29s\n",
      "24:\tlearn: 0.5758302\ttest: 0.6779297\tbest: 0.6759063 (19)\ttotal: 225ms\tremaining: 1m 29s\n",
      "25:\tlearn: 0.5723086\ttest: 0.6755708\tbest: 0.6755708 (25)\ttotal: 235ms\tremaining: 1m 30s\n",
      "26:\tlearn: 0.5676100\ttest: 0.6736936\tbest: 0.6736936 (26)\ttotal: 244ms\tremaining: 1m 30s\n",
      "27:\tlearn: 0.5641446\ttest: 0.6715003\tbest: 0.6715003 (27)\ttotal: 253ms\tremaining: 1m 30s\n",
      "28:\tlearn: 0.5602930\ttest: 0.6721834\tbest: 0.6715003 (27)\ttotal: 262ms\tremaining: 1m 30s\n",
      "29:\tlearn: 0.5561754\ttest: 0.6714941\tbest: 0.6714941 (29)\ttotal: 272ms\tremaining: 1m 30s\n",
      "30:\tlearn: 0.5524000\ttest: 0.6697991\tbest: 0.6697991 (30)\ttotal: 278ms\tremaining: 1m 29s\n",
      "31:\tlearn: 0.5462317\ttest: 0.6699535\tbest: 0.6697991 (30)\ttotal: 287ms\tremaining: 1m 29s\n",
      "32:\tlearn: 0.5423494\ttest: 0.6670786\tbest: 0.6670786 (32)\ttotal: 297ms\tremaining: 1m 29s\n",
      "33:\tlearn: 0.5380163\ttest: 0.6656452\tbest: 0.6656452 (33)\ttotal: 308ms\tremaining: 1m 30s\n",
      "34:\tlearn: 0.5352050\ttest: 0.6655237\tbest: 0.6655237 (34)\ttotal: 316ms\tremaining: 1m 30s\n",
      "35:\tlearn: 0.5308703\ttest: 0.6648713\tbest: 0.6648713 (35)\ttotal: 363ms\tremaining: 1m 40s\n",
      "36:\tlearn: 0.5266858\ttest: 0.6645140\tbest: 0.6645140 (36)\ttotal: 383ms\tremaining: 1m 42s\n",
      "37:\tlearn: 0.5237602\ttest: 0.6644354\tbest: 0.6644354 (37)\ttotal: 391ms\tremaining: 1m 42s\n",
      "38:\tlearn: 0.5190575\ttest: 0.6645267\tbest: 0.6644354 (37)\ttotal: 420ms\tremaining: 1m 47s\n",
      "39:\tlearn: 0.5154716\ttest: 0.6629954\tbest: 0.6629954 (39)\ttotal: 428ms\tremaining: 1m 46s\n",
      "40:\tlearn: 0.5121552\ttest: 0.6627506\tbest: 0.6627506 (40)\ttotal: 438ms\tremaining: 1m 46s\n",
      "41:\tlearn: 0.5076566\ttest: 0.6623611\tbest: 0.6623611 (41)\ttotal: 453ms\tremaining: 1m 47s\n",
      "42:\tlearn: 0.5035935\ttest: 0.6614159\tbest: 0.6614159 (42)\ttotal: 461ms\tremaining: 1m 46s\n",
      "43:\tlearn: 0.5005447\ttest: 0.6608062\tbest: 0.6608062 (43)\ttotal: 470ms\tremaining: 1m 46s\n",
      "44:\tlearn: 0.4966616\ttest: 0.6585007\tbest: 0.6585007 (44)\ttotal: 478ms\tremaining: 1m 45s\n",
      "45:\tlearn: 0.4945217\ttest: 0.6576773\tbest: 0.6576773 (45)\ttotal: 487ms\tremaining: 1m 45s\n",
      "46:\tlearn: 0.4919884\ttest: 0.6573511\tbest: 0.6573511 (46)\ttotal: 495ms\tremaining: 1m 44s\n",
      "47:\tlearn: 0.4880446\ttest: 0.6564858\tbest: 0.6564858 (47)\ttotal: 504ms\tremaining: 1m 44s\n",
      "48:\tlearn: 0.4844356\ttest: 0.6572659\tbest: 0.6564858 (47)\ttotal: 513ms\tremaining: 1m 44s\n",
      "49:\tlearn: 0.4811558\ttest: 0.6560800\tbest: 0.6560800 (49)\ttotal: 526ms\tremaining: 1m 44s\n",
      "50:\tlearn: 0.4775225\ttest: 0.6569063\tbest: 0.6560800 (49)\ttotal: 535ms\tremaining: 1m 44s\n",
      "51:\tlearn: 0.4742152\ttest: 0.6572391\tbest: 0.6560800 (49)\ttotal: 544ms\tremaining: 1m 44s\n",
      "52:\tlearn: 0.4708828\ttest: 0.6570019\tbest: 0.6560800 (49)\ttotal: 554ms\tremaining: 1m 43s\n",
      "53:\tlearn: 0.4682271\ttest: 0.6561814\tbest: 0.6560800 (49)\ttotal: 563ms\tremaining: 1m 43s\n",
      "54:\tlearn: 0.4646462\ttest: 0.6566284\tbest: 0.6560800 (49)\ttotal: 573ms\tremaining: 1m 43s\n",
      "55:\tlearn: 0.4614700\ttest: 0.6568278\tbest: 0.6560800 (49)\ttotal: 583ms\tremaining: 1m 43s\n",
      "56:\tlearn: 0.4579275\ttest: 0.6567556\tbest: 0.6560800 (49)\ttotal: 591ms\tremaining: 1m 43s\n",
      "57:\tlearn: 0.4549875\ttest: 0.6556180\tbest: 0.6556180 (57)\ttotal: 600ms\tremaining: 1m 42s\n",
      "58:\tlearn: 0.4512479\ttest: 0.6540531\tbest: 0.6540531 (58)\ttotal: 609ms\tremaining: 1m 42s\n",
      "59:\tlearn: 0.4472988\ttest: 0.6533555\tbest: 0.6533555 (59)\ttotal: 618ms\tremaining: 1m 42s\n",
      "60:\tlearn: 0.4447074\ttest: 0.6532474\tbest: 0.6532474 (60)\ttotal: 629ms\tremaining: 1m 42s\n",
      "61:\tlearn: 0.4424809\ttest: 0.6538229\tbest: 0.6532474 (60)\ttotal: 636ms\tremaining: 1m 41s\n",
      "62:\tlearn: 0.4406919\ttest: 0.6529695\tbest: 0.6529695 (62)\ttotal: 646ms\tremaining: 1m 41s\n",
      "63:\tlearn: 0.4367523\ttest: 0.6523566\tbest: 0.6523566 (63)\ttotal: 654ms\tremaining: 1m 41s\n",
      "64:\tlearn: 0.4333310\ttest: 0.6515757\tbest: 0.6515757 (64)\ttotal: 665ms\tremaining: 1m 41s\n",
      "65:\tlearn: 0.4310956\ttest: 0.6514621\tbest: 0.6514621 (65)\ttotal: 676ms\tremaining: 1m 41s\n",
      "66:\tlearn: 0.4278787\ttest: 0.6520809\tbest: 0.6514621 (65)\ttotal: 685ms\tremaining: 1m 41s\n",
      "67:\tlearn: 0.4253153\ttest: 0.6502722\tbest: 0.6502722 (67)\ttotal: 695ms\tremaining: 1m 41s\n",
      "68:\tlearn: 0.4221627\ttest: 0.6507390\tbest: 0.6502722 (67)\ttotal: 703ms\tremaining: 1m 41s\n",
      "69:\tlearn: 0.4194270\ttest: 0.6500497\tbest: 0.6500497 (69)\ttotal: 714ms\tremaining: 1m 41s\n",
      "70:\tlearn: 0.4169869\ttest: 0.6518788\tbest: 0.6500497 (69)\ttotal: 719ms\tremaining: 1m 40s\n",
      "71:\tlearn: 0.4138007\ttest: 0.6516246\tbest: 0.6500497 (69)\ttotal: 726ms\tremaining: 1m 40s\n",
      "72:\tlearn: 0.4109653\ttest: 0.6499065\tbest: 0.6499065 (72)\ttotal: 734ms\tremaining: 1m 39s\n",
      "73:\tlearn: 0.4085410\ttest: 0.6491677\tbest: 0.6491677 (73)\ttotal: 742ms\tremaining: 1m 39s\n",
      "74:\tlearn: 0.4061044\ttest: 0.6474893\tbest: 0.6474893 (74)\ttotal: 750ms\tremaining: 1m 39s\n",
      "75:\tlearn: 0.4039301\ttest: 0.6470858\tbest: 0.6470858 (75)\ttotal: 759ms\tremaining: 1m 39s\n",
      "76:\tlearn: 0.4021478\ttest: 0.6467759\tbest: 0.6467759 (76)\ttotal: 764ms\tremaining: 1m 38s\n",
      "77:\tlearn: 0.3999439\ttest: 0.6461928\tbest: 0.6461928 (77)\ttotal: 772ms\tremaining: 1m 38s\n",
      "78:\tlearn: 0.3972822\ttest: 0.6453913\tbest: 0.6453913 (78)\ttotal: 780ms\tremaining: 1m 37s\n",
      "79:\tlearn: 0.3952088\ttest: 0.6435565\tbest: 0.6435565 (79)\ttotal: 786ms\tremaining: 1m 37s\n",
      "80:\tlearn: 0.3925541\ttest: 0.6435200\tbest: 0.6435200 (80)\ttotal: 794ms\tremaining: 1m 37s\n",
      "81:\tlearn: 0.3900322\ttest: 0.6418655\tbest: 0.6418655 (81)\ttotal: 802ms\tremaining: 1m 37s\n",
      "82:\tlearn: 0.3872260\ttest: 0.6425111\tbest: 0.6418655 (81)\ttotal: 811ms\tremaining: 1m 36s\n",
      "83:\tlearn: 0.3843703\ttest: 0.6417823\tbest: 0.6417823 (83)\ttotal: 820ms\tremaining: 1m 36s\n",
      "84:\tlearn: 0.3823116\ttest: 0.6405866\tbest: 0.6405866 (84)\ttotal: 830ms\tremaining: 1m 36s\n",
      "85:\tlearn: 0.3797202\ttest: 0.6401691\tbest: 0.6401691 (85)\ttotal: 837ms\tremaining: 1m 36s\n",
      "86:\tlearn: 0.3779357\ttest: 0.6406439\tbest: 0.6401691 (85)\ttotal: 842ms\tremaining: 1m 35s\n",
      "87:\tlearn: 0.3757924\ttest: 0.6390350\tbest: 0.6390350 (87)\ttotal: 851ms\tremaining: 1m 35s\n",
      "88:\tlearn: 0.3735008\ttest: 0.6390400\tbest: 0.6390350 (87)\ttotal: 860ms\tremaining: 1m 35s\n",
      "89:\tlearn: 0.3714690\ttest: 0.6389559\tbest: 0.6389559 (89)\ttotal: 868ms\tremaining: 1m 35s\n",
      "90:\tlearn: 0.3695531\ttest: 0.6389869\tbest: 0.6389559 (89)\ttotal: 877ms\tremaining: 1m 35s\n",
      "91:\tlearn: 0.3674731\ttest: 0.6381673\tbest: 0.6381673 (91)\ttotal: 886ms\tremaining: 1m 35s\n",
      "92:\tlearn: 0.3649452\ttest: 0.6377167\tbest: 0.6377167 (92)\ttotal: 894ms\tremaining: 1m 35s\n",
      "93:\tlearn: 0.3627215\ttest: 0.6378139\tbest: 0.6377167 (92)\ttotal: 903ms\tremaining: 1m 35s\n",
      "94:\tlearn: 0.3603413\ttest: 0.6388321\tbest: 0.6377167 (92)\ttotal: 913ms\tremaining: 1m 35s\n",
      "95:\tlearn: 0.3583682\ttest: 0.6387730\tbest: 0.6377167 (92)\ttotal: 921ms\tremaining: 1m 35s\n",
      "96:\tlearn: 0.3564668\ttest: 0.6379724\tbest: 0.6377167 (92)\ttotal: 932ms\tremaining: 1m 35s\n",
      "97:\tlearn: 0.3542076\ttest: 0.6384791\tbest: 0.6377167 (92)\ttotal: 941ms\tremaining: 1m 35s\n",
      "98:\tlearn: 0.3526804\ttest: 0.6383051\tbest: 0.6377167 (92)\ttotal: 950ms\tremaining: 1m 34s\n",
      "99:\tlearn: 0.3510537\ttest: 0.6368337\tbest: 0.6368337 (99)\ttotal: 959ms\tremaining: 1m 34s\n",
      "100:\tlearn: 0.3483631\ttest: 0.6360489\tbest: 0.6360489 (100)\ttotal: 967ms\tremaining: 1m 34s\n",
      "101:\tlearn: 0.3458642\ttest: 0.6349141\tbest: 0.6349141 (101)\ttotal: 976ms\tremaining: 1m 34s\n",
      "102:\tlearn: 0.3443200\ttest: 0.6346672\tbest: 0.6346672 (102)\ttotal: 985ms\tremaining: 1m 34s\n",
      "103:\tlearn: 0.3416955\ttest: 0.6365508\tbest: 0.6346672 (102)\ttotal: 995ms\tremaining: 1m 34s\n",
      "104:\tlearn: 0.3397242\ttest: 0.6364113\tbest: 0.6346672 (102)\ttotal: 1s\tremaining: 1m 34s\n",
      "105:\tlearn: 0.3378897\ttest: 0.6361450\tbest: 0.6346672 (102)\ttotal: 1.01s\tremaining: 1m 34s\n",
      "106:\tlearn: 0.3360525\ttest: 0.6357028\tbest: 0.6346672 (102)\ttotal: 1.02s\tremaining: 1m 34s\n",
      "107:\tlearn: 0.3344013\ttest: 0.6362765\tbest: 0.6346672 (102)\ttotal: 1.03s\tremaining: 1m 34s\n",
      "108:\tlearn: 0.3319360\ttest: 0.6366466\tbest: 0.6346672 (102)\ttotal: 1.04s\tremaining: 1m 34s\n",
      "109:\tlearn: 0.3300188\ttest: 0.6365398\tbest: 0.6346672 (102)\ttotal: 1.05s\tremaining: 1m 34s\n",
      "110:\tlearn: 0.3284764\ttest: 0.6358571\tbest: 0.6346672 (102)\ttotal: 1.06s\tremaining: 1m 34s\n",
      "111:\tlearn: 0.3260862\ttest: 0.6353204\tbest: 0.6346672 (102)\ttotal: 1.07s\tremaining: 1m 34s\n",
      "112:\tlearn: 0.3243223\ttest: 0.6353894\tbest: 0.6346672 (102)\ttotal: 1.08s\tremaining: 1m 34s\n",
      "Stopped by overfitting detector  (10 iterations wait)\n",
      "\n",
      "bestTest = 0.6346672074\n",
      "bestIteration = 102\n",
      "\n",
      "Shrink model to first 103 iterations.\n"
     ]
    },
    {
     "data": {
      "text/plain": [
       "<catboost.core.CatBoostClassifier at 0x2bb42eefd40>"
      ]
     },
     "execution_count": 96,
     "metadata": {},
     "output_type": "execute_result"
    }
   ],
   "source": [
    "model = CatBoostClassifier(learning_rate=0.01, max_depth=9, n_estimators=10000, random_state=1,  \n",
    "                     subsample = 0.8)\n",
    "\n",
    "model.fit(X_train, y_train, eval_set=eval_set, verbose = 1, early_stopping_rounds=10)"
   ]
  },
  {
   "cell_type": "code",
   "execution_count": 97,
   "id": "b4c3f196",
   "metadata": {},
   "outputs": [
    {
     "data": {
      "text/plain": [
       "array([2.00258760e+00, 1.01270687e+01, 1.44334667e+00, 5.19608493e+00,\n",
       "       2.73176395e+00, 2.76632460e+00, 3.50764612e+00, 2.95168130e+00,\n",
       "       4.56235088e+00, 7.15754959e+00, 4.23007315e+00, 6.13236493e+00,\n",
       "       2.48147631e+00, 2.27269960e+00, 4.00397553e+00, 7.89323744e+00,\n",
       "       4.02739653e+00, 2.64276217e+00, 1.72996121e-01, 6.86727609e+00,\n",
       "       2.14673935e+00, 7.11717774e-06, 1.24957656e-01, 6.60249435e-01,\n",
       "       7.53369249e-01, 4.29800079e-02, 6.44193515e-03, 2.48192370e-01,\n",
       "       0.00000000e+00, 1.86848651e-01, 2.50372506e-02, 0.00000000e+00,\n",
       "       4.46132783e-03, 0.00000000e+00, 4.66485739e+00, 1.31629664e+00,\n",
       "       4.04671370e-02, 2.10332005e-05, 6.07695887e-03, 0.00000000e+00,\n",
       "       0.00000000e+00, 7.90836658e-02, 1.32449170e-02, 0.00000000e+00,\n",
       "       1.86437493e-01, 0.00000000e+00, 7.64605665e-03, 3.24884704e-02,\n",
       "       2.40915921e-02, 6.06145829e-02, 1.19651542e-01, 4.46338050e-02,\n",
       "       0.00000000e+00, 2.89428448e-01, 3.20345394e-01, 6.47682570e-02,\n",
       "       2.57790045e-02, 8.52953386e-02, 2.08313691e-01, 0.00000000e+00,\n",
       "       3.42750888e-01, 9.67350570e-03, 5.93071858e-02, 7.72796833e-02,\n",
       "       0.00000000e+00, 0.00000000e+00, 2.00827130e-03, 1.75805906e-01,\n",
       "       1.22070566e-01, 0.00000000e+00, 4.65223288e-02, 0.00000000e+00,\n",
       "       3.39713336e-02, 7.20139202e-02, 6.72320453e-02, 0.00000000e+00,\n",
       "       3.71393235e-04, 2.20523505e-02, 0.00000000e+00, 8.57258784e-03,\n",
       "       1.68839884e-03, 8.88903747e-02, 7.36305180e-03, 0.00000000e+00,\n",
       "       7.42177087e-04, 0.00000000e+00, 0.00000000e+00, 3.65928306e-03,\n",
       "       0.00000000e+00, 1.83885108e-02, 2.76536280e-02, 1.28514460e-03,\n",
       "       0.00000000e+00, 1.80885833e-01, 2.22337083e-02, 3.37310249e-02,\n",
       "       3.17443048e-02, 1.02083525e-02, 0.00000000e+00, 7.51613029e-02,\n",
       "       2.75033258e-02, 1.99384833e-06, 7.41294512e-02, 5.82464378e-03,\n",
       "       0.00000000e+00, 2.10704530e+00, 1.45418981e-03, 9.57312041e-01,\n",
       "       8.18904594e-02, 3.90545138e-02, 7.05070893e-02, 0.00000000e+00,\n",
       "       4.07913216e-02, 9.17305936e-02])"
      ]
     },
     "execution_count": 97,
     "metadata": {},
     "output_type": "execute_result"
    }
   ],
   "source": [
    "model.feature_importances_"
   ]
  },
  {
   "cell_type": "code",
   "execution_count": 98,
   "id": "6d578b60",
   "metadata": {},
   "outputs": [
    {
     "data": {
      "text/plain": [
       "Text(0.5, 1.0, 'Feature Importance')"
      ]
     },
     "execution_count": 98,
     "metadata": {},
     "output_type": "execute_result"
    },
    {
     "data": {
      "image/png": "[encoded data removed]",
      "text/plain": [
       "<Figure size 1200x600 with 1 Axes>"
      ]
     },
     "metadata": {},
     "output_type": "display_data"
    }
   ],
   "source": [
    "feature_importance = model.feature_importances_\n",
    "sorted_idx = np.argsort(feature_importance)\n",
    "fig = plt.figure(figsize=(12, 6))\n",
    "plt.barh(range(20), feature_importance[sorted_idx][-20:], align='center')\n",
    "plt.yticks(range(20), np.array(X_test.columns)[sorted_idx][-20:])\n",
    "plt.title('Feature Importance')"
   ]
  },
  {
   "cell_type": "code",
   "execution_count": 99,
   "id": "8ceecda6",
   "metadata": {},
   "outputs": [
    {
     "data": {
      "text/plain": [
       "1.0"
      ]
     },
     "execution_count": 99,
     "metadata": {},
     "output_type": "execute_result"
    }
   ],
   "source": [
    "score = model.score(X_train, y_train)  \n",
    "score"
   ]
  },
  {
   "cell_type": "code",
   "execution_count": 100,
   "id": "3c8a1c17",
   "metadata": {},
   "outputs": [
    {
     "data": {
      "text/plain": [
       "17"
      ]
     },
     "execution_count": 100,
     "metadata": {},
     "output_type": "execute_result"
    }
   ],
   "source": [
    "y_pred = model.predict(X_test)\n",
    "predictions = [int(value) for value in y_pred]\n",
    "len(predictions)"
   ]
  },
  {
   "cell_type": "code",
   "execution_count": 101,
   "id": "f1cd4ff6",
   "metadata": {},
   "outputs": [
    {
     "data": {
      "image/png": "[encoded data removed]",
      "text/plain": [
       "<Figure size 640x480 with 2 Axes>"
      ]
     },
     "metadata": {},
     "output_type": "display_data"
    }
   ],
   "source": [
    "sns.heatmap(confusion_matrix(y_test, predictions), \n",
    "            annot=True,\n",
    "            fmt='g')\n",
    "plt.ylabel('Acontecido',fontsize=13)\n",
    "plt.xlabel('Previsão',fontsize=13)\n",
    "plt.show()"
   ]
  },
  {
   "cell_type": "code",
   "execution_count": 102,
   "id": "be93a879",
   "metadata": {},
   "outputs": [
    {
     "name": "stdout",
     "output_type": "stream",
     "text": [
      "              precision    recall  f1-score   support\n",
      "\n",
      "       False       0.80      0.50      0.62         8\n",
      "        True       0.67      0.89      0.76         9\n",
      "\n",
      "    accuracy                           0.71        17\n",
      "   macro avg       0.73      0.69      0.69        17\n",
      "weighted avg       0.73      0.71      0.69        17\n",
      "\n"
     ]
    }
   ],
   "source": [
    "print(classification_report(y_test, predictions))"
   ]
  },
  {
   "cell_type": "markdown",
   "id": "1e5083d5",
   "metadata": {},
   "source": [
    "##### Previsões"
   ]
  },
  {
   "cell_type": "code",
   "execution_count": 104,
   "id": "67d52a32",
   "metadata": {},
   "outputs": [
    {
     "data": {
      "text/plain": [
       "array([ True])"
      ]
     },
     "execution_count": 104,
     "metadata": {},
     "output_type": "execute_result"
    }
   ],
   "source": [
    "model.predict(dataset_previsao_modelo)"
   ]
  },
  {
   "cell_type": "markdown",
   "id": "2178b4f3",
   "metadata": {},
   "source": [
    "##### Modelo 3"
   ]
  },
  {
   "cell_type": "code",
   "execution_count": 106,
   "id": "d70df1cb",
   "metadata": {},
   "outputs": [],
   "source": [
    "X = dados_modelo_resultado_partida.drop(columns=['resultado_partida']).copy()\n",
    "y = dados_modelo_resultado_partida[['resultado_partida']]"
   ]
  },
  {
   "cell_type": "code",
   "execution_count": 107,
   "id": "1f93c4ae",
   "metadata": {},
   "outputs": [],
   "source": [
    "y.loc[y[y['resultado_partida'] == -1].index, 'resultado_partida'] = 2"
   ]
  },
  {
   "cell_type": "code",
   "execution_count": 108,
   "id": "028a931c",
   "metadata": {},
   "outputs": [],
   "source": [
    "y['resultado_partida'] = y['resultado_partida'].astype(int)"
   ]
  },
  {
   "cell_type": "code",
   "execution_count": 109,
   "id": "b9c3ab31",
   "metadata": {},
   "outputs": [],
   "source": [
    "X_train, X_test, y_train, y_test = train_test_split(X, y, test_size=0.2, random_state=42)\n",
    "eval_set = [(X_test, y_test)]"
   ]
  },
  {
   "cell_type": "code",
   "execution_count": 110,
   "id": "08db6641",
   "metadata": {},
   "outputs": [
    {
     "name": "stdout",
     "output_type": "stream",
     "text": [
      "Testando Variáveis: max_depth\n",
      "0:\tlearn: 1.0941794\ttotal: 1.94ms\tremaining: 387ms\n",
      "1:\tlearn: 1.0905037\ttotal: 4.12ms\tremaining: 408ms\n",
      "2:\tlearn: 1.0865228\ttotal: 5.73ms\tremaining: 376ms\n",
      "3:\tlearn: 1.0842784\ttotal: 7.48ms\tremaining: 366ms\n",
      "4:\tlearn: 1.0818359\ttotal: 9.81ms\tremaining: 383ms\n",
      "5:\tlearn: 1.0796539\ttotal: 11.8ms\tremaining: 381ms\n",
      "6:\tlearn: 1.0774528\ttotal: 14ms\tremaining: 386ms\n",
      "7:\tlearn: 1.0757873\ttotal: 16ms\tremaining: 384ms\n",
      "8:\tlearn: 1.0735968\ttotal: 17.9ms\tremaining: 381ms\n",
      "9:\tlearn: 1.0712447\ttotal: 19.7ms\tremaining: 375ms\n",
      "10:\tlearn: 1.0682557\ttotal: 21.4ms\tremaining: 367ms\n",
      "11:\tlearn: 1.0660435\ttotal: 24.1ms\tremaining: 377ms\n",
      "12:\tlearn: 1.0637182\ttotal: 26ms\tremaining: 374ms\n",
      "13:\tlearn: 1.0617571\ttotal: 27.9ms\tremaining: 370ms\n",
      "14:\tlearn: 1.0596376\ttotal: 29.8ms\tremaining: 367ms\n",
      "15:\tlearn: 1.0575274\ttotal: 32.2ms\tremaining: 371ms\n",
      "16:\tlearn: 1.0552755\ttotal: 34ms\tremaining: 366ms\n",
      "17:\tlearn: 1.0531290\ttotal: 35.7ms\tremaining: 361ms\n",
      "18:\tlearn: 1.0515259\ttotal: 38ms\tremaining: 362ms\n",
      "19:\tlearn: 1.0498110\ttotal: 39.7ms\tremaining: 357ms\n",
      "20:\tlearn: 1.0470405\ttotal: 41.6ms\tremaining: 354ms\n",
      "21:\tlearn: 1.0452060\ttotal: 43.5ms\tremaining: 352ms\n",
      "22:\tlearn: 1.0431907\ttotal: 45.4ms\tremaining: 349ms\n",
      "23:\tlearn: 1.0415647\ttotal: 47.1ms\tremaining: 345ms\n",
      "24:\tlearn: 1.0403571\ttotal: 48.8ms\tremaining: 342ms\n",
      "25:\tlearn: 1.0368868\ttotal: 50.7ms\tremaining: 340ms\n",
      "26:\tlearn: 1.0347672\ttotal: 52.5ms\tremaining: 337ms\n",
      "27:\tlearn: 1.0331132\ttotal: 54.3ms\tremaining: 334ms\n",
      "28:\tlearn: 1.0306471\ttotal: 56ms\tremaining: 330ms\n",
      "29:\tlearn: 1.0278265\ttotal: 57.8ms\tremaining: 328ms\n",
      "30:\tlearn: 1.0263799\ttotal: 59.6ms\tremaining: 325ms\n",
      "31:\tlearn: 1.0246220\ttotal: 61.3ms\tremaining: 322ms\n",
      "32:\tlearn: 1.0218061\ttotal: 63.2ms\tremaining: 320ms\n",
      "33:\tlearn: 1.0198534\ttotal: 66.3ms\tremaining: 324ms\n",
      "34:\tlearn: 1.0176938\ttotal: 68.4ms\tremaining: 322ms\n",
      "35:\tlearn: 1.0159302\ttotal: 70.2ms\tremaining: 320ms\n",
      "36:\tlearn: 1.0146659\ttotal: 72.2ms\tremaining: 318ms\n",
      "37:\tlearn: 1.0125642\ttotal: 73.9ms\tremaining: 315ms\n",
      "38:\tlearn: 1.0110619\ttotal: 75.8ms\tremaining: 313ms\n",
      "39:\tlearn: 1.0094505\ttotal: 77.6ms\tremaining: 311ms\n",
      "40:\tlearn: 1.0073955\ttotal: 79.6ms\tremaining: 309ms\n",
      "41:\tlearn: 1.0055388\ttotal: 81.4ms\tremaining: 306ms\n",
      "42:\tlearn: 1.0035429\ttotal: 83.4ms\tremaining: 304ms\n",
      "43:\tlearn: 1.0019266\ttotal: 85.5ms\tremaining: 303ms\n",
      "44:\tlearn: 0.9993692\ttotal: 87.6ms\tremaining: 302ms\n",
      "45:\tlearn: 0.9966256\ttotal: 89.4ms\tremaining: 299ms\n",
      "46:\tlearn: 0.9949505\ttotal: 91.3ms\tremaining: 297ms\n",
      "47:\tlearn: 0.9932798\ttotal: 93.5ms\tremaining: 296ms\n",
      "48:\tlearn: 0.9909201\ttotal: 95ms\tremaining: 293ms\n",
      "49:\tlearn: 0.9891190\ttotal: 96.8ms\tremaining: 290ms\n",
      "50:\tlearn: 0.9871813\ttotal: 98.8ms\tremaining: 289ms\n",
      "51:\tlearn: 0.9850954\ttotal: 101ms\tremaining: 286ms\n",
      "52:\tlearn: 0.9828246\ttotal: 103ms\tremaining: 284ms\n",
      "53:\tlearn: 0.9819756\ttotal: 104ms\tremaining: 282ms\n",
      "54:\tlearn: 0.9805951\ttotal: 106ms\tremaining: 280ms\n",
      "55:\tlearn: 0.9790511\ttotal: 108ms\tremaining: 278ms\n",
      "56:\tlearn: 0.9775231\ttotal: 110ms\tremaining: 276ms\n",
      "57:\tlearn: 0.9766092\ttotal: 112ms\tremaining: 274ms\n",
      "58:\tlearn: 0.9757574\ttotal: 114ms\tremaining: 273ms\n",
      "59:\tlearn: 0.9744115\ttotal: 116ms\tremaining: 270ms\n",
      "60:\tlearn: 0.9731689\ttotal: 117ms\tremaining: 268ms\n",
      "61:\tlearn: 0.9712627\ttotal: 119ms\tremaining: 266ms\n",
      "62:\tlearn: 0.9696358\ttotal: 121ms\tremaining: 263ms\n",
      "63:\tlearn: 0.9689749\ttotal: 123ms\tremaining: 262ms\n",
      "64:\tlearn: 0.9667241\ttotal: 125ms\tremaining: 260ms\n",
      "65:\tlearn: 0.9651297\ttotal: 127ms\tremaining: 258ms\n",
      "66:\tlearn: 0.9633453\ttotal: 129ms\tremaining: 256ms\n",
      "67:\tlearn: 0.9619738\ttotal: 131ms\tremaining: 254ms\n",
      "68:\tlearn: 0.9602065\ttotal: 133ms\tremaining: 252ms\n",
      "69:\tlearn: 0.9583127\ttotal: 135ms\tremaining: 250ms\n",
      "70:\tlearn: 0.9561049\ttotal: 137ms\tremaining: 248ms\n",
      "71:\tlearn: 0.9548637\ttotal: 139ms\tremaining: 246ms\n",
      "72:\tlearn: 0.9541088\ttotal: 140ms\tremaining: 244ms\n",
      "73:\tlearn: 0.9530002\ttotal: 142ms\tremaining: 242ms\n",
      "74:\tlearn: 0.9521438\ttotal: 144ms\tremaining: 240ms\n",
      "75:\tlearn: 0.9506361\ttotal: 146ms\tremaining: 238ms\n",
      "76:\tlearn: 0.9498027\ttotal: 147ms\tremaining: 235ms\n",
      "77:\tlearn: 0.9486230\ttotal: 149ms\tremaining: 233ms\n",
      "78:\tlearn: 0.9473493\ttotal: 151ms\tremaining: 232ms\n",
      "79:\tlearn: 0.9464650\ttotal: 153ms\tremaining: 229ms\n",
      "80:\tlearn: 0.9453235\ttotal: 155ms\tremaining: 228ms\n",
      "81:\tlearn: 0.9441174\ttotal: 157ms\tremaining: 226ms\n",
      "82:\tlearn: 0.9428087\ttotal: 158ms\tremaining: 223ms\n",
      "83:\tlearn: 0.9412795\ttotal: 160ms\tremaining: 221ms\n",
      "84:\tlearn: 0.9398152\ttotal: 162ms\tremaining: 219ms\n",
      "85:\tlearn: 0.9387616\ttotal: 164ms\tremaining: 217ms\n",
      "86:\tlearn: 0.9379085\ttotal: 166ms\tremaining: 216ms\n",
      "87:\tlearn: 0.9357872\ttotal: 168ms\tremaining: 214ms\n",
      "88:\tlearn: 0.9338257\ttotal: 170ms\tremaining: 212ms\n",
      "89:\tlearn: 0.9314149\ttotal: 172ms\tremaining: 210ms\n",
      "90:\tlearn: 0.9303705\ttotal: 173ms\tremaining: 208ms\n",
      "91:\tlearn: 0.9277416\ttotal: 175ms\tremaining: 206ms\n",
      "92:\tlearn: 0.9267594\ttotal: 177ms\tremaining: 204ms\n",
      "93:\tlearn: 0.9255541\ttotal: 179ms\tremaining: 202ms\n",
      "94:\tlearn: 0.9249447\ttotal: 181ms\tremaining: 200ms\n",
      "95:\tlearn: 0.9235079\ttotal: 183ms\tremaining: 199ms\n",
      "96:\tlearn: 0.9220022\ttotal: 185ms\tremaining: 197ms\n",
      "97:\tlearn: 0.9209024\ttotal: 187ms\tremaining: 195ms\n",
      "98:\tlearn: 0.9199408\ttotal: 189ms\tremaining: 193ms\n",
      "99:\tlearn: 0.9182353\ttotal: 191ms\tremaining: 191ms\n",
      "100:\tlearn: 0.9172108\ttotal: 194ms\tremaining: 190ms\n",
      "101:\tlearn: 0.9160413\ttotal: 196ms\tremaining: 188ms\n",
      "102:\tlearn: 0.9146778\ttotal: 197ms\tremaining: 186ms\n",
      "103:\tlearn: 0.9137476\ttotal: 199ms\tremaining: 184ms\n",
      "104:\tlearn: 0.9130705\ttotal: 201ms\tremaining: 182ms\n",
      "105:\tlearn: 0.9123178\ttotal: 202ms\tremaining: 180ms\n",
      "106:\tlearn: 0.9114435\ttotal: 204ms\tremaining: 177ms\n",
      "107:\tlearn: 0.9107511\ttotal: 206ms\tremaining: 175ms\n",
      "108:\tlearn: 0.9103077\ttotal: 208ms\tremaining: 174ms\n",
      "109:\tlearn: 0.9091255\ttotal: 210ms\tremaining: 172ms\n",
      "110:\tlearn: 0.9075174\ttotal: 211ms\tremaining: 169ms\n",
      "111:\tlearn: 0.9061192\ttotal: 213ms\tremaining: 167ms\n",
      "112:\tlearn: 0.9050475\ttotal: 215ms\tremaining: 165ms\n",
      "113:\tlearn: 0.9042965\ttotal: 217ms\tremaining: 163ms\n",
      "114:\tlearn: 0.9029838\ttotal: 218ms\tremaining: 161ms\n",
      "115:\tlearn: 0.9016529\ttotal: 220ms\tremaining: 159ms\n",
      "116:\tlearn: 0.9005837\ttotal: 222ms\tremaining: 157ms\n",
      "117:\tlearn: 0.8994816\ttotal: 224ms\tremaining: 156ms\n",
      "118:\tlearn: 0.8987204\ttotal: 226ms\tremaining: 154ms\n",
      "119:\tlearn: 0.8977346\ttotal: 227ms\tremaining: 151ms\n",
      "120:\tlearn: 0.8971439\ttotal: 229ms\tremaining: 149ms\n",
      "121:\tlearn: 0.8965584\ttotal: 231ms\tremaining: 148ms\n",
      "122:\tlearn: 0.8951644\ttotal: 233ms\tremaining: 146ms\n",
      "123:\tlearn: 0.8937471\ttotal: 234ms\tremaining: 144ms\n",
      "124:\tlearn: 0.8930908\ttotal: 236ms\tremaining: 142ms\n",
      "125:\tlearn: 0.8915550\ttotal: 238ms\tremaining: 140ms\n",
      "126:\tlearn: 0.8903331\ttotal: 240ms\tremaining: 138ms\n",
      "127:\tlearn: 0.8892562\ttotal: 241ms\tremaining: 136ms\n",
      "128:\tlearn: 0.8879228\ttotal: 243ms\tremaining: 134ms\n",
      "129:\tlearn: 0.8868030\ttotal: 245ms\tremaining: 132ms\n",
      "130:\tlearn: 0.8859046\ttotal: 246ms\tremaining: 130ms\n",
      "131:\tlearn: 0.8846327\ttotal: 248ms\tremaining: 128ms\n",
      "132:\tlearn: 0.8838128\ttotal: 250ms\tremaining: 126ms\n",
      "133:\tlearn: 0.8827200\ttotal: 252ms\tremaining: 124ms\n",
      "134:\tlearn: 0.8817477\ttotal: 253ms\tremaining: 122ms\n",
      "135:\tlearn: 0.8811536\ttotal: 255ms\tremaining: 120ms\n",
      "136:\tlearn: 0.8799913\ttotal: 258ms\tremaining: 118ms\n",
      "137:\tlearn: 0.8791098\ttotal: 259ms\tremaining: 116ms\n",
      "138:\tlearn: 0.8776343\ttotal: 262ms\tremaining: 115ms\n",
      "139:\tlearn: 0.8769043\ttotal: 264ms\tremaining: 113ms\n",
      "140:\tlearn: 0.8758034\ttotal: 267ms\tremaining: 112ms\n",
      "141:\tlearn: 0.8748787\ttotal: 269ms\tremaining: 110ms\n",
      "142:\tlearn: 0.8735901\ttotal: 271ms\tremaining: 108ms\n",
      "143:\tlearn: 0.8713252\ttotal: 272ms\tremaining: 106ms\n",
      "144:\tlearn: 0.8703380\ttotal: 274ms\tremaining: 104ms\n",
      "145:\tlearn: 0.8694506\ttotal: 275ms\tremaining: 102ms\n",
      "146:\tlearn: 0.8689665\ttotal: 278ms\tremaining: 100ms\n",
      "147:\tlearn: 0.8680419\ttotal: 280ms\tremaining: 98.3ms\n",
      "148:\tlearn: 0.8669568\ttotal: 282ms\tremaining: 96.4ms\n",
      "149:\tlearn: 0.8655648\ttotal: 283ms\tremaining: 94.4ms\n",
      "150:\tlearn: 0.8645943\ttotal: 285ms\tremaining: 92.5ms\n",
      "151:\tlearn: 0.8636318\ttotal: 287ms\tremaining: 90.5ms\n",
      "152:\tlearn: 0.8622547\ttotal: 289ms\tremaining: 88.7ms\n",
      "153:\tlearn: 0.8619033\ttotal: 290ms\tremaining: 86.7ms\n",
      "154:\tlearn: 0.8612422\ttotal: 292ms\tremaining: 84.9ms\n",
      "155:\tlearn: 0.8592937\ttotal: 294ms\tremaining: 83ms\n",
      "156:\tlearn: 0.8581876\ttotal: 296ms\tremaining: 81.1ms\n",
      "157:\tlearn: 0.8576378\ttotal: 298ms\tremaining: 79.2ms\n",
      "158:\tlearn: 0.8572889\ttotal: 300ms\tremaining: 77.2ms\n",
      "159:\tlearn: 0.8562706\ttotal: 301ms\tremaining: 75.3ms\n",
      "160:\tlearn: 0.8547955\ttotal: 303ms\tremaining: 73.4ms\n",
      "161:\tlearn: 0.8536715\ttotal: 305ms\tremaining: 71.5ms\n",
      "162:\tlearn: 0.8520322\ttotal: 307ms\tremaining: 69.7ms\n",
      "163:\tlearn: 0.8505509\ttotal: 309ms\tremaining: 67.8ms\n",
      "164:\tlearn: 0.8492750\ttotal: 310ms\tremaining: 65.8ms\n",
      "165:\tlearn: 0.8485331\ttotal: 312ms\tremaining: 64ms\n",
      "166:\tlearn: 0.8476701\ttotal: 314ms\tremaining: 62ms\n",
      "167:\tlearn: 0.8472978\ttotal: 316ms\tremaining: 60.1ms\n",
      "168:\tlearn: 0.8456598\ttotal: 317ms\tremaining: 58.2ms\n",
      "169:\tlearn: 0.8449250\ttotal: 319ms\tremaining: 56.3ms\n",
      "170:\tlearn: 0.8437554\ttotal: 321ms\tremaining: 54.5ms\n",
      "171:\tlearn: 0.8428472\ttotal: 323ms\tremaining: 52.6ms\n",
      "172:\tlearn: 0.8416655\ttotal: 325ms\tremaining: 50.7ms\n",
      "173:\tlearn: 0.8410801\ttotal: 326ms\tremaining: 48.8ms\n",
      "174:\tlearn: 0.8406459\ttotal: 328ms\tremaining: 46.9ms\n",
      "175:\tlearn: 0.8401183\ttotal: 330ms\tremaining: 45ms\n",
      "176:\tlearn: 0.8395288\ttotal: 332ms\tremaining: 43.1ms\n",
      "177:\tlearn: 0.8387018\ttotal: 333ms\tremaining: 41.2ms\n",
      "178:\tlearn: 0.8378420\ttotal: 335ms\tremaining: 39.3ms\n",
      "179:\tlearn: 0.8369454\ttotal: 337ms\tremaining: 37.5ms\n",
      "180:\tlearn: 0.8362373\ttotal: 339ms\tremaining: 35.6ms\n",
      "181:\tlearn: 0.8352998\ttotal: 340ms\tremaining: 33.7ms\n",
      "182:\tlearn: 0.8348771\ttotal: 342ms\tremaining: 31.8ms\n",
      "183:\tlearn: 0.8336301\ttotal: 344ms\tremaining: 29.9ms\n",
      "184:\tlearn: 0.8326540\ttotal: 346ms\tremaining: 28ms\n",
      "185:\tlearn: 0.8320329\ttotal: 347ms\tremaining: 26.1ms\n",
      "186:\tlearn: 0.8314102\ttotal: 349ms\tremaining: 24.3ms\n",
      "187:\tlearn: 0.8304929\ttotal: 352ms\tremaining: 22.5ms\n",
      "188:\tlearn: 0.8290261\ttotal: 355ms\tremaining: 20.6ms\n",
      "189:\tlearn: 0.8283153\ttotal: 356ms\tremaining: 18.8ms\n",
      "190:\tlearn: 0.8273977\ttotal: 358ms\tremaining: 16.9ms\n",
      "191:\tlearn: 0.8266911\ttotal: 360ms\tremaining: 15ms\n",
      "192:\tlearn: 0.8256841\ttotal: 362ms\tremaining: 13.1ms\n",
      "193:\tlearn: 0.8246625\ttotal: 364ms\tremaining: 11.3ms\n",
      "194:\tlearn: 0.8237358\ttotal: 367ms\tremaining: 9.41ms\n",
      "195:\tlearn: 0.8230789\ttotal: 369ms\tremaining: 7.53ms\n",
      "196:\tlearn: 0.8225653\ttotal: 371ms\tremaining: 5.65ms\n",
      "197:\tlearn: 0.8220786\ttotal: 373ms\tremaining: 3.76ms\n",
      "198:\tlearn: 0.8215877\ttotal: 374ms\tremaining: 1.88ms\n",
      "199:\tlearn: 0.8212514\ttotal: 376ms\tremaining: 0us\n",
      "Melhores valores:  {'max_depth': 3}\n",
      "-----------------------------\n",
      "Testando Variáveis: subsample\n",
      "Não usar subsample\n"
     ]
    }
   ],
   "source": [
    "tunning_hiperpametros(CatBoostClassifier, X_train, y_train)"
   ]
  },
  {
   "cell_type": "code",
   "execution_count": 111,
   "id": "2802c68e",
   "metadata": {
    "scrolled": true
   },
   "outputs": [
    {
     "name": "stdout",
     "output_type": "stream",
     "text": [
      "0:\tlearn: 1.0956060\ttest: 1.0969713\tbest: 1.0969713 (0)\ttotal: 14.1ms\tremaining: 2m 21s\n",
      "1:\tlearn: 1.0933984\ttest: 1.0959088\tbest: 1.0959088 (1)\ttotal: 19.7ms\tremaining: 1m 38s\n",
      "2:\tlearn: 1.0909542\ttest: 1.0950566\tbest: 1.0950566 (2)\ttotal: 35.1ms\tremaining: 1m 56s\n",
      "3:\tlearn: 1.0881008\ttest: 1.0934145\tbest: 1.0934145 (3)\ttotal: 50ms\tremaining: 2m 5s\n",
      "4:\tlearn: 1.0850463\ttest: 1.0912478\tbest: 1.0912478 (4)\ttotal: 61ms\tremaining: 2m 1s\n",
      "5:\tlearn: 1.0819650\ttest: 1.0908479\tbest: 1.0908479 (5)\ttotal: 75.1ms\tremaining: 2m 5s\n",
      "6:\tlearn: 1.0794326\ttest: 1.0894390\tbest: 1.0894390 (6)\ttotal: 94.1ms\tremaining: 2m 14s\n",
      "7:\tlearn: 1.0773719\ttest: 1.0882317\tbest: 1.0882317 (7)\ttotal: 109ms\tremaining: 2m 16s\n",
      "8:\tlearn: 1.0753602\ttest: 1.0877473\tbest: 1.0877473 (8)\ttotal: 124ms\tremaining: 2m 17s\n",
      "9:\tlearn: 1.0731565\ttest: 1.0871372\tbest: 1.0871372 (9)\ttotal: 137ms\tremaining: 2m 16s\n",
      "10:\tlearn: 1.0714039\ttest: 1.0859488\tbest: 1.0859488 (10)\ttotal: 149ms\tremaining: 2m 15s\n",
      "11:\tlearn: 1.0690305\ttest: 1.0844191\tbest: 1.0844191 (11)\ttotal: 154ms\tremaining: 2m 8s\n",
      "12:\tlearn: 1.0670192\ttest: 1.0839854\tbest: 1.0839854 (12)\ttotal: 166ms\tremaining: 2m 7s\n",
      "13:\tlearn: 1.0633947\ttest: 1.0833086\tbest: 1.0833086 (13)\ttotal: 172ms\tremaining: 2m 2s\n",
      "14:\tlearn: 1.0616712\ttest: 1.0825376\tbest: 1.0825376 (14)\ttotal: 175ms\tremaining: 1m 56s\n",
      "15:\tlearn: 1.0595710\ttest: 1.0816104\tbest: 1.0816104 (15)\ttotal: 187ms\tremaining: 1m 56s\n",
      "16:\tlearn: 1.0568154\ttest: 1.0809649\tbest: 1.0809649 (16)\ttotal: 195ms\tremaining: 1m 54s\n",
      "17:\tlearn: 1.0543664\ttest: 1.0802402\tbest: 1.0802402 (17)\ttotal: 206ms\tremaining: 1m 54s\n",
      "18:\tlearn: 1.0513955\ttest: 1.0797019\tbest: 1.0797019 (18)\ttotal: 219ms\tremaining: 1m 55s\n",
      "19:\tlearn: 1.0490005\ttest: 1.0777577\tbest: 1.0777577 (19)\ttotal: 232ms\tremaining: 1m 55s\n",
      "20:\tlearn: 1.0463806\ttest: 1.0761645\tbest: 1.0761645 (20)\ttotal: 244ms\tremaining: 1m 56s\n",
      "21:\tlearn: 1.0443657\ttest: 1.0758822\tbest: 1.0758822 (21)\ttotal: 257ms\tremaining: 1m 56s\n",
      "22:\tlearn: 1.0417288\ttest: 1.0727970\tbest: 1.0727970 (22)\ttotal: 260ms\tremaining: 1m 52s\n",
      "23:\tlearn: 1.0394292\ttest: 1.0723891\tbest: 1.0723891 (23)\ttotal: 273ms\tremaining: 1m 53s\n",
      "24:\tlearn: 1.0363923\ttest: 1.0717176\tbest: 1.0717176 (24)\ttotal: 277ms\tremaining: 1m 50s\n",
      "25:\tlearn: 1.0343465\ttest: 1.0710747\tbest: 1.0710747 (25)\ttotal: 290ms\tremaining: 1m 51s\n",
      "26:\tlearn: 1.0313530\ttest: 1.0691530\tbest: 1.0691530 (26)\ttotal: 298ms\tremaining: 1m 49s\n",
      "27:\tlearn: 1.0292022\ttest: 1.0690342\tbest: 1.0690342 (27)\ttotal: 310ms\tremaining: 1m 50s\n",
      "28:\tlearn: 1.0269944\ttest: 1.0682735\tbest: 1.0682735 (28)\ttotal: 323ms\tremaining: 1m 51s\n",
      "29:\tlearn: 1.0227793\ttest: 1.0641762\tbest: 1.0641762 (29)\ttotal: 328ms\tremaining: 1m 49s\n",
      "30:\tlearn: 1.0205740\ttest: 1.0632409\tbest: 1.0632409 (30)\ttotal: 340ms\tremaining: 1m 49s\n",
      "31:\tlearn: 1.0179588\ttest: 1.0614437\tbest: 1.0614437 (31)\ttotal: 344ms\tremaining: 1m 47s\n",
      "32:\tlearn: 1.0155780\ttest: 1.0603112\tbest: 1.0603112 (32)\ttotal: 357ms\tremaining: 1m 47s\n",
      "33:\tlearn: 1.0130502\ttest: 1.0607110\tbest: 1.0603112 (32)\ttotal: 362ms\tremaining: 1m 46s\n",
      "34:\tlearn: 1.0109714\ttest: 1.0591704\tbest: 1.0591704 (34)\ttotal: 364ms\tremaining: 1m 43s\n",
      "35:\tlearn: 1.0089127\ttest: 1.0590972\tbest: 1.0590972 (35)\ttotal: 375ms\tremaining: 1m 43s\n",
      "36:\tlearn: 1.0066025\ttest: 1.0572394\tbest: 1.0572394 (36)\ttotal: 387ms\tremaining: 1m 44s\n",
      "37:\tlearn: 1.0045583\ttest: 1.0561311\tbest: 1.0561311 (37)\ttotal: 401ms\tremaining: 1m 45s\n",
      "38:\tlearn: 1.0023347\ttest: 1.0558318\tbest: 1.0558318 (38)\ttotal: 414ms\tremaining: 1m 45s\n",
      "39:\tlearn: 1.0004783\ttest: 1.0547745\tbest: 1.0547745 (39)\ttotal: 427ms\tremaining: 1m 46s\n",
      "40:\tlearn: 0.9976918\ttest: 1.0534832\tbest: 1.0534832 (40)\ttotal: 439ms\tremaining: 1m 46s\n",
      "41:\tlearn: 0.9954938\ttest: 1.0533397\tbest: 1.0533397 (41)\ttotal: 451ms\tremaining: 1m 46s\n",
      "42:\tlearn: 0.9932980\ttest: 1.0524780\tbest: 1.0524780 (42)\ttotal: 462ms\tremaining: 1m 46s\n",
      "43:\tlearn: 0.9908757\ttest: 1.0517099\tbest: 1.0517099 (43)\ttotal: 475ms\tremaining: 1m 47s\n",
      "44:\tlearn: 0.9894439\ttest: 1.0513705\tbest: 1.0513705 (44)\ttotal: 488ms\tremaining: 1m 48s\n",
      "45:\tlearn: 0.9876820\ttest: 1.0506923\tbest: 1.0506923 (45)\ttotal: 501ms\tremaining: 1m 48s\n",
      "46:\tlearn: 0.9854128\ttest: 1.0507815\tbest: 1.0506923 (45)\ttotal: 516ms\tremaining: 1m 49s\n",
      "47:\tlearn: 0.9830601\ttest: 1.0504054\tbest: 1.0504054 (47)\ttotal: 524ms\tremaining: 1m 48s\n",
      "48:\tlearn: 0.9807467\ttest: 1.0492887\tbest: 1.0492887 (48)\ttotal: 537ms\tremaining: 1m 49s\n",
      "49:\tlearn: 0.9792196\ttest: 1.0489051\tbest: 1.0489051 (49)\ttotal: 551ms\tremaining: 1m 49s\n",
      "50:\tlearn: 0.9772914\ttest: 1.0473503\tbest: 1.0473503 (50)\ttotal: 563ms\tremaining: 1m 49s\n",
      "51:\tlearn: 0.9753362\ttest: 1.0465185\tbest: 1.0465185 (51)\ttotal: 571ms\tremaining: 1m 49s\n",
      "52:\tlearn: 0.9735749\ttest: 1.0460724\tbest: 1.0460724 (52)\ttotal: 583ms\tremaining: 1m 49s\n",
      "53:\tlearn: 0.9718144\ttest: 1.0453644\tbest: 1.0453644 (53)\ttotal: 596ms\tremaining: 1m 49s\n",
      "54:\tlearn: 0.9696457\ttest: 1.0437824\tbest: 1.0437824 (54)\ttotal: 609ms\tremaining: 1m 50s\n",
      "55:\tlearn: 0.9679981\ttest: 1.0432532\tbest: 1.0432532 (55)\ttotal: 623ms\tremaining: 1m 50s\n",
      "56:\tlearn: 0.9660061\ttest: 1.0425193\tbest: 1.0425193 (56)\ttotal: 634ms\tremaining: 1m 50s\n",
      "57:\tlearn: 0.9640748\ttest: 1.0417472\tbest: 1.0417472 (57)\ttotal: 642ms\tremaining: 1m 50s\n",
      "58:\tlearn: 0.9617068\ttest: 1.0411099\tbest: 1.0411099 (58)\ttotal: 654ms\tremaining: 1m 50s\n",
      "59:\tlearn: 0.9597725\ttest: 1.0401180\tbest: 1.0401180 (59)\ttotal: 658ms\tremaining: 1m 48s\n",
      "60:\tlearn: 0.9578541\ttest: 1.0395012\tbest: 1.0395012 (60)\ttotal: 660ms\tremaining: 1m 47s\n",
      "61:\tlearn: 0.9557937\ttest: 1.0390360\tbest: 1.0390360 (61)\ttotal: 674ms\tremaining: 1m 48s\n",
      "62:\tlearn: 0.9536536\ttest: 1.0376138\tbest: 1.0376138 (62)\ttotal: 687ms\tremaining: 1m 48s\n",
      "63:\tlearn: 0.9515371\ttest: 1.0375478\tbest: 1.0375478 (63)\ttotal: 699ms\tremaining: 1m 48s\n",
      "64:\tlearn: 0.9497634\ttest: 1.0358881\tbest: 1.0358881 (64)\ttotal: 713ms\tremaining: 1m 49s\n",
      "65:\tlearn: 0.9476782\ttest: 1.0354129\tbest: 1.0354129 (65)\ttotal: 726ms\tremaining: 1m 49s\n",
      "66:\tlearn: 0.9459562\ttest: 1.0347580\tbest: 1.0347580 (66)\ttotal: 739ms\tremaining: 1m 49s\n",
      "67:\tlearn: 0.9442291\ttest: 1.0337214\tbest: 1.0337214 (67)\ttotal: 751ms\tremaining: 1m 49s\n",
      "68:\tlearn: 0.9426487\ttest: 1.0336982\tbest: 1.0336982 (68)\ttotal: 764ms\tremaining: 1m 49s\n",
      "69:\tlearn: 0.9403082\ttest: 1.0326061\tbest: 1.0326061 (69)\ttotal: 776ms\tremaining: 1m 50s\n",
      "70:\tlearn: 0.9383952\ttest: 1.0327324\tbest: 1.0326061 (69)\ttotal: 791ms\tremaining: 1m 50s\n",
      "71:\tlearn: 0.9364846\ttest: 1.0325487\tbest: 1.0325487 (71)\ttotal: 804ms\tremaining: 1m 50s\n",
      "72:\tlearn: 0.9345768\ttest: 1.0320784\tbest: 1.0320784 (72)\ttotal: 816ms\tremaining: 1m 50s\n",
      "73:\tlearn: 0.9321499\ttest: 1.0307546\tbest: 1.0307546 (73)\ttotal: 824ms\tremaining: 1m 50s\n",
      "74:\tlearn: 0.9304937\ttest: 1.0299373\tbest: 1.0299373 (74)\ttotal: 839ms\tremaining: 1m 51s\n",
      "75:\tlearn: 0.9288452\ttest: 1.0297378\tbest: 1.0297378 (75)\ttotal: 852ms\tremaining: 1m 51s\n",
      "76:\tlearn: 0.9270485\ttest: 1.0290957\tbest: 1.0290957 (76)\ttotal: 864ms\tremaining: 1m 51s\n",
      "77:\tlearn: 0.9247389\ttest: 1.0268769\tbest: 1.0268769 (77)\ttotal: 869ms\tremaining: 1m 50s\n",
      "78:\tlearn: 0.9228557\ttest: 1.0251477\tbest: 1.0251477 (78)\ttotal: 872ms\tremaining: 1m 49s\n",
      "79:\tlearn: 0.9208037\ttest: 1.0246454\tbest: 1.0246454 (79)\ttotal: 877ms\tremaining: 1m 48s\n",
      "80:\tlearn: 0.9187660\ttest: 1.0233228\tbest: 1.0233228 (80)\ttotal: 884ms\tremaining: 1m 48s\n",
      "81:\tlearn: 0.9169142\ttest: 1.0228710\tbest: 1.0228710 (81)\ttotal: 896ms\tremaining: 1m 48s\n",
      "82:\tlearn: 0.9151675\ttest: 1.0219940\tbest: 1.0219940 (82)\ttotal: 910ms\tremaining: 1m 48s\n",
      "83:\tlearn: 0.9134666\ttest: 1.0217796\tbest: 1.0217796 (83)\ttotal: 922ms\tremaining: 1m 48s\n",
      "84:\tlearn: 0.9115955\ttest: 1.0219371\tbest: 1.0217796 (83)\ttotal: 934ms\tremaining: 1m 49s\n",
      "85:\tlearn: 0.9095066\ttest: 1.0218134\tbest: 1.0217796 (83)\ttotal: 948ms\tremaining: 1m 49s\n",
      "86:\tlearn: 0.9076536\ttest: 1.0205992\tbest: 1.0205992 (86)\ttotal: 956ms\tremaining: 1m 48s\n",
      "87:\tlearn: 0.9053853\ttest: 1.0199070\tbest: 1.0199070 (87)\ttotal: 965ms\tremaining: 1m 48s\n",
      "88:\tlearn: 0.9040602\ttest: 1.0201378\tbest: 1.0199070 (87)\ttotal: 978ms\tremaining: 1m 48s\n",
      "89:\tlearn: 0.9011046\ttest: 1.0194506\tbest: 1.0194506 (89)\ttotal: 992ms\tremaining: 1m 49s\n",
      "90:\tlearn: 0.8990273\ttest: 1.0195918\tbest: 1.0194506 (89)\ttotal: 1s\tremaining: 1m 48s\n",
      "91:\tlearn: 0.8969812\ttest: 1.0185040\tbest: 1.0185040 (91)\ttotal: 1.01s\tremaining: 1m 49s\n",
      "92:\tlearn: 0.8951756\ttest: 1.0175758\tbest: 1.0175758 (92)\ttotal: 1.03s\tremaining: 1m 49s\n",
      "93:\tlearn: 0.8935040\ttest: 1.0175023\tbest: 1.0175023 (93)\ttotal: 1.04s\tremaining: 1m 50s\n",
      "94:\tlearn: 0.8916177\ttest: 1.0165113\tbest: 1.0165113 (94)\ttotal: 1.05s\tremaining: 1m 50s\n",
      "95:\tlearn: 0.8893950\ttest: 1.0147961\tbest: 1.0147961 (95)\ttotal: 1.06s\tremaining: 1m 49s\n",
      "96:\tlearn: 0.8875546\ttest: 1.0144636\tbest: 1.0144636 (96)\ttotal: 1.07s\tremaining: 1m 49s\n",
      "97:\tlearn: 0.8854126\ttest: 1.0143345\tbest: 1.0143345 (97)\ttotal: 1.08s\tremaining: 1m 48s\n",
      "98:\tlearn: 0.8836100\ttest: 1.0139034\tbest: 1.0139034 (98)\ttotal: 1.09s\tremaining: 1m 48s\n",
      "99:\tlearn: 0.8818954\ttest: 1.0136209\tbest: 1.0136209 (99)\ttotal: 1.1s\tremaining: 1m 48s\n",
      "100:\tlearn: 0.8800659\ttest: 1.0132019\tbest: 1.0132019 (100)\ttotal: 1.11s\tremaining: 1m 49s\n",
      "101:\tlearn: 0.8784484\ttest: 1.0124434\tbest: 1.0124434 (101)\ttotal: 1.13s\tremaining: 1m 49s\n",
      "102:\tlearn: 0.8766919\ttest: 1.0114496\tbest: 1.0114496 (102)\ttotal: 1.14s\tremaining: 1m 49s\n",
      "103:\tlearn: 0.8748422\ttest: 1.0109068\tbest: 1.0109068 (103)\ttotal: 1.15s\tremaining: 1m 49s\n",
      "104:\tlearn: 0.8729891\ttest: 1.0107613\tbest: 1.0107613 (104)\ttotal: 1.17s\tremaining: 1m 49s\n",
      "105:\tlearn: 0.8713538\ttest: 1.0101799\tbest: 1.0101799 (105)\ttotal: 1.18s\tremaining: 1m 49s\n",
      "106:\tlearn: 0.8695856\ttest: 1.0105844\tbest: 1.0101799 (105)\ttotal: 1.18s\tremaining: 1m 49s\n",
      "107:\tlearn: 0.8682914\ttest: 1.0100611\tbest: 1.0100611 (107)\ttotal: 1.19s\tremaining: 1m 49s\n",
      "108:\tlearn: 0.8669135\ttest: 1.0095479\tbest: 1.0095479 (108)\ttotal: 1.21s\tremaining: 1m 49s\n",
      "109:\tlearn: 0.8654315\ttest: 1.0094768\tbest: 1.0094768 (109)\ttotal: 1.22s\tremaining: 1m 49s\n",
      "110:\tlearn: 0.8640236\ttest: 1.0086363\tbest: 1.0086363 (110)\ttotal: 1.23s\tremaining: 1m 49s\n",
      "111:\tlearn: 0.8623839\ttest: 1.0080061\tbest: 1.0080061 (111)\ttotal: 1.25s\tremaining: 1m 49s\n",
      "112:\tlearn: 0.8604695\ttest: 1.0074598\tbest: 1.0074598 (112)\ttotal: 1.26s\tremaining: 1m 50s\n",
      "113:\tlearn: 0.8580529\ttest: 1.0066181\tbest: 1.0066181 (113)\ttotal: 1.27s\tremaining: 1m 50s\n",
      "114:\tlearn: 0.8566751\ttest: 1.0061543\tbest: 1.0061543 (114)\ttotal: 1.27s\tremaining: 1m 49s\n",
      "115:\tlearn: 0.8550692\ttest: 1.0052721\tbest: 1.0052721 (115)\ttotal: 1.28s\tremaining: 1m 49s\n",
      "116:\tlearn: 0.8530665\ttest: 1.0052713\tbest: 1.0052713 (116)\ttotal: 1.29s\tremaining: 1m 49s\n",
      "117:\tlearn: 0.8515138\ttest: 1.0050910\tbest: 1.0050910 (117)\ttotal: 1.3s\tremaining: 1m 48s\n",
      "118:\tlearn: 0.8502257\ttest: 1.0048536\tbest: 1.0048536 (118)\ttotal: 1.31s\tremaining: 1m 48s\n",
      "119:\tlearn: 0.8485161\ttest: 1.0041109\tbest: 1.0041109 (119)\ttotal: 1.32s\tremaining: 1m 48s\n",
      "120:\tlearn: 0.8460940\ttest: 1.0021133\tbest: 1.0021133 (120)\ttotal: 1.33s\tremaining: 1m 49s\n",
      "121:\tlearn: 0.8446717\ttest: 1.0015346\tbest: 1.0015346 (121)\ttotal: 1.35s\tremaining: 1m 49s\n",
      "122:\tlearn: 0.8428371\ttest: 0.9999571\tbest: 0.9999571 (122)\ttotal: 1.36s\tremaining: 1m 49s\n",
      "123:\tlearn: 0.8410439\ttest: 0.9993376\tbest: 0.9993376 (123)\ttotal: 1.37s\tremaining: 1m 49s\n",
      "124:\tlearn: 0.8396047\ttest: 0.9991111\tbest: 0.9991111 (124)\ttotal: 1.38s\tremaining: 1m 49s\n",
      "125:\tlearn: 0.8381171\ttest: 0.9991113\tbest: 0.9991111 (124)\ttotal: 1.39s\tremaining: 1m 49s\n",
      "126:\tlearn: 0.8361707\ttest: 0.9984429\tbest: 0.9984429 (126)\ttotal: 1.41s\tremaining: 1m 49s\n",
      "127:\tlearn: 0.8343305\ttest: 0.9975490\tbest: 0.9975490 (127)\ttotal: 1.42s\tremaining: 1m 49s\n",
      "128:\tlearn: 0.8325786\ttest: 0.9958996\tbest: 0.9958996 (128)\ttotal: 1.43s\tremaining: 1m 49s\n",
      "129:\tlearn: 0.8305704\ttest: 0.9950141\tbest: 0.9950141 (129)\ttotal: 1.44s\tremaining: 1m 49s\n",
      "130:\tlearn: 0.8291554\ttest: 0.9939421\tbest: 0.9939421 (130)\ttotal: 1.45s\tremaining: 1m 49s\n",
      "131:\tlearn: 0.8279652\ttest: 0.9939433\tbest: 0.9939421 (130)\ttotal: 1.47s\tremaining: 1m 49s\n",
      "132:\tlearn: 0.8266987\ttest: 0.9935861\tbest: 0.9935861 (132)\ttotal: 1.48s\tremaining: 1m 49s\n",
      "133:\tlearn: 0.8249979\ttest: 0.9928149\tbest: 0.9928149 (133)\ttotal: 1.49s\tremaining: 1m 49s\n",
      "134:\tlearn: 0.8235450\ttest: 0.9923979\tbest: 0.9923979 (134)\ttotal: 1.5s\tremaining: 1m 50s\n",
      "135:\tlearn: 0.8219784\ttest: 0.9921086\tbest: 0.9921086 (135)\ttotal: 1.52s\tremaining: 1m 50s\n",
      "136:\tlearn: 0.8198737\ttest: 0.9914115\tbest: 0.9914115 (136)\ttotal: 1.52s\tremaining: 1m 49s\n",
      "137:\tlearn: 0.8184873\ttest: 0.9912264\tbest: 0.9912264 (137)\ttotal: 1.54s\tremaining: 1m 50s\n",
      "138:\tlearn: 0.8170439\ttest: 0.9907250\tbest: 0.9907250 (138)\ttotal: 1.55s\tremaining: 1m 50s\n",
      "139:\tlearn: 0.8146844\ttest: 0.9891535\tbest: 0.9891535 (139)\ttotal: 1.56s\tremaining: 1m 50s\n",
      "140:\tlearn: 0.8130869\ttest: 0.9883765\tbest: 0.9883765 (140)\ttotal: 1.57s\tremaining: 1m 50s\n",
      "141:\tlearn: 0.8110130\ttest: 0.9872981\tbest: 0.9872981 (141)\ttotal: 1.59s\tremaining: 1m 50s\n",
      "142:\tlearn: 0.8092213\ttest: 0.9872360\tbest: 0.9872360 (142)\ttotal: 1.59s\tremaining: 1m 49s\n",
      "143:\tlearn: 0.8076051\ttest: 0.9871147\tbest: 0.9871147 (143)\ttotal: 1.6s\tremaining: 1m 49s\n",
      "144:\tlearn: 0.8057442\ttest: 0.9859622\tbest: 0.9859622 (144)\ttotal: 1.62s\tremaining: 1m 49s\n",
      "145:\tlearn: 0.8031827\ttest: 0.9854670\tbest: 0.9854670 (145)\ttotal: 1.63s\tremaining: 1m 49s\n",
      "146:\tlearn: 0.8017110\ttest: 0.9856297\tbest: 0.9854670 (145)\ttotal: 1.64s\tremaining: 1m 50s\n",
      "147:\tlearn: 0.8004573\ttest: 0.9856120\tbest: 0.9854670 (145)\ttotal: 1.66s\tremaining: 1m 50s\n",
      "148:\tlearn: 0.7989540\ttest: 0.9841965\tbest: 0.9841965 (148)\ttotal: 1.67s\tremaining: 1m 50s\n",
      "149:\tlearn: 0.7979704\ttest: 0.9836285\tbest: 0.9836285 (149)\ttotal: 1.69s\tremaining: 1m 50s\n",
      "150:\tlearn: 0.7966013\ttest: 0.9828379\tbest: 0.9828379 (150)\ttotal: 1.69s\tremaining: 1m 50s\n",
      "151:\tlearn: 0.7947840\ttest: 0.9819269\tbest: 0.9819269 (151)\ttotal: 1.71s\tremaining: 1m 50s\n",
      "152:\tlearn: 0.7934324\ttest: 0.9822858\tbest: 0.9819269 (151)\ttotal: 1.73s\tremaining: 1m 51s\n",
      "153:\tlearn: 0.7918731\ttest: 0.9817712\tbest: 0.9817712 (153)\ttotal: 1.74s\tremaining: 1m 51s\n",
      "154:\tlearn: 0.7907574\ttest: 0.9820078\tbest: 0.9817712 (153)\ttotal: 1.75s\tremaining: 1m 50s\n",
      "155:\tlearn: 0.7895945\ttest: 0.9818782\tbest: 0.9817712 (153)\ttotal: 1.76s\tremaining: 1m 51s\n",
      "156:\tlearn: 0.7880511\ttest: 0.9811796\tbest: 0.9811796 (156)\ttotal: 1.78s\tremaining: 1m 51s\n",
      "157:\tlearn: 0.7865427\ttest: 0.9804285\tbest: 0.9804285 (157)\ttotal: 1.8s\tremaining: 1m 52s\n",
      "158:\tlearn: 0.7853423\ttest: 0.9799746\tbest: 0.9799746 (158)\ttotal: 1.81s\tremaining: 1m 52s\n",
      "159:\tlearn: 0.7837027\ttest: 0.9803681\tbest: 0.9799746 (158)\ttotal: 1.83s\tremaining: 1m 52s\n",
      "160:\tlearn: 0.7826949\ttest: 0.9799409\tbest: 0.9799409 (160)\ttotal: 1.83s\tremaining: 1m 52s\n",
      "161:\tlearn: 0.7813577\ttest: 0.9790748\tbest: 0.9790748 (161)\ttotal: 1.85s\tremaining: 1m 52s\n",
      "162:\tlearn: 0.7800711\ttest: 0.9782052\tbest: 0.9782052 (162)\ttotal: 1.86s\tremaining: 1m 52s\n",
      "163:\tlearn: 0.7785760\ttest: 0.9783170\tbest: 0.9782052 (162)\ttotal: 1.88s\tremaining: 1m 52s\n",
      "164:\tlearn: 0.7770627\ttest: 0.9777642\tbest: 0.9777642 (164)\ttotal: 1.89s\tremaining: 1m 52s\n",
      "165:\tlearn: 0.7757597\ttest: 0.9777310\tbest: 0.9777310 (165)\ttotal: 1.91s\tremaining: 1m 52s\n",
      "166:\tlearn: 0.7744317\ttest: 0.9774817\tbest: 0.9774817 (166)\ttotal: 1.91s\tremaining: 1m 52s\n",
      "167:\tlearn: 0.7731548\ttest: 0.9775410\tbest: 0.9774817 (166)\ttotal: 1.93s\tremaining: 1m 52s\n",
      "168:\tlearn: 0.7721845\ttest: 0.9776565\tbest: 0.9774817 (166)\ttotal: 1.93s\tremaining: 1m 52s\n",
      "169:\tlearn: 0.7714973\ttest: 0.9773461\tbest: 0.9773461 (169)\ttotal: 1.94s\tremaining: 1m 52s\n",
      "170:\tlearn: 0.7703658\ttest: 0.9771119\tbest: 0.9771119 (170)\ttotal: 1.95s\tremaining: 1m 52s\n",
      "171:\tlearn: 0.7691115\ttest: 0.9770970\tbest: 0.9770970 (171)\ttotal: 1.97s\tremaining: 1m 52s\n",
      "172:\tlearn: 0.7678041\ttest: 0.9760931\tbest: 0.9760931 (172)\ttotal: 1.98s\tremaining: 1m 52s\n",
      "173:\tlearn: 0.7665009\ttest: 0.9761764\tbest: 0.9760931 (172)\ttotal: 1.99s\tremaining: 1m 52s\n",
      "174:\tlearn: 0.7650359\ttest: 0.9761456\tbest: 0.9760931 (172)\ttotal: 2s\tremaining: 1m 52s\n",
      "175:\tlearn: 0.7633328\ttest: 0.9752816\tbest: 0.9752816 (175)\ttotal: 2.02s\tremaining: 1m 52s\n",
      "176:\tlearn: 0.7621993\ttest: 0.9751578\tbest: 0.9751578 (176)\ttotal: 2.04s\tremaining: 1m 53s\n",
      "177:\tlearn: 0.7607051\ttest: 0.9742295\tbest: 0.9742295 (177)\ttotal: 2.05s\tremaining: 1m 53s\n",
      "178:\tlearn: 0.7592544\ttest: 0.9740438\tbest: 0.9740438 (178)\ttotal: 2.07s\tremaining: 1m 53s\n",
      "179:\tlearn: 0.7580971\ttest: 0.9731730\tbest: 0.9731730 (179)\ttotal: 2.08s\tremaining: 1m 53s\n",
      "180:\tlearn: 0.7569330\ttest: 0.9728606\tbest: 0.9728606 (180)\ttotal: 2.1s\tremaining: 1m 53s\n",
      "181:\tlearn: 0.7554704\ttest: 0.9721186\tbest: 0.9721186 (181)\ttotal: 2.11s\tremaining: 1m 53s\n",
      "182:\tlearn: 0.7543570\ttest: 0.9717895\tbest: 0.9717895 (182)\ttotal: 2.12s\tremaining: 1m 53s\n",
      "183:\tlearn: 0.7531174\ttest: 0.9711976\tbest: 0.9711976 (183)\ttotal: 2.14s\tremaining: 1m 53s\n",
      "184:\tlearn: 0.7520170\ttest: 0.9709443\tbest: 0.9709443 (184)\ttotal: 2.15s\tremaining: 1m 54s\n",
      "185:\tlearn: 0.7506385\ttest: 0.9704981\tbest: 0.9704981 (185)\ttotal: 2.16s\tremaining: 1m 54s\n",
      "186:\tlearn: 0.7494455\ttest: 0.9683183\tbest: 0.9683183 (186)\ttotal: 2.17s\tremaining: 1m 53s\n",
      "187:\tlearn: 0.7476997\ttest: 0.9678190\tbest: 0.9678190 (187)\ttotal: 2.17s\tremaining: 1m 53s\n",
      "188:\tlearn: 0.7459815\ttest: 0.9666461\tbest: 0.9666461 (188)\ttotal: 2.18s\tremaining: 1m 53s\n",
      "189:\tlearn: 0.7449971\ttest: 0.9663851\tbest: 0.9663851 (189)\ttotal: 2.19s\tremaining: 1m 53s\n",
      "190:\tlearn: 0.7435080\ttest: 0.9659037\tbest: 0.9659037 (190)\ttotal: 2.2s\tremaining: 1m 53s\n",
      "191:\tlearn: 0.7422405\ttest: 0.9661193\tbest: 0.9659037 (190)\ttotal: 2.21s\tremaining: 1m 53s\n",
      "192:\tlearn: 0.7411998\ttest: 0.9660701\tbest: 0.9659037 (190)\ttotal: 2.23s\tremaining: 1m 53s\n",
      "193:\tlearn: 0.7394082\ttest: 0.9654383\tbest: 0.9654383 (193)\ttotal: 2.24s\tremaining: 1m 53s\n",
      "194:\tlearn: 0.7384533\ttest: 0.9649973\tbest: 0.9649973 (194)\ttotal: 2.25s\tremaining: 1m 53s\n",
      "195:\tlearn: 0.7370525\ttest: 0.9643932\tbest: 0.9643932 (195)\ttotal: 2.27s\tremaining: 1m 53s\n",
      "196:\tlearn: 0.7360613\ttest: 0.9636789\tbest: 0.9636789 (196)\ttotal: 2.28s\tremaining: 1m 53s\n",
      "197:\tlearn: 0.7347450\ttest: 0.9634565\tbest: 0.9634565 (197)\ttotal: 2.28s\tremaining: 1m 53s\n",
      "198:\tlearn: 0.7335912\ttest: 0.9632632\tbest: 0.9632632 (198)\ttotal: 2.29s\tremaining: 1m 53s\n",
      "199:\tlearn: 0.7322775\ttest: 0.9637570\tbest: 0.9632632 (198)\ttotal: 2.3s\tremaining: 1m 52s\n",
      "200:\tlearn: 0.7310408\ttest: 0.9633872\tbest: 0.9632632 (198)\ttotal: 2.31s\tremaining: 1m 52s\n",
      "201:\tlearn: 0.7295727\ttest: 0.9630932\tbest: 0.9630932 (201)\ttotal: 2.33s\tremaining: 1m 52s\n",
      "202:\tlearn: 0.7281734\ttest: 0.9623395\tbest: 0.9623395 (202)\ttotal: 2.34s\tremaining: 1m 52s\n",
      "203:\tlearn: 0.7269069\ttest: 0.9621673\tbest: 0.9621673 (203)\ttotal: 2.35s\tremaining: 1m 52s\n",
      "204:\tlearn: 0.7255781\ttest: 0.9617667\tbest: 0.9617667 (204)\ttotal: 2.36s\tremaining: 1m 52s\n",
      "205:\tlearn: 0.7239615\ttest: 0.9617257\tbest: 0.9617257 (205)\ttotal: 2.37s\tremaining: 1m 52s\n",
      "206:\tlearn: 0.7229249\ttest: 0.9614366\tbest: 0.9614366 (206)\ttotal: 2.38s\tremaining: 1m 52s\n",
      "207:\tlearn: 0.7217106\ttest: 0.9615792\tbest: 0.9614366 (206)\ttotal: 2.4s\tremaining: 1m 52s\n",
      "208:\tlearn: 0.7206502\ttest: 0.9608950\tbest: 0.9608950 (208)\ttotal: 2.41s\tremaining: 1m 52s\n",
      "209:\tlearn: 0.7191749\ttest: 0.9602957\tbest: 0.9602957 (209)\ttotal: 2.42s\tremaining: 1m 52s\n",
      "210:\tlearn: 0.7173738\ttest: 0.9600403\tbest: 0.9600403 (210)\ttotal: 2.43s\tremaining: 1m 52s\n",
      "211:\tlearn: 0.7157529\ttest: 0.9595447\tbest: 0.9595447 (211)\ttotal: 2.44s\tremaining: 1m 52s\n",
      "212:\tlearn: 0.7145893\ttest: 0.9589777\tbest: 0.9589777 (212)\ttotal: 2.45s\tremaining: 1m 52s\n",
      "213:\tlearn: 0.7132542\ttest: 0.9587317\tbest: 0.9587317 (213)\ttotal: 2.46s\tremaining: 1m 52s\n",
      "214:\tlearn: 0.7119431\ttest: 0.9586708\tbest: 0.9586708 (214)\ttotal: 2.47s\tremaining: 1m 52s\n",
      "215:\tlearn: 0.7104635\ttest: 0.9585298\tbest: 0.9585298 (215)\ttotal: 2.48s\tremaining: 1m 52s\n",
      "216:\tlearn: 0.7095076\ttest: 0.9582097\tbest: 0.9582097 (216)\ttotal: 2.49s\tremaining: 1m 52s\n",
      "217:\tlearn: 0.7084503\ttest: 0.9580320\tbest: 0.9580320 (217)\ttotal: 2.5s\tremaining: 1m 52s\n",
      "218:\tlearn: 0.7074401\ttest: 0.9578418\tbest: 0.9578418 (218)\ttotal: 2.51s\tremaining: 1m 52s\n",
      "219:\tlearn: 0.7061731\ttest: 0.9572054\tbest: 0.9572054 (219)\ttotal: 2.52s\tremaining: 1m 52s\n",
      "220:\tlearn: 0.7048655\ttest: 0.9572820\tbest: 0.9572054 (219)\ttotal: 2.53s\tremaining: 1m 52s\n",
      "221:\tlearn: 0.7037326\ttest: 0.9574671\tbest: 0.9572054 (219)\ttotal: 2.54s\tremaining: 1m 52s\n",
      "222:\tlearn: 0.7025217\ttest: 0.9571320\tbest: 0.9571320 (222)\ttotal: 2.56s\tremaining: 1m 52s\n",
      "223:\tlearn: 0.7014971\ttest: 0.9570894\tbest: 0.9570894 (223)\ttotal: 2.57s\tremaining: 1m 52s\n",
      "224:\tlearn: 0.7001578\ttest: 0.9567659\tbest: 0.9567659 (224)\ttotal: 2.58s\tremaining: 1m 52s\n",
      "225:\tlearn: 0.6987830\ttest: 0.9567132\tbest: 0.9567132 (225)\ttotal: 2.59s\tremaining: 1m 52s\n",
      "226:\tlearn: 0.6977146\ttest: 0.9557670\tbest: 0.9557670 (226)\ttotal: 2.6s\tremaining: 1m 52s\n",
      "227:\tlearn: 0.6960880\ttest: 0.9556442\tbest: 0.9556442 (227)\ttotal: 2.61s\tremaining: 1m 51s\n",
      "228:\tlearn: 0.6948168\ttest: 0.9556649\tbest: 0.9556442 (227)\ttotal: 2.62s\tremaining: 1m 51s\n",
      "229:\tlearn: 0.6937264\ttest: 0.9558300\tbest: 0.9556442 (227)\ttotal: 2.64s\tremaining: 1m 52s\n",
      "230:\tlearn: 0.6926776\ttest: 0.9556613\tbest: 0.9556442 (227)\ttotal: 2.65s\tremaining: 1m 52s\n",
      "231:\tlearn: 0.6916274\ttest: 0.9554394\tbest: 0.9554394 (231)\ttotal: 2.66s\tremaining: 1m 52s\n",
      "232:\tlearn: 0.6902926\ttest: 0.9552449\tbest: 0.9552449 (232)\ttotal: 2.67s\tremaining: 1m 51s\n",
      "233:\tlearn: 0.6888118\ttest: 0.9547078\tbest: 0.9547078 (233)\ttotal: 2.68s\tremaining: 1m 51s\n",
      "234:\tlearn: 0.6874355\ttest: 0.9543589\tbest: 0.9543589 (234)\ttotal: 2.69s\tremaining: 1m 52s\n",
      "235:\tlearn: 0.6864602\ttest: 0.9535840\tbest: 0.9535840 (235)\ttotal: 2.71s\tremaining: 1m 52s\n",
      "236:\tlearn: 0.6852508\ttest: 0.9528744\tbest: 0.9528744 (236)\ttotal: 2.72s\tremaining: 1m 52s\n",
      "237:\tlearn: 0.6843318\ttest: 0.9526691\tbest: 0.9526691 (237)\ttotal: 2.73s\tremaining: 1m 52s\n",
      "238:\tlearn: 0.6829335\ttest: 0.9519475\tbest: 0.9519475 (238)\ttotal: 2.74s\tremaining: 1m 52s\n",
      "239:\tlearn: 0.6817863\ttest: 0.9515714\tbest: 0.9515714 (239)\ttotal: 2.76s\tremaining: 1m 52s\n",
      "240:\tlearn: 0.6808618\ttest: 0.9511137\tbest: 0.9511137 (240)\ttotal: 2.77s\tremaining: 1m 52s\n",
      "241:\tlearn: 0.6796271\ttest: 0.9508885\tbest: 0.9508885 (241)\ttotal: 2.79s\tremaining: 1m 52s\n",
      "242:\tlearn: 0.6780395\ttest: 0.9497837\tbest: 0.9497837 (242)\ttotal: 2.8s\tremaining: 1m 52s\n",
      "243:\tlearn: 0.6766312\ttest: 0.9494497\tbest: 0.9494497 (243)\ttotal: 2.81s\tremaining: 1m 52s\n",
      "244:\tlearn: 0.6755714\ttest: 0.9495002\tbest: 0.9494497 (243)\ttotal: 2.82s\tremaining: 1m 52s\n",
      "245:\tlearn: 0.6742852\ttest: 0.9484130\tbest: 0.9484130 (245)\ttotal: 2.83s\tremaining: 1m 52s\n",
      "246:\tlearn: 0.6730111\ttest: 0.9478959\tbest: 0.9478959 (246)\ttotal: 2.85s\tremaining: 1m 52s\n",
      "247:\tlearn: 0.6720343\ttest: 0.9472942\tbest: 0.9472942 (247)\ttotal: 2.86s\tremaining: 1m 52s\n",
      "248:\tlearn: 0.6707138\ttest: 0.9469310\tbest: 0.9469310 (248)\ttotal: 2.87s\tremaining: 1m 52s\n",
      "249:\tlearn: 0.6695004\ttest: 0.9468836\tbest: 0.9468836 (249)\ttotal: 2.88s\tremaining: 1m 52s\n",
      "250:\tlearn: 0.6682916\ttest: 0.9470246\tbest: 0.9468836 (249)\ttotal: 2.88s\tremaining: 1m 51s\n",
      "251:\tlearn: 0.6673154\ttest: 0.9466651\tbest: 0.9466651 (251)\ttotal: 2.89s\tremaining: 1m 51s\n",
      "252:\tlearn: 0.6661811\ttest: 0.9459423\tbest: 0.9459423 (252)\ttotal: 2.9s\tremaining: 1m 51s\n",
      "253:\tlearn: 0.6650862\ttest: 0.9458841\tbest: 0.9458841 (253)\ttotal: 2.92s\tremaining: 1m 51s\n",
      "254:\tlearn: 0.6638140\ttest: 0.9457240\tbest: 0.9457240 (254)\ttotal: 2.93s\tremaining: 1m 51s\n",
      "255:\tlearn: 0.6629376\ttest: 0.9456871\tbest: 0.9456871 (255)\ttotal: 2.94s\tremaining: 1m 51s\n",
      "256:\tlearn: 0.6621552\ttest: 0.9456939\tbest: 0.9456871 (255)\ttotal: 2.95s\tremaining: 1m 51s\n",
      "257:\tlearn: 0.6608792\ttest: 0.9455862\tbest: 0.9455862 (257)\ttotal: 2.97s\tremaining: 1m 52s\n",
      "258:\tlearn: 0.6602903\ttest: 0.9456497\tbest: 0.9455862 (257)\ttotal: 2.97s\tremaining: 1m 51s\n",
      "259:\tlearn: 0.6592293\ttest: 0.9456995\tbest: 0.9455862 (257)\ttotal: 2.98s\tremaining: 1m 51s\n",
      "260:\tlearn: 0.6581443\ttest: 0.9453065\tbest: 0.9453065 (260)\ttotal: 2.99s\tremaining: 1m 51s\n",
      "261:\tlearn: 0.6573704\ttest: 0.9458465\tbest: 0.9453065 (260)\ttotal: 3s\tremaining: 1m 51s\n",
      "262:\tlearn: 0.6563610\ttest: 0.9458325\tbest: 0.9453065 (260)\ttotal: 3.01s\tremaining: 1m 51s\n",
      "263:\tlearn: 0.6551085\ttest: 0.9455636\tbest: 0.9453065 (260)\ttotal: 3.02s\tremaining: 1m 51s\n",
      "264:\tlearn: 0.6533001\ttest: 0.9461647\tbest: 0.9453065 (260)\ttotal: 3.03s\tremaining: 1m 51s\n",
      "265:\tlearn: 0.6528108\ttest: 0.9462071\tbest: 0.9453065 (260)\ttotal: 3.04s\tremaining: 1m 51s\n",
      "266:\tlearn: 0.6520120\ttest: 0.9455054\tbest: 0.9453065 (260)\ttotal: 3.06s\tremaining: 1m 51s\n",
      "267:\tlearn: 0.6511814\ttest: 0.9451417\tbest: 0.9451417 (267)\ttotal: 3.06s\tremaining: 1m 51s\n",
      "268:\tlearn: 0.6500287\ttest: 0.9446963\tbest: 0.9446963 (268)\ttotal: 3.07s\tremaining: 1m 51s\n",
      "269:\tlearn: 0.6490388\ttest: 0.9439490\tbest: 0.9439490 (269)\ttotal: 3.08s\tremaining: 1m 50s\n",
      "270:\tlearn: 0.6480066\ttest: 0.9438812\tbest: 0.9438812 (270)\ttotal: 3.09s\tremaining: 1m 50s\n",
      "271:\tlearn: 0.6469131\ttest: 0.9439045\tbest: 0.9438812 (270)\ttotal: 3.1s\tremaining: 1m 50s\n",
      "272:\tlearn: 0.6460273\ttest: 0.9433244\tbest: 0.9433244 (272)\ttotal: 3.11s\tremaining: 1m 50s\n",
      "273:\tlearn: 0.6450550\ttest: 0.9436578\tbest: 0.9433244 (272)\ttotal: 3.13s\tremaining: 1m 50s\n",
      "274:\tlearn: 0.6438884\ttest: 0.9434035\tbest: 0.9433244 (272)\ttotal: 3.14s\tremaining: 1m 50s\n",
      "275:\tlearn: 0.6427318\ttest: 0.9431975\tbest: 0.9431975 (275)\ttotal: 3.15s\tremaining: 1m 51s\n",
      "276:\tlearn: 0.6418384\ttest: 0.9432989\tbest: 0.9431975 (275)\ttotal: 3.16s\tremaining: 1m 51s\n",
      "277:\tlearn: 0.6407731\ttest: 0.9425733\tbest: 0.9425733 (277)\ttotal: 3.18s\tremaining: 1m 51s\n",
      "278:\tlearn: 0.6397316\ttest: 0.9420577\tbest: 0.9420577 (278)\ttotal: 3.19s\tremaining: 1m 51s\n",
      "279:\tlearn: 0.6388934\ttest: 0.9413930\tbest: 0.9413930 (279)\ttotal: 3.2s\tremaining: 1m 51s\n",
      "280:\tlearn: 0.6378637\ttest: 0.9400506\tbest: 0.9400506 (280)\ttotal: 3.21s\tremaining: 1m 50s\n",
      "281:\tlearn: 0.6370414\ttest: 0.9402285\tbest: 0.9400506 (280)\ttotal: 3.22s\tremaining: 1m 50s\n",
      "282:\tlearn: 0.6355414\ttest: 0.9396553\tbest: 0.9396553 (282)\ttotal: 3.23s\tremaining: 1m 50s\n",
      "283:\tlearn: 0.6345248\ttest: 0.9395072\tbest: 0.9395072 (283)\ttotal: 3.24s\tremaining: 1m 50s\n",
      "284:\tlearn: 0.6333125\ttest: 0.9392084\tbest: 0.9392084 (284)\ttotal: 3.26s\tremaining: 1m 51s\n",
      "285:\tlearn: 0.6323977\ttest: 0.9393287\tbest: 0.9392084 (284)\ttotal: 3.27s\tremaining: 1m 51s\n",
      "286:\tlearn: 0.6313407\ttest: 0.9392032\tbest: 0.9392032 (286)\ttotal: 3.28s\tremaining: 1m 51s\n",
      "287:\tlearn: 0.6304681\ttest: 0.9392136\tbest: 0.9392032 (286)\ttotal: 3.29s\tremaining: 1m 51s\n",
      "288:\tlearn: 0.6293990\ttest: 0.9391228\tbest: 0.9391228 (288)\ttotal: 3.31s\tremaining: 1m 51s\n",
      "289:\tlearn: 0.6284032\ttest: 0.9391977\tbest: 0.9391228 (288)\ttotal: 3.32s\tremaining: 1m 51s\n",
      "290:\tlearn: 0.6275514\ttest: 0.9386361\tbest: 0.9386361 (290)\ttotal: 3.33s\tremaining: 1m 51s\n",
      "291:\tlearn: 0.6267490\ttest: 0.9381727\tbest: 0.9381727 (291)\ttotal: 3.34s\tremaining: 1m 51s\n",
      "292:\tlearn: 0.6258051\ttest: 0.9377779\tbest: 0.9377779 (292)\ttotal: 3.35s\tremaining: 1m 51s\n",
      "293:\tlearn: 0.6248147\ttest: 0.9380966\tbest: 0.9377779 (292)\ttotal: 3.36s\tremaining: 1m 51s\n",
      "294:\tlearn: 0.6239358\ttest: 0.9378257\tbest: 0.9377779 (292)\ttotal: 3.37s\tremaining: 1m 50s\n",
      "295:\tlearn: 0.6228309\ttest: 0.9374545\tbest: 0.9374545 (295)\ttotal: 3.38s\tremaining: 1m 50s\n",
      "296:\tlearn: 0.6220478\ttest: 0.9372326\tbest: 0.9372326 (296)\ttotal: 3.39s\tremaining: 1m 50s\n",
      "297:\tlearn: 0.6209812\ttest: 0.9366966\tbest: 0.9366966 (297)\ttotal: 3.4s\tremaining: 1m 50s\n",
      "298:\tlearn: 0.6201674\ttest: 0.9363374\tbest: 0.9363374 (298)\ttotal: 3.41s\tremaining: 1m 50s\n",
      "299:\tlearn: 0.6191030\ttest: 0.9355168\tbest: 0.9355168 (299)\ttotal: 3.43s\tremaining: 1m 50s\n",
      "300:\tlearn: 0.6178325\ttest: 0.9355724\tbest: 0.9355168 (299)\ttotal: 3.44s\tremaining: 1m 50s\n",
      "301:\tlearn: 0.6171983\ttest: 0.9353151\tbest: 0.9353151 (301)\ttotal: 3.44s\tremaining: 1m 50s\n",
      "302:\tlearn: 0.6158297\ttest: 0.9355706\tbest: 0.9353151 (301)\ttotal: 3.45s\tremaining: 1m 50s\n",
      "303:\tlearn: 0.6148482\ttest: 0.9350821\tbest: 0.9350821 (303)\ttotal: 3.46s\tremaining: 1m 50s\n",
      "304:\tlearn: 0.6137127\ttest: 0.9350012\tbest: 0.9350012 (304)\ttotal: 3.47s\tremaining: 1m 50s\n",
      "305:\tlearn: 0.6126216\ttest: 0.9347574\tbest: 0.9347574 (305)\ttotal: 3.48s\tremaining: 1m 50s\n",
      "306:\tlearn: 0.6115355\ttest: 0.9347148\tbest: 0.9347148 (306)\ttotal: 3.49s\tremaining: 1m 50s\n",
      "307:\tlearn: 0.6106203\ttest: 0.9351107\tbest: 0.9347148 (306)\ttotal: 3.5s\tremaining: 1m 50s\n",
      "308:\tlearn: 0.6096252\ttest: 0.9353057\tbest: 0.9347148 (306)\ttotal: 3.51s\tremaining: 1m 50s\n",
      "309:\tlearn: 0.6088622\ttest: 0.9352978\tbest: 0.9347148 (306)\ttotal: 3.52s\tremaining: 1m 50s\n",
      "310:\tlearn: 0.6077935\ttest: 0.9350746\tbest: 0.9347148 (306)\ttotal: 3.54s\tremaining: 1m 50s\n",
      "311:\tlearn: 0.6070411\ttest: 0.9348082\tbest: 0.9347148 (306)\ttotal: 3.55s\tremaining: 1m 50s\n",
      "312:\tlearn: 0.6064462\ttest: 0.9343489\tbest: 0.9343489 (312)\ttotal: 3.55s\tremaining: 1m 49s\n",
      "313:\tlearn: 0.6056313\ttest: 0.9337608\tbest: 0.9337608 (313)\ttotal: 3.57s\tremaining: 1m 50s\n",
      "314:\tlearn: 0.6046192\ttest: 0.9337324\tbest: 0.9337324 (314)\ttotal: 3.58s\tremaining: 1m 50s\n",
      "315:\tlearn: 0.6036513\ttest: 0.9337205\tbest: 0.9337205 (315)\ttotal: 3.59s\tremaining: 1m 50s\n",
      "316:\tlearn: 0.6027644\ttest: 0.9332418\tbest: 0.9332418 (316)\ttotal: 3.6s\tremaining: 1m 49s\n",
      "317:\tlearn: 0.6017124\ttest: 0.9326448\tbest: 0.9326448 (317)\ttotal: 3.62s\tremaining: 1m 50s\n",
      "318:\tlearn: 0.6007274\ttest: 0.9326326\tbest: 0.9326326 (318)\ttotal: 3.62s\tremaining: 1m 49s\n",
      "319:\tlearn: 0.5999037\ttest: 0.9325687\tbest: 0.9325687 (319)\ttotal: 3.63s\tremaining: 1m 49s\n",
      "320:\tlearn: 0.5987143\ttest: 0.9331588\tbest: 0.9325687 (319)\ttotal: 3.64s\tremaining: 1m 49s\n",
      "321:\tlearn: 0.5978031\ttest: 0.9327291\tbest: 0.9325687 (319)\ttotal: 3.65s\tremaining: 1m 49s\n",
      "322:\tlearn: 0.5969716\ttest: 0.9326873\tbest: 0.9325687 (319)\ttotal: 3.66s\tremaining: 1m 49s\n",
      "323:\tlearn: 0.5957897\ttest: 0.9323209\tbest: 0.9323209 (323)\ttotal: 3.67s\tremaining: 1m 49s\n",
      "324:\tlearn: 0.5949276\ttest: 0.9320514\tbest: 0.9320514 (324)\ttotal: 3.68s\tremaining: 1m 49s\n",
      "325:\tlearn: 0.5939245\ttest: 0.9319991\tbest: 0.9319991 (325)\ttotal: 3.69s\tremaining: 1m 49s\n",
      "326:\tlearn: 0.5928948\ttest: 0.9317884\tbest: 0.9317884 (326)\ttotal: 3.7s\tremaining: 1m 49s\n",
      "327:\tlearn: 0.5920537\ttest: 0.9318994\tbest: 0.9317884 (326)\ttotal: 3.71s\tremaining: 1m 49s\n",
      "328:\tlearn: 0.5911913\ttest: 0.9317638\tbest: 0.9317638 (328)\ttotal: 3.73s\tremaining: 1m 49s\n",
      "329:\tlearn: 0.5899900\ttest: 0.9319567\tbest: 0.9317638 (328)\ttotal: 3.73s\tremaining: 1m 49s\n",
      "330:\tlearn: 0.5887897\ttest: 0.9318045\tbest: 0.9317638 (328)\ttotal: 3.74s\tremaining: 1m 49s\n",
      "331:\tlearn: 0.5880191\ttest: 0.9317704\tbest: 0.9317638 (328)\ttotal: 3.76s\tremaining: 1m 49s\n",
      "332:\tlearn: 0.5871181\ttest: 0.9318169\tbest: 0.9317638 (328)\ttotal: 3.77s\tremaining: 1m 49s\n",
      "333:\tlearn: 0.5861509\ttest: 0.9315832\tbest: 0.9315832 (333)\ttotal: 3.78s\tremaining: 1m 49s\n",
      "334:\tlearn: 0.5851083\ttest: 0.9319563\tbest: 0.9315832 (333)\ttotal: 3.79s\tremaining: 1m 49s\n",
      "335:\tlearn: 0.5841344\ttest: 0.9318470\tbest: 0.9315832 (333)\ttotal: 3.8s\tremaining: 1m 49s\n",
      "336:\tlearn: 0.5833063\ttest: 0.9316132\tbest: 0.9315832 (333)\ttotal: 3.81s\tremaining: 1m 49s\n",
      "337:\tlearn: 0.5824415\ttest: 0.9314061\tbest: 0.9314061 (337)\ttotal: 3.83s\tremaining: 1m 49s\n",
      "338:\tlearn: 0.5815899\ttest: 0.9314303\tbest: 0.9314061 (337)\ttotal: 3.84s\tremaining: 1m 49s\n",
      "339:\tlearn: 0.5805940\ttest: 0.9315396\tbest: 0.9314061 (337)\ttotal: 3.86s\tremaining: 1m 49s\n",
      "340:\tlearn: 0.5795552\ttest: 0.9314277\tbest: 0.9314061 (337)\ttotal: 3.87s\tremaining: 1m 49s\n",
      "341:\tlearn: 0.5784528\ttest: 0.9307993\tbest: 0.9307993 (341)\ttotal: 3.88s\tremaining: 1m 49s\n",
      "342:\tlearn: 0.5774653\ttest: 0.9307006\tbest: 0.9307006 (342)\ttotal: 3.89s\tremaining: 1m 49s\n",
      "343:\tlearn: 0.5764635\ttest: 0.9297502\tbest: 0.9297502 (343)\ttotal: 3.91s\tremaining: 1m 49s\n",
      "344:\tlearn: 0.5755414\ttest: 0.9297131\tbest: 0.9297131 (344)\ttotal: 3.92s\tremaining: 1m 49s\n",
      "345:\tlearn: 0.5746490\ttest: 0.9298887\tbest: 0.9297131 (344)\ttotal: 3.93s\tremaining: 1m 49s\n",
      "346:\tlearn: 0.5736766\ttest: 0.9289735\tbest: 0.9289735 (346)\ttotal: 3.94s\tremaining: 1m 49s\n",
      "347:\tlearn: 0.5726661\ttest: 0.9285838\tbest: 0.9285838 (347)\ttotal: 3.95s\tremaining: 1m 49s\n",
      "348:\tlearn: 0.5720136\ttest: 0.9282608\tbest: 0.9282608 (348)\ttotal: 3.96s\tremaining: 1m 49s\n",
      "349:\tlearn: 0.5711673\ttest: 0.9284039\tbest: 0.9282608 (348)\ttotal: 3.98s\tremaining: 1m 49s\n",
      "350:\tlearn: 0.5704642\ttest: 0.9283621\tbest: 0.9282608 (348)\ttotal: 3.99s\tremaining: 1m 49s\n",
      "351:\tlearn: 0.5695738\ttest: 0.9277402\tbest: 0.9277402 (351)\ttotal: 3.99s\tremaining: 1m 49s\n",
      "352:\tlearn: 0.5688319\ttest: 0.9270165\tbest: 0.9270165 (352)\ttotal: 4s\tremaining: 1m 49s\n",
      "353:\tlearn: 0.5678147\ttest: 0.9269366\tbest: 0.9269366 (353)\ttotal: 4.01s\tremaining: 1m 49s\n",
      "354:\tlearn: 0.5667037\ttest: 0.9269699\tbest: 0.9269366 (353)\ttotal: 4.03s\tremaining: 1m 49s\n",
      "355:\tlearn: 0.5657229\ttest: 0.9268052\tbest: 0.9268052 (355)\ttotal: 4.04s\tremaining: 1m 49s\n",
      "356:\tlearn: 0.5651496\ttest: 0.9264842\tbest: 0.9264842 (356)\ttotal: 4.05s\tremaining: 1m 49s\n",
      "357:\tlearn: 0.5641707\ttest: 0.9270411\tbest: 0.9264842 (356)\ttotal: 4.06s\tremaining: 1m 49s\n",
      "358:\tlearn: 0.5633610\ttest: 0.9266912\tbest: 0.9264842 (356)\ttotal: 4.07s\tremaining: 1m 49s\n",
      "359:\tlearn: 0.5624200\ttest: 0.9263597\tbest: 0.9263597 (359)\ttotal: 4.08s\tremaining: 1m 49s\n",
      "360:\tlearn: 0.5615995\ttest: 0.9261650\tbest: 0.9261650 (360)\ttotal: 4.09s\tremaining: 1m 49s\n",
      "361:\tlearn: 0.5611015\ttest: 0.9259621\tbest: 0.9259621 (361)\ttotal: 4.1s\tremaining: 1m 49s\n",
      "362:\tlearn: 0.5604168\ttest: 0.9260605\tbest: 0.9259621 (361)\ttotal: 4.11s\tremaining: 1m 49s\n",
      "363:\tlearn: 0.5597859\ttest: 0.9256136\tbest: 0.9256136 (363)\ttotal: 4.12s\tremaining: 1m 49s\n",
      "364:\tlearn: 0.5588722\ttest: 0.9249597\tbest: 0.9249597 (364)\ttotal: 4.13s\tremaining: 1m 49s\n",
      "365:\tlearn: 0.5582749\ttest: 0.9247160\tbest: 0.9247160 (365)\ttotal: 4.14s\tremaining: 1m 48s\n",
      "366:\tlearn: 0.5573481\ttest: 0.9244580\tbest: 0.9244580 (366)\ttotal: 4.15s\tremaining: 1m 48s\n",
      "367:\tlearn: 0.5566865\ttest: 0.9246277\tbest: 0.9244580 (366)\ttotal: 4.16s\tremaining: 1m 48s\n",
      "368:\tlearn: 0.5553594\ttest: 0.9248318\tbest: 0.9244580 (366)\ttotal: 4.17s\tremaining: 1m 48s\n",
      "369:\tlearn: 0.5541782\ttest: 0.9244975\tbest: 0.9244580 (366)\ttotal: 4.18s\tremaining: 1m 48s\n",
      "370:\tlearn: 0.5533049\ttest: 0.9244886\tbest: 0.9244580 (366)\ttotal: 4.19s\tremaining: 1m 48s\n",
      "371:\tlearn: 0.5522771\ttest: 0.9247631\tbest: 0.9244580 (366)\ttotal: 4.2s\tremaining: 1m 48s\n",
      "372:\tlearn: 0.5515101\ttest: 0.9248343\tbest: 0.9244580 (366)\ttotal: 4.21s\tremaining: 1m 48s\n",
      "373:\tlearn: 0.5507589\ttest: 0.9239230\tbest: 0.9239230 (373)\ttotal: 4.22s\tremaining: 1m 48s\n",
      "374:\tlearn: 0.5497093\ttest: 0.9238494\tbest: 0.9238494 (374)\ttotal: 4.23s\tremaining: 1m 48s\n",
      "375:\tlearn: 0.5489185\ttest: 0.9236540\tbest: 0.9236540 (375)\ttotal: 4.24s\tremaining: 1m 48s\n",
      "376:\tlearn: 0.5482392\ttest: 0.9236437\tbest: 0.9236437 (376)\ttotal: 4.25s\tremaining: 1m 48s\n",
      "377:\tlearn: 0.5474400\ttest: 0.9237355\tbest: 0.9236437 (376)\ttotal: 4.26s\tremaining: 1m 48s\n",
      "378:\tlearn: 0.5466283\ttest: 0.9238938\tbest: 0.9236437 (376)\ttotal: 4.27s\tremaining: 1m 48s\n",
      "379:\tlearn: 0.5461763\ttest: 0.9240346\tbest: 0.9236437 (376)\ttotal: 4.28s\tremaining: 1m 48s\n",
      "380:\tlearn: 0.5455321\ttest: 0.9236465\tbest: 0.9236437 (376)\ttotal: 4.3s\tremaining: 1m 48s\n",
      "381:\tlearn: 0.5446063\ttest: 0.9230629\tbest: 0.9230629 (381)\ttotal: 4.31s\tremaining: 1m 48s\n",
      "382:\tlearn: 0.5438431\ttest: 0.9229052\tbest: 0.9229052 (382)\ttotal: 4.32s\tremaining: 1m 48s\n",
      "383:\tlearn: 0.5430078\ttest: 0.9224052\tbest: 0.9224052 (383)\ttotal: 4.32s\tremaining: 1m 48s\n",
      "384:\tlearn: 0.5424381\ttest: 0.9220905\tbest: 0.9220905 (384)\ttotal: 4.33s\tremaining: 1m 48s\n",
      "385:\tlearn: 0.5416020\ttest: 0.9213761\tbest: 0.9213761 (385)\ttotal: 4.34s\tremaining: 1m 48s\n",
      "386:\tlearn: 0.5407213\ttest: 0.9213696\tbest: 0.9213696 (386)\ttotal: 4.35s\tremaining: 1m 48s\n",
      "387:\tlearn: 0.5398832\ttest: 0.9205000\tbest: 0.9205000 (387)\ttotal: 4.36s\tremaining: 1m 48s\n",
      "388:\tlearn: 0.5388266\ttest: 0.9209416\tbest: 0.9205000 (387)\ttotal: 4.38s\tremaining: 1m 48s\n",
      "389:\tlearn: 0.5379297\ttest: 0.9212115\tbest: 0.9205000 (387)\ttotal: 4.39s\tremaining: 1m 48s\n",
      "390:\tlearn: 0.5371517\ttest: 0.9206393\tbest: 0.9205000 (387)\ttotal: 4.4s\tremaining: 1m 48s\n",
      "391:\tlearn: 0.5362474\ttest: 0.9208796\tbest: 0.9205000 (387)\ttotal: 4.41s\tremaining: 1m 48s\n",
      "392:\tlearn: 0.5354590\ttest: 0.9212400\tbest: 0.9205000 (387)\ttotal: 4.43s\tremaining: 1m 48s\n",
      "393:\tlearn: 0.5344924\ttest: 0.9213964\tbest: 0.9205000 (387)\ttotal: 4.44s\tremaining: 1m 48s\n",
      "394:\tlearn: 0.5337785\ttest: 0.9215229\tbest: 0.9205000 (387)\ttotal: 4.45s\tremaining: 1m 48s\n",
      "395:\tlearn: 0.5329312\ttest: 0.9212670\tbest: 0.9205000 (387)\ttotal: 4.46s\tremaining: 1m 48s\n",
      "396:\tlearn: 0.5322334\ttest: 0.9212171\tbest: 0.9205000 (387)\ttotal: 4.47s\tremaining: 1m 48s\n",
      "397:\tlearn: 0.5314357\ttest: 0.9209269\tbest: 0.9205000 (387)\ttotal: 4.49s\tremaining: 1m 48s\n",
      "Stopped by overfitting detector  (10 iterations wait)\n",
      "\n",
      "bestTest = 0.9204999604\n",
      "bestIteration = 387\n",
      "\n",
      "Shrink model to first 388 iterations.\n"
     ]
    },
    {
     "data": {
      "text/plain": [
       "<catboost.core.CatBoostClassifier at 0x2bb42ebb770>"
      ]
     },
     "execution_count": 111,
     "metadata": {},
     "output_type": "execute_result"
    }
   ],
   "source": [
    "model = CatBoostClassifier(learning_rate=0.01, max_depth=9, n_estimators=10000, random_state=1)\n",
    "\n",
    "model.fit(X_train, y_train, eval_set=eval_set, verbose = 1, early_stopping_rounds=10)"
   ]
  },
  {
   "cell_type": "code",
   "execution_count": 112,
   "id": "73c58522",
   "metadata": {},
   "outputs": [
    {
     "data": {
      "text/plain": [
       "array([3.93849915e+00, 4.23269606e+00, 4.33744056e+00, 4.46448098e+00,\n",
       "       6.55110975e-02, 2.79374315e+00, 9.08980442e-01, 6.90378819e+00,\n",
       "       5.59696440e+00, 3.24725625e+00, 2.16043805e+00, 4.66725560e+00,\n",
       "       7.72576035e+00, 3.54298356e+00, 1.01425399e+01, 3.40158148e+00,\n",
       "       3.11324907e+00, 6.68298940e+00, 2.43863866e-01, 7.61775560e+00,\n",
       "       4.23564049e-01, 2.03222184e-01, 2.51769294e-01, 5.08560036e-01,\n",
       "       1.65613540e+00, 1.02541771e-04, 2.91676062e-03, 1.58501938e-01,\n",
       "       8.67426445e-04, 3.91670608e-01, 8.89274245e-02, 0.00000000e+00,\n",
       "       9.34930389e-02, 0.00000000e+00, 7.88683419e-01, 2.33843157e-01,\n",
       "       3.19399045e-01, 1.05092453e-02, 4.57541347e-03, 0.00000000e+00,\n",
       "       2.58393391e-02, 1.06509632e-01, 3.60297076e-02, 2.66016376e-02,\n",
       "       6.76943660e-02, 1.51364399e-01, 1.02223867e-01, 4.27493214e-03,\n",
       "       1.80692327e-02, 1.23194757e-01, 5.20982135e-01, 8.35214902e-02,\n",
       "       1.06248645e-02, 3.20281493e-01, 6.17311618e-01, 3.05675726e-01,\n",
       "       5.57326713e-02, 1.84916146e-01, 2.08248087e+00, 5.87838290e-02,\n",
       "       9.28226477e-01, 8.86121585e-02, 1.52198864e-01, 1.70147740e-03,\n",
       "       1.85594525e-03, 3.73792667e-03, 0.00000000e+00, 6.98754667e-02,\n",
       "       4.49734700e-02, 1.25342854e-02, 1.84388700e-02, 0.00000000e+00,\n",
       "       3.71731992e-02, 2.51456682e-03, 1.06318511e-02, 0.00000000e+00,\n",
       "       8.28911048e-03, 1.37414066e-01, 2.46658136e-02, 2.43503138e-02,\n",
       "       8.58152157e-02, 4.00169590e-01, 6.87479133e-02, 0.00000000e+00,\n",
       "       7.27850055e-02, 0.00000000e+00, 4.32724693e-03, 5.52600008e-04,\n",
       "       6.36567057e-02, 3.80057109e-02, 3.28993818e-02, 1.59761327e-02,\n",
       "       1.42452105e-01, 2.75095872e-01, 1.02727109e-02, 9.81606532e-02,\n",
       "       8.28412838e-02, 3.75038563e-02, 1.01104973e-02, 4.74553280e-02,\n",
       "       5.17671958e-02, 4.35092962e-03, 1.45161251e-01, 6.76420790e-03,\n",
       "       0.00000000e+00, 1.76688849e-01, 9.94281470e-03, 4.58457476e-01,\n",
       "       1.08553613e-01, 1.93843778e-02, 8.92168592e-02, 0.00000000e+00,\n",
       "       1.71252111e-02, 3.19346254e-02])"
      ]
     },
     "execution_count": 112,
     "metadata": {},
     "output_type": "execute_result"
    }
   ],
   "source": [
    "model.feature_importances_"
   ]
  },
  {
   "cell_type": "code",
   "execution_count": 113,
   "id": "1f3e4a1a",
   "metadata": {},
   "outputs": [
    {
     "data": {
      "text/plain": [
       "Text(0.5, 1.0, 'Feature Importance')"
      ]
     },
     "execution_count": 113,
     "metadata": {},
     "output_type": "execute_result"
    },
    {
     "data": {
      "image/png": "[encoded data removed]",
      "text/plain": [
       "<Figure size 1200x600 with 1 Axes>"
      ]
     },
     "metadata": {},
     "output_type": "display_data"
    }
   ],
   "source": [
    "feature_importance = model.feature_importances_\n",
    "sorted_idx = np.argsort(feature_importance)\n",
    "fig = plt.figure(figsize=(12, 6))\n",
    "plt.barh(range(20), feature_importance[sorted_idx][-20:], align='center')\n",
    "plt.yticks(range(20), np.array(X_test.columns)[sorted_idx][-20:])\n",
    "plt.title('Feature Importance')"
   ]
  },
  {
   "cell_type": "code",
   "execution_count": 114,
   "id": "990f25b0",
   "metadata": {},
   "outputs": [
    {
     "data": {
      "text/plain": [
       "0.9701492537313433"
      ]
     },
     "execution_count": 114,
     "metadata": {},
     "output_type": "execute_result"
    }
   ],
   "source": [
    "score = model.score(X_train, y_train)  \n",
    "score"
   ]
  },
  {
   "cell_type": "code",
   "execution_count": 115,
   "id": "52edb703",
   "metadata": {},
   "outputs": [
    {
     "data": {
      "text/plain": [
       "17"
      ]
     },
     "execution_count": 115,
     "metadata": {},
     "output_type": "execute_result"
    }
   ],
   "source": [
    "y_pred = model.predict(X_test)\n",
    "predictions = [int(value) for value in y_pred]\n",
    "len(predictions)"
   ]
  },
  {
   "cell_type": "code",
   "execution_count": 116,
   "id": "dccdf407",
   "metadata": {},
   "outputs": [
    {
     "data": {
      "image/png": "[encoded data removed]",
      "text/plain": [
       "<Figure size 640x480 with 2 Axes>"
      ]
     },
     "metadata": {},
     "output_type": "display_data"
    }
   ],
   "source": [
    "sns.heatmap(confusion_matrix(y_test, predictions), \n",
    "            annot=True,\n",
    "            fmt='g')\n",
    "plt.ylabel('Acontecido',fontsize=13)\n",
    "plt.xlabel('Previsão',fontsize=13)\n",
    "plt.show()"
   ]
  },
  {
   "cell_type": "code",
   "execution_count": 117,
   "id": "18842aa8",
   "metadata": {},
   "outputs": [
    {
     "name": "stdout",
     "output_type": "stream",
     "text": [
      "              precision    recall  f1-score   support\n",
      "\n",
      "           0       0.00      0.00      0.00         1\n",
      "           1       0.53      1.00      0.70         8\n",
      "           2       0.00      0.00      0.00         8\n",
      "\n",
      "    accuracy                           0.47        17\n",
      "   macro avg       0.18      0.33      0.23        17\n",
      "weighted avg       0.25      0.47      0.33        17\n",
      "\n"
     ]
    }
   ],
   "source": [
    "print(classification_report(y_test, predictions))"
   ]
  },
  {
   "cell_type": "markdown",
   "id": "00978204",
   "metadata": {},
   "source": [
    "##### Previsões"
   ]
  },
  {
   "cell_type": "code",
   "execution_count": 119,
   "id": "3bf42e47",
   "metadata": {},
   "outputs": [
    {
     "data": {
      "text/plain": [
       "array([[2]], dtype=int64)"
      ]
     },
     "execution_count": 119,
     "metadata": {},
     "output_type": "execute_result"
    }
   ],
   "source": [
    "model.predict(dataset_previsao_modelo)"
   ]
  }
 ],
 "metadata": {
  "kernelspec": {
   "display_name": "Python 3 (ipykernel)",
   "language": "python",
   "name": "python3"
  },
  "language_info": {
   "codemirror_mode": {
    "name": "ipython",
    "version": 3
   },
   "file_extension": ".py",
   "mimetype": "text/x-python",
   "name": "python",
   "nbconvert_exporter": "python",
   "pygments_lexer": "ipython3",
   "version": "3.12.4"
  }
 },
 "nbformat": 4,
 "nbformat_minor": 5
}
