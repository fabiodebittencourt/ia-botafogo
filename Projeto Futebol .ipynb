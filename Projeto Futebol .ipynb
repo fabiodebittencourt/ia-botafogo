{
 "cells": [
  {
   "cell_type": "markdown",
   "id": "184c39e7",
   "metadata": {},
   "source": [
    "### Bibliotecas"
   ]
  },
  {
   "cell_type": "code",
   "execution_count": 1,
   "id": "95fb1707",
   "metadata": {},
   "outputs": [],
   "source": [
    "import pandas as pd\n",
    "from datetime import datetime, date\n",
    "from matplotlib import pyplot as plt\n",
    "from scipy import stats\n",
    "from patsy import dmatrices\n",
    "from xgboost import XGBRegressor, XGBClassifier, plot_importance\n",
    "from sklearn.model_selection import train_test_split, GridSearchCV\n",
    "from sklearn.metrics import mean_squared_error, mean_absolute_error, confusion_matrix, classification_report\n",
    "from math import sqrt\n",
    "import seaborn as sns\n",
    "import warnings\n",
    "warnings.filterwarnings(\"ignore\")"
   ]
  },
  {
   "cell_type": "markdown",
   "id": "1422de3a",
   "metadata": {},
   "source": [
    "### Importação dos Dados e Criação de Variáveis"
   ]
  },
  {
   "cell_type": "code",
   "execution_count": 2,
   "id": "e1d96fc8",
   "metadata": {},
   "outputs": [],
   "source": [
    "dataset_dados = pd.read_excel('botafogo_previsao_estadio.xlsx')"
   ]
  },
  {
   "cell_type": "code",
   "execution_count": 3,
   "id": "ac4572b5",
   "metadata": {},
   "outputs": [],
   "source": [
    "dataset_dados = dataset_dados.sort_values(by='data').reset_index(drop=True)"
   ]
  },
  {
   "cell_type": "markdown",
   "id": "385bef93",
   "metadata": {},
   "source": [
    "##### Datas"
   ]
  },
  {
   "cell_type": "code",
   "execution_count": 4,
   "id": "7424eef5",
   "metadata": {},
   "outputs": [],
   "source": [
    "dataset_dados['data'] = pd.to_datetime(dataset_dados['data'])"
   ]
  },
  {
   "cell_type": "code",
   "execution_count": 5,
   "id": "31787eae",
   "metadata": {},
   "outputs": [],
   "source": [
    "for i in range(len(dataset_dados)):\n",
    "    dataset_dados.loc[i, 'dia_semana'] = dataset_dados['data'][i].weekday()\n",
    "    dataset_dados.loc[i, 'hora'] = int(str(dataset_dados['horario'][0])[:2])\n",
    "    dataset_dados.loc[i, 'minuto'] = int(str(dataset_dados['horario'][0])[3:5])"
   ]
  },
  {
   "cell_type": "code",
   "execution_count": 6,
   "id": "331482a4",
   "metadata": {},
   "outputs": [],
   "source": [
    "dataset_dados['mes'] = dataset_dados['data'].dt.month"
   ]
  },
  {
   "cell_type": "code",
   "execution_count": 7,
   "id": "5d228461",
   "metadata": {},
   "outputs": [],
   "source": [
    "dataset_dados['dia_mes'] = dataset_dados['data'].dt.day"
   ]
  },
  {
   "cell_type": "markdown",
   "id": "b1b7651c",
   "metadata": {},
   "source": [
    "##### Resultados de Jogos"
   ]
  },
  {
   "cell_type": "code",
   "execution_count": 8,
   "id": "7b83df4b",
   "metadata": {},
   "outputs": [],
   "source": [
    "dataset_dados['resultado_temporario'] = dataset_dados['gols_mandante'] - dataset_dados['gols_visitantes']"
   ]
  },
  {
   "cell_type": "code",
   "execution_count": 9,
   "id": "37e60e25",
   "metadata": {},
   "outputs": [],
   "source": [
    "for i in range(len(dataset_dados)):\n",
    "    if dataset_dados['resultado_temporario'][i] == 0:\n",
    "        dataset_dados.loc[i, 'resultado_partida'] = 0\n",
    "    elif dataset_dados['resultado_temporario'][i] > 0:\n",
    "        dataset_dados.loc[i, 'resultado_partida'] = 1\n",
    "    else:\n",
    "        dataset_dados.loc[i, 'resultado_partida'] = -1"
   ]
  },
  {
   "cell_type": "code",
   "execution_count": 10,
   "id": "a9eb95b3",
   "metadata": {},
   "outputs": [],
   "source": [
    "dataset_dados.loc[dataset_dados[\n",
    "    (dataset_dados['time_mandante'] != 'Botafogo') &\n",
    "    (dataset_dados['resultado_partida'] == 1)\n",
    "].index, 'resultado_partida'] = -1"
   ]
  },
  {
   "cell_type": "code",
   "execution_count": 11,
   "id": "7edaedd7",
   "metadata": {},
   "outputs": [],
   "source": [
    "dataset_dados.loc[dataset_dados[\n",
    "    (dataset_dados['time_mandante'] != 'Botafogo') &\n",
    "    (dataset_dados['resultado_partida'] == -1)\n",
    "].index, 'resultado_partida'] = 1"
   ]
  },
  {
   "cell_type": "markdown",
   "id": "2a4a35a4",
   "metadata": {},
   "source": [
    "Resultados Consecutivos\n",
    "\n",
    "    Olhando para os últimos 5 jogos como vem sendo o \"momento\" do time:\n",
    "        Vitória: 1 ponto\n",
    "        Empate: 0 ponto\n",
    "        Derrota: -1 ponto\n",
    "        \n",
    "    Valor Máximo: 5 pontos\n",
    "    Valor Mínimo: -5 pontos"
   ]
  },
  {
   "cell_type": "code",
   "execution_count": 12,
   "id": "840a5985",
   "metadata": {},
   "outputs": [],
   "source": [
    "#RESULTADOS CONSECUTIVOS\n",
    "    \n",
    "for i in range(len(dataset_dados)):\n",
    "    valor = dataset_dados['resultado_partida'].shift(5, fill_value=0)[i+0:5+i].sum()\n",
    "    dataset_dados.loc[i, 'resultados_consecutivos'] = valor\n",
    "    \n",
    "#RESULTADO ÚLTIMO JOGO\n",
    "\n",
    "for i in range(len(dataset_dados)):\n",
    "    valor = dataset_dados['resultado_partida'].shift(1, fill_value=0)[i+0:5+i].sum()\n",
    "    dataset_dados.loc[i, 'resultados_ultimo_jogo'] = valor"
   ]
  },
  {
   "cell_type": "markdown",
   "id": "12190c65",
   "metadata": {},
   "source": [
    "##### Gols, Colocação e Time Adversário"
   ]
  },
  {
   "cell_type": "code",
   "execution_count": 13,
   "id": "2af54131",
   "metadata": {},
   "outputs": [],
   "source": [
    "for i in range(len(dataset_dados)):\n",
    "    if dataset_dados['time_mandante'][i] == 'Botafogo':\n",
    "        dataset_dados.loc[i, 'gols_botafogo'] = dataset_dados['gols_mandante'][i]\n",
    "        dataset_dados.loc[i, 'colocacao_botafogo'] = dataset_dados['colocacao_mandante'][i]\n",
    "        dataset_dados.loc[i, 'colocacao_adversario'] = dataset_dados['colocacao_visitante'][i]\n",
    "        dataset_dados.loc[i, 'time_adversario'] = dataset_dados['time_visitante'][i]\n",
    "    else:\n",
    "        dataset_dados.loc[i, 'gols_botafogo'] = dataset_dados['gols_visitantes'][i]\n",
    "        dataset_dados.loc[i, 'colocacao_botafogo'] = dataset_dados['colocacao_visitante'][i]\n",
    "        dataset_dados.loc[i, 'colocacao_adversario'] = dataset_dados['colocacao_mandante'][i]\n",
    "        dataset_dados.loc[i, 'time_adversario'] = dataset_dados['time_mandante'][i] \n",
    "for i in range(len(dataset_dados)):\n",
    "    valor = dataset_dados['gols_botafogo'].shift(5, fill_value=0)[i+0:5+i].sum()\n",
    "    dataset_dados.loc[i, 'gols_botafogo_ultimos_jogos'] = valor"
   ]
  },
  {
   "cell_type": "markdown",
   "id": "fee56d99",
   "metadata": {},
   "source": [
    "##### Percentual de Ocupacao"
   ]
  },
  {
   "cell_type": "code",
   "execution_count": 14,
   "id": "c490eb6c",
   "metadata": {},
   "outputs": [],
   "source": [
    "dataset_dados['percentual_ocupacao'] = round((dataset_dados['publico'] / dataset_dados['publico_max']) * 100, 2)"
   ]
  },
  {
   "cell_type": "markdown",
   "id": "032343da",
   "metadata": {},
   "source": [
    "##### Jogos de Mando Vendido ou Compartilhado"
   ]
  },
  {
   "cell_type": "code",
   "execution_count": 15,
   "id": "2c55fad1",
   "metadata": {},
   "outputs": [],
   "source": [
    "dados_mando_vendido = dataset_dados[(dataset_dados['resultado_financeiro'] != dataset_dados['custo_botafogo'])]\n",
    "index = dados_mando_vendido[~dados_mando_vendido['custo_botafogo'].isnull()].index"
   ]
  },
  {
   "cell_type": "code",
   "execution_count": 16,
   "id": "7ae377bd",
   "metadata": {},
   "outputs": [],
   "source": [
    "dataset_dados['mando_vendido_compartilhado'] = False\n",
    "dataset_dados.loc[index, 'mando_vendido_compartilhado'] = True"
   ]
  },
  {
   "cell_type": "markdown",
   "id": "43e02cf6",
   "metadata": {},
   "source": [
    "##### Prejuízo ou Lucro"
   ]
  },
  {
   "cell_type": "code",
   "execution_count": 17,
   "id": "825e8f6f",
   "metadata": {},
   "outputs": [],
   "source": [
    "index = dataset_dados[dataset_dados['custo_botafogo'] <= 0].index\n",
    "dataset_dados.loc[index, 'prejuizo_lucro'] = False\n",
    "index = dataset_dados[dataset_dados['custo_botafogo'] > 0].index\n",
    "dataset_dados.loc[index, 'prejuizo_lucro'] = True"
   ]
  },
  {
   "cell_type": "markdown",
   "id": "dc0a180b",
   "metadata": {},
   "source": [
    "Competições Internacionais não possuem o borderô publicado a partir de certa data, portanto vamos considerar uma regra:\n",
    "\n",
    "    Nunca houve prejuízo em jogos com 900000 reais de arrecadação"
   ]
  },
  {
   "cell_type": "code",
   "execution_count": 18,
   "id": "05d2b208",
   "metadata": {},
   "outputs": [],
   "source": [
    "index = dataset_dados[(dataset_dados['custo_botafogo'].isnull()) &\n",
    "              (dataset_dados['arrecadacao'] < 900000)\n",
    "             ].index\n",
    "dataset_dados.loc[index, 'prejuizo_lucro'] = False\n",
    "index = dataset_dados[(dataset_dados['custo_botafogo'].isnull()) &\n",
    "              (dataset_dados['arrecadacao'] >= 900000)\n",
    "             ].index\n",
    "dataset_dados.loc[index, 'prejuizo_lucro'] = True"
   ]
  },
  {
   "cell_type": "markdown",
   "id": "8ae6ae4c",
   "metadata": {},
   "source": [
    "### Dados Usáveis para o Modelo e Tratamentos"
   ]
  },
  {
   "cell_type": "code",
   "execution_count": 19,
   "id": "cee07f5c",
   "metadata": {},
   "outputs": [],
   "source": [
    "dataset_dados = dataset_dados[dataset_dados['time_mandante'] == 'Botafogo']\n",
    "dataset_dados = dataset_dados.reset_index(drop=True)"
   ]
  },
  {
   "cell_type": "markdown",
   "id": "20476ede",
   "metadata": {},
   "source": [
    "##### Distância dos Dias entre o Último Jogo em Casa"
   ]
  },
  {
   "cell_type": "code",
   "execution_count": 20,
   "id": "bda1492e",
   "metadata": {},
   "outputs": [],
   "source": [
    "dataset_dados['data_ultimo_jogo'] = dataset_dados['data'].shift(1)"
   ]
  },
  {
   "cell_type": "code",
   "execution_count": 21,
   "id": "cabe5e6e",
   "metadata": {},
   "outputs": [],
   "source": [
    "dataset_dados.loc[0,'data_ultimo_jogo'] = pd.to_datetime('2022-03-07')"
   ]
  },
  {
   "cell_type": "code",
   "execution_count": 22,
   "id": "87842ace",
   "metadata": {},
   "outputs": [],
   "source": [
    "for i in range(len(dataset_dados)):\n",
    "    dias = (dataset_dados['data'][i] - dataset_dados['data_ultimo_jogo'][i]).days\n",
    "    dataset_dados.loc[i, 'dias_ultimo_jogo_casa'] = dias"
   ]
  },
  {
   "cell_type": "markdown",
   "id": "456dd701",
   "metadata": {},
   "source": [
    "##### Tratamentos"
   ]
  },
  {
   "cell_type": "code",
   "execution_count": 23,
   "id": "f284f239",
   "metadata": {},
   "outputs": [
    {
     "data": {
      "text/plain": [
       "92"
      ]
     },
     "execution_count": 23,
     "metadata": {},
     "output_type": "execute_result"
    }
   ],
   "source": [
    "len(dataset_dados)"
   ]
  },
  {
   "cell_type": "code",
   "execution_count": 24,
   "id": "02d8b9b3",
   "metadata": {},
   "outputs": [
    {
     "data": {
      "text/plain": [
       "Index(['ano_campeonato', 'campeonato', 'fase', 'estádio', 'data', 'horario',\n",
       "       'temperatura', 'jogos_no_mes', 'rodada', 'tipo_partida', 'publico',\n",
       "       'publico_max', 'arrecadacao', 'despesas', 'impostos',\n",
       "       'resultado_financeiro', 'custo_botafogo', 'anunciou_poupar',\n",
       "       'time_mandante', 'time_visitante', 'estado_adversario', 'classico',\n",
       "       'eliminatorio', 'tecnico_botafogo', 'desfalques', 'colocacao_mandante',\n",
       "       'colocacao_visitante', 'gols_mandante', 'gols_visitantes', 'dia_semana',\n",
       "       'hora', 'minuto', 'mes', 'dia_mes', 'resultado_temporario',\n",
       "       'resultado_partida', 'resultados_consecutivos',\n",
       "       'resultados_ultimo_jogo', 'gols_botafogo', 'colocacao_botafogo',\n",
       "       'colocacao_adversario', 'time_adversario',\n",
       "       'gols_botafogo_ultimos_jogos', 'percentual_ocupacao',\n",
       "       'mando_vendido_compartilhado', 'prejuizo_lucro', 'data_ultimo_jogo',\n",
       "       'dias_ultimo_jogo_casa'],\n",
       "      dtype='object')"
      ]
     },
     "execution_count": 24,
     "metadata": {},
     "output_type": "execute_result"
    }
   ],
   "source": [
    "dataset_dados.columns"
   ]
  },
  {
   "cell_type": "code",
   "execution_count": 25,
   "id": "80e2cc30",
   "metadata": {},
   "outputs": [],
   "source": [
    "dataset_dados = dataset_dados.drop(columns=['resultado_temporario', 'gols_visitantes', 'gols_mandante',\n",
    "                                           'colocacao_visitante', 'colocacao_mandante', 'time_visitante', 'time_mandante',\n",
    "                                           'custo_botafogo', 'resultado_financeiro', 'impostos', 'despesas', 'arrecadacao',\n",
    "                                            'publico_max', 'publico', 'gols_botafogo', 'horario', 'data_ultimo_jogo'])"
   ]
  },
  {
   "cell_type": "code",
   "execution_count": 26,
   "id": "4f807983",
   "metadata": {},
   "outputs": [
    {
     "data": {
      "text/plain": [
       "Index(['ano_campeonato', 'campeonato', 'fase', 'estádio', 'data',\n",
       "       'temperatura', 'jogos_no_mes', 'rodada', 'tipo_partida',\n",
       "       'anunciou_poupar', 'estado_adversario', 'classico', 'eliminatorio',\n",
       "       'tecnico_botafogo', 'desfalques', 'dia_semana', 'hora', 'minuto', 'mes',\n",
       "       'dia_mes', 'resultado_partida', 'resultados_consecutivos',\n",
       "       'resultados_ultimo_jogo', 'colocacao_botafogo', 'colocacao_adversario',\n",
       "       'time_adversario', 'gols_botafogo_ultimos_jogos', 'percentual_ocupacao',\n",
       "       'mando_vendido_compartilhado', 'prejuizo_lucro',\n",
       "       'dias_ultimo_jogo_casa'],\n",
       "      dtype='object')"
      ]
     },
     "execution_count": 26,
     "metadata": {},
     "output_type": "execute_result"
    }
   ],
   "source": [
    "dataset_dados.columns"
   ]
  },
  {
   "cell_type": "code",
   "execution_count": 27,
   "id": "2112c8c9",
   "metadata": {},
   "outputs": [],
   "source": [
    "dataset_dados.loc[dataset_dados[dataset_dados['anunciou_poupar'] == 'SIM'].index, 'anunciou_poupar'] = True\n",
    "dataset_dados.loc[dataset_dados[dataset_dados['anunciou_poupar'].isnull()].index, 'anunciou_poupar'] = False\n",
    "dataset_dados.loc[dataset_dados[dataset_dados['classico'] == 'SIM'].index, 'classico'] = True\n",
    "dataset_dados.loc[dataset_dados[dataset_dados['classico'].isnull()].index, 'classico'] = False\n",
    "dataset_dados.loc[dataset_dados[dataset_dados['eliminatorio'] == 'SIM'].index, 'eliminatorio'] = True\n",
    "dataset_dados.loc[dataset_dados[dataset_dados['eliminatorio'].isnull()].index, 'eliminatorio'] = False"
   ]
  },
  {
   "cell_type": "code",
   "execution_count": 28,
   "id": "79012837",
   "metadata": {},
   "outputs": [
    {
     "data": {
      "text/plain": [
       "31"
      ]
     },
     "execution_count": 28,
     "metadata": {},
     "output_type": "execute_result"
    }
   ],
   "source": [
    "len(dataset_dados.columns)"
   ]
  },
  {
   "cell_type": "code",
   "execution_count": 29,
   "id": "5dc08e2b",
   "metadata": {},
   "outputs": [],
   "source": [
    "dataset_dados = pd.get_dummies(dataset_dados, columns=['campeonato', 'estádio', 'tipo_partida', 'estado_adversario',\n",
    "                                                       'tecnico_botafogo', 'time_adversario', 'fase'])"
   ]
  },
  {
   "cell_type": "code",
   "execution_count": 30,
   "id": "03e8c2e8",
   "metadata": {},
   "outputs": [],
   "source": [
    "dataset_dados = dataset_dados.astype({'anunciou_poupar': bool,\n",
    "                                      'classico': bool,\n",
    "                                      'eliminatorio': bool,\n",
    "                                       'prejuizo_lucro': bool\n",
    "                                     })"
   ]
  },
  {
   "cell_type": "code",
   "execution_count": 31,
   "id": "71d65c77",
   "metadata": {},
   "outputs": [],
   "source": [
    "dataset_previsao = dataset_dados[dataset_dados['data'] >= pd.to_datetime(date.today())]\n",
    "dataset_dados = dataset_dados[dataset_dados['data'] < pd.to_datetime(date.today())]\n",
    "dataset_dados = dataset_dados.drop(columns=['data'])\n",
    "dataset_previsao = dataset_previsao.drop(columns=['data'])\n",
    "dataset_dados = dataset_dados.reset_index(drop=True)"
   ]
  },
  {
   "cell_type": "code",
   "execution_count": 32,
   "id": "d678632a",
   "metadata": {
    "scrolled": true
   },
   "outputs": [
    {
     "data": {
      "text/html": [
       "<div>\n",
       "<style scoped>\n",
       "    .dataframe tbody tr th:only-of-type {\n",
       "        vertical-align: middle;\n",
       "    }\n",
       "\n",
       "    .dataframe tbody tr th {\n",
       "        vertical-align: top;\n",
       "    }\n",
       "\n",
       "    .dataframe thead th {\n",
       "        text-align: right;\n",
       "    }\n",
       "</style>\n",
       "<table border=\"1\" class=\"dataframe\">\n",
       "  <thead>\n",
       "    <tr style=\"text-align: right;\">\n",
       "      <th></th>\n",
       "      <th>ano_campeonato</th>\n",
       "      <th>temperatura</th>\n",
       "      <th>jogos_no_mes</th>\n",
       "      <th>rodada</th>\n",
       "      <th>anunciou_poupar</th>\n",
       "      <th>classico</th>\n",
       "      <th>eliminatorio</th>\n",
       "      <th>desfalques</th>\n",
       "      <th>dia_semana</th>\n",
       "      <th>hora</th>\n",
       "      <th>...</th>\n",
       "      <th>time_adversario_Ypiranga</th>\n",
       "      <th>fase_fase de grupos</th>\n",
       "      <th>fase_final - taça rio</th>\n",
       "      <th>fase_liga</th>\n",
       "      <th>fase_oitavas-de-final</th>\n",
       "      <th>fase_quartas-de-final</th>\n",
       "      <th>fase_segunda fase</th>\n",
       "      <th>fase_semi-final</th>\n",
       "      <th>fase_semi-final - taça rio</th>\n",
       "      <th>fase_terceira fase</th>\n",
       "    </tr>\n",
       "  </thead>\n",
       "  <tbody>\n",
       "    <tr>\n",
       "      <th>0</th>\n",
       "      <td>2022</td>\n",
       "      <td>26.0</td>\n",
       "      <td>2.0</td>\n",
       "      <td>1</td>\n",
       "      <td>False</td>\n",
       "      <td>True</td>\n",
       "      <td>True</td>\n",
       "      <td>10.0</td>\n",
       "      <td>0.0</td>\n",
       "      <td>16.0</td>\n",
       "      <td>...</td>\n",
       "      <td>False</td>\n",
       "      <td>False</td>\n",
       "      <td>False</td>\n",
       "      <td>False</td>\n",
       "      <td>False</td>\n",
       "      <td>False</td>\n",
       "      <td>False</td>\n",
       "      <td>True</td>\n",
       "      <td>False</td>\n",
       "      <td>False</td>\n",
       "    </tr>\n",
       "    <tr>\n",
       "      <th>1</th>\n",
       "      <td>2022</td>\n",
       "      <td>28.0</td>\n",
       "      <td>1.0</td>\n",
       "      <td>1</td>\n",
       "      <td>False</td>\n",
       "      <td>False</td>\n",
       "      <td>False</td>\n",
       "      <td>5.0</td>\n",
       "      <td>6.0</td>\n",
       "      <td>16.0</td>\n",
       "      <td>...</td>\n",
       "      <td>False</td>\n",
       "      <td>False</td>\n",
       "      <td>False</td>\n",
       "      <td>True</td>\n",
       "      <td>False</td>\n",
       "      <td>False</td>\n",
       "      <td>False</td>\n",
       "      <td>False</td>\n",
       "      <td>False</td>\n",
       "      <td>False</td>\n",
       "    </tr>\n",
       "    <tr>\n",
       "      <th>2</th>\n",
       "      <td>2022</td>\n",
       "      <td>29.0</td>\n",
       "      <td>1.0</td>\n",
       "      <td>4</td>\n",
       "      <td>False</td>\n",
       "      <td>False</td>\n",
       "      <td>False</td>\n",
       "      <td>7.0</td>\n",
       "      <td>6.0</td>\n",
       "      <td>16.0</td>\n",
       "      <td>...</td>\n",
       "      <td>False</td>\n",
       "      <td>False</td>\n",
       "      <td>False</td>\n",
       "      <td>True</td>\n",
       "      <td>False</td>\n",
       "      <td>False</td>\n",
       "      <td>False</td>\n",
       "      <td>False</td>\n",
       "      <td>False</td>\n",
       "      <td>False</td>\n",
       "    </tr>\n",
       "    <tr>\n",
       "      <th>3</th>\n",
       "      <td>2022</td>\n",
       "      <td>23.0</td>\n",
       "      <td>2.0</td>\n",
       "      <td>2</td>\n",
       "      <td>False</td>\n",
       "      <td>False</td>\n",
       "      <td>True</td>\n",
       "      <td>8.0</td>\n",
       "      <td>3.0</td>\n",
       "      <td>16.0</td>\n",
       "      <td>...</td>\n",
       "      <td>False</td>\n",
       "      <td>False</td>\n",
       "      <td>False</td>\n",
       "      <td>False</td>\n",
       "      <td>False</td>\n",
       "      <td>False</td>\n",
       "      <td>False</td>\n",
       "      <td>False</td>\n",
       "      <td>False</td>\n",
       "      <td>True</td>\n",
       "    </tr>\n",
       "    <tr>\n",
       "      <th>4</th>\n",
       "      <td>2022</td>\n",
       "      <td>24.0</td>\n",
       "      <td>3.0</td>\n",
       "      <td>6</td>\n",
       "      <td>False</td>\n",
       "      <td>False</td>\n",
       "      <td>False</td>\n",
       "      <td>5.0</td>\n",
       "      <td>6.0</td>\n",
       "      <td>16.0</td>\n",
       "      <td>...</td>\n",
       "      <td>False</td>\n",
       "      <td>False</td>\n",
       "      <td>False</td>\n",
       "      <td>True</td>\n",
       "      <td>False</td>\n",
       "      <td>False</td>\n",
       "      <td>False</td>\n",
       "      <td>False</td>\n",
       "      <td>False</td>\n",
       "      <td>False</td>\n",
       "    </tr>\n",
       "  </tbody>\n",
       "</table>\n",
       "<p>5 rows × 118 columns</p>\n",
       "</div>"
      ],
      "text/plain": [
       "   ano_campeonato  temperatura  jogos_no_mes  rodada  anunciou_poupar  \\\n",
       "0            2022         26.0           2.0       1            False   \n",
       "1            2022         28.0           1.0       1            False   \n",
       "2            2022         29.0           1.0       4            False   \n",
       "3            2022         23.0           2.0       2            False   \n",
       "4            2022         24.0           3.0       6            False   \n",
       "\n",
       "   classico  eliminatorio  desfalques  dia_semana  hora  ...  \\\n",
       "0      True          True        10.0         0.0  16.0  ...   \n",
       "1     False         False         5.0         6.0  16.0  ...   \n",
       "2     False         False         7.0         6.0  16.0  ...   \n",
       "3     False          True         8.0         3.0  16.0  ...   \n",
       "4     False         False         5.0         6.0  16.0  ...   \n",
       "\n",
       "   time_adversario_Ypiranga  fase_fase de grupos  fase_final - taça rio  \\\n",
       "0                     False                False                  False   \n",
       "1                     False                False                  False   \n",
       "2                     False                False                  False   \n",
       "3                     False                False                  False   \n",
       "4                     False                False                  False   \n",
       "\n",
       "   fase_liga  fase_oitavas-de-final  fase_quartas-de-final  fase_segunda fase  \\\n",
       "0      False                  False                  False              False   \n",
       "1       True                  False                  False              False   \n",
       "2       True                  False                  False              False   \n",
       "3      False                  False                  False              False   \n",
       "4       True                  False                  False              False   \n",
       "\n",
       "   fase_semi-final  fase_semi-final - taça rio  fase_terceira fase  \n",
       "0             True                       False               False  \n",
       "1            False                       False               False  \n",
       "2            False                       False               False  \n",
       "3            False                       False                True  \n",
       "4            False                       False               False  \n",
       "\n",
       "[5 rows x 118 columns]"
      ]
     },
     "execution_count": 32,
     "metadata": {},
     "output_type": "execute_result"
    }
   ],
   "source": [
    "dataset_dados.head()"
   ]
  },
  {
   "cell_type": "code",
   "execution_count": 33,
   "id": "01dcc05e",
   "metadata": {},
   "outputs": [
    {
     "data": {
      "text/plain": [
       "78"
      ]
     },
     "execution_count": 33,
     "metadata": {},
     "output_type": "execute_result"
    }
   ],
   "source": [
    "len(dataset_dados)"
   ]
  },
  {
   "cell_type": "code",
   "execution_count": 34,
   "id": "2fe93104",
   "metadata": {},
   "outputs": [],
   "source": [
    "dataset_dados.to_csv('dados_modelo_final.csv', index=False)"
   ]
  },
  {
   "cell_type": "markdown",
   "id": "577d7ee2",
   "metadata": {},
   "source": [
    "### Datasets Modelos"
   ]
  },
  {
   "cell_type": "markdown",
   "id": "1cf2d2d8",
   "metadata": {},
   "source": [
    "Haverão Três Modelos, cada um olhando para uma variável alvo específica, as variáveis alvo serão:\n",
    "\n",
    "    - percentual_ocupacao: Olhando para tentarmos prever a quantidade de pessoas que irão aos jogos\n",
    "    - prejuizo_lucro: Olhando para tentarmos prever se o jogo foi rentável (olhando apenas para o contexto do jogo)\n",
    "    - resultado_partida: Olhando para tentarmos prever o resultado do jogo (Derrota, Vitória ou Empate\n",
    "    \n",
    "Sendo assim cada modelo terá seu dataset específico, pois as variáveis alvo não são passíveis de serem utilizadas nos modelos que não sejam os seus por não serem valores disponíveis para a previsão antes do evento acontecer, chamaremos essas varíaveis de indisponíveis."
   ]
  },
  {
   "cell_type": "code",
   "execution_count": 35,
   "id": "3538d6c8",
   "metadata": {},
   "outputs": [],
   "source": [
    "dados_modelo_percentual_ocupacao = dataset_dados.drop(columns=['prejuizo_lucro', 'resultado_partida']).copy()\n",
    "dados_modelo_prejuizo_lucro = dataset_dados.drop(columns=['percentual_ocupacao', 'resultado_partida']).copy()\n",
    "dados_modelo_resultado_partida = dataset_dados.drop(columns=['percentual_ocupacao', 'prejuizo_lucro']).copy()"
   ]
  },
  {
   "cell_type": "markdown",
   "id": "42d941aa",
   "metadata": {},
   "source": [
    "### Análise Exploratória"
   ]
  },
  {
   "cell_type": "markdown",
   "id": "02286003",
   "metadata": {},
   "source": [
    "##### Funções Úteis"
   ]
  },
  {
   "cell_type": "code",
   "execution_count": 36,
   "id": "1e17726b",
   "metadata": {},
   "outputs": [],
   "source": [
    "def concentracao_valores (dados, coluna):\n",
    "    if len(dados[coluna].unique()) > 3:        \n",
    "        print(dados[coluna].describe())\n",
    "    else:        \n",
    "        print(dados[coluna].value_counts())"
   ]
  },
  {
   "cell_type": "code",
   "execution_count": 37,
   "id": "1506868a",
   "metadata": {},
   "outputs": [],
   "source": [
    "def correlacao_modelos (dados, coluna):\n",
    "    print('Menores Valores')\n",
    "    print('----------------------')\n",
    "    print(dados.corr()[coluna].sort_values().head(7))\n",
    "    print('======================')\n",
    "    print('Maiores Valores')\n",
    "    print('----------------------')\n",
    "    print(dados.corr()[coluna].sort_values(ascending=False).head(7))"
   ]
  },
  {
   "cell_type": "code",
   "execution_count": 38,
   "id": "1e5c8dbb",
   "metadata": {},
   "outputs": [],
   "source": [
    "def visualizacoes (dados, coluna, label):\n",
    "    if len(dados[coluna].unique()) > 3: \n",
    "        fig, ax = plt.subplots()\n",
    "        ax.hist(dados[coluna])\n",
    "        ax.set_xlabel(label)\n",
    "        ax.set_title('Análise Visual - Histograma - '+label)\n",
    "        plt.show()"
   ]
  },
  {
   "cell_type": "code",
   "execution_count": 39,
   "id": "8f8f4bf2",
   "metadata": {},
   "outputs": [],
   "source": [
    "def taxas_erro (valores_reais, valores_previstos):\n",
    "    #RMSE\n",
    "    rmse = sqrt(mean_squared_error(valores_reais, valores_previstos))\n",
    "    print('Erro médio quadrático: ', rmse)\n",
    "    #MAE\n",
    "    mae = mean_absolute_error(valores_reais, valores_previstos)\n",
    "    print('Erro médio absoluto: ', mae)"
   ]
  },
  {
   "cell_type": "markdown",
   "id": "3d490fdc",
   "metadata": {},
   "source": [
    "Esse artigo me ajudou com a tunagem dos hiperparâmetros:\n",
    "\n",
    "    - https://www.analyticsvidhya.com/blog/2016/03/complete-guide-parameter-tuning-xgboost-with-codes-python/"
   ]
  },
  {
   "cell_type": "code",
   "execution_count": 40,
   "id": "7e1ca1b3",
   "metadata": {},
   "outputs": [],
   "source": [
    "def tunning_hiperpametros (modelo, X_train, y_train):\n",
    "    \n",
    "    print('Testando Variáveis: max_depth, min_child_weight')\n",
    "    \n",
    "    param_test = {\n",
    "     'max_depth':range(3,10,2),\n",
    "     'min_child_weight':range(1,6,2),\n",
    "    }\n",
    "    \n",
    "    gsearch = GridSearchCV(estimator = modelo(\n",
    "                    learning_rate=0.01, max_depth=5, n_estimators=200, n_jobs=-1, random_state=1, seed=42,\n",
    "                    min_child_weight=1, gamma = 0, subsample = 0.8, colsample_bytree = 0.8, scale_pos_weight = 1\n",
    "                   ), \n",
    "                    param_grid = param_test, scoring='roc_auc', n_jobs=-1, cv=10)      \n",
    "    gsearch.fit(X_train, y_train)\n",
    "        \n",
    "    max_depth = gsearch.best_params_['max_depth']\n",
    "    min_child_weight = gsearch.best_params_['min_child_weight']\n",
    "    \n",
    "    print('Melhores valores: ', gsearch.best_params_)\n",
    "    \n",
    "    print('-----------------------------')  \n",
    "    \n",
    "    print('Testando Variáveis:gamma')\n",
    "    \n",
    "    param_test = {\n",
    "     'gamma':[i/10.0 for i in range(0,5)],\n",
    "    }\n",
    "    \n",
    "    gsearch = GridSearchCV(estimator = modelo(\n",
    "                    learning_rate=0.01, max_depth=max_depth, n_estimators=200, n_jobs=-1, random_state=1, seed=42,\n",
    "                    min_child_weight=min_child_weight, gamma = 0 , subsample = 0.8, colsample_bytree = 0.8, scale_pos_weight = 1\n",
    "                   ), \n",
    "                    param_grid = param_test, scoring='roc_auc', n_jobs=-1, cv=10)      \n",
    "    gsearch.fit(X_train, y_train)\n",
    "    \n",
    "    print('Melhores valores: ', gsearch.best_params_)\n",
    "    gamma = gsearch.best_params_['gamma']\n",
    "    \n",
    "    print('-----------------------------')  \n",
    "    \n",
    "    print('Testando Variáveis: subsample, colsample_bytree')\n",
    "    \n",
    "    param_test = {\n",
    "     'subsample':[i/10.0 for i in range(6,10)],\n",
    "     'colsample_bytree':[i/10.0 for i in range(6,10)]\n",
    "    }\n",
    "    \n",
    "    gsearch = GridSearchCV(estimator = modelo(\n",
    "                    learning_rate=0.01, max_depth=max_depth, n_estimators=200, n_jobs=-1, random_state=1, seed=42,\n",
    "                    min_child_weight=min_child_weight, gamma = gamma, subsample = 0.8, colsample_bytree = 0.8, scale_pos_weight = 1\n",
    "                   ), \n",
    "                    param_grid = param_test, scoring='roc_auc', n_jobs=-1, cv=10)      \n",
    "    gsearch.fit(X_train, y_train)\n",
    "    \n",
    "    print('Melhores valores: ', gsearch.best_params_)\n",
    "    \n",
    "    print('-----------------------------')  \n",
    "    \n",
    "    print('Testando Variáveis: reg_alpha')\n",
    "    \n",
    "    param_test = {\n",
    "     'reg_alpha':[1e-5, 1e-2, 0.1, 1, 100]\n",
    "    }\n",
    "    \n",
    "    gsearch = GridSearchCV(estimator = modelo(\n",
    "                    learning_rate=0.01, max_depth=max_depth, n_estimators=200, n_jobs=-1, random_state=1, seed=42,\n",
    "                    min_child_weight=min_child_weight, gamma = gamma, subsample = gsearch.best_params_['subsample'],\n",
    "                    colsample_bytree = gsearch.best_params_['colsample_bytree'], scale_pos_weight = 1\n",
    "                   ), \n",
    "                    param_grid = param_test, scoring='roc_auc', n_jobs=-1, cv=10)      \n",
    "    gsearch.fit(X_train, y_train)\n",
    "    \n",
    "    print('Melhores valores: ', gsearch.best_params_)\n",
    "    \n",
    "    print('-----------------------------')  "
   ]
  },
  {
   "cell_type": "markdown",
   "id": "558fa4e1",
   "metadata": {},
   "source": [
    "##### Modelo 1"
   ]
  },
  {
   "cell_type": "code",
   "execution_count": 41,
   "id": "44b9cf7b",
   "metadata": {},
   "outputs": [
    {
     "name": "stdout",
     "output_type": "stream",
     "text": [
      "count    78.000000\n",
      "mean     44.752564\n",
      "std      23.381025\n",
      "min       8.140000\n",
      "25%      27.210000\n",
      "50%      41.745000\n",
      "75%      61.950000\n",
      "max      91.780000\n",
      "Name: percentual_ocupacao, dtype: float64\n"
     ]
    }
   ],
   "source": [
    "concentracao_valores(dados_modelo_percentual_ocupacao, 'percentual_ocupacao')"
   ]
  },
  {
   "cell_type": "code",
   "execution_count": 42,
   "id": "65bbe288",
   "metadata": {},
   "outputs": [
    {
     "name": "stdout",
     "output_type": "stream",
     "text": [
      "Menores Valores\n",
      "----------------------\n",
      "campeonato_carioca              -0.512334\n",
      "estado_adversario_RJ            -0.368959\n",
      "time_adversario_Portuguesa-RJ   -0.310216\n",
      "temperatura                     -0.308373\n",
      "mando_vendido_compartilhado     -0.285712\n",
      "anunciou_poupar                 -0.280157\n",
      "estádio_Raulino de Oliveira     -0.252735\n",
      "Name: percentual_ocupacao, dtype: float64\n",
      "======================\n",
      "Maiores Valores\n",
      "----------------------\n",
      "percentual_ocupacao                1.000000\n",
      "mes                                0.448263\n",
      "tecnico_botafogo_Bruno Lage        0.374305\n",
      "campeonato_serie a                 0.372187\n",
      "rodada                             0.286101\n",
      "tecnico_botafogo_Cláudio Caçapa    0.251687\n",
      "colocacao_adversario               0.231352\n",
      "Name: percentual_ocupacao, dtype: float64\n"
     ]
    }
   ],
   "source": [
    "correlacao_modelos(dados_modelo_percentual_ocupacao, 'percentual_ocupacao')"
   ]
  },
  {
   "cell_type": "code",
   "execution_count": 43,
   "id": "be48f7f7",
   "metadata": {},
   "outputs": [
    {
     "data": {
      "text/plain": [
       "ano_campeonato               -0.091408\n",
       "temperatura                  -0.308373\n",
       "jogos_no_mes                 -0.000552\n",
       "rodada                        0.286101\n",
       "anunciou_poupar              -0.280157\n",
       "                                ...   \n",
       "fase_quartas-de-final         0.044432\n",
       "fase_segunda fase            -0.088210\n",
       "fase_semi-final              -0.131483\n",
       "fase_semi-final - taça rio   -0.243238\n",
       "fase_terceira fase           -0.009033\n",
       "Name: percentual_ocupacao, Length: 116, dtype: float64"
      ]
     },
     "execution_count": 43,
     "metadata": {},
     "output_type": "execute_result"
    }
   ],
   "source": [
    "dados_modelo_percentual_ocupacao.corr()['percentual_ocupacao']"
   ]
  },
  {
   "cell_type": "code",
   "execution_count": 44,
   "id": "e694f28b",
   "metadata": {},
   "outputs": [
    {
     "data": {
      "image/png": "[encoded data removed]",
      "text/plain": [
       "<Figure size 640x480 with 1 Axes>"
      ]
     },
     "metadata": {},
     "output_type": "display_data"
    }
   ],
   "source": [
    "visualizacoes(dados_modelo_percentual_ocupacao, 'percentual_ocupacao', 'Ocupação %')"
   ]
  },
  {
   "cell_type": "markdown",
   "id": "0622eaca",
   "metadata": {},
   "source": [
    "##### Modelo 2 "
   ]
  },
  {
   "cell_type": "code",
   "execution_count": 45,
   "id": "3bebf450",
   "metadata": {},
   "outputs": [
    {
     "name": "stdout",
     "output_type": "stream",
     "text": [
      "prejuizo_lucro\n",
      "True     40\n",
      "False    38\n",
      "Name: count, dtype: int64\n"
     ]
    }
   ],
   "source": [
    "concentracao_valores(dados_modelo_prejuizo_lucro, 'prejuizo_lucro')"
   ]
  },
  {
   "cell_type": "code",
   "execution_count": 46,
   "id": "734d27f5",
   "metadata": {},
   "outputs": [
    {
     "name": "stdout",
     "output_type": "stream",
     "text": [
      "Menores Valores\n",
      "----------------------\n",
      "eliminatorio              -0.394156\n",
      "anunciou_poupar           -0.370463\n",
      "temperatura               -0.358215\n",
      "campeonato_carioca        -0.330635\n",
      "tipo_partida_volta        -0.316723\n",
      "estádio_Luso Brasileiro   -0.205196\n",
      "fase_segunda fase         -0.205196\n",
      "Name: prejuizo_lucro, dtype: float64\n",
      "======================\n",
      "Maiores Valores\n",
      "----------------------\n",
      "prejuizo_lucro         1.000000\n",
      "tipo_partida_liga      0.394156\n",
      "campeonato_serie a     0.332902\n",
      "mes                    0.290858\n",
      "fase_fase de grupos    0.281366\n",
      "rodada                 0.274625\n",
      "classico               0.271729\n",
      "Name: prejuizo_lucro, dtype: float64\n"
     ]
    }
   ],
   "source": [
    "correlacao_modelos(dados_modelo_prejuizo_lucro, 'prejuizo_lucro')"
   ]
  },
  {
   "cell_type": "markdown",
   "id": "dcdca81a",
   "metadata": {},
   "source": [
    "##### Modelo 3"
   ]
  },
  {
   "cell_type": "code",
   "execution_count": 47,
   "id": "a0d247bb",
   "metadata": {},
   "outputs": [
    {
     "name": "stdout",
     "output_type": "stream",
     "text": [
      "resultado_partida\n",
      " 1.0    41\n",
      "-1.0    21\n",
      " 0.0    16\n",
      "Name: count, dtype: int64\n"
     ]
    }
   ],
   "source": [
    "concentracao_valores(dados_modelo_resultado_partida, 'resultado_partida')"
   ]
  },
  {
   "cell_type": "code",
   "execution_count": 48,
   "id": "1b18045c",
   "metadata": {},
   "outputs": [
    {
     "name": "stdout",
     "output_type": "stream",
     "text": [
      "Menores Valores\n",
      "----------------------\n",
      "tecnico_botafogo_Lúcio Flávio   -0.368411\n",
      "rodada                          -0.304542\n",
      "time_adversario_Flamengo        -0.294280\n",
      "mes                             -0.250202\n",
      "classico                        -0.249436\n",
      "time_adversario_Cuiabá-MT       -0.238692\n",
      "estado_adversario_MT            -0.238692\n",
      "Name: resultado_partida, dtype: float64\n",
      "======================\n",
      "Maiores Valores\n",
      "----------------------\n",
      "resultado_partida              1.000000\n",
      "resultados_ultimo_jogo         0.585005\n",
      "jogos_no_mes                   0.317677\n",
      "ano_campeonato                 0.317602\n",
      "gols_botafogo_ultimos_jogos    0.298121\n",
      "dia_mes                        0.232589\n",
      "eliminatorio                   0.219284\n",
      "Name: resultado_partida, dtype: float64\n"
     ]
    }
   ],
   "source": [
    "correlacao_modelos(dados_modelo_resultado_partida, 'resultado_partida')"
   ]
  },
  {
   "cell_type": "markdown",
   "id": "43861abd",
   "metadata": {},
   "source": [
    "### Modelagem"
   ]
  },
  {
   "cell_type": "markdown",
   "id": "833d1c89",
   "metadata": {},
   "source": [
    "##### Modelo 1"
   ]
  },
  {
   "cell_type": "code",
   "execution_count": 49,
   "id": "311aac7e",
   "metadata": {},
   "outputs": [],
   "source": [
    "X = dados_modelo_percentual_ocupacao.drop(columns=['percentual_ocupacao']).copy()\n",
    "y = dados_modelo_percentual_ocupacao[['percentual_ocupacao']]"
   ]
  },
  {
   "cell_type": "code",
   "execution_count": 50,
   "id": "3db440b1",
   "metadata": {},
   "outputs": [],
   "source": [
    "X_train, X_test, y_train, y_test = train_test_split( X, y, test_size=0.2, random_state=42)\n",
    "eval_set = [(X_test, y_test)]"
   ]
  },
  {
   "cell_type": "code",
   "execution_count": 51,
   "id": "6bcc7598",
   "metadata": {},
   "outputs": [
    {
     "name": "stdout",
     "output_type": "stream",
     "text": [
      "Testando Variáveis: max_depth, min_child_weight\n",
      "Melhores valores:  {'max_depth': 3, 'min_child_weight': 1}\n",
      "-----------------------------\n",
      "Testando Variáveis:gamma\n",
      "Melhores valores:  {'gamma': 0.0}\n",
      "-----------------------------\n",
      "Testando Variáveis: subsample, colsample_bytree\n",
      "Melhores valores:  {'colsample_bytree': 0.6, 'subsample': 0.6}\n",
      "-----------------------------\n",
      "Testando Variáveis: reg_alpha\n",
      "Melhores valores:  {'reg_alpha': 1e-05}\n",
      "-----------------------------\n"
     ]
    }
   ],
   "source": [
    "tunning_hiperpametros(XGBRegressor, X_train, y_train)"
   ]
  },
  {
   "cell_type": "code",
   "execution_count": 52,
   "id": "32b78ac0",
   "metadata": {},
   "outputs": [
    {
     "name": "stdout",
     "output_type": "stream",
     "text": [
      "[0]\tvalidation_0-rmse:25.71777\n",
      "[1]\tvalidation_0-rmse:25.73358\n",
      "[2]\tvalidation_0-rmse:25.65874\n",
      "[3]\tvalidation_0-rmse:25.60549\n",
      "[4]\tvalidation_0-rmse:25.49405\n",
      "[5]\tvalidation_0-rmse:25.43327\n",
      "[6]\tvalidation_0-rmse:25.29449\n",
      "[7]\tvalidation_0-rmse:25.21524\n",
      "[8]\tvalidation_0-rmse:25.16011\n",
      "[9]\tvalidation_0-rmse:25.16309\n",
      "[10]\tvalidation_0-rmse:25.05383\n",
      "[11]\tvalidation_0-rmse:25.03024\n",
      "[12]\tvalidation_0-rmse:24.89891\n",
      "[13]\tvalidation_0-rmse:24.80901\n",
      "[14]\tvalidation_0-rmse:24.69311\n",
      "[15]\tvalidation_0-rmse:24.65151\n",
      "[16]\tvalidation_0-rmse:24.57931\n",
      "[17]\tvalidation_0-rmse:24.56190\n",
      "[18]\tvalidation_0-rmse:24.48216\n",
      "[19]\tvalidation_0-rmse:24.44153\n",
      "[20]\tvalidation_0-rmse:24.34866\n",
      "[21]\tvalidation_0-rmse:24.35540\n",
      "[22]\tvalidation_0-rmse:24.36750\n",
      "[23]\tvalidation_0-rmse:24.28375\n",
      "[24]\tvalidation_0-rmse:24.23830\n",
      "[25]\tvalidation_0-rmse:24.18039\n",
      "[26]\tvalidation_0-rmse:24.17583\n",
      "[27]\tvalidation_0-rmse:24.18371\n",
      "[28]\tvalidation_0-rmse:24.12085\n",
      "[29]\tvalidation_0-rmse:23.98224\n",
      "[30]\tvalidation_0-rmse:23.94734\n",
      "[31]\tvalidation_0-rmse:23.92977\n",
      "[32]\tvalidation_0-rmse:23.90324\n",
      "[33]\tvalidation_0-rmse:23.79972\n",
      "[34]\tvalidation_0-rmse:23.80459\n",
      "[35]\tvalidation_0-rmse:23.71467\n",
      "[36]\tvalidation_0-rmse:23.66537\n",
      "[37]\tvalidation_0-rmse:23.67016\n",
      "[38]\tvalidation_0-rmse:23.63162\n",
      "[39]\tvalidation_0-rmse:23.53846\n",
      "[40]\tvalidation_0-rmse:23.45631\n",
      "[41]\tvalidation_0-rmse:23.37047\n",
      "[42]\tvalidation_0-rmse:23.28383\n",
      "[43]\tvalidation_0-rmse:23.29088\n",
      "[44]\tvalidation_0-rmse:23.23593\n",
      "[45]\tvalidation_0-rmse:23.18893\n",
      "[46]\tvalidation_0-rmse:23.09700\n",
      "[47]\tvalidation_0-rmse:23.00198\n",
      "[48]\tvalidation_0-rmse:22.95707\n",
      "[49]\tvalidation_0-rmse:22.89805\n",
      "[50]\tvalidation_0-rmse:22.92081\n",
      "[51]\tvalidation_0-rmse:22.87479\n",
      "[52]\tvalidation_0-rmse:22.88036\n",
      "[53]\tvalidation_0-rmse:22.79676\n",
      "[54]\tvalidation_0-rmse:22.77125\n",
      "[55]\tvalidation_0-rmse:22.79059\n",
      "[56]\tvalidation_0-rmse:22.76098\n",
      "[57]\tvalidation_0-rmse:22.69229\n",
      "[58]\tvalidation_0-rmse:22.66063\n",
      "[59]\tvalidation_0-rmse:22.60447\n",
      "[60]\tvalidation_0-rmse:22.59334\n",
      "[61]\tvalidation_0-rmse:22.61547\n",
      "[62]\tvalidation_0-rmse:22.55892\n",
      "[63]\tvalidation_0-rmse:22.55024\n",
      "[64]\tvalidation_0-rmse:22.48798\n",
      "[65]\tvalidation_0-rmse:22.45450\n",
      "[66]\tvalidation_0-rmse:22.39503\n",
      "[67]\tvalidation_0-rmse:22.33663\n",
      "[68]\tvalidation_0-rmse:22.31469\n",
      "[69]\tvalidation_0-rmse:22.26130\n",
      "[70]\tvalidation_0-rmse:22.23283\n",
      "[71]\tvalidation_0-rmse:22.24313\n",
      "[72]\tvalidation_0-rmse:22.20085\n",
      "[73]\tvalidation_0-rmse:22.12948\n",
      "[74]\tvalidation_0-rmse:22.10231\n",
      "[75]\tvalidation_0-rmse:22.01422\n",
      "[76]\tvalidation_0-rmse:21.95129\n",
      "[77]\tvalidation_0-rmse:21.93237\n",
      "[78]\tvalidation_0-rmse:21.91571\n",
      "[79]\tvalidation_0-rmse:21.90941\n",
      "[80]\tvalidation_0-rmse:21.91164\n",
      "[81]\tvalidation_0-rmse:21.82517\n",
      "[82]\tvalidation_0-rmse:21.79346\n",
      "[83]\tvalidation_0-rmse:21.77155\n",
      "[84]\tvalidation_0-rmse:21.71155\n",
      "[85]\tvalidation_0-rmse:21.63304\n",
      "[86]\tvalidation_0-rmse:21.57920\n",
      "[87]\tvalidation_0-rmse:21.55941\n",
      "[88]\tvalidation_0-rmse:21.55665\n",
      "[89]\tvalidation_0-rmse:21.50855\n",
      "[90]\tvalidation_0-rmse:21.45923\n",
      "[91]\tvalidation_0-rmse:21.48836\n",
      "[92]\tvalidation_0-rmse:21.44497\n",
      "[93]\tvalidation_0-rmse:21.38304\n",
      "[94]\tvalidation_0-rmse:21.36863\n",
      "[95]\tvalidation_0-rmse:21.31169\n",
      "[96]\tvalidation_0-rmse:21.27661\n",
      "[97]\tvalidation_0-rmse:21.21594\n",
      "[98]\tvalidation_0-rmse:21.18832\n",
      "[99]\tvalidation_0-rmse:21.10294\n",
      "[100]\tvalidation_0-rmse:21.09529\n",
      "[101]\tvalidation_0-rmse:21.08680\n",
      "[102]\tvalidation_0-rmse:21.06338\n",
      "[103]\tvalidation_0-rmse:21.07418\n",
      "[104]\tvalidation_0-rmse:20.99218\n",
      "[105]\tvalidation_0-rmse:20.92607\n",
      "[106]\tvalidation_0-rmse:20.86149\n",
      "[107]\tvalidation_0-rmse:20.84180\n",
      "[108]\tvalidation_0-rmse:20.84637\n",
      "[109]\tvalidation_0-rmse:20.82579\n",
      "[110]\tvalidation_0-rmse:20.79475\n",
      "[111]\tvalidation_0-rmse:20.75786\n",
      "[112]\tvalidation_0-rmse:20.72446\n",
      "[113]\tvalidation_0-rmse:20.72575\n",
      "[114]\tvalidation_0-rmse:20.69668\n",
      "[115]\tvalidation_0-rmse:20.68630\n",
      "[116]\tvalidation_0-rmse:20.69530\n",
      "[117]\tvalidation_0-rmse:20.62951\n",
      "[118]\tvalidation_0-rmse:20.66033\n",
      "[119]\tvalidation_0-rmse:20.63410\n",
      "[120]\tvalidation_0-rmse:20.67991\n",
      "[121]\tvalidation_0-rmse:20.67336\n",
      "[122]\tvalidation_0-rmse:20.66902\n",
      "[123]\tvalidation_0-rmse:20.61074\n",
      "[124]\tvalidation_0-rmse:20.57154\n",
      "[125]\tvalidation_0-rmse:20.60455\n",
      "[126]\tvalidation_0-rmse:20.53509\n",
      "[127]\tvalidation_0-rmse:20.51881\n",
      "[128]\tvalidation_0-rmse:20.43902\n",
      "[129]\tvalidation_0-rmse:20.41471\n",
      "[130]\tvalidation_0-rmse:20.36166\n",
      "[131]\tvalidation_0-rmse:20.33777\n",
      "[132]\tvalidation_0-rmse:20.35823\n",
      "[133]\tvalidation_0-rmse:20.36236\n",
      "[134]\tvalidation_0-rmse:20.32698\n",
      "[135]\tvalidation_0-rmse:20.26878\n",
      "[136]\tvalidation_0-rmse:20.24352\n",
      "[137]\tvalidation_0-rmse:20.16839\n",
      "[138]\tvalidation_0-rmse:20.16526\n",
      "[139]\tvalidation_0-rmse:20.13789\n",
      "[140]\tvalidation_0-rmse:20.16043\n",
      "[141]\tvalidation_0-rmse:20.14662\n",
      "[142]\tvalidation_0-rmse:20.13176\n",
      "[143]\tvalidation_0-rmse:20.12977\n",
      "[144]\tvalidation_0-rmse:20.14353\n",
      "[145]\tvalidation_0-rmse:20.09811\n",
      "[146]\tvalidation_0-rmse:20.03236\n",
      "[147]\tvalidation_0-rmse:19.97785\n",
      "[148]\tvalidation_0-rmse:19.97900\n",
      "[149]\tvalidation_0-rmse:19.94228\n",
      "[150]\tvalidation_0-rmse:19.90489\n",
      "[151]\tvalidation_0-rmse:19.90592\n",
      "[152]\tvalidation_0-rmse:19.88989\n",
      "[153]\tvalidation_0-rmse:19.88811\n",
      "[154]\tvalidation_0-rmse:19.86782\n",
      "[155]\tvalidation_0-rmse:19.88092\n",
      "[156]\tvalidation_0-rmse:19.86833\n",
      "[157]\tvalidation_0-rmse:19.85396\n",
      "[158]\tvalidation_0-rmse:19.84766\n",
      "[159]\tvalidation_0-rmse:19.84398\n",
      "[160]\tvalidation_0-rmse:19.86964\n",
      "[161]\tvalidation_0-rmse:19.83741\n",
      "[162]\tvalidation_0-rmse:19.85463\n",
      "[163]\tvalidation_0-rmse:19.80505\n",
      "[164]\tvalidation_0-rmse:19.77456\n",
      "[165]\tvalidation_0-rmse:19.75400\n",
      "[166]\tvalidation_0-rmse:19.70452\n",
      "[167]\tvalidation_0-rmse:19.66791\n",
      "[168]\tvalidation_0-rmse:19.68875\n",
      "[169]\tvalidation_0-rmse:19.66448\n",
      "[170]\tvalidation_0-rmse:19.67502\n",
      "[171]\tvalidation_0-rmse:19.63819\n",
      "[172]\tvalidation_0-rmse:19.62173\n",
      "[173]\tvalidation_0-rmse:19.59920\n",
      "[174]\tvalidation_0-rmse:19.54238\n",
      "[175]\tvalidation_0-rmse:19.51249\n",
      "[176]\tvalidation_0-rmse:19.50391\n",
      "[177]\tvalidation_0-rmse:19.47818\n",
      "[178]\tvalidation_0-rmse:19.46288\n",
      "[179]\tvalidation_0-rmse:19.48062\n",
      "[180]\tvalidation_0-rmse:19.48422\n",
      "[181]\tvalidation_0-rmse:19.46865\n",
      "[182]\tvalidation_0-rmse:19.48588\n",
      "[183]\tvalidation_0-rmse:19.47979\n",
      "[184]\tvalidation_0-rmse:19.48388\n",
      "[185]\tvalidation_0-rmse:19.49306\n",
      "[186]\tvalidation_0-rmse:19.50926\n",
      "[187]\tvalidation_0-rmse:19.48170\n",
      "[188]\tvalidation_0-rmse:19.49976\n"
     ]
    },
    {
     "data": {
      "text/html": [
       "<style>#sk-container-id-1 {color: black;}#sk-container-id-1 pre{padding: 0;}#sk-container-id-1 div.sk-toggleable {background-color: white;}#sk-container-id-1 label.sk-toggleable__label {cursor: pointer;display: block;width: 100%;margin-bottom: 0;padding: 0.3em;box-sizing: border-box;text-align: center;}#sk-container-id-1 label.sk-toggleable__label-arrow:before {content: \"▸\";float: left;margin-right: 0.25em;color: #696969;}#sk-container-id-1 label.sk-toggleable__label-arrow:hover:before {color: black;}#sk-container-id-1 div.sk-estimator:hover label.sk-toggleable__label-arrow:before {color: black;}#sk-container-id-1 div.sk-toggleable__content {max-height: 0;max-width: 0;overflow: hidden;text-align: left;background-color: #f0f8ff;}#sk-container-id-1 div.sk-toggleable__content pre {margin: 0.2em;color: black;border-radius: 0.25em;background-color: #f0f8ff;}#sk-container-id-1 input.sk-toggleable__control:checked~div.sk-toggleable__content {max-height: 200px;max-width: 100%;overflow: auto;}#sk-container-id-1 input.sk-toggleable__control:checked~label.sk-toggleable__label-arrow:before {content: \"▾\";}#sk-container-id-1 div.sk-estimator input.sk-toggleable__control:checked~label.sk-toggleable__label {background-color: #d4ebff;}#sk-container-id-1 div.sk-label input.sk-toggleable__control:checked~label.sk-toggleable__label {background-color: #d4ebff;}#sk-container-id-1 input.sk-hidden--visually {border: 0;clip: rect(1px 1px 1px 1px);clip: rect(1px, 1px, 1px, 1px);height: 1px;margin: -1px;overflow: hidden;padding: 0;position: absolute;width: 1px;}#sk-container-id-1 div.sk-estimator {font-family: monospace;background-color: #f0f8ff;border: 1px dotted black;border-radius: 0.25em;box-sizing: border-box;margin-bottom: 0.5em;}#sk-container-id-1 div.sk-estimator:hover {background-color: #d4ebff;}#sk-container-id-1 div.sk-parallel-item::after {content: \"\";width: 100%;border-bottom: 1px solid gray;flex-grow: 1;}#sk-container-id-1 div.sk-label:hover label.sk-toggleable__label {background-color: #d4ebff;}#sk-container-id-1 div.sk-serial::before {content: \"\";position: absolute;border-left: 1px solid gray;box-sizing: border-box;top: 0;bottom: 0;left: 50%;z-index: 0;}#sk-container-id-1 div.sk-serial {display: flex;flex-direction: column;align-items: center;background-color: white;padding-right: 0.2em;padding-left: 0.2em;position: relative;}#sk-container-id-1 div.sk-item {position: relative;z-index: 1;}#sk-container-id-1 div.sk-parallel {display: flex;align-items: stretch;justify-content: center;background-color: white;position: relative;}#sk-container-id-1 div.sk-item::before, #sk-container-id-1 div.sk-parallel-item::before {content: \"\";position: absolute;border-left: 1px solid gray;box-sizing: border-box;top: 0;bottom: 0;left: 50%;z-index: -1;}#sk-container-id-1 div.sk-parallel-item {display: flex;flex-direction: column;z-index: 1;position: relative;background-color: white;}#sk-container-id-1 div.sk-parallel-item:first-child::after {align-self: flex-end;width: 50%;}#sk-container-id-1 div.sk-parallel-item:last-child::after {align-self: flex-start;width: 50%;}#sk-container-id-1 div.sk-parallel-item:only-child::after {width: 0;}#sk-container-id-1 div.sk-dashed-wrapped {border: 1px dashed gray;margin: 0 0.4em 0.5em 0.4em;box-sizing: border-box;padding-bottom: 0.4em;background-color: white;}#sk-container-id-1 div.sk-label label {font-family: monospace;font-weight: bold;display: inline-block;line-height: 1.2em;}#sk-container-id-1 div.sk-label-container {text-align: center;}#sk-container-id-1 div.sk-container {/* jupyter's `normalize.less` sets `[hidden] { display: none; }` but bootstrap.min.css set `[hidden] { display: none !important; }` so we also need the `!important` here to be able to override the default hidden behavior on the sphinx rendered scikit-learn.org. See: https://github.com/scikit-learn/scikit-learn/issues/21755 */display: inline-block !important;position: relative;}#sk-container-id-1 div.sk-text-repr-fallback {display: none;}</style><div id=\"sk-container-id-1\" class=\"sk-top-container\"><div class=\"sk-text-repr-fallback\"><pre>XGBRegressor(base_score=None, booster=None, callbacks=None,\n",
       "             colsample_bylevel=None, colsample_bynode=None,\n",
       "             colsample_bytree=0.6, device=None, early_stopping_rounds=None,\n",
       "             enable_categorical=False, eval_metric=None, feature_types=None,\n",
       "             gamma=0.0, grow_policy=None, importance_type=None,\n",
       "             interaction_constraints=None, learning_rate=0.01, max_bin=None,\n",
       "             max_cat_threshold=None, max_cat_to_onehot=None,\n",
       "             max_delta_step=None, max_depth=3, max_leaves=None,\n",
       "             min_child_weight=1, missing=nan, monotone_constraints=None,\n",
       "             multi_strategy=None, n_estimators=10000, n_jobs=-1,\n",
       "             num_parallel_tree=None, random_state=1, ...)</pre><b>In a Jupyter environment, please rerun this cell to show the HTML representation or trust the notebook. <br />On GitHub, the HTML representation is unable to render, please try loading this page with nbviewer.org.</b></div><div class=\"sk-container\" hidden><div class=\"sk-item\"><div class=\"sk-estimator sk-toggleable\"><input class=\"sk-toggleable__control sk-hidden--visually\" id=\"sk-estimator-id-1\" type=\"checkbox\" checked><label for=\"sk-estimator-id-1\" class=\"sk-toggleable__label sk-toggleable__label-arrow\">XGBRegressor</label><div class=\"sk-toggleable__content\"><pre>XGBRegressor(base_score=None, booster=None, callbacks=None,\n",
       "             colsample_bylevel=None, colsample_bynode=None,\n",
       "             colsample_bytree=0.6, device=None, early_stopping_rounds=None,\n",
       "             enable_categorical=False, eval_metric=None, feature_types=None,\n",
       "             gamma=0.0, grow_policy=None, importance_type=None,\n",
       "             interaction_constraints=None, learning_rate=0.01, max_bin=None,\n",
       "             max_cat_threshold=None, max_cat_to_onehot=None,\n",
       "             max_delta_step=None, max_depth=3, max_leaves=None,\n",
       "             min_child_weight=1, missing=nan, monotone_constraints=None,\n",
       "             multi_strategy=None, n_estimators=10000, n_jobs=-1,\n",
       "             num_parallel_tree=None, random_state=1, ...)</pre></div></div></div></div></div>"
      ],
      "text/plain": [
       "XGBRegressor(base_score=None, booster=None, callbacks=None,\n",
       "             colsample_bylevel=None, colsample_bynode=None,\n",
       "             colsample_bytree=0.6, device=None, early_stopping_rounds=None,\n",
       "             enable_categorical=False, eval_metric=None, feature_types=None,\n",
       "             gamma=0.0, grow_policy=None, importance_type=None,\n",
       "             interaction_constraints=None, learning_rate=0.01, max_bin=None,\n",
       "             max_cat_threshold=None, max_cat_to_onehot=None,\n",
       "             max_delta_step=None, max_depth=3, max_leaves=None,\n",
       "             min_child_weight=1, missing=nan, monotone_constraints=None,\n",
       "             multi_strategy=None, n_estimators=10000, n_jobs=-1,\n",
       "             num_parallel_tree=None, random_state=1, ...)"
      ]
     },
     "execution_count": 52,
     "metadata": {},
     "output_type": "execute_result"
    }
   ],
   "source": [
    "model = XGBRegressor(verbosity=0, learning_rate=0.01, max_depth=3, n_estimators=10000, n_jobs=-1, random_state=1,\n",
    "                    min_child_weight=1, gamma = 0.0, subsample = 0.6, colsample_bytree = 0.6, scale_pos_weight = 1,\n",
    "                    reg_alpha= 1e-05)\n",
    "model.fit(X_train, y_train, \n",
    "          early_stopping_rounds=10,\n",
    "          eval_set=eval_set, eval_metric='rmse', verbose = 1)"
   ]
  },
  {
   "cell_type": "code",
   "execution_count": 53,
   "id": "9cbee034",
   "metadata": {},
   "outputs": [
    {
     "data": {
      "text/plain": [
       "array([0.01096492, 0.01020547, 0.01137291, 0.01549391, 0.01759438,\n",
       "       0.01220062, 0.        , 0.01514646, 0.02552548, 0.        ,\n",
       "       0.        , 0.03680514, 0.02106709, 0.01808939, 0.01371078,\n",
       "       0.02519996, 0.01375761, 0.01535419, 0.0222099 , 0.01732052,\n",
       "       0.03772581, 0.        , 0.01052293, 0.01720645, 0.00305918,\n",
       "       0.00604246, 0.        , 0.        , 0.00541709, 0.        ,\n",
       "       0.01771804, 0.0173145 , 0.        , 0.01316181, 0.        ,\n",
       "       0.        , 0.02243529, 0.        , 0.        , 0.00802788,\n",
       "       0.01024372, 0.00606513, 0.        , 0.        , 0.        ,\n",
       "       0.        , 0.01492342, 0.        , 0.        , 0.0085801 ,\n",
       "       0.01084708, 0.03348638, 0.01286361, 0.        , 0.01794622,\n",
       "       0.01831054, 0.02455339, 0.01468677, 0.01539457, 0.0353056 ,\n",
       "       0.01681703, 0.02724498, 0.        , 0.03962703, 0.01698104,\n",
       "       0.        , 0.        , 0.        , 0.        , 0.00111901,\n",
       "       0.        , 0.        , 0.        , 0.0003899 , 0.02287073,\n",
       "       0.01874777, 0.        , 0.        , 0.        , 0.00654798,\n",
       "       0.        , 0.        , 0.01382984, 0.01637953, 0.00997436,\n",
       "       0.0186922 , 0.        , 0.        , 0.        , 0.01737749,\n",
       "       0.        , 0.        , 0.00632374, 0.        , 0.00058843,\n",
       "       0.        , 0.        , 0.01480996, 0.0196604 , 0.        ,\n",
       "       0.00704005, 0.        , 0.        , 0.01025078, 0.        ,\n",
       "       0.        , 0.02407403, 0.        , 0.00679703, 0.        ,\n",
       "       0.        , 0.        , 0.        , 0.        , 0.        ],\n",
       "      dtype=float32)"
      ]
     },
     "execution_count": 53,
     "metadata": {},
     "output_type": "execute_result"
    }
   ],
   "source": [
    "model.feature_importances_"
   ]
  },
  {
   "cell_type": "code",
   "execution_count": 54,
   "id": "5839f548",
   "metadata": {},
   "outputs": [
    {
     "data": {
      "text/plain": [
       "<Axes: title={'center': 'Feature importance'}, xlabel='F score', ylabel='Features'>"
      ]
     },
     "execution_count": 54,
     "metadata": {},
     "output_type": "execute_result"
    },
    {
     "data": {
      "image/png": "[encoded data removed]",
      "text/plain": [
       "<Figure size 640x480 with 1 Axes>"
      ]
     },
     "metadata": {},
     "output_type": "display_data"
    }
   ],
   "source": [
    "plot_importance(model, max_num_features=20)"
   ]
  },
  {
   "cell_type": "code",
   "execution_count": 55,
   "id": "3359ac7b",
   "metadata": {},
   "outputs": [
    {
     "data": {
      "text/plain": [
       "0.691606725049065"
      ]
     },
     "execution_count": 55,
     "metadata": {},
     "output_type": "execute_result"
    }
   ],
   "source": [
    "score = model.score(X_train, y_train)  \n",
    "score"
   ]
  },
  {
   "cell_type": "code",
   "execution_count": 56,
   "id": "00939a09",
   "metadata": {},
   "outputs": [
    {
     "data": {
      "text/plain": [
       "16"
      ]
     },
     "execution_count": 56,
     "metadata": {},
     "output_type": "execute_result"
    }
   ],
   "source": [
    "y_pred = model.predict(X_test)\n",
    "predictions = [round(value, 2) for value in y_pred]\n",
    "len(predictions)"
   ]
  },
  {
   "cell_type": "code",
   "execution_count": 57,
   "id": "cc6af5f6",
   "metadata": {},
   "outputs": [
    {
     "data": {
      "text/plain": [
       "Text(0.5, 1.0, 'Previsão Ocupação')"
      ]
     },
     "execution_count": 57,
     "metadata": {},
     "output_type": "execute_result"
    },
    {
     "data": {
      "image/png": "[encoded data removed]",
      "text/plain": [
       "<Figure size 1000x400 with 1 Axes>"
      ]
     },
     "metadata": {},
     "output_type": "display_data"
    }
   ],
   "source": [
    "y_test = y_test.reset_index(drop=True)\n",
    "fig, ax = plt.subplots(figsize=(10, 4))\n",
    "ax.plot(y_test, label='Ocupação')\n",
    "ax.plot(predictions, label='Previsão')\n",
    "ax.legend()\n",
    "ax.set_title(\"Previsão Ocupação\")"
   ]
  },
  {
   "cell_type": "code",
   "execution_count": 58,
   "id": "fe55d0b9",
   "metadata": {},
   "outputs": [
    {
     "name": "stdout",
     "output_type": "stream",
     "text": [
      "Erro médio quadrático:  19.462970262112506\n",
      "Erro médio absoluto:  16.829375467300416\n"
     ]
    }
   ],
   "source": [
    "taxas_erro(y_test, predictions)"
   ]
  },
  {
   "cell_type": "markdown",
   "id": "500d5f3e",
   "metadata": {},
   "source": [
    "##### Previsões"
   ]
  },
  {
   "cell_type": "code",
   "execution_count": 59,
   "id": "4aa40b0e",
   "metadata": {},
   "outputs": [],
   "source": [
    "dataset_previsao_modelo = dataset_previsao.drop(columns=['percentual_ocupacao', 'prejuizo_lucro', 'resultado_partida']\n",
    "                                               ).copy().reset_index(drop=True).loc[:0]"
   ]
  },
  {
   "cell_type": "code",
   "execution_count": 60,
   "id": "ec34f325",
   "metadata": {},
   "outputs": [
    {
     "data": {
      "text/plain": [
       "array([58.849045], dtype=float32)"
      ]
     },
     "execution_count": 60,
     "metadata": {},
     "output_type": "execute_result"
    }
   ],
   "source": [
    "model.predict(dataset_previsao_modelo)"
   ]
  },
  {
   "cell_type": "markdown",
   "id": "1f025200",
   "metadata": {},
   "source": [
    "##### Modelo 2"
   ]
  },
  {
   "cell_type": "code",
   "execution_count": 61,
   "id": "25a68082",
   "metadata": {},
   "outputs": [],
   "source": [
    "dados_modelo_prejuizo_lucro = dados_modelo_prejuizo_lucro[~dados_modelo_prejuizo_lucro['prejuizo_lucro'].isna() == True].reset_index(drop=True)"
   ]
  },
  {
   "cell_type": "code",
   "execution_count": 62,
   "id": "d7adb01c",
   "metadata": {},
   "outputs": [],
   "source": [
    "X = dados_modelo_prejuizo_lucro.drop(columns=['prejuizo_lucro']).copy()\n",
    "y = dados_modelo_prejuizo_lucro[['prejuizo_lucro']]"
   ]
  },
  {
   "cell_type": "code",
   "execution_count": 63,
   "id": "b03289a6",
   "metadata": {},
   "outputs": [],
   "source": [
    "X_train, X_test, y_train, y_test = train_test_split(X, y, test_size=0.2, random_state=42)\n",
    "eval_set = [(X_test, y_test)]"
   ]
  },
  {
   "cell_type": "code",
   "execution_count": 64,
   "id": "1a98ff9b",
   "metadata": {},
   "outputs": [
    {
     "name": "stdout",
     "output_type": "stream",
     "text": [
      "Testando Variáveis: max_depth, min_child_weight\n",
      "Melhores valores:  {'max_depth': 5, 'min_child_weight': 1}\n",
      "-----------------------------\n",
      "Testando Variáveis:gamma\n",
      "Melhores valores:  {'gamma': 0.0}\n",
      "-----------------------------\n",
      "Testando Variáveis: subsample, colsample_bytree\n",
      "Melhores valores:  {'colsample_bytree': 0.6, 'subsample': 0.8}\n",
      "-----------------------------\n",
      "Testando Variáveis: reg_alpha\n",
      "Melhores valores:  {'reg_alpha': 1e-05}\n",
      "-----------------------------\n"
     ]
    }
   ],
   "source": [
    "tunning_hiperpametros(XGBClassifier, X_train, y_train)"
   ]
  },
  {
   "cell_type": "code",
   "execution_count": 65,
   "id": "d1d957d5",
   "metadata": {},
   "outputs": [
    {
     "name": "stdout",
     "output_type": "stream",
     "text": [
      "[0]\tvalidation_0-auc:0.70000\n",
      "[1]\tvalidation_0-auc:0.70833\n",
      "[2]\tvalidation_0-auc:0.83333\n",
      "[3]\tvalidation_0-auc:0.98333\n",
      "[4]\tvalidation_0-auc:0.75000\n",
      "[5]\tvalidation_0-auc:0.91667\n",
      "[6]\tvalidation_0-auc:0.96667\n",
      "[7]\tvalidation_0-auc:0.90000\n",
      "[8]\tvalidation_0-auc:0.96667\n",
      "[9]\tvalidation_0-auc:0.93333\n",
      "[10]\tvalidation_0-auc:0.90000\n",
      "[11]\tvalidation_0-auc:0.88333\n",
      "[12]\tvalidation_0-auc:0.96667\n"
     ]
    },
    {
     "data": {
      "text/html": [
       "<style>#sk-container-id-2 {color: black;}#sk-container-id-2 pre{padding: 0;}#sk-container-id-2 div.sk-toggleable {background-color: white;}#sk-container-id-2 label.sk-toggleable__label {cursor: pointer;display: block;width: 100%;margin-bottom: 0;padding: 0.3em;box-sizing: border-box;text-align: center;}#sk-container-id-2 label.sk-toggleable__label-arrow:before {content: \"▸\";float: left;margin-right: 0.25em;color: #696969;}#sk-container-id-2 label.sk-toggleable__label-arrow:hover:before {color: black;}#sk-container-id-2 div.sk-estimator:hover label.sk-toggleable__label-arrow:before {color: black;}#sk-container-id-2 div.sk-toggleable__content {max-height: 0;max-width: 0;overflow: hidden;text-align: left;background-color: #f0f8ff;}#sk-container-id-2 div.sk-toggleable__content pre {margin: 0.2em;color: black;border-radius: 0.25em;background-color: #f0f8ff;}#sk-container-id-2 input.sk-toggleable__control:checked~div.sk-toggleable__content {max-height: 200px;max-width: 100%;overflow: auto;}#sk-container-id-2 input.sk-toggleable__control:checked~label.sk-toggleable__label-arrow:before {content: \"▾\";}#sk-container-id-2 div.sk-estimator input.sk-toggleable__control:checked~label.sk-toggleable__label {background-color: #d4ebff;}#sk-container-id-2 div.sk-label input.sk-toggleable__control:checked~label.sk-toggleable__label {background-color: #d4ebff;}#sk-container-id-2 input.sk-hidden--visually {border: 0;clip: rect(1px 1px 1px 1px);clip: rect(1px, 1px, 1px, 1px);height: 1px;margin: -1px;overflow: hidden;padding: 0;position: absolute;width: 1px;}#sk-container-id-2 div.sk-estimator {font-family: monospace;background-color: #f0f8ff;border: 1px dotted black;border-radius: 0.25em;box-sizing: border-box;margin-bottom: 0.5em;}#sk-container-id-2 div.sk-estimator:hover {background-color: #d4ebff;}#sk-container-id-2 div.sk-parallel-item::after {content: \"\";width: 100%;border-bottom: 1px solid gray;flex-grow: 1;}#sk-container-id-2 div.sk-label:hover label.sk-toggleable__label {background-color: #d4ebff;}#sk-container-id-2 div.sk-serial::before {content: \"\";position: absolute;border-left: 1px solid gray;box-sizing: border-box;top: 0;bottom: 0;left: 50%;z-index: 0;}#sk-container-id-2 div.sk-serial {display: flex;flex-direction: column;align-items: center;background-color: white;padding-right: 0.2em;padding-left: 0.2em;position: relative;}#sk-container-id-2 div.sk-item {position: relative;z-index: 1;}#sk-container-id-2 div.sk-parallel {display: flex;align-items: stretch;justify-content: center;background-color: white;position: relative;}#sk-container-id-2 div.sk-item::before, #sk-container-id-2 div.sk-parallel-item::before {content: \"\";position: absolute;border-left: 1px solid gray;box-sizing: border-box;top: 0;bottom: 0;left: 50%;z-index: -1;}#sk-container-id-2 div.sk-parallel-item {display: flex;flex-direction: column;z-index: 1;position: relative;background-color: white;}#sk-container-id-2 div.sk-parallel-item:first-child::after {align-self: flex-end;width: 50%;}#sk-container-id-2 div.sk-parallel-item:last-child::after {align-self: flex-start;width: 50%;}#sk-container-id-2 div.sk-parallel-item:only-child::after {width: 0;}#sk-container-id-2 div.sk-dashed-wrapped {border: 1px dashed gray;margin: 0 0.4em 0.5em 0.4em;box-sizing: border-box;padding-bottom: 0.4em;background-color: white;}#sk-container-id-2 div.sk-label label {font-family: monospace;font-weight: bold;display: inline-block;line-height: 1.2em;}#sk-container-id-2 div.sk-label-container {text-align: center;}#sk-container-id-2 div.sk-container {/* jupyter's `normalize.less` sets `[hidden] { display: none; }` but bootstrap.min.css set `[hidden] { display: none !important; }` so we also need the `!important` here to be able to override the default hidden behavior on the sphinx rendered scikit-learn.org. See: https://github.com/scikit-learn/scikit-learn/issues/21755 */display: inline-block !important;position: relative;}#sk-container-id-2 div.sk-text-repr-fallback {display: none;}</style><div id=\"sk-container-id-2\" class=\"sk-top-container\"><div class=\"sk-text-repr-fallback\"><pre>XGBClassifier(base_score=None, booster=None, callbacks=None,\n",
       "              colsample_bylevel=None, colsample_bynode=None,\n",
       "              colsample_bytree=0.6, device=None, early_stopping_rounds=None,\n",
       "              enable_categorical=False, eval_metric=None, feature_types=None,\n",
       "              gamma=0.0, grow_policy=None, importance_type=None,\n",
       "              interaction_constraints=None, learning_rate=0.01, max_bin=None,\n",
       "              max_cat_threshold=None, max_cat_to_onehot=None,\n",
       "              max_delta_step=None, max_depth=5, max_leaves=None,\n",
       "              min_child_weight=1, missing=nan, monotone_constraints=None,\n",
       "              multi_strategy=None, n_estimators=10000, n_jobs=-1,\n",
       "              num_parallel_tree=None, random_state=1, ...)</pre><b>In a Jupyter environment, please rerun this cell to show the HTML representation or trust the notebook. <br />On GitHub, the HTML representation is unable to render, please try loading this page with nbviewer.org.</b></div><div class=\"sk-container\" hidden><div class=\"sk-item\"><div class=\"sk-estimator sk-toggleable\"><input class=\"sk-toggleable__control sk-hidden--visually\" id=\"sk-estimator-id-2\" type=\"checkbox\" checked><label for=\"sk-estimator-id-2\" class=\"sk-toggleable__label sk-toggleable__label-arrow\">XGBClassifier</label><div class=\"sk-toggleable__content\"><pre>XGBClassifier(base_score=None, booster=None, callbacks=None,\n",
       "              colsample_bylevel=None, colsample_bynode=None,\n",
       "              colsample_bytree=0.6, device=None, early_stopping_rounds=None,\n",
       "              enable_categorical=False, eval_metric=None, feature_types=None,\n",
       "              gamma=0.0, grow_policy=None, importance_type=None,\n",
       "              interaction_constraints=None, learning_rate=0.01, max_bin=None,\n",
       "              max_cat_threshold=None, max_cat_to_onehot=None,\n",
       "              max_delta_step=None, max_depth=5, max_leaves=None,\n",
       "              min_child_weight=1, missing=nan, monotone_constraints=None,\n",
       "              multi_strategy=None, n_estimators=10000, n_jobs=-1,\n",
       "              num_parallel_tree=None, random_state=1, ...)</pre></div></div></div></div></div>"
      ],
      "text/plain": [
       "XGBClassifier(base_score=None, booster=None, callbacks=None,\n",
       "              colsample_bylevel=None, colsample_bynode=None,\n",
       "              colsample_bytree=0.6, device=None, early_stopping_rounds=None,\n",
       "              enable_categorical=False, eval_metric=None, feature_types=None,\n",
       "              gamma=0.0, grow_policy=None, importance_type=None,\n",
       "              interaction_constraints=None, learning_rate=0.01, max_bin=None,\n",
       "              max_cat_threshold=None, max_cat_to_onehot=None,\n",
       "              max_delta_step=None, max_depth=5, max_leaves=None,\n",
       "              min_child_weight=1, missing=nan, monotone_constraints=None,\n",
       "              multi_strategy=None, n_estimators=10000, n_jobs=-1,\n",
       "              num_parallel_tree=None, random_state=1, ...)"
      ]
     },
     "execution_count": 65,
     "metadata": {},
     "output_type": "execute_result"
    }
   ],
   "source": [
    "model = XGBClassifier(verbosity=0, learning_rate=0.01, max_depth=5, n_estimators=10000, n_jobs=-1, random_state=1,\n",
    "                    min_child_weight=1, gamma = 0.0, subsample = 0.8, colsample_bytree = 0.6, scale_pos_weight = 1,\n",
    "                    reg_alpha= 1e-05)\n",
    "\n",
    "model.fit(X_train, y_train, \n",
    "          early_stopping_rounds=10,\n",
    "          eval_set=eval_set, eval_metric='auc', verbose = 1)"
   ]
  },
  {
   "cell_type": "code",
   "execution_count": 66,
   "id": "b4c3f196",
   "metadata": {},
   "outputs": [
    {
     "data": {
      "text/plain": [
       "array([0.02033694, 0.0637558 , 0.02821984, 0.07878763, 0.06759928,\n",
       "       0.09426209, 0.        , 0.02876934, 0.05241304, 0.        ,\n",
       "       0.        , 0.08345693, 0.05101383, 0.01024022, 0.0846976 ,\n",
       "       0.04854617, 0.04156802, 0.04740593, 0.        , 0.03908651,\n",
       "       0.        , 0.        , 0.        , 0.        , 0.        ,\n",
       "       0.        , 0.        , 0.        , 0.        , 0.        ,\n",
       "       0.        , 0.        , 0.        , 0.        , 0.        ,\n",
       "       0.        , 0.        , 0.        , 0.        , 0.        ,\n",
       "       0.        , 0.        , 0.        , 0.        , 0.        ,\n",
       "       0.        , 0.        , 0.        , 0.        , 0.        ,\n",
       "       0.        , 0.        , 0.        , 0.        , 0.        ,\n",
       "       0.        , 0.        , 0.        , 0.        , 0.03864672,\n",
       "       0.        , 0.        , 0.        , 0.        , 0.        ,\n",
       "       0.        , 0.        , 0.        , 0.        , 0.        ,\n",
       "       0.        , 0.        , 0.        , 0.        , 0.        ,\n",
       "       0.        , 0.        , 0.        , 0.        , 0.        ,\n",
       "       0.        , 0.        , 0.        , 0.        , 0.        ,\n",
       "       0.        , 0.        , 0.        , 0.        , 0.        ,\n",
       "       0.        , 0.        , 0.        , 0.        , 0.        ,\n",
       "       0.        , 0.        , 0.        , 0.        , 0.        ,\n",
       "       0.        , 0.        , 0.        , 0.        , 0.        ,\n",
       "       0.        , 0.1127793 , 0.        , 0.00841474, 0.        ,\n",
       "       0.        , 0.        , 0.        , 0.        , 0.        ],\n",
       "      dtype=float32)"
      ]
     },
     "execution_count": 66,
     "metadata": {},
     "output_type": "execute_result"
    }
   ],
   "source": [
    "model.feature_importances_"
   ]
  },
  {
   "cell_type": "code",
   "execution_count": 67,
   "id": "6d578b60",
   "metadata": {},
   "outputs": [
    {
     "data": {
      "text/plain": [
       "<Axes: title={'center': 'Feature importance'}, xlabel='F score', ylabel='Features'>"
      ]
     },
     "execution_count": 67,
     "metadata": {},
     "output_type": "execute_result"
    },
    {
     "data": {
      "image/png": "[encoded data removed]",
      "text/plain": [
       "<Figure size 640x480 with 1 Axes>"
      ]
     },
     "metadata": {},
     "output_type": "display_data"
    }
   ],
   "source": [
    "plot_importance(model, max_num_features=20)"
   ]
  },
  {
   "cell_type": "code",
   "execution_count": 68,
   "id": "8ceecda6",
   "metadata": {},
   "outputs": [
    {
     "data": {
      "text/plain": [
       "0.5483870967741935"
      ]
     },
     "execution_count": 68,
     "metadata": {},
     "output_type": "execute_result"
    }
   ],
   "source": [
    "score = model.score(X_train, y_train)  \n",
    "score"
   ]
  },
  {
   "cell_type": "code",
   "execution_count": 69,
   "id": "3c8a1c17",
   "metadata": {},
   "outputs": [
    {
     "data": {
      "text/plain": [
       "16"
      ]
     },
     "execution_count": 69,
     "metadata": {},
     "output_type": "execute_result"
    }
   ],
   "source": [
    "y_pred = model.predict(X_test)\n",
    "predictions = [round(value, 2) for value in y_pred]\n",
    "len(predictions)"
   ]
  },
  {
   "cell_type": "code",
   "execution_count": 70,
   "id": "f1cd4ff6",
   "metadata": {},
   "outputs": [
    {
     "data": {
      "image/png": "[encoded data removed]",
      "text/plain": [
       "<Figure size 640x480 with 2 Axes>"
      ]
     },
     "metadata": {},
     "output_type": "display_data"
    }
   ],
   "source": [
    "sns.heatmap(confusion_matrix(y_test, predictions), \n",
    "            annot=True,\n",
    "            fmt='g')\n",
    "plt.ylabel('Acontecido',fontsize=13)\n",
    "plt.xlabel('Previsão',fontsize=13)\n",
    "plt.show()"
   ]
  },
  {
   "cell_type": "code",
   "execution_count": 71,
   "id": "be93a879",
   "metadata": {},
   "outputs": [
    {
     "name": "stdout",
     "output_type": "stream",
     "text": [
      "              precision    recall  f1-score   support\n",
      "\n",
      "       False       0.00      0.00      0.00        10\n",
      "        True       0.38      1.00      0.55         6\n",
      "\n",
      "    accuracy                           0.38        16\n",
      "   macro avg       0.19      0.50      0.27        16\n",
      "weighted avg       0.14      0.38      0.20        16\n",
      "\n"
     ]
    }
   ],
   "source": [
    "print(classification_report(y_test, predictions))"
   ]
  },
  {
   "cell_type": "markdown",
   "id": "1e5083d5",
   "metadata": {},
   "source": [
    "##### Previsões"
   ]
  },
  {
   "cell_type": "code",
   "execution_count": 72,
   "id": "67d52a32",
   "metadata": {},
   "outputs": [
    {
     "data": {
      "text/plain": [
       "array([1])"
      ]
     },
     "execution_count": 72,
     "metadata": {},
     "output_type": "execute_result"
    }
   ],
   "source": [
    "model.predict(dataset_previsao_modelo)"
   ]
  },
  {
   "cell_type": "markdown",
   "id": "2178b4f3",
   "metadata": {},
   "source": [
    "##### Modelo 3"
   ]
  },
  {
   "cell_type": "code",
   "execution_count": 73,
   "id": "d70df1cb",
   "metadata": {},
   "outputs": [],
   "source": [
    "X = dados_modelo_resultado_partida.drop(columns=['resultado_partida']).copy()\n",
    "y = dados_modelo_resultado_partida[['resultado_partida']]"
   ]
  },
  {
   "cell_type": "code",
   "execution_count": 74,
   "id": "1f93c4ae",
   "metadata": {},
   "outputs": [],
   "source": [
    "y.loc[y[y['resultado_partida'] == -1].index, 'resultado_partida'] = 2"
   ]
  },
  {
   "cell_type": "code",
   "execution_count": 75,
   "id": "028a931c",
   "metadata": {},
   "outputs": [],
   "source": [
    "y['resultado_partida'] = y['resultado_partida'].astype(int)"
   ]
  },
  {
   "cell_type": "code",
   "execution_count": 76,
   "id": "b9c3ab31",
   "metadata": {},
   "outputs": [],
   "source": [
    "X_train, X_test, y_train, y_test = train_test_split(X, y, test_size=0.2, random_state=42)\n",
    "eval_set = [(X_test, y_test)]"
   ]
  },
  {
   "cell_type": "code",
   "execution_count": 77,
   "id": "08db6641",
   "metadata": {},
   "outputs": [
    {
     "name": "stdout",
     "output_type": "stream",
     "text": [
      "Testando Variáveis: max_depth, min_child_weight\n",
      "Melhores valores:  {'max_depth': 3, 'min_child_weight': 1}\n",
      "-----------------------------\n",
      "Testando Variáveis:gamma\n",
      "Melhores valores:  {'gamma': 0.0}\n",
      "-----------------------------\n",
      "Testando Variáveis: subsample, colsample_bytree\n",
      "Melhores valores:  {'colsample_bytree': 0.6, 'subsample': 0.6}\n",
      "-----------------------------\n",
      "Testando Variáveis: reg_alpha\n",
      "Melhores valores:  {'reg_alpha': 1e-05}\n",
      "-----------------------------\n"
     ]
    }
   ],
   "source": [
    "tunning_hiperpametros(XGBClassifier, X_train, y_train)"
   ]
  },
  {
   "cell_type": "code",
   "execution_count": 78,
   "id": "2802c68e",
   "metadata": {},
   "outputs": [
    {
     "name": "stdout",
     "output_type": "stream",
     "text": [
      "[0]\tvalidation_0-auc:0.69681\n",
      "[1]\tvalidation_0-auc:0.77620\n",
      "[2]\tvalidation_0-auc:0.63573\n",
      "[3]\tvalidation_0-auc:0.61790\n",
      "[4]\tvalidation_0-auc:0.62879\n",
      "[5]\tvalidation_0-auc:0.67708\n",
      "[6]\tvalidation_0-auc:0.67582\n",
      "[7]\tvalidation_0-auc:0.69318\n",
      "[8]\tvalidation_0-auc:0.71102\n",
      "[9]\tvalidation_0-auc:0.69839\n",
      "[10]\tvalidation_0-auc:0.72317\n"
     ]
    },
    {
     "data": {
      "text/html": [
       "<style>#sk-container-id-3 {color: black;}#sk-container-id-3 pre{padding: 0;}#sk-container-id-3 div.sk-toggleable {background-color: white;}#sk-container-id-3 label.sk-toggleable__label {cursor: pointer;display: block;width: 100%;margin-bottom: 0;padding: 0.3em;box-sizing: border-box;text-align: center;}#sk-container-id-3 label.sk-toggleable__label-arrow:before {content: \"▸\";float: left;margin-right: 0.25em;color: #696969;}#sk-container-id-3 label.sk-toggleable__label-arrow:hover:before {color: black;}#sk-container-id-3 div.sk-estimator:hover label.sk-toggleable__label-arrow:before {color: black;}#sk-container-id-3 div.sk-toggleable__content {max-height: 0;max-width: 0;overflow: hidden;text-align: left;background-color: #f0f8ff;}#sk-container-id-3 div.sk-toggleable__content pre {margin: 0.2em;color: black;border-radius: 0.25em;background-color: #f0f8ff;}#sk-container-id-3 input.sk-toggleable__control:checked~div.sk-toggleable__content {max-height: 200px;max-width: 100%;overflow: auto;}#sk-container-id-3 input.sk-toggleable__control:checked~label.sk-toggleable__label-arrow:before {content: \"▾\";}#sk-container-id-3 div.sk-estimator input.sk-toggleable__control:checked~label.sk-toggleable__label {background-color: #d4ebff;}#sk-container-id-3 div.sk-label input.sk-toggleable__control:checked~label.sk-toggleable__label {background-color: #d4ebff;}#sk-container-id-3 input.sk-hidden--visually {border: 0;clip: rect(1px 1px 1px 1px);clip: rect(1px, 1px, 1px, 1px);height: 1px;margin: -1px;overflow: hidden;padding: 0;position: absolute;width: 1px;}#sk-container-id-3 div.sk-estimator {font-family: monospace;background-color: #f0f8ff;border: 1px dotted black;border-radius: 0.25em;box-sizing: border-box;margin-bottom: 0.5em;}#sk-container-id-3 div.sk-estimator:hover {background-color: #d4ebff;}#sk-container-id-3 div.sk-parallel-item::after {content: \"\";width: 100%;border-bottom: 1px solid gray;flex-grow: 1;}#sk-container-id-3 div.sk-label:hover label.sk-toggleable__label {background-color: #d4ebff;}#sk-container-id-3 div.sk-serial::before {content: \"\";position: absolute;border-left: 1px solid gray;box-sizing: border-box;top: 0;bottom: 0;left: 50%;z-index: 0;}#sk-container-id-3 div.sk-serial {display: flex;flex-direction: column;align-items: center;background-color: white;padding-right: 0.2em;padding-left: 0.2em;position: relative;}#sk-container-id-3 div.sk-item {position: relative;z-index: 1;}#sk-container-id-3 div.sk-parallel {display: flex;align-items: stretch;justify-content: center;background-color: white;position: relative;}#sk-container-id-3 div.sk-item::before, #sk-container-id-3 div.sk-parallel-item::before {content: \"\";position: absolute;border-left: 1px solid gray;box-sizing: border-box;top: 0;bottom: 0;left: 50%;z-index: -1;}#sk-container-id-3 div.sk-parallel-item {display: flex;flex-direction: column;z-index: 1;position: relative;background-color: white;}#sk-container-id-3 div.sk-parallel-item:first-child::after {align-self: flex-end;width: 50%;}#sk-container-id-3 div.sk-parallel-item:last-child::after {align-self: flex-start;width: 50%;}#sk-container-id-3 div.sk-parallel-item:only-child::after {width: 0;}#sk-container-id-3 div.sk-dashed-wrapped {border: 1px dashed gray;margin: 0 0.4em 0.5em 0.4em;box-sizing: border-box;padding-bottom: 0.4em;background-color: white;}#sk-container-id-3 div.sk-label label {font-family: monospace;font-weight: bold;display: inline-block;line-height: 1.2em;}#sk-container-id-3 div.sk-label-container {text-align: center;}#sk-container-id-3 div.sk-container {/* jupyter's `normalize.less` sets `[hidden] { display: none; }` but bootstrap.min.css set `[hidden] { display: none !important; }` so we also need the `!important` here to be able to override the default hidden behavior on the sphinx rendered scikit-learn.org. See: https://github.com/scikit-learn/scikit-learn/issues/21755 */display: inline-block !important;position: relative;}#sk-container-id-3 div.sk-text-repr-fallback {display: none;}</style><div id=\"sk-container-id-3\" class=\"sk-top-container\"><div class=\"sk-text-repr-fallback\"><pre>XGBClassifier(base_score=None, booster=None, callbacks=None,\n",
       "              colsample_bylevel=None, colsample_bynode=None,\n",
       "              colsample_bytree=0.6, device=None, early_stopping_rounds=None,\n",
       "              enable_categorical=False, eval_metric=None, feature_types=None,\n",
       "              gamma=0.0, grow_policy=None, importance_type=None,\n",
       "              interaction_constraints=None, learning_rate=0.01, max_bin=None,\n",
       "              max_cat_threshold=None, max_cat_to_onehot=None,\n",
       "              max_delta_step=None, max_depth=3, max_leaves=None,\n",
       "              min_child_weight=1, missing=nan, monotone_constraints=None,\n",
       "              multi_strategy=None, n_estimators=10000, n_jobs=-1,\n",
       "              num_parallel_tree=None, objective=&#x27;multi:softprob&#x27;, ...)</pre><b>In a Jupyter environment, please rerun this cell to show the HTML representation or trust the notebook. <br />On GitHub, the HTML representation is unable to render, please try loading this page with nbviewer.org.</b></div><div class=\"sk-container\" hidden><div class=\"sk-item\"><div class=\"sk-estimator sk-toggleable\"><input class=\"sk-toggleable__control sk-hidden--visually\" id=\"sk-estimator-id-3\" type=\"checkbox\" checked><label for=\"sk-estimator-id-3\" class=\"sk-toggleable__label sk-toggleable__label-arrow\">XGBClassifier</label><div class=\"sk-toggleable__content\"><pre>XGBClassifier(base_score=None, booster=None, callbacks=None,\n",
       "              colsample_bylevel=None, colsample_bynode=None,\n",
       "              colsample_bytree=0.6, device=None, early_stopping_rounds=None,\n",
       "              enable_categorical=False, eval_metric=None, feature_types=None,\n",
       "              gamma=0.0, grow_policy=None, importance_type=None,\n",
       "              interaction_constraints=None, learning_rate=0.01, max_bin=None,\n",
       "              max_cat_threshold=None, max_cat_to_onehot=None,\n",
       "              max_delta_step=None, max_depth=3, max_leaves=None,\n",
       "              min_child_weight=1, missing=nan, monotone_constraints=None,\n",
       "              multi_strategy=None, n_estimators=10000, n_jobs=-1,\n",
       "              num_parallel_tree=None, objective=&#x27;multi:softprob&#x27;, ...)</pre></div></div></div></div></div>"
      ],
      "text/plain": [
       "XGBClassifier(base_score=None, booster=None, callbacks=None,\n",
       "              colsample_bylevel=None, colsample_bynode=None,\n",
       "              colsample_bytree=0.6, device=None, early_stopping_rounds=None,\n",
       "              enable_categorical=False, eval_metric=None, feature_types=None,\n",
       "              gamma=0.0, grow_policy=None, importance_type=None,\n",
       "              interaction_constraints=None, learning_rate=0.01, max_bin=None,\n",
       "              max_cat_threshold=None, max_cat_to_onehot=None,\n",
       "              max_delta_step=None, max_depth=3, max_leaves=None,\n",
       "              min_child_weight=1, missing=nan, monotone_constraints=None,\n",
       "              multi_strategy=None, n_estimators=10000, n_jobs=-1,\n",
       "              num_parallel_tree=None, objective='multi:softprob', ...)"
      ]
     },
     "execution_count": 78,
     "metadata": {},
     "output_type": "execute_result"
    }
   ],
   "source": [
    "model = XGBClassifier(verbosity=0, learning_rate=0.01, max_depth=3, n_estimators=10000, n_jobs=-1, random_state=1,\n",
    "                    min_child_weight=1, gamma = 0., subsample = 0.6, colsample_bytree = 0.6, scale_pos_weight = 1,\n",
    "                    reg_alpha= 1e-05)\n",
    "\n",
    "model.fit(X_train, y_train, \n",
    "          early_stopping_rounds=10,\n",
    "          eval_set=eval_set, eval_metric='auc', verbose = 1)"
   ]
  },
  {
   "cell_type": "code",
   "execution_count": 79,
   "id": "73c58522",
   "metadata": {},
   "outputs": [
    {
     "data": {
      "text/plain": [
       "array([0.06440157, 0.02649638, 0.02453469, 0.04184848, 0.        ,\n",
       "       0.04032499, 0.        , 0.04141705, 0.02767071, 0.        ,\n",
       "       0.        , 0.04090466, 0.05861609, 0.03256984, 0.09951118,\n",
       "       0.03997768, 0.02895662, 0.031821  , 0.        , 0.02124842,\n",
       "       0.04248986, 0.        , 0.        , 0.        , 0.        ,\n",
       "       0.0416107 , 0.        , 0.        , 0.        , 0.        ,\n",
       "       0.        , 0.        , 0.        , 0.        , 0.        ,\n",
       "       0.        , 0.        , 0.        , 0.        , 0.        ,\n",
       "       0.        , 0.        , 0.        , 0.        , 0.        ,\n",
       "       0.        , 0.03721806, 0.        , 0.        , 0.        ,\n",
       "       0.01140228, 0.        , 0.        , 0.        , 0.        ,\n",
       "       0.        , 0.        , 0.        , 0.01383657, 0.        ,\n",
       "       0.03220648, 0.        , 0.        , 0.03756999, 0.        ,\n",
       "       0.        , 0.        , 0.        , 0.        , 0.        ,\n",
       "       0.        , 0.        , 0.        , 0.        , 0.        ,\n",
       "       0.        , 0.        , 0.        , 0.        , 0.        ,\n",
       "       0.        , 0.        , 0.05897782, 0.0109533 , 0.        ,\n",
       "       0.        , 0.        , 0.        , 0.        , 0.        ,\n",
       "       0.        , 0.        , 0.        , 0.        , 0.        ,\n",
       "       0.        , 0.        , 0.        , 0.        , 0.        ,\n",
       "       0.        , 0.        , 0.        , 0.        , 0.        ,\n",
       "       0.        , 0.03057337, 0.        , 0.06286216, 0.        ,\n",
       "       0.        , 0.        , 0.        , 0.        , 0.        ],\n",
       "      dtype=float32)"
      ]
     },
     "execution_count": 79,
     "metadata": {},
     "output_type": "execute_result"
    }
   ],
   "source": [
    "model.feature_importances_"
   ]
  },
  {
   "cell_type": "code",
   "execution_count": 80,
   "id": "1f3e4a1a",
   "metadata": {},
   "outputs": [
    {
     "data": {
      "text/plain": [
       "<Axes: title={'center': 'Feature importance'}, xlabel='F score', ylabel='Features'>"
      ]
     },
     "execution_count": 80,
     "metadata": {},
     "output_type": "execute_result"
    },
    {
     "data": {
      "image/png": "[encoded data removed]",
      "text/plain": [
       "<Figure size 640x480 with 1 Axes>"
      ]
     },
     "metadata": {},
     "output_type": "display_data"
    }
   ],
   "source": [
    "plot_importance(model, max_num_features=20)"
   ]
  },
  {
   "cell_type": "code",
   "execution_count": 81,
   "id": "990f25b0",
   "metadata": {},
   "outputs": [
    {
     "data": {
      "text/plain": [
       "0.7580645161290323"
      ]
     },
     "execution_count": 81,
     "metadata": {},
     "output_type": "execute_result"
    }
   ],
   "source": [
    "score = model.score(X_train, y_train)  \n",
    "score"
   ]
  },
  {
   "cell_type": "code",
   "execution_count": 82,
   "id": "52edb703",
   "metadata": {},
   "outputs": [
    {
     "data": {
      "text/plain": [
       "16"
      ]
     },
     "execution_count": 82,
     "metadata": {},
     "output_type": "execute_result"
    }
   ],
   "source": [
    "y_pred = model.predict(X_test)\n",
    "predictions = [round(value, 2) for value in y_pred]\n",
    "len(predictions)"
   ]
  },
  {
   "cell_type": "code",
   "execution_count": 83,
   "id": "dccdf407",
   "metadata": {},
   "outputs": [
    {
     "data": {
      "image/png": "[encoded data removed]",
      "text/plain": [
       "<Figure size 640x480 with 2 Axes>"
      ]
     },
     "metadata": {},
     "output_type": "display_data"
    }
   ],
   "source": [
    "sns.heatmap(confusion_matrix(y_test, predictions), \n",
    "            annot=True,\n",
    "            fmt='g')\n",
    "plt.ylabel('Acontecido',fontsize=13)\n",
    "plt.xlabel('Previsão',fontsize=13)\n",
    "plt.show()"
   ]
  },
  {
   "cell_type": "code",
   "execution_count": 84,
   "id": "18842aa8",
   "metadata": {},
   "outputs": [
    {
     "name": "stdout",
     "output_type": "stream",
     "text": [
      "              precision    recall  f1-score   support\n",
      "\n",
      "           0       0.00      0.00      0.00         4\n",
      "           1       0.64      1.00      0.78         7\n",
      "           2       0.75      0.60      0.67         5\n",
      "\n",
      "    accuracy                           0.62        16\n",
      "   macro avg       0.46      0.53      0.48        16\n",
      "weighted avg       0.51      0.62      0.55        16\n",
      "\n"
     ]
    }
   ],
   "source": [
    "print(classification_report(y_test, predictions))"
   ]
  },
  {
   "cell_type": "markdown",
   "id": "00978204",
   "metadata": {},
   "source": [
    "##### Previsões"
   ]
  },
  {
   "cell_type": "code",
   "execution_count": 85,
   "id": "3bf42e47",
   "metadata": {},
   "outputs": [
    {
     "data": {
      "text/plain": [
       "array([2], dtype=int64)"
      ]
     },
     "execution_count": 85,
     "metadata": {},
     "output_type": "execute_result"
    }
   ],
   "source": [
    "model.predict(dataset_previsao_modelo)"
   ]
  }
 ],
 "metadata": {
  "kernelspec": {
   "display_name": "Python 3 (ipykernel)",
   "language": "python",
   "name": "python3"
  },
  "language_info": {
   "codemirror_mode": {
    "name": "ipython",
    "version": 3
   },
   "file_extension": ".py",
   "mimetype": "text/x-python",
   "name": "python",
   "nbconvert_exporter": "python",
   "pygments_lexer": "ipython3",
   "version": "3.11.5"
  }
 },
 "nbformat": 4,
 "nbformat_minor": 5
}
