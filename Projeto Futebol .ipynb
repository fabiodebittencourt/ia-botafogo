{
 "cells": [
  {
   "cell_type": "markdown",
   "id": "184c39e7",
   "metadata": {},
   "source": [
    "### Bibliotecas"
   ]
  },
  {
   "cell_type": "code",
   "execution_count": 1,
   "id": "95fb1707",
   "metadata": {},
   "outputs": [],
   "source": [
    "import pandas as pd\n",
    "from datetime import datetime, date\n",
    "from matplotlib import pyplot as plt\n",
    "from scipy import stats\n",
    "from patsy import dmatrices\n",
    "from xgboost import XGBRegressor, XGBClassifier, plot_importance\n",
    "from sklearn.model_selection import train_test_split, GridSearchCV\n",
    "from sklearn.metrics import mean_squared_error, mean_absolute_error, confusion_matrix, classification_report\n",
    "from sklearn.preprocessing import MinMaxScaler\n",
    "from math import sqrt\n",
    "import seaborn as sns\n",
    "import numpy as np\n",
    "import warnings\n",
    "warnings.filterwarnings(\"ignore\")"
   ]
  },
  {
   "cell_type": "markdown",
   "id": "1422de3a",
   "metadata": {},
   "source": [
    "### Importação dos Dados e Criação de Variáveis"
   ]
  },
  {
   "cell_type": "code",
   "execution_count": 3,
   "id": "e1d96fc8",
   "metadata": {},
   "outputs": [],
   "source": [
    "dataset_dados = pd.read_excel('botafogo_previsao_estadio.xlsx')"
   ]
  },
  {
   "cell_type": "code",
   "execution_count": 4,
   "id": "ac4572b5",
   "metadata": {},
   "outputs": [],
   "source": [
    "dataset_dados = dataset_dados.sort_values(by='data').reset_index(drop=True)"
   ]
  },
  {
   "cell_type": "markdown",
   "id": "385bef93",
   "metadata": {},
   "source": [
    "##### Datas"
   ]
  },
  {
   "cell_type": "code",
   "execution_count": 6,
   "id": "7424eef5",
   "metadata": {},
   "outputs": [],
   "source": [
    "dataset_dados['data'] = pd.to_datetime(dataset_dados['data'])"
   ]
  },
  {
   "cell_type": "code",
   "execution_count": 7,
   "id": "fdfda733",
   "metadata": {},
   "outputs": [],
   "source": [
    "dataset_dados['horario'] = dataset_dados['horario'].fillna('99:99:99')"
   ]
  },
  {
   "cell_type": "code",
   "execution_count": 8,
   "id": "d0c26f58",
   "metadata": {},
   "outputs": [],
   "source": [
    "dataset_dados = dataset_dados.assign(dia_semana=dataset_dados['data'].dt.weekday, hora=dataset_dados['horario'].astype('str').str.slice(stop=2).astype('int').replace({99:np.nan}),\n",
    "                     minuto=dataset_dados['horario'].astype('str').str.slice(start=3, stop=5).astype('int').replace({99:np.nan}))\n",
    "dataset_dados['horario'] = dataset_dados['horario'].replace({'99:99:99':np.nan})"
   ]
  },
  {
   "cell_type": "code",
   "execution_count": 9,
   "id": "331482a4",
   "metadata": {},
   "outputs": [],
   "source": [
    "dataset_dados['mes'] = dataset_dados['data'].dt.month"
   ]
  },
  {
   "cell_type": "code",
   "execution_count": 10,
   "id": "5d228461",
   "metadata": {},
   "outputs": [],
   "source": [
    "dataset_dados['dia_mes'] = dataset_dados['data'].dt.day"
   ]
  },
  {
   "cell_type": "markdown",
   "id": "b1b7651c",
   "metadata": {},
   "source": [
    "##### Resultados de Jogos"
   ]
  },
  {
   "cell_type": "code",
   "execution_count": 12,
   "id": "7b83df4b",
   "metadata": {},
   "outputs": [],
   "source": [
    "dataset_dados['resultado_temporario'] = dataset_dados['gols_mandante'] - dataset_dados['gols_visitantes']"
   ]
  },
  {
   "cell_type": "code",
   "execution_count": 13,
   "id": "5b9391d1",
   "metadata": {},
   "outputs": [],
   "source": [
    "dataset_dados = dataset_dados.assign(resultado_partida=dataset_dados['resultado_temporario'].map(lambda x: 0 if x == 0 else 1 if x > 0 else -1))"
   ]
  },
  {
   "cell_type": "code",
   "execution_count": 14,
   "id": "a9eb95b3",
   "metadata": {},
   "outputs": [],
   "source": [
    "dataset_dados.loc[dataset_dados[\n",
    "    (dataset_dados['time_mandante'] != 'Botafogo') &\n",
    "    (dataset_dados['resultado_partida'] == 1)\n",
    "].index, 'resultado_partida'] = -1"
   ]
  },
  {
   "cell_type": "code",
   "execution_count": 15,
   "id": "7edaedd7",
   "metadata": {},
   "outputs": [],
   "source": [
    "dataset_dados.loc[dataset_dados[\n",
    "    (dataset_dados['time_mandante'] != 'Botafogo') &\n",
    "    (dataset_dados['resultado_partida'] == -1)\n",
    "].index, 'resultado_partida'] = 1"
   ]
  },
  {
   "cell_type": "markdown",
   "id": "2a4a35a4",
   "metadata": {},
   "source": [
    "Resultados Consecutivos\n",
    "\n",
    "    Olhando para os últimos 5 jogos como vem sendo o \"momento\" do time:\n",
    "        Vitória: 1 ponto\n",
    "        Empate: 0 ponto\n",
    "        Derrota: -1 ponto\n",
    "        \n",
    "    Valor Máximo: 5 pontos\n",
    "    Valor Mínimo: -5 pontos"
   ]
  },
  {
   "cell_type": "code",
   "execution_count": 17,
   "id": "49da0de5",
   "metadata": {},
   "outputs": [],
   "source": [
    "#RESULTADOS CONSECUTIVOS\n",
    "\n",
    "dataset_consec = dataset_dados['resultado_partida'].shift(5, fill_value=0)\n",
    "\n",
    "for i in range(len(dataset_dados)):\n",
    "    valor = dataset_consec[i:5+i].sum()\n",
    "    dataset_dados.loc[i, 'resultados_consecutivos'] = valor\n",
    "    \n",
    "#RESULTADO ÚLTIMO JOGO\n",
    "\n",
    "dataset_ultimo = dataset_dados['resultado_partida'].shift(1, fill_value=0)\n",
    "\n",
    "for i in range(len(dataset_dados)):\n",
    "    valor = dataset_ultimo[i:5+i].sum()\n",
    "    dataset_dados.loc[i, 'resultados_ultimo_jogo'] = valor\n",
    "\n",
    "del dataset_consec, dataset_ultimo"
   ]
  },
  {
   "cell_type": "markdown",
   "id": "12190c65",
   "metadata": {},
   "source": [
    "##### Gols, Colocação e Time Adversário"
   ]
  },
  {
   "cell_type": "code",
   "execution_count": 19,
   "id": "2b202ebb",
   "metadata": {},
   "outputs": [],
   "source": [
    "dataset_dados.loc[:,['gols_botafogo','colocacao_botafogo','colocacao_adversario','time_adversario']] = dataset_dados.apply(lambda d: d[['gols_mandante','colocacao_mandante','colocacao_visitante','time_visitante']].rename(index={'gols_mandante':'gols_botafogo','colocacao_mandante':'colocacao_botafogo','colocacao_visitante':'colocacao_adversario','time_visitante':'time_adversario'})\n",
    "                            if d['time_mandante'] == 'Botafogo' \n",
    "                            else d[['gols_visitantes','colocacao_visitante','colocacao_mandante','time_mandante']].rename(index={'gols_visitantes':'gols_botafogo','colocacao_visitante':'colocacao_botafogo','colocacao_mandante':'colocacao_adversario','time_mandante':'time_adversario'}), axis=1)"
   ]
  },
  {
   "cell_type": "code",
   "execution_count": 20,
   "id": "f0c1b9b1",
   "metadata": {},
   "outputs": [],
   "source": [
    "dataset_gols = dataset_dados['gols_botafogo'].shift(5, fill_value=0)\n",
    "for i in range(len(dataset_dados)):\n",
    "    valor = dataset_gols[i+0:5+i].sum()\n",
    "    dataset_dados.loc[i, 'gols_botafogo_ultimos_jogos'] = valor\n",
    "del dataset_gols"
   ]
  },
  {
   "cell_type": "markdown",
   "id": "fee56d99",
   "metadata": {},
   "source": [
    "##### Percentual de Ocupacao"
   ]
  },
  {
   "cell_type": "code",
   "execution_count": 22,
   "id": "c490eb6c",
   "metadata": {},
   "outputs": [],
   "source": [
    "dataset_dados['percentual_ocupacao'] = round((dataset_dados['publico'] / dataset_dados['publico_max']) * 100, 2)"
   ]
  },
  {
   "cell_type": "markdown",
   "id": "032343da",
   "metadata": {},
   "source": [
    "##### Jogos de Mando Vendido ou Compartilhado"
   ]
  },
  {
   "cell_type": "code",
   "execution_count": 24,
   "id": "2c55fad1",
   "metadata": {},
   "outputs": [],
   "source": [
    "dados_mando_vendido = dataset_dados[(dataset_dados['resultado_financeiro'] != dataset_dados['custo_botafogo'])]\n",
    "index = dados_mando_vendido[~dados_mando_vendido['custo_botafogo'].isnull()].index"
   ]
  },
  {
   "cell_type": "code",
   "execution_count": 26,
   "id": "7ae377bd",
   "metadata": {},
   "outputs": [],
   "source": [
    "dataset_dados['mando_vendido_compartilhado'] = False\n",
    "dataset_dados.loc[index, 'mando_vendido_compartilhado'] = True"
   ]
  },
  {
   "cell_type": "markdown",
   "id": "43e02cf6",
   "metadata": {},
   "source": [
    "##### Prejuízo ou Lucro"
   ]
  },
  {
   "cell_type": "code",
   "execution_count": 28,
   "id": "825e8f6f",
   "metadata": {},
   "outputs": [],
   "source": [
    "index = dataset_dados[dataset_dados['custo_botafogo'] <= 0].index\n",
    "dataset_dados.loc[index, 'prejuizo_lucro'] = False\n",
    "index = dataset_dados[dataset_dados['custo_botafogo'] > 0].index\n",
    "dataset_dados.loc[index, 'prejuizo_lucro'] = True"
   ]
  },
  {
   "cell_type": "markdown",
   "id": "dc0a180b",
   "metadata": {},
   "source": [
    "Competições Internacionais não possuem o borderô publicado a partir de certa data, portanto vamos considerar uma regra:\n",
    "\n",
    "    Nunca houve prejuízo em jogos com 900000 reais de arrecadação"
   ]
  },
  {
   "cell_type": "code",
   "execution_count": 34,
   "id": "05d2b208",
   "metadata": {},
   "outputs": [],
   "source": [
    "index = dataset_dados[(dataset_dados['custo_botafogo'].isnull()) &\n",
    "              (dataset_dados['arrecadacao'] < 900000)\n",
    "             ].index\n",
    "dataset_dados.loc[index, 'prejuizo_lucro'] = False\n",
    "index = dataset_dados[(dataset_dados['custo_botafogo'].isnull()) &\n",
    "              (dataset_dados['arrecadacao'] >= 900000)\n",
    "             ].index\n",
    "dataset_dados.loc[index, 'prejuizo_lucro'] = True"
   ]
  },
  {
   "cell_type": "markdown",
   "id": "8ae6ae4c",
   "metadata": {},
   "source": [
    "### Dados Usáveis para o Modelo e Tratamentos"
   ]
  },
  {
   "cell_type": "code",
   "execution_count": 43,
   "id": "cee07f5c",
   "metadata": {},
   "outputs": [],
   "source": [
    "dataset_dados = dataset_dados[dataset_dados['time_mandante'] == 'Botafogo']\n",
    "dataset_dados = dataset_dados.reset_index(drop=True)"
   ]
  },
  {
   "cell_type": "markdown",
   "id": "20476ede",
   "metadata": {},
   "source": [
    "##### Distância dos Dias entre o Último Jogo em Casa"
   ]
  },
  {
   "cell_type": "code",
   "execution_count": 47,
   "id": "bda1492e",
   "metadata": {},
   "outputs": [],
   "source": [
    "dataset_dados['data_ultimo_jogo'] = dataset_dados['data'].shift(1)"
   ]
  },
  {
   "cell_type": "code",
   "execution_count": 50,
   "id": "cabe5e6e",
   "metadata": {},
   "outputs": [],
   "source": [
    "dataset_dados.loc[0,'data_ultimo_jogo'] = pd.to_datetime('2022-03-07')"
   ]
  },
  {
   "cell_type": "code",
   "execution_count": 54,
   "id": "4024039e",
   "metadata": {},
   "outputs": [],
   "source": [
    "dataset_dados.loc[:, 'dias_ultimo_jogo_casa'] = (dataset_dados['data'] - dataset_dados['data_ultimo_jogo']).dt.days"
   ]
  },
  {
   "cell_type": "markdown",
   "id": "456dd701",
   "metadata": {},
   "source": [
    "##### Tratamentos"
   ]
  },
  {
   "cell_type": "code",
   "execution_count": 57,
   "id": "f284f239",
   "metadata": {},
   "outputs": [
    {
     "data": {
      "text/plain": [
       "93"
      ]
     },
     "execution_count": 57,
     "metadata": {},
     "output_type": "execute_result"
    }
   ],
   "source": [
    "len(dataset_dados)"
   ]
  },
  {
   "cell_type": "code",
   "execution_count": 58,
   "id": "02d8b9b3",
   "metadata": {},
   "outputs": [
    {
     "data": {
      "text/plain": [
       "Index(['ano_campeonato', 'campeonato', 'fase', 'estádio', 'data', 'horario',\n",
       "       'temperatura', 'jogos_no_mes', 'rodada', 'tipo_partida', 'publico',\n",
       "       'publico_max', 'arrecadacao', 'despesas', 'impostos',\n",
       "       'resultado_financeiro', 'custo_botafogo', 'anunciou_poupar',\n",
       "       'time_mandante', 'time_visitante', 'estado_adversario', 'classico',\n",
       "       'eliminatorio', 'tecnico_botafogo', 'desfalques', 'colocacao_mandante',\n",
       "       'colocacao_visitante', 'gols_mandante', 'gols_visitantes', 'dia_semana',\n",
       "       'hora', 'minuto', 'mes', 'dia_mes', 'resultado_temporario',\n",
       "       'resultado_partida', 'resultados_consecutivos',\n",
       "       'resultados_ultimo_jogo', 'gols_botafogo', 'colocacao_botafogo',\n",
       "       'colocacao_adversario', 'time_adversario',\n",
       "       'gols_botafogo_ultimos_jogos', 'percentual_ocupacao',\n",
       "       'mando_vendido_compartilhado', 'prejuizo_lucro', 'data_ultimo_jogo',\n",
       "       'dias_ultimo_jogo_casa'],\n",
       "      dtype='object')"
      ]
     },
     "execution_count": 58,
     "metadata": {},
     "output_type": "execute_result"
    }
   ],
   "source": [
    "dataset_dados.columns"
   ]
  },
  {
   "cell_type": "code",
   "execution_count": 62,
   "id": "80e2cc30",
   "metadata": {},
   "outputs": [],
   "source": [
    "dataset_dados = dataset_dados.drop(columns=['resultado_temporario', 'gols_visitantes', 'gols_mandante',\n",
    "                                           'colocacao_visitante', 'colocacao_mandante', 'time_visitante', 'time_mandante',\n",
    "                                           'custo_botafogo', 'resultado_financeiro', 'impostos', 'despesas', 'arrecadacao',\n",
    "                                            'publico_max', 'publico', 'gols_botafogo', 'horario', 'data_ultimo_jogo'])"
   ]
  },
  {
   "cell_type": "code",
   "execution_count": 64,
   "id": "4f807983",
   "metadata": {},
   "outputs": [
    {
     "data": {
      "text/plain": [
       "Index(['ano_campeonato', 'campeonato', 'fase', 'estádio', 'data',\n",
       "       'temperatura', 'jogos_no_mes', 'rodada', 'tipo_partida',\n",
       "       'anunciou_poupar', 'estado_adversario', 'classico', 'eliminatorio',\n",
       "       'tecnico_botafogo', 'desfalques', 'dia_semana', 'hora', 'minuto', 'mes',\n",
       "       'dia_mes', 'resultado_partida', 'resultados_consecutivos',\n",
       "       'resultados_ultimo_jogo', 'colocacao_botafogo', 'colocacao_adversario',\n",
       "       'time_adversario', 'gols_botafogo_ultimos_jogos', 'percentual_ocupacao',\n",
       "       'mando_vendido_compartilhado', 'prejuizo_lucro',\n",
       "       'dias_ultimo_jogo_casa'],\n",
       "      dtype='object')"
      ]
     },
     "execution_count": 64,
     "metadata": {},
     "output_type": "execute_result"
    }
   ],
   "source": [
    "dataset_dados.columns"
   ]
  },
  {
   "cell_type": "code",
   "execution_count": 67,
   "id": "2112c8c9",
   "metadata": {},
   "outputs": [],
   "source": [
    "dataset_dados.loc[dataset_dados[dataset_dados['anunciou_poupar'] == 'SIM'].index, 'anunciou_poupar'] = True\n",
    "dataset_dados.loc[dataset_dados[dataset_dados['anunciou_poupar'].isnull()].index, 'anunciou_poupar'] = False\n",
    "dataset_dados.loc[dataset_dados[dataset_dados['classico'] == 'SIM'].index, 'classico'] = True\n",
    "dataset_dados.loc[dataset_dados[dataset_dados['classico'].isnull()].index, 'classico'] = False\n",
    "dataset_dados.loc[dataset_dados[dataset_dados['eliminatorio'] == 'SIM'].index, 'eliminatorio'] = True\n",
    "dataset_dados.loc[dataset_dados[dataset_dados['eliminatorio'].isnull()].index, 'eliminatorio'] = False"
   ]
  },
  {
   "cell_type": "code",
   "execution_count": 70,
   "id": "79012837",
   "metadata": {},
   "outputs": [
    {
     "data": {
      "text/plain": [
       "31"
      ]
     },
     "execution_count": 70,
     "metadata": {},
     "output_type": "execute_result"
    }
   ],
   "source": [
    "len(dataset_dados.columns)"
   ]
  },
  {
   "cell_type": "code",
   "execution_count": 73,
   "id": "5dc08e2b",
   "metadata": {},
   "outputs": [],
   "source": [
    "dataset_dados = pd.get_dummies(dataset_dados, columns=['campeonato', 'estádio', 'tipo_partida', 'estado_adversario',\n",
    "                                                       'tecnico_botafogo', 'time_adversario', 'fase'])"
   ]
  },
  {
   "cell_type": "code",
   "execution_count": 75,
   "id": "03e8c2e8",
   "metadata": {},
   "outputs": [],
   "source": [
    "dataset_dados = dataset_dados.astype({'anunciou_poupar': bool,\n",
    "                                      'classico': bool,\n",
    "                                      'eliminatorio': bool,\n",
    "                                       'prejuizo_lucro': bool\n",
    "                                     })"
   ]
  },
  {
   "cell_type": "code",
   "execution_count": 77,
   "id": "71d65c77",
   "metadata": {},
   "outputs": [],
   "source": [
    "dataset_previsao = dataset_dados[dataset_dados['data'] >= pd.to_datetime(date.today())]\n",
    "dataset_dados = dataset_dados[dataset_dados['data'] < pd.to_datetime(date.today())]\n",
    "dataset_dados = dataset_dados.drop(columns=['data'])\n",
    "dataset_previsao = dataset_previsao.drop(columns=['data'])\n",
    "dataset_dados = dataset_dados.reset_index(drop=True)"
   ]
  },
  {
   "cell_type": "code",
   "execution_count": 79,
   "id": "01dcc05e",
   "metadata": {},
   "outputs": [
    {
     "data": {
      "text/plain": [
       "84"
      ]
     },
     "execution_count": 79,
     "metadata": {},
     "output_type": "execute_result"
    }
   ],
   "source": [
    "len(dataset_dados)"
   ]
  },
  {
   "cell_type": "markdown",
   "id": "dc1a1f66-e21c-42a1-a9d6-944bddb5b021",
   "metadata": {},
   "source": [
    "##### Normalizações com Substituição por IQR e Box-Cox"
   ]
  },
  {
   "cell_type": "code",
   "execution_count": 82,
   "id": "e80f5625-b298-43b8-b524-1108aa4bc49c",
   "metadata": {},
   "outputs": [],
   "source": [
    "listaColunas = ['ano_campeonato', 'temperatura', 'jogos_no_mes', 'rodada', 'desfalques', 'dia_semana', 'hora', 'mes', 'dia_mes', 'colocacao_botafogo',\n",
    "                'colocacao_adversario', 'gols_botafogo_ultimos_jogos', 'dias_ultimo_jogo_casa']"
   ]
  },
  {
   "cell_type": "code",
   "execution_count": 84,
   "id": "ff0fc1b6-8f2d-4633-b57b-b736463a39cd",
   "metadata": {},
   "outputs": [],
   "source": [
    "for i in listaColunas:\n",
    "    \n",
    "    if stats.shapiro(dataset_dados[i])[1] < 0.05:\n",
    "    \n",
    "        quartilUm = np.percentile(dataset_dados[i], 25)\n",
    "        quartilTres = np.percentile(dataset_dados[i], 75)\n",
    "        iqr = (quartilTres - quartilUm) * 1.5\n",
    "        lim_superior = quartilTres + iqr\n",
    "        lim_inferior = quartilUm - iqr\n",
    "        \n",
    "        dataset_dados.loc[dataset_dados[dataset_dados[i] > lim_superior].index, i] = lim_superior\n",
    "        dataset_dados.loc[dataset_dados[dataset_dados[i] < lim_inferior].index, i] = lim_inferior\n",
    "    \n",
    "        if stats.shapiro(dataset_dados[i])[1] < 0.05:\n",
    "\n",
    "            dataset_dados.loc[dataset_dados[dataset_dados[i] <= 0].index, i] = 0.0000001\n",
    "            dataset_dados[i] = stats.boxcox(dataset_dados[i])[0]"
   ]
  },
  {
   "cell_type": "markdown",
   "id": "efa78434-73fd-4b1f-a78d-eeb3af05073d",
   "metadata": {},
   "source": [
    "##### Min Max Scaler"
   ]
  },
  {
   "cell_type": "code",
   "execution_count": 87,
   "id": "0f1a27f9-4735-413b-a43d-0f166e64fdbd",
   "metadata": {},
   "outputs": [],
   "source": [
    "for i in listaColunas:\n",
    "    scaler = MinMaxScaler()\n",
    "    dataset_dados[i] = scaler.fit_transform(dataset_dados[[i]])"
   ]
  },
  {
   "cell_type": "code",
   "execution_count": 89,
   "id": "2fe93104",
   "metadata": {},
   "outputs": [],
   "source": [
    "dataset_dados.to_csv('dados_modelo_final.csv', index=False)"
   ]
  },
  {
   "cell_type": "markdown",
   "id": "577d7ee2",
   "metadata": {},
   "source": [
    "### Datasets Modelos"
   ]
  },
  {
   "cell_type": "markdown",
   "id": "1cf2d2d8",
   "metadata": {},
   "source": [
    "Haverão Três Modelos, cada um olhando para uma variável alvo específica, as variáveis alvo serão:\n",
    "\n",
    "    - percentual_ocupacao: Olhando para tentarmos prever a quantidade de pessoas que irão aos jogos\n",
    "    - prejuizo_lucro: Olhando para tentarmos prever se o jogo foi rentável (olhando apenas para o contexto do jogo)\n",
    "    - resultado_partida: Olhando para tentarmos prever o resultado do jogo (Derrota, Vitória ou Empate\n",
    "    \n",
    "Sendo assim cada modelo terá seu dataset específico, pois as variáveis alvo não são passíveis de serem utilizadas nos modelos que não sejam os seus por não serem valores disponíveis para a previsão antes do evento acontecer, chamaremos essas varíaveis de indisponíveis."
   ]
  },
  {
   "cell_type": "code",
   "execution_count": 93,
   "id": "3538d6c8",
   "metadata": {},
   "outputs": [],
   "source": [
    "dados_modelo_percentual_ocupacao = dataset_dados.drop(columns=['prejuizo_lucro', 'resultado_partida']).copy()\n",
    "dados_modelo_prejuizo_lucro = dataset_dados.drop(columns=['percentual_ocupacao', 'resultado_partida']).copy()\n",
    "dados_modelo_resultado_partida = dataset_dados.drop(columns=['percentual_ocupacao', 'prejuizo_lucro']).copy()"
   ]
  },
  {
   "cell_type": "markdown",
   "id": "42d941aa",
   "metadata": {},
   "source": [
    "### Análise Exploratória"
   ]
  },
  {
   "cell_type": "markdown",
   "id": "02286003",
   "metadata": {},
   "source": [
    "##### Funções Úteis"
   ]
  },
  {
   "cell_type": "code",
   "execution_count": 97,
   "id": "1e17726b",
   "metadata": {},
   "outputs": [],
   "source": [
    "def concentracao_valores (dados, coluna):\n",
    "    if len(dados[coluna].unique()) > 3:        \n",
    "        print(dados[coluna].describe())\n",
    "    else:        \n",
    "        print(dados[coluna].value_counts())"
   ]
  },
  {
   "cell_type": "code",
   "execution_count": 99,
   "id": "1506868a",
   "metadata": {},
   "outputs": [],
   "source": [
    "def correlacao_modelos (dados, coluna):\n",
    "    print('Menores Valores')\n",
    "    print('----------------------')\n",
    "    print(dados.corr()[coluna].sort_values().head(7))\n",
    "    print('======================')\n",
    "    print('Maiores Valores')\n",
    "    print('----------------------')\n",
    "    print(dados.corr()[coluna].sort_values(ascending=False).head(7))"
   ]
  },
  {
   "cell_type": "code",
   "execution_count": 101,
   "id": "1e5c8dbb",
   "metadata": {},
   "outputs": [],
   "source": [
    "def visualizacoes (dados, coluna, label):\n",
    "    if len(dados[coluna].unique()) > 3: \n",
    "        fig, ax = plt.subplots()\n",
    "        ax.hist(dados[coluna])\n",
    "        ax.set_xlabel(label)\n",
    "        ax.set_title('Análise Visual - Histograma - '+label)\n",
    "        plt.show()"
   ]
  },
  {
   "cell_type": "code",
   "execution_count": 103,
   "id": "8f8f4bf2",
   "metadata": {},
   "outputs": [],
   "source": [
    "def taxas_erro (valores_reais, valores_previstos):\n",
    "    #RMSE\n",
    "    rmse = sqrt(mean_squared_error(valores_reais, valores_previstos))\n",
    "    print('Erro médio quadrático: ', rmse)\n",
    "    #MAE\n",
    "    mae = mean_absolute_error(valores_reais, valores_previstos)\n",
    "    print('Erro médio absoluto: ', mae)"
   ]
  },
  {
   "cell_type": "markdown",
   "id": "3d490fdc",
   "metadata": {},
   "source": [
    "Esse artigo me ajudou com a tunagem dos hiperparâmetros:\n",
    "\n",
    "    - https://www.analyticsvidhya.com/blog/2016/03/complete-guide-parameter-tuning-xgboost-with-codes-python/"
   ]
  },
  {
   "cell_type": "code",
   "execution_count": 106,
   "id": "7e1ca1b3",
   "metadata": {},
   "outputs": [],
   "source": [
    "def tunning_hiperpametros (modelo, X_train, y_train):\n",
    "    \n",
    "    print('Testando Variáveis: max_depth, min_child_weight')\n",
    "    \n",
    "    param_test = {\n",
    "     'max_depth':range(3,10,2),\n",
    "     'min_child_weight':range(1,6,2),\n",
    "    }\n",
    "    \n",
    "    gsearch = GridSearchCV(estimator = modelo(\n",
    "                    learning_rate=0.01, max_depth=5, n_estimators=200, n_jobs=-1, random_state=1, seed=42,\n",
    "                    min_child_weight=1, gamma = 0, subsample = 0.8, colsample_bytree = 0.8, scale_pos_weight = 1\n",
    "                   ), \n",
    "                    param_grid = param_test, scoring='roc_auc', n_jobs=-1, cv=10)      \n",
    "    gsearch.fit(X_train, y_train)\n",
    "        \n",
    "    max_depth = gsearch.best_params_['max_depth']\n",
    "    min_child_weight = gsearch.best_params_['min_child_weight']\n",
    "    \n",
    "    print('Melhores valores: ', gsearch.best_params_)\n",
    "    \n",
    "    print('-----------------------------')  \n",
    "    \n",
    "    print('Testando Variáveis:gamma')\n",
    "    \n",
    "    param_test = {\n",
    "     'gamma':[i/10.0 for i in range(0,5)],\n",
    "    }\n",
    "    \n",
    "    gsearch = GridSearchCV(estimator = modelo(\n",
    "                    learning_rate=0.01, max_depth=max_depth, n_estimators=200, n_jobs=-1, random_state=1, seed=42,\n",
    "                    min_child_weight=min_child_weight, gamma = 0 , subsample = 0.8, colsample_bytree = 0.8, scale_pos_weight = 1\n",
    "                   ), \n",
    "                    param_grid = param_test, scoring='roc_auc', n_jobs=-1, cv=10)      \n",
    "    gsearch.fit(X_train, y_train)\n",
    "    \n",
    "    print('Melhores valores: ', gsearch.best_params_)\n",
    "    gamma = gsearch.best_params_['gamma']\n",
    "    \n",
    "    print('-----------------------------')  \n",
    "    \n",
    "    print('Testando Variáveis: subsample, colsample_bytree')\n",
    "    \n",
    "    param_test = {\n",
    "     'subsample':[i/10.0 for i in range(6,10)],\n",
    "     'colsample_bytree':[i/10.0 for i in range(6,10)]\n",
    "    }\n",
    "    \n",
    "    gsearch = GridSearchCV(estimator = modelo(\n",
    "                    learning_rate=0.01, max_depth=max_depth, n_estimators=200, n_jobs=-1, random_state=1, seed=42,\n",
    "                    min_child_weight=min_child_weight, gamma = gamma, subsample = 0.8, colsample_bytree = 0.8, scale_pos_weight = 1\n",
    "                   ), \n",
    "                    param_grid = param_test, scoring='roc_auc', n_jobs=-1, cv=10)      \n",
    "    gsearch.fit(X_train, y_train)\n",
    "    \n",
    "    print('Melhores valores: ', gsearch.best_params_)\n",
    "    \n",
    "    print('-----------------------------')  \n",
    "    \n",
    "    print('Testando Variáveis: reg_alpha')\n",
    "    \n",
    "    param_test = {\n",
    "     'reg_alpha':[1e-5, 1e-2, 0.1, 1, 100]\n",
    "    }\n",
    "    \n",
    "    gsearch = GridSearchCV(estimator = modelo(\n",
    "                    learning_rate=0.01, max_depth=max_depth, n_estimators=200, n_jobs=-1, random_state=1, seed=42,\n",
    "                    min_child_weight=min_child_weight, gamma = gamma, subsample = gsearch.best_params_['subsample'],\n",
    "                    colsample_bytree = gsearch.best_params_['colsample_bytree'], scale_pos_weight = 1\n",
    "                   ), \n",
    "                    param_grid = param_test, scoring='roc_auc', n_jobs=-1, cv=10)      \n",
    "    gsearch.fit(X_train, y_train)\n",
    "    \n",
    "    print('Melhores valores: ', gsearch.best_params_)\n",
    "    \n",
    "    print('-----------------------------')  "
   ]
  },
  {
   "cell_type": "markdown",
   "id": "558fa4e1",
   "metadata": {},
   "source": [
    "##### Modelo 1"
   ]
  },
  {
   "cell_type": "code",
   "execution_count": 109,
   "id": "44b9cf7b",
   "metadata": {},
   "outputs": [
    {
     "name": "stdout",
     "output_type": "stream",
     "text": [
      "count    84.000000\n",
      "mean     45.863690\n",
      "std      23.417999\n",
      "min       8.140000\n",
      "25%      28.237500\n",
      "50%      42.865000\n",
      "75%      63.942500\n",
      "max      91.780000\n",
      "Name: percentual_ocupacao, dtype: float64\n"
     ]
    }
   ],
   "source": [
    "concentracao_valores(dados_modelo_percentual_ocupacao, 'percentual_ocupacao')"
   ]
  },
  {
   "cell_type": "code",
   "execution_count": 111,
   "id": "65bbe288",
   "metadata": {},
   "outputs": [
    {
     "name": "stdout",
     "output_type": "stream",
     "text": [
      "Menores Valores\n",
      "----------------------\n",
      "campeonato_carioca              -0.547026\n",
      "estado_adversario_RJ            -0.378938\n",
      "temperatura                     -0.346926\n",
      "time_adversario_Portuguesa-RJ   -0.307082\n",
      "anunciou_poupar                 -0.288306\n",
      "mando_vendido_compartilhado     -0.288186\n",
      "estádio_Raulino de Oliveira     -0.250271\n",
      "Name: percentual_ocupacao, dtype: float64\n",
      "======================\n",
      "Maiores Valores\n",
      "----------------------\n",
      "percentual_ocupacao                1.000000\n",
      "mes                                0.469250\n",
      "campeonato_serie a                 0.351781\n",
      "tecnico_botafogo_Bruno Lage        0.343006\n",
      "rodada                             0.283972\n",
      "tecnico_botafogo_Cláudio Caçapa    0.234355\n",
      "estádio_Nilton Santos              0.231691\n",
      "Name: percentual_ocupacao, dtype: float64\n"
     ]
    }
   ],
   "source": [
    "correlacao_modelos(dados_modelo_percentual_ocupacao, 'percentual_ocupacao')"
   ]
  },
  {
   "cell_type": "code",
   "execution_count": 113,
   "id": "be48f7f7",
   "metadata": {},
   "outputs": [
    {
     "data": {
      "text/plain": [
       "ano_campeonato               -0.024575\n",
       "temperatura                  -0.346926\n",
       "jogos_no_mes                 -0.084011\n",
       "rodada                        0.283972\n",
       "anunciou_poupar              -0.288306\n",
       "                                ...   \n",
       "fase_quartas-de-final         0.037469\n",
       "fase_segunda fase            -0.093893\n",
       "fase_semi-final              -0.131622\n",
       "fase_semi-final - taça rio   -0.241147\n",
       "fase_terceira fase           -0.019343\n",
       "Name: percentual_ocupacao, Length: 115, dtype: float64"
      ]
     },
     "execution_count": 113,
     "metadata": {},
     "output_type": "execute_result"
    }
   ],
   "source": [
    "dados_modelo_percentual_ocupacao.corr()['percentual_ocupacao']"
   ]
  },
  {
   "cell_type": "code",
   "execution_count": 115,
   "id": "e694f28b",
   "metadata": {},
   "outputs": [
    {
     "data": {
      "image/png": "[encoded data removed]",
      "text/plain": [
       "<Figure size 640x480 with 1 Axes>"
      ]
     },
     "metadata": {},
     "output_type": "display_data"
    }
   ],
   "source": [
    "visualizacoes(dados_modelo_percentual_ocupacao, 'percentual_ocupacao', 'Ocupação %')"
   ]
  },
  {
   "cell_type": "markdown",
   "id": "0622eaca",
   "metadata": {},
   "source": [
    "##### Modelo 2 "
   ]
  },
  {
   "cell_type": "code",
   "execution_count": 118,
   "id": "3bebf450",
   "metadata": {},
   "outputs": [
    {
     "name": "stdout",
     "output_type": "stream",
     "text": [
      "prejuizo_lucro\n",
      "True     46\n",
      "False    38\n",
      "Name: count, dtype: int64\n"
     ]
    }
   ],
   "source": [
    "concentracao_valores(dados_modelo_prejuizo_lucro, 'prejuizo_lucro')"
   ]
  },
  {
   "cell_type": "code",
   "execution_count": 120,
   "id": "734d27f5",
   "metadata": {},
   "outputs": [
    {
     "name": "stdout",
     "output_type": "stream",
     "text": [
      "Menores Valores\n",
      "----------------------\n",
      "temperatura                     -0.400751\n",
      "campeonato_carioca              -0.375615\n",
      "anunciou_poupar                 -0.350962\n",
      "eliminatorio                    -0.341418\n",
      "tipo_partida_volta              -0.330599\n",
      "time_adversario_Portuguesa-RJ   -0.211741\n",
      "estádio_Luso Brasileiro         -0.211741\n",
      "Name: prejuizo_lucro, dtype: float64\n",
      "======================\n",
      "Maiores Valores\n",
      "----------------------\n",
      "prejuizo_lucro         1.000000\n",
      "tipo_partida_liga      0.341418\n",
      "rodada                 0.336500\n",
      "mes                    0.329091\n",
      "campeonato_serie a     0.324516\n",
      "fase_fase de grupos    0.252082\n",
      "classico               0.237518\n",
      "Name: prejuizo_lucro, dtype: float64\n"
     ]
    }
   ],
   "source": [
    "correlacao_modelos(dados_modelo_prejuizo_lucro, 'prejuizo_lucro')"
   ]
  },
  {
   "cell_type": "markdown",
   "id": "dcdca81a",
   "metadata": {},
   "source": [
    "##### Modelo 3"
   ]
  },
  {
   "cell_type": "code",
   "execution_count": 123,
   "id": "a0d247bb",
   "metadata": {},
   "outputs": [
    {
     "name": "stdout",
     "output_type": "stream",
     "text": [
      "resultado_partida\n",
      " 1    45\n",
      "-1    22\n",
      " 0    17\n",
      "Name: count, dtype: int64\n"
     ]
    }
   ],
   "source": [
    "concentracao_valores(dados_modelo_resultado_partida, 'resultado_partida')"
   ]
  },
  {
   "cell_type": "code",
   "execution_count": 125,
   "id": "1b18045c",
   "metadata": {},
   "outputs": [
    {
     "name": "stdout",
     "output_type": "stream",
     "text": [
      "Menores Valores\n",
      "----------------------\n",
      "tecnico_botafogo_Lúcio Flávio   -0.361217\n",
      "time_adversario_Flamengo        -0.288376\n",
      "rodada                          -0.253215\n",
      "classico                        -0.247411\n",
      "time_adversario_Cuiabá-MT       -0.234018\n",
      "estado_adversario_MT            -0.234018\n",
      "mes                             -0.212380\n",
      "Name: resultado_partida, dtype: float64\n",
      "======================\n",
      "Maiores Valores\n",
      "----------------------\n",
      "resultado_partida              1.000000\n",
      "resultados_ultimo_jogo         0.585191\n",
      "ano_campeonato                 0.312189\n",
      "gols_botafogo_ultimos_jogos    0.278859\n",
      "minuto                         0.256856\n",
      "jogos_no_mes                   0.247548\n",
      "eliminatorio                   0.207214\n",
      "Name: resultado_partida, dtype: float64\n"
     ]
    }
   ],
   "source": [
    "correlacao_modelos(dados_modelo_resultado_partida, 'resultado_partida')"
   ]
  },
  {
   "cell_type": "markdown",
   "id": "43861abd",
   "metadata": {},
   "source": [
    "### Modelagem"
   ]
  },
  {
   "cell_type": "markdown",
   "id": "833d1c89",
   "metadata": {},
   "source": [
    "##### Modelo 1"
   ]
  },
  {
   "cell_type": "code",
   "execution_count": 129,
   "id": "311aac7e",
   "metadata": {},
   "outputs": [],
   "source": [
    "X = dados_modelo_percentual_ocupacao.drop(columns=['percentual_ocupacao']).copy()\n",
    "y = dados_modelo_percentual_ocupacao[['percentual_ocupacao']]"
   ]
  },
  {
   "cell_type": "code",
   "execution_count": 131,
   "id": "3db440b1",
   "metadata": {},
   "outputs": [],
   "source": [
    "X_train, X_test, y_train, y_test = train_test_split( X, y, test_size=0.2, random_state=42)\n",
    "eval_set = [(X_test, y_test)]"
   ]
  },
  {
   "cell_type": "code",
   "execution_count": 133,
   "id": "6bcc7598",
   "metadata": {},
   "outputs": [
    {
     "name": "stdout",
     "output_type": "stream",
     "text": [
      "Testando Variáveis: max_depth, min_child_weight\n",
      "Melhores valores:  {'max_depth': 3, 'min_child_weight': 1}\n",
      "-----------------------------\n",
      "Testando Variáveis:gamma\n",
      "Melhores valores:  {'gamma': 0.0}\n",
      "-----------------------------\n",
      "Testando Variáveis: subsample, colsample_bytree\n",
      "Melhores valores:  {'colsample_bytree': 0.6, 'subsample': 0.6}\n",
      "-----------------------------\n",
      "Testando Variáveis: reg_alpha\n",
      "Melhores valores:  {'reg_alpha': 1e-05}\n",
      "-----------------------------\n"
     ]
    }
   ],
   "source": [
    "tunning_hiperpametros(XGBRegressor, X_train, y_train)"
   ]
  },
  {
   "cell_type": "code",
   "execution_count": 135,
   "id": "32b78ac0",
   "metadata": {},
   "outputs": [
    {
     "name": "stdout",
     "output_type": "stream",
     "text": [
      "[0]\tvalidation_0-rmse:22.11041\n",
      "[1]\tvalidation_0-rmse:22.02380\n",
      "[2]\tvalidation_0-rmse:21.91853\n",
      "[3]\tvalidation_0-rmse:21.84335\n",
      "[4]\tvalidation_0-rmse:21.75946\n",
      "[5]\tvalidation_0-rmse:21.73794\n",
      "[6]\tvalidation_0-rmse:21.58519\n",
      "[7]\tvalidation_0-rmse:21.47273\n",
      "[8]\tvalidation_0-rmse:21.49452\n",
      "[9]\tvalidation_0-rmse:21.44231\n",
      "[10]\tvalidation_0-rmse:21.34837\n",
      "[11]\tvalidation_0-rmse:21.25940\n",
      "[12]\tvalidation_0-rmse:21.19371\n",
      "[13]\tvalidation_0-rmse:21.07589\n",
      "[14]\tvalidation_0-rmse:20.98094\n",
      "[15]\tvalidation_0-rmse:21.00296\n",
      "[16]\tvalidation_0-rmse:20.89987\n",
      "[17]\tvalidation_0-rmse:20.88642\n",
      "[18]\tvalidation_0-rmse:20.83339\n",
      "[19]\tvalidation_0-rmse:20.75642\n",
      "[20]\tvalidation_0-rmse:20.67664\n",
      "[21]\tvalidation_0-rmse:20.54889\n",
      "[22]\tvalidation_0-rmse:20.54629\n",
      "[23]\tvalidation_0-rmse:20.48636\n",
      "[24]\tvalidation_0-rmse:20.51551\n",
      "[25]\tvalidation_0-rmse:20.48800\n",
      "[26]\tvalidation_0-rmse:20.41185\n",
      "[27]\tvalidation_0-rmse:20.33374\n",
      "[28]\tvalidation_0-rmse:20.26475\n",
      "[29]\tvalidation_0-rmse:20.18811\n",
      "[30]\tvalidation_0-rmse:20.11964\n",
      "[31]\tvalidation_0-rmse:20.05394\n",
      "[32]\tvalidation_0-rmse:19.94667\n",
      "[33]\tvalidation_0-rmse:19.92497\n",
      "[34]\tvalidation_0-rmse:19.83034\n",
      "[35]\tvalidation_0-rmse:19.76024\n",
      "[36]\tvalidation_0-rmse:19.70127\n",
      "[37]\tvalidation_0-rmse:19.65545\n",
      "[38]\tvalidation_0-rmse:19.61855\n",
      "[39]\tvalidation_0-rmse:19.53006\n",
      "[40]\tvalidation_0-rmse:19.47064\n",
      "[41]\tvalidation_0-rmse:19.41298\n",
      "[42]\tvalidation_0-rmse:19.34420\n",
      "[43]\tvalidation_0-rmse:19.36966\n",
      "[44]\tvalidation_0-rmse:19.30714\n",
      "[45]\tvalidation_0-rmse:19.27214\n",
      "[46]\tvalidation_0-rmse:19.18111\n",
      "[47]\tvalidation_0-rmse:19.20563\n",
      "[48]\tvalidation_0-rmse:19.15501\n",
      "[49]\tvalidation_0-rmse:19.11196\n",
      "[50]\tvalidation_0-rmse:19.10191\n",
      "[51]\tvalidation_0-rmse:19.05164\n",
      "[52]\tvalidation_0-rmse:18.96676\n",
      "[53]\tvalidation_0-rmse:18.89668\n",
      "[54]\tvalidation_0-rmse:18.80081\n",
      "[55]\tvalidation_0-rmse:18.78406\n",
      "[56]\tvalidation_0-rmse:18.72024\n",
      "[57]\tvalidation_0-rmse:18.67984\n",
      "[58]\tvalidation_0-rmse:18.64025\n",
      "[59]\tvalidation_0-rmse:18.60994\n",
      "[60]\tvalidation_0-rmse:18.56923\n",
      "[61]\tvalidation_0-rmse:18.51227\n",
      "[62]\tvalidation_0-rmse:18.54689\n",
      "[63]\tvalidation_0-rmse:18.60756\n",
      "[64]\tvalidation_0-rmse:18.58825\n",
      "[65]\tvalidation_0-rmse:18.52817\n",
      "[66]\tvalidation_0-rmse:18.48128\n",
      "[67]\tvalidation_0-rmse:18.39152\n",
      "[68]\tvalidation_0-rmse:18.36634\n",
      "[69]\tvalidation_0-rmse:18.32356\n",
      "[70]\tvalidation_0-rmse:18.27862\n",
      "[71]\tvalidation_0-rmse:18.27959\n",
      "[72]\tvalidation_0-rmse:18.27107\n",
      "[73]\tvalidation_0-rmse:18.20889\n",
      "[74]\tvalidation_0-rmse:18.18141\n",
      "[75]\tvalidation_0-rmse:18.17260\n",
      "[76]\tvalidation_0-rmse:18.12494\n",
      "[77]\tvalidation_0-rmse:18.11518\n",
      "[78]\tvalidation_0-rmse:18.06071\n",
      "[79]\tvalidation_0-rmse:17.97467\n",
      "[80]\tvalidation_0-rmse:17.97369\n",
      "[81]\tvalidation_0-rmse:17.94835\n",
      "[82]\tvalidation_0-rmse:17.91202\n",
      "[83]\tvalidation_0-rmse:17.88673\n",
      "[84]\tvalidation_0-rmse:17.83722\n",
      "[85]\tvalidation_0-rmse:17.81219\n",
      "[86]\tvalidation_0-rmse:17.75610\n",
      "[87]\tvalidation_0-rmse:17.70778\n",
      "[88]\tvalidation_0-rmse:17.62421\n",
      "[89]\tvalidation_0-rmse:17.63184\n",
      "[90]\tvalidation_0-rmse:17.58669\n",
      "[91]\tvalidation_0-rmse:17.55952\n",
      "[92]\tvalidation_0-rmse:17.50379\n",
      "[93]\tvalidation_0-rmse:17.45855\n",
      "[94]\tvalidation_0-rmse:17.44263\n",
      "[95]\tvalidation_0-rmse:17.38816\n",
      "[96]\tvalidation_0-rmse:17.35413\n",
      "[97]\tvalidation_0-rmse:17.33467\n",
      "[98]\tvalidation_0-rmse:17.29487\n",
      "[99]\tvalidation_0-rmse:17.26500\n",
      "[100]\tvalidation_0-rmse:17.24991\n",
      "[101]\tvalidation_0-rmse:17.18996\n",
      "[102]\tvalidation_0-rmse:17.14359\n",
      "[103]\tvalidation_0-rmse:17.12965\n",
      "[104]\tvalidation_0-rmse:17.13854\n",
      "[105]\tvalidation_0-rmse:17.12498\n",
      "[106]\tvalidation_0-rmse:17.08581\n",
      "[107]\tvalidation_0-rmse:17.08140\n",
      "[108]\tvalidation_0-rmse:17.05819\n",
      "[109]\tvalidation_0-rmse:17.07548\n",
      "[110]\tvalidation_0-rmse:17.05645\n",
      "[111]\tvalidation_0-rmse:17.06175\n",
      "[112]\tvalidation_0-rmse:17.02161\n",
      "[113]\tvalidation_0-rmse:17.02316\n",
      "[114]\tvalidation_0-rmse:16.99549\n",
      "[115]\tvalidation_0-rmse:17.03574\n",
      "[116]\tvalidation_0-rmse:17.02261\n",
      "[117]\tvalidation_0-rmse:17.00112\n",
      "[118]\tvalidation_0-rmse:16.95026\n",
      "[119]\tvalidation_0-rmse:16.93342\n",
      "[120]\tvalidation_0-rmse:16.93143\n",
      "[121]\tvalidation_0-rmse:16.92648\n",
      "[122]\tvalidation_0-rmse:16.90508\n",
      "[123]\tvalidation_0-rmse:16.91690\n",
      "[124]\tvalidation_0-rmse:16.87033\n",
      "[125]\tvalidation_0-rmse:16.84755\n",
      "[126]\tvalidation_0-rmse:16.81632\n",
      "[127]\tvalidation_0-rmse:16.81442\n",
      "[128]\tvalidation_0-rmse:16.77680\n",
      "[129]\tvalidation_0-rmse:16.79291\n",
      "[130]\tvalidation_0-rmse:16.76563\n",
      "[131]\tvalidation_0-rmse:16.73632\n",
      "[132]\tvalidation_0-rmse:16.70165\n",
      "[133]\tvalidation_0-rmse:16.69205\n",
      "[134]\tvalidation_0-rmse:16.68426\n",
      "[135]\tvalidation_0-rmse:16.66521\n",
      "[136]\tvalidation_0-rmse:16.62069\n",
      "[137]\tvalidation_0-rmse:16.57459\n",
      "[138]\tvalidation_0-rmse:16.58679\n",
      "[139]\tvalidation_0-rmse:16.59435\n",
      "[140]\tvalidation_0-rmse:16.58421\n",
      "[141]\tvalidation_0-rmse:16.57351\n",
      "[142]\tvalidation_0-rmse:16.53182\n",
      "[143]\tvalidation_0-rmse:16.46756\n",
      "[144]\tvalidation_0-rmse:16.49229\n",
      "[145]\tvalidation_0-rmse:16.49771\n",
      "[146]\tvalidation_0-rmse:16.44292\n",
      "[147]\tvalidation_0-rmse:16.44861\n",
      "[148]\tvalidation_0-rmse:16.46687\n",
      "[149]\tvalidation_0-rmse:16.45787\n",
      "[150]\tvalidation_0-rmse:16.43650\n",
      "[151]\tvalidation_0-rmse:16.40632\n",
      "[152]\tvalidation_0-rmse:16.38232\n",
      "[153]\tvalidation_0-rmse:16.35870\n",
      "[154]\tvalidation_0-rmse:16.34911\n",
      "[155]\tvalidation_0-rmse:16.37010\n",
      "[156]\tvalidation_0-rmse:16.34060\n",
      "[157]\tvalidation_0-rmse:16.32736\n",
      "[158]\tvalidation_0-rmse:16.31932\n",
      "[159]\tvalidation_0-rmse:16.30366\n",
      "[160]\tvalidation_0-rmse:16.33331\n",
      "[161]\tvalidation_0-rmse:16.31768\n",
      "[162]\tvalidation_0-rmse:16.33234\n",
      "[163]\tvalidation_0-rmse:16.35380\n",
      "[164]\tvalidation_0-rmse:16.31796\n",
      "[165]\tvalidation_0-rmse:16.31143\n",
      "[166]\tvalidation_0-rmse:16.28634\n",
      "[167]\tvalidation_0-rmse:16.29921\n",
      "[168]\tvalidation_0-rmse:16.27723\n",
      "[169]\tvalidation_0-rmse:16.29125\n",
      "[170]\tvalidation_0-rmse:16.28658\n",
      "[171]\tvalidation_0-rmse:16.26132\n",
      "[172]\tvalidation_0-rmse:16.23002\n",
      "[173]\tvalidation_0-rmse:16.19387\n",
      "[174]\tvalidation_0-rmse:16.14855\n",
      "[175]\tvalidation_0-rmse:16.12730\n",
      "[176]\tvalidation_0-rmse:16.16130\n",
      "[177]\tvalidation_0-rmse:16.15285\n",
      "[178]\tvalidation_0-rmse:16.13524\n",
      "[179]\tvalidation_0-rmse:16.10573\n",
      "[180]\tvalidation_0-rmse:16.07472\n",
      "[181]\tvalidation_0-rmse:16.03568\n",
      "[182]\tvalidation_0-rmse:16.03293\n",
      "[183]\tvalidation_0-rmse:16.03228\n",
      "[184]\tvalidation_0-rmse:15.99568\n",
      "[185]\tvalidation_0-rmse:15.98527\n",
      "[186]\tvalidation_0-rmse:16.00181\n",
      "[187]\tvalidation_0-rmse:15.98066\n",
      "[188]\tvalidation_0-rmse:15.94024\n",
      "[189]\tvalidation_0-rmse:15.97383\n",
      "[190]\tvalidation_0-rmse:15.96320\n",
      "[191]\tvalidation_0-rmse:15.92800\n",
      "[192]\tvalidation_0-rmse:15.94482\n",
      "[193]\tvalidation_0-rmse:15.92286\n",
      "[194]\tvalidation_0-rmse:15.93924\n",
      "[195]\tvalidation_0-rmse:15.93050\n",
      "[196]\tvalidation_0-rmse:15.91131\n",
      "[197]\tvalidation_0-rmse:15.90682\n",
      "[198]\tvalidation_0-rmse:15.89927\n",
      "[199]\tvalidation_0-rmse:15.88782\n",
      "[200]\tvalidation_0-rmse:15.89404\n",
      "[201]\tvalidation_0-rmse:15.88625\n",
      "[202]\tvalidation_0-rmse:15.86564\n",
      "[203]\tvalidation_0-rmse:15.87953\n",
      "[204]\tvalidation_0-rmse:15.85185\n",
      "[205]\tvalidation_0-rmse:15.83588\n",
      "[206]\tvalidation_0-rmse:15.82109\n",
      "[207]\tvalidation_0-rmse:15.79892\n",
      "[208]\tvalidation_0-rmse:15.77412\n",
      "[209]\tvalidation_0-rmse:15.76767\n",
      "[210]\tvalidation_0-rmse:15.75277\n",
      "[211]\tvalidation_0-rmse:15.73145\n",
      "[212]\tvalidation_0-rmse:15.72991\n",
      "[213]\tvalidation_0-rmse:15.71968\n",
      "[214]\tvalidation_0-rmse:15.68168\n",
      "[215]\tvalidation_0-rmse:15.66044\n",
      "[216]\tvalidation_0-rmse:15.65520\n",
      "[217]\tvalidation_0-rmse:15.63308\n",
      "[218]\tvalidation_0-rmse:15.62771\n",
      "[219]\tvalidation_0-rmse:15.62966\n",
      "[220]\tvalidation_0-rmse:15.62429\n",
      "[221]\tvalidation_0-rmse:15.63439\n",
      "[222]\tvalidation_0-rmse:15.62035\n",
      "[223]\tvalidation_0-rmse:15.61345\n",
      "[224]\tvalidation_0-rmse:15.61625\n",
      "[225]\tvalidation_0-rmse:15.60261\n",
      "[226]\tvalidation_0-rmse:15.60652\n",
      "[227]\tvalidation_0-rmse:15.59342\n",
      "[228]\tvalidation_0-rmse:15.59147\n",
      "[229]\tvalidation_0-rmse:15.56679\n",
      "[230]\tvalidation_0-rmse:15.55949\n",
      "[231]\tvalidation_0-rmse:15.53963\n",
      "[232]\tvalidation_0-rmse:15.52369\n",
      "[233]\tvalidation_0-rmse:15.50910\n",
      "[234]\tvalidation_0-rmse:15.50034\n",
      "[235]\tvalidation_0-rmse:15.49187\n",
      "[236]\tvalidation_0-rmse:15.46729\n",
      "[237]\tvalidation_0-rmse:15.46808\n",
      "[238]\tvalidation_0-rmse:15.45895\n",
      "[239]\tvalidation_0-rmse:15.44984\n",
      "[240]\tvalidation_0-rmse:15.43218\n",
      "[241]\tvalidation_0-rmse:15.42821\n",
      "[242]\tvalidation_0-rmse:15.42686\n",
      "[243]\tvalidation_0-rmse:15.38440\n",
      "[244]\tvalidation_0-rmse:15.39113\n",
      "[245]\tvalidation_0-rmse:15.36817\n",
      "[246]\tvalidation_0-rmse:15.37939\n",
      "[247]\tvalidation_0-rmse:15.40327\n",
      "[248]\tvalidation_0-rmse:15.39266\n",
      "[249]\tvalidation_0-rmse:15.38309\n",
      "[250]\tvalidation_0-rmse:15.36313\n",
      "[251]\tvalidation_0-rmse:15.37640\n",
      "[252]\tvalidation_0-rmse:15.39055\n",
      "[253]\tvalidation_0-rmse:15.37209\n",
      "[254]\tvalidation_0-rmse:15.38415\n",
      "[255]\tvalidation_0-rmse:15.35483\n",
      "[256]\tvalidation_0-rmse:15.31907\n",
      "[257]\tvalidation_0-rmse:15.30815\n",
      "[258]\tvalidation_0-rmse:15.31863\n",
      "[259]\tvalidation_0-rmse:15.30665\n",
      "[260]\tvalidation_0-rmse:15.26968\n",
      "[261]\tvalidation_0-rmse:15.26133\n",
      "[262]\tvalidation_0-rmse:15.27202\n",
      "[263]\tvalidation_0-rmse:15.26305\n",
      "[264]\tvalidation_0-rmse:15.23687\n",
      "[265]\tvalidation_0-rmse:15.24937\n",
      "[266]\tvalidation_0-rmse:15.23510\n",
      "[267]\tvalidation_0-rmse:15.22271\n",
      "[268]\tvalidation_0-rmse:15.22826\n",
      "[269]\tvalidation_0-rmse:15.24682\n",
      "[270]\tvalidation_0-rmse:15.25566\n",
      "[271]\tvalidation_0-rmse:15.25576\n",
      "[272]\tvalidation_0-rmse:15.26593\n",
      "[273]\tvalidation_0-rmse:15.24067\n",
      "[274]\tvalidation_0-rmse:15.24842\n",
      "[275]\tvalidation_0-rmse:15.22894\n",
      "[276]\tvalidation_0-rmse:15.24440\n",
      "[277]\tvalidation_0-rmse:15.24036\n"
     ]
    },
    {
     "data": {
      "text/html": [
       "<style>#sk-container-id-1 {\n",
       "  /* Definition of color scheme common for light and dark mode */\n",
       "  --sklearn-color-text: black;\n",
       "  --sklearn-color-line: gray;\n",
       "  /* Definition of color scheme for unfitted estimators */\n",
       "  --sklearn-color-unfitted-level-0: #fff5e6;\n",
       "  --sklearn-color-unfitted-level-1: #f6e4d2;\n",
       "  --sklearn-color-unfitted-level-2: #ffe0b3;\n",
       "  --sklearn-color-unfitted-level-3: chocolate;\n",
       "  /* Definition of color scheme for fitted estimators */\n",
       "  --sklearn-color-fitted-level-0: #f0f8ff;\n",
       "  --sklearn-color-fitted-level-1: #d4ebff;\n",
       "  --sklearn-color-fitted-level-2: #b3dbfd;\n",
       "  --sklearn-color-fitted-level-3: cornflowerblue;\n",
       "\n",
       "  /* Specific color for light theme */\n",
       "  --sklearn-color-text-on-default-background: var(--sg-text-color, var(--theme-code-foreground, var(--jp-content-font-color1, black)));\n",
       "  --sklearn-color-background: var(--sg-background-color, var(--theme-background, var(--jp-layout-color0, white)));\n",
       "  --sklearn-color-border-box: var(--sg-text-color, var(--theme-code-foreground, var(--jp-content-font-color1, black)));\n",
       "  --sklearn-color-icon: #696969;\n",
       "\n",
       "  @media (prefers-color-scheme: dark) {\n",
       "    /* Redefinition of color scheme for dark theme */\n",
       "    --sklearn-color-text-on-default-background: var(--sg-text-color, var(--theme-code-foreground, var(--jp-content-font-color1, white)));\n",
       "    --sklearn-color-background: var(--sg-background-color, var(--theme-background, var(--jp-layout-color0, #111)));\n",
       "    --sklearn-color-border-box: var(--sg-text-color, var(--theme-code-foreground, var(--jp-content-font-color1, white)));\n",
       "    --sklearn-color-icon: #878787;\n",
       "  }\n",
       "}\n",
       "\n",
       "#sk-container-id-1 {\n",
       "  color: var(--sklearn-color-text);\n",
       "}\n",
       "\n",
       "#sk-container-id-1 pre {\n",
       "  padding: 0;\n",
       "}\n",
       "\n",
       "#sk-container-id-1 input.sk-hidden--visually {\n",
       "  border: 0;\n",
       "  clip: rect(1px 1px 1px 1px);\n",
       "  clip: rect(1px, 1px, 1px, 1px);\n",
       "  height: 1px;\n",
       "  margin: -1px;\n",
       "  overflow: hidden;\n",
       "  padding: 0;\n",
       "  position: absolute;\n",
       "  width: 1px;\n",
       "}\n",
       "\n",
       "#sk-container-id-1 div.sk-dashed-wrapped {\n",
       "  border: 1px dashed var(--sklearn-color-line);\n",
       "  margin: 0 0.4em 0.5em 0.4em;\n",
       "  box-sizing: border-box;\n",
       "  padding-bottom: 0.4em;\n",
       "  background-color: var(--sklearn-color-background);\n",
       "}\n",
       "\n",
       "#sk-container-id-1 div.sk-container {\n",
       "  /* jupyter's `normalize.less` sets `[hidden] { display: none; }`\n",
       "     but bootstrap.min.css set `[hidden] { display: none !important; }`\n",
       "     so we also need the `!important` here to be able to override the\n",
       "     default hidden behavior on the sphinx rendered scikit-learn.org.\n",
       "     See: https://github.com/scikit-learn/scikit-learn/issues/21755 */\n",
       "  display: inline-block !important;\n",
       "  position: relative;\n",
       "}\n",
       "\n",
       "#sk-container-id-1 div.sk-text-repr-fallback {\n",
       "  display: none;\n",
       "}\n",
       "\n",
       "div.sk-parallel-item,\n",
       "div.sk-serial,\n",
       "div.sk-item {\n",
       "  /* draw centered vertical line to link estimators */\n",
       "  background-image: linear-gradient(var(--sklearn-color-text-on-default-background), var(--sklearn-color-text-on-default-background));\n",
       "  background-size: 2px 100%;\n",
       "  background-repeat: no-repeat;\n",
       "  background-position: center center;\n",
       "}\n",
       "\n",
       "/* Parallel-specific style estimator block */\n",
       "\n",
       "#sk-container-id-1 div.sk-parallel-item::after {\n",
       "  content: \"\";\n",
       "  width: 100%;\n",
       "  border-bottom: 2px solid var(--sklearn-color-text-on-default-background);\n",
       "  flex-grow: 1;\n",
       "}\n",
       "\n",
       "#sk-container-id-1 div.sk-parallel {\n",
       "  display: flex;\n",
       "  align-items: stretch;\n",
       "  justify-content: center;\n",
       "  background-color: var(--sklearn-color-background);\n",
       "  position: relative;\n",
       "}\n",
       "\n",
       "#sk-container-id-1 div.sk-parallel-item {\n",
       "  display: flex;\n",
       "  flex-direction: column;\n",
       "}\n",
       "\n",
       "#sk-container-id-1 div.sk-parallel-item:first-child::after {\n",
       "  align-self: flex-end;\n",
       "  width: 50%;\n",
       "}\n",
       "\n",
       "#sk-container-id-1 div.sk-parallel-item:last-child::after {\n",
       "  align-self: flex-start;\n",
       "  width: 50%;\n",
       "}\n",
       "\n",
       "#sk-container-id-1 div.sk-parallel-item:only-child::after {\n",
       "  width: 0;\n",
       "}\n",
       "\n",
       "/* Serial-specific style estimator block */\n",
       "\n",
       "#sk-container-id-1 div.sk-serial {\n",
       "  display: flex;\n",
       "  flex-direction: column;\n",
       "  align-items: center;\n",
       "  background-color: var(--sklearn-color-background);\n",
       "  padding-right: 1em;\n",
       "  padding-left: 1em;\n",
       "}\n",
       "\n",
       "\n",
       "/* Toggleable style: style used for estimator/Pipeline/ColumnTransformer box that is\n",
       "clickable and can be expanded/collapsed.\n",
       "- Pipeline and ColumnTransformer use this feature and define the default style\n",
       "- Estimators will overwrite some part of the style using the `sk-estimator` class\n",
       "*/\n",
       "\n",
       "/* Pipeline and ColumnTransformer style (default) */\n",
       "\n",
       "#sk-container-id-1 div.sk-toggleable {\n",
       "  /* Default theme specific background. It is overwritten whether we have a\n",
       "  specific estimator or a Pipeline/ColumnTransformer */\n",
       "  background-color: var(--sklearn-color-background);\n",
       "}\n",
       "\n",
       "/* Toggleable label */\n",
       "#sk-container-id-1 label.sk-toggleable__label {\n",
       "  cursor: pointer;\n",
       "  display: block;\n",
       "  width: 100%;\n",
       "  margin-bottom: 0;\n",
       "  padding: 0.5em;\n",
       "  box-sizing: border-box;\n",
       "  text-align: center;\n",
       "}\n",
       "\n",
       "#sk-container-id-1 label.sk-toggleable__label-arrow:before {\n",
       "  /* Arrow on the left of the label */\n",
       "  content: \"▸\";\n",
       "  float: left;\n",
       "  margin-right: 0.25em;\n",
       "  color: var(--sklearn-color-icon);\n",
       "}\n",
       "\n",
       "#sk-container-id-1 label.sk-toggleable__label-arrow:hover:before {\n",
       "  color: var(--sklearn-color-text);\n",
       "}\n",
       "\n",
       "/* Toggleable content - dropdown */\n",
       "\n",
       "#sk-container-id-1 div.sk-toggleable__content {\n",
       "  max-height: 0;\n",
       "  max-width: 0;\n",
       "  overflow: hidden;\n",
       "  text-align: left;\n",
       "  /* unfitted */\n",
       "  background-color: var(--sklearn-color-unfitted-level-0);\n",
       "}\n",
       "\n",
       "#sk-container-id-1 div.sk-toggleable__content.fitted {\n",
       "  /* fitted */\n",
       "  background-color: var(--sklearn-color-fitted-level-0);\n",
       "}\n",
       "\n",
       "#sk-container-id-1 div.sk-toggleable__content pre {\n",
       "  margin: 0.2em;\n",
       "  border-radius: 0.25em;\n",
       "  color: var(--sklearn-color-text);\n",
       "  /* unfitted */\n",
       "  background-color: var(--sklearn-color-unfitted-level-0);\n",
       "}\n",
       "\n",
       "#sk-container-id-1 div.sk-toggleable__content.fitted pre {\n",
       "  /* unfitted */\n",
       "  background-color: var(--sklearn-color-fitted-level-0);\n",
       "}\n",
       "\n",
       "#sk-container-id-1 input.sk-toggleable__control:checked~div.sk-toggleable__content {\n",
       "  /* Expand drop-down */\n",
       "  max-height: 200px;\n",
       "  max-width: 100%;\n",
       "  overflow: auto;\n",
       "}\n",
       "\n",
       "#sk-container-id-1 input.sk-toggleable__control:checked~label.sk-toggleable__label-arrow:before {\n",
       "  content: \"▾\";\n",
       "}\n",
       "\n",
       "/* Pipeline/ColumnTransformer-specific style */\n",
       "\n",
       "#sk-container-id-1 div.sk-label input.sk-toggleable__control:checked~label.sk-toggleable__label {\n",
       "  color: var(--sklearn-color-text);\n",
       "  background-color: var(--sklearn-color-unfitted-level-2);\n",
       "}\n",
       "\n",
       "#sk-container-id-1 div.sk-label.fitted input.sk-toggleable__control:checked~label.sk-toggleable__label {\n",
       "  background-color: var(--sklearn-color-fitted-level-2);\n",
       "}\n",
       "\n",
       "/* Estimator-specific style */\n",
       "\n",
       "/* Colorize estimator box */\n",
       "#sk-container-id-1 div.sk-estimator input.sk-toggleable__control:checked~label.sk-toggleable__label {\n",
       "  /* unfitted */\n",
       "  background-color: var(--sklearn-color-unfitted-level-2);\n",
       "}\n",
       "\n",
       "#sk-container-id-1 div.sk-estimator.fitted input.sk-toggleable__control:checked~label.sk-toggleable__label {\n",
       "  /* fitted */\n",
       "  background-color: var(--sklearn-color-fitted-level-2);\n",
       "}\n",
       "\n",
       "#sk-container-id-1 div.sk-label label.sk-toggleable__label,\n",
       "#sk-container-id-1 div.sk-label label {\n",
       "  /* The background is the default theme color */\n",
       "  color: var(--sklearn-color-text-on-default-background);\n",
       "}\n",
       "\n",
       "/* On hover, darken the color of the background */\n",
       "#sk-container-id-1 div.sk-label:hover label.sk-toggleable__label {\n",
       "  color: var(--sklearn-color-text);\n",
       "  background-color: var(--sklearn-color-unfitted-level-2);\n",
       "}\n",
       "\n",
       "/* Label box, darken color on hover, fitted */\n",
       "#sk-container-id-1 div.sk-label.fitted:hover label.sk-toggleable__label.fitted {\n",
       "  color: var(--sklearn-color-text);\n",
       "  background-color: var(--sklearn-color-fitted-level-2);\n",
       "}\n",
       "\n",
       "/* Estimator label */\n",
       "\n",
       "#sk-container-id-1 div.sk-label label {\n",
       "  font-family: monospace;\n",
       "  font-weight: bold;\n",
       "  display: inline-block;\n",
       "  line-height: 1.2em;\n",
       "}\n",
       "\n",
       "#sk-container-id-1 div.sk-label-container {\n",
       "  text-align: center;\n",
       "}\n",
       "\n",
       "/* Estimator-specific */\n",
       "#sk-container-id-1 div.sk-estimator {\n",
       "  font-family: monospace;\n",
       "  border: 1px dotted var(--sklearn-color-border-box);\n",
       "  border-radius: 0.25em;\n",
       "  box-sizing: border-box;\n",
       "  margin-bottom: 0.5em;\n",
       "  /* unfitted */\n",
       "  background-color: var(--sklearn-color-unfitted-level-0);\n",
       "}\n",
       "\n",
       "#sk-container-id-1 div.sk-estimator.fitted {\n",
       "  /* fitted */\n",
       "  background-color: var(--sklearn-color-fitted-level-0);\n",
       "}\n",
       "\n",
       "/* on hover */\n",
       "#sk-container-id-1 div.sk-estimator:hover {\n",
       "  /* unfitted */\n",
       "  background-color: var(--sklearn-color-unfitted-level-2);\n",
       "}\n",
       "\n",
       "#sk-container-id-1 div.sk-estimator.fitted:hover {\n",
       "  /* fitted */\n",
       "  background-color: var(--sklearn-color-fitted-level-2);\n",
       "}\n",
       "\n",
       "/* Specification for estimator info (e.g. \"i\" and \"?\") */\n",
       "\n",
       "/* Common style for \"i\" and \"?\" */\n",
       "\n",
       ".sk-estimator-doc-link,\n",
       "a:link.sk-estimator-doc-link,\n",
       "a:visited.sk-estimator-doc-link {\n",
       "  float: right;\n",
       "  font-size: smaller;\n",
       "  line-height: 1em;\n",
       "  font-family: monospace;\n",
       "  background-color: var(--sklearn-color-background);\n",
       "  border-radius: 1em;\n",
       "  height: 1em;\n",
       "  width: 1em;\n",
       "  text-decoration: none !important;\n",
       "  margin-left: 1ex;\n",
       "  /* unfitted */\n",
       "  border: var(--sklearn-color-unfitted-level-1) 1pt solid;\n",
       "  color: var(--sklearn-color-unfitted-level-1);\n",
       "}\n",
       "\n",
       ".sk-estimator-doc-link.fitted,\n",
       "a:link.sk-estimator-doc-link.fitted,\n",
       "a:visited.sk-estimator-doc-link.fitted {\n",
       "  /* fitted */\n",
       "  border: var(--sklearn-color-fitted-level-1) 1pt solid;\n",
       "  color: var(--sklearn-color-fitted-level-1);\n",
       "}\n",
       "\n",
       "/* On hover */\n",
       "div.sk-estimator:hover .sk-estimator-doc-link:hover,\n",
       ".sk-estimator-doc-link:hover,\n",
       "div.sk-label-container:hover .sk-estimator-doc-link:hover,\n",
       ".sk-estimator-doc-link:hover {\n",
       "  /* unfitted */\n",
       "  background-color: var(--sklearn-color-unfitted-level-3);\n",
       "  color: var(--sklearn-color-background);\n",
       "  text-decoration: none;\n",
       "}\n",
       "\n",
       "div.sk-estimator.fitted:hover .sk-estimator-doc-link.fitted:hover,\n",
       ".sk-estimator-doc-link.fitted:hover,\n",
       "div.sk-label-container:hover .sk-estimator-doc-link.fitted:hover,\n",
       ".sk-estimator-doc-link.fitted:hover {\n",
       "  /* fitted */\n",
       "  background-color: var(--sklearn-color-fitted-level-3);\n",
       "  color: var(--sklearn-color-background);\n",
       "  text-decoration: none;\n",
       "}\n",
       "\n",
       "/* Span, style for the box shown on hovering the info icon */\n",
       ".sk-estimator-doc-link span {\n",
       "  display: none;\n",
       "  z-index: 9999;\n",
       "  position: relative;\n",
       "  font-weight: normal;\n",
       "  right: .2ex;\n",
       "  padding: .5ex;\n",
       "  margin: .5ex;\n",
       "  width: min-content;\n",
       "  min-width: 20ex;\n",
       "  max-width: 50ex;\n",
       "  color: var(--sklearn-color-text);\n",
       "  box-shadow: 2pt 2pt 4pt #999;\n",
       "  /* unfitted */\n",
       "  background: var(--sklearn-color-unfitted-level-0);\n",
       "  border: .5pt solid var(--sklearn-color-unfitted-level-3);\n",
       "}\n",
       "\n",
       ".sk-estimator-doc-link.fitted span {\n",
       "  /* fitted */\n",
       "  background: var(--sklearn-color-fitted-level-0);\n",
       "  border: var(--sklearn-color-fitted-level-3);\n",
       "}\n",
       "\n",
       ".sk-estimator-doc-link:hover span {\n",
       "  display: block;\n",
       "}\n",
       "\n",
       "/* \"?\"-specific style due to the `<a>` HTML tag */\n",
       "\n",
       "#sk-container-id-1 a.estimator_doc_link {\n",
       "  float: right;\n",
       "  font-size: 1rem;\n",
       "  line-height: 1em;\n",
       "  font-family: monospace;\n",
       "  background-color: var(--sklearn-color-background);\n",
       "  border-radius: 1rem;\n",
       "  height: 1rem;\n",
       "  width: 1rem;\n",
       "  text-decoration: none;\n",
       "  /* unfitted */\n",
       "  color: var(--sklearn-color-unfitted-level-1);\n",
       "  border: var(--sklearn-color-unfitted-level-1) 1pt solid;\n",
       "}\n",
       "\n",
       "#sk-container-id-1 a.estimator_doc_link.fitted {\n",
       "  /* fitted */\n",
       "  border: var(--sklearn-color-fitted-level-1) 1pt solid;\n",
       "  color: var(--sklearn-color-fitted-level-1);\n",
       "}\n",
       "\n",
       "/* On hover */\n",
       "#sk-container-id-1 a.estimator_doc_link:hover {\n",
       "  /* unfitted */\n",
       "  background-color: var(--sklearn-color-unfitted-level-3);\n",
       "  color: var(--sklearn-color-background);\n",
       "  text-decoration: none;\n",
       "}\n",
       "\n",
       "#sk-container-id-1 a.estimator_doc_link.fitted:hover {\n",
       "  /* fitted */\n",
       "  background-color: var(--sklearn-color-fitted-level-3);\n",
       "}\n",
       "</style><div id=\"sk-container-id-1\" class=\"sk-top-container\"><div class=\"sk-text-repr-fallback\"><pre>XGBRegressor(base_score=None, booster=None, callbacks=None,\n",
       "             colsample_bylevel=None, colsample_bynode=None,\n",
       "             colsample_bytree=0.6, device=None, early_stopping_rounds=10,\n",
       "             enable_categorical=False, eval_metric=&#x27;rmse&#x27;, feature_types=None,\n",
       "             gamma=0.0, grow_policy=None, importance_type=None,\n",
       "             interaction_constraints=None, learning_rate=0.01, max_bin=None,\n",
       "             max_cat_threshold=None, max_cat_to_onehot=None,\n",
       "             max_delta_step=None, max_depth=3, max_leaves=None,\n",
       "             min_child_weight=1, missing=nan, monotone_constraints=None,\n",
       "             multi_strategy=None, n_estimators=10000, n_jobs=-1,\n",
       "             num_parallel_tree=None, random_state=1, ...)</pre><b>In a Jupyter environment, please rerun this cell to show the HTML representation or trust the notebook. <br />On GitHub, the HTML representation is unable to render, please try loading this page with nbviewer.org.</b></div><div class=\"sk-container\" hidden><div class=\"sk-item\"><div class=\"sk-estimator fitted sk-toggleable\"><input class=\"sk-toggleable__control sk-hidden--visually\" id=\"sk-estimator-id-1\" type=\"checkbox\" checked><label for=\"sk-estimator-id-1\" class=\"sk-toggleable__label fitted sk-toggleable__label-arrow fitted\">&nbsp;XGBRegressor<span class=\"sk-estimator-doc-link fitted\">i<span>Fitted</span></span></label><div class=\"sk-toggleable__content fitted\"><pre>XGBRegressor(base_score=None, booster=None, callbacks=None,\n",
       "             colsample_bylevel=None, colsample_bynode=None,\n",
       "             colsample_bytree=0.6, device=None, early_stopping_rounds=10,\n",
       "             enable_categorical=False, eval_metric=&#x27;rmse&#x27;, feature_types=None,\n",
       "             gamma=0.0, grow_policy=None, importance_type=None,\n",
       "             interaction_constraints=None, learning_rate=0.01, max_bin=None,\n",
       "             max_cat_threshold=None, max_cat_to_onehot=None,\n",
       "             max_delta_step=None, max_depth=3, max_leaves=None,\n",
       "             min_child_weight=1, missing=nan, monotone_constraints=None,\n",
       "             multi_strategy=None, n_estimators=10000, n_jobs=-1,\n",
       "             num_parallel_tree=None, random_state=1, ...)</pre></div> </div></div></div></div>"
      ],
      "text/plain": [
       "XGBRegressor(base_score=None, booster=None, callbacks=None,\n",
       "             colsample_bylevel=None, colsample_bynode=None,\n",
       "             colsample_bytree=0.6, device=None, early_stopping_rounds=10,\n",
       "             enable_categorical=False, eval_metric='rmse', feature_types=None,\n",
       "             gamma=0.0, grow_policy=None, importance_type=None,\n",
       "             interaction_constraints=None, learning_rate=0.01, max_bin=None,\n",
       "             max_cat_threshold=None, max_cat_to_onehot=None,\n",
       "             max_delta_step=None, max_depth=3, max_leaves=None,\n",
       "             min_child_weight=1, missing=nan, monotone_constraints=None,\n",
       "             multi_strategy=None, n_estimators=10000, n_jobs=-1,\n",
       "             num_parallel_tree=None, random_state=1, ...)"
      ]
     },
     "execution_count": 135,
     "metadata": {},
     "output_type": "execute_result"
    }
   ],
   "source": [
    "model = XGBRegressor(verbosity=0, learning_rate=0.01, max_depth=3, n_estimators=10000, n_jobs=-1, random_state=1,\n",
    "                    min_child_weight=1, gamma = 0.0, subsample = 0.6, colsample_bytree = 0.6, scale_pos_weight = 1,\n",
    "                    reg_alpha= 1e-05, early_stopping_rounds=10, eval_metric='rmse')\n",
    "model.fit(X_train, y_train, eval_set=eval_set, verbose = 1)"
   ]
  },
  {
   "cell_type": "code",
   "execution_count": 137,
   "id": "9cbee034",
   "metadata": {},
   "outputs": [
    {
     "data": {
      "text/plain": [
       "array([9.58626252e-03, 9.98505205e-03, 7.25242309e-03, 1.50976004e-02,\n",
       "       9.99721605e-03, 1.05330953e-02, 1.42045813e-02, 1.04965763e-02,\n",
       "       1.81155708e-02, 1.62753463e-02, 1.38437767e-02, 2.96219047e-02,\n",
       "       1.31631233e-02, 1.19422898e-02, 9.46610514e-03, 2.23371070e-02,\n",
       "       1.14711253e-02, 1.69805773e-02, 7.56400600e-02, 1.65238511e-02,\n",
       "       5.12813441e-02, 1.17895193e-02, 1.19385626e-02, 4.51284796e-02,\n",
       "       7.99523108e-03, 0.00000000e+00, 0.00000000e+00, 5.48932655e-03,\n",
       "       1.33684068e-03, 9.89272818e-03, 0.00000000e+00, 0.00000000e+00,\n",
       "       1.17337285e-02, 0.00000000e+00, 2.93947421e-02, 1.80924777e-02,\n",
       "       8.20097141e-03, 1.01527721e-02, 4.67817625e-03, 0.00000000e+00,\n",
       "       0.00000000e+00, 1.32480999e-02, 9.30638285e-04, 0.00000000e+00,\n",
       "       0.00000000e+00, 1.05543137e-02, 0.00000000e+00, 0.00000000e+00,\n",
       "       2.97886482e-03, 7.88973831e-03, 1.73423663e-02, 0.00000000e+00,\n",
       "       0.00000000e+00, 1.76127367e-02, 1.12376586e-02, 1.44888889e-02,\n",
       "       3.27365310e-03, 8.43884517e-03, 2.96126362e-02, 5.32026170e-03,\n",
       "       1.41176563e-02, 5.81363123e-03, 0.00000000e+00, 2.32610852e-02,\n",
       "       7.81951379e-03, 0.00000000e+00, 3.12606478e-03, 0.00000000e+00,\n",
       "       2.31079152e-03, 2.15831078e-05, 0.00000000e+00, 0.00000000e+00,\n",
       "       0.00000000e+00, 1.69523433e-02, 0.00000000e+00, 0.00000000e+00,\n",
       "       0.00000000e+00, 0.00000000e+00, 4.74418467e-03, 0.00000000e+00,\n",
       "       0.00000000e+00, 0.00000000e+00, 1.25649692e-02, 0.00000000e+00,\n",
       "       1.29673015e-02, 0.00000000e+00, 0.00000000e+00, 0.00000000e+00,\n",
       "       7.68690044e-03, 0.00000000e+00, 0.00000000e+00, 6.35943795e-03,\n",
       "       0.00000000e+00, 2.02440494e-03, 1.11153126e-02, 0.00000000e+00,\n",
       "       2.35706400e-02, 9.66897141e-03, 0.00000000e+00, 5.93541516e-03,\n",
       "       4.25214693e-03, 0.00000000e+00, 1.22872926e-02, 0.00000000e+00,\n",
       "       0.00000000e+00, 1.53188789e-02, 1.10763200e-02, 3.19667682e-02,\n",
       "       7.46567408e-03, 0.00000000e+00, 3.38002741e-02, 0.00000000e+00,\n",
       "       0.00000000e+00, 1.20516086e-03], dtype=float32)"
      ]
     },
     "execution_count": 137,
     "metadata": {},
     "output_type": "execute_result"
    }
   ],
   "source": [
    "model.feature_importances_"
   ]
  },
  {
   "cell_type": "code",
   "execution_count": 139,
   "id": "5839f548",
   "metadata": {},
   "outputs": [
    {
     "data": {
      "text/plain": [
       "<Axes: title={'center': 'Feature importance'}, xlabel='F score', ylabel='Features'>"
      ]
     },
     "execution_count": 139,
     "metadata": {},
     "output_type": "execute_result"
    },
    {
     "data": {
      "image/png": "[encoded data removed]",
      "text/plain": [
       "<Figure size 640x480 with 1 Axes>"
      ]
     },
     "metadata": {},
     "output_type": "display_data"
    }
   ],
   "source": [
    "plot_importance(model, max_num_features=20)"
   ]
  },
  {
   "cell_type": "code",
   "execution_count": 141,
   "id": "3359ac7b",
   "metadata": {},
   "outputs": [
    {
     "data": {
      "text/plain": [
       "0.8217873962791512"
      ]
     },
     "execution_count": 141,
     "metadata": {},
     "output_type": "execute_result"
    }
   ],
   "source": [
    "score = model.score(X_train, y_train)  \n",
    "score"
   ]
  },
  {
   "cell_type": "code",
   "execution_count": 143,
   "id": "00939a09",
   "metadata": {},
   "outputs": [
    {
     "data": {
      "text/plain": [
       "17"
      ]
     },
     "execution_count": 143,
     "metadata": {},
     "output_type": "execute_result"
    }
   ],
   "source": [
    "y_pred = model.predict(X_test)\n",
    "predictions = [round(value, 2) for value in y_pred]\n",
    "len(predictions)"
   ]
  },
  {
   "cell_type": "code",
   "execution_count": 145,
   "id": "cc6af5f6",
   "metadata": {},
   "outputs": [
    {
     "data": {
      "text/plain": [
       "Text(0.5, 1.0, 'Previsão Ocupação')"
      ]
     },
     "execution_count": 145,
     "metadata": {},
     "output_type": "execute_result"
    },
    {
     "data": {
      "image/png": "[encoded data removed]",
      "text/plain": [
       "<Figure size 1000x400 with 1 Axes>"
      ]
     },
     "metadata": {},
     "output_type": "display_data"
    }
   ],
   "source": [
    "y_test = y_test.reset_index(drop=True)\n",
    "fig, ax = plt.subplots(figsize=(10, 4))\n",
    "ax.plot(y_test, label='Ocupação')\n",
    "ax.plot(predictions, label='Previsão')\n",
    "ax.legend()\n",
    "ax.set_title(\"Previsão Ocupação\")"
   ]
  },
  {
   "cell_type": "code",
   "execution_count": 147,
   "id": "fe55d0b9",
   "metadata": {},
   "outputs": [
    {
     "name": "stdout",
     "output_type": "stream",
     "text": [
      "Erro médio quadrático:  15.221990980828336\n",
      "Erro médio absoluto:  13.304706358068131\n"
     ]
    }
   ],
   "source": [
    "taxas_erro(y_test, predictions)"
   ]
  },
  {
   "cell_type": "markdown",
   "id": "500d5f3e",
   "metadata": {},
   "source": [
    "##### Previsões"
   ]
  },
  {
   "cell_type": "code",
   "execution_count": 149,
   "id": "4aa40b0e",
   "metadata": {},
   "outputs": [],
   "source": [
    "dataset_previsao_modelo = dataset_previsao.drop(columns=['percentual_ocupacao', 'prejuizo_lucro', 'resultado_partida']\n",
    "                                               ).copy().reset_index(drop=True).loc[:0]"
   ]
  },
  {
   "cell_type": "code",
   "execution_count": 151,
   "id": "ec34f325",
   "metadata": {},
   "outputs": [
    {
     "data": {
      "text/plain": [
       "array([46.967506], dtype=float32)"
      ]
     },
     "execution_count": 151,
     "metadata": {},
     "output_type": "execute_result"
    }
   ],
   "source": [
    "model.predict(dataset_previsao_modelo)"
   ]
  },
  {
   "cell_type": "markdown",
   "id": "1f025200",
   "metadata": {},
   "source": [
    "##### Modelo 2"
   ]
  },
  {
   "cell_type": "code",
   "execution_count": 153,
   "id": "25a68082",
   "metadata": {},
   "outputs": [],
   "source": [
    "dados_modelo_prejuizo_lucro = dados_modelo_prejuizo_lucro[~dados_modelo_prejuizo_lucro['prejuizo_lucro'].isna() == True].reset_index(drop=True)"
   ]
  },
  {
   "cell_type": "code",
   "execution_count": 155,
   "id": "d7adb01c",
   "metadata": {},
   "outputs": [],
   "source": [
    "X = dados_modelo_prejuizo_lucro.drop(columns=['prejuizo_lucro']).copy()\n",
    "y = dados_modelo_prejuizo_lucro[['prejuizo_lucro']]"
   ]
  },
  {
   "cell_type": "code",
   "execution_count": 157,
   "id": "b03289a6",
   "metadata": {},
   "outputs": [],
   "source": [
    "X_train, X_test, y_train, y_test = train_test_split(X, y, test_size=0.2, random_state=42)\n",
    "eval_set = [(X_test, y_test)]"
   ]
  },
  {
   "cell_type": "code",
   "execution_count": 159,
   "id": "1a98ff9b",
   "metadata": {},
   "outputs": [
    {
     "name": "stdout",
     "output_type": "stream",
     "text": [
      "Testando Variáveis: max_depth, min_child_weight\n",
      "Melhores valores:  {'max_depth': 3, 'min_child_weight': 1}\n",
      "-----------------------------\n",
      "Testando Variáveis:gamma\n",
      "Melhores valores:  {'gamma': 0.2}\n",
      "-----------------------------\n",
      "Testando Variáveis: subsample, colsample_bytree\n",
      "Melhores valores:  {'colsample_bytree': 0.8, 'subsample': 0.6}\n",
      "-----------------------------\n",
      "Testando Variáveis: reg_alpha\n",
      "Melhores valores:  {'reg_alpha': 0.1}\n",
      "-----------------------------\n"
     ]
    }
   ],
   "source": [
    "tunning_hiperpametros(XGBClassifier, X_train, y_train)"
   ]
  },
  {
   "cell_type": "code",
   "execution_count": 163,
   "id": "d1d957d5",
   "metadata": {
    "scrolled": true
   },
   "outputs": [
    {
     "name": "stdout",
     "output_type": "stream",
     "text": [
      "[0]\tvalidation_0-auc:0.68056\n",
      "[1]\tvalidation_0-auc:0.61111\n",
      "[2]\tvalidation_0-auc:0.75000\n",
      "[3]\tvalidation_0-auc:0.71528\n",
      "[4]\tvalidation_0-auc:0.72917\n",
      "[5]\tvalidation_0-auc:0.70833\n",
      "[6]\tvalidation_0-auc:0.62500\n",
      "[7]\tvalidation_0-auc:0.66667\n",
      "[8]\tvalidation_0-auc:0.72222\n",
      "[9]\tvalidation_0-auc:0.75000\n",
      "[10]\tvalidation_0-auc:0.73611\n",
      "[11]\tvalidation_0-auc:0.76389\n",
      "[12]\tvalidation_0-auc:0.80556\n",
      "[13]\tvalidation_0-auc:0.80556\n",
      "[14]\tvalidation_0-auc:0.79167\n",
      "[15]\tvalidation_0-auc:0.76389\n",
      "[16]\tvalidation_0-auc:0.77778\n",
      "[17]\tvalidation_0-auc:0.77778\n",
      "[18]\tvalidation_0-auc:0.77778\n",
      "[19]\tvalidation_0-auc:0.77778\n",
      "[20]\tvalidation_0-auc:0.79167\n",
      "[21]\tvalidation_0-auc:0.80556\n"
     ]
    },
    {
     "data": {
      "text/html": [
       "<style>#sk-container-id-3 {\n",
       "  /* Definition of color scheme common for light and dark mode */\n",
       "  --sklearn-color-text: black;\n",
       "  --sklearn-color-line: gray;\n",
       "  /* Definition of color scheme for unfitted estimators */\n",
       "  --sklearn-color-unfitted-level-0: #fff5e6;\n",
       "  --sklearn-color-unfitted-level-1: #f6e4d2;\n",
       "  --sklearn-color-unfitted-level-2: #ffe0b3;\n",
       "  --sklearn-color-unfitted-level-3: chocolate;\n",
       "  /* Definition of color scheme for fitted estimators */\n",
       "  --sklearn-color-fitted-level-0: #f0f8ff;\n",
       "  --sklearn-color-fitted-level-1: #d4ebff;\n",
       "  --sklearn-color-fitted-level-2: #b3dbfd;\n",
       "  --sklearn-color-fitted-level-3: cornflowerblue;\n",
       "\n",
       "  /* Specific color for light theme */\n",
       "  --sklearn-color-text-on-default-background: var(--sg-text-color, var(--theme-code-foreground, var(--jp-content-font-color1, black)));\n",
       "  --sklearn-color-background: var(--sg-background-color, var(--theme-background, var(--jp-layout-color0, white)));\n",
       "  --sklearn-color-border-box: var(--sg-text-color, var(--theme-code-foreground, var(--jp-content-font-color1, black)));\n",
       "  --sklearn-color-icon: #696969;\n",
       "\n",
       "  @media (prefers-color-scheme: dark) {\n",
       "    /* Redefinition of color scheme for dark theme */\n",
       "    --sklearn-color-text-on-default-background: var(--sg-text-color, var(--theme-code-foreground, var(--jp-content-font-color1, white)));\n",
       "    --sklearn-color-background: var(--sg-background-color, var(--theme-background, var(--jp-layout-color0, #111)));\n",
       "    --sklearn-color-border-box: var(--sg-text-color, var(--theme-code-foreground, var(--jp-content-font-color1, white)));\n",
       "    --sklearn-color-icon: #878787;\n",
       "  }\n",
       "}\n",
       "\n",
       "#sk-container-id-3 {\n",
       "  color: var(--sklearn-color-text);\n",
       "}\n",
       "\n",
       "#sk-container-id-3 pre {\n",
       "  padding: 0;\n",
       "}\n",
       "\n",
       "#sk-container-id-3 input.sk-hidden--visually {\n",
       "  border: 0;\n",
       "  clip: rect(1px 1px 1px 1px);\n",
       "  clip: rect(1px, 1px, 1px, 1px);\n",
       "  height: 1px;\n",
       "  margin: -1px;\n",
       "  overflow: hidden;\n",
       "  padding: 0;\n",
       "  position: absolute;\n",
       "  width: 1px;\n",
       "}\n",
       "\n",
       "#sk-container-id-3 div.sk-dashed-wrapped {\n",
       "  border: 1px dashed var(--sklearn-color-line);\n",
       "  margin: 0 0.4em 0.5em 0.4em;\n",
       "  box-sizing: border-box;\n",
       "  padding-bottom: 0.4em;\n",
       "  background-color: var(--sklearn-color-background);\n",
       "}\n",
       "\n",
       "#sk-container-id-3 div.sk-container {\n",
       "  /* jupyter's `normalize.less` sets `[hidden] { display: none; }`\n",
       "     but bootstrap.min.css set `[hidden] { display: none !important; }`\n",
       "     so we also need the `!important` here to be able to override the\n",
       "     default hidden behavior on the sphinx rendered scikit-learn.org.\n",
       "     See: https://github.com/scikit-learn/scikit-learn/issues/21755 */\n",
       "  display: inline-block !important;\n",
       "  position: relative;\n",
       "}\n",
       "\n",
       "#sk-container-id-3 div.sk-text-repr-fallback {\n",
       "  display: none;\n",
       "}\n",
       "\n",
       "div.sk-parallel-item,\n",
       "div.sk-serial,\n",
       "div.sk-item {\n",
       "  /* draw centered vertical line to link estimators */\n",
       "  background-image: linear-gradient(var(--sklearn-color-text-on-default-background), var(--sklearn-color-text-on-default-background));\n",
       "  background-size: 2px 100%;\n",
       "  background-repeat: no-repeat;\n",
       "  background-position: center center;\n",
       "}\n",
       "\n",
       "/* Parallel-specific style estimator block */\n",
       "\n",
       "#sk-container-id-3 div.sk-parallel-item::after {\n",
       "  content: \"\";\n",
       "  width: 100%;\n",
       "  border-bottom: 2px solid var(--sklearn-color-text-on-default-background);\n",
       "  flex-grow: 1;\n",
       "}\n",
       "\n",
       "#sk-container-id-3 div.sk-parallel {\n",
       "  display: flex;\n",
       "  align-items: stretch;\n",
       "  justify-content: center;\n",
       "  background-color: var(--sklearn-color-background);\n",
       "  position: relative;\n",
       "}\n",
       "\n",
       "#sk-container-id-3 div.sk-parallel-item {\n",
       "  display: flex;\n",
       "  flex-direction: column;\n",
       "}\n",
       "\n",
       "#sk-container-id-3 div.sk-parallel-item:first-child::after {\n",
       "  align-self: flex-end;\n",
       "  width: 50%;\n",
       "}\n",
       "\n",
       "#sk-container-id-3 div.sk-parallel-item:last-child::after {\n",
       "  align-self: flex-start;\n",
       "  width: 50%;\n",
       "}\n",
       "\n",
       "#sk-container-id-3 div.sk-parallel-item:only-child::after {\n",
       "  width: 0;\n",
       "}\n",
       "\n",
       "/* Serial-specific style estimator block */\n",
       "\n",
       "#sk-container-id-3 div.sk-serial {\n",
       "  display: flex;\n",
       "  flex-direction: column;\n",
       "  align-items: center;\n",
       "  background-color: var(--sklearn-color-background);\n",
       "  padding-right: 1em;\n",
       "  padding-left: 1em;\n",
       "}\n",
       "\n",
       "\n",
       "/* Toggleable style: style used for estimator/Pipeline/ColumnTransformer box that is\n",
       "clickable and can be expanded/collapsed.\n",
       "- Pipeline and ColumnTransformer use this feature and define the default style\n",
       "- Estimators will overwrite some part of the style using the `sk-estimator` class\n",
       "*/\n",
       "\n",
       "/* Pipeline and ColumnTransformer style (default) */\n",
       "\n",
       "#sk-container-id-3 div.sk-toggleable {\n",
       "  /* Default theme specific background. It is overwritten whether we have a\n",
       "  specific estimator or a Pipeline/ColumnTransformer */\n",
       "  background-color: var(--sklearn-color-background);\n",
       "}\n",
       "\n",
       "/* Toggleable label */\n",
       "#sk-container-id-3 label.sk-toggleable__label {\n",
       "  cursor: pointer;\n",
       "  display: block;\n",
       "  width: 100%;\n",
       "  margin-bottom: 0;\n",
       "  padding: 0.5em;\n",
       "  box-sizing: border-box;\n",
       "  text-align: center;\n",
       "}\n",
       "\n",
       "#sk-container-id-3 label.sk-toggleable__label-arrow:before {\n",
       "  /* Arrow on the left of the label */\n",
       "  content: \"▸\";\n",
       "  float: left;\n",
       "  margin-right: 0.25em;\n",
       "  color: var(--sklearn-color-icon);\n",
       "}\n",
       "\n",
       "#sk-container-id-3 label.sk-toggleable__label-arrow:hover:before {\n",
       "  color: var(--sklearn-color-text);\n",
       "}\n",
       "\n",
       "/* Toggleable content - dropdown */\n",
       "\n",
       "#sk-container-id-3 div.sk-toggleable__content {\n",
       "  max-height: 0;\n",
       "  max-width: 0;\n",
       "  overflow: hidden;\n",
       "  text-align: left;\n",
       "  /* unfitted */\n",
       "  background-color: var(--sklearn-color-unfitted-level-0);\n",
       "}\n",
       "\n",
       "#sk-container-id-3 div.sk-toggleable__content.fitted {\n",
       "  /* fitted */\n",
       "  background-color: var(--sklearn-color-fitted-level-0);\n",
       "}\n",
       "\n",
       "#sk-container-id-3 div.sk-toggleable__content pre {\n",
       "  margin: 0.2em;\n",
       "  border-radius: 0.25em;\n",
       "  color: var(--sklearn-color-text);\n",
       "  /* unfitted */\n",
       "  background-color: var(--sklearn-color-unfitted-level-0);\n",
       "}\n",
       "\n",
       "#sk-container-id-3 div.sk-toggleable__content.fitted pre {\n",
       "  /* unfitted */\n",
       "  background-color: var(--sklearn-color-fitted-level-0);\n",
       "}\n",
       "\n",
       "#sk-container-id-3 input.sk-toggleable__control:checked~div.sk-toggleable__content {\n",
       "  /* Expand drop-down */\n",
       "  max-height: 200px;\n",
       "  max-width: 100%;\n",
       "  overflow: auto;\n",
       "}\n",
       "\n",
       "#sk-container-id-3 input.sk-toggleable__control:checked~label.sk-toggleable__label-arrow:before {\n",
       "  content: \"▾\";\n",
       "}\n",
       "\n",
       "/* Pipeline/ColumnTransformer-specific style */\n",
       "\n",
       "#sk-container-id-3 div.sk-label input.sk-toggleable__control:checked~label.sk-toggleable__label {\n",
       "  color: var(--sklearn-color-text);\n",
       "  background-color: var(--sklearn-color-unfitted-level-2);\n",
       "}\n",
       "\n",
       "#sk-container-id-3 div.sk-label.fitted input.sk-toggleable__control:checked~label.sk-toggleable__label {\n",
       "  background-color: var(--sklearn-color-fitted-level-2);\n",
       "}\n",
       "\n",
       "/* Estimator-specific style */\n",
       "\n",
       "/* Colorize estimator box */\n",
       "#sk-container-id-3 div.sk-estimator input.sk-toggleable__control:checked~label.sk-toggleable__label {\n",
       "  /* unfitted */\n",
       "  background-color: var(--sklearn-color-unfitted-level-2);\n",
       "}\n",
       "\n",
       "#sk-container-id-3 div.sk-estimator.fitted input.sk-toggleable__control:checked~label.sk-toggleable__label {\n",
       "  /* fitted */\n",
       "  background-color: var(--sklearn-color-fitted-level-2);\n",
       "}\n",
       "\n",
       "#sk-container-id-3 div.sk-label label.sk-toggleable__label,\n",
       "#sk-container-id-3 div.sk-label label {\n",
       "  /* The background is the default theme color */\n",
       "  color: var(--sklearn-color-text-on-default-background);\n",
       "}\n",
       "\n",
       "/* On hover, darken the color of the background */\n",
       "#sk-container-id-3 div.sk-label:hover label.sk-toggleable__label {\n",
       "  color: var(--sklearn-color-text);\n",
       "  background-color: var(--sklearn-color-unfitted-level-2);\n",
       "}\n",
       "\n",
       "/* Label box, darken color on hover, fitted */\n",
       "#sk-container-id-3 div.sk-label.fitted:hover label.sk-toggleable__label.fitted {\n",
       "  color: var(--sklearn-color-text);\n",
       "  background-color: var(--sklearn-color-fitted-level-2);\n",
       "}\n",
       "\n",
       "/* Estimator label */\n",
       "\n",
       "#sk-container-id-3 div.sk-label label {\n",
       "  font-family: monospace;\n",
       "  font-weight: bold;\n",
       "  display: inline-block;\n",
       "  line-height: 1.2em;\n",
       "}\n",
       "\n",
       "#sk-container-id-3 div.sk-label-container {\n",
       "  text-align: center;\n",
       "}\n",
       "\n",
       "/* Estimator-specific */\n",
       "#sk-container-id-3 div.sk-estimator {\n",
       "  font-family: monospace;\n",
       "  border: 1px dotted var(--sklearn-color-border-box);\n",
       "  border-radius: 0.25em;\n",
       "  box-sizing: border-box;\n",
       "  margin-bottom: 0.5em;\n",
       "  /* unfitted */\n",
       "  background-color: var(--sklearn-color-unfitted-level-0);\n",
       "}\n",
       "\n",
       "#sk-container-id-3 div.sk-estimator.fitted {\n",
       "  /* fitted */\n",
       "  background-color: var(--sklearn-color-fitted-level-0);\n",
       "}\n",
       "\n",
       "/* on hover */\n",
       "#sk-container-id-3 div.sk-estimator:hover {\n",
       "  /* unfitted */\n",
       "  background-color: var(--sklearn-color-unfitted-level-2);\n",
       "}\n",
       "\n",
       "#sk-container-id-3 div.sk-estimator.fitted:hover {\n",
       "  /* fitted */\n",
       "  background-color: var(--sklearn-color-fitted-level-2);\n",
       "}\n",
       "\n",
       "/* Specification for estimator info (e.g. \"i\" and \"?\") */\n",
       "\n",
       "/* Common style for \"i\" and \"?\" */\n",
       "\n",
       ".sk-estimator-doc-link,\n",
       "a:link.sk-estimator-doc-link,\n",
       "a:visited.sk-estimator-doc-link {\n",
       "  float: right;\n",
       "  font-size: smaller;\n",
       "  line-height: 1em;\n",
       "  font-family: monospace;\n",
       "  background-color: var(--sklearn-color-background);\n",
       "  border-radius: 1em;\n",
       "  height: 1em;\n",
       "  width: 1em;\n",
       "  text-decoration: none !important;\n",
       "  margin-left: 1ex;\n",
       "  /* unfitted */\n",
       "  border: var(--sklearn-color-unfitted-level-1) 1pt solid;\n",
       "  color: var(--sklearn-color-unfitted-level-1);\n",
       "}\n",
       "\n",
       ".sk-estimator-doc-link.fitted,\n",
       "a:link.sk-estimator-doc-link.fitted,\n",
       "a:visited.sk-estimator-doc-link.fitted {\n",
       "  /* fitted */\n",
       "  border: var(--sklearn-color-fitted-level-1) 1pt solid;\n",
       "  color: var(--sklearn-color-fitted-level-1);\n",
       "}\n",
       "\n",
       "/* On hover */\n",
       "div.sk-estimator:hover .sk-estimator-doc-link:hover,\n",
       ".sk-estimator-doc-link:hover,\n",
       "div.sk-label-container:hover .sk-estimator-doc-link:hover,\n",
       ".sk-estimator-doc-link:hover {\n",
       "  /* unfitted */\n",
       "  background-color: var(--sklearn-color-unfitted-level-3);\n",
       "  color: var(--sklearn-color-background);\n",
       "  text-decoration: none;\n",
       "}\n",
       "\n",
       "div.sk-estimator.fitted:hover .sk-estimator-doc-link.fitted:hover,\n",
       ".sk-estimator-doc-link.fitted:hover,\n",
       "div.sk-label-container:hover .sk-estimator-doc-link.fitted:hover,\n",
       ".sk-estimator-doc-link.fitted:hover {\n",
       "  /* fitted */\n",
       "  background-color: var(--sklearn-color-fitted-level-3);\n",
       "  color: var(--sklearn-color-background);\n",
       "  text-decoration: none;\n",
       "}\n",
       "\n",
       "/* Span, style for the box shown on hovering the info icon */\n",
       ".sk-estimator-doc-link span {\n",
       "  display: none;\n",
       "  z-index: 9999;\n",
       "  position: relative;\n",
       "  font-weight: normal;\n",
       "  right: .2ex;\n",
       "  padding: .5ex;\n",
       "  margin: .5ex;\n",
       "  width: min-content;\n",
       "  min-width: 20ex;\n",
       "  max-width: 50ex;\n",
       "  color: var(--sklearn-color-text);\n",
       "  box-shadow: 2pt 2pt 4pt #999;\n",
       "  /* unfitted */\n",
       "  background: var(--sklearn-color-unfitted-level-0);\n",
       "  border: .5pt solid var(--sklearn-color-unfitted-level-3);\n",
       "}\n",
       "\n",
       ".sk-estimator-doc-link.fitted span {\n",
       "  /* fitted */\n",
       "  background: var(--sklearn-color-fitted-level-0);\n",
       "  border: var(--sklearn-color-fitted-level-3);\n",
       "}\n",
       "\n",
       ".sk-estimator-doc-link:hover span {\n",
       "  display: block;\n",
       "}\n",
       "\n",
       "/* \"?\"-specific style due to the `<a>` HTML tag */\n",
       "\n",
       "#sk-container-id-3 a.estimator_doc_link {\n",
       "  float: right;\n",
       "  font-size: 1rem;\n",
       "  line-height: 1em;\n",
       "  font-family: monospace;\n",
       "  background-color: var(--sklearn-color-background);\n",
       "  border-radius: 1rem;\n",
       "  height: 1rem;\n",
       "  width: 1rem;\n",
       "  text-decoration: none;\n",
       "  /* unfitted */\n",
       "  color: var(--sklearn-color-unfitted-level-1);\n",
       "  border: var(--sklearn-color-unfitted-level-1) 1pt solid;\n",
       "}\n",
       "\n",
       "#sk-container-id-3 a.estimator_doc_link.fitted {\n",
       "  /* fitted */\n",
       "  border: var(--sklearn-color-fitted-level-1) 1pt solid;\n",
       "  color: var(--sklearn-color-fitted-level-1);\n",
       "}\n",
       "\n",
       "/* On hover */\n",
       "#sk-container-id-3 a.estimator_doc_link:hover {\n",
       "  /* unfitted */\n",
       "  background-color: var(--sklearn-color-unfitted-level-3);\n",
       "  color: var(--sklearn-color-background);\n",
       "  text-decoration: none;\n",
       "}\n",
       "\n",
       "#sk-container-id-3 a.estimator_doc_link.fitted:hover {\n",
       "  /* fitted */\n",
       "  background-color: var(--sklearn-color-fitted-level-3);\n",
       "}\n",
       "</style><div id=\"sk-container-id-3\" class=\"sk-top-container\"><div class=\"sk-text-repr-fallback\"><pre>XGBClassifier(base_score=None, booster=None, callbacks=None,\n",
       "              colsample_bylevel=None, colsample_bynode=None,\n",
       "              colsample_bytree=0.6, device=None, early_stopping_rounds=10,\n",
       "              enable_categorical=False, eval_metric=&#x27;auc&#x27;, feature_types=None,\n",
       "              gamma=0.2, grow_policy=None, importance_type=None,\n",
       "              interaction_constraints=None, learning_rate=0.01, max_bin=None,\n",
       "              max_cat_threshold=None, max_cat_to_onehot=None,\n",
       "              max_delta_step=None, max_depth=5, max_leaves=None,\n",
       "              min_child_weight=1, missing=nan, monotone_constraints=None,\n",
       "              multi_strategy=None, n_estimators=10000, n_jobs=-1,\n",
       "              num_parallel_tree=None, random_state=1, ...)</pre><b>In a Jupyter environment, please rerun this cell to show the HTML representation or trust the notebook. <br />On GitHub, the HTML representation is unable to render, please try loading this page with nbviewer.org.</b></div><div class=\"sk-container\" hidden><div class=\"sk-item\"><div class=\"sk-estimator fitted sk-toggleable\"><input class=\"sk-toggleable__control sk-hidden--visually\" id=\"sk-estimator-id-3\" type=\"checkbox\" checked><label for=\"sk-estimator-id-3\" class=\"sk-toggleable__label fitted sk-toggleable__label-arrow fitted\">&nbsp;XGBClassifier<span class=\"sk-estimator-doc-link fitted\">i<span>Fitted</span></span></label><div class=\"sk-toggleable__content fitted\"><pre>XGBClassifier(base_score=None, booster=None, callbacks=None,\n",
       "              colsample_bylevel=None, colsample_bynode=None,\n",
       "              colsample_bytree=0.6, device=None, early_stopping_rounds=10,\n",
       "              enable_categorical=False, eval_metric=&#x27;auc&#x27;, feature_types=None,\n",
       "              gamma=0.2, grow_policy=None, importance_type=None,\n",
       "              interaction_constraints=None, learning_rate=0.01, max_bin=None,\n",
       "              max_cat_threshold=None, max_cat_to_onehot=None,\n",
       "              max_delta_step=None, max_depth=5, max_leaves=None,\n",
       "              min_child_weight=1, missing=nan, monotone_constraints=None,\n",
       "              multi_strategy=None, n_estimators=10000, n_jobs=-1,\n",
       "              num_parallel_tree=None, random_state=1, ...)</pre></div> </div></div></div></div>"
      ],
      "text/plain": [
       "XGBClassifier(base_score=None, booster=None, callbacks=None,\n",
       "              colsample_bylevel=None, colsample_bynode=None,\n",
       "              colsample_bytree=0.6, device=None, early_stopping_rounds=10,\n",
       "              enable_categorical=False, eval_metric='auc', feature_types=None,\n",
       "              gamma=0.2, grow_policy=None, importance_type=None,\n",
       "              interaction_constraints=None, learning_rate=0.01, max_bin=None,\n",
       "              max_cat_threshold=None, max_cat_to_onehot=None,\n",
       "              max_delta_step=None, max_depth=5, max_leaves=None,\n",
       "              min_child_weight=1, missing=nan, monotone_constraints=None,\n",
       "              multi_strategy=None, n_estimators=10000, n_jobs=-1,\n",
       "              num_parallel_tree=None, random_state=1, ...)"
      ]
     },
     "execution_count": 163,
     "metadata": {},
     "output_type": "execute_result"
    }
   ],
   "source": [
    "model = XGBClassifier(verbosity=0, learning_rate=0.01, max_depth=5, n_estimators=10000, n_jobs=-1, random_state=1,\n",
    "                    min_child_weight=1, gamma = 0.2, subsample = 0.8, colsample_bytree = 0.6, scale_pos_weight = 1,\n",
    "                    reg_alpha= 0.1, early_stopping_rounds=10, eval_metric='auc')\n",
    "\n",
    "model.fit(X_train, y_train, eval_set=eval_set, verbose = 1)"
   ]
  },
  {
   "cell_type": "code",
   "execution_count": 165,
   "id": "b4c3f196",
   "metadata": {},
   "outputs": [
    {
     "data": {
      "text/plain": [
       "array([0.04097378, 0.0524748 , 0.04074099, 0.04927887, 0.08518038,\n",
       "       0.08475859, 0.06083284, 0.02892289, 0.03385065, 0.05166549,\n",
       "       0.00399232, 0.06880274, 0.03721683, 0.02275238, 0.01808751,\n",
       "       0.05848041, 0.02404367, 0.02609427, 0.02648608, 0.04445932,\n",
       "       0.07957121, 0.        , 0.        , 0.        , 0.        ,\n",
       "       0.        , 0.        , 0.        , 0.        , 0.        ,\n",
       "       0.        , 0.        , 0.        , 0.        , 0.06133395,\n",
       "       0.        , 0.        , 0.        , 0.        , 0.        ,\n",
       "       0.        , 0.        , 0.        , 0.        , 0.        ,\n",
       "       0.        , 0.        , 0.        , 0.        , 0.        ,\n",
       "       0.        , 0.        , 0.        , 0.        , 0.        ,\n",
       "       0.        , 0.        , 0.        , 0.        , 0.        ,\n",
       "       0.        , 0.        , 0.        , 0.        , 0.        ,\n",
       "       0.        , 0.        , 0.        , 0.        , 0.        ,\n",
       "       0.        , 0.        , 0.        , 0.        , 0.        ,\n",
       "       0.        , 0.        , 0.        , 0.        , 0.        ,\n",
       "       0.        , 0.        , 0.        , 0.        , 0.        ,\n",
       "       0.        , 0.        , 0.        , 0.        , 0.        ,\n",
       "       0.        , 0.        , 0.        , 0.        , 0.        ,\n",
       "       0.        , 0.        , 0.        , 0.        , 0.        ,\n",
       "       0.        , 0.        , 0.        , 0.        , 0.        ,\n",
       "       0.        , 0.        , 0.        , 0.        , 0.        ,\n",
       "       0.        , 0.        , 0.        , 0.        ], dtype=float32)"
      ]
     },
     "execution_count": 165,
     "metadata": {},
     "output_type": "execute_result"
    }
   ],
   "source": [
    "model.feature_importances_"
   ]
  },
  {
   "cell_type": "code",
   "execution_count": 167,
   "id": "6d578b60",
   "metadata": {},
   "outputs": [
    {
     "data": {
      "text/plain": [
       "<Axes: title={'center': 'Feature importance'}, xlabel='F score', ylabel='Features'>"
      ]
     },
     "execution_count": 167,
     "metadata": {},
     "output_type": "execute_result"
    },
    {
     "data": {
      "image/png": "[encoded data removed]",
      "text/plain": [
       "<Figure size 640x480 with 1 Axes>"
      ]
     },
     "metadata": {},
     "output_type": "display_data"
    }
   ],
   "source": [
    "plot_importance(model, max_num_features=20)"
   ]
  },
  {
   "cell_type": "code",
   "execution_count": 169,
   "id": "8ceecda6",
   "metadata": {},
   "outputs": [
    {
     "data": {
      "text/plain": [
       "0.5522388059701493"
      ]
     },
     "execution_count": 169,
     "metadata": {},
     "output_type": "execute_result"
    }
   ],
   "source": [
    "score = model.score(X_train, y_train)  \n",
    "score"
   ]
  },
  {
   "cell_type": "code",
   "execution_count": 171,
   "id": "3c8a1c17",
   "metadata": {},
   "outputs": [
    {
     "data": {
      "text/plain": [
       "17"
      ]
     },
     "execution_count": 171,
     "metadata": {},
     "output_type": "execute_result"
    }
   ],
   "source": [
    "y_pred = model.predict(X_test)\n",
    "predictions = [round(value, 2) for value in y_pred]\n",
    "len(predictions)"
   ]
  },
  {
   "cell_type": "code",
   "execution_count": 173,
   "id": "f1cd4ff6",
   "metadata": {},
   "outputs": [
    {
     "data": {
      "image/png": "[encoded data removed]",
      "text/plain": [
       "<Figure size 640x480 with 2 Axes>"
      ]
     },
     "metadata": {},
     "output_type": "display_data"
    }
   ],
   "source": [
    "sns.heatmap(confusion_matrix(y_test, predictions), \n",
    "            annot=True,\n",
    "            fmt='g')\n",
    "plt.ylabel('Acontecido',fontsize=13)\n",
    "plt.xlabel('Previsão',fontsize=13)\n",
    "plt.show()"
   ]
  },
  {
   "cell_type": "code",
   "execution_count": 175,
   "id": "be93a879",
   "metadata": {},
   "outputs": [
    {
     "name": "stdout",
     "output_type": "stream",
     "text": [
      "              precision    recall  f1-score   support\n",
      "\n",
      "       False       0.00      0.00      0.00         8\n",
      "        True       0.53      1.00      0.69         9\n",
      "\n",
      "    accuracy                           0.53        17\n",
      "   macro avg       0.26      0.50      0.35        17\n",
      "weighted avg       0.28      0.53      0.37        17\n",
      "\n"
     ]
    }
   ],
   "source": [
    "print(classification_report(y_test, predictions))"
   ]
  },
  {
   "cell_type": "markdown",
   "id": "1e5083d5",
   "metadata": {},
   "source": [
    "##### Previsões"
   ]
  },
  {
   "cell_type": "code",
   "execution_count": 178,
   "id": "67d52a32",
   "metadata": {},
   "outputs": [
    {
     "data": {
      "text/plain": [
       "array([1])"
      ]
     },
     "execution_count": 178,
     "metadata": {},
     "output_type": "execute_result"
    }
   ],
   "source": [
    "model.predict(dataset_previsao_modelo)"
   ]
  },
  {
   "cell_type": "markdown",
   "id": "2178b4f3",
   "metadata": {},
   "source": [
    "##### Modelo 3"
   ]
  },
  {
   "cell_type": "code",
   "execution_count": 181,
   "id": "d70df1cb",
   "metadata": {},
   "outputs": [],
   "source": [
    "X = dados_modelo_resultado_partida.drop(columns=['resultado_partida']).copy()\n",
    "y = dados_modelo_resultado_partida[['resultado_partida']]"
   ]
  },
  {
   "cell_type": "code",
   "execution_count": 183,
   "id": "1f93c4ae",
   "metadata": {},
   "outputs": [],
   "source": [
    "y.loc[y[y['resultado_partida'] == -1].index, 'resultado_partida'] = 2"
   ]
  },
  {
   "cell_type": "code",
   "execution_count": 185,
   "id": "028a931c",
   "metadata": {},
   "outputs": [],
   "source": [
    "y['resultado_partida'] = y['resultado_partida'].astype(int)"
   ]
  },
  {
   "cell_type": "code",
   "execution_count": 187,
   "id": "b9c3ab31",
   "metadata": {},
   "outputs": [],
   "source": [
    "X_train, X_test, y_train, y_test = train_test_split(X, y, test_size=0.2, random_state=42)\n",
    "eval_set = [(X_test, y_test)]"
   ]
  },
  {
   "cell_type": "code",
   "execution_count": 189,
   "id": "08db6641",
   "metadata": {},
   "outputs": [
    {
     "name": "stdout",
     "output_type": "stream",
     "text": [
      "Testando Variáveis: max_depth, min_child_weight\n",
      "Melhores valores:  {'max_depth': 3, 'min_child_weight': 1}\n",
      "-----------------------------\n",
      "Testando Variáveis:gamma\n",
      "Melhores valores:  {'gamma': 0.0}\n",
      "-----------------------------\n",
      "Testando Variáveis: subsample, colsample_bytree\n",
      "Melhores valores:  {'colsample_bytree': 0.6, 'subsample': 0.6}\n",
      "-----------------------------\n",
      "Testando Variáveis: reg_alpha\n",
      "Melhores valores:  {'reg_alpha': 1e-05}\n",
      "-----------------------------\n"
     ]
    }
   ],
   "source": [
    "tunning_hiperpametros(XGBClassifier, X_train, y_train)"
   ]
  },
  {
   "cell_type": "code",
   "execution_count": 191,
   "id": "2802c68e",
   "metadata": {
    "scrolled": true
   },
   "outputs": [
    {
     "name": "stdout",
     "output_type": "stream",
     "text": [
      "[0]\tvalidation_0-auc:0.77042\n",
      "[1]\tvalidation_0-auc:0.76021\n",
      "[2]\tvalidation_0-auc:0.83007\n",
      "[3]\tvalidation_0-auc:0.84600\n",
      "[4]\tvalidation_0-auc:0.84232\n",
      "[5]\tvalidation_0-auc:0.91054\n",
      "[6]\tvalidation_0-auc:0.90319\n",
      "[7]\tvalidation_0-auc:0.91993\n",
      "[8]\tvalidation_0-auc:0.94322\n",
      "[9]\tvalidation_0-auc:0.93668\n",
      "[10]\tvalidation_0-auc:0.93668\n",
      "[11]\tvalidation_0-auc:0.93301\n",
      "[12]\tvalidation_0-auc:0.93954\n",
      "[13]\tvalidation_0-auc:0.93954\n",
      "[14]\tvalidation_0-auc:0.93301\n",
      "[15]\tvalidation_0-auc:0.93301\n",
      "[16]\tvalidation_0-auc:0.93301\n",
      "[17]\tvalidation_0-auc:0.92933\n"
     ]
    },
    {
     "data": {
      "text/html": [
       "<style>#sk-container-id-4 {\n",
       "  /* Definition of color scheme common for light and dark mode */\n",
       "  --sklearn-color-text: black;\n",
       "  --sklearn-color-line: gray;\n",
       "  /* Definition of color scheme for unfitted estimators */\n",
       "  --sklearn-color-unfitted-level-0: #fff5e6;\n",
       "  --sklearn-color-unfitted-level-1: #f6e4d2;\n",
       "  --sklearn-color-unfitted-level-2: #ffe0b3;\n",
       "  --sklearn-color-unfitted-level-3: chocolate;\n",
       "  /* Definition of color scheme for fitted estimators */\n",
       "  --sklearn-color-fitted-level-0: #f0f8ff;\n",
       "  --sklearn-color-fitted-level-1: #d4ebff;\n",
       "  --sklearn-color-fitted-level-2: #b3dbfd;\n",
       "  --sklearn-color-fitted-level-3: cornflowerblue;\n",
       "\n",
       "  /* Specific color for light theme */\n",
       "  --sklearn-color-text-on-default-background: var(--sg-text-color, var(--theme-code-foreground, var(--jp-content-font-color1, black)));\n",
       "  --sklearn-color-background: var(--sg-background-color, var(--theme-background, var(--jp-layout-color0, white)));\n",
       "  --sklearn-color-border-box: var(--sg-text-color, var(--theme-code-foreground, var(--jp-content-font-color1, black)));\n",
       "  --sklearn-color-icon: #696969;\n",
       "\n",
       "  @media (prefers-color-scheme: dark) {\n",
       "    /* Redefinition of color scheme for dark theme */\n",
       "    --sklearn-color-text-on-default-background: var(--sg-text-color, var(--theme-code-foreground, var(--jp-content-font-color1, white)));\n",
       "    --sklearn-color-background: var(--sg-background-color, var(--theme-background, var(--jp-layout-color0, #111)));\n",
       "    --sklearn-color-border-box: var(--sg-text-color, var(--theme-code-foreground, var(--jp-content-font-color1, white)));\n",
       "    --sklearn-color-icon: #878787;\n",
       "  }\n",
       "}\n",
       "\n",
       "#sk-container-id-4 {\n",
       "  color: var(--sklearn-color-text);\n",
       "}\n",
       "\n",
       "#sk-container-id-4 pre {\n",
       "  padding: 0;\n",
       "}\n",
       "\n",
       "#sk-container-id-4 input.sk-hidden--visually {\n",
       "  border: 0;\n",
       "  clip: rect(1px 1px 1px 1px);\n",
       "  clip: rect(1px, 1px, 1px, 1px);\n",
       "  height: 1px;\n",
       "  margin: -1px;\n",
       "  overflow: hidden;\n",
       "  padding: 0;\n",
       "  position: absolute;\n",
       "  width: 1px;\n",
       "}\n",
       "\n",
       "#sk-container-id-4 div.sk-dashed-wrapped {\n",
       "  border: 1px dashed var(--sklearn-color-line);\n",
       "  margin: 0 0.4em 0.5em 0.4em;\n",
       "  box-sizing: border-box;\n",
       "  padding-bottom: 0.4em;\n",
       "  background-color: var(--sklearn-color-background);\n",
       "}\n",
       "\n",
       "#sk-container-id-4 div.sk-container {\n",
       "  /* jupyter's `normalize.less` sets `[hidden] { display: none; }`\n",
       "     but bootstrap.min.css set `[hidden] { display: none !important; }`\n",
       "     so we also need the `!important` here to be able to override the\n",
       "     default hidden behavior on the sphinx rendered scikit-learn.org.\n",
       "     See: https://github.com/scikit-learn/scikit-learn/issues/21755 */\n",
       "  display: inline-block !important;\n",
       "  position: relative;\n",
       "}\n",
       "\n",
       "#sk-container-id-4 div.sk-text-repr-fallback {\n",
       "  display: none;\n",
       "}\n",
       "\n",
       "div.sk-parallel-item,\n",
       "div.sk-serial,\n",
       "div.sk-item {\n",
       "  /* draw centered vertical line to link estimators */\n",
       "  background-image: linear-gradient(var(--sklearn-color-text-on-default-background), var(--sklearn-color-text-on-default-background));\n",
       "  background-size: 2px 100%;\n",
       "  background-repeat: no-repeat;\n",
       "  background-position: center center;\n",
       "}\n",
       "\n",
       "/* Parallel-specific style estimator block */\n",
       "\n",
       "#sk-container-id-4 div.sk-parallel-item::after {\n",
       "  content: \"\";\n",
       "  width: 100%;\n",
       "  border-bottom: 2px solid var(--sklearn-color-text-on-default-background);\n",
       "  flex-grow: 1;\n",
       "}\n",
       "\n",
       "#sk-container-id-4 div.sk-parallel {\n",
       "  display: flex;\n",
       "  align-items: stretch;\n",
       "  justify-content: center;\n",
       "  background-color: var(--sklearn-color-background);\n",
       "  position: relative;\n",
       "}\n",
       "\n",
       "#sk-container-id-4 div.sk-parallel-item {\n",
       "  display: flex;\n",
       "  flex-direction: column;\n",
       "}\n",
       "\n",
       "#sk-container-id-4 div.sk-parallel-item:first-child::after {\n",
       "  align-self: flex-end;\n",
       "  width: 50%;\n",
       "}\n",
       "\n",
       "#sk-container-id-4 div.sk-parallel-item:last-child::after {\n",
       "  align-self: flex-start;\n",
       "  width: 50%;\n",
       "}\n",
       "\n",
       "#sk-container-id-4 div.sk-parallel-item:only-child::after {\n",
       "  width: 0;\n",
       "}\n",
       "\n",
       "/* Serial-specific style estimator block */\n",
       "\n",
       "#sk-container-id-4 div.sk-serial {\n",
       "  display: flex;\n",
       "  flex-direction: column;\n",
       "  align-items: center;\n",
       "  background-color: var(--sklearn-color-background);\n",
       "  padding-right: 1em;\n",
       "  padding-left: 1em;\n",
       "}\n",
       "\n",
       "\n",
       "/* Toggleable style: style used for estimator/Pipeline/ColumnTransformer box that is\n",
       "clickable and can be expanded/collapsed.\n",
       "- Pipeline and ColumnTransformer use this feature and define the default style\n",
       "- Estimators will overwrite some part of the style using the `sk-estimator` class\n",
       "*/\n",
       "\n",
       "/* Pipeline and ColumnTransformer style (default) */\n",
       "\n",
       "#sk-container-id-4 div.sk-toggleable {\n",
       "  /* Default theme specific background. It is overwritten whether we have a\n",
       "  specific estimator or a Pipeline/ColumnTransformer */\n",
       "  background-color: var(--sklearn-color-background);\n",
       "}\n",
       "\n",
       "/* Toggleable label */\n",
       "#sk-container-id-4 label.sk-toggleable__label {\n",
       "  cursor: pointer;\n",
       "  display: block;\n",
       "  width: 100%;\n",
       "  margin-bottom: 0;\n",
       "  padding: 0.5em;\n",
       "  box-sizing: border-box;\n",
       "  text-align: center;\n",
       "}\n",
       "\n",
       "#sk-container-id-4 label.sk-toggleable__label-arrow:before {\n",
       "  /* Arrow on the left of the label */\n",
       "  content: \"▸\";\n",
       "  float: left;\n",
       "  margin-right: 0.25em;\n",
       "  color: var(--sklearn-color-icon);\n",
       "}\n",
       "\n",
       "#sk-container-id-4 label.sk-toggleable__label-arrow:hover:before {\n",
       "  color: var(--sklearn-color-text);\n",
       "}\n",
       "\n",
       "/* Toggleable content - dropdown */\n",
       "\n",
       "#sk-container-id-4 div.sk-toggleable__content {\n",
       "  max-height: 0;\n",
       "  max-width: 0;\n",
       "  overflow: hidden;\n",
       "  text-align: left;\n",
       "  /* unfitted */\n",
       "  background-color: var(--sklearn-color-unfitted-level-0);\n",
       "}\n",
       "\n",
       "#sk-container-id-4 div.sk-toggleable__content.fitted {\n",
       "  /* fitted */\n",
       "  background-color: var(--sklearn-color-fitted-level-0);\n",
       "}\n",
       "\n",
       "#sk-container-id-4 div.sk-toggleable__content pre {\n",
       "  margin: 0.2em;\n",
       "  border-radius: 0.25em;\n",
       "  color: var(--sklearn-color-text);\n",
       "  /* unfitted */\n",
       "  background-color: var(--sklearn-color-unfitted-level-0);\n",
       "}\n",
       "\n",
       "#sk-container-id-4 div.sk-toggleable__content.fitted pre {\n",
       "  /* unfitted */\n",
       "  background-color: var(--sklearn-color-fitted-level-0);\n",
       "}\n",
       "\n",
       "#sk-container-id-4 input.sk-toggleable__control:checked~div.sk-toggleable__content {\n",
       "  /* Expand drop-down */\n",
       "  max-height: 200px;\n",
       "  max-width: 100%;\n",
       "  overflow: auto;\n",
       "}\n",
       "\n",
       "#sk-container-id-4 input.sk-toggleable__control:checked~label.sk-toggleable__label-arrow:before {\n",
       "  content: \"▾\";\n",
       "}\n",
       "\n",
       "/* Pipeline/ColumnTransformer-specific style */\n",
       "\n",
       "#sk-container-id-4 div.sk-label input.sk-toggleable__control:checked~label.sk-toggleable__label {\n",
       "  color: var(--sklearn-color-text);\n",
       "  background-color: var(--sklearn-color-unfitted-level-2);\n",
       "}\n",
       "\n",
       "#sk-container-id-4 div.sk-label.fitted input.sk-toggleable__control:checked~label.sk-toggleable__label {\n",
       "  background-color: var(--sklearn-color-fitted-level-2);\n",
       "}\n",
       "\n",
       "/* Estimator-specific style */\n",
       "\n",
       "/* Colorize estimator box */\n",
       "#sk-container-id-4 div.sk-estimator input.sk-toggleable__control:checked~label.sk-toggleable__label {\n",
       "  /* unfitted */\n",
       "  background-color: var(--sklearn-color-unfitted-level-2);\n",
       "}\n",
       "\n",
       "#sk-container-id-4 div.sk-estimator.fitted input.sk-toggleable__control:checked~label.sk-toggleable__label {\n",
       "  /* fitted */\n",
       "  background-color: var(--sklearn-color-fitted-level-2);\n",
       "}\n",
       "\n",
       "#sk-container-id-4 div.sk-label label.sk-toggleable__label,\n",
       "#sk-container-id-4 div.sk-label label {\n",
       "  /* The background is the default theme color */\n",
       "  color: var(--sklearn-color-text-on-default-background);\n",
       "}\n",
       "\n",
       "/* On hover, darken the color of the background */\n",
       "#sk-container-id-4 div.sk-label:hover label.sk-toggleable__label {\n",
       "  color: var(--sklearn-color-text);\n",
       "  background-color: var(--sklearn-color-unfitted-level-2);\n",
       "}\n",
       "\n",
       "/* Label box, darken color on hover, fitted */\n",
       "#sk-container-id-4 div.sk-label.fitted:hover label.sk-toggleable__label.fitted {\n",
       "  color: var(--sklearn-color-text);\n",
       "  background-color: var(--sklearn-color-fitted-level-2);\n",
       "}\n",
       "\n",
       "/* Estimator label */\n",
       "\n",
       "#sk-container-id-4 div.sk-label label {\n",
       "  font-family: monospace;\n",
       "  font-weight: bold;\n",
       "  display: inline-block;\n",
       "  line-height: 1.2em;\n",
       "}\n",
       "\n",
       "#sk-container-id-4 div.sk-label-container {\n",
       "  text-align: center;\n",
       "}\n",
       "\n",
       "/* Estimator-specific */\n",
       "#sk-container-id-4 div.sk-estimator {\n",
       "  font-family: monospace;\n",
       "  border: 1px dotted var(--sklearn-color-border-box);\n",
       "  border-radius: 0.25em;\n",
       "  box-sizing: border-box;\n",
       "  margin-bottom: 0.5em;\n",
       "  /* unfitted */\n",
       "  background-color: var(--sklearn-color-unfitted-level-0);\n",
       "}\n",
       "\n",
       "#sk-container-id-4 div.sk-estimator.fitted {\n",
       "  /* fitted */\n",
       "  background-color: var(--sklearn-color-fitted-level-0);\n",
       "}\n",
       "\n",
       "/* on hover */\n",
       "#sk-container-id-4 div.sk-estimator:hover {\n",
       "  /* unfitted */\n",
       "  background-color: var(--sklearn-color-unfitted-level-2);\n",
       "}\n",
       "\n",
       "#sk-container-id-4 div.sk-estimator.fitted:hover {\n",
       "  /* fitted */\n",
       "  background-color: var(--sklearn-color-fitted-level-2);\n",
       "}\n",
       "\n",
       "/* Specification for estimator info (e.g. \"i\" and \"?\") */\n",
       "\n",
       "/* Common style for \"i\" and \"?\" */\n",
       "\n",
       ".sk-estimator-doc-link,\n",
       "a:link.sk-estimator-doc-link,\n",
       "a:visited.sk-estimator-doc-link {\n",
       "  float: right;\n",
       "  font-size: smaller;\n",
       "  line-height: 1em;\n",
       "  font-family: monospace;\n",
       "  background-color: var(--sklearn-color-background);\n",
       "  border-radius: 1em;\n",
       "  height: 1em;\n",
       "  width: 1em;\n",
       "  text-decoration: none !important;\n",
       "  margin-left: 1ex;\n",
       "  /* unfitted */\n",
       "  border: var(--sklearn-color-unfitted-level-1) 1pt solid;\n",
       "  color: var(--sklearn-color-unfitted-level-1);\n",
       "}\n",
       "\n",
       ".sk-estimator-doc-link.fitted,\n",
       "a:link.sk-estimator-doc-link.fitted,\n",
       "a:visited.sk-estimator-doc-link.fitted {\n",
       "  /* fitted */\n",
       "  border: var(--sklearn-color-fitted-level-1) 1pt solid;\n",
       "  color: var(--sklearn-color-fitted-level-1);\n",
       "}\n",
       "\n",
       "/* On hover */\n",
       "div.sk-estimator:hover .sk-estimator-doc-link:hover,\n",
       ".sk-estimator-doc-link:hover,\n",
       "div.sk-label-container:hover .sk-estimator-doc-link:hover,\n",
       ".sk-estimator-doc-link:hover {\n",
       "  /* unfitted */\n",
       "  background-color: var(--sklearn-color-unfitted-level-3);\n",
       "  color: var(--sklearn-color-background);\n",
       "  text-decoration: none;\n",
       "}\n",
       "\n",
       "div.sk-estimator.fitted:hover .sk-estimator-doc-link.fitted:hover,\n",
       ".sk-estimator-doc-link.fitted:hover,\n",
       "div.sk-label-container:hover .sk-estimator-doc-link.fitted:hover,\n",
       ".sk-estimator-doc-link.fitted:hover {\n",
       "  /* fitted */\n",
       "  background-color: var(--sklearn-color-fitted-level-3);\n",
       "  color: var(--sklearn-color-background);\n",
       "  text-decoration: none;\n",
       "}\n",
       "\n",
       "/* Span, style for the box shown on hovering the info icon */\n",
       ".sk-estimator-doc-link span {\n",
       "  display: none;\n",
       "  z-index: 9999;\n",
       "  position: relative;\n",
       "  font-weight: normal;\n",
       "  right: .2ex;\n",
       "  padding: .5ex;\n",
       "  margin: .5ex;\n",
       "  width: min-content;\n",
       "  min-width: 20ex;\n",
       "  max-width: 50ex;\n",
       "  color: var(--sklearn-color-text);\n",
       "  box-shadow: 2pt 2pt 4pt #999;\n",
       "  /* unfitted */\n",
       "  background: var(--sklearn-color-unfitted-level-0);\n",
       "  border: .5pt solid var(--sklearn-color-unfitted-level-3);\n",
       "}\n",
       "\n",
       ".sk-estimator-doc-link.fitted span {\n",
       "  /* fitted */\n",
       "  background: var(--sklearn-color-fitted-level-0);\n",
       "  border: var(--sklearn-color-fitted-level-3);\n",
       "}\n",
       "\n",
       ".sk-estimator-doc-link:hover span {\n",
       "  display: block;\n",
       "}\n",
       "\n",
       "/* \"?\"-specific style due to the `<a>` HTML tag */\n",
       "\n",
       "#sk-container-id-4 a.estimator_doc_link {\n",
       "  float: right;\n",
       "  font-size: 1rem;\n",
       "  line-height: 1em;\n",
       "  font-family: monospace;\n",
       "  background-color: var(--sklearn-color-background);\n",
       "  border-radius: 1rem;\n",
       "  height: 1rem;\n",
       "  width: 1rem;\n",
       "  text-decoration: none;\n",
       "  /* unfitted */\n",
       "  color: var(--sklearn-color-unfitted-level-1);\n",
       "  border: var(--sklearn-color-unfitted-level-1) 1pt solid;\n",
       "}\n",
       "\n",
       "#sk-container-id-4 a.estimator_doc_link.fitted {\n",
       "  /* fitted */\n",
       "  border: var(--sklearn-color-fitted-level-1) 1pt solid;\n",
       "  color: var(--sklearn-color-fitted-level-1);\n",
       "}\n",
       "\n",
       "/* On hover */\n",
       "#sk-container-id-4 a.estimator_doc_link:hover {\n",
       "  /* unfitted */\n",
       "  background-color: var(--sklearn-color-unfitted-level-3);\n",
       "  color: var(--sklearn-color-background);\n",
       "  text-decoration: none;\n",
       "}\n",
       "\n",
       "#sk-container-id-4 a.estimator_doc_link.fitted:hover {\n",
       "  /* fitted */\n",
       "  background-color: var(--sklearn-color-fitted-level-3);\n",
       "}\n",
       "</style><div id=\"sk-container-id-4\" class=\"sk-top-container\"><div class=\"sk-text-repr-fallback\"><pre>XGBClassifier(base_score=None, booster=None, callbacks=None,\n",
       "              colsample_bylevel=None, colsample_bynode=None,\n",
       "              colsample_bytree=0.6, device=None, early_stopping_rounds=10,\n",
       "              enable_categorical=False, eval_metric=&#x27;auc&#x27;, feature_types=None,\n",
       "              gamma=0.0, grow_policy=None, importance_type=None,\n",
       "              interaction_constraints=None, learning_rate=0.01, max_bin=None,\n",
       "              max_cat_threshold=None, max_cat_to_onehot=None,\n",
       "              max_delta_step=None, max_depth=3, max_leaves=None,\n",
       "              min_child_weight=1, missing=nan, monotone_constraints=None,\n",
       "              multi_strategy=None, n_estimators=10000, n_jobs=-1,\n",
       "              num_parallel_tree=None, objective=&#x27;multi:softprob&#x27;, ...)</pre><b>In a Jupyter environment, please rerun this cell to show the HTML representation or trust the notebook. <br />On GitHub, the HTML representation is unable to render, please try loading this page with nbviewer.org.</b></div><div class=\"sk-container\" hidden><div class=\"sk-item\"><div class=\"sk-estimator fitted sk-toggleable\"><input class=\"sk-toggleable__control sk-hidden--visually\" id=\"sk-estimator-id-4\" type=\"checkbox\" checked><label for=\"sk-estimator-id-4\" class=\"sk-toggleable__label fitted sk-toggleable__label-arrow fitted\">&nbsp;XGBClassifier<span class=\"sk-estimator-doc-link fitted\">i<span>Fitted</span></span></label><div class=\"sk-toggleable__content fitted\"><pre>XGBClassifier(base_score=None, booster=None, callbacks=None,\n",
       "              colsample_bylevel=None, colsample_bynode=None,\n",
       "              colsample_bytree=0.6, device=None, early_stopping_rounds=10,\n",
       "              enable_categorical=False, eval_metric=&#x27;auc&#x27;, feature_types=None,\n",
       "              gamma=0.0, grow_policy=None, importance_type=None,\n",
       "              interaction_constraints=None, learning_rate=0.01, max_bin=None,\n",
       "              max_cat_threshold=None, max_cat_to_onehot=None,\n",
       "              max_delta_step=None, max_depth=3, max_leaves=None,\n",
       "              min_child_weight=1, missing=nan, monotone_constraints=None,\n",
       "              multi_strategy=None, n_estimators=10000, n_jobs=-1,\n",
       "              num_parallel_tree=None, objective=&#x27;multi:softprob&#x27;, ...)</pre></div> </div></div></div></div>"
      ],
      "text/plain": [
       "XGBClassifier(base_score=None, booster=None, callbacks=None,\n",
       "              colsample_bylevel=None, colsample_bynode=None,\n",
       "              colsample_bytree=0.6, device=None, early_stopping_rounds=10,\n",
       "              enable_categorical=False, eval_metric='auc', feature_types=None,\n",
       "              gamma=0.0, grow_policy=None, importance_type=None,\n",
       "              interaction_constraints=None, learning_rate=0.01, max_bin=None,\n",
       "              max_cat_threshold=None, max_cat_to_onehot=None,\n",
       "              max_delta_step=None, max_depth=3, max_leaves=None,\n",
       "              min_child_weight=1, missing=nan, monotone_constraints=None,\n",
       "              multi_strategy=None, n_estimators=10000, n_jobs=-1,\n",
       "              num_parallel_tree=None, objective='multi:softprob', ...)"
      ]
     },
     "execution_count": 191,
     "metadata": {},
     "output_type": "execute_result"
    }
   ],
   "source": [
    "model = XGBClassifier(verbosity=0, learning_rate=0.01, max_depth=3, n_estimators=10000, n_jobs=-1, random_state=1,\n",
    "                    min_child_weight=1, gamma = 0., subsample = 0.6, colsample_bytree = 0.6, scale_pos_weight = 1,\n",
    "                    reg_alpha= 1e-05, early_stopping_rounds=10, eval_metric='auc')\n",
    "\n",
    "model.fit(X_train, y_train, eval_set=eval_set, verbose = 1)"
   ]
  },
  {
   "cell_type": "code",
   "execution_count": 193,
   "id": "73c58522",
   "metadata": {},
   "outputs": [
    {
     "data": {
      "text/plain": [
       "array([0.0505297 , 0.02743568, 0.03516024, 0.03869572, 0.02668569,\n",
       "       0.05654775, 0.        , 0.02475419, 0.04139761, 0.02283338,\n",
       "       0.04883489, 0.03247573, 0.04024858, 0.03958751, 0.05897402,\n",
       "       0.02984545, 0.03004729, 0.03364521, 0.03954891, 0.03455172,\n",
       "       0.        , 0.        , 0.03980064, 0.        , 0.04109431,\n",
       "       0.        , 0.        , 0.        , 0.        , 0.        ,\n",
       "       0.        , 0.        , 0.        , 0.        , 0.        ,\n",
       "       0.        , 0.        , 0.        , 0.        , 0.        ,\n",
       "       0.        , 0.        , 0.        , 0.        , 0.        ,\n",
       "       0.        , 0.        , 0.        , 0.        , 0.0300012 ,\n",
       "       0.        , 0.        , 0.        , 0.00719489, 0.00289815,\n",
       "       0.02147336, 0.        , 0.00916761, 0.04080865, 0.        ,\n",
       "       0.0369656 , 0.        , 0.04581789, 0.        , 0.        ,\n",
       "       0.        , 0.        , 0.        , 0.        , 0.        ,\n",
       "       0.        , 0.        , 0.        , 0.        , 0.        ,\n",
       "       0.        , 0.        , 0.        , 0.        , 0.        ,\n",
       "       0.        , 0.        , 0.        , 0.        , 0.        ,\n",
       "       0.        , 0.        , 0.        , 0.        , 0.        ,\n",
       "       0.        , 0.        , 0.        , 0.        , 0.        ,\n",
       "       0.        , 0.        , 0.        , 0.        , 0.        ,\n",
       "       0.        , 0.        , 0.        , 0.        , 0.        ,\n",
       "       0.01297839, 0.        , 0.        , 0.        , 0.        ,\n",
       "       0.        , 0.        , 0.        , 0.        ], dtype=float32)"
      ]
     },
     "execution_count": 193,
     "metadata": {},
     "output_type": "execute_result"
    }
   ],
   "source": [
    "model.feature_importances_"
   ]
  },
  {
   "cell_type": "code",
   "execution_count": 195,
   "id": "1f3e4a1a",
   "metadata": {},
   "outputs": [
    {
     "data": {
      "text/plain": [
       "<Axes: title={'center': 'Feature importance'}, xlabel='F score', ylabel='Features'>"
      ]
     },
     "execution_count": 195,
     "metadata": {},
     "output_type": "execute_result"
    },
    {
     "data": {
      "image/png": "[encoded data removed]",
      "text/plain": [
       "<Figure size 640x480 with 1 Axes>"
      ]
     },
     "metadata": {},
     "output_type": "display_data"
    }
   ],
   "source": [
    "plot_importance(model, max_num_features=20)"
   ]
  },
  {
   "cell_type": "code",
   "execution_count": 197,
   "id": "990f25b0",
   "metadata": {},
   "outputs": [
    {
     "data": {
      "text/plain": [
       "0.835820895522388"
      ]
     },
     "execution_count": 197,
     "metadata": {},
     "output_type": "execute_result"
    }
   ],
   "source": [
    "score = model.score(X_train, y_train)  \n",
    "score"
   ]
  },
  {
   "cell_type": "code",
   "execution_count": 199,
   "id": "52edb703",
   "metadata": {},
   "outputs": [
    {
     "data": {
      "text/plain": [
       "17"
      ]
     },
     "execution_count": 199,
     "metadata": {},
     "output_type": "execute_result"
    }
   ],
   "source": [
    "y_pred = model.predict(X_test)\n",
    "predictions = [round(value, 2) for value in y_pred]\n",
    "len(predictions)"
   ]
  },
  {
   "cell_type": "code",
   "execution_count": 201,
   "id": "dccdf407",
   "metadata": {},
   "outputs": [
    {
     "data": {
      "image/png": "[encoded data removed]",
      "text/plain": [
       "<Figure size 640x480 with 2 Axes>"
      ]
     },
     "metadata": {},
     "output_type": "display_data"
    }
   ],
   "source": [
    "sns.heatmap(confusion_matrix(y_test, predictions), \n",
    "            annot=True,\n",
    "            fmt='g')\n",
    "plt.ylabel('Acontecido',fontsize=13)\n",
    "plt.xlabel('Previsão',fontsize=13)\n",
    "plt.show()"
   ]
  },
  {
   "cell_type": "code",
   "execution_count": 203,
   "id": "18842aa8",
   "metadata": {},
   "outputs": [
    {
     "name": "stdout",
     "output_type": "stream",
     "text": [
      "              precision    recall  f1-score   support\n",
      "\n",
      "           0       0.00      0.00      0.00         1\n",
      "           1       0.57      1.00      0.73         8\n",
      "           2       0.50      0.12      0.20         8\n",
      "\n",
      "    accuracy                           0.53        17\n",
      "   macro avg       0.36      0.38      0.31        17\n",
      "weighted avg       0.50      0.53      0.44        17\n",
      "\n"
     ]
    }
   ],
   "source": [
    "print(classification_report(y_test, predictions))"
   ]
  },
  {
   "cell_type": "markdown",
   "id": "00978204",
   "metadata": {},
   "source": [
    "##### Previsões"
   ]
  },
  {
   "cell_type": "code",
   "execution_count": 205,
   "id": "3bf42e47",
   "metadata": {},
   "outputs": [
    {
     "data": {
      "text/plain": [
       "array([1], dtype=int64)"
      ]
     },
     "execution_count": 205,
     "metadata": {},
     "output_type": "execute_result"
    }
   ],
   "source": [
    "model.predict(dataset_previsao_modelo)"
   ]
  }
 ],
 "metadata": {
  "kernelspec": {
   "display_name": "Python 3 (ipykernel)",
   "language": "python",
   "name": "python3"
  },
  "language_info": {
   "codemirror_mode": {
    "name": "ipython",
    "version": 3
   },
   "file_extension": ".py",
   "mimetype": "text/x-python",
   "name": "python",
   "nbconvert_exporter": "python",
   "pygments_lexer": "ipython3",
   "version": "3.12.4"
  }
 },
 "nbformat": 4,
 "nbformat_minor": 5
}
