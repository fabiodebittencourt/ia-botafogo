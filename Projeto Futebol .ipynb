{
 "cells": [
  {
   "cell_type": "markdown",
   "id": "184c39e7",
   "metadata": {},
   "source": [
    "### Bibliotecas"
   ]
  },
  {
   "cell_type": "code",
   "execution_count": 1,
   "id": "95fb1707",
   "metadata": {},
   "outputs": [],
   "source": [
    "import pandas as pd\n",
    "from datetime import datetime, date\n",
    "from matplotlib import pyplot as plt\n",
    "from scipy import stats\n",
    "from patsy import dmatrices\n",
    "from xgboost import XGBRegressor, XGBClassifier, plot_importance\n",
    "from sklearn.model_selection import train_test_split, GridSearchCV\n",
    "from sklearn.metrics import mean_squared_error, mean_absolute_error, confusion_matrix, classification_report\n",
    "from math import sqrt\n",
    "import seaborn as sns\n",
    "import warnings\n",
    "warnings.filterwarnings(\"ignore\")"
   ]
  },
  {
   "cell_type": "markdown",
   "id": "1422de3a",
   "metadata": {},
   "source": [
    "### Importação dos Dados e Criação de Variáveis"
   ]
  },
  {
   "cell_type": "code",
   "execution_count": 2,
   "id": "e1d96fc8",
   "metadata": {},
   "outputs": [],
   "source": [
    "dataset_dados = pd.read_excel('botafogo_previsao_estadio.xlsx')"
   ]
  },
  {
   "cell_type": "code",
   "execution_count": 3,
   "id": "ac4572b5",
   "metadata": {},
   "outputs": [],
   "source": [
    "dataset_dados = dataset_dados.sort_values(by='data').reset_index(drop=True)"
   ]
  },
  {
   "cell_type": "markdown",
   "id": "385bef93",
   "metadata": {},
   "source": [
    "##### Datas"
   ]
  },
  {
   "cell_type": "code",
   "execution_count": 4,
   "id": "7424eef5",
   "metadata": {},
   "outputs": [],
   "source": [
    "dataset_dados['data'] = pd.to_datetime(dataset_dados['data'])"
   ]
  },
  {
   "cell_type": "code",
   "execution_count": 5,
   "id": "31787eae",
   "metadata": {},
   "outputs": [],
   "source": [
    "for i in range(len(dataset_dados)):\n",
    "    dataset_dados.loc[i, 'dia_semana'] = dataset_dados['data'][i].weekday()\n",
    "    dataset_dados.loc[i, 'hora'] = int(str(dataset_dados['horario'][0])[:2])\n",
    "    dataset_dados.loc[i, 'minuto'] = int(str(dataset_dados['horario'][0])[3:5])"
   ]
  },
  {
   "cell_type": "code",
   "execution_count": 6,
   "id": "331482a4",
   "metadata": {},
   "outputs": [],
   "source": [
    "dataset_dados['mes'] = dataset_dados['data'].dt.month"
   ]
  },
  {
   "cell_type": "code",
   "execution_count": 7,
   "id": "5d228461",
   "metadata": {},
   "outputs": [],
   "source": [
    "dataset_dados['dia_mes'] = dataset_dados['data'].dt.day"
   ]
  },
  {
   "cell_type": "markdown",
   "id": "b1b7651c",
   "metadata": {},
   "source": [
    "##### Resultados de Jogos"
   ]
  },
  {
   "cell_type": "code",
   "execution_count": 8,
   "id": "7b83df4b",
   "metadata": {},
   "outputs": [],
   "source": [
    "dataset_dados['resultado_temporario'] = dataset_dados['gols_mandante'] - dataset_dados['gols_visitantes']"
   ]
  },
  {
   "cell_type": "code",
   "execution_count": 9,
   "id": "37e60e25",
   "metadata": {},
   "outputs": [],
   "source": [
    "for i in range(len(dataset_dados)):\n",
    "    if dataset_dados['resultado_temporario'][i] == 0:\n",
    "        dataset_dados.loc[i, 'resultado_partida'] = 0\n",
    "    elif dataset_dados['resultado_temporario'][i] > 0:\n",
    "        dataset_dados.loc[i, 'resultado_partida'] = 1\n",
    "    else:\n",
    "        dataset_dados.loc[i, 'resultado_partida'] = -1"
   ]
  },
  {
   "cell_type": "code",
   "execution_count": 10,
   "id": "a9eb95b3",
   "metadata": {},
   "outputs": [],
   "source": [
    "dataset_dados.loc[dataset_dados[\n",
    "    (dataset_dados['time_mandante'] != 'Botafogo') &\n",
    "    (dataset_dados['resultado_partida'] == 1)\n",
    "].index, 'resultado_partida'] = -1"
   ]
  },
  {
   "cell_type": "code",
   "execution_count": 11,
   "id": "7edaedd7",
   "metadata": {},
   "outputs": [],
   "source": [
    "dataset_dados.loc[dataset_dados[\n",
    "    (dataset_dados['time_mandante'] != 'Botafogo') &\n",
    "    (dataset_dados['resultado_partida'] == -1)\n",
    "].index, 'resultado_partida'] = 1"
   ]
  },
  {
   "cell_type": "markdown",
   "id": "2a4a35a4",
   "metadata": {},
   "source": [
    "Resultados Consecutivos\n",
    "\n",
    "    Olhando para os últimos 5 jogos como vem sendo o \"momento\" do time:\n",
    "        Vitória: 1 ponto\n",
    "        Empate: 0 ponto\n",
    "        Derrota: -1 ponto\n",
    "        \n",
    "    Valor Máximo: 5 pontos\n",
    "    Valor Mínimo: -5 pontos"
   ]
  },
  {
   "cell_type": "code",
   "execution_count": 12,
   "id": "840a5985",
   "metadata": {},
   "outputs": [],
   "source": [
    "#RESULTADOS CONSECUTIVOS\n",
    "    \n",
    "for i in range(len(dataset_dados)):\n",
    "    valor = dataset_dados['resultado_partida'].shift(5, fill_value=0)[i+0:5+i].sum()\n",
    "    dataset_dados.loc[i, 'resultados_consecutivos'] = valor\n",
    "    \n",
    "#RESULTADO ÚLTIMO JOGO\n",
    "\n",
    "for i in range(len(dataset_dados)):\n",
    "    valor = dataset_dados['resultado_partida'].shift(1, fill_value=0)[i+0:5+i].sum()\n",
    "    dataset_dados.loc[i, 'resultados_ultimo_jogo'] = valor"
   ]
  },
  {
   "cell_type": "markdown",
   "id": "12190c65",
   "metadata": {},
   "source": [
    "##### Gols, Colocação e Time Adversário"
   ]
  },
  {
   "cell_type": "code",
   "execution_count": 13,
   "id": "2af54131",
   "metadata": {},
   "outputs": [],
   "source": [
    "for i in range(len(dataset_dados)):\n",
    "    if dataset_dados['time_mandante'][i] == 'Botafogo':\n",
    "        dataset_dados.loc[i, 'gols_botafogo'] = dataset_dados['gols_mandante'][i]\n",
    "        dataset_dados.loc[i, 'colocacao_botafogo'] = dataset_dados['colocacao_mandante'][i]\n",
    "        dataset_dados.loc[i, 'colocacao_adversario'] = dataset_dados['colocacao_visitante'][i]\n",
    "        dataset_dados.loc[i, 'time_adversario'] = dataset_dados['time_visitante'][i]\n",
    "    else:\n",
    "        dataset_dados.loc[i, 'gols_botafogo'] = dataset_dados['gols_visitantes'][i]\n",
    "        dataset_dados.loc[i, 'colocacao_botafogo'] = dataset_dados['colocacao_visitante'][i]\n",
    "        dataset_dados.loc[i, 'colocacao_adversario'] = dataset_dados['colocacao_mandante'][i]\n",
    "        dataset_dados.loc[i, 'time_adversario'] = dataset_dados['time_mandante'][i] \n",
    "for i in range(len(dataset_dados)):\n",
    "    valor = dataset_dados['gols_botafogo'].shift(5, fill_value=0)[i+0:5+i].sum()\n",
    "    dataset_dados.loc[i, 'gols_botafogo_ultimos_jogos'] = valor"
   ]
  },
  {
   "cell_type": "markdown",
   "id": "fee56d99",
   "metadata": {},
   "source": [
    "##### Percentual de Ocupacao"
   ]
  },
  {
   "cell_type": "code",
   "execution_count": 14,
   "id": "c490eb6c",
   "metadata": {},
   "outputs": [],
   "source": [
    "dataset_dados['percentual_ocupacao'] = round((dataset_dados['publico'] / dataset_dados['publico_max']) * 100, 2)"
   ]
  },
  {
   "cell_type": "markdown",
   "id": "032343da",
   "metadata": {},
   "source": [
    "##### Jogos de Mando Vendido ou Compartilhado"
   ]
  },
  {
   "cell_type": "code",
   "execution_count": 15,
   "id": "2c55fad1",
   "metadata": {},
   "outputs": [],
   "source": [
    "dados_mando_vendido = dataset_dados[(dataset_dados['resultado_financeiro'] != dataset_dados['custo_botafogo'])]\n",
    "index = dados_mando_vendido[~dados_mando_vendido['custo_botafogo'].isnull()].index"
   ]
  },
  {
   "cell_type": "code",
   "execution_count": 16,
   "id": "7ae377bd",
   "metadata": {},
   "outputs": [],
   "source": [
    "dataset_dados['mando_vendido_compartilhado'] = False\n",
    "dataset_dados.loc[index, 'mando_vendido_compartilhado'] = True"
   ]
  },
  {
   "cell_type": "markdown",
   "id": "43e02cf6",
   "metadata": {},
   "source": [
    "##### Prejuízo ou Lucro"
   ]
  },
  {
   "cell_type": "code",
   "execution_count": 17,
   "id": "825e8f6f",
   "metadata": {},
   "outputs": [],
   "source": [
    "index = dataset_dados[dataset_dados['custo_botafogo'] <= 0].index\n",
    "dataset_dados.loc[index, 'prejuizo_lucro'] = False\n",
    "index = dataset_dados[dataset_dados['custo_botafogo'] > 0].index\n",
    "dataset_dados.loc[index, 'prejuizo_lucro'] = True"
   ]
  },
  {
   "cell_type": "markdown",
   "id": "dc0a180b",
   "metadata": {},
   "source": [
    "Competições Internacionais não possuem o borderô publicado a partir de certa data, portanto vamos considerar uma regra:\n",
    "\n",
    "    Nunca houve prejuízo em jogos com 900000 reais de arrecadação"
   ]
  },
  {
   "cell_type": "code",
   "execution_count": 18,
   "id": "05d2b208",
   "metadata": {},
   "outputs": [],
   "source": [
    "index = dataset_dados[(dataset_dados['custo_botafogo'].isnull()) &\n",
    "              (dataset_dados['arrecadacao'] < 900000)\n",
    "             ].index\n",
    "dataset_dados.loc[index, 'prejuizo_lucro'] = False\n",
    "index = dataset_dados[(dataset_dados['custo_botafogo'].isnull()) &\n",
    "              (dataset_dados['arrecadacao'] >= 900000)\n",
    "             ].index\n",
    "dataset_dados.loc[index, 'prejuizo_lucro'] = True"
   ]
  },
  {
   "cell_type": "markdown",
   "id": "8ae6ae4c",
   "metadata": {},
   "source": [
    "### Dados Usáveis para o Modelo e Tratamentos"
   ]
  },
  {
   "cell_type": "code",
   "execution_count": 19,
   "id": "cee07f5c",
   "metadata": {},
   "outputs": [],
   "source": [
    "dataset_dados = dataset_dados[dataset_dados['time_mandante'] == 'Botafogo']\n",
    "dataset_dados = dataset_dados.reset_index(drop=True)"
   ]
  },
  {
   "cell_type": "code",
   "execution_count": 20,
   "id": "f284f239",
   "metadata": {},
   "outputs": [
    {
     "data": {
      "text/plain": [
       "91"
      ]
     },
     "execution_count": 20,
     "metadata": {},
     "output_type": "execute_result"
    }
   ],
   "source": [
    "len(dataset_dados)"
   ]
  },
  {
   "cell_type": "code",
   "execution_count": 21,
   "id": "02d8b9b3",
   "metadata": {},
   "outputs": [
    {
     "data": {
      "text/plain": [
       "Index(['ano_campeonato', 'campeonato', 'fase', 'estádio', 'data', 'horario',\n",
       "       'rodada', 'tipo_partida', 'publico', 'publico_max', 'arrecadacao',\n",
       "       'despesas', 'impostos', 'resultado_financeiro', 'custo_botafogo',\n",
       "       'anunciou_poupar', 'time_mandante', 'time_visitante',\n",
       "       'estado_adversario', 'classico', 'eliminatorio', 'tecnico_botafogo',\n",
       "       'colocacao_mandante', 'colocacao_visitante', 'gols_mandante',\n",
       "       'gols_visitantes', 'dia_semana', 'hora', 'minuto', 'mes', 'dia_mes',\n",
       "       'resultado_temporario', 'resultado_partida', 'resultados_consecutivos',\n",
       "       'resultados_ultimo_jogo', 'gols_botafogo', 'colocacao_botafogo',\n",
       "       'colocacao_adversario', 'time_adversario',\n",
       "       'gols_botafogo_ultimos_jogos', 'percentual_ocupacao',\n",
       "       'mando_vendido_compartilhado', 'prejuizo_lucro'],\n",
       "      dtype='object')"
      ]
     },
     "execution_count": 21,
     "metadata": {},
     "output_type": "execute_result"
    }
   ],
   "source": [
    "dataset_dados.columns"
   ]
  },
  {
   "cell_type": "code",
   "execution_count": 22,
   "id": "80e2cc30",
   "metadata": {},
   "outputs": [],
   "source": [
    "dataset_dados = dataset_dados.drop(columns=['resultado_temporario', 'gols_visitantes', 'gols_mandante',\n",
    "                                           'colocacao_visitante', 'colocacao_mandante', 'time_visitante', 'time_mandante',\n",
    "                                           'custo_botafogo', 'resultado_financeiro', 'impostos', 'despesas', 'arrecadacao',\n",
    "                                            'publico_max', 'publico', 'gols_botafogo', 'horario'])"
   ]
  },
  {
   "cell_type": "code",
   "execution_count": 23,
   "id": "4f807983",
   "metadata": {},
   "outputs": [
    {
     "data": {
      "text/plain": [
       "Index(['ano_campeonato', 'campeonato', 'fase', 'estádio', 'data', 'rodada',\n",
       "       'tipo_partida', 'anunciou_poupar', 'estado_adversario', 'classico',\n",
       "       'eliminatorio', 'tecnico_botafogo', 'dia_semana', 'hora', 'minuto',\n",
       "       'mes', 'dia_mes', 'resultado_partida', 'resultados_consecutivos',\n",
       "       'resultados_ultimo_jogo', 'colocacao_botafogo', 'colocacao_adversario',\n",
       "       'time_adversario', 'gols_botafogo_ultimos_jogos', 'percentual_ocupacao',\n",
       "       'mando_vendido_compartilhado', 'prejuizo_lucro'],\n",
       "      dtype='object')"
      ]
     },
     "execution_count": 23,
     "metadata": {},
     "output_type": "execute_result"
    }
   ],
   "source": [
    "dataset_dados.columns"
   ]
  },
  {
   "cell_type": "code",
   "execution_count": 24,
   "id": "2112c8c9",
   "metadata": {},
   "outputs": [],
   "source": [
    "dataset_dados.loc[dataset_dados[dataset_dados['anunciou_poupar'] == 'SIM'].index, 'anunciou_poupar'] = True\n",
    "dataset_dados.loc[dataset_dados[dataset_dados['anunciou_poupar'].isnull()].index, 'anunciou_poupar'] = False\n",
    "dataset_dados.loc[dataset_dados[dataset_dados['classico'] == 'SIM'].index, 'classico'] = True\n",
    "dataset_dados.loc[dataset_dados[dataset_dados['classico'].isnull()].index, 'classico'] = False\n",
    "dataset_dados.loc[dataset_dados[dataset_dados['eliminatorio'] == 'SIM'].index, 'eliminatorio'] = True\n",
    "dataset_dados.loc[dataset_dados[dataset_dados['eliminatorio'].isnull()].index, 'eliminatorio'] = False"
   ]
  },
  {
   "cell_type": "code",
   "execution_count": 25,
   "id": "79012837",
   "metadata": {},
   "outputs": [
    {
     "data": {
      "text/plain": [
       "27"
      ]
     },
     "execution_count": 25,
     "metadata": {},
     "output_type": "execute_result"
    }
   ],
   "source": [
    "len(dataset_dados.columns)"
   ]
  },
  {
   "cell_type": "code",
   "execution_count": 26,
   "id": "5dc08e2b",
   "metadata": {},
   "outputs": [],
   "source": [
    "dataset_dados = pd.get_dummies(dataset_dados, columns=['campeonato', 'estádio', 'tipo_partida', 'estado_adversario',\n",
    "                                                       'tecnico_botafogo', 'time_adversario', 'fase'])"
   ]
  },
  {
   "cell_type": "code",
   "execution_count": 27,
   "id": "03e8c2e8",
   "metadata": {},
   "outputs": [],
   "source": [
    "dataset_dados = dataset_dados.astype({'anunciou_poupar': bool,\n",
    "                                      'classico': bool,\n",
    "                                      'eliminatorio': bool,\n",
    "                                       'prejuizo_lucro': bool\n",
    "                                     })"
   ]
  },
  {
   "cell_type": "code",
   "execution_count": 28,
   "id": "71d65c77",
   "metadata": {},
   "outputs": [],
   "source": [
    "dataset_previsao = dataset_dados[dataset_dados['data'] >= pd.to_datetime(date.today())]\n",
    "dataset_dados = dataset_dados[dataset_dados['data'] < pd.to_datetime(date.today())]\n",
    "dataset_dados = dataset_dados.drop(columns=['data'])\n",
    "dataset_previsao = dataset_previsao.drop(columns=['data'])\n",
    "dataset_dados = dataset_dados.reset_index(drop=True)"
   ]
  },
  {
   "cell_type": "code",
   "execution_count": 29,
   "id": "d678632a",
   "metadata": {
    "scrolled": true
   },
   "outputs": [
    {
     "data": {
      "text/html": [
       "<div>\n",
       "<style scoped>\n",
       "    .dataframe tbody tr th:only-of-type {\n",
       "        vertical-align: middle;\n",
       "    }\n",
       "\n",
       "    .dataframe tbody tr th {\n",
       "        vertical-align: top;\n",
       "    }\n",
       "\n",
       "    .dataframe thead th {\n",
       "        text-align: right;\n",
       "    }\n",
       "</style>\n",
       "<table border=\"1\" class=\"dataframe\">\n",
       "  <thead>\n",
       "    <tr style=\"text-align: right;\">\n",
       "      <th></th>\n",
       "      <th>ano_campeonato</th>\n",
       "      <th>rodada</th>\n",
       "      <th>anunciou_poupar</th>\n",
       "      <th>classico</th>\n",
       "      <th>eliminatorio</th>\n",
       "      <th>dia_semana</th>\n",
       "      <th>hora</th>\n",
       "      <th>minuto</th>\n",
       "      <th>mes</th>\n",
       "      <th>dia_mes</th>\n",
       "      <th>...</th>\n",
       "      <th>time_adversario_Ypiranga</th>\n",
       "      <th>fase_fase de grupos</th>\n",
       "      <th>fase_final - taça rio</th>\n",
       "      <th>fase_liga</th>\n",
       "      <th>fase_oitavas-de-final</th>\n",
       "      <th>fase_quartas-de-final</th>\n",
       "      <th>fase_segunda fase</th>\n",
       "      <th>fase_semi-final</th>\n",
       "      <th>fase_semi-final - taça rio</th>\n",
       "      <th>fase_terceira fase</th>\n",
       "    </tr>\n",
       "  </thead>\n",
       "  <tbody>\n",
       "    <tr>\n",
       "      <th>0</th>\n",
       "      <td>2022</td>\n",
       "      <td>1</td>\n",
       "      <td>False</td>\n",
       "      <td>True</td>\n",
       "      <td>True</td>\n",
       "      <td>0.0</td>\n",
       "      <td>16.0</td>\n",
       "      <td>0.0</td>\n",
       "      <td>3</td>\n",
       "      <td>21</td>\n",
       "      <td>...</td>\n",
       "      <td>False</td>\n",
       "      <td>False</td>\n",
       "      <td>False</td>\n",
       "      <td>False</td>\n",
       "      <td>False</td>\n",
       "      <td>False</td>\n",
       "      <td>False</td>\n",
       "      <td>True</td>\n",
       "      <td>False</td>\n",
       "      <td>False</td>\n",
       "    </tr>\n",
       "    <tr>\n",
       "      <th>1</th>\n",
       "      <td>2022</td>\n",
       "      <td>1</td>\n",
       "      <td>False</td>\n",
       "      <td>False</td>\n",
       "      <td>False</td>\n",
       "      <td>6.0</td>\n",
       "      <td>16.0</td>\n",
       "      <td>0.0</td>\n",
       "      <td>4</td>\n",
       "      <td>10</td>\n",
       "      <td>...</td>\n",
       "      <td>False</td>\n",
       "      <td>False</td>\n",
       "      <td>False</td>\n",
       "      <td>True</td>\n",
       "      <td>False</td>\n",
       "      <td>False</td>\n",
       "      <td>False</td>\n",
       "      <td>False</td>\n",
       "      <td>False</td>\n",
       "      <td>False</td>\n",
       "    </tr>\n",
       "    <tr>\n",
       "      <th>2</th>\n",
       "      <td>2022</td>\n",
       "      <td>4</td>\n",
       "      <td>False</td>\n",
       "      <td>False</td>\n",
       "      <td>False</td>\n",
       "      <td>6.0</td>\n",
       "      <td>16.0</td>\n",
       "      <td>0.0</td>\n",
       "      <td>5</td>\n",
       "      <td>1</td>\n",
       "      <td>...</td>\n",
       "      <td>False</td>\n",
       "      <td>False</td>\n",
       "      <td>False</td>\n",
       "      <td>True</td>\n",
       "      <td>False</td>\n",
       "      <td>False</td>\n",
       "      <td>False</td>\n",
       "      <td>False</td>\n",
       "      <td>False</td>\n",
       "      <td>False</td>\n",
       "    </tr>\n",
       "    <tr>\n",
       "      <th>3</th>\n",
       "      <td>2022</td>\n",
       "      <td>2</td>\n",
       "      <td>False</td>\n",
       "      <td>False</td>\n",
       "      <td>True</td>\n",
       "      <td>3.0</td>\n",
       "      <td>16.0</td>\n",
       "      <td>0.0</td>\n",
       "      <td>5</td>\n",
       "      <td>12</td>\n",
       "      <td>...</td>\n",
       "      <td>False</td>\n",
       "      <td>False</td>\n",
       "      <td>False</td>\n",
       "      <td>False</td>\n",
       "      <td>False</td>\n",
       "      <td>False</td>\n",
       "      <td>False</td>\n",
       "      <td>False</td>\n",
       "      <td>False</td>\n",
       "      <td>True</td>\n",
       "    </tr>\n",
       "    <tr>\n",
       "      <th>4</th>\n",
       "      <td>2022</td>\n",
       "      <td>6</td>\n",
       "      <td>False</td>\n",
       "      <td>False</td>\n",
       "      <td>False</td>\n",
       "      <td>6.0</td>\n",
       "      <td>16.0</td>\n",
       "      <td>0.0</td>\n",
       "      <td>5</td>\n",
       "      <td>15</td>\n",
       "      <td>...</td>\n",
       "      <td>False</td>\n",
       "      <td>False</td>\n",
       "      <td>False</td>\n",
       "      <td>True</td>\n",
       "      <td>False</td>\n",
       "      <td>False</td>\n",
       "      <td>False</td>\n",
       "      <td>False</td>\n",
       "      <td>False</td>\n",
       "      <td>False</td>\n",
       "    </tr>\n",
       "  </tbody>\n",
       "</table>\n",
       "<p>5 rows × 114 columns</p>\n",
       "</div>"
      ],
      "text/plain": [
       "   ano_campeonato  rodada  anunciou_poupar  classico  eliminatorio  \\\n",
       "0            2022       1            False      True          True   \n",
       "1            2022       1            False     False         False   \n",
       "2            2022       4            False     False         False   \n",
       "3            2022       2            False     False          True   \n",
       "4            2022       6            False     False         False   \n",
       "\n",
       "   dia_semana  hora  minuto  mes  dia_mes  ...  time_adversario_Ypiranga  \\\n",
       "0         0.0  16.0     0.0    3       21  ...                     False   \n",
       "1         6.0  16.0     0.0    4       10  ...                     False   \n",
       "2         6.0  16.0     0.0    5        1  ...                     False   \n",
       "3         3.0  16.0     0.0    5       12  ...                     False   \n",
       "4         6.0  16.0     0.0    5       15  ...                     False   \n",
       "\n",
       "   fase_fase de grupos  fase_final - taça rio  fase_liga  \\\n",
       "0                False                  False      False   \n",
       "1                False                  False       True   \n",
       "2                False                  False       True   \n",
       "3                False                  False      False   \n",
       "4                False                  False       True   \n",
       "\n",
       "   fase_oitavas-de-final  fase_quartas-de-final  fase_segunda fase  \\\n",
       "0                  False                  False              False   \n",
       "1                  False                  False              False   \n",
       "2                  False                  False              False   \n",
       "3                  False                  False              False   \n",
       "4                  False                  False              False   \n",
       "\n",
       "   fase_semi-final  fase_semi-final - taça rio  fase_terceira fase  \n",
       "0             True                       False               False  \n",
       "1            False                       False               False  \n",
       "2            False                       False               False  \n",
       "3            False                       False                True  \n",
       "4            False                       False               False  \n",
       "\n",
       "[5 rows x 114 columns]"
      ]
     },
     "execution_count": 29,
     "metadata": {},
     "output_type": "execute_result"
    }
   ],
   "source": [
    "dataset_dados.head()"
   ]
  },
  {
   "cell_type": "code",
   "execution_count": 30,
   "id": "01dcc05e",
   "metadata": {},
   "outputs": [
    {
     "data": {
      "text/plain": [
       "75"
      ]
     },
     "execution_count": 30,
     "metadata": {},
     "output_type": "execute_result"
    }
   ],
   "source": [
    "len(dataset_dados)"
   ]
  },
  {
   "cell_type": "code",
   "execution_count": 31,
   "id": "bed3fe37",
   "metadata": {},
   "outputs": [
    {
     "data": {
      "text/html": [
       "<div>\n",
       "<style scoped>\n",
       "    .dataframe tbody tr th:only-of-type {\n",
       "        vertical-align: middle;\n",
       "    }\n",
       "\n",
       "    .dataframe tbody tr th {\n",
       "        vertical-align: top;\n",
       "    }\n",
       "\n",
       "    .dataframe thead th {\n",
       "        text-align: right;\n",
       "    }\n",
       "</style>\n",
       "<table border=\"1\" class=\"dataframe\">\n",
       "  <thead>\n",
       "    <tr style=\"text-align: right;\">\n",
       "      <th></th>\n",
       "      <th>ano_campeonato</th>\n",
       "      <th>rodada</th>\n",
       "      <th>anunciou_poupar</th>\n",
       "      <th>classico</th>\n",
       "      <th>eliminatorio</th>\n",
       "      <th>dia_semana</th>\n",
       "      <th>hora</th>\n",
       "      <th>minuto</th>\n",
       "      <th>mes</th>\n",
       "      <th>dia_mes</th>\n",
       "      <th>...</th>\n",
       "      <th>time_adversario_Ypiranga</th>\n",
       "      <th>fase_fase de grupos</th>\n",
       "      <th>fase_final - taça rio</th>\n",
       "      <th>fase_liga</th>\n",
       "      <th>fase_oitavas-de-final</th>\n",
       "      <th>fase_quartas-de-final</th>\n",
       "      <th>fase_segunda fase</th>\n",
       "      <th>fase_semi-final</th>\n",
       "      <th>fase_semi-final - taça rio</th>\n",
       "      <th>fase_terceira fase</th>\n",
       "    </tr>\n",
       "  </thead>\n",
       "  <tbody>\n",
       "    <tr>\n",
       "      <th>0</th>\n",
       "      <td>False</td>\n",
       "      <td>False</td>\n",
       "      <td>False</td>\n",
       "      <td>False</td>\n",
       "      <td>False</td>\n",
       "      <td>False</td>\n",
       "      <td>False</td>\n",
       "      <td>False</td>\n",
       "      <td>False</td>\n",
       "      <td>False</td>\n",
       "      <td>...</td>\n",
       "      <td>False</td>\n",
       "      <td>False</td>\n",
       "      <td>False</td>\n",
       "      <td>False</td>\n",
       "      <td>False</td>\n",
       "      <td>False</td>\n",
       "      <td>False</td>\n",
       "      <td>False</td>\n",
       "      <td>False</td>\n",
       "      <td>False</td>\n",
       "    </tr>\n",
       "    <tr>\n",
       "      <th>1</th>\n",
       "      <td>False</td>\n",
       "      <td>False</td>\n",
       "      <td>False</td>\n",
       "      <td>False</td>\n",
       "      <td>False</td>\n",
       "      <td>False</td>\n",
       "      <td>False</td>\n",
       "      <td>False</td>\n",
       "      <td>False</td>\n",
       "      <td>False</td>\n",
       "      <td>...</td>\n",
       "      <td>False</td>\n",
       "      <td>False</td>\n",
       "      <td>False</td>\n",
       "      <td>False</td>\n",
       "      <td>False</td>\n",
       "      <td>False</td>\n",
       "      <td>False</td>\n",
       "      <td>False</td>\n",
       "      <td>False</td>\n",
       "      <td>False</td>\n",
       "    </tr>\n",
       "    <tr>\n",
       "      <th>2</th>\n",
       "      <td>False</td>\n",
       "      <td>False</td>\n",
       "      <td>False</td>\n",
       "      <td>False</td>\n",
       "      <td>False</td>\n",
       "      <td>False</td>\n",
       "      <td>False</td>\n",
       "      <td>False</td>\n",
       "      <td>False</td>\n",
       "      <td>False</td>\n",
       "      <td>...</td>\n",
       "      <td>False</td>\n",
       "      <td>False</td>\n",
       "      <td>False</td>\n",
       "      <td>False</td>\n",
       "      <td>False</td>\n",
       "      <td>False</td>\n",
       "      <td>False</td>\n",
       "      <td>False</td>\n",
       "      <td>False</td>\n",
       "      <td>False</td>\n",
       "    </tr>\n",
       "    <tr>\n",
       "      <th>3</th>\n",
       "      <td>False</td>\n",
       "      <td>False</td>\n",
       "      <td>False</td>\n",
       "      <td>False</td>\n",
       "      <td>False</td>\n",
       "      <td>False</td>\n",
       "      <td>False</td>\n",
       "      <td>False</td>\n",
       "      <td>False</td>\n",
       "      <td>False</td>\n",
       "      <td>...</td>\n",
       "      <td>False</td>\n",
       "      <td>False</td>\n",
       "      <td>False</td>\n",
       "      <td>False</td>\n",
       "      <td>False</td>\n",
       "      <td>False</td>\n",
       "      <td>False</td>\n",
       "      <td>False</td>\n",
       "      <td>False</td>\n",
       "      <td>False</td>\n",
       "    </tr>\n",
       "    <tr>\n",
       "      <th>4</th>\n",
       "      <td>False</td>\n",
       "      <td>False</td>\n",
       "      <td>False</td>\n",
       "      <td>False</td>\n",
       "      <td>False</td>\n",
       "      <td>False</td>\n",
       "      <td>False</td>\n",
       "      <td>False</td>\n",
       "      <td>False</td>\n",
       "      <td>False</td>\n",
       "      <td>...</td>\n",
       "      <td>False</td>\n",
       "      <td>False</td>\n",
       "      <td>False</td>\n",
       "      <td>False</td>\n",
       "      <td>False</td>\n",
       "      <td>False</td>\n",
       "      <td>False</td>\n",
       "      <td>False</td>\n",
       "      <td>False</td>\n",
       "      <td>False</td>\n",
       "    </tr>\n",
       "    <tr>\n",
       "      <th>...</th>\n",
       "      <td>...</td>\n",
       "      <td>...</td>\n",
       "      <td>...</td>\n",
       "      <td>...</td>\n",
       "      <td>...</td>\n",
       "      <td>...</td>\n",
       "      <td>...</td>\n",
       "      <td>...</td>\n",
       "      <td>...</td>\n",
       "      <td>...</td>\n",
       "      <td>...</td>\n",
       "      <td>...</td>\n",
       "      <td>...</td>\n",
       "      <td>...</td>\n",
       "      <td>...</td>\n",
       "      <td>...</td>\n",
       "      <td>...</td>\n",
       "      <td>...</td>\n",
       "      <td>...</td>\n",
       "      <td>...</td>\n",
       "      <td>...</td>\n",
       "    </tr>\n",
       "    <tr>\n",
       "      <th>70</th>\n",
       "      <td>False</td>\n",
       "      <td>False</td>\n",
       "      <td>False</td>\n",
       "      <td>False</td>\n",
       "      <td>False</td>\n",
       "      <td>False</td>\n",
       "      <td>False</td>\n",
       "      <td>False</td>\n",
       "      <td>False</td>\n",
       "      <td>False</td>\n",
       "      <td>...</td>\n",
       "      <td>False</td>\n",
       "      <td>False</td>\n",
       "      <td>False</td>\n",
       "      <td>False</td>\n",
       "      <td>False</td>\n",
       "      <td>False</td>\n",
       "      <td>False</td>\n",
       "      <td>False</td>\n",
       "      <td>False</td>\n",
       "      <td>False</td>\n",
       "    </tr>\n",
       "    <tr>\n",
       "      <th>71</th>\n",
       "      <td>False</td>\n",
       "      <td>False</td>\n",
       "      <td>False</td>\n",
       "      <td>False</td>\n",
       "      <td>False</td>\n",
       "      <td>False</td>\n",
       "      <td>False</td>\n",
       "      <td>False</td>\n",
       "      <td>False</td>\n",
       "      <td>False</td>\n",
       "      <td>...</td>\n",
       "      <td>False</td>\n",
       "      <td>False</td>\n",
       "      <td>False</td>\n",
       "      <td>False</td>\n",
       "      <td>False</td>\n",
       "      <td>False</td>\n",
       "      <td>False</td>\n",
       "      <td>False</td>\n",
       "      <td>False</td>\n",
       "      <td>False</td>\n",
       "    </tr>\n",
       "    <tr>\n",
       "      <th>72</th>\n",
       "      <td>False</td>\n",
       "      <td>False</td>\n",
       "      <td>False</td>\n",
       "      <td>False</td>\n",
       "      <td>False</td>\n",
       "      <td>False</td>\n",
       "      <td>False</td>\n",
       "      <td>False</td>\n",
       "      <td>False</td>\n",
       "      <td>False</td>\n",
       "      <td>...</td>\n",
       "      <td>False</td>\n",
       "      <td>False</td>\n",
       "      <td>False</td>\n",
       "      <td>False</td>\n",
       "      <td>False</td>\n",
       "      <td>False</td>\n",
       "      <td>False</td>\n",
       "      <td>False</td>\n",
       "      <td>False</td>\n",
       "      <td>False</td>\n",
       "    </tr>\n",
       "    <tr>\n",
       "      <th>73</th>\n",
       "      <td>False</td>\n",
       "      <td>False</td>\n",
       "      <td>False</td>\n",
       "      <td>False</td>\n",
       "      <td>False</td>\n",
       "      <td>False</td>\n",
       "      <td>False</td>\n",
       "      <td>False</td>\n",
       "      <td>False</td>\n",
       "      <td>False</td>\n",
       "      <td>...</td>\n",
       "      <td>False</td>\n",
       "      <td>False</td>\n",
       "      <td>False</td>\n",
       "      <td>False</td>\n",
       "      <td>False</td>\n",
       "      <td>False</td>\n",
       "      <td>False</td>\n",
       "      <td>False</td>\n",
       "      <td>False</td>\n",
       "      <td>False</td>\n",
       "    </tr>\n",
       "    <tr>\n",
       "      <th>74</th>\n",
       "      <td>False</td>\n",
       "      <td>False</td>\n",
       "      <td>False</td>\n",
       "      <td>False</td>\n",
       "      <td>False</td>\n",
       "      <td>False</td>\n",
       "      <td>False</td>\n",
       "      <td>False</td>\n",
       "      <td>False</td>\n",
       "      <td>False</td>\n",
       "      <td>...</td>\n",
       "      <td>False</td>\n",
       "      <td>False</td>\n",
       "      <td>False</td>\n",
       "      <td>False</td>\n",
       "      <td>False</td>\n",
       "      <td>False</td>\n",
       "      <td>False</td>\n",
       "      <td>False</td>\n",
       "      <td>False</td>\n",
       "      <td>False</td>\n",
       "    </tr>\n",
       "  </tbody>\n",
       "</table>\n",
       "<p>75 rows × 114 columns</p>\n",
       "</div>"
      ],
      "text/plain": [
       "    ano_campeonato  rodada  anunciou_poupar  classico  eliminatorio  \\\n",
       "0            False   False            False     False         False   \n",
       "1            False   False            False     False         False   \n",
       "2            False   False            False     False         False   \n",
       "3            False   False            False     False         False   \n",
       "4            False   False            False     False         False   \n",
       "..             ...     ...              ...       ...           ...   \n",
       "70           False   False            False     False         False   \n",
       "71           False   False            False     False         False   \n",
       "72           False   False            False     False         False   \n",
       "73           False   False            False     False         False   \n",
       "74           False   False            False     False         False   \n",
       "\n",
       "    dia_semana   hora  minuto    mes  dia_mes  ...  time_adversario_Ypiranga  \\\n",
       "0        False  False   False  False    False  ...                     False   \n",
       "1        False  False   False  False    False  ...                     False   \n",
       "2        False  False   False  False    False  ...                     False   \n",
       "3        False  False   False  False    False  ...                     False   \n",
       "4        False  False   False  False    False  ...                     False   \n",
       "..         ...    ...     ...    ...      ...  ...                       ...   \n",
       "70       False  False   False  False    False  ...                     False   \n",
       "71       False  False   False  False    False  ...                     False   \n",
       "72       False  False   False  False    False  ...                     False   \n",
       "73       False  False   False  False    False  ...                     False   \n",
       "74       False  False   False  False    False  ...                     False   \n",
       "\n",
       "    fase_fase de grupos  fase_final - taça rio  fase_liga  \\\n",
       "0                 False                  False      False   \n",
       "1                 False                  False      False   \n",
       "2                 False                  False      False   \n",
       "3                 False                  False      False   \n",
       "4                 False                  False      False   \n",
       "..                  ...                    ...        ...   \n",
       "70                False                  False      False   \n",
       "71                False                  False      False   \n",
       "72                False                  False      False   \n",
       "73                False                  False      False   \n",
       "74                False                  False      False   \n",
       "\n",
       "    fase_oitavas-de-final  fase_quartas-de-final  fase_segunda fase  \\\n",
       "0                   False                  False              False   \n",
       "1                   False                  False              False   \n",
       "2                   False                  False              False   \n",
       "3                   False                  False              False   \n",
       "4                   False                  False              False   \n",
       "..                    ...                    ...                ...   \n",
       "70                  False                  False              False   \n",
       "71                  False                  False              False   \n",
       "72                  False                  False              False   \n",
       "73                  False                  False              False   \n",
       "74                  False                  False              False   \n",
       "\n",
       "    fase_semi-final  fase_semi-final - taça rio  fase_terceira fase  \n",
       "0             False                       False               False  \n",
       "1             False                       False               False  \n",
       "2             False                       False               False  \n",
       "3             False                       False               False  \n",
       "4             False                       False               False  \n",
       "..              ...                         ...                 ...  \n",
       "70            False                       False               False  \n",
       "71            False                       False               False  \n",
       "72            False                       False               False  \n",
       "73            False                       False               False  \n",
       "74            False                       False               False  \n",
       "\n",
       "[75 rows x 114 columns]"
      ]
     },
     "execution_count": 31,
     "metadata": {},
     "output_type": "execute_result"
    }
   ],
   "source": [
    "dataset_dados.isnull()"
   ]
  },
  {
   "cell_type": "code",
   "execution_count": 32,
   "id": "2fe93104",
   "metadata": {},
   "outputs": [],
   "source": [
    "dataset_dados.to_csv('dados_modelo_final.csv', index=False)"
   ]
  },
  {
   "cell_type": "markdown",
   "id": "577d7ee2",
   "metadata": {},
   "source": [
    "### Datasets Modelos"
   ]
  },
  {
   "cell_type": "markdown",
   "id": "1cf2d2d8",
   "metadata": {},
   "source": [
    "Haverão Três Modelos, cada um olhando para uma variável alvo específica, as variáveis alvo serão:\n",
    "\n",
    "    - percentual_ocupacao: Olhando para tentarmos prever a quantidade de pessoas que irão aos jogos\n",
    "    - prejuizo_lucro: Olhando para tentarmos prever se o jogo foi rentável (olhando apenas para o contexto do jogo)\n",
    "    - resultado_partida: Olhando para tentarmos prever o resultado do jogo (Derrota, Vitória ou Empate\n",
    "    \n",
    "Sendo assim cada modelo terá seu dataset específico, pois as variáveis alvo não são passíveis de serem utilizadas nos modelos que não sejam os seus por não serem valores disponíveis para a previsão antes do evento acontecer, chamaremos essas varíaveis de indisponíveis."
   ]
  },
  {
   "cell_type": "code",
   "execution_count": 33,
   "id": "3538d6c8",
   "metadata": {},
   "outputs": [],
   "source": [
    "dados_modelo_percentual_ocupacao = dataset_dados.drop(columns=['prejuizo_lucro', 'resultado_partida']).copy()\n",
    "dados_modelo_prejuizo_lucro = dataset_dados.drop(columns=['percentual_ocupacao', 'resultado_partida']).copy()\n",
    "dados_modelo_resultado_partida = dataset_dados.drop(columns=['percentual_ocupacao', 'prejuizo_lucro']).copy()"
   ]
  },
  {
   "cell_type": "markdown",
   "id": "42d941aa",
   "metadata": {},
   "source": [
    "### Análise Exploratória"
   ]
  },
  {
   "cell_type": "markdown",
   "id": "02286003",
   "metadata": {},
   "source": [
    "##### Funções Úteis"
   ]
  },
  {
   "cell_type": "code",
   "execution_count": 34,
   "id": "1e17726b",
   "metadata": {},
   "outputs": [],
   "source": [
    "def concentracao_valores (dados, coluna):\n",
    "    if len(dados[coluna].unique()) > 3:        \n",
    "        print(dados[coluna].describe())\n",
    "    else:        \n",
    "        print(dados[coluna].value_counts())"
   ]
  },
  {
   "cell_type": "code",
   "execution_count": 35,
   "id": "1506868a",
   "metadata": {},
   "outputs": [],
   "source": [
    "def correlacao_modelos (dados, coluna):\n",
    "    print('Menores Valores')\n",
    "    print('----------------------')\n",
    "    print(dados.corr()[coluna].sort_values().head(7))\n",
    "    print('======================')\n",
    "    print('Maiores Valores')\n",
    "    print('----------------------')\n",
    "    print(dados.corr()[coluna].sort_values(ascending=False).head(7))"
   ]
  },
  {
   "cell_type": "code",
   "execution_count": 36,
   "id": "1e5c8dbb",
   "metadata": {},
   "outputs": [],
   "source": [
    "def visualizacoes (dados, coluna, label):\n",
    "    if len(dados[coluna].unique()) > 3: \n",
    "        fig, ax = plt.subplots()\n",
    "        ax.hist(dados[coluna])\n",
    "        ax.set_xlabel(label)\n",
    "        ax.set_title('Análise Visual - Histograma - '+label)\n",
    "        plt.show()"
   ]
  },
  {
   "cell_type": "code",
   "execution_count": 37,
   "id": "8f8f4bf2",
   "metadata": {},
   "outputs": [],
   "source": [
    "def taxas_erro (valores_reais, valores_previstos):\n",
    "    #RMSE\n",
    "    rmse = sqrt(mean_squared_error(valores_reais, valores_previstos))\n",
    "    print('Erro médio quadrático: ', rmse)\n",
    "    #MAE\n",
    "    mae = mean_absolute_error(valores_reais, valores_previstos)\n",
    "    print('Erro médio absoluto: ', mae)"
   ]
  },
  {
   "cell_type": "markdown",
   "id": "3d490fdc",
   "metadata": {},
   "source": [
    "Esse artigo me ajudou com a tunagem dos hiperparâmetros:\n",
    "\n",
    "    - https://www.analyticsvidhya.com/blog/2016/03/complete-guide-parameter-tuning-xgboost-with-codes-python/"
   ]
  },
  {
   "cell_type": "code",
   "execution_count": 38,
   "id": "7e1ca1b3",
   "metadata": {},
   "outputs": [],
   "source": [
    "def tunning_hiperpametros (modelo, X_train, y_train):\n",
    "    \n",
    "    print('Testando Variáveis: max_depth, min_child_weight')\n",
    "    \n",
    "    param_test = {\n",
    "     'max_depth':range(3,10,2),\n",
    "     'min_child_weight':range(1,6,2),\n",
    "    }\n",
    "    \n",
    "    gsearch = GridSearchCV(estimator = modelo(\n",
    "                    learning_rate=0.01, max_depth=5, n_estimators=200, n_jobs=-1, random_state=1, seed=42,\n",
    "                    min_child_weight=1, gamma = 0, subsample = 0.8, colsample_bytree = 0.8, scale_pos_weight = 1\n",
    "                   ), \n",
    "                    param_grid = param_test, scoring='roc_auc', n_jobs=-1, cv=10)      \n",
    "    gsearch.fit(X_train, y_train)\n",
    "        \n",
    "    max_depth = gsearch.best_params_['max_depth']\n",
    "    min_child_weight = gsearch.best_params_['min_child_weight']\n",
    "    \n",
    "    print('Melhores valores: ', gsearch.best_params_)\n",
    "    \n",
    "    print('-----------------------------')  \n",
    "    \n",
    "    print('Testando Variáveis:gamma')\n",
    "    \n",
    "    param_test = {\n",
    "     'gamma':[i/10.0 for i in range(0,5)],\n",
    "    }\n",
    "    \n",
    "    gsearch = GridSearchCV(estimator = modelo(\n",
    "                    learning_rate=0.01, max_depth=max_depth, n_estimators=200, n_jobs=-1, random_state=1, seed=42,\n",
    "                    min_child_weight=min_child_weight, gamma = 0 , subsample = 0.8, colsample_bytree = 0.8, scale_pos_weight = 1\n",
    "                   ), \n",
    "                    param_grid = param_test, scoring='roc_auc', n_jobs=-1, cv=10)      \n",
    "    gsearch.fit(X_train, y_train)\n",
    "    \n",
    "    print('Melhores valores: ', gsearch.best_params_)\n",
    "    gamma = gsearch.best_params_['gamma']\n",
    "    \n",
    "    print('-----------------------------')  \n",
    "    \n",
    "    print('Testando Variáveis: subsample, colsample_bytree')\n",
    "    \n",
    "    param_test = {\n",
    "     'subsample':[i/10.0 for i in range(6,10)],\n",
    "     'colsample_bytree':[i/10.0 for i in range(6,10)]\n",
    "    }\n",
    "    \n",
    "    gsearch = GridSearchCV(estimator = modelo(\n",
    "                    learning_rate=0.01, max_depth=max_depth, n_estimators=200, n_jobs=-1, random_state=1, seed=42,\n",
    "                    min_child_weight=min_child_weight, gamma = gamma, subsample = 0.8, colsample_bytree = 0.8, scale_pos_weight = 1\n",
    "                   ), \n",
    "                    param_grid = param_test, scoring='roc_auc', n_jobs=-1, cv=10)      \n",
    "    gsearch.fit(X_train, y_train)\n",
    "    \n",
    "    print('Melhores valores: ', gsearch.best_params_)\n",
    "    \n",
    "    print('-----------------------------')  \n",
    "    \n",
    "    print('Testando Variáveis: reg_alpha')\n",
    "    \n",
    "    param_test = {\n",
    "     'reg_alpha':[1e-5, 1e-2, 0.1, 1, 100]\n",
    "    }\n",
    "    \n",
    "    gsearch = GridSearchCV(estimator = modelo(\n",
    "                    learning_rate=0.01, max_depth=max_depth, n_estimators=200, n_jobs=-1, random_state=1, seed=42,\n",
    "                    min_child_weight=min_child_weight, gamma = gamma, subsample = gsearch.best_params_['subsample'],\n",
    "                    colsample_bytree = gsearch.best_params_['colsample_bytree'], scale_pos_weight = 1\n",
    "                   ), \n",
    "                    param_grid = param_test, scoring='roc_auc', n_jobs=-1, cv=10)      \n",
    "    gsearch.fit(X_train, y_train)\n",
    "    \n",
    "    print('Melhores valores: ', gsearch.best_params_)\n",
    "    \n",
    "    print('-----------------------------')  "
   ]
  },
  {
   "cell_type": "markdown",
   "id": "558fa4e1",
   "metadata": {},
   "source": [
    "##### Modelo 1"
   ]
  },
  {
   "cell_type": "code",
   "execution_count": 39,
   "id": "44b9cf7b",
   "metadata": {},
   "outputs": [
    {
     "name": "stdout",
     "output_type": "stream",
     "text": [
      "count    75.000000\n",
      "mean     44.833467\n",
      "std      23.721517\n",
      "min       8.140000\n",
      "25%      26.485000\n",
      "50%      41.750000\n",
      "75%      63.050000\n",
      "max      91.780000\n",
      "Name: percentual_ocupacao, dtype: float64\n"
     ]
    }
   ],
   "source": [
    "concentracao_valores(dados_modelo_percentual_ocupacao, 'percentual_ocupacao')"
   ]
  },
  {
   "cell_type": "code",
   "execution_count": 40,
   "id": "65bbe288",
   "metadata": {},
   "outputs": [
    {
     "name": "stdout",
     "output_type": "stream",
     "text": [
      "Menores Valores\n",
      "----------------------\n",
      "campeonato_carioca              -0.519582\n",
      "estado_adversario_RJ            -0.397612\n",
      "time_adversario_Portuguesa-RJ   -0.312850\n",
      "mando_vendido_compartilhado     -0.288932\n",
      "anunciou_poupar                 -0.284745\n",
      "estádio_Raulino de Oliveira     -0.254809\n",
      "time_adversario_Audax Rio       -0.253966\n",
      "Name: percentual_ocupacao, dtype: float64\n",
      "======================\n",
      "Maiores Valores\n",
      "----------------------\n",
      "percentual_ocupacao                1.000000\n",
      "mes                                0.451071\n",
      "campeonato_serie a                 0.383254\n",
      "tecnico_botafogo_Bruno Lage        0.376013\n",
      "rodada                             0.290370\n",
      "tecnico_botafogo_Cláudio Caçapa    0.252618\n",
      "estádio_Nilton Santos              0.227854\n",
      "Name: percentual_ocupacao, dtype: float64\n"
     ]
    }
   ],
   "source": [
    "correlacao_modelos(dados_modelo_percentual_ocupacao, 'percentual_ocupacao')"
   ]
  },
  {
   "cell_type": "code",
   "execution_count": 41,
   "id": "e694f28b",
   "metadata": {},
   "outputs": [
    {
     "data": {
      "image/png": "[encoded data removed]",
      "text/plain": [
       "<Figure size 640x480 with 1 Axes>"
      ]
     },
     "metadata": {},
     "output_type": "display_data"
    }
   ],
   "source": [
    "visualizacoes(dados_modelo_percentual_ocupacao, 'percentual_ocupacao', 'Ocupação %')"
   ]
  },
  {
   "cell_type": "markdown",
   "id": "0622eaca",
   "metadata": {},
   "source": [
    "##### Modelo 2 "
   ]
  },
  {
   "cell_type": "code",
   "execution_count": 42,
   "id": "3bebf450",
   "metadata": {},
   "outputs": [
    {
     "name": "stdout",
     "output_type": "stream",
     "text": [
      "prejuizo_lucro\n",
      "True     39\n",
      "False    36\n",
      "Name: count, dtype: int64\n"
     ]
    }
   ],
   "source": [
    "concentracao_valores(dados_modelo_prejuizo_lucro, 'prejuizo_lucro')"
   ]
  },
  {
   "cell_type": "code",
   "execution_count": 43,
   "id": "734d27f5",
   "metadata": {},
   "outputs": [
    {
     "name": "stdout",
     "output_type": "stream",
     "text": [
      "Menores Valores\n",
      "----------------------\n",
      "eliminatorio                    -0.411726\n",
      "anunciou_poupar                 -0.386976\n",
      "campeonato_carioca              -0.346580\n",
      "tipo_partida_volta              -0.329739\n",
      "time_adversario_Portuguesa-RJ   -0.212459\n",
      "estádio_Luso Brasileiro         -0.212459\n",
      "fase_segunda fase               -0.212459\n",
      "Name: prejuizo_lucro, dtype: float64\n",
      "======================\n",
      "Maiores Valores\n",
      "----------------------\n",
      "prejuizo_lucro         1.000000\n",
      "tipo_partida_liga      0.411726\n",
      "campeonato_serie a     0.358115\n",
      "mes                    0.298085\n",
      "fase_fase de grupos    0.283315\n",
      "rodada                 0.283177\n",
      "classico               0.245535\n",
      "Name: prejuizo_lucro, dtype: float64\n"
     ]
    }
   ],
   "source": [
    "correlacao_modelos(dados_modelo_prejuizo_lucro, 'prejuizo_lucro')"
   ]
  },
  {
   "cell_type": "markdown",
   "id": "dcdca81a",
   "metadata": {},
   "source": [
    "##### Modelo 3"
   ]
  },
  {
   "cell_type": "code",
   "execution_count": 44,
   "id": "a0d247bb",
   "metadata": {},
   "outputs": [
    {
     "name": "stdout",
     "output_type": "stream",
     "text": [
      "resultado_partida\n",
      " 1.0    39\n",
      "-1.0    21\n",
      " 0.0    15\n",
      "Name: count, dtype: int64\n"
     ]
    }
   ],
   "source": [
    "concentracao_valores(dados_modelo_resultado_partida, 'resultado_partida')"
   ]
  },
  {
   "cell_type": "code",
   "execution_count": 45,
   "id": "1b18045c",
   "metadata": {},
   "outputs": [
    {
     "name": "stdout",
     "output_type": "stream",
     "text": [
      "Menores Valores\n",
      "----------------------\n",
      "tecnico_botafogo_Lúcio Flávio   -0.322590\n",
      "rodada                          -0.305442\n",
      "classico                        -0.296770\n",
      "time_adversario_Flamengo        -0.293763\n",
      "mes                             -0.254602\n",
      "estado_adversario_MT            -0.238208\n",
      "time_adversario_Cuiabá-MT       -0.238208\n",
      "Name: resultado_partida, dtype: float64\n",
      "======================\n",
      "Maiores Valores\n",
      "----------------------\n",
      "resultado_partida              1.000000\n",
      "resultados_ultimo_jogo         0.589292\n",
      "gols_botafogo_ultimos_jogos    0.315000\n",
      "ano_campeonato                 0.306034\n",
      "eliminatorio                   0.232689\n",
      "dia_mes                        0.231696\n",
      "tipo_partida_volta             0.209403\n",
      "Name: resultado_partida, dtype: float64\n"
     ]
    }
   ],
   "source": [
    "correlacao_modelos(dados_modelo_resultado_partida, 'resultado_partida')"
   ]
  },
  {
   "cell_type": "markdown",
   "id": "43861abd",
   "metadata": {},
   "source": [
    "### Modelagem"
   ]
  },
  {
   "cell_type": "markdown",
   "id": "833d1c89",
   "metadata": {},
   "source": [
    "##### Modelo 1"
   ]
  },
  {
   "cell_type": "code",
   "execution_count": 46,
   "id": "311aac7e",
   "metadata": {},
   "outputs": [],
   "source": [
    "X = dados_modelo_percentual_ocupacao.drop(columns=['percentual_ocupacao']).copy()\n",
    "y = dados_modelo_percentual_ocupacao[['percentual_ocupacao']]"
   ]
  },
  {
   "cell_type": "code",
   "execution_count": 47,
   "id": "3db440b1",
   "metadata": {},
   "outputs": [],
   "source": [
    "X_train, X_test, y_train, y_test = train_test_split( X, y, test_size=0.2, random_state=42)\n",
    "eval_set = [(X_test, y_test)]"
   ]
  },
  {
   "cell_type": "code",
   "execution_count": 48,
   "id": "6bcc7598",
   "metadata": {},
   "outputs": [
    {
     "name": "stdout",
     "output_type": "stream",
     "text": [
      "Testando Variáveis: max_depth, min_child_weight\n",
      "Melhores valores:  {'max_depth': 3, 'min_child_weight': 1}\n",
      "-----------------------------\n",
      "Testando Variáveis:gamma\n",
      "Melhores valores:  {'gamma': 0.0}\n",
      "-----------------------------\n",
      "Testando Variáveis: subsample, colsample_bytree\n",
      "Melhores valores:  {'colsample_bytree': 0.6, 'subsample': 0.6}\n",
      "-----------------------------\n",
      "Testando Variáveis: reg_alpha\n",
      "Melhores valores:  {'reg_alpha': 1e-05}\n",
      "-----------------------------\n"
     ]
    }
   ],
   "source": [
    "tunning_hiperpametros(XGBRegressor, X_train, y_train)"
   ]
  },
  {
   "cell_type": "code",
   "execution_count": 50,
   "id": "32b78ac0",
   "metadata": {},
   "outputs": [
    {
     "name": "stdout",
     "output_type": "stream",
     "text": [
      "[0]\tvalidation_0-rmse:22.66882\n",
      "[1]\tvalidation_0-rmse:22.60791\n",
      "[2]\tvalidation_0-rmse:22.51185\n",
      "[3]\tvalidation_0-rmse:22.50260\n",
      "[4]\tvalidation_0-rmse:22.44313\n",
      "[5]\tvalidation_0-rmse:22.33219\n",
      "[6]\tvalidation_0-rmse:22.23477\n",
      "[7]\tvalidation_0-rmse:22.20786\n",
      "[8]\tvalidation_0-rmse:22.12647\n",
      "[9]\tvalidation_0-rmse:22.12627\n",
      "[10]\tvalidation_0-rmse:22.05401\n",
      "[11]\tvalidation_0-rmse:21.98443\n",
      "[12]\tvalidation_0-rmse:21.94146\n",
      "[13]\tvalidation_0-rmse:21.87340\n",
      "[14]\tvalidation_0-rmse:21.80987\n",
      "[15]\tvalidation_0-rmse:21.77272\n",
      "[16]\tvalidation_0-rmse:21.77648\n",
      "[17]\tvalidation_0-rmse:21.73843\n",
      "[18]\tvalidation_0-rmse:21.72351\n",
      "[19]\tvalidation_0-rmse:21.67427\n",
      "[20]\tvalidation_0-rmse:21.59558\n",
      "[21]\tvalidation_0-rmse:21.53385\n",
      "[22]\tvalidation_0-rmse:21.49844\n",
      "[23]\tvalidation_0-rmse:21.49514\n",
      "[24]\tvalidation_0-rmse:21.48751\n",
      "[25]\tvalidation_0-rmse:21.41046\n",
      "[26]\tvalidation_0-rmse:21.30169\n",
      "[27]\tvalidation_0-rmse:21.31045\n",
      "[28]\tvalidation_0-rmse:21.28613\n",
      "[29]\tvalidation_0-rmse:21.22192\n",
      "[30]\tvalidation_0-rmse:21.18044\n",
      "[31]\tvalidation_0-rmse:21.14346\n",
      "[32]\tvalidation_0-rmse:21.07720\n",
      "[33]\tvalidation_0-rmse:21.04875\n",
      "[34]\tvalidation_0-rmse:20.98850\n",
      "[35]\tvalidation_0-rmse:20.91264\n",
      "[36]\tvalidation_0-rmse:20.88589\n",
      "[37]\tvalidation_0-rmse:20.82335\n",
      "[38]\tvalidation_0-rmse:20.77756\n",
      "[39]\tvalidation_0-rmse:20.79983\n",
      "[40]\tvalidation_0-rmse:20.76345\n",
      "[41]\tvalidation_0-rmse:20.71989\n",
      "[42]\tvalidation_0-rmse:20.72896\n",
      "[43]\tvalidation_0-rmse:20.65300\n",
      "[44]\tvalidation_0-rmse:20.64770\n",
      "[45]\tvalidation_0-rmse:20.64461\n",
      "[46]\tvalidation_0-rmse:20.57693\n",
      "[47]\tvalidation_0-rmse:20.53617\n",
      "[48]\tvalidation_0-rmse:20.47732\n",
      "[49]\tvalidation_0-rmse:20.43213\n",
      "[50]\tvalidation_0-rmse:20.39476\n",
      "[51]\tvalidation_0-rmse:20.40034\n",
      "[52]\tvalidation_0-rmse:20.38051\n",
      "[53]\tvalidation_0-rmse:20.32544\n",
      "[54]\tvalidation_0-rmse:20.24451\n",
      "[55]\tvalidation_0-rmse:20.21731\n",
      "[56]\tvalidation_0-rmse:20.21274\n",
      "[57]\tvalidation_0-rmse:20.17701\n",
      "[58]\tvalidation_0-rmse:20.15790\n",
      "[59]\tvalidation_0-rmse:20.06758\n",
      "[60]\tvalidation_0-rmse:20.01234\n",
      "[61]\tvalidation_0-rmse:19.99620\n",
      "[62]\tvalidation_0-rmse:19.95303\n",
      "[63]\tvalidation_0-rmse:19.96691\n",
      "[64]\tvalidation_0-rmse:19.96215\n",
      "[65]\tvalidation_0-rmse:19.90222\n",
      "[66]\tvalidation_0-rmse:19.87602\n",
      "[67]\tvalidation_0-rmse:19.80328\n",
      "[68]\tvalidation_0-rmse:19.79382\n",
      "[69]\tvalidation_0-rmse:19.75683\n",
      "[70]\tvalidation_0-rmse:19.71489\n",
      "[71]\tvalidation_0-rmse:19.74963\n",
      "[72]\tvalidation_0-rmse:19.70362\n",
      "[73]\tvalidation_0-rmse:19.71552\n",
      "[74]\tvalidation_0-rmse:19.71231\n",
      "[75]\tvalidation_0-rmse:19.65187\n",
      "[76]\tvalidation_0-rmse:19.61301\n",
      "[77]\tvalidation_0-rmse:19.58516\n",
      "[78]\tvalidation_0-rmse:19.57162\n",
      "[79]\tvalidation_0-rmse:19.54184\n",
      "[80]\tvalidation_0-rmse:19.53596\n",
      "[81]\tvalidation_0-rmse:19.49943\n",
      "[82]\tvalidation_0-rmse:19.47358\n",
      "[83]\tvalidation_0-rmse:19.47585\n",
      "[84]\tvalidation_0-rmse:19.44083\n",
      "[85]\tvalidation_0-rmse:19.45006\n",
      "[86]\tvalidation_0-rmse:19.43760\n",
      "[87]\tvalidation_0-rmse:19.40661\n",
      "[88]\tvalidation_0-rmse:19.37152\n",
      "[89]\tvalidation_0-rmse:19.32066\n",
      "[90]\tvalidation_0-rmse:19.30709\n",
      "[91]\tvalidation_0-rmse:19.27776\n",
      "[92]\tvalidation_0-rmse:19.22087\n",
      "[93]\tvalidation_0-rmse:19.18089\n",
      "[94]\tvalidation_0-rmse:19.18367\n",
      "[95]\tvalidation_0-rmse:19.13657\n",
      "[96]\tvalidation_0-rmse:19.14681\n",
      "[97]\tvalidation_0-rmse:19.10123\n",
      "[98]\tvalidation_0-rmse:19.08515\n",
      "[99]\tvalidation_0-rmse:19.07415\n",
      "[100]\tvalidation_0-rmse:19.05488\n",
      "[101]\tvalidation_0-rmse:19.01584\n",
      "[102]\tvalidation_0-rmse:18.99306\n",
      "[103]\tvalidation_0-rmse:18.94816\n",
      "[104]\tvalidation_0-rmse:18.94448\n",
      "[105]\tvalidation_0-rmse:18.92789\n",
      "[106]\tvalidation_0-rmse:18.88222\n",
      "[107]\tvalidation_0-rmse:18.88480\n",
      "[108]\tvalidation_0-rmse:18.87746\n",
      "[109]\tvalidation_0-rmse:18.84768\n",
      "[110]\tvalidation_0-rmse:18.81288\n",
      "[111]\tvalidation_0-rmse:18.76652\n",
      "[112]\tvalidation_0-rmse:18.76420\n",
      "[113]\tvalidation_0-rmse:18.73318\n",
      "[114]\tvalidation_0-rmse:18.70897\n",
      "[115]\tvalidation_0-rmse:18.67104\n",
      "[116]\tvalidation_0-rmse:18.62666\n",
      "[117]\tvalidation_0-rmse:18.61020\n",
      "[118]\tvalidation_0-rmse:18.60957\n",
      "[119]\tvalidation_0-rmse:18.59871\n",
      "[120]\tvalidation_0-rmse:18.59270\n",
      "[121]\tvalidation_0-rmse:18.54749\n",
      "[122]\tvalidation_0-rmse:18.54148\n",
      "[123]\tvalidation_0-rmse:18.54502\n",
      "[124]\tvalidation_0-rmse:18.53800\n",
      "[125]\tvalidation_0-rmse:18.59083\n",
      "[126]\tvalidation_0-rmse:18.54519\n",
      "[127]\tvalidation_0-rmse:18.53357\n",
      "[128]\tvalidation_0-rmse:18.51842\n",
      "[129]\tvalidation_0-rmse:18.54844\n",
      "[130]\tvalidation_0-rmse:18.48159\n",
      "[131]\tvalidation_0-rmse:18.44736\n",
      "[132]\tvalidation_0-rmse:18.41526\n",
      "[133]\tvalidation_0-rmse:18.43025\n",
      "[134]\tvalidation_0-rmse:18.42975\n",
      "[135]\tvalidation_0-rmse:18.41160\n",
      "[136]\tvalidation_0-rmse:18.35811\n",
      "[137]\tvalidation_0-rmse:18.33577\n",
      "[138]\tvalidation_0-rmse:18.28672\n",
      "[139]\tvalidation_0-rmse:18.28456\n",
      "[140]\tvalidation_0-rmse:18.31961\n",
      "[141]\tvalidation_0-rmse:18.29582\n",
      "[142]\tvalidation_0-rmse:18.29441\n",
      "[143]\tvalidation_0-rmse:18.28565\n",
      "[144]\tvalidation_0-rmse:18.25346\n",
      "[145]\tvalidation_0-rmse:18.24534\n",
      "[146]\tvalidation_0-rmse:18.27400\n",
      "[147]\tvalidation_0-rmse:18.24724\n",
      "[148]\tvalidation_0-rmse:18.25520\n",
      "[149]\tvalidation_0-rmse:18.21048\n",
      "[150]\tvalidation_0-rmse:18.22368\n",
      "[151]\tvalidation_0-rmse:18.18217\n",
      "[152]\tvalidation_0-rmse:18.17992\n",
      "[153]\tvalidation_0-rmse:18.17129\n",
      "[154]\tvalidation_0-rmse:18.15206\n",
      "[155]\tvalidation_0-rmse:18.15466\n",
      "[156]\tvalidation_0-rmse:18.11770\n",
      "[157]\tvalidation_0-rmse:18.12413\n",
      "[158]\tvalidation_0-rmse:18.12378\n",
      "[159]\tvalidation_0-rmse:18.12879\n",
      "[160]\tvalidation_0-rmse:18.14861\n",
      "[161]\tvalidation_0-rmse:18.14760\n",
      "[162]\tvalidation_0-rmse:18.12781\n",
      "[163]\tvalidation_0-rmse:18.12763\n",
      "[164]\tvalidation_0-rmse:18.16058\n",
      "[165]\tvalidation_0-rmse:18.14485\n",
      "[166]\tvalidation_0-rmse:18.13382\n"
     ]
    },
    {
     "data": {
      "text/html": [
       "<style>#sk-container-id-1 {color: black;}#sk-container-id-1 pre{padding: 0;}#sk-container-id-1 div.sk-toggleable {background-color: white;}#sk-container-id-1 label.sk-toggleable__label {cursor: pointer;display: block;width: 100%;margin-bottom: 0;padding: 0.3em;box-sizing: border-box;text-align: center;}#sk-container-id-1 label.sk-toggleable__label-arrow:before {content: \"▸\";float: left;margin-right: 0.25em;color: #696969;}#sk-container-id-1 label.sk-toggleable__label-arrow:hover:before {color: black;}#sk-container-id-1 div.sk-estimator:hover label.sk-toggleable__label-arrow:before {color: black;}#sk-container-id-1 div.sk-toggleable__content {max-height: 0;max-width: 0;overflow: hidden;text-align: left;background-color: #f0f8ff;}#sk-container-id-1 div.sk-toggleable__content pre {margin: 0.2em;color: black;border-radius: 0.25em;background-color: #f0f8ff;}#sk-container-id-1 input.sk-toggleable__control:checked~div.sk-toggleable__content {max-height: 200px;max-width: 100%;overflow: auto;}#sk-container-id-1 input.sk-toggleable__control:checked~label.sk-toggleable__label-arrow:before {content: \"▾\";}#sk-container-id-1 div.sk-estimator input.sk-toggleable__control:checked~label.sk-toggleable__label {background-color: #d4ebff;}#sk-container-id-1 div.sk-label input.sk-toggleable__control:checked~label.sk-toggleable__label {background-color: #d4ebff;}#sk-container-id-1 input.sk-hidden--visually {border: 0;clip: rect(1px 1px 1px 1px);clip: rect(1px, 1px, 1px, 1px);height: 1px;margin: -1px;overflow: hidden;padding: 0;position: absolute;width: 1px;}#sk-container-id-1 div.sk-estimator {font-family: monospace;background-color: #f0f8ff;border: 1px dotted black;border-radius: 0.25em;box-sizing: border-box;margin-bottom: 0.5em;}#sk-container-id-1 div.sk-estimator:hover {background-color: #d4ebff;}#sk-container-id-1 div.sk-parallel-item::after {content: \"\";width: 100%;border-bottom: 1px solid gray;flex-grow: 1;}#sk-container-id-1 div.sk-label:hover label.sk-toggleable__label {background-color: #d4ebff;}#sk-container-id-1 div.sk-serial::before {content: \"\";position: absolute;border-left: 1px solid gray;box-sizing: border-box;top: 0;bottom: 0;left: 50%;z-index: 0;}#sk-container-id-1 div.sk-serial {display: flex;flex-direction: column;align-items: center;background-color: white;padding-right: 0.2em;padding-left: 0.2em;position: relative;}#sk-container-id-1 div.sk-item {position: relative;z-index: 1;}#sk-container-id-1 div.sk-parallel {display: flex;align-items: stretch;justify-content: center;background-color: white;position: relative;}#sk-container-id-1 div.sk-item::before, #sk-container-id-1 div.sk-parallel-item::before {content: \"\";position: absolute;border-left: 1px solid gray;box-sizing: border-box;top: 0;bottom: 0;left: 50%;z-index: -1;}#sk-container-id-1 div.sk-parallel-item {display: flex;flex-direction: column;z-index: 1;position: relative;background-color: white;}#sk-container-id-1 div.sk-parallel-item:first-child::after {align-self: flex-end;width: 50%;}#sk-container-id-1 div.sk-parallel-item:last-child::after {align-self: flex-start;width: 50%;}#sk-container-id-1 div.sk-parallel-item:only-child::after {width: 0;}#sk-container-id-1 div.sk-dashed-wrapped {border: 1px dashed gray;margin: 0 0.4em 0.5em 0.4em;box-sizing: border-box;padding-bottom: 0.4em;background-color: white;}#sk-container-id-1 div.sk-label label {font-family: monospace;font-weight: bold;display: inline-block;line-height: 1.2em;}#sk-container-id-1 div.sk-label-container {text-align: center;}#sk-container-id-1 div.sk-container {/* jupyter's `normalize.less` sets `[hidden] { display: none; }` but bootstrap.min.css set `[hidden] { display: none !important; }` so we also need the `!important` here to be able to override the default hidden behavior on the sphinx rendered scikit-learn.org. See: https://github.com/scikit-learn/scikit-learn/issues/21755 */display: inline-block !important;position: relative;}#sk-container-id-1 div.sk-text-repr-fallback {display: none;}</style><div id=\"sk-container-id-1\" class=\"sk-top-container\"><div class=\"sk-text-repr-fallback\"><pre>XGBRegressor(base_score=None, booster=None, callbacks=None,\n",
       "             colsample_bylevel=None, colsample_bynode=None,\n",
       "             colsample_bytree=0.6, device=None, early_stopping_rounds=None,\n",
       "             enable_categorical=False, eval_metric=None, feature_types=None,\n",
       "             gamma=0.0, grow_policy=None, importance_type=None,\n",
       "             interaction_constraints=None, learning_rate=0.01, max_bin=None,\n",
       "             max_cat_threshold=None, max_cat_to_onehot=None,\n",
       "             max_delta_step=None, max_depth=3, max_leaves=None,\n",
       "             min_child_weight=1, missing=nan, monotone_constraints=None,\n",
       "             multi_strategy=None, n_estimators=10000, n_jobs=-1,\n",
       "             num_parallel_tree=None, random_state=1, ...)</pre><b>In a Jupyter environment, please rerun this cell to show the HTML representation or trust the notebook. <br />On GitHub, the HTML representation is unable to render, please try loading this page with nbviewer.org.</b></div><div class=\"sk-container\" hidden><div class=\"sk-item\"><div class=\"sk-estimator sk-toggleable\"><input class=\"sk-toggleable__control sk-hidden--visually\" id=\"sk-estimator-id-1\" type=\"checkbox\" checked><label for=\"sk-estimator-id-1\" class=\"sk-toggleable__label sk-toggleable__label-arrow\">XGBRegressor</label><div class=\"sk-toggleable__content\"><pre>XGBRegressor(base_score=None, booster=None, callbacks=None,\n",
       "             colsample_bylevel=None, colsample_bynode=None,\n",
       "             colsample_bytree=0.6, device=None, early_stopping_rounds=None,\n",
       "             enable_categorical=False, eval_metric=None, feature_types=None,\n",
       "             gamma=0.0, grow_policy=None, importance_type=None,\n",
       "             interaction_constraints=None, learning_rate=0.01, max_bin=None,\n",
       "             max_cat_threshold=None, max_cat_to_onehot=None,\n",
       "             max_delta_step=None, max_depth=3, max_leaves=None,\n",
       "             min_child_weight=1, missing=nan, monotone_constraints=None,\n",
       "             multi_strategy=None, n_estimators=10000, n_jobs=-1,\n",
       "             num_parallel_tree=None, random_state=1, ...)</pre></div></div></div></div></div>"
      ],
      "text/plain": [
       "XGBRegressor(base_score=None, booster=None, callbacks=None,\n",
       "             colsample_bylevel=None, colsample_bynode=None,\n",
       "             colsample_bytree=0.6, device=None, early_stopping_rounds=None,\n",
       "             enable_categorical=False, eval_metric=None, feature_types=None,\n",
       "             gamma=0.0, grow_policy=None, importance_type=None,\n",
       "             interaction_constraints=None, learning_rate=0.01, max_bin=None,\n",
       "             max_cat_threshold=None, max_cat_to_onehot=None,\n",
       "             max_delta_step=None, max_depth=3, max_leaves=None,\n",
       "             min_child_weight=1, missing=nan, monotone_constraints=None,\n",
       "             multi_strategy=None, n_estimators=10000, n_jobs=-1,\n",
       "             num_parallel_tree=None, random_state=1, ...)"
      ]
     },
     "execution_count": 50,
     "metadata": {},
     "output_type": "execute_result"
    }
   ],
   "source": [
    "model = XGBRegressor(verbosity=0, learning_rate=0.01, max_depth=3, n_estimators=10000, n_jobs=-1, random_state=1,\n",
    "                    min_child_weight=1, gamma = 0.0, subsample = 0.6, colsample_bytree = 0.6, scale_pos_weight = 1,\n",
    "                    reg_alpha= 1e-05)\n",
    "model.fit(X_train, y_train, \n",
    "          early_stopping_rounds=10,\n",
    "          eval_set=eval_set, eval_metric='rmse', verbose = 1)"
   ]
  },
  {
   "cell_type": "code",
   "execution_count": 51,
   "id": "9cbee034",
   "metadata": {},
   "outputs": [
    {
     "data": {
      "text/plain": [
       "array([0.01222534, 0.01199414, 0.01956961, 0.00924823, 0.02022652,\n",
       "       0.01394219, 0.        , 0.        , 0.03239765, 0.01642683,\n",
       "       0.0122997 , 0.01195388, 0.02404445, 0.01078195, 0.01644286,\n",
       "       0.00045368, 0.04774002, 0.01631664, 0.00720533, 0.02230491,\n",
       "       0.04023426, 0.00591411, 0.00129392, 0.        , 0.00617994,\n",
       "       0.00123654, 0.0115292 , 0.01625912, 0.        , 0.01327785,\n",
       "       0.        , 0.01951195, 0.01896449, 0.        , 0.01095991,\n",
       "       0.        , 0.01098615, 0.        , 0.00922944, 0.        ,\n",
       "       0.00118952, 0.01390412, 0.01384992, 0.        , 0.        ,\n",
       "       0.0053999 , 0.01856548, 0.05154458, 0.01403677, 0.01067845,\n",
       "       0.01805838, 0.01406633, 0.0227995 , 0.02085852, 0.01562491,\n",
       "       0.03332138, 0.01559775, 0.01353483, 0.01211662, 0.01193215,\n",
       "       0.01065114, 0.        , 0.00928882, 0.        , 0.        ,\n",
       "       0.00211674, 0.        , 0.        , 0.        , 0.00017623,\n",
       "       0.01285718, 0.        , 0.        , 0.01601531, 0.00665854,\n",
       "       0.        , 0.        , 0.        , 0.00174188, 0.01425185,\n",
       "       0.        , 0.01361701, 0.        , 0.        , 0.        ,\n",
       "       0.02113112, 0.        , 0.        , 0.00191002, 0.        ,\n",
       "       0.00457864, 0.        , 0.        , 0.        , 0.01121431,\n",
       "       0.        , 0.        , 0.01634129, 0.        , 0.        ,\n",
       "       0.        , 0.        , 0.01584322, 0.02625564, 0.        ,\n",
       "       0.01290192, 0.005351  , 0.        , 0.        , 0.        ,\n",
       "       0.01886831], dtype=float32)"
      ]
     },
     "execution_count": 51,
     "metadata": {},
     "output_type": "execute_result"
    }
   ],
   "source": [
    "model.feature_importances_"
   ]
  },
  {
   "cell_type": "code",
   "execution_count": 52,
   "id": "5839f548",
   "metadata": {},
   "outputs": [
    {
     "data": {
      "text/plain": [
       "<Axes: title={'center': 'Feature importance'}, xlabel='F score', ylabel='Features'>"
      ]
     },
     "execution_count": 52,
     "metadata": {},
     "output_type": "execute_result"
    },
    {
     "data": {
      "image/png": "[encoded data removed]",
      "text/plain": [
       "<Figure size 640x480 with 1 Axes>"
      ]
     },
     "metadata": {},
     "output_type": "display_data"
    }
   ],
   "source": [
    "plot_importance(model, max_num_features=20)"
   ]
  },
  {
   "cell_type": "code",
   "execution_count": 53,
   "id": "3359ac7b",
   "metadata": {},
   "outputs": [
    {
     "data": {
      "text/plain": [
       "0.6630197572164036"
      ]
     },
     "execution_count": 53,
     "metadata": {},
     "output_type": "execute_result"
    }
   ],
   "source": [
    "score = model.score(X_train, y_train)  \n",
    "score"
   ]
  },
  {
   "cell_type": "code",
   "execution_count": 54,
   "id": "00939a09",
   "metadata": {},
   "outputs": [
    {
     "data": {
      "text/plain": [
       "15"
      ]
     },
     "execution_count": 54,
     "metadata": {},
     "output_type": "execute_result"
    }
   ],
   "source": [
    "y_pred = model.predict(X_test)\n",
    "predictions = [round(value, 2) for value in y_pred]\n",
    "len(predictions)"
   ]
  },
  {
   "cell_type": "code",
   "execution_count": 55,
   "id": "cc6af5f6",
   "metadata": {},
   "outputs": [
    {
     "data": {
      "text/plain": [
       "Text(0.5, 1.0, 'Previsão Ocupação')"
      ]
     },
     "execution_count": 55,
     "metadata": {},
     "output_type": "execute_result"
    },
    {
     "data": {
      "image/png": "[encoded data removed]",
      "text/plain": [
       "<Figure size 1000x400 with 1 Axes>"
      ]
     },
     "metadata": {},
     "output_type": "display_data"
    }
   ],
   "source": [
    "y_test = y_test.reset_index(drop=True)\n",
    "fig, ax = plt.subplots(figsize=(10, 4))\n",
    "ax.plot(y_test, label='Ocupação')\n",
    "ax.plot(predictions, label='Previsão')\n",
    "ax.legend()\n",
    "ax.set_title(\"Previsão Ocupação\")"
   ]
  },
  {
   "cell_type": "code",
   "execution_count": 56,
   "id": "fe55d0b9",
   "metadata": {},
   "outputs": [
    {
     "name": "stdout",
     "output_type": "stream",
     "text": [
      "Erro médio quadrático:  18.116246740035383\n",
      "Erro médio absoluto:  15.56399977620443\n"
     ]
    }
   ],
   "source": [
    "taxas_erro(y_test, predictions)"
   ]
  },
  {
   "cell_type": "markdown",
   "id": "500d5f3e",
   "metadata": {},
   "source": [
    "##### Previsões"
   ]
  },
  {
   "cell_type": "code",
   "execution_count": 57,
   "id": "4aa40b0e",
   "metadata": {},
   "outputs": [],
   "source": [
    "dataset_previsao_modelo = dataset_previsao.drop(columns=['percentual_ocupacao', 'prejuizo_lucro', 'resultado_partida']\n",
    "                                               ).copy().reset_index(drop=True).loc[:0]"
   ]
  },
  {
   "cell_type": "code",
   "execution_count": 58,
   "id": "ec34f325",
   "metadata": {},
   "outputs": [
    {
     "data": {
      "text/plain": [
       "array([55.472332], dtype=float32)"
      ]
     },
     "execution_count": 58,
     "metadata": {},
     "output_type": "execute_result"
    }
   ],
   "source": [
    "model.predict(dataset_previsao_modelo)"
   ]
  },
  {
   "cell_type": "markdown",
   "id": "1f025200",
   "metadata": {},
   "source": [
    "##### Modelo 2"
   ]
  },
  {
   "cell_type": "code",
   "execution_count": 59,
   "id": "25a68082",
   "metadata": {},
   "outputs": [],
   "source": [
    "dados_modelo_prejuizo_lucro = dados_modelo_prejuizo_lucro[~dados_modelo_prejuizo_lucro['prejuizo_lucro'].isna() == True].reset_index(drop=True)"
   ]
  },
  {
   "cell_type": "code",
   "execution_count": 60,
   "id": "d7adb01c",
   "metadata": {},
   "outputs": [],
   "source": [
    "X = dados_modelo_prejuizo_lucro.drop(columns=['prejuizo_lucro']).copy()\n",
    "y = dados_modelo_prejuizo_lucro[['prejuizo_lucro']]"
   ]
  },
  {
   "cell_type": "code",
   "execution_count": 61,
   "id": "b03289a6",
   "metadata": {},
   "outputs": [],
   "source": [
    "X_train, X_test, y_train, y_test = train_test_split(X, y, test_size=0.2, random_state=42)\n",
    "eval_set = [(X_test, y_test)]"
   ]
  },
  {
   "cell_type": "code",
   "execution_count": 62,
   "id": "1a98ff9b",
   "metadata": {},
   "outputs": [
    {
     "name": "stdout",
     "output_type": "stream",
     "text": [
      "Testando Variáveis: max_depth, min_child_weight\n",
      "Melhores valores:  {'max_depth': 3, 'min_child_weight': 1}\n",
      "-----------------------------\n",
      "Testando Variáveis:gamma\n",
      "Melhores valores:  {'gamma': 0.1}\n",
      "-----------------------------\n",
      "Testando Variáveis: subsample, colsample_bytree\n",
      "Melhores valores:  {'colsample_bytree': 0.8, 'subsample': 0.8}\n",
      "-----------------------------\n",
      "Testando Variáveis: reg_alpha\n",
      "Melhores valores:  {'reg_alpha': 1e-05}\n",
      "-----------------------------\n"
     ]
    }
   ],
   "source": [
    "tunning_hiperpametros(XGBClassifier, X_train, y_train)"
   ]
  },
  {
   "cell_type": "code",
   "execution_count": 63,
   "id": "d1d957d5",
   "metadata": {},
   "outputs": [
    {
     "name": "stdout",
     "output_type": "stream",
     "text": [
      "[0]\tvalidation_0-auc:0.44643\n",
      "[1]\tvalidation_0-auc:0.71429\n",
      "[2]\tvalidation_0-auc:0.75000\n",
      "[3]\tvalidation_0-auc:0.68750\n",
      "[4]\tvalidation_0-auc:0.66964\n",
      "[5]\tvalidation_0-auc:0.75000\n",
      "[6]\tvalidation_0-auc:0.75000\n",
      "[7]\tvalidation_0-auc:0.76786\n",
      "[8]\tvalidation_0-auc:0.78571\n",
      "[9]\tvalidation_0-auc:0.85714\n",
      "[10]\tvalidation_0-auc:0.85714\n",
      "[11]\tvalidation_0-auc:0.85714\n",
      "[12]\tvalidation_0-auc:0.85714\n",
      "[13]\tvalidation_0-auc:0.85714\n",
      "[14]\tvalidation_0-auc:0.85714\n",
      "[15]\tvalidation_0-auc:0.85714\n",
      "[16]\tvalidation_0-auc:0.85714\n",
      "[17]\tvalidation_0-auc:0.85714\n",
      "[18]\tvalidation_0-auc:0.83929\n"
     ]
    },
    {
     "data": {
      "text/html": [
       "<style>#sk-container-id-2 {color: black;}#sk-container-id-2 pre{padding: 0;}#sk-container-id-2 div.sk-toggleable {background-color: white;}#sk-container-id-2 label.sk-toggleable__label {cursor: pointer;display: block;width: 100%;margin-bottom: 0;padding: 0.3em;box-sizing: border-box;text-align: center;}#sk-container-id-2 label.sk-toggleable__label-arrow:before {content: \"▸\";float: left;margin-right: 0.25em;color: #696969;}#sk-container-id-2 label.sk-toggleable__label-arrow:hover:before {color: black;}#sk-container-id-2 div.sk-estimator:hover label.sk-toggleable__label-arrow:before {color: black;}#sk-container-id-2 div.sk-toggleable__content {max-height: 0;max-width: 0;overflow: hidden;text-align: left;background-color: #f0f8ff;}#sk-container-id-2 div.sk-toggleable__content pre {margin: 0.2em;color: black;border-radius: 0.25em;background-color: #f0f8ff;}#sk-container-id-2 input.sk-toggleable__control:checked~div.sk-toggleable__content {max-height: 200px;max-width: 100%;overflow: auto;}#sk-container-id-2 input.sk-toggleable__control:checked~label.sk-toggleable__label-arrow:before {content: \"▾\";}#sk-container-id-2 div.sk-estimator input.sk-toggleable__control:checked~label.sk-toggleable__label {background-color: #d4ebff;}#sk-container-id-2 div.sk-label input.sk-toggleable__control:checked~label.sk-toggleable__label {background-color: #d4ebff;}#sk-container-id-2 input.sk-hidden--visually {border: 0;clip: rect(1px 1px 1px 1px);clip: rect(1px, 1px, 1px, 1px);height: 1px;margin: -1px;overflow: hidden;padding: 0;position: absolute;width: 1px;}#sk-container-id-2 div.sk-estimator {font-family: monospace;background-color: #f0f8ff;border: 1px dotted black;border-radius: 0.25em;box-sizing: border-box;margin-bottom: 0.5em;}#sk-container-id-2 div.sk-estimator:hover {background-color: #d4ebff;}#sk-container-id-2 div.sk-parallel-item::after {content: \"\";width: 100%;border-bottom: 1px solid gray;flex-grow: 1;}#sk-container-id-2 div.sk-label:hover label.sk-toggleable__label {background-color: #d4ebff;}#sk-container-id-2 div.sk-serial::before {content: \"\";position: absolute;border-left: 1px solid gray;box-sizing: border-box;top: 0;bottom: 0;left: 50%;z-index: 0;}#sk-container-id-2 div.sk-serial {display: flex;flex-direction: column;align-items: center;background-color: white;padding-right: 0.2em;padding-left: 0.2em;position: relative;}#sk-container-id-2 div.sk-item {position: relative;z-index: 1;}#sk-container-id-2 div.sk-parallel {display: flex;align-items: stretch;justify-content: center;background-color: white;position: relative;}#sk-container-id-2 div.sk-item::before, #sk-container-id-2 div.sk-parallel-item::before {content: \"\";position: absolute;border-left: 1px solid gray;box-sizing: border-box;top: 0;bottom: 0;left: 50%;z-index: -1;}#sk-container-id-2 div.sk-parallel-item {display: flex;flex-direction: column;z-index: 1;position: relative;background-color: white;}#sk-container-id-2 div.sk-parallel-item:first-child::after {align-self: flex-end;width: 50%;}#sk-container-id-2 div.sk-parallel-item:last-child::after {align-self: flex-start;width: 50%;}#sk-container-id-2 div.sk-parallel-item:only-child::after {width: 0;}#sk-container-id-2 div.sk-dashed-wrapped {border: 1px dashed gray;margin: 0 0.4em 0.5em 0.4em;box-sizing: border-box;padding-bottom: 0.4em;background-color: white;}#sk-container-id-2 div.sk-label label {font-family: monospace;font-weight: bold;display: inline-block;line-height: 1.2em;}#sk-container-id-2 div.sk-label-container {text-align: center;}#sk-container-id-2 div.sk-container {/* jupyter's `normalize.less` sets `[hidden] { display: none; }` but bootstrap.min.css set `[hidden] { display: none !important; }` so we also need the `!important` here to be able to override the default hidden behavior on the sphinx rendered scikit-learn.org. See: https://github.com/scikit-learn/scikit-learn/issues/21755 */display: inline-block !important;position: relative;}#sk-container-id-2 div.sk-text-repr-fallback {display: none;}</style><div id=\"sk-container-id-2\" class=\"sk-top-container\"><div class=\"sk-text-repr-fallback\"><pre>XGBClassifier(base_score=None, booster=None, callbacks=None,\n",
       "              colsample_bylevel=None, colsample_bynode=None,\n",
       "              colsample_bytree=0.8, device=None, early_stopping_rounds=None,\n",
       "              enable_categorical=False, eval_metric=None, feature_types=None,\n",
       "              gamma=0.1, grow_policy=None, importance_type=None,\n",
       "              interaction_constraints=None, learning_rate=0.01, max_bin=None,\n",
       "              max_cat_threshold=None, max_cat_to_onehot=None,\n",
       "              max_delta_step=None, max_depth=3, max_leaves=None,\n",
       "              min_child_weight=1, missing=nan, monotone_constraints=None,\n",
       "              multi_strategy=None, n_estimators=10000, n_jobs=-1,\n",
       "              num_parallel_tree=None, random_state=1, ...)</pre><b>In a Jupyter environment, please rerun this cell to show the HTML representation or trust the notebook. <br />On GitHub, the HTML representation is unable to render, please try loading this page with nbviewer.org.</b></div><div class=\"sk-container\" hidden><div class=\"sk-item\"><div class=\"sk-estimator sk-toggleable\"><input class=\"sk-toggleable__control sk-hidden--visually\" id=\"sk-estimator-id-2\" type=\"checkbox\" checked><label for=\"sk-estimator-id-2\" class=\"sk-toggleable__label sk-toggleable__label-arrow\">XGBClassifier</label><div class=\"sk-toggleable__content\"><pre>XGBClassifier(base_score=None, booster=None, callbacks=None,\n",
       "              colsample_bylevel=None, colsample_bynode=None,\n",
       "              colsample_bytree=0.8, device=None, early_stopping_rounds=None,\n",
       "              enable_categorical=False, eval_metric=None, feature_types=None,\n",
       "              gamma=0.1, grow_policy=None, importance_type=None,\n",
       "              interaction_constraints=None, learning_rate=0.01, max_bin=None,\n",
       "              max_cat_threshold=None, max_cat_to_onehot=None,\n",
       "              max_delta_step=None, max_depth=3, max_leaves=None,\n",
       "              min_child_weight=1, missing=nan, monotone_constraints=None,\n",
       "              multi_strategy=None, n_estimators=10000, n_jobs=-1,\n",
       "              num_parallel_tree=None, random_state=1, ...)</pre></div></div></div></div></div>"
      ],
      "text/plain": [
       "XGBClassifier(base_score=None, booster=None, callbacks=None,\n",
       "              colsample_bylevel=None, colsample_bynode=None,\n",
       "              colsample_bytree=0.8, device=None, early_stopping_rounds=None,\n",
       "              enable_categorical=False, eval_metric=None, feature_types=None,\n",
       "              gamma=0.1, grow_policy=None, importance_type=None,\n",
       "              interaction_constraints=None, learning_rate=0.01, max_bin=None,\n",
       "              max_cat_threshold=None, max_cat_to_onehot=None,\n",
       "              max_delta_step=None, max_depth=3, max_leaves=None,\n",
       "              min_child_weight=1, missing=nan, monotone_constraints=None,\n",
       "              multi_strategy=None, n_estimators=10000, n_jobs=-1,\n",
       "              num_parallel_tree=None, random_state=1, ...)"
      ]
     },
     "execution_count": 63,
     "metadata": {},
     "output_type": "execute_result"
    }
   ],
   "source": [
    "model = XGBClassifier(verbosity=0, learning_rate=0.01, max_depth=3, n_estimators=10000, n_jobs=-1, random_state=1,\n",
    "                    min_child_weight=1, gamma = 0.1, subsample = 0.8, colsample_bytree = 0.8, scale_pos_weight = 1,\n",
    "                    reg_alpha= 1)\n",
    "\n",
    "model.fit(X_train, y_train, \n",
    "          early_stopping_rounds=10,\n",
    "          eval_set=eval_set, eval_metric='auc', verbose = 1)"
   ]
  },
  {
   "cell_type": "code",
   "execution_count": 64,
   "id": "b4c3f196",
   "metadata": {},
   "outputs": [
    {
     "data": {
      "text/plain": [
       "array([0.06778661, 0.09016983, 0.17181486, 0.        , 0.04285517,\n",
       "       0.01357862, 0.        , 0.        , 0.06877469, 0.03742366,\n",
       "       0.0550073 , 0.01111706, 0.06045215, 0.03510184, 0.00742288,\n",
       "       0.        , 0.11336628, 0.        , 0.        , 0.        ,\n",
       "       0.13127857, 0.        , 0.        , 0.        , 0.        ,\n",
       "       0.        , 0.07443616, 0.        , 0.        , 0.        ,\n",
       "       0.        , 0.        , 0.        , 0.        , 0.        ,\n",
       "       0.        , 0.        , 0.        , 0.        , 0.        ,\n",
       "       0.        , 0.        , 0.        , 0.        , 0.        ,\n",
       "       0.        , 0.        , 0.01941427, 0.        , 0.        ,\n",
       "       0.        , 0.        , 0.        , 0.        , 0.        ,\n",
       "       0.        , 0.        , 0.        , 0.        , 0.        ,\n",
       "       0.        , 0.        , 0.        , 0.        , 0.        ,\n",
       "       0.        , 0.        , 0.        , 0.        , 0.        ,\n",
       "       0.        , 0.        , 0.        , 0.        , 0.        ,\n",
       "       0.        , 0.        , 0.        , 0.        , 0.        ,\n",
       "       0.        , 0.        , 0.        , 0.        , 0.        ,\n",
       "       0.        , 0.        , 0.        , 0.        , 0.        ,\n",
       "       0.        , 0.        , 0.        , 0.        , 0.        ,\n",
       "       0.        , 0.        , 0.        , 0.        , 0.        ,\n",
       "       0.        , 0.        , 0.        , 0.        , 0.        ,\n",
       "       0.        , 0.        , 0.        , 0.        , 0.        ,\n",
       "       0.        ], dtype=float32)"
      ]
     },
     "execution_count": 64,
     "metadata": {},
     "output_type": "execute_result"
    }
   ],
   "source": [
    "model.feature_importances_"
   ]
  },
  {
   "cell_type": "code",
   "execution_count": 65,
   "id": "6d578b60",
   "metadata": {},
   "outputs": [
    {
     "data": {
      "text/plain": [
       "<Axes: title={'center': 'Feature importance'}, xlabel='F score', ylabel='Features'>"
      ]
     },
     "execution_count": 65,
     "metadata": {},
     "output_type": "execute_result"
    },
    {
     "data": {
      "image/png": "[encoded data removed]",
      "text/plain": [
       "<Figure size 640x480 with 1 Axes>"
      ]
     },
     "metadata": {},
     "output_type": "display_data"
    }
   ],
   "source": [
    "plot_importance(model, max_num_features=20)"
   ]
  },
  {
   "cell_type": "code",
   "execution_count": 66,
   "id": "8ceecda6",
   "metadata": {},
   "outputs": [
    {
     "data": {
      "text/plain": [
       "0.5333333333333333"
      ]
     },
     "execution_count": 66,
     "metadata": {},
     "output_type": "execute_result"
    }
   ],
   "source": [
    "score = model.score(X_train, y_train)  \n",
    "score"
   ]
  },
  {
   "cell_type": "code",
   "execution_count": 67,
   "id": "3c8a1c17",
   "metadata": {},
   "outputs": [
    {
     "data": {
      "text/plain": [
       "15"
      ]
     },
     "execution_count": 67,
     "metadata": {},
     "output_type": "execute_result"
    }
   ],
   "source": [
    "y_pred = model.predict(X_test)\n",
    "predictions = [round(value, 2) for value in y_pred]\n",
    "len(predictions)"
   ]
  },
  {
   "cell_type": "code",
   "execution_count": 68,
   "id": "f1cd4ff6",
   "metadata": {},
   "outputs": [
    {
     "data": {
      "image/png": "[encoded data removed]",
      "text/plain": [
       "<Figure size 640x480 with 2 Axes>"
      ]
     },
     "metadata": {},
     "output_type": "display_data"
    }
   ],
   "source": [
    "sns.heatmap(confusion_matrix(y_test, predictions), \n",
    "            annot=True,\n",
    "            fmt='g')\n",
    "plt.ylabel('Previsão',fontsize=13)\n",
    "plt.xlabel('Acontecido',fontsize=13)\n",
    "plt.show()"
   ]
  },
  {
   "cell_type": "code",
   "execution_count": 69,
   "id": "be93a879",
   "metadata": {},
   "outputs": [
    {
     "name": "stdout",
     "output_type": "stream",
     "text": [
      "              precision    recall  f1-score   support\n",
      "\n",
      "       False       0.00      0.00      0.00         8\n",
      "        True       0.47      1.00      0.64         7\n",
      "\n",
      "    accuracy                           0.47        15\n",
      "   macro avg       0.23      0.50      0.32        15\n",
      "weighted avg       0.22      0.47      0.30        15\n",
      "\n"
     ]
    }
   ],
   "source": [
    "print(classification_report(y_test, predictions))"
   ]
  },
  {
   "cell_type": "markdown",
   "id": "1e5083d5",
   "metadata": {},
   "source": [
    "##### Previsões"
   ]
  },
  {
   "cell_type": "code",
   "execution_count": 70,
   "id": "67d52a32",
   "metadata": {},
   "outputs": [
    {
     "data": {
      "text/plain": [
       "array([1])"
      ]
     },
     "execution_count": 70,
     "metadata": {},
     "output_type": "execute_result"
    }
   ],
   "source": [
    "model.predict(dataset_previsao_modelo)"
   ]
  },
  {
   "cell_type": "markdown",
   "id": "2178b4f3",
   "metadata": {},
   "source": [
    "##### Modelo 3"
   ]
  },
  {
   "cell_type": "code",
   "execution_count": 71,
   "id": "d70df1cb",
   "metadata": {},
   "outputs": [],
   "source": [
    "X = dados_modelo_resultado_partida.drop(columns=['resultado_partida']).copy()\n",
    "y = dados_modelo_resultado_partida[['resultado_partida']]"
   ]
  },
  {
   "cell_type": "code",
   "execution_count": 72,
   "id": "1f93c4ae",
   "metadata": {},
   "outputs": [],
   "source": [
    "y.loc[y[y['resultado_partida'] == -1].index, 'resultado_partida'] = 2"
   ]
  },
  {
   "cell_type": "code",
   "execution_count": 73,
   "id": "028a931c",
   "metadata": {},
   "outputs": [],
   "source": [
    "y['resultado_partida'] = y['resultado_partida'].astype(int)"
   ]
  },
  {
   "cell_type": "code",
   "execution_count": 74,
   "id": "b9c3ab31",
   "metadata": {},
   "outputs": [],
   "source": [
    "X_train, X_test, y_train, y_test = train_test_split(X, y, test_size=0.2, random_state=42)\n",
    "eval_set = [(X_test, y_test)]"
   ]
  },
  {
   "cell_type": "code",
   "execution_count": 75,
   "id": "08db6641",
   "metadata": {},
   "outputs": [
    {
     "name": "stdout",
     "output_type": "stream",
     "text": [
      "Testando Variáveis: max_depth, min_child_weight\n",
      "Melhores valores:  {'max_depth': 3, 'min_child_weight': 1}\n",
      "-----------------------------\n",
      "Testando Variáveis:gamma\n",
      "Melhores valores:  {'gamma': 0.0}\n",
      "-----------------------------\n",
      "Testando Variáveis: subsample, colsample_bytree\n",
      "Melhores valores:  {'colsample_bytree': 0.6, 'subsample': 0.6}\n",
      "-----------------------------\n",
      "Testando Variáveis: reg_alpha\n",
      "Melhores valores:  {'reg_alpha': 1e-05}\n",
      "-----------------------------\n"
     ]
    }
   ],
   "source": [
    "tunning_hiperpametros(XGBClassifier, X_train, y_train)"
   ]
  },
  {
   "cell_type": "code",
   "execution_count": 76,
   "id": "2802c68e",
   "metadata": {},
   "outputs": [
    {
     "name": "stdout",
     "output_type": "stream",
     "text": [
      "[0]\tvalidation_0-auc:0.75667\n",
      "[1]\tvalidation_0-auc:0.80778\n",
      "[2]\tvalidation_0-auc:0.79667\n",
      "[3]\tvalidation_0-auc:0.74278\n",
      "[4]\tvalidation_0-auc:0.71611\n",
      "[5]\tvalidation_0-auc:0.72000\n",
      "[6]\tvalidation_0-auc:0.76889\n",
      "[7]\tvalidation_0-auc:0.75778\n",
      "[8]\tvalidation_0-auc:0.75167\n",
      "[9]\tvalidation_0-auc:0.73611\n",
      "[10]\tvalidation_0-auc:0.76833\n",
      "[11]\tvalidation_0-auc:0.74944\n"
     ]
    },
    {
     "data": {
      "text/html": [
       "<style>#sk-container-id-3 {color: black;}#sk-container-id-3 pre{padding: 0;}#sk-container-id-3 div.sk-toggleable {background-color: white;}#sk-container-id-3 label.sk-toggleable__label {cursor: pointer;display: block;width: 100%;margin-bottom: 0;padding: 0.3em;box-sizing: border-box;text-align: center;}#sk-container-id-3 label.sk-toggleable__label-arrow:before {content: \"▸\";float: left;margin-right: 0.25em;color: #696969;}#sk-container-id-3 label.sk-toggleable__label-arrow:hover:before {color: black;}#sk-container-id-3 div.sk-estimator:hover label.sk-toggleable__label-arrow:before {color: black;}#sk-container-id-3 div.sk-toggleable__content {max-height: 0;max-width: 0;overflow: hidden;text-align: left;background-color: #f0f8ff;}#sk-container-id-3 div.sk-toggleable__content pre {margin: 0.2em;color: black;border-radius: 0.25em;background-color: #f0f8ff;}#sk-container-id-3 input.sk-toggleable__control:checked~div.sk-toggleable__content {max-height: 200px;max-width: 100%;overflow: auto;}#sk-container-id-3 input.sk-toggleable__control:checked~label.sk-toggleable__label-arrow:before {content: \"▾\";}#sk-container-id-3 div.sk-estimator input.sk-toggleable__control:checked~label.sk-toggleable__label {background-color: #d4ebff;}#sk-container-id-3 div.sk-label input.sk-toggleable__control:checked~label.sk-toggleable__label {background-color: #d4ebff;}#sk-container-id-3 input.sk-hidden--visually {border: 0;clip: rect(1px 1px 1px 1px);clip: rect(1px, 1px, 1px, 1px);height: 1px;margin: -1px;overflow: hidden;padding: 0;position: absolute;width: 1px;}#sk-container-id-3 div.sk-estimator {font-family: monospace;background-color: #f0f8ff;border: 1px dotted black;border-radius: 0.25em;box-sizing: border-box;margin-bottom: 0.5em;}#sk-container-id-3 div.sk-estimator:hover {background-color: #d4ebff;}#sk-container-id-3 div.sk-parallel-item::after {content: \"\";width: 100%;border-bottom: 1px solid gray;flex-grow: 1;}#sk-container-id-3 div.sk-label:hover label.sk-toggleable__label {background-color: #d4ebff;}#sk-container-id-3 div.sk-serial::before {content: \"\";position: absolute;border-left: 1px solid gray;box-sizing: border-box;top: 0;bottom: 0;left: 50%;z-index: 0;}#sk-container-id-3 div.sk-serial {display: flex;flex-direction: column;align-items: center;background-color: white;padding-right: 0.2em;padding-left: 0.2em;position: relative;}#sk-container-id-3 div.sk-item {position: relative;z-index: 1;}#sk-container-id-3 div.sk-parallel {display: flex;align-items: stretch;justify-content: center;background-color: white;position: relative;}#sk-container-id-3 div.sk-item::before, #sk-container-id-3 div.sk-parallel-item::before {content: \"\";position: absolute;border-left: 1px solid gray;box-sizing: border-box;top: 0;bottom: 0;left: 50%;z-index: -1;}#sk-container-id-3 div.sk-parallel-item {display: flex;flex-direction: column;z-index: 1;position: relative;background-color: white;}#sk-container-id-3 div.sk-parallel-item:first-child::after {align-self: flex-end;width: 50%;}#sk-container-id-3 div.sk-parallel-item:last-child::after {align-self: flex-start;width: 50%;}#sk-container-id-3 div.sk-parallel-item:only-child::after {width: 0;}#sk-container-id-3 div.sk-dashed-wrapped {border: 1px dashed gray;margin: 0 0.4em 0.5em 0.4em;box-sizing: border-box;padding-bottom: 0.4em;background-color: white;}#sk-container-id-3 div.sk-label label {font-family: monospace;font-weight: bold;display: inline-block;line-height: 1.2em;}#sk-container-id-3 div.sk-label-container {text-align: center;}#sk-container-id-3 div.sk-container {/* jupyter's `normalize.less` sets `[hidden] { display: none; }` but bootstrap.min.css set `[hidden] { display: none !important; }` so we also need the `!important` here to be able to override the default hidden behavior on the sphinx rendered scikit-learn.org. See: https://github.com/scikit-learn/scikit-learn/issues/21755 */display: inline-block !important;position: relative;}#sk-container-id-3 div.sk-text-repr-fallback {display: none;}</style><div id=\"sk-container-id-3\" class=\"sk-top-container\"><div class=\"sk-text-repr-fallback\"><pre>XGBClassifier(base_score=None, booster=None, callbacks=None,\n",
       "              colsample_bylevel=None, colsample_bynode=None,\n",
       "              colsample_bytree=0.6, device=None, early_stopping_rounds=None,\n",
       "              enable_categorical=False, eval_metric=None, feature_types=None,\n",
       "              gamma=0.0, grow_policy=None, importance_type=None,\n",
       "              interaction_constraints=None, learning_rate=0.01, max_bin=None,\n",
       "              max_cat_threshold=None, max_cat_to_onehot=None,\n",
       "              max_delta_step=None, max_depth=3, max_leaves=None,\n",
       "              min_child_weight=1, missing=nan, monotone_constraints=None,\n",
       "              multi_strategy=None, n_estimators=10000, n_jobs=-1,\n",
       "              num_parallel_tree=None, objective=&#x27;multi:softprob&#x27;, ...)</pre><b>In a Jupyter environment, please rerun this cell to show the HTML representation or trust the notebook. <br />On GitHub, the HTML representation is unable to render, please try loading this page with nbviewer.org.</b></div><div class=\"sk-container\" hidden><div class=\"sk-item\"><div class=\"sk-estimator sk-toggleable\"><input class=\"sk-toggleable__control sk-hidden--visually\" id=\"sk-estimator-id-3\" type=\"checkbox\" checked><label for=\"sk-estimator-id-3\" class=\"sk-toggleable__label sk-toggleable__label-arrow\">XGBClassifier</label><div class=\"sk-toggleable__content\"><pre>XGBClassifier(base_score=None, booster=None, callbacks=None,\n",
       "              colsample_bylevel=None, colsample_bynode=None,\n",
       "              colsample_bytree=0.6, device=None, early_stopping_rounds=None,\n",
       "              enable_categorical=False, eval_metric=None, feature_types=None,\n",
       "              gamma=0.0, grow_policy=None, importance_type=None,\n",
       "              interaction_constraints=None, learning_rate=0.01, max_bin=None,\n",
       "              max_cat_threshold=None, max_cat_to_onehot=None,\n",
       "              max_delta_step=None, max_depth=3, max_leaves=None,\n",
       "              min_child_weight=1, missing=nan, monotone_constraints=None,\n",
       "              multi_strategy=None, n_estimators=10000, n_jobs=-1,\n",
       "              num_parallel_tree=None, objective=&#x27;multi:softprob&#x27;, ...)</pre></div></div></div></div></div>"
      ],
      "text/plain": [
       "XGBClassifier(base_score=None, booster=None, callbacks=None,\n",
       "              colsample_bylevel=None, colsample_bynode=None,\n",
       "              colsample_bytree=0.6, device=None, early_stopping_rounds=None,\n",
       "              enable_categorical=False, eval_metric=None, feature_types=None,\n",
       "              gamma=0.0, grow_policy=None, importance_type=None,\n",
       "              interaction_constraints=None, learning_rate=0.01, max_bin=None,\n",
       "              max_cat_threshold=None, max_cat_to_onehot=None,\n",
       "              max_delta_step=None, max_depth=3, max_leaves=None,\n",
       "              min_child_weight=1, missing=nan, monotone_constraints=None,\n",
       "              multi_strategy=None, n_estimators=10000, n_jobs=-1,\n",
       "              num_parallel_tree=None, objective='multi:softprob', ...)"
      ]
     },
     "execution_count": 76,
     "metadata": {},
     "output_type": "execute_result"
    }
   ],
   "source": [
    "model = XGBClassifier(verbosity=0, learning_rate=0.01, max_depth=3, n_estimators=10000, n_jobs=-1, random_state=1,\n",
    "                    min_child_weight=1, gamma = 0., subsample = 0.6, colsample_bytree = 0.6, scale_pos_weight = 1,\n",
    "                    reg_alpha= 1e-05)\n",
    "\n",
    "model.fit(X_train, y_train, \n",
    "          early_stopping_rounds=10,\n",
    "          eval_set=eval_set, eval_metric='auc', verbose = 1)"
   ]
  },
  {
   "cell_type": "code",
   "execution_count": 77,
   "id": "73c58522",
   "metadata": {},
   "outputs": [
    {
     "data": {
      "text/plain": [
       "array([0.03315283, 0.05421517, 0.064703  , 0.0271177 , 0.06608608,\n",
       "       0.0255305 , 0.        , 0.        , 0.05173093, 0.07487902,\n",
       "       0.03139681, 0.11408068, 0.04419505, 0.04064449, 0.06694315,\n",
       "       0.        , 0.        , 0.        , 0.        , 0.        ,\n",
       "       0.01442127, 0.05626998, 0.        , 0.        , 0.        ,\n",
       "       0.        , 0.        , 0.        , 0.        , 0.        ,\n",
       "       0.        , 0.        , 0.        , 0.        , 0.        ,\n",
       "       0.        , 0.        , 0.        , 0.        , 0.        ,\n",
       "       0.        , 0.        , 0.        , 0.        , 0.        ,\n",
       "       0.        , 0.0382084 , 0.03281348, 0.        , 0.        ,\n",
       "       0.04578095, 0.01596269, 0.        , 0.        , 0.        ,\n",
       "       0.02842354, 0.        , 0.01861742, 0.        , 0.        ,\n",
       "       0.        , 0.        , 0.        , 0.        , 0.        ,\n",
       "       0.        , 0.        , 0.        , 0.        , 0.        ,\n",
       "       0.        , 0.        , 0.        , 0.        , 0.        ,\n",
       "       0.        , 0.        , 0.        , 0.        , 0.        ,\n",
       "       0.        , 0.        , 0.        , 0.        , 0.        ,\n",
       "       0.        , 0.        , 0.        , 0.        , 0.        ,\n",
       "       0.        , 0.        , 0.        , 0.        , 0.        ,\n",
       "       0.        , 0.        , 0.        , 0.        , 0.        ,\n",
       "       0.        , 0.        , 0.01536013, 0.        , 0.03946676,\n",
       "       0.        , 0.        , 0.        , 0.        , 0.        ,\n",
       "       0.        ], dtype=float32)"
      ]
     },
     "execution_count": 77,
     "metadata": {},
     "output_type": "execute_result"
    }
   ],
   "source": [
    "model.feature_importances_"
   ]
  },
  {
   "cell_type": "code",
   "execution_count": 78,
   "id": "1f3e4a1a",
   "metadata": {},
   "outputs": [
    {
     "data": {
      "text/plain": [
       "<Axes: title={'center': 'Feature importance'}, xlabel='F score', ylabel='Features'>"
      ]
     },
     "execution_count": 78,
     "metadata": {},
     "output_type": "execute_result"
    },
    {
     "data": {
      "image/png": "[encoded data removed]",
      "text/plain": [
       "<Figure size 640x480 with 1 Axes>"
      ]
     },
     "metadata": {},
     "output_type": "display_data"
    }
   ],
   "source": [
    "plot_importance(model, max_num_features=20)"
   ]
  },
  {
   "cell_type": "code",
   "execution_count": 79,
   "id": "990f25b0",
   "metadata": {},
   "outputs": [
    {
     "data": {
      "text/plain": [
       "0.7"
      ]
     },
     "execution_count": 79,
     "metadata": {},
     "output_type": "execute_result"
    }
   ],
   "source": [
    "score = model.score(X_train, y_train)  \n",
    "score"
   ]
  },
  {
   "cell_type": "code",
   "execution_count": 80,
   "id": "52edb703",
   "metadata": {},
   "outputs": [
    {
     "data": {
      "text/plain": [
       "15"
      ]
     },
     "execution_count": 80,
     "metadata": {},
     "output_type": "execute_result"
    }
   ],
   "source": [
    "y_pred = model.predict(X_test)\n",
    "predictions = [round(value, 2) for value in y_pred]\n",
    "len(predictions)"
   ]
  },
  {
   "cell_type": "code",
   "execution_count": 81,
   "id": "dccdf407",
   "metadata": {},
   "outputs": [
    {
     "data": {
      "image/png": "[encoded data removed]",
      "text/plain": [
       "<Figure size 640x480 with 2 Axes>"
      ]
     },
     "metadata": {},
     "output_type": "display_data"
    }
   ],
   "source": [
    "sns.heatmap(confusion_matrix(y_test, predictions), \n",
    "            annot=True,\n",
    "            fmt='g')\n",
    "plt.ylabel('Previsão',fontsize=13)\n",
    "plt.xlabel('Acontecido',fontsize=13)\n",
    "plt.show()"
   ]
  },
  {
   "cell_type": "code",
   "execution_count": 82,
   "id": "18842aa8",
   "metadata": {},
   "outputs": [
    {
     "name": "stdout",
     "output_type": "stream",
     "text": [
      "              precision    recall  f1-score   support\n",
      "\n",
      "           0       0.00      0.00      0.00         3\n",
      "           1       0.60      0.86      0.71         7\n",
      "           2       0.50      0.40      0.44         5\n",
      "\n",
      "    accuracy                           0.53        15\n",
      "   macro avg       0.37      0.42      0.38        15\n",
      "weighted avg       0.45      0.53      0.48        15\n",
      "\n"
     ]
    }
   ],
   "source": [
    "print(classification_report(y_test, predictions))"
   ]
  },
  {
   "cell_type": "markdown",
   "id": "00978204",
   "metadata": {},
   "source": [
    "##### Previsões"
   ]
  },
  {
   "cell_type": "code",
   "execution_count": 83,
   "id": "3bf42e47",
   "metadata": {},
   "outputs": [
    {
     "data": {
      "text/plain": [
       "array([2], dtype=int64)"
      ]
     },
     "execution_count": 83,
     "metadata": {},
     "output_type": "execute_result"
    }
   ],
   "source": [
    "model.predict(dataset_previsao_modelo)"
   ]
  }
 ],
 "metadata": {
  "kernelspec": {
   "display_name": "Python 3 (ipykernel)",
   "language": "python",
   "name": "python3"
  },
  "language_info": {
   "codemirror_mode": {
    "name": "ipython",
    "version": 3
   },
   "file_extension": ".py",
   "mimetype": "text/x-python",
   "name": "python",
   "nbconvert_exporter": "python",
   "pygments_lexer": "ipython3",
   "version": "3.11.5"
  }
 },
 "nbformat": 4,
 "nbformat_minor": 5
}
